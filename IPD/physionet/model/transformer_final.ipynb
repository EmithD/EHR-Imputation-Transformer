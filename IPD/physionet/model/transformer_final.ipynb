{
 "cells": [
  {
   "cell_type": "code",
   "execution_count": 1,
   "metadata": {},
   "outputs": [],
   "source": [
    "import os\n",
    "import numpy as np\n",
    "import pandas as pd\n",
    "import torch\n",
    "import torch.nn as nn\n",
    "import torch.optim as optim\n",
    "from torch.utils.data import DataLoader, TensorDataset, random_split\n",
    "from sklearn.model_selection import train_test_split\n",
    "from sklearn.preprocessing import StandardScaler\n",
    "import matplotlib.pyplot as plt\n",
    "from tqdm import tqdm\n",
    "import warnings\n",
    "import math\n",
    "import random\n",
    "from pyampute.ampute import MultivariateAmputation"
   ]
  },
  {
   "cell_type": "code",
   "execution_count": 2,
   "metadata": {},
   "outputs": [],
   "source": [
    "# Set seeds for reproducibility\n",
    "SEED = 42\n",
    "random.seed(SEED)\n",
    "np.random.seed(SEED)\n",
    "torch.manual_seed(SEED)\n",
    "if torch.cuda.is_available():\n",
    "    torch.cuda.manual_seed_all(SEED)"
   ]
  },
  {
   "cell_type": "code",
   "execution_count": 3,
   "metadata": {},
   "outputs": [
    {
     "name": "stdout",
     "output_type": "stream",
     "text": [
      "Using device: cuda\n"
     ]
    }
   ],
   "source": [
    "# Set device\n",
    "device = torch.device('cuda' if torch.cuda.is_available() else 'cpu')\n",
    "print(f\"Using device: {device}\")"
   ]
  },
  {
   "cell_type": "markdown",
   "metadata": {},
   "source": [
    "#### Positional Encoder"
   ]
  },
  {
   "cell_type": "code",
   "execution_count": 4,
   "metadata": {},
   "outputs": [],
   "source": [
    "class PositionalEncoding(nn.Module):\n",
    "    \"\"\"\n",
    "    Fixed positional encoding for features (columns) in the transformer model.\n",
    "    \"\"\"\n",
    "    def __init__(self, d_model, max_features=1000, dropout=0.1):\n",
    "        super().__init__()\n",
    "        self.dropout = nn.Dropout(p=dropout)\n",
    "        \n",
    "        # Create positional encoding matrix\n",
    "        pe = torch.zeros(max_features, d_model)\n",
    "        position = torch.arange(0, max_features, dtype=torch.float).unsqueeze(1)\n",
    "        div_term = torch.exp(torch.arange(0, d_model, 2).float() * (-math.log(10000.0) / d_model))\n",
    "        \n",
    "        pe[:, 0::2] = torch.sin(position * div_term)\n",
    "        pe[:, 1::2] = torch.cos(position * div_term)\n",
    "        self.register_buffer('pe', pe)\n",
    "        \n",
    "    def forward(self, x, column_indices):\n",
    "        \"\"\"\n",
    "        Args:\n",
    "            x: Input tensor [batch_size, num_features, d_model]\n",
    "            column_indices: Tensor with column indices [num_features]\n",
    "        \"\"\"\n",
    "        # Add positional encoding based on column indices\n",
    "        x = x + self.pe[column_indices].unsqueeze(0)\n",
    "        return self.dropout(x)"
   ]
  },
  {
   "cell_type": "markdown",
   "metadata": {},
   "source": [
    "#### Transformer model"
   ]
  },
  {
   "cell_type": "code",
   "execution_count": 5,
   "metadata": {},
   "outputs": [],
   "source": [
    "class TabularTransformer(nn.Module):\n",
    "    \"\"\"\n",
    "    Transformer model for tabular data with improved architecture.\n",
    "    \"\"\"\n",
    "    def __init__(self, \n",
    "                 num_features, \n",
    "                 d_model=64, \n",
    "                 nhead=4, \n",
    "                 num_layers=2, \n",
    "                 dim_feedforward=256, \n",
    "                 dropout=0.1, \n",
    "                 activation='gelu'):\n",
    "        super(TabularTransformer, self).__init__()\n",
    "        \n",
    "        self.d_model = d_model\n",
    "        self.num_features = num_features\n",
    "        \n",
    "        # Feature value embedding\n",
    "        self.value_embedding = nn.Sequential(\n",
    "            nn.Linear(1, d_model // 2),\n",
    "            nn.LayerNorm(d_model // 2),\n",
    "            nn.GELU(),\n",
    "            nn.Linear(d_model // 2, d_model)\n",
    "        )\n",
    "        \n",
    "        # Column embedding (learnable)\n",
    "        self.column_embedding = nn.Embedding(num_features, d_model)\n",
    "        \n",
    "        # Add positional encoding\n",
    "        self.pos_encoder = PositionalEncoding(d_model, dropout=dropout)\n",
    "        \n",
    "        # Layer normalization before transformer\n",
    "        self.norm = nn.LayerNorm(d_model)\n",
    "        \n",
    "        # Transformer encoder\n",
    "        encoder_layers = nn.TransformerEncoderLayer(\n",
    "            d_model=d_model,\n",
    "            nhead=nhead,\n",
    "            dim_feedforward=dim_feedforward,\n",
    "            dropout=dropout,\n",
    "            activation=activation,\n",
    "            batch_first=True,\n",
    "            norm_first=True  # Pre-norm architecture for better training stability\n",
    "        )\n",
    "        self.transformer_encoder = nn.TransformerEncoder(encoder_layers, num_layers)\n",
    "        \n",
    "        # Output layers with skip connection design\n",
    "        self.output_projection = nn.Sequential(\n",
    "            nn.Linear(d_model, d_model // 2),\n",
    "            nn.LayerNorm(d_model // 2),\n",
    "            nn.GELU(),\n",
    "            nn.Dropout(dropout),\n",
    "            nn.Linear(d_model // 2, 1)\n",
    "        )\n",
    "        \n",
    "        # Initialize weights\n",
    "        self._init_weights()\n",
    "        \n",
    "    def _init_weights(self):\n",
    "        \"\"\"Initialize weights using Xavier initialization\"\"\"\n",
    "        for p in self.parameters():\n",
    "            if p.dim() > 1:\n",
    "                nn.init.xavier_uniform_(p)\n",
    "                \n",
    "    def _generate_attention_mask(self, mask):\n",
    "        \"\"\"Generate attention mask for transformer\"\"\"\n",
    "        if mask is None:\n",
    "            return None\n",
    "        # Convert binary mask to attention mask (1 = attend, 0 = ignore)\n",
    "        attn_mask = (1 - mask).bool()\n",
    "        return attn_mask\n",
    "                \n",
    "    def forward(self, x, column_indices, mask=None):\n",
    "        \"\"\"\n",
    "        Forward pass of the transformer model.\n",
    "        \n",
    "        Args:\n",
    "            x: Input tensor [batch_size, num_features]\n",
    "            column_indices: Tensor of column indices [num_features]\n",
    "            mask: Optional mask for missing values [batch_size, num_features]\n",
    "            \n",
    "        Returns:\n",
    "            Tensor of predicted values [batch_size, num_features]\n",
    "        \"\"\"\n",
    "        batch_size = x.size(0)\n",
    "        \n",
    "        # Reshape to [batch_size, num_features, 1] for embedding\n",
    "        x = x.unsqueeze(-1)\n",
    "        \n",
    "        # Embed feature values\n",
    "        x_embedded = self.value_embedding(x)\n",
    "        \n",
    "        # Add column embeddings\n",
    "        col_embed = self.column_embedding(column_indices).unsqueeze(0).expand(batch_size, -1, -1)\n",
    "        x_embedded = x_embedded + col_embed\n",
    "        \n",
    "        # Apply positional encoding\n",
    "        x_embedded = self.pos_encoder(x_embedded, column_indices)\n",
    "        \n",
    "        # Apply layer normalization\n",
    "        x_embedded = self.norm(x_embedded)\n",
    "        \n",
    "        # Generate attention mask if needed\n",
    "        attn_mask = self._generate_attention_mask(mask) if mask is not None else None\n",
    "        \n",
    "        # Pass through transformer encoder\n",
    "        x_encoded = self.transformer_encoder(x_embedded, src_key_padding_mask=attn_mask)\n",
    "        \n",
    "        # Project to output\n",
    "        output = self.output_projection(x_encoded).squeeze(-1)\n",
    "        \n",
    "        return output"
   ]
  },
  {
   "cell_type": "code",
   "execution_count": 6,
   "metadata": {},
   "outputs": [],
   "source": [
    "def create_missing_mask(data, missing_fraction=0.2, mechanism=\"MCAR\"):\n",
    "    \"\"\"\n",
    "    Create a mask for missing values using different mechanisms.\n",
    "    \n",
    "    Args:\n",
    "        data (torch.Tensor): Input data tensor\n",
    "        missing_fraction (float): Fraction of values to mask\n",
    "        mechanism (str): One of \"MCAR\", \"MAR\", or \"MNAR\"\n",
    "        \n",
    "    Returns:\n",
    "        torch.Tensor: Binary mask (1 = missing, 0 = present)\n",
    "    \"\"\"\n",
    "    try:\n",
    "        # MCAR implementation - completely random\n",
    "        if mechanism == \"MCAR\":\n",
    "            mask = torch.rand(data.shape, device=data.device) < missing_fraction\n",
    "            return mask.int()\n",
    "        \n",
    "        # Simulated MAR (missing at random) implementation\n",
    "        # In MAR, missingness depends on observed values but not on missing values\n",
    "        elif mechanism == \"MAR\":\n",
    "            # Create a base random mask\n",
    "            mask = torch.zeros(data.shape, device=data.device, dtype=torch.int)\n",
    "            \n",
    "            # Number of features\n",
    "            num_features = data.shape[1]\n",
    "            \n",
    "            # For each column, make missingness depend on values in other columns\n",
    "            for col_idx in range(num_features):\n",
    "                # Choose a different column as predictor (wrapping around if needed)\n",
    "                predictor_col = (col_idx + 1) % num_features\n",
    "                \n",
    "                # Get predictor values\n",
    "                predictor_values = data[:, predictor_col]\n",
    "                \n",
    "                # Normalize predictor values to [0, 1] range\n",
    "                if predictor_values.max() > predictor_values.min():\n",
    "                    normalized_values = (predictor_values - predictor_values.min()) / (predictor_values.max() - predictor_values.min())\n",
    "                else:\n",
    "                    normalized_values = torch.zeros_like(predictor_values)\n",
    "                \n",
    "                # Higher predictor values = higher chance of missingness\n",
    "                # Add randomness to avoid making it purely deterministic\n",
    "                prob = normalized_values * 0.5 + torch.rand(data.shape[0], device=data.device) * 0.5\n",
    "                mask[:, col_idx] = (prob > (1 - missing_fraction)).int()\n",
    "            \n",
    "            return mask\n",
    "        \n",
    "        # Simulated MNAR (missing not at random) implementation\n",
    "        # In MNAR, missingness depends on the missing values themselves\n",
    "        elif mechanism == \"MNAR\":\n",
    "            # Create a base random mask\n",
    "            mask = torch.zeros(data.shape, device=data.device, dtype=torch.int)\n",
    "            \n",
    "            # For each column, make missingness depend on its own values\n",
    "            for col_idx in range(data.shape[1]):\n",
    "                # Get column values\n",
    "                col_values = data[:, col_idx]\n",
    "                \n",
    "                # Normalize values to [0, 1] range\n",
    "                if col_values.max() > col_values.min():\n",
    "                    normalized_values = (col_values - col_values.min()) / (col_values.max() - col_values.min())\n",
    "                else:\n",
    "                    normalized_values = torch.zeros_like(col_values)\n",
    "                \n",
    "                # For MNAR, higher values have higher probability of being missing\n",
    "                # Add randomness to avoid making it purely deterministic\n",
    "                prob = normalized_values * 0.7 + torch.rand(data.shape[0], device=data.device) * 0.3\n",
    "                mask[:, col_idx] = (prob > (1 - missing_fraction)).int()\n",
    "            \n",
    "            return mask\n",
    "        \n",
    "        # Default to MCAR if unknown mechanism\n",
    "        else:\n",
    "            print(f\"Unknown missing data mechanism: {mechanism}. Defaulting to MCAR.\")\n",
    "            return create_missing_mask(data, missing_fraction, \"MCAR\")\n",
    "            \n",
    "    except Exception as e:\n",
    "        print(f\"Error creating {mechanism} mask: {e}\")\n",
    "        # Fall back to MCAR if there's an error\n",
    "        return create_missing_mask(data, missing_fraction, \"MCAR\")\n"
   ]
  },
  {
   "cell_type": "code",
   "execution_count": 7,
   "metadata": {},
   "outputs": [],
   "source": [
    "def load_and_prepare_data(data_path, test_size=0.2, val_size=0.1, random_state=SEED):\n",
    "    \"\"\"\n",
    "    Load and prepare data for model training.\n",
    "    \n",
    "    Args:\n",
    "        data_path (str): Path to the CSV file\n",
    "        test_size (float): Proportion of data to use for testing\n",
    "        val_size (float): Proportion of training data to use for validation\n",
    "        random_state (int): Random seed for reproducibility\n",
    "        \n",
    "    Returns:\n",
    "        tuple: Preprocessed train, validation, test tensors, scaler, and column indices\n",
    "    \"\"\"\n",
    "    print(f\"Loading data from {data_path}\")\n",
    "    df = pd.read_csv(data_path, index_col=0)\n",
    "    \n",
    "    # Check for missing values\n",
    "    missing_count = df.isna().sum().sum()\n",
    "    if missing_count > 0:\n",
    "        print(f\"Warning: Dataset contains {missing_count} missing values. These will be handled in preprocessing.\")\n",
    "        # Simple imputation for missing values\n",
    "        df = df.fillna(df.mean())\n",
    "    \n",
    "    # Convert to numpy for preprocessing\n",
    "    data = df.to_numpy()\n",
    "    \n",
    "    # Split data into train and test\n",
    "    train_val_data, test_data = train_test_split(\n",
    "        data, \n",
    "        test_size=test_size, \n",
    "        random_state=random_state\n",
    "    )\n",
    "    \n",
    "    # Split train_val into train and validation\n",
    "    val_ratio = val_size / (1 - test_size)\n",
    "    train_data, val_data = train_test_split(\n",
    "        train_val_data,\n",
    "        test_size=val_ratio,\n",
    "        random_state=random_state\n",
    "    )\n",
    "    \n",
    "    # Normalize data\n",
    "    scaler = StandardScaler()\n",
    "    train_data_scaled = scaler.fit_transform(train_data)\n",
    "    val_data_scaled = scaler.transform(val_data)\n",
    "    test_data_scaled = scaler.transform(test_data)\n",
    "    \n",
    "    # Convert to PyTorch tensors\n",
    "    train_tensor = torch.tensor(train_data_scaled, dtype=torch.float32).to(device)\n",
    "    val_tensor = torch.tensor(val_data_scaled, dtype=torch.float32).to(device)\n",
    "    test_tensor = torch.tensor(test_data_scaled, dtype=torch.float32).to(device)\n",
    "    \n",
    "    # Create column indices\n",
    "    column_indices = torch.arange(train_tensor.shape[1]).to(device)\n",
    "    \n",
    "    print(f\"Dataset shape: {df.shape}\")\n",
    "    print(f\"Number of training samples: {train_tensor.shape[0]}\")\n",
    "    print(f\"Number of validation samples: {val_tensor.shape[0]}\")\n",
    "    print(f\"Number of test samples: {test_tensor.shape[0]}\")\n",
    "    print(f\"Number of features: {train_tensor.shape[1]}\")\n",
    "    \n",
    "    return train_tensor, val_tensor, test_tensor, scaler, column_indices"
   ]
  },
  {
   "cell_type": "code",
   "execution_count": 8,
   "metadata": {},
   "outputs": [],
   "source": [
    "def compute_loss(predictions, ground_truth, mask):\n",
    "    \"\"\"\n",
    "    Compute mean squared error loss on masked positions.\n",
    "    \n",
    "    Args:\n",
    "        predictions (torch.Tensor): Predicted values\n",
    "        ground_truth (torch.Tensor): True values\n",
    "        mask (torch.Tensor): Binary mask (1 = missing, 0 = present)\n",
    "        \n",
    "    Returns:\n",
    "        torch.Tensor: Mean squared error loss\n",
    "    \"\"\"\n",
    "    mse_loss = nn.MSELoss(reduction='none')\n",
    "    loss = mse_loss(predictions, ground_truth)\n",
    "    # Normalize by number of masked positions\n",
    "    masked_loss = (loss * mask).sum() / (mask.sum() + 1e-8)\n",
    "    return masked_loss"
   ]
  },
  {
   "cell_type": "code",
   "execution_count": 9,
   "metadata": {},
   "outputs": [],
   "source": [
    "def compute_rmse(predictions, ground_truth, mask):\n",
    "    \"\"\"\n",
    "    Compute Root Mean Squared Error on masked positions.\n",
    "    \n",
    "    Args:\n",
    "        predictions (torch.Tensor): Predicted values\n",
    "        ground_truth (torch.Tensor): True values\n",
    "        mask (torch.Tensor): Binary mask (1 = missing, 0 = present)\n",
    "        \n",
    "    Returns:\n",
    "        float: RMSE value\n",
    "    \"\"\"\n",
    "    masked_preds = predictions[mask == 1]\n",
    "    masked_truth = ground_truth[mask == 1]\n",
    "    \n",
    "    if len(masked_preds) == 0:\n",
    "        return 0.0\n",
    "    \n",
    "    mse = torch.mean((masked_preds - masked_truth) ** 2)\n",
    "    rmse = torch.sqrt(mse)\n",
    "    return rmse.item()"
   ]
  },
  {
   "cell_type": "code",
   "execution_count": 10,
   "metadata": {},
   "outputs": [],
   "source": [
    "def compute_nrmse(predictions, ground_truth, mask):\n",
    "    \"\"\"\n",
    "    Compute Normalized Root Mean Squared Error on masked positions.\n",
    "    \n",
    "    Args:\n",
    "        predictions (torch.Tensor): Predicted values\n",
    "        ground_truth (torch.Tensor): True values\n",
    "        mask (torch.Tensor): Binary mask (1 = missing, 0 = present)\n",
    "        \n",
    "    Returns:\n",
    "        float: NRMSE value\n",
    "    \"\"\"\n",
    "    masked_preds = predictions[mask == 1]\n",
    "    masked_truth = ground_truth[mask == 1]\n",
    "    \n",
    "    if len(masked_preds) == 0:\n",
    "        return 0.0\n",
    "    \n",
    "    mse = torch.mean((masked_preds - masked_truth) ** 2)\n",
    "    rmse = torch.sqrt(mse)\n",
    "    \n",
    "    data_range = ground_truth.max() - ground_truth.min()\n",
    "    nrmse = rmse / data_range\n",
    "    return nrmse.item()"
   ]
  },
  {
   "cell_type": "code",
   "execution_count": 11,
   "metadata": {},
   "outputs": [],
   "source": [
    "def train_epoch(model, dataloader, optimizer, missing_fraction, mechanisms=None, scheduler=None):\n",
    "    \"\"\"\n",
    "    Train for one epoch.\n",
    "    \n",
    "    Args:\n",
    "        model (nn.Module): Model to train\n",
    "        dataloader (DataLoader): Training data loader\n",
    "        optimizer (Optimizer): Optimizer\n",
    "        missing_fraction (float): Fraction of values to mask\n",
    "        mechanisms (list): List of missing data mechanisms to use\n",
    "        scheduler (LRScheduler, optional): Learning rate scheduler\n",
    "        \n",
    "    Returns:\n",
    "        dict: Dictionary with training metrics\n",
    "    \"\"\"\n",
    "    model.train()\n",
    "    total_loss = 0\n",
    "    \n",
    "    if mechanisms is None:\n",
    "        mechanisms = [\"MCAR\"]\n",
    "    \n",
    "    progress_bar = tqdm(dataloader, desc=\"Training\")\n",
    "    for batch in progress_bar:\n",
    "        x = batch[0].to(device)\n",
    "        \n",
    "        # Randomly select a mechanism for this batch\n",
    "        mechanism = random.choice(mechanisms)\n",
    "        \n",
    "        # Create a mask for missing values\n",
    "        mask = create_missing_mask(x, missing_fraction, mechanism)\n",
    "        \n",
    "        # Create input with missing values set to 0\n",
    "        x_masked = x.clone()\n",
    "        x_masked[mask == 1] = 0\n",
    "        \n",
    "        # Forward pass\n",
    "        optimizer.zero_grad()\n",
    "        column_indices = torch.arange(x.shape[1], device=device)\n",
    "        predictions = model(x_masked, column_indices, mask)\n",
    "        \n",
    "        # Compute loss\n",
    "        loss = compute_loss(predictions, x, mask)\n",
    "        \n",
    "        # Backward pass\n",
    "        loss.backward()\n",
    "        optimizer.step()\n",
    "        \n",
    "        if scheduler is not None:\n",
    "            scheduler.step()\n",
    "        \n",
    "        # Update progress bar\n",
    "        total_loss += loss.item()\n",
    "        progress_bar.set_postfix({\"loss\": loss.item()})\n",
    "    \n",
    "    avg_loss = total_loss / len(dataloader)\n",
    "    return {\"loss\": avg_loss}"
   ]
  },
  {
   "cell_type": "code",
   "execution_count": 12,
   "metadata": {},
   "outputs": [],
   "source": [
    "def validate(model, dataloader, missing_fraction, mechanisms=None):\n",
    "    \"\"\"\n",
    "    Validate the model.\n",
    "    \n",
    "    Args:\n",
    "        model (nn.Module): Model to validate\n",
    "        dataloader (DataLoader): Validation data loader\n",
    "        missing_fraction (float): Fraction of values to mask\n",
    "        mechanisms (list): List of missing data mechanisms to use\n",
    "        \n",
    "    Returns:\n",
    "        dict: Dictionary with validation metrics\n",
    "    \"\"\"\n",
    "    model.eval()\n",
    "    total_loss = 0\n",
    "    total_rmse = 0\n",
    "    total_nrmse = 0\n",
    "    \n",
    "    if mechanisms is None:\n",
    "        mechanisms = [\"MCAR\"]\n",
    "    \n",
    "    mechanism_metrics = {m: {\"loss\": 0, \"rmse\": 0, \"nrmse\": 0, \"count\": 0} for m in mechanisms}\n",
    "    \n",
    "    with torch.no_grad():\n",
    "        for batch in dataloader:\n",
    "            x = batch[0].to(device)\n",
    "            \n",
    "            for mechanism in mechanisms:\n",
    "                # Create a mask for missing values\n",
    "                mask = create_missing_mask(x, missing_fraction, mechanism)\n",
    "                \n",
    "                # Create input with missing values set to 0\n",
    "                x_masked = x.clone()\n",
    "                x_masked[mask == 1] = 0\n",
    "                \n",
    "                # Forward pass\n",
    "                column_indices = torch.arange(x.shape[1], device=device)\n",
    "                predictions = model(x_masked, column_indices, mask)\n",
    "                \n",
    "                # Compute metrics\n",
    "                loss = compute_loss(predictions, x, mask)\n",
    "                rmse = compute_rmse(predictions, x, mask)\n",
    "                nrmse = compute_nrmse(predictions, x, mask)\n",
    "                \n",
    "                # Update mechanism-specific metrics\n",
    "                mechanism_metrics[mechanism][\"loss\"] += loss.item()\n",
    "                mechanism_metrics[mechanism][\"rmse\"] += rmse\n",
    "                mechanism_metrics[mechanism][\"nrmse\"] += nrmse\n",
    "                mechanism_metrics[mechanism][\"count\"] += 1\n",
    "                \n",
    "                # Update overall metrics\n",
    "                total_loss += loss.item()\n",
    "                total_rmse += rmse\n",
    "                total_nrmse += nrmse\n",
    "    \n",
    "    # Calculate averages\n",
    "    num_evaluations = len(dataloader) * len(mechanisms)\n",
    "    avg_loss = total_loss / num_evaluations\n",
    "    avg_rmse = total_rmse / num_evaluations\n",
    "    avg_nrmse = total_nrmse / num_evaluations\n",
    "    \n",
    "    # Calculate mechanism-specific averages\n",
    "    for m in mechanisms:\n",
    "        if mechanism_metrics[m][\"count\"] > 0:\n",
    "            mechanism_metrics[m][\"loss\"] /= mechanism_metrics[m][\"count\"]\n",
    "            mechanism_metrics[m][\"rmse\"] /= mechanism_metrics[m][\"count\"]\n",
    "            mechanism_metrics[m][\"nrmse\"] /= mechanism_metrics[m][\"count\"]\n",
    "    \n",
    "    return {\n",
    "        \"loss\": avg_loss,\n",
    "        \"rmse\": avg_rmse,\n",
    "        \"nrmse\": avg_nrmse,\n",
    "        \"mechanisms\": mechanism_metrics\n",
    "    }"
   ]
  },
  {
   "cell_type": "code",
   "execution_count": 13,
   "metadata": {},
   "outputs": [],
   "source": [
    "def train_model(train_data, val_data, column_indices, config):\n",
    "    \"\"\"\n",
    "    Train the model.\n",
    "    \n",
    "    Args:\n",
    "        train_data (torch.Tensor): Training data\n",
    "        val_data (torch.Tensor): Validation data\n",
    "        column_indices (torch.Tensor): Column indices\n",
    "        config (dict): Configuration dictionary\n",
    "        \n",
    "    Returns:\n",
    "        tuple: Trained model and training history\n",
    "    \"\"\"\n",
    "    print(\"Starting model training...\")\n",
    "    \n",
    "    # Create dataloaders\n",
    "    train_dataset = TensorDataset(train_data)\n",
    "    val_dataset = TensorDataset(val_data)\n",
    "    \n",
    "    train_dataloader = DataLoader(\n",
    "        train_dataset, \n",
    "        batch_size=config[\"batch_size\"], \n",
    "        shuffle=True\n",
    "    )\n",
    "    \n",
    "    val_dataloader = DataLoader(\n",
    "        val_dataset, \n",
    "        batch_size=config[\"batch_size\"]\n",
    "    )\n",
    "    \n",
    "    # Create model\n",
    "    num_features = train_data.shape[1]\n",
    "    model = TabularTransformer(\n",
    "        num_features=num_features,\n",
    "        d_model=config[\"d_model\"],\n",
    "        nhead=config[\"num_heads\"],\n",
    "        num_layers=config[\"num_layers\"],\n",
    "        dim_feedforward=config[\"dim_feedforward\"],\n",
    "        dropout=config[\"dropout\"],\n",
    "        activation=config[\"activation\"]\n",
    "    ).to(device)\n",
    "    \n",
    "    # Set up optimizer and scheduler\n",
    "    optimizer = optim.AdamW(\n",
    "        model.parameters(),\n",
    "        lr=config[\"learning_rate\"],\n",
    "        weight_decay=config[\"weight_decay\"]\n",
    "    )\n",
    "    \n",
    "    # Learning rate scheduler\n",
    "    total_steps = len(train_dataloader) * config[\"num_epochs\"]\n",
    "    scheduler = optim.lr_scheduler.CosineAnnealingLR(\n",
    "        optimizer, \n",
    "        T_max=total_steps,\n",
    "        eta_min=config[\"learning_rate\"] * 0.01\n",
    "    )\n",
    "    \n",
    "    # Training history\n",
    "    history = {\n",
    "        \"train_loss\": [],\n",
    "        \"val_loss\": [],\n",
    "        \"val_rmse\": [],\n",
    "        \"val_nrmse\": [],\n",
    "        \"val_mcar_nrmse\": [],\n",
    "        \"val_mar_nrmse\": [],\n",
    "        \"val_mnar_nrmse\": [],\n",
    "        \"lr\": []\n",
    "    }\n",
    "    \n",
    "    # Early stopping\n",
    "    best_val_loss = float('inf')\n",
    "    best_model_weights = None\n",
    "    patience_counter = 0\n",
    "    \n",
    "    mechanisms = [\"MCAR\", \"MAR\", \"MNAR\"]\n",
    "    \n",
    "    # Training loop\n",
    "    for epoch in range(config[\"num_epochs\"]):\n",
    "        print(f\"\\nEpoch {epoch + 1}/{config['num_epochs']}\")\n",
    "        \n",
    "        # Train\n",
    "        train_metrics = train_epoch(\n",
    "            model,\n",
    "            train_dataloader,\n",
    "            optimizer,\n",
    "            config[\"missing_fraction\"],\n",
    "            mechanisms,\n",
    "            scheduler\n",
    "        )\n",
    "        \n",
    "        # Validate\n",
    "        val_metrics = validate(\n",
    "            model,\n",
    "            val_dataloader,\n",
    "            config[\"missing_fraction\"],\n",
    "            mechanisms\n",
    "        )\n",
    "        \n",
    "        # Update history\n",
    "        history[\"train_loss\"].append(train_metrics[\"loss\"])\n",
    "        history[\"val_loss\"].append(val_metrics[\"loss\"])\n",
    "        history[\"val_rmse\"].append(val_metrics[\"rmse\"])\n",
    "        history[\"val_nrmse\"].append(val_metrics[\"nrmse\"])\n",
    "        history[\"val_mcar_nrmse\"].append(val_metrics[\"mechanisms\"][\"MCAR\"][\"nrmse\"])\n",
    "        history[\"val_mar_nrmse\"].append(val_metrics[\"mechanisms\"][\"MAR\"][\"nrmse\"])\n",
    "        history[\"val_mnar_nrmse\"].append(val_metrics[\"mechanisms\"][\"MNAR\"][\"nrmse\"])\n",
    "        history[\"lr\"].append(optimizer.param_groups[0][\"lr\"])\n",
    "        \n",
    "        # Print metrics\n",
    "        print(f\"Train Loss: {train_metrics['loss']:.4f}\")\n",
    "        print(f\"Val Loss: {val_metrics['loss']:.4f}\")\n",
    "        print(f\"Val NRMSE: {val_metrics['nrmse']:.4f}\")\n",
    "        print(f\"Val MCAR NRMSE: {val_metrics['mechanisms']['MCAR']['nrmse']:.4f}\")\n",
    "        print(f\"Val MAR NRMSE: {val_metrics['mechanisms']['MAR']['nrmse']:.4f}\")\n",
    "        print(f\"Val MNAR NRMSE: {val_metrics['mechanisms']['MNAR']['nrmse']:.4f}\")\n",
    "        \n",
    "        # Check for improvement\n",
    "        if val_metrics[\"loss\"] < best_val_loss:\n",
    "            best_val_loss = val_metrics[\"loss\"]\n",
    "            best_model_weights = model.state_dict().copy()\n",
    "            patience_counter = 0\n",
    "            print(f\"New best validation loss: {best_val_loss:.4f}\")\n",
    "        else:\n",
    "            patience_counter += 1\n",
    "            print(f\"No improvement for {patience_counter} epochs\")\n",
    "        \n",
    "        # Early stopping\n",
    "        if patience_counter >= config[\"patience\"]:\n",
    "            print(f\"Early stopping after {epoch + 1} epochs\")\n",
    "            break\n",
    "    \n",
    "    # Load best model\n",
    "    if best_model_weights is not None:\n",
    "        model.load_state_dict(best_model_weights)\n",
    "    \n",
    "    return model, history\n"
   ]
  },
  {
   "cell_type": "code",
   "execution_count": 14,
   "metadata": {},
   "outputs": [],
   "source": [
    "def plot_training_history(history, save_path=None):\n",
    "    \"\"\"\n",
    "    Plot training history.\n",
    "    \n",
    "    Args:\n",
    "        history (dict): Training history\n",
    "        save_path (str, optional): Path to save the plot\n",
    "    \"\"\"\n",
    "    plt.figure(figsize=(20, 12))\n",
    "    \n",
    "    # Plot loss\n",
    "    plt.subplot(2, 2, 1)\n",
    "    plt.plot(history[\"train_loss\"], label=\"Train Loss\")\n",
    "    plt.plot(history[\"val_loss\"], label=\"Val Loss\")\n",
    "    plt.title(\"Loss\")\n",
    "    plt.xlabel(\"Epoch\")\n",
    "    plt.ylabel(\"Loss\")\n",
    "    plt.legend()\n",
    "    \n",
    "    # Plot NRMSE\n",
    "    plt.subplot(2, 2, 2)\n",
    "    plt.plot(history[\"val_nrmse\"], label=\"Overall NRMSE\")\n",
    "    plt.plot(history[\"val_mcar_nrmse\"], label=\"MCAR NRMSE\")\n",
    "    plt.plot(history[\"val_mar_nrmse\"], label=\"MAR NRMSE\")\n",
    "    plt.plot(history[\"val_mnar_nrmse\"], label=\"MNAR NRMSE\")\n",
    "    plt.title(\"NRMSE by Mechanism\")\n",
    "    plt.xlabel(\"Epoch\")\n",
    "    plt.ylabel(\"NRMSE\")\n",
    "    plt.legend()\n",
    "    \n",
    "    # Plot learning rate\n",
    "    plt.subplot(2, 2, 3)\n",
    "    plt.plot(history[\"lr\"])\n",
    "    plt.title(\"Learning Rate\")\n",
    "    plt.xlabel(\"Epoch\")\n",
    "    plt.ylabel(\"Learning Rate\")\n",
    "    \n",
    "    if save_path:\n",
    "        plt.savefig(save_path)\n",
    "    \n",
    "    plt.tight_layout()\n",
    "    plt.show()"
   ]
  },
  {
   "cell_type": "code",
   "execution_count": 15,
   "metadata": {},
   "outputs": [],
   "source": [
    "def save_model(model, scaler, config, save_dir=\"models\"):\n",
    "    \"\"\"\n",
    "    Save model and related objects.\n",
    "    \n",
    "    Args:\n",
    "        model (nn.Module): Trained model\n",
    "        scaler (StandardScaler): Data scaler\n",
    "        config (dict): Model configuration\n",
    "        save_dir (str): Directory to save model\n",
    "    \"\"\"\n",
    "    # Create directory if it doesn't exist\n",
    "    os.makedirs(save_dir, exist_ok=True)\n",
    "    \n",
    "    # Save model\n",
    "    model_path = os.path.join(save_dir, \"tabular_transformer.pth\")\n",
    "    torch.save({\n",
    "        \"model_state_dict\": model.state_dict(),\n",
    "        \"config\": config\n",
    "    }, model_path)\n",
    "    \n",
    "    # Save scaler\n",
    "    scaler_path = os.path.join(save_dir, \"scaler.pkl\")\n",
    "    import pickle\n",
    "    with open(scaler_path, \"wb\") as f:\n",
    "        pickle.dump(scaler, f)\n",
    "    \n",
    "    print(f\"Model saved to {model_path}\")\n",
    "    print(f\"Scaler saved to {scaler_path}\")"
   ]
  },
  {
   "cell_type": "code",
   "execution_count": 16,
   "metadata": {},
   "outputs": [
    {
     "name": "stdout",
     "output_type": "stream",
     "text": [
      "Loading data from ../data/finalEDA/physionet_39_features_only.csv\n",
      "Warning: Dataset contains 2978 missing values. These will be handled in preprocessing.\n",
      "Dataset shape: (2008, 38)\n",
      "Number of training samples: 1405\n",
      "Number of validation samples: 201\n",
      "Number of test samples: 402\n",
      "Number of features: 38\n",
      "Starting model training...\n"
     ]
    },
    {
     "name": "stderr",
     "output_type": "stream",
     "text": [
      "c:\\Users\\wh1sper\\AppData\\Local\\Programs\\Python\\Python313\\Lib\\site-packages\\torch\\nn\\modules\\transformer.py:385: UserWarning: enable_nested_tensor is True, but self.use_nested_tensor is False because encoder_layer.norm_first was True\n",
      "  warnings.warn(\n"
     ]
    },
    {
     "name": "stdout",
     "output_type": "stream",
     "text": [
      "\n",
      "Epoch 1/100\n"
     ]
    },
    {
     "name": "stderr",
     "output_type": "stream",
     "text": [
      "Training: 100%|██████████| 22/22 [00:00<00:00, 35.38it/s, loss=2.12]\n"
     ]
    },
    {
     "name": "stdout",
     "output_type": "stream",
     "text": [
      "Train Loss: 2.7242\n",
      "Val Loss: nan\n",
      "Val NRMSE: 0.1096\n",
      "Val MCAR NRMSE: 0.0687\n",
      "Val MAR NRMSE: 0.1048\n",
      "Val MNAR NRMSE: 0.1554\n",
      "No improvement for 1 epochs\n",
      "\n",
      "Epoch 2/100\n"
     ]
    },
    {
     "name": "stderr",
     "output_type": "stream",
     "text": [
      "Training: 100%|██████████| 22/22 [00:00<00:00, 46.08it/s, loss=2.78]\n"
     ]
    },
    {
     "name": "stdout",
     "output_type": "stream",
     "text": [
      "Train Loss: 2.2429\n",
      "Val Loss: nan\n",
      "Val NRMSE: 0.0958\n",
      "Val MCAR NRMSE: 0.0807\n",
      "Val MAR NRMSE: 0.0881\n",
      "Val MNAR NRMSE: 0.1186\n",
      "No improvement for 2 epochs\n",
      "\n",
      "Epoch 3/100\n"
     ]
    },
    {
     "name": "stderr",
     "output_type": "stream",
     "text": [
      "Training: 100%|██████████| 22/22 [00:00<00:00, 47.66it/s, loss=1.97] \n"
     ]
    },
    {
     "name": "stdout",
     "output_type": "stream",
     "text": [
      "Train Loss: 2.2554\n",
      "Val Loss: nan\n",
      "Val NRMSE: 0.1028\n",
      "Val MCAR NRMSE: 0.1067\n",
      "Val MAR NRMSE: 0.0936\n",
      "Val MNAR NRMSE: 0.1081\n",
      "No improvement for 3 epochs\n",
      "\n",
      "Epoch 4/100\n"
     ]
    },
    {
     "name": "stderr",
     "output_type": "stream",
     "text": [
      "Training: 100%|██████████| 22/22 [00:00<00:00, 47.07it/s, loss=1.63] \n"
     ]
    },
    {
     "name": "stdout",
     "output_type": "stream",
     "text": [
      "Train Loss: 1.8819\n",
      "Val Loss: nan\n",
      "Val NRMSE: 0.0969\n",
      "Val MCAR NRMSE: 0.0874\n",
      "Val MAR NRMSE: 0.0834\n",
      "Val MNAR NRMSE: 0.1198\n",
      "No improvement for 4 epochs\n",
      "\n",
      "Epoch 5/100\n"
     ]
    },
    {
     "name": "stderr",
     "output_type": "stream",
     "text": [
      "Training: 100%|██████████| 22/22 [00:00<00:00, 42.02it/s, loss=1.18]\n"
     ]
    },
    {
     "name": "stdout",
     "output_type": "stream",
     "text": [
      "Train Loss: 2.0291\n",
      "Val Loss: 1.9351\n",
      "Val NRMSE: 0.0988\n",
      "Val MCAR NRMSE: 0.0924\n",
      "Val MAR NRMSE: 0.0890\n",
      "Val MNAR NRMSE: 0.1150\n",
      "New best validation loss: 1.9351\n",
      "\n",
      "Epoch 6/100\n"
     ]
    },
    {
     "name": "stderr",
     "output_type": "stream",
     "text": [
      "Training: 100%|██████████| 22/22 [00:00<00:00, 40.32it/s, loss=1.45] \n"
     ]
    },
    {
     "name": "stdout",
     "output_type": "stream",
     "text": [
      "Train Loss: 2.0494\n",
      "Val Loss: nan\n",
      "Val NRMSE: 0.0990\n",
      "Val MCAR NRMSE: 0.0973\n",
      "Val MAR NRMSE: 0.0899\n",
      "Val MNAR NRMSE: 0.1099\n",
      "No improvement for 1 epochs\n",
      "\n",
      "Epoch 7/100\n"
     ]
    },
    {
     "name": "stderr",
     "output_type": "stream",
     "text": [
      "Training: 100%|██████████| 22/22 [00:00<00:00, 43.58it/s, loss=6.3]  \n"
     ]
    },
    {
     "name": "stdout",
     "output_type": "stream",
     "text": [
      "Train Loss: 1.9361\n",
      "Val Loss: nan\n",
      "Val NRMSE: 0.0977\n",
      "Val MCAR NRMSE: 0.0747\n",
      "Val MAR NRMSE: 0.0927\n",
      "Val MNAR NRMSE: 0.1258\n",
      "No improvement for 2 epochs\n",
      "\n",
      "Epoch 8/100\n"
     ]
    },
    {
     "name": "stderr",
     "output_type": "stream",
     "text": [
      "Training: 100%|██████████| 22/22 [00:00<00:00, 42.03it/s, loss=1.01]\n"
     ]
    },
    {
     "name": "stdout",
     "output_type": "stream",
     "text": [
      "Train Loss: 2.0849\n",
      "Val Loss: nan\n",
      "Val NRMSE: 0.0985\n",
      "Val MCAR NRMSE: 0.0926\n",
      "Val MAR NRMSE: 0.0883\n",
      "Val MNAR NRMSE: 0.1145\n",
      "No improvement for 3 epochs\n",
      "\n",
      "Epoch 9/100\n"
     ]
    },
    {
     "name": "stderr",
     "output_type": "stream",
     "text": [
      "Training: 100%|██████████| 22/22 [00:00<00:00, 45.89it/s, loss=3.96] \n"
     ]
    },
    {
     "name": "stdout",
     "output_type": "stream",
     "text": [
      "Train Loss: 2.0089\n",
      "Val Loss: nan\n",
      "Val NRMSE: 0.0994\n",
      "Val MCAR NRMSE: 0.0964\n",
      "Val MAR NRMSE: 0.0912\n",
      "Val MNAR NRMSE: 0.1107\n",
      "No improvement for 4 epochs\n",
      "\n",
      "Epoch 10/100\n"
     ]
    },
    {
     "name": "stderr",
     "output_type": "stream",
     "text": [
      "Training: 100%|██████████| 22/22 [00:00<00:00, 50.57it/s, loss=1.3]  \n"
     ]
    },
    {
     "name": "stdout",
     "output_type": "stream",
     "text": [
      "Train Loss: 1.7688\n",
      "Val Loss: nan\n",
      "Val NRMSE: 0.0972\n",
      "Val MCAR NRMSE: 0.1011\n",
      "Val MAR NRMSE: 0.0857\n",
      "Val MNAR NRMSE: 0.1049\n",
      "No improvement for 5 epochs\n",
      "\n",
      "Epoch 11/100\n"
     ]
    },
    {
     "name": "stderr",
     "output_type": "stream",
     "text": [
      "Training: 100%|██████████| 22/22 [00:00<00:00, 45.03it/s, loss=0.803]\n"
     ]
    },
    {
     "name": "stdout",
     "output_type": "stream",
     "text": [
      "Train Loss: 2.0809\n",
      "Val Loss: nan\n",
      "Val NRMSE: 0.1024\n",
      "Val MCAR NRMSE: 0.0850\n",
      "Val MAR NRMSE: 0.0973\n",
      "Val MNAR NRMSE: 0.1249\n",
      "No improvement for 6 epochs\n",
      "\n",
      "Epoch 12/100\n"
     ]
    },
    {
     "name": "stderr",
     "output_type": "stream",
     "text": [
      "Training: 100%|██████████| 22/22 [00:00<00:00, 52.19it/s, loss=1.22] \n"
     ]
    },
    {
     "name": "stdout",
     "output_type": "stream",
     "text": [
      "Train Loss: 1.5475\n",
      "Val Loss: nan\n",
      "Val NRMSE: 0.0958\n",
      "Val MCAR NRMSE: 0.0885\n",
      "Val MAR NRMSE: 0.0891\n",
      "Val MNAR NRMSE: 0.1098\n",
      "No improvement for 7 epochs\n",
      "\n",
      "Epoch 13/100\n"
     ]
    },
    {
     "name": "stderr",
     "output_type": "stream",
     "text": [
      "Training: 100%|██████████| 22/22 [00:00<00:00, 44.14it/s, loss=1.26] \n"
     ]
    },
    {
     "name": "stdout",
     "output_type": "stream",
     "text": [
      "Train Loss: 2.0249\n",
      "Val Loss: nan\n",
      "Val NRMSE: 0.1000\n",
      "Val MCAR NRMSE: 0.1055\n",
      "Val MAR NRMSE: 0.0925\n",
      "Val MNAR NRMSE: 0.1019\n",
      "No improvement for 8 epochs\n",
      "\n",
      "Epoch 14/100\n"
     ]
    },
    {
     "name": "stderr",
     "output_type": "stream",
     "text": [
      "Training: 100%|██████████| 22/22 [00:00<00:00, 52.47it/s, loss=0.761]\n"
     ]
    },
    {
     "name": "stdout",
     "output_type": "stream",
     "text": [
      "Train Loss: 1.9908\n",
      "Val Loss: nan\n",
      "Val NRMSE: 0.0972\n",
      "Val MCAR NRMSE: 0.0829\n",
      "Val MAR NRMSE: 0.0894\n",
      "Val MNAR NRMSE: 0.1194\n",
      "No improvement for 9 epochs\n",
      "\n",
      "Epoch 15/100\n"
     ]
    },
    {
     "name": "stderr",
     "output_type": "stream",
     "text": [
      "Training: 100%|██████████| 22/22 [00:00<00:00, 43.51it/s, loss=5.73] \n"
     ]
    },
    {
     "name": "stdout",
     "output_type": "stream",
     "text": [
      "Train Loss: 1.6845\n",
      "Val Loss: nan\n",
      "Val NRMSE: 0.0964\n",
      "Val MCAR NRMSE: 0.0907\n",
      "Val MAR NRMSE: 0.0864\n",
      "Val MNAR NRMSE: 0.1122\n",
      "No improvement for 10 epochs\n",
      "\n",
      "Epoch 16/100\n"
     ]
    },
    {
     "name": "stderr",
     "output_type": "stream",
     "text": [
      "Training: 100%|██████████| 22/22 [00:00<00:00, 51.02it/s, loss=1.2]  \n"
     ]
    },
    {
     "name": "stdout",
     "output_type": "stream",
     "text": [
      "Train Loss: 1.7436\n",
      "Val Loss: nan\n",
      "Val NRMSE: 0.0977\n",
      "Val MCAR NRMSE: 0.0922\n",
      "Val MAR NRMSE: 0.0956\n",
      "Val MNAR NRMSE: 0.1053\n",
      "No improvement for 11 epochs\n",
      "\n",
      "Epoch 17/100\n"
     ]
    },
    {
     "name": "stderr",
     "output_type": "stream",
     "text": [
      "Training: 100%|██████████| 22/22 [00:00<00:00, 47.99it/s, loss=4.41] \n"
     ]
    },
    {
     "name": "stdout",
     "output_type": "stream",
     "text": [
      "Train Loss: 2.0613\n",
      "Val Loss: nan\n",
      "Val NRMSE: 0.1066\n",
      "Val MCAR NRMSE: 0.1140\n",
      "Val MAR NRMSE: 0.1042\n",
      "Val MNAR NRMSE: 0.1017\n",
      "No improvement for 12 epochs\n",
      "\n",
      "Epoch 18/100\n"
     ]
    },
    {
     "name": "stderr",
     "output_type": "stream",
     "text": [
      "Training: 100%|██████████| 22/22 [00:00<00:00, 42.72it/s, loss=1.51] \n"
     ]
    },
    {
     "name": "stdout",
     "output_type": "stream",
     "text": [
      "Train Loss: 1.4525\n",
      "Val Loss: nan\n",
      "Val NRMSE: 0.0923\n",
      "Val MCAR NRMSE: 0.0785\n",
      "Val MAR NRMSE: 0.0804\n",
      "Val MNAR NRMSE: 0.1178\n",
      "No improvement for 13 epochs\n",
      "\n",
      "Epoch 19/100\n"
     ]
    },
    {
     "name": "stderr",
     "output_type": "stream",
     "text": [
      "Training: 100%|██████████| 22/22 [00:00<00:00, 45.03it/s, loss=1.63]\n"
     ]
    },
    {
     "name": "stdout",
     "output_type": "stream",
     "text": [
      "Train Loss: 1.9326\n",
      "Val Loss: 1.7797\n",
      "Val NRMSE: 0.1026\n",
      "Val MCAR NRMSE: 0.1111\n",
      "Val MAR NRMSE: 0.0947\n",
      "Val MNAR NRMSE: 0.1020\n",
      "New best validation loss: 1.7797\n",
      "\n",
      "Epoch 20/100\n"
     ]
    },
    {
     "name": "stderr",
     "output_type": "stream",
     "text": [
      "Training: 100%|██████████| 22/22 [00:00<00:00, 46.01it/s, loss=1.27] \n"
     ]
    },
    {
     "name": "stdout",
     "output_type": "stream",
     "text": [
      "Train Loss: 1.8518\n",
      "Val Loss: 1.9591\n",
      "Val NRMSE: 0.0979\n",
      "Val MCAR NRMSE: 0.0988\n",
      "Val MAR NRMSE: 0.0924\n",
      "Val MNAR NRMSE: 0.1024\n",
      "No improvement for 1 epochs\n",
      "\n",
      "Epoch 21/100\n"
     ]
    },
    {
     "name": "stderr",
     "output_type": "stream",
     "text": [
      "Training: 100%|██████████| 22/22 [00:00<00:00, 47.63it/s, loss=2.86] \n"
     ]
    },
    {
     "name": "stdout",
     "output_type": "stream",
     "text": [
      "Train Loss: 2.0754\n",
      "Val Loss: nan\n",
      "Val NRMSE: 0.1026\n",
      "Val MCAR NRMSE: 0.1033\n",
      "Val MAR NRMSE: 0.0999\n",
      "Val MNAR NRMSE: 0.1045\n",
      "No improvement for 2 epochs\n",
      "\n",
      "Epoch 22/100\n"
     ]
    },
    {
     "name": "stderr",
     "output_type": "stream",
     "text": [
      "Training: 100%|██████████| 22/22 [00:00<00:00, 43.68it/s, loss=1.71] \n"
     ]
    },
    {
     "name": "stdout",
     "output_type": "stream",
     "text": [
      "Train Loss: 1.6278\n",
      "Val Loss: 1.9263\n",
      "Val NRMSE: 0.0979\n",
      "Val MCAR NRMSE: 0.0952\n",
      "Val MAR NRMSE: 0.0900\n",
      "Val MNAR NRMSE: 0.1084\n",
      "No improvement for 3 epochs\n",
      "\n",
      "Epoch 23/100\n"
     ]
    },
    {
     "name": "stderr",
     "output_type": "stream",
     "text": [
      "Training: 100%|██████████| 22/22 [00:00<00:00, 54.13it/s, loss=1.18] \n"
     ]
    },
    {
     "name": "stdout",
     "output_type": "stream",
     "text": [
      "Train Loss: 1.2870\n",
      "Val Loss: nan\n",
      "Val NRMSE: 0.0932\n",
      "Val MCAR NRMSE: 0.0772\n",
      "Val MAR NRMSE: 0.0858\n",
      "Val MNAR NRMSE: 0.1167\n",
      "No improvement for 4 epochs\n",
      "\n",
      "Epoch 24/100\n"
     ]
    },
    {
     "name": "stderr",
     "output_type": "stream",
     "text": [
      "Training: 100%|██████████| 22/22 [00:00<00:00, 45.83it/s, loss=1.15] \n"
     ]
    },
    {
     "name": "stdout",
     "output_type": "stream",
     "text": [
      "Train Loss: 1.6783\n",
      "Val Loss: nan\n",
      "Val NRMSE: 0.0930\n",
      "Val MCAR NRMSE: 0.0878\n",
      "Val MAR NRMSE: 0.0877\n",
      "Val MNAR NRMSE: 0.1034\n",
      "No improvement for 5 epochs\n",
      "\n",
      "Epoch 25/100\n"
     ]
    },
    {
     "name": "stderr",
     "output_type": "stream",
     "text": [
      "Training: 100%|██████████| 22/22 [00:00<00:00, 42.34it/s, loss=1.09] \n"
     ]
    },
    {
     "name": "stdout",
     "output_type": "stream",
     "text": [
      "Train Loss: 1.5446\n",
      "Val Loss: nan\n",
      "Val NRMSE: 0.0929\n",
      "Val MCAR NRMSE: 0.0803\n",
      "Val MAR NRMSE: 0.0890\n",
      "Val MNAR NRMSE: 0.1095\n",
      "No improvement for 6 epochs\n",
      "\n",
      "Epoch 26/100\n"
     ]
    },
    {
     "name": "stderr",
     "output_type": "stream",
     "text": [
      "Training: 100%|██████████| 22/22 [00:00<00:00, 41.18it/s, loss=0.809]\n"
     ]
    },
    {
     "name": "stdout",
     "output_type": "stream",
     "text": [
      "Train Loss: 2.2409\n",
      "Val Loss: 1.5421\n",
      "Val NRMSE: 0.0935\n",
      "Val MCAR NRMSE: 0.0849\n",
      "Val MAR NRMSE: 0.0843\n",
      "Val MNAR NRMSE: 0.1113\n",
      "New best validation loss: 1.5421\n",
      "\n",
      "Epoch 27/100\n"
     ]
    },
    {
     "name": "stderr",
     "output_type": "stream",
     "text": [
      "Training: 100%|██████████| 22/22 [00:00<00:00, 40.68it/s, loss=1.44] \n"
     ]
    },
    {
     "name": "stdout",
     "output_type": "stream",
     "text": [
      "Train Loss: 1.8626\n",
      "Val Loss: nan\n",
      "Val NRMSE: 0.0993\n",
      "Val MCAR NRMSE: 0.0992\n",
      "Val MAR NRMSE: 0.0973\n",
      "Val MNAR NRMSE: 0.1015\n",
      "No improvement for 1 epochs\n",
      "\n",
      "Epoch 28/100\n"
     ]
    },
    {
     "name": "stderr",
     "output_type": "stream",
     "text": [
      "Training: 100%|██████████| 22/22 [00:00<00:00, 37.93it/s, loss=1.4]  \n"
     ]
    },
    {
     "name": "stdout",
     "output_type": "stream",
     "text": [
      "Train Loss: 1.9465\n",
      "Val Loss: nan\n",
      "Val NRMSE: 0.0967\n",
      "Val MCAR NRMSE: 0.1021\n",
      "Val MAR NRMSE: 0.0811\n",
      "Val MNAR NRMSE: 0.1068\n",
      "No improvement for 2 epochs\n",
      "\n",
      "Epoch 29/100\n"
     ]
    },
    {
     "name": "stderr",
     "output_type": "stream",
     "text": [
      "Training: 100%|██████████| 22/22 [00:00<00:00, 50.01it/s, loss=3.92] \n"
     ]
    },
    {
     "name": "stdout",
     "output_type": "stream",
     "text": [
      "Train Loss: 1.4708\n",
      "Val Loss: nan\n",
      "Val NRMSE: 0.0907\n",
      "Val MCAR NRMSE: 0.0868\n",
      "Val MAR NRMSE: 0.0775\n",
      "Val MNAR NRMSE: 0.1077\n",
      "No improvement for 3 epochs\n",
      "\n",
      "Epoch 30/100\n"
     ]
    },
    {
     "name": "stderr",
     "output_type": "stream",
     "text": [
      "Training: 100%|██████████| 22/22 [00:00<00:00, 50.83it/s, loss=0.913]\n"
     ]
    },
    {
     "name": "stdout",
     "output_type": "stream",
     "text": [
      "Train Loss: 1.6656\n",
      "Val Loss: 1.5786\n",
      "Val NRMSE: 0.0932\n",
      "Val MCAR NRMSE: 0.0826\n",
      "Val MAR NRMSE: 0.0883\n",
      "Val MNAR NRMSE: 0.1088\n",
      "No improvement for 4 epochs\n",
      "\n",
      "Epoch 31/100\n"
     ]
    },
    {
     "name": "stderr",
     "output_type": "stream",
     "text": [
      "Training: 100%|██████████| 22/22 [00:00<00:00, 38.26it/s, loss=1.05] \n"
     ]
    },
    {
     "name": "stdout",
     "output_type": "stream",
     "text": [
      "Train Loss: 1.9159\n",
      "Val Loss: nan\n",
      "Val NRMSE: 0.0961\n",
      "Val MCAR NRMSE: 0.0920\n",
      "Val MAR NRMSE: 0.0923\n",
      "Val MNAR NRMSE: 0.1042\n",
      "No improvement for 5 epochs\n",
      "\n",
      "Epoch 32/100\n"
     ]
    },
    {
     "name": "stderr",
     "output_type": "stream",
     "text": [
      "Training: 100%|██████████| 22/22 [00:00<00:00, 49.01it/s, loss=1.13] \n"
     ]
    },
    {
     "name": "stdout",
     "output_type": "stream",
     "text": [
      "Train Loss: 1.6891\n",
      "Val Loss: nan\n",
      "Val NRMSE: 0.0962\n",
      "Val MCAR NRMSE: 0.0989\n",
      "Val MAR NRMSE: 0.0813\n",
      "Val MNAR NRMSE: 0.1084\n",
      "No improvement for 6 epochs\n",
      "\n",
      "Epoch 33/100\n"
     ]
    },
    {
     "name": "stderr",
     "output_type": "stream",
     "text": [
      "Training: 100%|██████████| 22/22 [00:00<00:00, 41.65it/s, loss=1.11] \n"
     ]
    },
    {
     "name": "stdout",
     "output_type": "stream",
     "text": [
      "Train Loss: 1.5714\n",
      "Val Loss: 1.5378\n",
      "Val NRMSE: 0.0965\n",
      "Val MCAR NRMSE: 0.1021\n",
      "Val MAR NRMSE: 0.0870\n",
      "Val MNAR NRMSE: 0.1004\n",
      "New best validation loss: 1.5378\n",
      "\n",
      "Epoch 34/100\n"
     ]
    },
    {
     "name": "stderr",
     "output_type": "stream",
     "text": [
      "Training: 100%|██████████| 22/22 [00:00<00:00, 41.76it/s, loss=5.4]  \n"
     ]
    },
    {
     "name": "stdout",
     "output_type": "stream",
     "text": [
      "Train Loss: 1.7567\n",
      "Val Loss: nan\n",
      "Val NRMSE: 0.0919\n",
      "Val MCAR NRMSE: 0.0851\n",
      "Val MAR NRMSE: 0.0883\n",
      "Val MNAR NRMSE: 0.1024\n",
      "No improvement for 1 epochs\n",
      "\n",
      "Epoch 35/100\n"
     ]
    },
    {
     "name": "stderr",
     "output_type": "stream",
     "text": [
      "Training: 100%|██████████| 22/22 [00:00<00:00, 44.47it/s, loss=0.964]\n"
     ]
    },
    {
     "name": "stdout",
     "output_type": "stream",
     "text": [
      "Train Loss: 1.5228\n",
      "Val Loss: nan\n",
      "Val NRMSE: 0.0937\n",
      "Val MCAR NRMSE: 0.0771\n",
      "Val MAR NRMSE: 0.0877\n",
      "Val MNAR NRMSE: 0.1165\n",
      "No improvement for 2 epochs\n",
      "\n",
      "Epoch 36/100\n"
     ]
    },
    {
     "name": "stderr",
     "output_type": "stream",
     "text": [
      "Training: 100%|██████████| 22/22 [00:00<00:00, 54.33it/s, loss=0.956]\n"
     ]
    },
    {
     "name": "stdout",
     "output_type": "stream",
     "text": [
      "Train Loss: 1.8822\n",
      "Val Loss: nan\n",
      "Val NRMSE: 0.0988\n",
      "Val MCAR NRMSE: 0.0863\n",
      "Val MAR NRMSE: 0.0996\n",
      "Val MNAR NRMSE: 0.1106\n",
      "No improvement for 3 epochs\n",
      "\n",
      "Epoch 37/100\n"
     ]
    },
    {
     "name": "stderr",
     "output_type": "stream",
     "text": [
      "Training: 100%|██████████| 22/22 [00:00<00:00, 45.54it/s, loss=1.29] \n"
     ]
    },
    {
     "name": "stdout",
     "output_type": "stream",
     "text": [
      "Train Loss: 1.5958\n",
      "Val Loss: nan\n",
      "Val NRMSE: 0.0964\n",
      "Val MCAR NRMSE: 0.0948\n",
      "Val MAR NRMSE: 0.0911\n",
      "Val MNAR NRMSE: 0.1034\n",
      "No improvement for 4 epochs\n",
      "\n",
      "Epoch 38/100\n"
     ]
    },
    {
     "name": "stderr",
     "output_type": "stream",
     "text": [
      "Training: 100%|██████████| 22/22 [00:00<00:00, 43.50it/s, loss=7.46] \n"
     ]
    },
    {
     "name": "stdout",
     "output_type": "stream",
     "text": [
      "Train Loss: 1.5578\n",
      "Val Loss: 1.6119\n",
      "Val NRMSE: 0.0997\n",
      "Val MCAR NRMSE: 0.0857\n",
      "Val MAR NRMSE: 0.1048\n",
      "Val MNAR NRMSE: 0.1085\n",
      "No improvement for 5 epochs\n",
      "\n",
      "Epoch 39/100\n"
     ]
    },
    {
     "name": "stderr",
     "output_type": "stream",
     "text": [
      "Training: 100%|██████████| 22/22 [00:00<00:00, 41.61it/s, loss=7.76] \n"
     ]
    },
    {
     "name": "stdout",
     "output_type": "stream",
     "text": [
      "Train Loss: 1.7813\n",
      "Val Loss: nan\n",
      "Val NRMSE: 0.0993\n",
      "Val MCAR NRMSE: 0.0802\n",
      "Val MAR NRMSE: 0.1140\n",
      "Val MNAR NRMSE: 0.1037\n",
      "No improvement for 6 epochs\n",
      "\n",
      "Epoch 40/100\n"
     ]
    },
    {
     "name": "stderr",
     "output_type": "stream",
     "text": [
      "Training: 100%|██████████| 22/22 [00:00<00:00, 41.45it/s, loss=2.98] \n"
     ]
    },
    {
     "name": "stdout",
     "output_type": "stream",
     "text": [
      "Train Loss: 1.4887\n",
      "Val Loss: nan\n",
      "Val NRMSE: 0.0938\n",
      "Val MCAR NRMSE: 0.0880\n",
      "Val MAR NRMSE: 0.0875\n",
      "Val MNAR NRMSE: 0.1059\n",
      "No improvement for 7 epochs\n",
      "\n",
      "Epoch 41/100\n"
     ]
    },
    {
     "name": "stderr",
     "output_type": "stream",
     "text": [
      "Training: 100%|██████████| 22/22 [00:00<00:00, 44.80it/s, loss=3.07]\n"
     ]
    },
    {
     "name": "stdout",
     "output_type": "stream",
     "text": [
      "Train Loss: 1.4710\n",
      "Val Loss: nan\n",
      "Val NRMSE: 0.0942\n",
      "Val MCAR NRMSE: 0.0930\n",
      "Val MAR NRMSE: 0.0886\n",
      "Val MNAR NRMSE: 0.1011\n",
      "No improvement for 8 epochs\n",
      "\n",
      "Epoch 42/100\n"
     ]
    },
    {
     "name": "stderr",
     "output_type": "stream",
     "text": [
      "Training: 100%|██████████| 22/22 [00:00<00:00, 38.23it/s, loss=3.41] \n"
     ]
    },
    {
     "name": "stdout",
     "output_type": "stream",
     "text": [
      "Train Loss: 1.5628\n",
      "Val Loss: nan\n",
      "Val NRMSE: 0.0943\n",
      "Val MCAR NRMSE: 0.0833\n",
      "Val MAR NRMSE: 0.0978\n",
      "Val MNAR NRMSE: 0.1018\n",
      "No improvement for 9 epochs\n",
      "\n",
      "Epoch 43/100\n"
     ]
    },
    {
     "name": "stderr",
     "output_type": "stream",
     "text": [
      "Training: 100%|██████████| 22/22 [00:00<00:00, 43.77it/s, loss=1.37] \n"
     ]
    },
    {
     "name": "stdout",
     "output_type": "stream",
     "text": [
      "Train Loss: 1.7782\n",
      "Val Loss: nan\n",
      "Val NRMSE: 0.0934\n",
      "Val MCAR NRMSE: 0.0796\n",
      "Val MAR NRMSE: 0.0895\n",
      "Val MNAR NRMSE: 0.1110\n",
      "No improvement for 10 epochs\n",
      "\n",
      "Epoch 44/100\n"
     ]
    },
    {
     "name": "stderr",
     "output_type": "stream",
     "text": [
      "Training: 100%|██████████| 22/22 [00:00<00:00, 43.63it/s, loss=1.4]  \n"
     ]
    },
    {
     "name": "stdout",
     "output_type": "stream",
     "text": [
      "Train Loss: 1.9208\n",
      "Val Loss: nan\n",
      "Val NRMSE: 0.0944\n",
      "Val MCAR NRMSE: 0.0752\n",
      "Val MAR NRMSE: 0.0978\n",
      "Val MNAR NRMSE: 0.1101\n",
      "No improvement for 11 epochs\n",
      "\n",
      "Epoch 45/100\n"
     ]
    },
    {
     "name": "stderr",
     "output_type": "stream",
     "text": [
      "Training: 100%|██████████| 22/22 [00:00<00:00, 47.47it/s, loss=6.15] \n"
     ]
    },
    {
     "name": "stdout",
     "output_type": "stream",
     "text": [
      "Train Loss: 1.6766\n",
      "Val Loss: nan\n",
      "Val NRMSE: 0.0933\n",
      "Val MCAR NRMSE: 0.0828\n",
      "Val MAR NRMSE: 0.0900\n",
      "Val MNAR NRMSE: 0.1072\n",
      "No improvement for 12 epochs\n",
      "\n",
      "Epoch 46/100\n"
     ]
    },
    {
     "name": "stderr",
     "output_type": "stream",
     "text": [
      "Training: 100%|██████████| 22/22 [00:00<00:00, 45.23it/s, loss=0.813]\n"
     ]
    },
    {
     "name": "stdout",
     "output_type": "stream",
     "text": [
      "Train Loss: 1.6006\n",
      "Val Loss: nan\n",
      "Val NRMSE: 0.0983\n",
      "Val MCAR NRMSE: 0.0849\n",
      "Val MAR NRMSE: 0.0978\n",
      "Val MNAR NRMSE: 0.1123\n",
      "No improvement for 13 epochs\n",
      "\n",
      "Epoch 47/100\n"
     ]
    },
    {
     "name": "stderr",
     "output_type": "stream",
     "text": [
      "Training: 100%|██████████| 22/22 [00:00<00:00, 52.58it/s, loss=0.848]\n"
     ]
    },
    {
     "name": "stdout",
     "output_type": "stream",
     "text": [
      "Train Loss: 1.7042\n",
      "Val Loss: nan\n",
      "Val NRMSE: 0.0931\n",
      "Val MCAR NRMSE: 0.0765\n",
      "Val MAR NRMSE: 0.0948\n",
      "Val MNAR NRMSE: 0.1079\n",
      "No improvement for 14 epochs\n",
      "\n",
      "Epoch 48/100\n"
     ]
    },
    {
     "name": "stderr",
     "output_type": "stream",
     "text": [
      "Training: 100%|██████████| 22/22 [00:00<00:00, 40.72it/s, loss=1.33] \n"
     ]
    },
    {
     "name": "stdout",
     "output_type": "stream",
     "text": [
      "Train Loss: 1.8228\n",
      "Val Loss: nan\n",
      "Val NRMSE: 0.0982\n",
      "Val MCAR NRMSE: 0.0930\n",
      "Val MAR NRMSE: 0.1031\n",
      "Val MNAR NRMSE: 0.0985\n",
      "No improvement for 15 epochs\n",
      "Early stopping after 48 epochs\n"
     ]
    },
    {
     "ename": "FileNotFoundError",
     "evalue": "[Errno 2] No such file or directory: 'models\\\\training_history.png'",
     "output_type": "error",
     "traceback": [
      "\u001b[1;31m---------------------------------------------------------------------------\u001b[0m",
      "\u001b[1;31mFileNotFoundError\u001b[0m                         Traceback (most recent call last)",
      "Cell \u001b[1;32mIn[16], line 41\u001b[0m\n\u001b[0;32m     38\u001b[0m model, history \u001b[38;5;241m=\u001b[39m train_model(train_data, val_data, column_indices, config)\n\u001b[0;32m     40\u001b[0m \u001b[38;5;66;03m# Plot training history\u001b[39;00m\n\u001b[1;32m---> 41\u001b[0m \u001b[43mplot_training_history\u001b[49m\u001b[43m(\u001b[49m\u001b[43mhistory\u001b[49m\u001b[43m,\u001b[49m\u001b[43m \u001b[49m\u001b[43mos\u001b[49m\u001b[38;5;241;43m.\u001b[39;49m\u001b[43mpath\u001b[49m\u001b[38;5;241;43m.\u001b[39;49m\u001b[43mjoin\u001b[49m\u001b[43m(\u001b[49m\u001b[43mconfig\u001b[49m\u001b[43m[\u001b[49m\u001b[38;5;124;43m\"\u001b[39;49m\u001b[38;5;124;43msave_dir\u001b[39;49m\u001b[38;5;124;43m\"\u001b[39;49m\u001b[43m]\u001b[49m\u001b[43m,\u001b[49m\u001b[43m \u001b[49m\u001b[38;5;124;43m\"\u001b[39;49m\u001b[38;5;124;43mtraining_history.png\u001b[39;49m\u001b[38;5;124;43m\"\u001b[39;49m\u001b[43m)\u001b[49m\u001b[43m)\u001b[49m\n\u001b[0;32m     43\u001b[0m \u001b[38;5;66;03m# Save model\u001b[39;00m\n\u001b[0;32m     44\u001b[0m save_model(model, scaler, config, config[\u001b[38;5;124m\"\u001b[39m\u001b[38;5;124msave_dir\u001b[39m\u001b[38;5;124m\"\u001b[39m])\n",
      "Cell \u001b[1;32mIn[14], line 39\u001b[0m, in \u001b[0;36mplot_training_history\u001b[1;34m(history, save_path)\u001b[0m\n\u001b[0;32m     36\u001b[0m plt\u001b[38;5;241m.\u001b[39mylabel(\u001b[38;5;124m\"\u001b[39m\u001b[38;5;124mLearning Rate\u001b[39m\u001b[38;5;124m\"\u001b[39m)\n\u001b[0;32m     38\u001b[0m \u001b[38;5;28;01mif\u001b[39;00m save_path:\n\u001b[1;32m---> 39\u001b[0m     \u001b[43mplt\u001b[49m\u001b[38;5;241;43m.\u001b[39;49m\u001b[43msavefig\u001b[49m\u001b[43m(\u001b[49m\u001b[43msave_path\u001b[49m\u001b[43m)\u001b[49m\n\u001b[0;32m     41\u001b[0m plt\u001b[38;5;241m.\u001b[39mtight_layout()\n\u001b[0;32m     42\u001b[0m plt\u001b[38;5;241m.\u001b[39mshow()\n",
      "File \u001b[1;32mc:\\Users\\wh1sper\\AppData\\Local\\Programs\\Python\\Python313\\Lib\\site-packages\\matplotlib\\pyplot.py:1243\u001b[0m, in \u001b[0;36msavefig\u001b[1;34m(*args, **kwargs)\u001b[0m\n\u001b[0;32m   1240\u001b[0m fig \u001b[38;5;241m=\u001b[39m gcf()\n\u001b[0;32m   1241\u001b[0m \u001b[38;5;66;03m# savefig default implementation has no return, so mypy is unhappy\u001b[39;00m\n\u001b[0;32m   1242\u001b[0m \u001b[38;5;66;03m# presumably this is here because subclasses can return?\u001b[39;00m\n\u001b[1;32m-> 1243\u001b[0m res \u001b[38;5;241m=\u001b[39m \u001b[43mfig\u001b[49m\u001b[38;5;241;43m.\u001b[39;49m\u001b[43msavefig\u001b[49m\u001b[43m(\u001b[49m\u001b[38;5;241;43m*\u001b[39;49m\u001b[43margs\u001b[49m\u001b[43m,\u001b[49m\u001b[43m \u001b[49m\u001b[38;5;241;43m*\u001b[39;49m\u001b[38;5;241;43m*\u001b[39;49m\u001b[43mkwargs\u001b[49m\u001b[43m)\u001b[49m  \u001b[38;5;66;03m# type: ignore[func-returns-value]\u001b[39;00m\n\u001b[0;32m   1244\u001b[0m fig\u001b[38;5;241m.\u001b[39mcanvas\u001b[38;5;241m.\u001b[39mdraw_idle()  \u001b[38;5;66;03m# Need this if 'transparent=True', to reset colors.\u001b[39;00m\n\u001b[0;32m   1245\u001b[0m \u001b[38;5;28;01mreturn\u001b[39;00m res\n",
      "File \u001b[1;32mc:\\Users\\wh1sper\\AppData\\Local\\Programs\\Python\\Python313\\Lib\\site-packages\\matplotlib\\figure.py:3490\u001b[0m, in \u001b[0;36mFigure.savefig\u001b[1;34m(self, fname, transparent, **kwargs)\u001b[0m\n\u001b[0;32m   3488\u001b[0m     \u001b[38;5;28;01mfor\u001b[39;00m ax \u001b[38;5;129;01min\u001b[39;00m \u001b[38;5;28mself\u001b[39m\u001b[38;5;241m.\u001b[39maxes:\n\u001b[0;32m   3489\u001b[0m         _recursively_make_axes_transparent(stack, ax)\n\u001b[1;32m-> 3490\u001b[0m \u001b[38;5;28;43mself\u001b[39;49m\u001b[38;5;241;43m.\u001b[39;49m\u001b[43mcanvas\u001b[49m\u001b[38;5;241;43m.\u001b[39;49m\u001b[43mprint_figure\u001b[49m\u001b[43m(\u001b[49m\u001b[43mfname\u001b[49m\u001b[43m,\u001b[49m\u001b[43m \u001b[49m\u001b[38;5;241;43m*\u001b[39;49m\u001b[38;5;241;43m*\u001b[39;49m\u001b[43mkwargs\u001b[49m\u001b[43m)\u001b[49m\n",
      "File \u001b[1;32mc:\\Users\\wh1sper\\AppData\\Local\\Programs\\Python\\Python313\\Lib\\site-packages\\matplotlib\\backend_bases.py:2184\u001b[0m, in \u001b[0;36mFigureCanvasBase.print_figure\u001b[1;34m(self, filename, dpi, facecolor, edgecolor, orientation, format, bbox_inches, pad_inches, bbox_extra_artists, backend, **kwargs)\u001b[0m\n\u001b[0;32m   2180\u001b[0m \u001b[38;5;28;01mtry\u001b[39;00m:\n\u001b[0;32m   2181\u001b[0m     \u001b[38;5;66;03m# _get_renderer may change the figure dpi (as vector formats\u001b[39;00m\n\u001b[0;32m   2182\u001b[0m     \u001b[38;5;66;03m# force the figure dpi to 72), so we need to set it again here.\u001b[39;00m\n\u001b[0;32m   2183\u001b[0m     \u001b[38;5;28;01mwith\u001b[39;00m cbook\u001b[38;5;241m.\u001b[39m_setattr_cm(\u001b[38;5;28mself\u001b[39m\u001b[38;5;241m.\u001b[39mfigure, dpi\u001b[38;5;241m=\u001b[39mdpi):\n\u001b[1;32m-> 2184\u001b[0m         result \u001b[38;5;241m=\u001b[39m \u001b[43mprint_method\u001b[49m\u001b[43m(\u001b[49m\n\u001b[0;32m   2185\u001b[0m \u001b[43m            \u001b[49m\u001b[43mfilename\u001b[49m\u001b[43m,\u001b[49m\n\u001b[0;32m   2186\u001b[0m \u001b[43m            \u001b[49m\u001b[43mfacecolor\u001b[49m\u001b[38;5;241;43m=\u001b[39;49m\u001b[43mfacecolor\u001b[49m\u001b[43m,\u001b[49m\n\u001b[0;32m   2187\u001b[0m \u001b[43m            \u001b[49m\u001b[43medgecolor\u001b[49m\u001b[38;5;241;43m=\u001b[39;49m\u001b[43medgecolor\u001b[49m\u001b[43m,\u001b[49m\n\u001b[0;32m   2188\u001b[0m \u001b[43m            \u001b[49m\u001b[43morientation\u001b[49m\u001b[38;5;241;43m=\u001b[39;49m\u001b[43morientation\u001b[49m\u001b[43m,\u001b[49m\n\u001b[0;32m   2189\u001b[0m \u001b[43m            \u001b[49m\u001b[43mbbox_inches_restore\u001b[49m\u001b[38;5;241;43m=\u001b[39;49m\u001b[43m_bbox_inches_restore\u001b[49m\u001b[43m,\u001b[49m\n\u001b[0;32m   2190\u001b[0m \u001b[43m            \u001b[49m\u001b[38;5;241;43m*\u001b[39;49m\u001b[38;5;241;43m*\u001b[39;49m\u001b[43mkwargs\u001b[49m\u001b[43m)\u001b[49m\n\u001b[0;32m   2191\u001b[0m \u001b[38;5;28;01mfinally\u001b[39;00m:\n\u001b[0;32m   2192\u001b[0m     \u001b[38;5;28;01mif\u001b[39;00m bbox_inches \u001b[38;5;129;01mand\u001b[39;00m restore_bbox:\n",
      "File \u001b[1;32mc:\\Users\\wh1sper\\AppData\\Local\\Programs\\Python\\Python313\\Lib\\site-packages\\matplotlib\\backend_bases.py:2040\u001b[0m, in \u001b[0;36mFigureCanvasBase._switch_canvas_and_return_print_method.<locals>.<lambda>\u001b[1;34m(*args, **kwargs)\u001b[0m\n\u001b[0;32m   2036\u001b[0m     optional_kws \u001b[38;5;241m=\u001b[39m {  \u001b[38;5;66;03m# Passed by print_figure for other renderers.\u001b[39;00m\n\u001b[0;32m   2037\u001b[0m         \u001b[38;5;124m\"\u001b[39m\u001b[38;5;124mdpi\u001b[39m\u001b[38;5;124m\"\u001b[39m, \u001b[38;5;124m\"\u001b[39m\u001b[38;5;124mfacecolor\u001b[39m\u001b[38;5;124m\"\u001b[39m, \u001b[38;5;124m\"\u001b[39m\u001b[38;5;124medgecolor\u001b[39m\u001b[38;5;124m\"\u001b[39m, \u001b[38;5;124m\"\u001b[39m\u001b[38;5;124morientation\u001b[39m\u001b[38;5;124m\"\u001b[39m,\n\u001b[0;32m   2038\u001b[0m         \u001b[38;5;124m\"\u001b[39m\u001b[38;5;124mbbox_inches_restore\u001b[39m\u001b[38;5;124m\"\u001b[39m}\n\u001b[0;32m   2039\u001b[0m     skip \u001b[38;5;241m=\u001b[39m optional_kws \u001b[38;5;241m-\u001b[39m {\u001b[38;5;241m*\u001b[39minspect\u001b[38;5;241m.\u001b[39msignature(meth)\u001b[38;5;241m.\u001b[39mparameters}\n\u001b[1;32m-> 2040\u001b[0m     print_method \u001b[38;5;241m=\u001b[39m functools\u001b[38;5;241m.\u001b[39mwraps(meth)(\u001b[38;5;28;01mlambda\u001b[39;00m \u001b[38;5;241m*\u001b[39margs, \u001b[38;5;241m*\u001b[39m\u001b[38;5;241m*\u001b[39mkwargs: \u001b[43mmeth\u001b[49m\u001b[43m(\u001b[49m\n\u001b[0;32m   2041\u001b[0m \u001b[43m        \u001b[49m\u001b[38;5;241;43m*\u001b[39;49m\u001b[43margs\u001b[49m\u001b[43m,\u001b[49m\u001b[43m \u001b[49m\u001b[38;5;241;43m*\u001b[39;49m\u001b[38;5;241;43m*\u001b[39;49m\u001b[43m{\u001b[49m\u001b[43mk\u001b[49m\u001b[43m:\u001b[49m\u001b[43m \u001b[49m\u001b[43mv\u001b[49m\u001b[43m \u001b[49m\u001b[38;5;28;43;01mfor\u001b[39;49;00m\u001b[43m \u001b[49m\u001b[43mk\u001b[49m\u001b[43m,\u001b[49m\u001b[43m \u001b[49m\u001b[43mv\u001b[49m\u001b[43m \u001b[49m\u001b[38;5;129;43;01min\u001b[39;49;00m\u001b[43m \u001b[49m\u001b[43mkwargs\u001b[49m\u001b[38;5;241;43m.\u001b[39;49m\u001b[43mitems\u001b[49m\u001b[43m(\u001b[49m\u001b[43m)\u001b[49m\u001b[43m \u001b[49m\u001b[38;5;28;43;01mif\u001b[39;49;00m\u001b[43m \u001b[49m\u001b[43mk\u001b[49m\u001b[43m \u001b[49m\u001b[38;5;129;43;01mnot\u001b[39;49;00m\u001b[43m \u001b[49m\u001b[38;5;129;43;01min\u001b[39;49;00m\u001b[43m \u001b[49m\u001b[43mskip\u001b[49m\u001b[43m}\u001b[49m\u001b[43m)\u001b[49m)\n\u001b[0;32m   2042\u001b[0m \u001b[38;5;28;01melse\u001b[39;00m:  \u001b[38;5;66;03m# Let third-parties do as they see fit.\u001b[39;00m\n\u001b[0;32m   2043\u001b[0m     print_method \u001b[38;5;241m=\u001b[39m meth\n",
      "File \u001b[1;32mc:\\Users\\wh1sper\\AppData\\Local\\Programs\\Python\\Python313\\Lib\\site-packages\\matplotlib\\backends\\backend_agg.py:481\u001b[0m, in \u001b[0;36mFigureCanvasAgg.print_png\u001b[1;34m(self, filename_or_obj, metadata, pil_kwargs)\u001b[0m\n\u001b[0;32m    434\u001b[0m \u001b[38;5;28;01mdef\u001b[39;00m\u001b[38;5;250m \u001b[39m\u001b[38;5;21mprint_png\u001b[39m(\u001b[38;5;28mself\u001b[39m, filename_or_obj, \u001b[38;5;241m*\u001b[39m, metadata\u001b[38;5;241m=\u001b[39m\u001b[38;5;28;01mNone\u001b[39;00m, pil_kwargs\u001b[38;5;241m=\u001b[39m\u001b[38;5;28;01mNone\u001b[39;00m):\n\u001b[0;32m    435\u001b[0m \u001b[38;5;250m    \u001b[39m\u001b[38;5;124;03m\"\"\"\u001b[39;00m\n\u001b[0;32m    436\u001b[0m \u001b[38;5;124;03m    Write the figure to a PNG file.\u001b[39;00m\n\u001b[0;32m    437\u001b[0m \n\u001b[1;32m   (...)\u001b[0m\n\u001b[0;32m    479\u001b[0m \u001b[38;5;124;03m        *metadata*, including the default 'Software' key.\u001b[39;00m\n\u001b[0;32m    480\u001b[0m \u001b[38;5;124;03m    \"\"\"\u001b[39;00m\n\u001b[1;32m--> 481\u001b[0m     \u001b[38;5;28;43mself\u001b[39;49m\u001b[38;5;241;43m.\u001b[39;49m\u001b[43m_print_pil\u001b[49m\u001b[43m(\u001b[49m\u001b[43mfilename_or_obj\u001b[49m\u001b[43m,\u001b[49m\u001b[43m \u001b[49m\u001b[38;5;124;43m\"\u001b[39;49m\u001b[38;5;124;43mpng\u001b[39;49m\u001b[38;5;124;43m\"\u001b[39;49m\u001b[43m,\u001b[49m\u001b[43m \u001b[49m\u001b[43mpil_kwargs\u001b[49m\u001b[43m,\u001b[49m\u001b[43m \u001b[49m\u001b[43mmetadata\u001b[49m\u001b[43m)\u001b[49m\n",
      "File \u001b[1;32mc:\\Users\\wh1sper\\AppData\\Local\\Programs\\Python\\Python313\\Lib\\site-packages\\matplotlib\\backends\\backend_agg.py:430\u001b[0m, in \u001b[0;36mFigureCanvasAgg._print_pil\u001b[1;34m(self, filename_or_obj, fmt, pil_kwargs, metadata)\u001b[0m\n\u001b[0;32m    425\u001b[0m \u001b[38;5;250m\u001b[39m\u001b[38;5;124;03m\"\"\"\u001b[39;00m\n\u001b[0;32m    426\u001b[0m \u001b[38;5;124;03mDraw the canvas, then save it using `.image.imsave` (to which\u001b[39;00m\n\u001b[0;32m    427\u001b[0m \u001b[38;5;124;03m*pil_kwargs* and *metadata* are forwarded).\u001b[39;00m\n\u001b[0;32m    428\u001b[0m \u001b[38;5;124;03m\"\"\"\u001b[39;00m\n\u001b[0;32m    429\u001b[0m FigureCanvasAgg\u001b[38;5;241m.\u001b[39mdraw(\u001b[38;5;28mself\u001b[39m)\n\u001b[1;32m--> 430\u001b[0m \u001b[43mmpl\u001b[49m\u001b[38;5;241;43m.\u001b[39;49m\u001b[43mimage\u001b[49m\u001b[38;5;241;43m.\u001b[39;49m\u001b[43mimsave\u001b[49m\u001b[43m(\u001b[49m\n\u001b[0;32m    431\u001b[0m \u001b[43m    \u001b[49m\u001b[43mfilename_or_obj\u001b[49m\u001b[43m,\u001b[49m\u001b[43m \u001b[49m\u001b[38;5;28;43mself\u001b[39;49m\u001b[38;5;241;43m.\u001b[39;49m\u001b[43mbuffer_rgba\u001b[49m\u001b[43m(\u001b[49m\u001b[43m)\u001b[49m\u001b[43m,\u001b[49m\u001b[43m \u001b[49m\u001b[38;5;28;43mformat\u001b[39;49m\u001b[38;5;241;43m=\u001b[39;49m\u001b[43mfmt\u001b[49m\u001b[43m,\u001b[49m\u001b[43m \u001b[49m\u001b[43morigin\u001b[49m\u001b[38;5;241;43m=\u001b[39;49m\u001b[38;5;124;43m\"\u001b[39;49m\u001b[38;5;124;43mupper\u001b[39;49m\u001b[38;5;124;43m\"\u001b[39;49m\u001b[43m,\u001b[49m\n\u001b[0;32m    432\u001b[0m \u001b[43m    \u001b[49m\u001b[43mdpi\u001b[49m\u001b[38;5;241;43m=\u001b[39;49m\u001b[38;5;28;43mself\u001b[39;49m\u001b[38;5;241;43m.\u001b[39;49m\u001b[43mfigure\u001b[49m\u001b[38;5;241;43m.\u001b[39;49m\u001b[43mdpi\u001b[49m\u001b[43m,\u001b[49m\u001b[43m \u001b[49m\u001b[43mmetadata\u001b[49m\u001b[38;5;241;43m=\u001b[39;49m\u001b[43mmetadata\u001b[49m\u001b[43m,\u001b[49m\u001b[43m \u001b[49m\u001b[43mpil_kwargs\u001b[49m\u001b[38;5;241;43m=\u001b[39;49m\u001b[43mpil_kwargs\u001b[49m\u001b[43m)\u001b[49m\n",
      "File \u001b[1;32mc:\\Users\\wh1sper\\AppData\\Local\\Programs\\Python\\Python313\\Lib\\site-packages\\matplotlib\\image.py:1644\u001b[0m, in \u001b[0;36mimsave\u001b[1;34m(fname, arr, vmin, vmax, cmap, format, origin, dpi, metadata, pil_kwargs)\u001b[0m\n\u001b[0;32m   1642\u001b[0m pil_kwargs\u001b[38;5;241m.\u001b[39msetdefault(\u001b[38;5;124m\"\u001b[39m\u001b[38;5;124mformat\u001b[39m\u001b[38;5;124m\"\u001b[39m, \u001b[38;5;28mformat\u001b[39m)\n\u001b[0;32m   1643\u001b[0m pil_kwargs\u001b[38;5;241m.\u001b[39msetdefault(\u001b[38;5;124m\"\u001b[39m\u001b[38;5;124mdpi\u001b[39m\u001b[38;5;124m\"\u001b[39m, (dpi, dpi))\n\u001b[1;32m-> 1644\u001b[0m \u001b[43mimage\u001b[49m\u001b[38;5;241;43m.\u001b[39;49m\u001b[43msave\u001b[49m\u001b[43m(\u001b[49m\u001b[43mfname\u001b[49m\u001b[43m,\u001b[49m\u001b[43m \u001b[49m\u001b[38;5;241;43m*\u001b[39;49m\u001b[38;5;241;43m*\u001b[39;49m\u001b[43mpil_kwargs\u001b[49m\u001b[43m)\u001b[49m\n",
      "File \u001b[1;32mc:\\Users\\wh1sper\\AppData\\Local\\Programs\\Python\\Python313\\Lib\\site-packages\\PIL\\Image.py:2591\u001b[0m, in \u001b[0;36mImage.save\u001b[1;34m(self, fp, format, **params)\u001b[0m\n\u001b[0;32m   2589\u001b[0m         fp \u001b[38;5;241m=\u001b[39m builtins\u001b[38;5;241m.\u001b[39mopen(filename, \u001b[38;5;124m\"\u001b[39m\u001b[38;5;124mr+b\u001b[39m\u001b[38;5;124m\"\u001b[39m)\n\u001b[0;32m   2590\u001b[0m     \u001b[38;5;28;01melse\u001b[39;00m:\n\u001b[1;32m-> 2591\u001b[0m         fp \u001b[38;5;241m=\u001b[39m \u001b[43mbuiltins\u001b[49m\u001b[38;5;241;43m.\u001b[39;49m\u001b[43mopen\u001b[49m\u001b[43m(\u001b[49m\u001b[43mfilename\u001b[49m\u001b[43m,\u001b[49m\u001b[43m \u001b[49m\u001b[38;5;124;43m\"\u001b[39;49m\u001b[38;5;124;43mw+b\u001b[39;49m\u001b[38;5;124;43m\"\u001b[39;49m\u001b[43m)\u001b[49m\n\u001b[0;32m   2592\u001b[0m \u001b[38;5;28;01melse\u001b[39;00m:\n\u001b[0;32m   2593\u001b[0m     fp \u001b[38;5;241m=\u001b[39m cast(IO[\u001b[38;5;28mbytes\u001b[39m], fp)\n",
      "\u001b[1;31mFileNotFoundError\u001b[0m: [Errno 2] No such file or directory: 'models\\\\training_history.png'"
     ]
    },
    {
     "data": {
      "image/png": "[encoded data removed]",
      "text/plain": [
       "<Figure size 2000x1200 with 3 Axes>"
      ]
     },
     "metadata": {},
     "output_type": "display_data"
    }
   ],
   "source": [
    "# Main execution code\n",
    "if __name__ == \"__main__\":\n",
    "    # Configuration\n",
    "    config = {\n",
    "        # Data parameters\n",
    "        \"data_path\": \"../data/finalEDA/physionet_39_features_only.csv\",\n",
    "        \"test_size\": 0.2,\n",
    "        \"val_size\": 0.1,\n",
    "        \n",
    "        # Model parameters\n",
    "        \"d_model\": 128,\n",
    "        \"num_heads\": 8,\n",
    "        \"num_layers\": 3,\n",
    "        \"dim_feedforward\": 512,\n",
    "        \"dropout\": 0.2,\n",
    "        \"activation\": \"gelu\",\n",
    "        \n",
    "        # Training parameters\n",
    "        \"batch_size\": 64,\n",
    "        \"learning_rate\": 0.0005,\n",
    "        \"weight_decay\": 0.01,\n",
    "        \"num_epochs\": 100,\n",
    "        \"patience\": 15,\n",
    "        \"missing_fraction\": 0.3,\n",
    "        \n",
    "        # Save parameters\n",
    "        \"save_dir\": \"models\"\n",
    "    }\n",
    "    \n",
    "    # Load and prepare data\n",
    "    train_data, val_data, test_data, scaler, column_indices = load_and_prepare_data(\n",
    "        config[\"data_path\"],\n",
    "        config[\"test_size\"],\n",
    "        config[\"val_size\"]\n",
    "    )\n",
    "    \n",
    "    # Train model\n",
    "    model, history = train_model(train_data, val_data, column_indices, config)\n",
    "    \n",
    "    # Plot training history\n",
    "    plot_training_history(history, os.path.join(config[\"save_dir\"], \"training_history.png\"))\n",
    "    \n",
    "    # Save model\n",
    "    save_model(model, scaler, config, config[\"save_dir\"])\n",
    "    \n",
    "    print(\"Training complete!\")"
   ]
  },
  {
   "cell_type": "code",
   "execution_count": null,
   "metadata": {},
   "outputs": [],
   "source": []
  }
 ],
 "metadata": {
  "kernelspec": {
   "display_name": "Python 3",
   "language": "python",
   "name": "python3"
  },
  "language_info": {
   "codemirror_mode": {
    "name": "ipython",
    "version": 3
   },
   "file_extension": ".py",
   "mimetype": "text/x-python",
   "name": "python",
   "nbconvert_exporter": "python",
   "pygments_lexer": "ipython3",
   "version": "3.13.2"
  }
 },
 "nbformat": 4,
 "nbformat_minor": 2
}
