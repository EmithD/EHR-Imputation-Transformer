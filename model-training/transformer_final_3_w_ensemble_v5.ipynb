{
 "cells": [
  {
   "cell_type": "code",
   "execution_count": 1,
   "metadata": {},
   "outputs": [],
   "source": [
    "import numpy as np\n",
    "import pandas as pd\n",
    "import torch\n",
    "import torch.nn as nn\n",
    "import torch.optim as optim\n",
    "from torch.utils.data import DataLoader, TensorDataset\n",
    "from sklearn.model_selection import train_test_split, KFold\n",
    "from sklearn.preprocessing import StandardScaler\n",
    "import matplotlib.pyplot as plt\n",
    "from tqdm import tqdm\n",
    "import random\n",
    "from datetime import datetime\n",
    "import pickle\n",
    "import os\n",
    "import json\n",
    "import seaborn as sns\n",
    "import math\n",
    "import torch.nn.functional as F\n"
   ]
  },
  {
   "cell_type": "code",
   "execution_count": 2,
   "metadata": {},
   "outputs": [],
   "source": [
    "SEED = 42\n",
    "random.seed(SEED)\n",
    "np.random.seed(SEED)\n",
    "torch.manual_seed(SEED)\n",
    "if torch.cuda.is_available():\n",
    "    torch.cuda.manual_seed_all(SEED)"
   ]
  },
  {
   "cell_type": "code",
   "execution_count": 3,
   "metadata": {},
   "outputs": [
    {
     "name": "stdout",
     "output_type": "stream",
     "text": [
      "Using device: cuda\n"
     ]
    }
   ],
   "source": [
    "device = torch.device('cuda' if torch.cuda.is_available() else 'cpu')\n",
    "print(f\"Using device: {device}\")"
   ]
  },
  {
   "cell_type": "code",
   "execution_count": 4,
   "metadata": {},
   "outputs": [],
   "source": [
    "class FeatureCorrelationModule(nn.Module):\n",
    "    \"\"\"\n",
    "    A module that explicitly models feature correlations to better handle MNAR scenarios.\n",
    "    \"\"\"\n",
    "    def __init__(self, num_features, d_model, dropout=0.1):\n",
    "        super().__init__()\n",
    "        self.correlation_proj = nn.Linear(d_model, d_model)\n",
    "        self.feature_gate = nn.Sequential(\n",
    "            nn.Linear(d_model, d_model),\n",
    "            nn.Sigmoid()\n",
    "        )\n",
    "        self.correlation_norm = nn.LayerNorm(d_model)\n",
    "        self.dropout = nn.Dropout(dropout)\n",
    "        \n",
    "    def forward(self, x, mask=None):\n",
    "        \"\"\"\n",
    "        Args:\n",
    "            x: Input features [batch_size, num_features, d_model]\n",
    "            mask: Missing value mask [batch_size, num_features]\n",
    "            \n",
    "        Returns:\n",
    "            Correlation-enhanced features\n",
    "        \"\"\"\n",
    "        batch_size, num_features, d_model = x.size()\n",
    "        \n",
    "        # Project features for correlation computation\n",
    "        x_proj = self.correlation_proj(x)\n",
    "        \n",
    "        # Compute pairwise feature correlations (scaled dot-product)\n",
    "        corr_matrix = torch.bmm(x_proj, x_proj.transpose(1, 2)) / math.sqrt(d_model)\n",
    "        \n",
    "        # If we have a mask, adjust correlation for missing values\n",
    "        if mask is not None:\n",
    "            # Create attention mask (1 for observed values, 0 for missing)\n",
    "            obs_mask = 1 - mask.float()\n",
    "            mask_matrix = torch.bmm(obs_mask.unsqueeze(2), obs_mask.unsqueeze(1))\n",
    "            \n",
    "            # Apply mask to correlation matrix (masked positions get -1e9)\n",
    "            masked_corr = corr_matrix.masked_fill(mask_matrix == 0, -1e9)\n",
    "            \n",
    "            # Softmax to get normalized correlation weights\n",
    "            corr_weights = F.softmax(masked_corr, dim=-1)\n",
    "        else:\n",
    "            corr_weights = F.softmax(corr_matrix, dim=-1)\n",
    "        \n",
    "        # Apply correlation weights to propagate information across features\n",
    "        corr_features = torch.bmm(corr_weights, x)\n",
    "        \n",
    "        # Compute feature-specific gates to control information flow\n",
    "        gates = self.feature_gate(x)\n",
    "        \n",
    "        # Gate the correlation features and apply residual connection\n",
    "        gated_corr = gates * corr_features\n",
    "        enhanced_features = x + self.dropout(gated_corr)\n",
    "        \n",
    "        # Apply layer normalization\n",
    "        enhanced_features = self.correlation_norm(enhanced_features)\n",
    "        \n",
    "        return enhanced_features\n"
   ]
  },
  {
   "cell_type": "code",
   "execution_count": 5,
   "metadata": {},
   "outputs": [],
   "source": [
    "class FeatureValueDependentEncoder(nn.Module):\n",
    "    \"\"\"\n",
    "    A module that explicitly models the relationship between feature values and missingness,\n",
    "    which is crucial for MNAR scenarios.\n",
    "    \"\"\"\n",
    "    def __init__(self, d_model, dropout=0.1):\n",
    "        super().__init__()\n",
    "        # Increase capacity of the value encoder with one more layer\n",
    "        self.value_encoder = nn.Sequential(\n",
    "            nn.Linear(d_model, d_model),\n",
    "            nn.GELU(),\n",
    "            nn.Dropout(dropout),  # Add dropout for regularization\n",
    "            nn.Linear(d_model, d_model),\n",
    "            nn.GELU(),  # Add one more non-linearity\n",
    "            nn.Linear(d_model, d_model),  # Add one more layer\n",
    "            nn.LayerNorm(d_model)\n",
    "        )\n",
    "        \n",
    "        # Enhance missingness encoder to better capture patterns\n",
    "        self.missingness_encoder = nn.Sequential(\n",
    "            nn.Linear(1, d_model // 2),\n",
    "            nn.GELU(),\n",
    "            nn.Dropout(dropout),  # Add dropout for regularization\n",
    "            nn.Linear(d_model // 2, d_model),\n",
    "            nn.LayerNorm(d_model)\n",
    "        )\n",
    "        \n",
    "        # Add attention mechanism for better fusion\n",
    "        self.attention = nn.MultiheadAttention(d_model, num_heads=4, dropout=dropout)\n",
    "        \n",
    "        # Enhanced fusion layer\n",
    "        self.fusion_layer = nn.Sequential(\n",
    "            nn.Linear(d_model * 2, d_model),\n",
    "            nn.GELU(),\n",
    "            nn.Dropout(dropout),\n",
    "            nn.Linear(d_model, d_model),\n",
    "            nn.LayerNorm(d_model)\n",
    "        )\n",
    "        \n",
    "    def forward(self, x, mask=None):\n",
    "        \"\"\"\n",
    "        Args:\n",
    "            x: Input features [batch_size, num_features, d_model]\n",
    "            mask: Missing value mask [batch_size, num_features]\n",
    "            \n",
    "        Returns:\n",
    "            Features with enhanced MNAR understanding\n",
    "        \"\"\"\n",
    "        # Encode feature values\n",
    "        value_encoding = self.value_encoder(x)\n",
    "        \n",
    "        # If we have a mask, encode missingness patterns\n",
    "        if mask is not None:\n",
    "            # Encode missingness (expanded to match d_model dimension)\n",
    "            mask_encoding = self.missingness_encoder(mask.float().unsqueeze(-1))\n",
    "            \n",
    "            # Apply attention between value encoding and mask encoding\n",
    "            # Reshape for attention: [seq_len, batch_size, d_model]\n",
    "            batch_size, num_features, d_model = value_encoding.size()\n",
    "            v_enc = value_encoding.transpose(0, 1)\n",
    "            m_enc = mask_encoding.transpose(0, 1)\n",
    "            \n",
    "            # Self-attention on value encodings with mask as query\n",
    "            attn_output, _ = self.attention(m_enc, v_enc, v_enc)\n",
    "            \n",
    "            # Reshape back: [batch_size, seq_len, d_model]\n",
    "            attn_output = attn_output.transpose(0, 1)\n",
    "            \n",
    "            # Combine with original mask encoding\n",
    "            mask_encoding = mask_encoding + attn_output\n",
    "            \n",
    "            # Combine value and missingness encodings\n",
    "            combined = torch.cat([value_encoding, mask_encoding], dim=-1)\n",
    "            enhanced = self.fusion_layer(combined)\n",
    "        else:\n",
    "            # Without mask, just use value encoding\n",
    "            enhanced = value_encoding\n",
    "            \n",
    "        return enhanced"
   ]
  },
  {
   "cell_type": "code",
   "execution_count": 6,
   "metadata": {},
   "outputs": [],
   "source": [
    "class RelativePositionEncoding(nn.Module):\n",
    "    \"\"\"\n",
    "    Learnable relative position encoding for features in the transformer model.\n",
    "    This allows the model to understand relationships between features based on their positions.\n",
    "    \"\"\"\n",
    "    def __init__(self, max_seq_len, d_model):\n",
    "        super().__init__()\n",
    "        self.rel_pos_embedding = nn.Parameter(torch.randn(2 * max_seq_len - 1, d_model))\n",
    "        self.max_seq_len = max_seq_len\n",
    "        \n",
    "    def forward(self, x):\n",
    "        \"\"\"\n",
    "        Apply relative positional encodings to the input.\n",
    "        \n",
    "        Args:\n",
    "            x: Input tensor [batch_size, seq_len, d_model]\n",
    "            \n",
    "        Returns:\n",
    "            Tensor with relative positional information.\n",
    "        \"\"\"\n",
    "        seq_len = x.size(1)\n",
    "        pos_indices = torch.arange(seq_len, device=x.device)\n",
    "        rel_pos_indices = pos_indices.unsqueeze(1) - pos_indices.unsqueeze(0) + self.max_seq_len - 1\n",
    "        rel_pos_encoded = self.rel_pos_embedding[rel_pos_indices]\n",
    "        \n",
    "        return rel_pos_encoded"
   ]
  },
  {
   "cell_type": "code",
   "execution_count": 7,
   "metadata": {},
   "outputs": [],
   "source": [
    "class MultiHeadAttentionWithRelPos(nn.Module):\n",
    "    \"\"\"\n",
    "    Multi-head attention with relative positional encoding.\n",
    "    \"\"\"\n",
    "    def __init__(self, d_model, num_heads, dropout=0.1, max_seq_len=1000):\n",
    "        super().__init__()\n",
    "        assert d_model % num_heads == 0, \"d_model must be divisible by num_heads\"\n",
    "        \n",
    "        self.d_model = d_model\n",
    "        self.num_heads = num_heads\n",
    "        self.head_dim = d_model // num_heads\n",
    "        \n",
    "        # Linear projections for Q, K, V\n",
    "        self.q_proj = nn.Linear(d_model, d_model)\n",
    "        self.k_proj = nn.Linear(d_model, d_model)\n",
    "        self.v_proj = nn.Linear(d_model, d_model)\n",
    "        self.out_proj = nn.Linear(d_model, d_model)\n",
    "        \n",
    "        self.rel_pos_encoding = RelativePositionEncoding(max_seq_len, d_model)\n",
    "        \n",
    "        self.rel_pos_proj = nn.Linear(d_model, d_model)\n",
    "\n",
    "        self.scale = self.head_dim ** -0.5\n",
    "        \n",
    "        self.dropout = nn.Dropout(dropout)\n",
    "        \n",
    "    def forward(self, query, key, value, key_padding_mask=None, need_weights=False):\n",
    "        \"\"\"\n",
    "        Forward pass with relative positional encoding.\n",
    "        \n",
    "        Args:\n",
    "            query, key, value: Input tensors [batch_size, seq_len, d_model]\n",
    "            key_padding_mask: Mask for padded values [batch_size, seq_len]\n",
    "            need_weights: Whether to return attention weights\n",
    "            \n",
    "        Returns:\n",
    "            Output tensor and optionally attention weights\n",
    "        \"\"\"\n",
    "        batch_size = query.size(0)\n",
    "        seq_len = query.size(1)\n",
    "        \n",
    "        #Linear projections and reshape for multi-head attention\n",
    "        q = self.q_proj(query).view(batch_size, seq_len, self.num_heads, self.head_dim).transpose(1, 2)\n",
    "        k = self.k_proj(key).view(batch_size, seq_len, self.num_heads, self.head_dim).transpose(1, 2)\n",
    "        v = self.v_proj(value).view(batch_size, seq_len, self.num_heads, self.head_dim).transpose(1, 2)\n",
    "        \n",
    "        #content-based attention scores\n",
    "        attn_scores = torch.matmul(q, k.transpose(-2, -1)) * self.scale  # [batch, heads, seq_len, seq_len]\n",
    "        \n",
    "        rel_bias = torch.zeros((seq_len, seq_len), device=query.device)\n",
    "        positions = torch.arange(seq_len, device=query.device)\n",
    "        relative_positions = positions.unsqueeze(1) - positions.unsqueeze(0)\n",
    "\n",
    "        rel_bias = -torch.abs(relative_positions) * 0.1\n",
    "\n",
    "        attn_scores = attn_scores + rel_bias.unsqueeze(0).unsqueeze(0)\n",
    "\n",
    "        if key_padding_mask is not None:\n",
    "            attn_mask = key_padding_mask.unsqueeze(1).unsqueeze(2)\n",
    "            attn_scores = attn_scores.masked_fill(attn_mask, float('-inf'))\n",
    "\n",
    "        attn_weights = torch.softmax(attn_scores, dim=-1)\n",
    "        attn_weights = self.dropout(attn_weights)\n",
    "\n",
    "        output = torch.matmul(attn_weights, v)\n",
    "        output = output.transpose(1, 2).contiguous().view(batch_size, seq_len, self.d_model)\n",
    "\n",
    "        output = self.out_proj(output)\n",
    "        \n",
    "        if need_weights:\n",
    "            return output, attn_weights\n",
    "        else:\n",
    "            return output\n"
   ]
  },
  {
   "cell_type": "code",
   "execution_count": 8,
   "metadata": {},
   "outputs": [],
   "source": [
    "class RelativePositionTransformerLayer(nn.Module):\n",
    "    \"\"\"\n",
    "    Transformer encoder layer with relative positional encoding.\n",
    "    \"\"\"\n",
    "    def __init__(self, d_model, nhead, dim_feedforward=2048, dropout=0.1, \n",
    "                 activation=\"gelu\", max_seq_len=1000, norm_first=True):\n",
    "        super().__init__()\n",
    "\n",
    "        self.self_attn = MultiHeadAttentionWithRelPos(\n",
    "            d_model, nhead, dropout=dropout, max_seq_len=max_seq_len\n",
    "        )\n",
    "\n",
    "        #FFN\n",
    "        self.linear1 = nn.Linear(d_model, dim_feedforward)\n",
    "        self.linear2 = nn.Linear(dim_feedforward, d_model)\n",
    "\n",
    "        self.norm1 = nn.LayerNorm(d_model)\n",
    "        self.norm2 = nn.LayerNorm(d_model)\n",
    "        self.dropout = nn.Dropout(dropout)\n",
    "        self.dropout1 = nn.Dropout(dropout)\n",
    "        self.dropout2 = nn.Dropout(dropout)\n",
    "        \n",
    "        #Activation\n",
    "        self.activation = getattr(nn.functional, activation)\n",
    "        self.norm_first = norm_first\n",
    "        \n",
    "    def forward(self, src, src_key_padding_mask=None):\n",
    "        \"\"\"\n",
    "        Forward pass of the transformer layer.\n",
    "        \n",
    "        Args:\n",
    "            src: Input tensor [batch_size, seq_len, d_model]\n",
    "            src_key_padding_mask: Mask for padded values [batch_size, seq_len]\n",
    "            \n",
    "        Returns:\n",
    "            Processed tensor\n",
    "        \"\"\"\n",
    "        # Pre-norm architecture\n",
    "        if self.norm_first:\n",
    "            src2 = self.norm1(src)\n",
    "            src2 = self.self_attn(src2, src2, src2, key_padding_mask=src_key_padding_mask)\n",
    "            src = src + self.dropout1(src2)\n",
    "            \n",
    "            src2 = self.norm2(src)\n",
    "            src2 = self.linear2(self.dropout(self.activation(self.linear1(src2))))\n",
    "            src = src + self.dropout2(src2)\n",
    "        else:\n",
    "            # Multi-head attention block with post-normalization\n",
    "            src2 = self.self_attn(src, src, src, key_padding_mask=src_key_padding_mask)\n",
    "            src = self.norm1(src + self.dropout1(src2))\n",
    "            \n",
    "            # Feedforward block with post-normalization\n",
    "            src2 = self.linear2(self.dropout(self.activation(self.linear1(src))))\n",
    "            src = self.norm2(src + self.dropout2(src2))\n",
    "            \n",
    "        return src"
   ]
  },
  {
   "cell_type": "code",
   "execution_count": 9,
   "metadata": {},
   "outputs": [],
   "source": [
    "class RelativePositionTransformerEncoder(nn.Module):\n",
    "    \"\"\"\n",
    "    Transformer encoder with relative positional encoding.\n",
    "    \"\"\"\n",
    "    def __init__(self, encoder_layer, num_layers):\n",
    "        super().__init__()\n",
    "        self.layers = nn.ModuleList([encoder_layer for _ in range(num_layers)])\n",
    "        self.num_layers = num_layers\n",
    "        \n",
    "    def forward(self, src, mask=None):\n",
    "        \"\"\"\n",
    "        Forward pass of the transformer encoder.\n",
    "        \n",
    "        Args:\n",
    "            src: Input tensor [batch_size, seq_len, d_model]\n",
    "            mask: Mask for padded values [batch_size, seq_len]\n",
    "            \n",
    "        Returns:\n",
    "            Encoded tensor\n",
    "        \"\"\"\n",
    "        output = src\n",
    "        for layer in self.layers:\n",
    "            output = layer(output, src_key_padding_mask=mask)\n",
    "        return output"
   ]
  },
  {
   "cell_type": "code",
   "execution_count": 10,
   "metadata": {},
   "outputs": [],
   "source": [
    "class TabularTransformerWithRelPos(nn.Module):\n",
    "    \"\"\"\n",
    "    Enhanced transformer model for tabular data imputation with improved\n",
    "    MNAR handling through correlation modeling.\n",
    "    \"\"\"\n",
    "    def __init__(self, \n",
    "                 num_features, \n",
    "                 d_model=128, \n",
    "                 nhead=8, \n",
    "                 num_layers=3, \n",
    "                 dim_feedforward=512, \n",
    "                 dropout=0.1, \n",
    "                 activation='gelu',\n",
    "                 max_seq_len=1000):\n",
    "        super().__init__()\n",
    "        \n",
    "        self.d_model = d_model\n",
    "        self.num_features = num_features\n",
    "        \n",
    "        # Feature value embedding\n",
    "        self.value_embedding = nn.Sequential(\n",
    "            nn.Linear(1, d_model),\n",
    "            nn.LayerNorm(d_model),\n",
    "            nn.Dropout(dropout * 0.5),\n",
    "            nn.GELU(),\n",
    "            nn.Linear(d_model, d_model),\n",
    "            nn.LayerNorm(d_model)\n",
    "        )\n",
    "        \n",
    "        # Column embedding (learnable)\n",
    "        self.column_embedding = nn.Embedding(num_features, d_model)\n",
    "        \n",
    "        # Missing value embedding\n",
    "        self.missing_embedding = nn.Parameter(torch.randn(1, d_model))\n",
    "        \n",
    "        # Feature correlation module to model dependencies between features\n",
    "        self.feature_correlation = FeatureCorrelationModule(num_features, d_model, dropout)\n",
    "        \n",
    "        # Feature-value dependent encoder for MNAR awareness\n",
    "        self.feature_value_encoder = FeatureValueDependentEncoder(d_model, dropout)\n",
    "        \n",
    "        # Layer normalization before transformer\n",
    "        self.norm = nn.LayerNorm(d_model)\n",
    "        \n",
    "        # Create transformer encoder layers\n",
    "        encoder_layer = RelativePositionTransformerLayer(\n",
    "            d_model=d_model,\n",
    "            nhead=nhead,\n",
    "            dim_feedforward=dim_feedforward,\n",
    "            dropout=dropout,\n",
    "            activation=activation,\n",
    "            max_seq_len=max_seq_len,\n",
    "            norm_first=True\n",
    "        )\n",
    "        \n",
    "        # Create transformer encoder\n",
    "        self.transformer_encoder = RelativePositionTransformerEncoder(encoder_layer, num_layers)\n",
    "\n",
    "        # Output projection\n",
    "        self.output_projection = nn.Sequential(\n",
    "            nn.Linear(d_model, d_model),\n",
    "            nn.LayerNorm(d_model),\n",
    "            nn.GELU(),\n",
    "            nn.Dropout(dropout),\n",
    "            nn.Linear(d_model, d_model // 2),\n",
    "            nn.GELU(),\n",
    "            nn.Linear(d_model // 2, 1)\n",
    "        )\n",
    "        \n",
    "        # Initialize weights\n",
    "        self._init_weights()\n",
    "        \n",
    "    def _init_weights(self):\n",
    "        \"\"\"Initialize weights using Kaiming initialization for better convergence\"\"\"\n",
    "        for m in self.modules():\n",
    "            if isinstance(m, nn.Linear):\n",
    "                nn.init.kaiming_normal_(m.weight, mode='fan_in', nonlinearity='relu')\n",
    "                if m.bias is not None:\n",
    "                    nn.init.zeros_(m.bias)\n",
    "            elif isinstance(m, nn.Embedding):\n",
    "                nn.init.normal_(m.weight, mean=0.0, std=0.02)\n",
    "                \n",
    "    def _generate_attention_mask(self, mask):\n",
    "        \"\"\"Generate attention mask for transformer\"\"\"\n",
    "        if mask is None:\n",
    "            return None\n",
    "        attn_mask = mask.bool()\n",
    "        return attn_mask\n",
    "                \n",
    "    def forward(self, x, column_indices, mask=None):\n",
    "        \"\"\"\n",
    "        Forward pass with enhanced correlation modeling for MNAR patterns.\n",
    "        \n",
    "        Args:\n",
    "            x: Input tensor [batch_size, num_features]\n",
    "            column_indices: Tensor of column indices [num_features]\n",
    "            mask: Optional mask for missing values [batch_size, num_features]\n",
    "            \n",
    "        Returns:\n",
    "            Tensor of predicted values [batch_size, num_features]\n",
    "        \"\"\"\n",
    "        batch_size = x.size(0)\n",
    "        \n",
    "        # Reshape to [batch_size, num_features, 1] for embedding\n",
    "        x = x.unsqueeze(-1)\n",
    "        \n",
    "        # Embed feature values\n",
    "        x_embedded = self.value_embedding(x)\n",
    "        \n",
    "        # Add column embeddings\n",
    "        col_embed = self.column_embedding(column_indices).unsqueeze(0).expand(batch_size, -1, -1)\n",
    "        x_embedded = x_embedded + col_embed\n",
    "        \n",
    "        # Apply special handling for missing values\n",
    "        if mask is not None:\n",
    "            # Expand mask for broadcasting\n",
    "            mask_expanded = mask.unsqueeze(-1).expand_as(x_embedded)\n",
    "            # Replace embeddings for missing values with learned missing embedding\n",
    "            missing_embed = self.missing_embedding.expand_as(x_embedded)\n",
    "            x_embedded = torch.where(mask_expanded == 1, missing_embed, x_embedded)\n",
    "        \n",
    "        # Enhanced feature correlation modeling - key for MNAR patterns\n",
    "        x_correlated = self.feature_correlation(x_embedded, mask)\n",
    "        \n",
    "        # Feature-value dependent encoding - explicitly models relationship \n",
    "        # between values and missingness\n",
    "        x_value_aware = self.feature_value_encoder(x_correlated, mask)\n",
    "        \n",
    "        # Apply layer normalization\n",
    "        x_embedded = self.norm(x_value_aware)\n",
    "        \n",
    "        # Apply transformer encoder\n",
    "        attn_mask = self._generate_attention_mask(mask) if mask is not None else None\n",
    "        x_encoded = self.transformer_encoder(x_embedded, attn_mask)\n",
    "        \n",
    "        # Project to output\n",
    "        output = self.output_projection(x_encoded).squeeze(-1)\n",
    "        \n",
    "        return output"
   ]
  },
  {
   "cell_type": "code",
   "execution_count": 11,
   "metadata": {},
   "outputs": [],
   "source": [
    "class EnsembleModel(nn.Module):\n",
    "    \"\"\"\n",
    "    Ensemble of transformer models for improved prediction.\n",
    "    \"\"\"\n",
    "    def __init__(self, num_features, config, num_models=3):\n",
    "        super().__init__()\n",
    "        self.num_models = num_models\n",
    "        \n",
    "        # Create multiple base models\n",
    "        self.models = nn.ModuleList([\n",
    "            TabularTransformerWithRelPos(\n",
    "                num_features=num_features,\n",
    "                d_model=config[\"d_model\"],\n",
    "                nhead=config[\"num_heads\"],\n",
    "                num_layers=config[\"num_layers\"],\n",
    "                dim_feedforward=config[\"dim_feedforward\"],\n",
    "                dropout=config[\"dropout\"],\n",
    "                activation=config[\"activation\"],\n",
    "                max_seq_len=max(2 * num_features, 100)\n",
    "            ) for _ in range(num_models)\n",
    "        ])\n",
    "        \n",
    "    def forward(self, x, column_indices, mask=None):\n",
    "        # Get predictions from all models\n",
    "        all_preds = []\n",
    "        for model in self.models:\n",
    "            preds = model(x, column_indices, mask)\n",
    "            all_preds.append(preds.unsqueeze(0))\n",
    "        \n",
    "        # Stack and average predictions\n",
    "        all_preds = torch.cat(all_preds, dim=0)\n",
    "        avg_preds = torch.mean(all_preds, dim=0)\n",
    "        \n",
    "        return avg_preds"
   ]
  },
  {
   "cell_type": "code",
   "execution_count": 12,
   "metadata": {},
   "outputs": [],
   "source": [
    "def create_missing_mask(data, missing_fraction=0.2, mechanism=\"MCAR\"):\n",
    "    \"\"\"\n",
    "    Create a mask for missing values using different mechanisms.\n",
    "    \n",
    "    Args:\n",
    "        data (torch.Tensor): Input data tensor\n",
    "        missing_fraction (float): Fraction of values to mask\n",
    "        mechanism (str): One of \"MCAR\", \"MAR\", or \"MNAR\"\n",
    "        \n",
    "    Returns:\n",
    "        torch.Tensor: Binary mask (1 = missing, 0 = present)\n",
    "    \"\"\"\n",
    "    try:\n",
    "        # MCAR implementation - completely random\n",
    "        if mechanism == \"MCAR\":\n",
    "            mask = torch.rand(data.shape, device=data.device) < missing_fraction\n",
    "            return mask.int()\n",
    "        \n",
    "        # Simulated MAR (missing at random) implementation\n",
    "        # In MAR, missingness depends on observed values but not on missing values\n",
    "        elif mechanism == \"MAR\":\n",
    "            # Create a base random mask\n",
    "            mask = torch.zeros(data.shape, device=data.device, dtype=torch.int)\n",
    "            \n",
    "            # Number of features\n",
    "            num_features = data.shape[1]\n",
    "            \n",
    "            # For each column, make missingness depend on values in other columns\n",
    "            for col_idx in range(num_features):\n",
    "                # Choose a different column as predictor (wrapping around if needed)\n",
    "                predictor_col = (col_idx + 1) % num_features\n",
    "                \n",
    "                # Get predictor values\n",
    "                predictor_values = data[:, predictor_col]\n",
    "                \n",
    "                # Normalize predictor values to [0, 1] range\n",
    "                if predictor_values.max() > predictor_values.min():\n",
    "                    normalized_values = (predictor_values - predictor_values.min()) / (predictor_values.max() - predictor_values.min())\n",
    "                else:\n",
    "                    normalized_values = torch.zeros_like(predictor_values)\n",
    "                \n",
    "                # Higher predictor values = higher chance of missingness\n",
    "                # Add randomness to avoid making it purely deterministic\n",
    "                prob = normalized_values * 0.5 + torch.rand(data.shape[0], device=data.device) * 0.5\n",
    "                mask[:, col_idx] = (prob > (1 - missing_fraction)).int()\n",
    "            \n",
    "            return mask\n",
    "        \n",
    "        # Simulated MNAR (missing not at random) implementation\n",
    "        # In MNAR, missingness depends on the missing values themselves\n",
    "        elif mechanism == \"MNAR\":\n",
    "            # Create a base random mask\n",
    "            mask = torch.zeros(data.shape, device=data.device, dtype=torch.int)\n",
    "            \n",
    "            # For each column, make missingness depend on its own values\n",
    "            for col_idx in range(data.shape[1]):\n",
    "                # Get column values\n",
    "                col_values = data[:, col_idx]\n",
    "                \n",
    "                # Normalize values to [0, 1] range\n",
    "                if col_values.max() > col_values.min():\n",
    "                    normalized_values = (col_values - col_values.min()) / (col_values.max() - col_values.min())\n",
    "                else:\n",
    "                    normalized_values = torch.zeros_like(col_values)\n",
    "                \n",
    "                # For MNAR, higher values have higher probability of being missing\n",
    "                # Add randomness to avoid making it purely deterministic\n",
    "                prob = normalized_values * 0.7 + torch.rand(data.shape[0], device=data.device) * 0.3\n",
    "                mask[:, col_idx] = (prob > (1 - missing_fraction)).int()\n",
    "            \n",
    "            return mask\n",
    "        \n",
    "        # Default to MCAR if unknown mechanism\n",
    "        else:\n",
    "            print(f\"Unknown missing data mechanism: {mechanism}. Defaulting to MCAR.\")\n",
    "            return create_missing_mask(data, missing_fraction, \"MCAR\")\n",
    "            \n",
    "    except Exception as e:\n",
    "        print(f\"Error creating {mechanism} mask: {e}\")\n",
    "        # Fall back to MCAR if there's an error\n",
    "        return create_missing_mask(data, missing_fraction, \"MCAR\")"
   ]
  },
  {
   "cell_type": "code",
   "execution_count": 13,
   "metadata": {},
   "outputs": [],
   "source": [
    "def load_and_prepare_data(data_path, test_size=0.2, val_size=0.1, random_state=SEED):\n",
    "    \"\"\"\n",
    "    Load and prepare data for model training.\n",
    "    \n",
    "    Args:\n",
    "        data_path (str): Path to the CSV file\n",
    "        test_size (float): Proportion of data to use for testing\n",
    "        val_size (float): Proportion of training data to use for validation\n",
    "        random_state (int): Random seed for reproducibility\n",
    "        \n",
    "    Returns:\n",
    "        tuple: Preprocessed train, validation, test tensors, scaler, and column indices\n",
    "    \"\"\"\n",
    "    print(f\"Loading data from {data_path}\")\n",
    "    df = pd.read_csv(data_path, index_col=None)\n",
    "    \n",
    "    # Check for missing values\n",
    "    missing_count = df.isna().sum().sum()\n",
    "    if missing_count > 0:\n",
    "        print(f\"Warning: Dataset contains {missing_count} missing values. These will be handled in preprocessing.\")\n",
    "        # Simple imputation for missing values\n",
    "        df = df.fillna(df.mean())\n",
    "    \n",
    "    # Convert to numpy for preprocessing\n",
    "    data = df.to_numpy()\n",
    "    \n",
    "    # Split data into train and test\n",
    "    train_val_data, test_data = train_test_split(\n",
    "        data, \n",
    "        test_size=test_size, \n",
    "        random_state=random_state\n",
    "    )\n",
    "    \n",
    "    # Split train_val into train and validation\n",
    "    val_ratio = val_size / (1 - test_size)\n",
    "    train_data, val_data = train_test_split(\n",
    "        train_val_data,\n",
    "        test_size=val_ratio,\n",
    "        random_state=random_state\n",
    "    )\n",
    "    \n",
    "    # Normalize data\n",
    "    scaler = StandardScaler()\n",
    "    train_data_scaled = scaler.fit_transform(train_data)\n",
    "    val_data_scaled = scaler.transform(val_data)\n",
    "    test_data_scaled = scaler.transform(test_data)\n",
    "    \n",
    "    # Convert to PyTorch tensors\n",
    "    train_tensor = torch.tensor(train_data_scaled, dtype=torch.float32).to(device)\n",
    "    val_tensor = torch.tensor(val_data_scaled, dtype=torch.float32).to(device)\n",
    "    test_tensor = torch.tensor(test_data_scaled, dtype=torch.float32).to(device)\n",
    "    \n",
    "    # Create column indices\n",
    "    column_indices = torch.arange(train_tensor.shape[1]).to(device)\n",
    "    \n",
    "    print(f\"Dataset shape: {df.shape}\")\n",
    "    print(f\"Number of training samples: {train_tensor.shape[0]}\")\n",
    "    print(f\"Number of validation samples: {val_tensor.shape[0]}\")\n",
    "    print(f\"Number of test samples: {test_tensor.shape[0]}\")\n",
    "    print(f\"Number of features: {train_tensor.shape[1]}\")\n",
    "    \n",
    "    return train_tensor, val_tensor, test_tensor, scaler, column_indices"
   ]
  },
  {
   "cell_type": "code",
   "execution_count": 14,
   "metadata": {},
   "outputs": [],
   "source": [
    "def compute_mnar_weighted_loss(predictions, ground_truth, mask, mechanism=None):\n",
    "    \"\"\"\n",
    "    Compute loss with sophisticated weighting for MNAR scenarios based on\n",
    "    feature correlations and value magnitudes.\n",
    "    \n",
    "    Args:\n",
    "        predictions (torch.Tensor): Predicted values\n",
    "        ground_truth (torch.Tensor): True values\n",
    "        mask (torch.Tensor): Binary mask (1 = missing, 0 = present)\n",
    "        mechanism (str): Missing data mechanism (MCAR, MAR, MNAR)\n",
    "        \n",
    "    Returns:\n",
    "        torch.Tensor: Weighted loss\n",
    "    \"\"\"\n",
    "    batch_size, num_features = ground_truth.shape\n",
    "    mse_loss = nn.MSELoss(reduction='none')\n",
    "    element_loss = mse_loss(predictions, ground_truth)\n",
    "    \n",
    "    # Base mechanism-specific weighting\n",
    "    if mechanism == \"MNAR\":\n",
    "        base_weight = 2.0\n",
    "    elif mechanism == \"MAR\":\n",
    "        base_weight = 1.2\n",
    "    else:  # MCAR\n",
    "        base_weight = 1.0\n",
    "    \n",
    "    if mechanism == \"MNAR\":\n",
    "        # For MNAR, compute correlation-based weights\n",
    "        # First, get observed feature values\n",
    "        observed_mask = 1 - mask\n",
    "        \n",
    "        # Calculate feature statistics where observed\n",
    "        # For each feature, compute mean of observed values\n",
    "        feature_means = torch.zeros_like(ground_truth)\n",
    "        for i in range(num_features):\n",
    "            feat_observed = ground_truth[:, i] * observed_mask[:, i]\n",
    "            feat_count = observed_mask[:, i].sum() + 1e-8\n",
    "            feat_mean = feat_observed.sum() / feat_count\n",
    "            feature_means[:, i] = feat_mean\n",
    "        \n",
    "        # Calculate absolute deviation from feature mean\n",
    "        abs_deviation = torch.abs(ground_truth - feature_means)\n",
    "        \n",
    "        # Normalize deviations to [0, 1] range for each feature\n",
    "        max_devs = abs_deviation.max(dim=0, keepdim=True)[0]\n",
    "        min_devs = abs_deviation.min(dim=0, keepdim=True)[0]\n",
    "        range_devs = max_devs - min_devs + 1e-8\n",
    "        norm_deviation = (abs_deviation - min_devs) / range_devs\n",
    "        \n",
    "        # Higher deviations get higher weights (values far from mean are harder to predict in MNAR)\n",
    "        # This captures the dependency between the value itself and its missingness\n",
    "        value_weights = 1.0 + norm_deviation * 1.5\n",
    "        \n",
    "        # Final weights combine base weight with value-dependent weights\n",
    "        weights = base_weight * mask * value_weights\n",
    "    else:\n",
    "        # For MAR and MCAR, use simpler weighting\n",
    "        weights = base_weight * mask\n",
    "    \n",
    "    # Compute weighted average loss\n",
    "    weighted_loss = (element_loss * weights).sum() / (weights.sum() + 1e-8)\n",
    "    \n",
    "    return weighted_loss"
   ]
  },
  {
   "cell_type": "code",
   "execution_count": 15,
   "metadata": {},
   "outputs": [],
   "source": [
    "def compute_loss(predictions, ground_truth, mask, mechanism=None):\n",
    "    \"\"\"\n",
    "    Compute loss using the enhanced MNAR-weighted loss function.\n",
    "    \"\"\"\n",
    "    return compute_mnar_weighted_loss(predictions, ground_truth, mask, mechanism)"
   ]
  },
  {
   "cell_type": "code",
   "execution_count": 16,
   "metadata": {},
   "outputs": [],
   "source": [
    "def compute_rmse(predictions, ground_truth, mask):\n",
    "    \"\"\"\n",
    "    Compute Root Mean Squared Error on masked positions.\n",
    "    \n",
    "    Args:\n",
    "        predictions (torch.Tensor): Predicted values\n",
    "        ground_truth (torch.Tensor): True values\n",
    "        mask (torch.Tensor): Binary mask (1 = missing, 0 = present)\n",
    "        \n",
    "    Returns:\n",
    "        float: RMSE value\n",
    "    \"\"\"\n",
    "    masked_preds = predictions[mask == 1]\n",
    "    masked_truth = ground_truth[mask == 1]\n",
    "    \n",
    "    if len(masked_preds) == 0:\n",
    "        return 0.0\n",
    "    \n",
    "    mse = torch.mean((masked_preds - masked_truth) ** 2)\n",
    "    rmse = torch.sqrt(mse)\n",
    "    return rmse.item()"
   ]
  },
  {
   "cell_type": "code",
   "execution_count": 17,
   "metadata": {},
   "outputs": [],
   "source": [
    "def compute_nrmse(predictions, ground_truth, mask):\n",
    "    \"\"\"\n",
    "    Compute Normalized Root Mean Squared Error on masked positions.\n",
    "    \n",
    "    Args:\n",
    "        predictions (torch.Tensor): Predicted values\n",
    "        ground_truth (torch.Tensor): True values\n",
    "        mask (torch.Tensor): Binary mask (1 = missing, 0 = present)\n",
    "        \n",
    "    Returns:\n",
    "        float: NRMSE value\n",
    "    \"\"\"\n",
    "    masked_preds = predictions[mask == 1]\n",
    "    masked_truth = ground_truth[mask == 1]\n",
    "    \n",
    "    if len(masked_preds) == 0:\n",
    "        return 0.0\n",
    "    \n",
    "    mse = torch.mean((masked_preds - masked_truth) ** 2)\n",
    "    rmse = torch.sqrt(mse)\n",
    "    \n",
    "    data_range = ground_truth.max() - ground_truth.min()\n",
    "    nrmse = rmse / data_range\n",
    "    return nrmse.item()"
   ]
  },
  {
   "cell_type": "code",
   "execution_count": 18,
   "metadata": {},
   "outputs": [],
   "source": [
    "def train_epoch(model, dataloader, optimizer, missing_fraction, mechanisms=None, scheduler=None):\n",
    "    \"\"\"\n",
    "    Train for one epoch with mixup data augmentation and gradient clipping.\n",
    "    \n",
    "    Args:\n",
    "        model (nn.Module): Model to train\n",
    "        dataloader (DataLoader): Training data loader\n",
    "        optimizer (Optimizer): Optimizer\n",
    "        missing_fraction (float): Fraction of values to mask\n",
    "        mechanisms (list): List of missing data mechanisms to use\n",
    "        scheduler (LRScheduler, optional): Learning rate scheduler\n",
    "        \n",
    "    Returns:\n",
    "        dict: Dictionary with training metrics\n",
    "    \"\"\"\n",
    "    model.train()\n",
    "    total_loss = 0\n",
    "    \n",
    "    # Mixup probability\n",
    "    mixup_prob = 0.3\n",
    "    \n",
    "    if mechanisms is None:\n",
    "        mechanisms = [\"MCAR\"]\n",
    "    \n",
    "    progress_bar = tqdm(dataloader, desc=\"Training\")\n",
    "    for batch in progress_bar:\n",
    "        x = batch[0].to(device)\n",
    "        \n",
    "\n",
    "        mechanism = random.choice(mechanisms)\n",
    "        \n",
    "        # Create a mask for missing values\n",
    "        mask = create_missing_mask(x, missing_fraction, mechanism)\n",
    "        \n",
    "        # Create input with missing values set to 0\n",
    "        x_masked = x.clone()\n",
    "        x_masked[mask == 1] = 0\n",
    "        \n",
    "        # Apply mixup with probability\n",
    "        if random.random() < mixup_prob:\n",
    "            # Create shuffled indices\n",
    "            indices = torch.randperm(x.size(0), device=device)\n",
    "            \n",
    "            # Mix up samples with lambda drawn from beta distribution\n",
    "            lam = np.random.beta(0.2, 0.2)\n",
    "            \n",
    "            # Mix the data\n",
    "            mixed_x = lam * x_masked + (1 - lam) * x_masked[indices]\n",
    "            mixed_mask = mask | mask[indices]  # Union of masks\n",
    "            \n",
    "            # Forward pass with mixed data\n",
    "            optimizer.zero_grad()\n",
    "            column_indices = torch.arange(x.shape[1], device=device)\n",
    "            predictions = model(mixed_x, column_indices, mixed_mask)\n",
    "            \n",
    "            # Compute mixed loss\n",
    "            loss = lam * compute_loss(predictions, x, mask, mechanism) + \\\n",
    "                   (1 - lam) * compute_loss(predictions, x[indices], mask[indices], mechanism)\n",
    "        else:\n",
    "            # Standard forward pass\n",
    "            optimizer.zero_grad()\n",
    "            column_indices = torch.arange(x.shape[1], device=device)\n",
    "            predictions = model(x_masked, column_indices, mask)\n",
    "            \n",
    "            # Compute loss\n",
    "            loss = compute_loss(predictions, x, mask, mechanism)\n",
    "            \n",
    "        # Backward pass\n",
    "        loss.backward()\n",
    "        \n",
    "        # Add gradient clipping\n",
    "        torch.nn.utils.clip_grad_norm_(model.parameters(), 1.0)\n",
    "        \n",
    "        optimizer.step()\n",
    "        \n",
    "        if scheduler is not None:\n",
    "            scheduler.step()\n",
    "        \n",
    "        # Update progress bar\n",
    "        total_loss += loss.item()\n",
    "        progress_bar.set_postfix({\"loss\": loss.item()})\n",
    "    \n",
    "    avg_loss = total_loss / len(dataloader)\n",
    "    return {\"loss\": avg_loss}\n"
   ]
  },
  {
   "cell_type": "code",
   "execution_count": 19,
   "metadata": {},
   "outputs": [],
   "source": [
    "def validate(model, dataloader, missing_fraction, mechanisms=None):\n",
    "    \"\"\"\n",
    "    Validate the model on all mechanisms.\n",
    "    \n",
    "    Args:\n",
    "        model (nn.Module): Model to validate\n",
    "        dataloader (DataLoader): Validation data loader\n",
    "        missing_fraction (float): Fraction of values to mask\n",
    "        mechanisms (list): List of missing data mechanisms to use\n",
    "        \n",
    "    Returns:\n",
    "        dict: Dictionary with validation metrics\n",
    "    \"\"\"\n",
    "    model.eval()\n",
    "    total_loss = 0\n",
    "    total_rmse = 0\n",
    "    total_nrmse = 0\n",
    "    \n",
    "    if mechanisms is None:\n",
    "        mechanisms = [\"MCAR\"]\n",
    "    \n",
    "    mechanism_metrics = {m: {\"loss\": 0, \"rmse\": 0, \"nrmse\": 0, \"count\": 0} for m in mechanisms}\n",
    "    \n",
    "    with torch.no_grad():\n",
    "        for batch in dataloader:\n",
    "            x = batch[0].to(device)\n",
    "            \n",
    "            for mechanism in mechanisms:\n",
    "                # Create a mask for missing values\n",
    "                mask = create_missing_mask(x, missing_fraction, mechanism)\n",
    "                \n",
    "                # Create input with missing values set to 0\n",
    "                x_masked = x.clone()\n",
    "                x_masked[mask == 1] = 0\n",
    "                \n",
    "                # Forward pass\n",
    "                column_indices = torch.arange(x.shape[1], device=device)\n",
    "                predictions = model(x_masked, column_indices, mask)\n",
    "                \n",
    "                # Compute metrics\n",
    "                loss = compute_loss(predictions, x, mask)\n",
    "                rmse = compute_rmse(predictions, x, mask)\n",
    "                nrmse = compute_nrmse(predictions, x, mask)\n",
    "                \n",
    "                # Update mechanism-specific metrics\n",
    "                mechanism_metrics[mechanism][\"loss\"] += loss.item()\n",
    "                mechanism_metrics[mechanism][\"rmse\"] += rmse\n",
    "                mechanism_metrics[mechanism][\"nrmse\"] += nrmse\n",
    "                mechanism_metrics[mechanism][\"count\"] += 1\n",
    "                \n",
    "                # Update overall metrics\n",
    "                total_loss += loss.item()\n",
    "                total_rmse += rmse\n",
    "                total_nrmse += nrmse\n",
    "    \n",
    "    # Calculate averages\n",
    "    num_evaluations = len(dataloader) * len(mechanisms)\n",
    "    avg_loss = total_loss / num_evaluations\n",
    "    avg_rmse = total_rmse / num_evaluations\n",
    "    avg_nrmse = total_nrmse / num_evaluations\n",
    "    \n",
    "    # Calculate mechanism-specific averages\n",
    "    for m in mechanisms:\n",
    "        if mechanism_metrics[m][\"count\"] > 0:\n",
    "            mechanism_metrics[m][\"loss\"] /= mechanism_metrics[m][\"count\"]\n",
    "            mechanism_metrics[m][\"rmse\"] /= mechanism_metrics[m][\"count\"]\n",
    "            mechanism_metrics[m][\"nrmse\"] /= mechanism_metrics[m][\"count\"]\n",
    "    \n",
    "    return {\n",
    "        \"loss\": avg_loss,\n",
    "        \"rmse\": avg_rmse,\n",
    "        \"nrmse\": avg_nrmse,\n",
    "        \"mechanisms\": mechanism_metrics\n",
    "    }"
   ]
  },
  {
   "cell_type": "code",
   "execution_count": 20,
   "metadata": {},
   "outputs": [],
   "source": [
    "def plot_training_history(history, save_path=None):\n",
    "    \"\"\"\n",
    "    Plot training history.\n",
    "    \n",
    "    Args:\n",
    "        history (dict): Training history\n",
    "        save_path (str, optional): Path to save the plot\n",
    "    \"\"\"\n",
    "    plt.figure(figsize=(20, 12))\n",
    "    \n",
    "    # Plot loss\n",
    "    plt.subplot(2, 2, 1)\n",
    "    plt.plot(history[\"train_loss\"], label=\"Train Loss\")\n",
    "    plt.plot(history[\"val_loss\"], label=\"Val Loss\")\n",
    "    plt.title(\"Loss\")\n",
    "    plt.xlabel(\"Epoch\")\n",
    "    plt.ylabel(\"Loss\")\n",
    "    plt.legend()\n",
    "    \n",
    "    # Plot NRMSE\n",
    "    plt.subplot(2, 2, 2)\n",
    "    plt.plot(history[\"val_nrmse\"], label=\"Overall NRMSE\")\n",
    "    plt.plot(history[\"val_mcar_nrmse\"], label=\"MCAR NRMSE\")\n",
    "    plt.plot(history[\"val_mar_nrmse\"], label=\"MAR NRMSE\")\n",
    "    plt.plot(history[\"val_mnar_nrmse\"], label=\"MNAR NRMSE\")\n",
    "    plt.title(\"NRMSE by Mechanism\")\n",
    "    plt.xlabel(\"Epoch\")\n",
    "    plt.ylabel(\"NRMSE\")\n",
    "    plt.legend()\n",
    "    \n",
    "    # Plot learning rate\n",
    "    plt.subplot(2, 2, 3)\n",
    "    plt.plot(history[\"lr\"])\n",
    "    plt.title(\"Learning Rate\")\n",
    "    plt.xlabel(\"Epoch\")\n",
    "    plt.ylabel(\"Learning Rate\")\n",
    "    \n",
    "    if save_path:\n",
    "        plt.savefig(save_path)\n",
    "    \n",
    "    plt.tight_layout()\n",
    "    plt.show()"
   ]
  },
  {
   "cell_type": "code",
   "execution_count": 21,
   "metadata": {},
   "outputs": [],
   "source": [
    "def save_model(model, scaler, config, save_dir=\"models\"):\n",
    "    \"\"\"\n",
    "    Save model and related objects.\n",
    "    \n",
    "    Args:\n",
    "        model (nn.Module): Trained model\n",
    "        scaler (StandardScaler): Data scaler\n",
    "        config (dict): Model configuration\n",
    "        save_dir (str): Directory to save model\n",
    "    \"\"\"\n",
    "    # Create directory if it doesn't exist\n",
    "    os.makedirs(save_dir, exist_ok=True)\n",
    "    \n",
    "    # Save model\n",
    "    model_path = os.path.join(save_dir, \"tabular_transformer_relpos.pth\")\n",
    "    torch.save({\n",
    "        \"model_state_dict\": model.state_dict(),\n",
    "        \"config\": config\n",
    "    }, model_path)\n",
    "    \n",
    "    # Save scaler\n",
    "    scaler_path = os.path.join(save_dir, \"scaler.pkl\")\n",
    "    with open(scaler_path, \"wb\") as f:\n",
    "        pickle.dump(scaler, f)\n",
    "    \n",
    "    print(f\"Model saved to {model_path}\")\n",
    "    print(f\"Scaler saved to {scaler_path}\")"
   ]
  },
  {
   "cell_type": "code",
   "execution_count": 22,
   "metadata": {},
   "outputs": [],
   "source": [
    "def train_model(train_data, val_data, column_indices, config, model_type=\"single\"):\n",
    "    \"\"\"\n",
    "    Train the model (single model or ensemble).\n",
    "    \n",
    "    Args:\n",
    "        train_data (torch.Tensor): Training data\n",
    "        val_data (torch.Tensor): Validation data\n",
    "        column_indices (torch.Tensor): Column indices\n",
    "        config (dict): Configuration dictionary\n",
    "        model_type (str): Type of model to train (\"single\" or \"ensemble\")\n",
    "        \n",
    "    Returns:\n",
    "        tuple: Trained model and training history\n",
    "    \"\"\"\n",
    "    print(\"Starting model training...\")\n",
    "    \n",
    "    # Create dataloaders\n",
    "    train_dataset = TensorDataset(train_data)\n",
    "    val_dataset = TensorDataset(val_data)\n",
    "    \n",
    "    train_dataloader = DataLoader(\n",
    "        train_dataset, \n",
    "        batch_size=config[\"batch_size\"], \n",
    "        shuffle=True\n",
    "    )\n",
    "    \n",
    "    val_dataloader = DataLoader(\n",
    "        val_dataset, \n",
    "        batch_size=config[\"batch_size\"]\n",
    "    )\n",
    "    \n",
    "    # Create model based on type\n",
    "    num_features = train_data.shape[1]\n",
    "    \n",
    "    if model_type == \"ensemble\":\n",
    "        print(\"Creating ensemble model with 3 base models...\")\n",
    "        model = EnsembleModel(\n",
    "            num_features=num_features,\n",
    "            config=config,\n",
    "            num_models=3\n",
    "        ).to(device)\n",
    "    else:\n",
    "        print(\"Creating single transformer model...\")\n",
    "        model = TabularTransformerWithRelPos(\n",
    "            num_features=num_features,\n",
    "            d_model=config[\"d_model\"],\n",
    "            nhead=config[\"num_heads\"],\n",
    "            num_layers=config[\"num_layers\"],\n",
    "            dim_feedforward=config[\"dim_feedforward\"],\n",
    "            dropout=config[\"dropout\"],\n",
    "            activation=config[\"activation\"],\n",
    "            max_seq_len=max(2 * num_features, 100)  # Set max_seq_len based on feature count\n",
    "        ).to(device)\n",
    "    \n",
    "    # Set up optimizer and scheduler\n",
    "    optimizer = optim.AdamW(\n",
    "        model.parameters(),\n",
    "        lr=config[\"learning_rate\"],\n",
    "        weight_decay=config[\"weight_decay\"]\n",
    "    )\n",
    "    \n",
    "    # Learning rate scheduler - use OneCycleLR for better convergence\n",
    "    total_steps = len(train_dataloader) * config[\"num_epochs\"]\n",
    "    scheduler = optim.lr_scheduler.OneCycleLR(\n",
    "        optimizer,\n",
    "        max_lr=config[\"learning_rate\"],\n",
    "        total_steps=total_steps,\n",
    "        pct_start=0.3,  # Warm-up phase percentage\n",
    "        anneal_strategy='cos',\n",
    "        div_factor=25.0,  # Initial lr = max_lr/div_factor\n",
    "        final_div_factor=10000.0  # Final lr = initial_lr/final_div_factor\n",
    "    )\n",
    "    \n",
    "    # Training history\n",
    "    history = {\n",
    "        \"train_loss\": [],\n",
    "        \"val_loss\": [],\n",
    "        \"val_rmse\": [],\n",
    "        \"val_nrmse\": [],\n",
    "        \"val_mcar_nrmse\": [],\n",
    "        \"val_mar_nrmse\": [],\n",
    "        \"val_mnar_nrmse\": [],\n",
    "        \"lr\": []\n",
    "    }\n",
    "    \n",
    "    # Early stopping\n",
    "    best_val_loss = float('inf')\n",
    "    best_model_weights = None\n",
    "    patience_counter = 0\n",
    "    \n",
    "    mechanisms = [\"MCAR\", \"MAR\", \"MNAR\"]\n",
    "    \n",
    "    # Training loop\n",
    "    for epoch in range(config[\"num_epochs\"]):\n",
    "        print(f\"\\nEpoch {epoch + 1}/{config['num_epochs']}\")\n",
    "        \n",
    "        # Train\n",
    "        train_metrics = train_epoch(\n",
    "            model,\n",
    "            train_dataloader,\n",
    "            optimizer,\n",
    "            config[\"missing_fraction\"],\n",
    "            mechanisms,\n",
    "            scheduler,\n",
    "        )\n",
    "        \n",
    "        # Validate\n",
    "        val_metrics = validate(\n",
    "            model,\n",
    "            val_dataloader,\n",
    "            config[\"missing_fraction\"],\n",
    "            mechanisms\n",
    "        )\n",
    "        \n",
    "        # Update history\n",
    "        history[\"train_loss\"].append(train_metrics[\"loss\"])\n",
    "        history[\"val_loss\"].append(val_metrics[\"loss\"])\n",
    "        history[\"val_rmse\"].append(val_metrics[\"rmse\"])\n",
    "        history[\"val_nrmse\"].append(val_metrics[\"nrmse\"])\n",
    "        history[\"val_mcar_nrmse\"].append(val_metrics[\"mechanisms\"][\"MCAR\"][\"nrmse\"])\n",
    "        history[\"val_mar_nrmse\"].append(val_metrics[\"mechanisms\"][\"MAR\"][\"nrmse\"])\n",
    "        history[\"val_mnar_nrmse\"].append(val_metrics[\"mechanisms\"][\"MNAR\"][\"nrmse\"])\n",
    "        history[\"lr\"].append(optimizer.param_groups[0][\"lr\"])\n",
    "        \n",
    "        # Print metrics\n",
    "        print(f\"Train Loss: {train_metrics['loss']:.4f}\")\n",
    "        print(f\"Val Loss: {val_metrics['loss']:.4f}\")\n",
    "        print(f\"Val NRMSE: {val_metrics['nrmse']:.4f}\")\n",
    "        print(f\"Val MCAR NRMSE: {val_metrics['mechanisms']['MCAR']['nrmse']:.4f}\")\n",
    "        print(f\"Val MAR NRMSE: {val_metrics['mechanisms']['MAR']['nrmse']:.4f}\")\n",
    "        print(f\"Val MNAR NRMSE: {val_metrics['mechanisms']['MNAR']['nrmse']:.4f}\")\n",
    "        \n",
    "        # Check for improvement\n",
    "        if val_metrics[\"loss\"] < best_val_loss:\n",
    "            best_val_loss = val_metrics[\"loss\"]\n",
    "            best_model_weights = model.state_dict().copy()\n",
    "            patience_counter = 0\n",
    "            print(f\"New best validation loss: {best_val_loss:.4f}\")\n",
    "        else:\n",
    "            patience_counter += 1\n",
    "            print(f\"No improvement for {patience_counter} epochs\")\n",
    "        \n",
    "        # Early stopping\n",
    "        if patience_counter >= config[\"patience\"]:\n",
    "            print(f\"Early stopping after {epoch + 1} epochs\")\n",
    "            break\n",
    "    \n",
    "    # Load best model\n",
    "    if best_model_weights is not None:\n",
    "        model.load_state_dict(best_model_weights)\n",
    "    \n",
    "    return model, history"
   ]
  },
  {
   "cell_type": "code",
   "execution_count": 23,
   "metadata": {},
   "outputs": [],
   "source": [
    "def cross_validate_model(data, column_indices, config, n_folds=5, model_type=\"single\"):\n",
    "    \"\"\"\n",
    "    Perform k-fold cross-validation.\n",
    "    \n",
    "    Args:\n",
    "        data (torch.Tensor): Data to split\n",
    "        column_indices (torch.Tensor): Feature column indices\n",
    "        config (dict): Configuration dictionary\n",
    "        n_folds (int): Number of folds\n",
    "        model_type (str): Type of model to train (\"single\" or \"ensemble\")\n",
    "        \n",
    "    Returns:\n",
    "        dict: Dictionary with average metrics across folds\n",
    "    \"\"\"\n",
    "    kf = KFold(n_splits=n_folds, shuffle=True, random_state=SEED)\n",
    "    \n",
    "    all_metrics = []\n",
    "    all_models = []\n",
    "    \n",
    "    for fold, (train_idx, val_idx) in enumerate(kf.split(data)):\n",
    "        print(f\"\\nTraining fold {fold+1}/{n_folds}\")\n",
    "        \n",
    "        # Split data\n",
    "        train_data = data[train_idx]\n",
    "        val_data = data[val_idx]\n",
    "        \n",
    "        # Train model (can be single or ensemble based on model_type)\n",
    "        model, history = train_model(train_data, val_data, column_indices, config, model_type=model_type)\n",
    "        \n",
    "        # Store model\n",
    "        all_models.append(model)\n",
    "        \n",
    "        # Validate\n",
    "        val_dataloader = DataLoader(TensorDataset(val_data), batch_size=config[\"batch_size\"])\n",
    "        metrics = validate(model, val_dataloader, config[\"missing_fraction\"], [\"MCAR\", \"MAR\", \"MNAR\"])\n",
    "        \n",
    "        all_metrics.append(metrics)\n",
    "        \n",
    "        print(f\"Fold {fold+1} metrics:\")\n",
    "        print(f\"  NRMSE: {metrics['nrmse']:.4f}\")\n",
    "        print(f\"  MCAR NRMSE: {metrics['mechanisms']['MCAR']['nrmse']:.4f}\")\n",
    "        print(f\"  MAR NRMSE: {metrics['mechanisms']['MAR']['nrmse']:.4f}\")\n",
    "        print(f\"  MNAR NRMSE: {metrics['mechanisms']['MNAR']['nrmse']:.4f}\")\n",
    "    \n",
    "    # Average metrics across folds\n",
    "    avg_metrics = {\n",
    "        \"nrmse\": np.mean([m[\"nrmse\"] for m in all_metrics]),\n",
    "        \"mcar_nrmse\": np.mean([m[\"mechanisms\"][\"MCAR\"][\"nrmse\"] for m in all_metrics]),\n",
    "        \"mar_nrmse\": np.mean([m[\"mechanisms\"][\"MAR\"][\"nrmse\"] for m in all_metrics]),\n",
    "        \"mnar_nrmse\": np.mean([m[\"mechanisms\"][\"MNAR\"][\"nrmse\"] for m in all_metrics])\n",
    "    }\n",
    "    \n",
    "    # Standard deviation of metrics\n",
    "    std_metrics = {\n",
    "        \"nrmse_std\": np.std([m[\"nrmse\"] for m in all_metrics]),\n",
    "        \"mcar_nrmse_std\": np.std([m[\"mechanisms\"][\"MCAR\"][\"nrmse\"] for m in all_metrics]),\n",
    "        \"mar_nrmse_std\": np.std([m[\"mechanisms\"][\"MAR\"][\"nrmse\"] for m in all_metrics]),\n",
    "        \"mnar_nrmse_std\": np.std([m[\"mechanisms\"][\"MNAR\"][\"nrmse\"] for m in all_metrics])\n",
    "    }\n",
    "    \n",
    "    # Add standard deviations to results\n",
    "    avg_metrics.update(std_metrics)\n",
    "    \n",
    "    print(\"\\nAverage metrics across folds:\")\n",
    "    print(f\"  NRMSE: {avg_metrics['nrmse']:.4f} ± {avg_metrics['nrmse_std']:.4f}\")\n",
    "    print(f\"  MCAR NRMSE: {avg_metrics['mcar_nrmse']:.4f} ± {avg_metrics['mcar_nrmse_std']:.4f}\")\n",
    "    print(f\"  MAR NRMSE: {avg_metrics['mar_nrmse']:.4f} ± {avg_metrics['mar_nrmse_std']:.4f}\")\n",
    "    print(f\"  MNAR NRMSE: {avg_metrics['mnar_nrmse']:.4f} ± {avg_metrics['mnar_nrmse_std']:.4f}\")\n",
    "    \n",
    "    return avg_metrics, all_models"
   ]
  },
  {
   "cell_type": "code",
   "execution_count": 24,
   "metadata": {},
   "outputs": [],
   "source": [
    "def train_mnar_specialized_model(train_data, val_data, column_indices, config):\n",
    "    \"\"\"\n",
    "    Train a model specialized for MNAR data.\n",
    "    \n",
    "    Args:\n",
    "        train_data (torch.Tensor): Training data\n",
    "        val_data (torch.Tensor): Validation data\n",
    "        column_indices (torch.Tensor): Column indices\n",
    "        config (dict): Configuration dictionary\n",
    "        \n",
    "    Returns:\n",
    "        tuple: Trained model and training history\n",
    "    \"\"\"\n",
    "    print(\"Starting specialized MNAR model training...\")\n",
    "    \n",
    "    # Create dataloaders\n",
    "    train_dataset = TensorDataset(train_data)\n",
    "    val_dataset = TensorDataset(val_data)\n",
    "    \n",
    "    train_dataloader = DataLoader(\n",
    "        train_dataset, \n",
    "        batch_size=config[\"batch_size\"], \n",
    "        shuffle=True\n",
    "    )\n",
    "    \n",
    "    val_dataloader = DataLoader(\n",
    "        val_dataset, \n",
    "        batch_size=config[\"batch_size\"]\n",
    "    )\n",
    "    \n",
    "    # Create model\n",
    "    num_features = train_data.shape[1]\n",
    "    model = TabularTransformerWithRelPos(\n",
    "        num_features=num_features,\n",
    "        d_model=config[\"d_model\"],\n",
    "        nhead=config[\"num_heads\"],\n",
    "        num_layers=config[\"num_layers\"],\n",
    "        dim_feedforward=config[\"dim_feedforward\"],\n",
    "        dropout=config[\"dropout\"],\n",
    "        activation=config[\"activation\"],\n",
    "        max_seq_len=max(2 * num_features, 100)\n",
    "    ).to(device)\n",
    "    \n",
    "    # Set up optimizer and scheduler\n",
    "    optimizer = optim.AdamW(\n",
    "        model.parameters(),\n",
    "        lr=config[\"learning_rate\"],\n",
    "        weight_decay=config[\"weight_decay\"]\n",
    "    )\n",
    "    \n",
    "    # Learning rate scheduler\n",
    "    total_steps = len(train_dataloader) * config[\"num_epochs\"]\n",
    "    scheduler = optim.lr_scheduler.OneCycleLR(\n",
    "        optimizer,\n",
    "        max_lr=config[\"learning_rate\"],\n",
    "        total_steps=total_steps,\n",
    "        pct_start=0.3,\n",
    "        anneal_strategy='cos',\n",
    "        div_factor=25.0,\n",
    "        final_div_factor=10000.0\n",
    "    )\n",
    "    \n",
    "    # Training history\n",
    "    history = {\n",
    "        \"train_loss\": [],\n",
    "        \"val_loss\": [],\n",
    "        \"val_mnar_nrmse\": [],\n",
    "        \"lr\": []\n",
    "    }\n",
    "    \n",
    "    # Early stopping\n",
    "    best_val_loss = float('inf')\n",
    "    best_model_weights = None\n",
    "    patience_counter = 0\n",
    "    \n",
    "    # Only train with MNAR mechanism\n",
    "    mechanisms = [\"MNAR\"]\n",
    "    \n",
    "    # Training loop\n",
    "    for epoch in range(config[\"num_epochs\"]):\n",
    "        print(f\"\\nEpoch {epoch + 1}/{config['num_epochs']}\")\n",
    "        \n",
    "        # Train\n",
    "        train_metrics = train_epoch(\n",
    "            model,\n",
    "            train_dataloader,\n",
    "            optimizer,\n",
    "            config[\"missing_fraction\"],\n",
    "            mechanisms,\n",
    "            scheduler,\n",
    "        )\n",
    "        \n",
    "        # Validate\n",
    "        val_metrics = validate(\n",
    "            model,\n",
    "            val_dataloader,\n",
    "            config[\"missing_fraction\"],\n",
    "            mechanisms\n",
    "        )\n",
    "        \n",
    "        # Update history\n",
    "        history[\"train_loss\"].append(train_metrics[\"loss\"])\n",
    "        history[\"val_loss\"].append(val_metrics[\"loss\"])\n",
    "        history[\"val_mnar_nrmse\"].append(val_metrics[\"mechanisms\"][\"MNAR\"][\"nrmse\"])\n",
    "        history[\"lr\"].append(optimizer.param_groups[0][\"lr\"])\n",
    "        \n",
    "        # Print metrics\n",
    "        print(f\"Train Loss: {train_metrics['loss']:.4f}\")\n",
    "        print(f\"Val Loss: {val_metrics['loss']:.4f}\")\n",
    "        print(f\"Val MNAR NRMSE: {val_metrics['mechanisms']['MNAR']['nrmse']:.4f}\")\n",
    "        \n",
    "        # Check for improvement\n",
    "        if val_metrics[\"loss\"] < best_val_loss:\n",
    "            best_val_loss = val_metrics[\"loss\"]\n",
    "            best_model_weights = model.state_dict().copy()\n",
    "            patience_counter = 0\n",
    "            print(f\"New best validation loss: {best_val_loss:.4f}\")\n",
    "        else:\n",
    "            patience_counter += 1\n",
    "            print(f\"No improvement for {patience_counter} epochs\")\n",
    "        \n",
    "        # Early stopping\n",
    "        if patience_counter >= config[\"patience\"]:\n",
    "            print(f\"Early stopping after {epoch + 1} epochs\")\n",
    "            break\n",
    "    \n",
    "    # Load best model\n",
    "    if best_model_weights is not None:\n",
    "        model.load_state_dict(best_model_weights)\n",
    "    \n",
    "    return model, history"
   ]
  },
  {
   "cell_type": "code",
   "execution_count": 25,
   "metadata": {},
   "outputs": [
    {
     "name": "stdout",
     "output_type": "stream",
     "text": [
      "Loading data from ./data/physionet_39_features_only_no_leakage.csv\n",
      "Warning: Dataset contains 3063 missing values. These will be handled in preprocessing.\n",
      "Dataset shape: (2008, 39)\n",
      "Number of training samples: 1405\n",
      "Number of validation samples: 201\n",
      "Number of test samples: 402\n",
      "Number of features: 39\n",
      "\n",
      "=== Running K-Fold Cross-Validation ===\n",
      "\n",
      "---- K-Fold with Single Model ----\n",
      "\n",
      "Training fold 1/5\n",
      "Starting model training...\n",
      "Creating single transformer model...\n",
      "\n",
      "Epoch 1/100\n"
     ]
    },
    {
     "name": "stderr",
     "output_type": "stream",
     "text": [
      "Training: 100%|██████████| 11/11 [00:01<00:00,  6.83it/s, loss=2.41]\n"
     ]
    },
    {
     "name": "stdout",
     "output_type": "stream",
     "text": [
      "Train Loss: 2.1718\n",
      "Val Loss: 1.5051\n",
      "Val NRMSE: 0.0458\n",
      "Val MCAR NRMSE: 0.0450\n",
      "Val MAR NRMSE: 0.0410\n",
      "Val MNAR NRMSE: 0.0513\n",
      "New best validation loss: 1.5051\n",
      "\n",
      "Epoch 2/100\n"
     ]
    },
    {
     "name": "stderr",
     "output_type": "stream",
     "text": [
      "Training: 100%|██████████| 11/11 [00:01<00:00,  8.22it/s, loss=0.995]\n"
     ]
    },
    {
     "name": "stdout",
     "output_type": "stream",
     "text": [
      "Train Loss: 1.4961\n",
      "Val Loss: 1.3427\n",
      "Val NRMSE: 0.0432\n",
      "Val MCAR NRMSE: 0.0396\n",
      "Val MAR NRMSE: 0.0376\n",
      "Val MNAR NRMSE: 0.0524\n",
      "New best validation loss: 1.3427\n",
      "\n",
      "Epoch 3/100\n"
     ]
    },
    {
     "name": "stderr",
     "output_type": "stream",
     "text": [
      "Training: 100%|██████████| 11/11 [00:01<00:00,  8.06it/s, loss=1.24] \n"
     ]
    },
    {
     "name": "stdout",
     "output_type": "stream",
     "text": [
      "Train Loss: 1.7326\n",
      "Val Loss: 1.3847\n",
      "Val NRMSE: 0.0439\n",
      "Val MCAR NRMSE: 0.0427\n",
      "Val MAR NRMSE: 0.0366\n",
      "Val MNAR NRMSE: 0.0526\n",
      "No improvement for 1 epochs\n",
      "\n",
      "Epoch 4/100\n"
     ]
    },
    {
     "name": "stderr",
     "output_type": "stream",
     "text": [
      "Training: 100%|██████████| 11/11 [00:01<00:00,  8.33it/s, loss=1.15]\n"
     ]
    },
    {
     "name": "stdout",
     "output_type": "stream",
     "text": [
      "Train Loss: 1.8929\n",
      "Val Loss: 1.4115\n",
      "Val NRMSE: 0.0443\n",
      "Val MCAR NRMSE: 0.0421\n",
      "Val MAR NRMSE: 0.0396\n",
      "Val MNAR NRMSE: 0.0513\n",
      "No improvement for 2 epochs\n",
      "\n",
      "Epoch 5/100\n"
     ]
    },
    {
     "name": "stderr",
     "output_type": "stream",
     "text": [
      "Training: 100%|██████████| 11/11 [00:01<00:00,  8.10it/s, loss=3.57]\n"
     ]
    },
    {
     "name": "stdout",
     "output_type": "stream",
     "text": [
      "Train Loss: 2.0217\n",
      "Val Loss: 1.4093\n",
      "Val NRMSE: 0.0441\n",
      "Val MCAR NRMSE: 0.0390\n",
      "Val MAR NRMSE: 0.0391\n",
      "Val MNAR NRMSE: 0.0542\n",
      "No improvement for 3 epochs\n",
      "\n",
      "Epoch 6/100\n"
     ]
    },
    {
     "name": "stderr",
     "output_type": "stream",
     "text": [
      "Training: 100%|██████████| 11/11 [00:01<00:00,  8.32it/s, loss=0.47]\n"
     ]
    },
    {
     "name": "stdout",
     "output_type": "stream",
     "text": [
      "Train Loss: 1.4931\n",
      "Val Loss: 1.3754\n",
      "Val NRMSE: 0.0434\n",
      "Val MCAR NRMSE: 0.0352\n",
      "Val MAR NRMSE: 0.0389\n",
      "Val MNAR NRMSE: 0.0559\n",
      "No improvement for 4 epochs\n",
      "\n",
      "Epoch 7/100\n"
     ]
    },
    {
     "name": "stderr",
     "output_type": "stream",
     "text": [
      "Training: 100%|██████████| 11/11 [00:01<00:00,  8.57it/s, loss=1.5] \n"
     ]
    },
    {
     "name": "stdout",
     "output_type": "stream",
     "text": [
      "Train Loss: 2.5950\n",
      "Val Loss: 1.3608\n",
      "Val NRMSE: 0.0434\n",
      "Val MCAR NRMSE: 0.0386\n",
      "Val MAR NRMSE: 0.0390\n",
      "Val MNAR NRMSE: 0.0528\n",
      "No improvement for 5 epochs\n",
      "\n",
      "Epoch 8/100\n"
     ]
    },
    {
     "name": "stderr",
     "output_type": "stream",
     "text": [
      "Training: 100%|██████████| 11/11 [00:01<00:00,  8.63it/s, loss=3.13]\n"
     ]
    },
    {
     "name": "stdout",
     "output_type": "stream",
     "text": [
      "Train Loss: 2.1378\n",
      "Val Loss: 1.4324\n",
      "Val NRMSE: 0.0443\n",
      "Val MCAR NRMSE: 0.0400\n",
      "Val MAR NRMSE: 0.0369\n",
      "Val MNAR NRMSE: 0.0561\n",
      "No improvement for 6 epochs\n",
      "\n",
      "Epoch 9/100\n"
     ]
    },
    {
     "name": "stderr",
     "output_type": "stream",
     "text": [
      "Training: 100%|██████████| 11/11 [00:01<00:00,  8.35it/s, loss=1.64] \n"
     ]
    },
    {
     "name": "stdout",
     "output_type": "stream",
     "text": [
      "Train Loss: 1.6558\n",
      "Val Loss: 1.3198\n",
      "Val NRMSE: 0.0426\n",
      "Val MCAR NRMSE: 0.0373\n",
      "Val MAR NRMSE: 0.0363\n",
      "Val MNAR NRMSE: 0.0542\n",
      "New best validation loss: 1.3198\n",
      "\n",
      "Epoch 10/100\n"
     ]
    },
    {
     "name": "stderr",
     "output_type": "stream",
     "text": [
      "Training: 100%|██████████| 11/11 [00:01<00:00,  8.73it/s, loss=0.741]\n"
     ]
    },
    {
     "name": "stdout",
     "output_type": "stream",
     "text": [
      "Train Loss: 1.4373\n",
      "Val Loss: 1.3401\n",
      "Val NRMSE: 0.0431\n",
      "Val MCAR NRMSE: 0.0393\n",
      "Val MAR NRMSE: 0.0362\n",
      "Val MNAR NRMSE: 0.0537\n",
      "No improvement for 1 epochs\n",
      "\n",
      "Epoch 11/100\n"
     ]
    },
    {
     "name": "stderr",
     "output_type": "stream",
     "text": [
      "Training: 100%|██████████| 11/11 [00:01<00:00,  8.79it/s, loss=1.13]\n"
     ]
    },
    {
     "name": "stdout",
     "output_type": "stream",
     "text": [
      "Train Loss: 1.4696\n",
      "Val Loss: 1.4836\n",
      "Val NRMSE: 0.0449\n",
      "Val MCAR NRMSE: 0.0383\n",
      "Val MAR NRMSE: 0.0383\n",
      "Val MNAR NRMSE: 0.0580\n",
      "No improvement for 2 epochs\n",
      "\n",
      "Epoch 12/100\n"
     ]
    },
    {
     "name": "stderr",
     "output_type": "stream",
     "text": [
      "Training: 100%|██████████| 11/11 [00:01<00:00,  8.53it/s, loss=0.891]\n"
     ]
    },
    {
     "name": "stdout",
     "output_type": "stream",
     "text": [
      "Train Loss: 1.4929\n",
      "Val Loss: 1.4464\n",
      "Val NRMSE: 0.0452\n",
      "Val MCAR NRMSE: 0.0438\n",
      "Val MAR NRMSE: 0.0412\n",
      "Val MNAR NRMSE: 0.0508\n",
      "No improvement for 3 epochs\n",
      "\n",
      "Epoch 13/100\n"
     ]
    },
    {
     "name": "stderr",
     "output_type": "stream",
     "text": [
      "Training: 100%|██████████| 11/11 [00:01<00:00,  8.53it/s, loss=0.574]\n"
     ]
    },
    {
     "name": "stdout",
     "output_type": "stream",
     "text": [
      "Train Loss: 1.7465\n",
      "Val Loss: 1.3876\n",
      "Val NRMSE: 0.0441\n",
      "Val MCAR NRMSE: 0.0420\n",
      "Val MAR NRMSE: 0.0384\n",
      "Val MNAR NRMSE: 0.0519\n",
      "No improvement for 4 epochs\n",
      "\n",
      "Epoch 14/100\n"
     ]
    },
    {
     "name": "stderr",
     "output_type": "stream",
     "text": [
      "Training: 100%|██████████| 11/11 [00:01<00:00,  8.61it/s, loss=0.513]\n"
     ]
    },
    {
     "name": "stdout",
     "output_type": "stream",
     "text": [
      "Train Loss: 2.1438\n",
      "Val Loss: 1.4050\n",
      "Val NRMSE: 0.0440\n",
      "Val MCAR NRMSE: 0.0381\n",
      "Val MAR NRMSE: 0.0381\n",
      "Val MNAR NRMSE: 0.0559\n",
      "No improvement for 5 epochs\n",
      "\n",
      "Epoch 15/100\n"
     ]
    },
    {
     "name": "stderr",
     "output_type": "stream",
     "text": [
      "Training: 100%|██████████| 11/11 [00:01<00:00,  8.67it/s, loss=0.538]\n"
     ]
    },
    {
     "name": "stdout",
     "output_type": "stream",
     "text": [
      "Train Loss: 1.8309\n",
      "Val Loss: 1.3826\n",
      "Val NRMSE: 0.0437\n",
      "Val MCAR NRMSE: 0.0387\n",
      "Val MAR NRMSE: 0.0395\n",
      "Val MNAR NRMSE: 0.0530\n",
      "No improvement for 6 epochs\n",
      "\n",
      "Epoch 16/100\n"
     ]
    },
    {
     "name": "stderr",
     "output_type": "stream",
     "text": [
      "Training: 100%|██████████| 11/11 [00:01<00:00,  8.58it/s, loss=0.897]\n"
     ]
    },
    {
     "name": "stdout",
     "output_type": "stream",
     "text": [
      "Train Loss: 1.8027\n",
      "Val Loss: 1.4744\n",
      "Val NRMSE: 0.0450\n",
      "Val MCAR NRMSE: 0.0378\n",
      "Val MAR NRMSE: 0.0402\n",
      "Val MNAR NRMSE: 0.0569\n",
      "No improvement for 7 epochs\n",
      "\n",
      "Epoch 17/100\n"
     ]
    },
    {
     "name": "stderr",
     "output_type": "stream",
     "text": [
      "Training: 100%|██████████| 11/11 [00:01<00:00,  8.63it/s, loss=2.22]\n"
     ]
    },
    {
     "name": "stdout",
     "output_type": "stream",
     "text": [
      "Train Loss: 1.6135\n",
      "Val Loss: 1.4595\n",
      "Val NRMSE: 0.0444\n",
      "Val MCAR NRMSE: 0.0390\n",
      "Val MAR NRMSE: 0.0363\n",
      "Val MNAR NRMSE: 0.0581\n",
      "No improvement for 8 epochs\n",
      "\n",
      "Epoch 18/100\n"
     ]
    },
    {
     "name": "stderr",
     "output_type": "stream",
     "text": [
      "Training: 100%|██████████| 11/11 [00:01<00:00,  8.55it/s, loss=0.815]\n"
     ]
    },
    {
     "name": "stdout",
     "output_type": "stream",
     "text": [
      "Train Loss: 1.5876\n",
      "Val Loss: 1.3840\n",
      "Val NRMSE: 0.0440\n",
      "Val MCAR NRMSE: 0.0434\n",
      "Val MAR NRMSE: 0.0379\n",
      "Val MNAR NRMSE: 0.0507\n",
      "No improvement for 9 epochs\n",
      "\n",
      "Epoch 19/100\n"
     ]
    },
    {
     "name": "stderr",
     "output_type": "stream",
     "text": [
      "Training: 100%|██████████| 11/11 [00:01<00:00,  8.07it/s, loss=0.452]\n"
     ]
    },
    {
     "name": "stdout",
     "output_type": "stream",
     "text": [
      "Train Loss: 1.3725\n",
      "Val Loss: 1.3883\n",
      "Val NRMSE: 0.0439\n",
      "Val MCAR NRMSE: 0.0430\n",
      "Val MAR NRMSE: 0.0361\n",
      "Val MNAR NRMSE: 0.0525\n",
      "No improvement for 10 epochs\n",
      "\n",
      "Epoch 20/100\n"
     ]
    },
    {
     "name": "stderr",
     "output_type": "stream",
     "text": [
      "Training: 100%|██████████| 11/11 [00:01<00:00,  8.42it/s, loss=0.843]\n"
     ]
    },
    {
     "name": "stdout",
     "output_type": "stream",
     "text": [
      "Train Loss: 1.6981\n",
      "Val Loss: 1.4311\n",
      "Val NRMSE: 0.0450\n",
      "Val MCAR NRMSE: 0.0430\n",
      "Val MAR NRMSE: 0.0414\n",
      "Val MNAR NRMSE: 0.0505\n",
      "No improvement for 11 epochs\n",
      "\n",
      "Epoch 21/100\n"
     ]
    },
    {
     "name": "stderr",
     "output_type": "stream",
     "text": [
      "Training: 100%|██████████| 11/11 [00:01<00:00,  8.41it/s, loss=1.37]\n"
     ]
    },
    {
     "name": "stdout",
     "output_type": "stream",
     "text": [
      "Train Loss: 1.9734\n",
      "Val Loss: 1.4643\n",
      "Val NRMSE: 0.0455\n",
      "Val MCAR NRMSE: 0.0449\n",
      "Val MAR NRMSE: 0.0409\n",
      "Val MNAR NRMSE: 0.0506\n",
      "No improvement for 12 epochs\n",
      "\n",
      "Epoch 22/100\n"
     ]
    },
    {
     "name": "stderr",
     "output_type": "stream",
     "text": [
      "Training: 100%|██████████| 11/11 [00:01<00:00,  8.42it/s, loss=0.426]\n"
     ]
    },
    {
     "name": "stdout",
     "output_type": "stream",
     "text": [
      "Train Loss: 1.5603\n",
      "Val Loss: 1.5941\n",
      "Val NRMSE: 0.0474\n",
      "Val MCAR NRMSE: 0.0468\n",
      "Val MAR NRMSE: 0.0443\n",
      "Val MNAR NRMSE: 0.0512\n",
      "No improvement for 13 epochs\n",
      "\n",
      "Epoch 23/100\n"
     ]
    },
    {
     "name": "stderr",
     "output_type": "stream",
     "text": [
      "Training: 100%|██████████| 11/11 [00:01<00:00,  8.80it/s, loss=0.526]\n"
     ]
    },
    {
     "name": "stdout",
     "output_type": "stream",
     "text": [
      "Train Loss: 1.7534\n",
      "Val Loss: 1.4592\n",
      "Val NRMSE: 0.0451\n",
      "Val MCAR NRMSE: 0.0392\n",
      "Val MAR NRMSE: 0.0420\n",
      "Val MNAR NRMSE: 0.0540\n",
      "No improvement for 14 epochs\n",
      "\n",
      "Epoch 24/100\n"
     ]
    },
    {
     "name": "stderr",
     "output_type": "stream",
     "text": [
      "Training: 100%|██████████| 11/11 [00:01<00:00,  8.61it/s, loss=0.526]\n"
     ]
    },
    {
     "name": "stdout",
     "output_type": "stream",
     "text": [
      "Train Loss: 1.5983\n",
      "Val Loss: 1.5517\n",
      "Val NRMSE: 0.0468\n",
      "Val MCAR NRMSE: 0.0462\n",
      "Val MAR NRMSE: 0.0433\n",
      "Val MNAR NRMSE: 0.0509\n",
      "No improvement for 15 epochs\n",
      "\n",
      "Epoch 25/100\n"
     ]
    },
    {
     "name": "stderr",
     "output_type": "stream",
     "text": [
      "Training: 100%|██████████| 11/11 [00:01<00:00,  9.14it/s, loss=0.496]\n"
     ]
    },
    {
     "name": "stdout",
     "output_type": "stream",
     "text": [
      "Train Loss: 1.2137\n",
      "Val Loss: 1.4725\n",
      "Val NRMSE: 0.0452\n",
      "Val MCAR NRMSE: 0.0415\n",
      "Val MAR NRMSE: 0.0380\n",
      "Val MNAR NRMSE: 0.0562\n",
      "No improvement for 16 epochs\n",
      "\n",
      "Epoch 26/100\n"
     ]
    },
    {
     "name": "stderr",
     "output_type": "stream",
     "text": [
      "Training: 100%|██████████| 11/11 [00:01<00:00,  8.78it/s, loss=0.91] \n"
     ]
    },
    {
     "name": "stdout",
     "output_type": "stream",
     "text": [
      "Train Loss: 1.3016\n",
      "Val Loss: 1.3130\n",
      "Val NRMSE: 0.0426\n",
      "Val MCAR NRMSE: 0.0381\n",
      "Val MAR NRMSE: 0.0368\n",
      "Val MNAR NRMSE: 0.0529\n",
      "New best validation loss: 1.3130\n",
      "\n",
      "Epoch 27/100\n"
     ]
    },
    {
     "name": "stderr",
     "output_type": "stream",
     "text": [
      "Training: 100%|██████████| 11/11 [00:01<00:00,  8.30it/s, loss=0.624]\n"
     ]
    },
    {
     "name": "stdout",
     "output_type": "stream",
     "text": [
      "Train Loss: 1.8104\n",
      "Val Loss: 1.3716\n",
      "Val NRMSE: 0.0437\n",
      "Val MCAR NRMSE: 0.0412\n",
      "Val MAR NRMSE: 0.0379\n",
      "Val MNAR NRMSE: 0.0520\n",
      "No improvement for 1 epochs\n",
      "\n",
      "Epoch 28/100\n"
     ]
    },
    {
     "name": "stderr",
     "output_type": "stream",
     "text": [
      "Training: 100%|██████████| 11/11 [00:01<00:00,  8.71it/s, loss=1.08] \n"
     ]
    },
    {
     "name": "stdout",
     "output_type": "stream",
     "text": [
      "Train Loss: 1.3857\n",
      "Val Loss: 1.4053\n",
      "Val NRMSE: 0.0436\n",
      "Val MCAR NRMSE: 0.0354\n",
      "Val MAR NRMSE: 0.0386\n",
      "Val MNAR NRMSE: 0.0569\n",
      "No improvement for 2 epochs\n",
      "\n",
      "Epoch 29/100\n"
     ]
    },
    {
     "name": "stderr",
     "output_type": "stream",
     "text": [
      "Training: 100%|██████████| 11/11 [00:01<00:00,  8.97it/s, loss=0.318]\n"
     ]
    },
    {
     "name": "stdout",
     "output_type": "stream",
     "text": [
      "Train Loss: 1.4119\n",
      "Val Loss: 1.5974\n",
      "Val NRMSE: 0.0465\n",
      "Val MCAR NRMSE: 0.0380\n",
      "Val MAR NRMSE: 0.0406\n",
      "Val MNAR NRMSE: 0.0610\n",
      "No improvement for 3 epochs\n",
      "\n",
      "Epoch 30/100\n"
     ]
    },
    {
     "name": "stderr",
     "output_type": "stream",
     "text": [
      "Training: 100%|██████████| 11/11 [00:01<00:00,  8.49it/s, loss=0.935]\n"
     ]
    },
    {
     "name": "stdout",
     "output_type": "stream",
     "text": [
      "Train Loss: 2.0312\n",
      "Val Loss: 1.6392\n",
      "Val NRMSE: 0.0482\n",
      "Val MCAR NRMSE: 0.0483\n",
      "Val MAR NRMSE: 0.0451\n",
      "Val MNAR NRMSE: 0.0512\n",
      "No improvement for 4 epochs\n",
      "\n",
      "Epoch 31/100\n"
     ]
    },
    {
     "name": "stderr",
     "output_type": "stream",
     "text": [
      "Training: 100%|██████████| 11/11 [00:01<00:00,  8.32it/s, loss=0.472]\n"
     ]
    },
    {
     "name": "stdout",
     "output_type": "stream",
     "text": [
      "Train Loss: 1.5638\n",
      "Val Loss: 1.4896\n",
      "Val NRMSE: 0.0458\n",
      "Val MCAR NRMSE: 0.0476\n",
      "Val MAR NRMSE: 0.0383\n",
      "Val MNAR NRMSE: 0.0514\n",
      "No improvement for 5 epochs\n",
      "\n",
      "Epoch 32/100\n"
     ]
    },
    {
     "name": "stderr",
     "output_type": "stream",
     "text": [
      "Training: 100%|██████████| 11/11 [00:01<00:00,  8.60it/s, loss=0.38] \n"
     ]
    },
    {
     "name": "stdout",
     "output_type": "stream",
     "text": [
      "Train Loss: 1.6157\n",
      "Val Loss: 1.3785\n",
      "Val NRMSE: 0.0433\n",
      "Val MCAR NRMSE: 0.0388\n",
      "Val MAR NRMSE: 0.0357\n",
      "Val MNAR NRMSE: 0.0553\n",
      "No improvement for 6 epochs\n",
      "\n",
      "Epoch 33/100\n"
     ]
    },
    {
     "name": "stderr",
     "output_type": "stream",
     "text": [
      "Training: 100%|██████████| 11/11 [00:01<00:00,  8.71it/s, loss=0.413]\n"
     ]
    },
    {
     "name": "stdout",
     "output_type": "stream",
     "text": [
      "Train Loss: 1.2139\n",
      "Val Loss: 1.3239\n",
      "Val NRMSE: 0.0429\n",
      "Val MCAR NRMSE: 0.0390\n",
      "Val MAR NRMSE: 0.0370\n",
      "Val MNAR NRMSE: 0.0528\n",
      "No improvement for 7 epochs\n",
      "\n",
      "Epoch 34/100\n"
     ]
    },
    {
     "name": "stderr",
     "output_type": "stream",
     "text": [
      "Training: 100%|██████████| 11/11 [00:01<00:00,  8.63it/s, loss=0.799]\n"
     ]
    },
    {
     "name": "stdout",
     "output_type": "stream",
     "text": [
      "Train Loss: 1.5159\n",
      "Val Loss: 1.3770\n",
      "Val NRMSE: 0.0438\n",
      "Val MCAR NRMSE: 0.0397\n",
      "Val MAR NRMSE: 0.0377\n",
      "Val MNAR NRMSE: 0.0541\n",
      "No improvement for 8 epochs\n",
      "\n",
      "Epoch 35/100\n"
     ]
    },
    {
     "name": "stderr",
     "output_type": "stream",
     "text": [
      "Training: 100%|██████████| 11/11 [00:01<00:00,  8.82it/s, loss=0.645]\n"
     ]
    },
    {
     "name": "stdout",
     "output_type": "stream",
     "text": [
      "Train Loss: 1.3856\n",
      "Val Loss: 1.3134\n",
      "Val NRMSE: 0.0425\n",
      "Val MCAR NRMSE: 0.0382\n",
      "Val MAR NRMSE: 0.0364\n",
      "Val MNAR NRMSE: 0.0529\n",
      "No improvement for 9 epochs\n",
      "\n",
      "Epoch 36/100\n"
     ]
    },
    {
     "name": "stderr",
     "output_type": "stream",
     "text": [
      "Training: 100%|██████████| 11/11 [00:01<00:00,  8.76it/s, loss=1.31] \n"
     ]
    },
    {
     "name": "stdout",
     "output_type": "stream",
     "text": [
      "Train Loss: 1.2575\n",
      "Val Loss: 1.5136\n",
      "Val NRMSE: 0.0457\n",
      "Val MCAR NRMSE: 0.0396\n",
      "Val MAR NRMSE: 0.0396\n",
      "Val MNAR NRMSE: 0.0580\n",
      "No improvement for 10 epochs\n",
      "\n",
      "Epoch 37/100\n"
     ]
    },
    {
     "name": "stderr",
     "output_type": "stream",
     "text": [
      "Training: 100%|██████████| 11/11 [00:01<00:00,  8.66it/s, loss=0.824]\n"
     ]
    },
    {
     "name": "stdout",
     "output_type": "stream",
     "text": [
      "Train Loss: 1.4796\n",
      "Val Loss: 1.3270\n",
      "Val NRMSE: 0.0428\n",
      "Val MCAR NRMSE: 0.0404\n",
      "Val MAR NRMSE: 0.0352\n",
      "Val MNAR NRMSE: 0.0529\n",
      "No improvement for 11 epochs\n",
      "\n",
      "Epoch 38/100\n"
     ]
    },
    {
     "name": "stderr",
     "output_type": "stream",
     "text": [
      "Training: 100%|██████████| 11/11 [00:01<00:00,  8.69it/s, loss=2.58]\n"
     ]
    },
    {
     "name": "stdout",
     "output_type": "stream",
     "text": [
      "Train Loss: 1.7454\n",
      "Val Loss: 1.4243\n",
      "Val NRMSE: 0.0445\n",
      "Val MCAR NRMSE: 0.0394\n",
      "Val MAR NRMSE: 0.0399\n",
      "Val MNAR NRMSE: 0.0542\n",
      "No improvement for 12 epochs\n",
      "\n",
      "Epoch 39/100\n"
     ]
    },
    {
     "name": "stderr",
     "output_type": "stream",
     "text": [
      "Training: 100%|██████████| 11/11 [00:01<00:00,  8.45it/s, loss=0.274]\n"
     ]
    },
    {
     "name": "stdout",
     "output_type": "stream",
     "text": [
      "Train Loss: 1.7206\n",
      "Val Loss: 1.3428\n",
      "Val NRMSE: 0.0433\n",
      "Val MCAR NRMSE: 0.0408\n",
      "Val MAR NRMSE: 0.0367\n",
      "Val MNAR NRMSE: 0.0524\n",
      "No improvement for 13 epochs\n",
      "\n",
      "Epoch 40/100\n"
     ]
    },
    {
     "name": "stderr",
     "output_type": "stream",
     "text": [
      "Training: 100%|██████████| 11/11 [00:01<00:00,  8.64it/s, loss=0.478]\n"
     ]
    },
    {
     "name": "stdout",
     "output_type": "stream",
     "text": [
      "Train Loss: 1.8171\n",
      "Val Loss: 1.4117\n",
      "Val NRMSE: 0.0445\n",
      "Val MCAR NRMSE: 0.0423\n",
      "Val MAR NRMSE: 0.0393\n",
      "Val MNAR NRMSE: 0.0519\n",
      "No improvement for 14 epochs\n",
      "\n",
      "Epoch 41/100\n"
     ]
    },
    {
     "name": "stderr",
     "output_type": "stream",
     "text": [
      "Training: 100%|██████████| 11/11 [00:01<00:00,  8.51it/s, loss=0.832]\n"
     ]
    },
    {
     "name": "stdout",
     "output_type": "stream",
     "text": [
      "Train Loss: 1.3349\n",
      "Val Loss: 1.4324\n",
      "Val NRMSE: 0.0445\n",
      "Val MCAR NRMSE: 0.0380\n",
      "Val MAR NRMSE: 0.0398\n",
      "Val MNAR NRMSE: 0.0557\n",
      "No improvement for 15 epochs\n",
      "\n",
      "Epoch 42/100\n"
     ]
    },
    {
     "name": "stderr",
     "output_type": "stream",
     "text": [
      "Training: 100%|██████████| 11/11 [00:01<00:00,  8.53it/s, loss=0.456]\n"
     ]
    },
    {
     "name": "stdout",
     "output_type": "stream",
     "text": [
      "Train Loss: 1.6052\n",
      "Val Loss: 1.4496\n",
      "Val NRMSE: 0.0452\n",
      "Val MCAR NRMSE: 0.0453\n",
      "Val MAR NRMSE: 0.0391\n",
      "Val MNAR NRMSE: 0.0510\n",
      "No improvement for 16 epochs\n",
      "\n",
      "Epoch 43/100\n"
     ]
    },
    {
     "name": "stderr",
     "output_type": "stream",
     "text": [
      "Training: 100%|██████████| 11/11 [00:01<00:00,  8.81it/s, loss=0.725]\n"
     ]
    },
    {
     "name": "stdout",
     "output_type": "stream",
     "text": [
      "Train Loss: 1.8510\n",
      "Val Loss: 1.2948\n",
      "Val NRMSE: 0.0424\n",
      "Val MCAR NRMSE: 0.0372\n",
      "Val MAR NRMSE: 0.0379\n",
      "Val MNAR NRMSE: 0.0522\n",
      "New best validation loss: 1.2948\n",
      "\n",
      "Epoch 44/100\n"
     ]
    },
    {
     "name": "stderr",
     "output_type": "stream",
     "text": [
      "Training: 100%|██████████| 11/11 [00:01<00:00,  8.27it/s, loss=0.595]\n"
     ]
    },
    {
     "name": "stdout",
     "output_type": "stream",
     "text": [
      "Train Loss: 1.4792\n",
      "Val Loss: 1.4137\n",
      "Val NRMSE: 0.0445\n",
      "Val MCAR NRMSE: 0.0428\n",
      "Val MAR NRMSE: 0.0383\n",
      "Val MNAR NRMSE: 0.0526\n",
      "No improvement for 1 epochs\n",
      "\n",
      "Epoch 45/100\n"
     ]
    },
    {
     "name": "stderr",
     "output_type": "stream",
     "text": [
      "Training: 100%|██████████| 11/11 [00:01<00:00,  8.43it/s, loss=2.61]\n"
     ]
    },
    {
     "name": "stdout",
     "output_type": "stream",
     "text": [
      "Train Loss: 2.0193\n",
      "Val Loss: 1.4698\n",
      "Val NRMSE: 0.0454\n",
      "Val MCAR NRMSE: 0.0452\n",
      "Val MAR NRMSE: 0.0392\n",
      "Val MNAR NRMSE: 0.0518\n",
      "No improvement for 2 epochs\n",
      "\n",
      "Epoch 46/100\n"
     ]
    },
    {
     "name": "stderr",
     "output_type": "stream",
     "text": [
      "Training: 100%|██████████| 11/11 [00:01<00:00,  8.56it/s, loss=1.51]\n"
     ]
    },
    {
     "name": "stdout",
     "output_type": "stream",
     "text": [
      "Train Loss: 1.5949\n",
      "Val Loss: 1.3844\n",
      "Val NRMSE: 0.0437\n",
      "Val MCAR NRMSE: 0.0398\n",
      "Val MAR NRMSE: 0.0373\n",
      "Val MNAR NRMSE: 0.0539\n",
      "No improvement for 3 epochs\n",
      "\n",
      "Epoch 47/100\n"
     ]
    },
    {
     "name": "stderr",
     "output_type": "stream",
     "text": [
      "Training: 100%|██████████| 11/11 [00:01<00:00,  8.86it/s, loss=1.51] \n"
     ]
    },
    {
     "name": "stdout",
     "output_type": "stream",
     "text": [
      "Train Loss: 1.5034\n",
      "Val Loss: 1.4175\n",
      "Val NRMSE: 0.0445\n",
      "Val MCAR NRMSE: 0.0395\n",
      "Val MAR NRMSE: 0.0411\n",
      "Val MNAR NRMSE: 0.0530\n",
      "No improvement for 4 epochs\n",
      "\n",
      "Epoch 48/100\n"
     ]
    },
    {
     "name": "stderr",
     "output_type": "stream",
     "text": [
      "Training: 100%|██████████| 11/11 [00:01<00:00,  8.87it/s, loss=0.383]\n"
     ]
    },
    {
     "name": "stdout",
     "output_type": "stream",
     "text": [
      "Train Loss: 1.6006\n",
      "Val Loss: 1.3818\n",
      "Val NRMSE: 0.0433\n",
      "Val MCAR NRMSE: 0.0346\n",
      "Val MAR NRMSE: 0.0386\n",
      "Val MNAR NRMSE: 0.0567\n",
      "No improvement for 5 epochs\n",
      "\n",
      "Epoch 49/100\n"
     ]
    },
    {
     "name": "stderr",
     "output_type": "stream",
     "text": [
      "Training: 100%|██████████| 11/11 [00:01<00:00,  8.38it/s, loss=0.926]\n"
     ]
    },
    {
     "name": "stdout",
     "output_type": "stream",
     "text": [
      "Train Loss: 1.3050\n",
      "Val Loss: 1.3634\n",
      "Val NRMSE: 0.0432\n",
      "Val MCAR NRMSE: 0.0424\n",
      "Val MAR NRMSE: 0.0345\n",
      "Val MNAR NRMSE: 0.0528\n",
      "No improvement for 6 epochs\n",
      "\n",
      "Epoch 50/100\n"
     ]
    },
    {
     "name": "stderr",
     "output_type": "stream",
     "text": [
      "Training: 100%|██████████| 11/11 [00:01<00:00,  8.71it/s, loss=0.578]\n"
     ]
    },
    {
     "name": "stdout",
     "output_type": "stream",
     "text": [
      "Train Loss: 1.4467\n",
      "Val Loss: 1.3275\n",
      "Val NRMSE: 0.0428\n",
      "Val MCAR NRMSE: 0.0400\n",
      "Val MAR NRMSE: 0.0352\n",
      "Val MNAR NRMSE: 0.0533\n",
      "No improvement for 7 epochs\n",
      "\n",
      "Epoch 51/100\n"
     ]
    },
    {
     "name": "stderr",
     "output_type": "stream",
     "text": [
      "Training: 100%|██████████| 11/11 [00:01<00:00,  8.65it/s, loss=1.04]\n"
     ]
    },
    {
     "name": "stdout",
     "output_type": "stream",
     "text": [
      "Train Loss: 1.2817\n",
      "Val Loss: 1.3839\n",
      "Val NRMSE: 0.0436\n",
      "Val MCAR NRMSE: 0.0363\n",
      "Val MAR NRMSE: 0.0407\n",
      "Val MNAR NRMSE: 0.0539\n",
      "No improvement for 8 epochs\n",
      "\n",
      "Epoch 52/100\n"
     ]
    },
    {
     "name": "stderr",
     "output_type": "stream",
     "text": [
      "Training: 100%|██████████| 11/11 [00:01<00:00,  8.50it/s, loss=0.332]\n"
     ]
    },
    {
     "name": "stdout",
     "output_type": "stream",
     "text": [
      "Train Loss: 1.3819\n",
      "Val Loss: 1.4326\n",
      "Val NRMSE: 0.0450\n",
      "Val MCAR NRMSE: 0.0408\n",
      "Val MAR NRMSE: 0.0412\n",
      "Val MNAR NRMSE: 0.0529\n",
      "No improvement for 9 epochs\n",
      "\n",
      "Epoch 53/100\n"
     ]
    },
    {
     "name": "stderr",
     "output_type": "stream",
     "text": [
      "Training: 100%|██████████| 11/11 [00:01<00:00,  8.35it/s, loss=0.797]\n"
     ]
    },
    {
     "name": "stdout",
     "output_type": "stream",
     "text": [
      "Train Loss: 1.7799\n",
      "Val Loss: 1.3758\n",
      "Val NRMSE: 0.0437\n",
      "Val MCAR NRMSE: 0.0429\n",
      "Val MAR NRMSE: 0.0360\n",
      "Val MNAR NRMSE: 0.0521\n",
      "No improvement for 10 epochs\n",
      "\n",
      "Epoch 54/100\n"
     ]
    },
    {
     "name": "stderr",
     "output_type": "stream",
     "text": [
      "Training: 100%|██████████| 11/11 [00:01<00:00,  8.48it/s, loss=1.14]\n"
     ]
    },
    {
     "name": "stdout",
     "output_type": "stream",
     "text": [
      "Train Loss: 1.5619\n",
      "Val Loss: 1.3868\n",
      "Val NRMSE: 0.0435\n",
      "Val MCAR NRMSE: 0.0366\n",
      "Val MAR NRMSE: 0.0377\n",
      "Val MNAR NRMSE: 0.0562\n",
      "No improvement for 11 epochs\n",
      "\n",
      "Epoch 55/100\n"
     ]
    },
    {
     "name": "stderr",
     "output_type": "stream",
     "text": [
      "Training: 100%|██████████| 11/11 [00:01<00:00,  8.35it/s, loss=0.94]\n"
     ]
    },
    {
     "name": "stdout",
     "output_type": "stream",
     "text": [
      "Train Loss: 1.5628\n",
      "Val Loss: 1.3518\n",
      "Val NRMSE: 0.0434\n",
      "Val MCAR NRMSE: 0.0396\n",
      "Val MAR NRMSE: 0.0384\n",
      "Val MNAR NRMSE: 0.0522\n",
      "No improvement for 12 epochs\n",
      "\n",
      "Epoch 56/100\n"
     ]
    },
    {
     "name": "stderr",
     "output_type": "stream",
     "text": [
      "Training: 100%|██████████| 11/11 [00:01<00:00,  8.29it/s, loss=0.907]\n"
     ]
    },
    {
     "name": "stdout",
     "output_type": "stream",
     "text": [
      "Train Loss: 1.3107\n",
      "Val Loss: 1.3891\n",
      "Val NRMSE: 0.0439\n",
      "Val MCAR NRMSE: 0.0385\n",
      "Val MAR NRMSE: 0.0388\n",
      "Val MNAR NRMSE: 0.0544\n",
      "No improvement for 13 epochs\n",
      "\n",
      "Epoch 57/100\n"
     ]
    },
    {
     "name": "stderr",
     "output_type": "stream",
     "text": [
      "Training: 100%|██████████| 11/11 [00:01<00:00,  8.35it/s, loss=0.358]\n"
     ]
    },
    {
     "name": "stdout",
     "output_type": "stream",
     "text": [
      "Train Loss: 1.1869\n",
      "Val Loss: 1.4512\n",
      "Val NRMSE: 0.0446\n",
      "Val MCAR NRMSE: 0.0375\n",
      "Val MAR NRMSE: 0.0404\n",
      "Val MNAR NRMSE: 0.0558\n",
      "No improvement for 14 epochs\n",
      "\n",
      "Epoch 58/100\n"
     ]
    },
    {
     "name": "stderr",
     "output_type": "stream",
     "text": [
      "Training: 100%|██████████| 11/11 [00:01<00:00,  8.23it/s, loss=0.777]\n"
     ]
    },
    {
     "name": "stdout",
     "output_type": "stream",
     "text": [
      "Train Loss: 1.0778\n",
      "Val Loss: 1.3541\n",
      "Val NRMSE: 0.0430\n",
      "Val MCAR NRMSE: 0.0352\n",
      "Val MAR NRMSE: 0.0391\n",
      "Val MNAR NRMSE: 0.0546\n",
      "No improvement for 15 epochs\n",
      "\n",
      "Epoch 59/100\n"
     ]
    },
    {
     "name": "stderr",
     "output_type": "stream",
     "text": [
      "Training: 100%|██████████| 11/11 [00:01<00:00,  7.97it/s, loss=2.13]\n"
     ]
    },
    {
     "name": "stdout",
     "output_type": "stream",
     "text": [
      "Train Loss: 1.6939\n",
      "Val Loss: 1.3895\n",
      "Val NRMSE: 0.0441\n",
      "Val MCAR NRMSE: 0.0405\n",
      "Val MAR NRMSE: 0.0399\n",
      "Val MNAR NRMSE: 0.0519\n",
      "No improvement for 16 epochs\n",
      "\n",
      "Epoch 60/100\n"
     ]
    },
    {
     "name": "stderr",
     "output_type": "stream",
     "text": [
      "Training: 100%|██████████| 11/11 [00:01<00:00,  8.09it/s, loss=10.1]\n"
     ]
    },
    {
     "name": "stdout",
     "output_type": "stream",
     "text": [
      "Train Loss: 2.4020\n",
      "Val Loss: 1.4542\n",
      "Val NRMSE: 0.0452\n",
      "Val MCAR NRMSE: 0.0434\n",
      "Val MAR NRMSE: 0.0391\n",
      "Val MNAR NRMSE: 0.0532\n",
      "No improvement for 17 epochs\n",
      "\n",
      "Epoch 61/100\n"
     ]
    },
    {
     "name": "stderr",
     "output_type": "stream",
     "text": [
      "Training: 100%|██████████| 11/11 [00:01<00:00,  8.14it/s, loss=0.291]\n"
     ]
    },
    {
     "name": "stdout",
     "output_type": "stream",
     "text": [
      "Train Loss: 1.8459\n",
      "Val Loss: 1.3674\n",
      "Val NRMSE: 0.0435\n",
      "Val MCAR NRMSE: 0.0402\n",
      "Val MAR NRMSE: 0.0377\n",
      "Val MNAR NRMSE: 0.0527\n",
      "No improvement for 18 epochs\n",
      "\n",
      "Epoch 62/100\n"
     ]
    },
    {
     "name": "stderr",
     "output_type": "stream",
     "text": [
      "Training: 100%|██████████| 11/11 [00:01<00:00,  8.19it/s, loss=0.505]\n"
     ]
    },
    {
     "name": "stdout",
     "output_type": "stream",
     "text": [
      "Train Loss: 1.8126\n",
      "Val Loss: 1.3562\n",
      "Val NRMSE: 0.0434\n",
      "Val MCAR NRMSE: 0.0413\n",
      "Val MAR NRMSE: 0.0372\n",
      "Val MNAR NRMSE: 0.0518\n",
      "No improvement for 19 epochs\n",
      "\n",
      "Epoch 63/100\n"
     ]
    },
    {
     "name": "stderr",
     "output_type": "stream",
     "text": [
      "Training: 100%|██████████| 11/11 [00:01<00:00,  8.13it/s, loss=0.664]\n"
     ]
    },
    {
     "name": "stdout",
     "output_type": "stream",
     "text": [
      "Train Loss: 1.7198\n",
      "Val Loss: 1.3440\n",
      "Val NRMSE: 0.0432\n",
      "Val MCAR NRMSE: 0.0385\n",
      "Val MAR NRMSE: 0.0392\n",
      "Val MNAR NRMSE: 0.0519\n",
      "No improvement for 20 epochs\n",
      "\n",
      "Epoch 64/100\n"
     ]
    },
    {
     "name": "stderr",
     "output_type": "stream",
     "text": [
      "Training: 100%|██████████| 11/11 [00:01<00:00,  8.09it/s, loss=0.62]\n"
     ]
    },
    {
     "name": "stdout",
     "output_type": "stream",
     "text": [
      "Train Loss: 1.4112\n",
      "Val Loss: 1.4565\n",
      "Val NRMSE: 0.0452\n",
      "Val MCAR NRMSE: 0.0428\n",
      "Val MAR NRMSE: 0.0400\n",
      "Val MNAR NRMSE: 0.0529\n",
      "No improvement for 21 epochs\n",
      "\n",
      "Epoch 65/100\n"
     ]
    },
    {
     "name": "stderr",
     "output_type": "stream",
     "text": [
      "Training: 100%|██████████| 11/11 [00:01<00:00,  8.00it/s, loss=1.43]\n"
     ]
    },
    {
     "name": "stdout",
     "output_type": "stream",
     "text": [
      "Train Loss: 1.2974\n",
      "Val Loss: 1.5096\n",
      "Val NRMSE: 0.0457\n",
      "Val MCAR NRMSE: 0.0380\n",
      "Val MAR NRMSE: 0.0416\n",
      "Val MNAR NRMSE: 0.0574\n",
      "No improvement for 22 epochs\n",
      "\n",
      "Epoch 66/100\n"
     ]
    },
    {
     "name": "stderr",
     "output_type": "stream",
     "text": [
      "Training: 100%|██████████| 11/11 [00:01<00:00,  7.91it/s, loss=0.961]\n"
     ]
    },
    {
     "name": "stdout",
     "output_type": "stream",
     "text": [
      "Train Loss: 1.4234\n",
      "Val Loss: 1.3607\n",
      "Val NRMSE: 0.0431\n",
      "Val MCAR NRMSE: 0.0366\n",
      "Val MAR NRMSE: 0.0373\n",
      "Val MNAR NRMSE: 0.0556\n",
      "No improvement for 23 epochs\n",
      "\n",
      "Epoch 67/100\n"
     ]
    },
    {
     "name": "stderr",
     "output_type": "stream",
     "text": [
      "Training: 100%|██████████| 11/11 [00:01<00:00,  7.82it/s, loss=0.592]\n"
     ]
    },
    {
     "name": "stdout",
     "output_type": "stream",
     "text": [
      "Train Loss: 2.2666\n",
      "Val Loss: 1.3766\n",
      "Val NRMSE: 0.0438\n",
      "Val MCAR NRMSE: 0.0411\n",
      "Val MAR NRMSE: 0.0378\n",
      "Val MNAR NRMSE: 0.0525\n",
      "No improvement for 24 epochs\n",
      "\n",
      "Epoch 68/100\n"
     ]
    },
    {
     "name": "stderr",
     "output_type": "stream",
     "text": [
      "Training: 100%|██████████| 11/11 [00:01<00:00,  8.06it/s, loss=0.659]\n"
     ]
    },
    {
     "name": "stdout",
     "output_type": "stream",
     "text": [
      "Train Loss: 1.7723\n",
      "Val Loss: 1.3887\n",
      "Val NRMSE: 0.0442\n",
      "Val MCAR NRMSE: 0.0433\n",
      "Val MAR NRMSE: 0.0380\n",
      "Val MNAR NRMSE: 0.0513\n",
      "No improvement for 25 epochs\n",
      "Early stopping after 68 epochs\n",
      "Fold 1 metrics:\n",
      "  NRMSE: 0.0449\n",
      "  MCAR NRMSE: 0.0416\n",
      "  MAR NRMSE: 0.0396\n",
      "  MNAR NRMSE: 0.0535\n",
      "\n",
      "Training fold 2/5\n",
      "Starting model training...\n",
      "Creating single transformer model...\n",
      "\n",
      "Epoch 1/100\n"
     ]
    },
    {
     "name": "stderr",
     "output_type": "stream",
     "text": [
      "Training: 100%|██████████| 11/11 [00:01<00:00,  8.04it/s, loss=1.11]\n"
     ]
    },
    {
     "name": "stdout",
     "output_type": "stream",
     "text": [
      "Train Loss: 2.0282\n",
      "Val Loss: 1.9382\n",
      "Val NRMSE: 0.0782\n",
      "Val MCAR NRMSE: 0.0557\n",
      "Val MAR NRMSE: 0.0697\n",
      "Val MNAR NRMSE: 0.1093\n",
      "New best validation loss: 1.9382\n",
      "\n",
      "Epoch 2/100\n"
     ]
    },
    {
     "name": "stderr",
     "output_type": "stream",
     "text": [
      "Training: 100%|██████████| 11/11 [00:01<00:00,  8.12it/s, loss=2.05]\n"
     ]
    },
    {
     "name": "stdout",
     "output_type": "stream",
     "text": [
      "Train Loss: 1.9369\n",
      "Val Loss: 1.6986\n",
      "Val NRMSE: 0.0731\n",
      "Val MCAR NRMSE: 0.0543\n",
      "Val MAR NRMSE: 0.0627\n",
      "Val MNAR NRMSE: 0.1024\n",
      "New best validation loss: 1.6986\n",
      "\n",
      "Epoch 3/100\n"
     ]
    },
    {
     "name": "stderr",
     "output_type": "stream",
     "text": [
      "Training: 100%|██████████| 11/11 [00:01<00:00,  8.31it/s, loss=1.4] \n"
     ]
    },
    {
     "name": "stdout",
     "output_type": "stream",
     "text": [
      "Train Loss: 3.0412\n",
      "Val Loss: 1.4517\n",
      "Val NRMSE: 0.0686\n",
      "Val MCAR NRMSE: 0.0603\n",
      "Val MAR NRMSE: 0.0584\n",
      "Val MNAR NRMSE: 0.0871\n",
      "New best validation loss: 1.4517\n",
      "\n",
      "Epoch 4/100\n"
     ]
    },
    {
     "name": "stderr",
     "output_type": "stream",
     "text": [
      "Training: 100%|██████████| 11/11 [00:01<00:00,  8.50it/s, loss=3.15]\n"
     ]
    },
    {
     "name": "stdout",
     "output_type": "stream",
     "text": [
      "Train Loss: 2.0401\n",
      "Val Loss: 1.5314\n",
      "Val NRMSE: 0.0698\n",
      "Val MCAR NRMSE: 0.0556\n",
      "Val MAR NRMSE: 0.0589\n",
      "Val MNAR NRMSE: 0.0948\n",
      "No improvement for 1 epochs\n",
      "\n",
      "Epoch 5/100\n"
     ]
    },
    {
     "name": "stderr",
     "output_type": "stream",
     "text": [
      "Training: 100%|██████████| 11/11 [00:01<00:00,  8.48it/s, loss=0.813]\n"
     ]
    },
    {
     "name": "stdout",
     "output_type": "stream",
     "text": [
      "Train Loss: 1.8041\n",
      "Val Loss: 2.0049\n",
      "Val NRMSE: 0.0799\n",
      "Val MCAR NRMSE: 0.0567\n",
      "Val MAR NRMSE: 0.0734\n",
      "Val MNAR NRMSE: 0.1094\n",
      "No improvement for 2 epochs\n",
      "\n",
      "Epoch 6/100\n"
     ]
    },
    {
     "name": "stderr",
     "output_type": "stream",
     "text": [
      "Training: 100%|██████████| 11/11 [00:01<00:00,  8.86it/s, loss=2.18] \n"
     ]
    },
    {
     "name": "stdout",
     "output_type": "stream",
     "text": [
      "Train Loss: 1.3863\n",
      "Val Loss: 1.7079\n",
      "Val NRMSE: 0.0738\n",
      "Val MCAR NRMSE: 0.0530\n",
      "Val MAR NRMSE: 0.0653\n",
      "Val MNAR NRMSE: 0.1032\n",
      "No improvement for 3 epochs\n",
      "\n",
      "Epoch 7/100\n"
     ]
    },
    {
     "name": "stderr",
     "output_type": "stream",
     "text": [
      "Training: 100%|██████████| 11/11 [00:01<00:00,  8.58it/s, loss=1.33]\n"
     ]
    },
    {
     "name": "stdout",
     "output_type": "stream",
     "text": [
      "Train Loss: 1.5993\n",
      "Val Loss: 1.6368\n",
      "Val NRMSE: 0.0718\n",
      "Val MCAR NRMSE: 0.0550\n",
      "Val MAR NRMSE: 0.0600\n",
      "Val MNAR NRMSE: 0.1003\n",
      "No improvement for 4 epochs\n",
      "\n",
      "Epoch 8/100\n"
     ]
    },
    {
     "name": "stderr",
     "output_type": "stream",
     "text": [
      "Training: 100%|██████████| 11/11 [00:01<00:00,  8.77it/s, loss=0.932]\n"
     ]
    },
    {
     "name": "stdout",
     "output_type": "stream",
     "text": [
      "Train Loss: 1.3368\n",
      "Val Loss: 1.8009\n",
      "Val NRMSE: 0.0752\n",
      "Val MCAR NRMSE: 0.0514\n",
      "Val MAR NRMSE: 0.0668\n",
      "Val MNAR NRMSE: 0.1074\n",
      "No improvement for 5 epochs\n",
      "\n",
      "Epoch 9/100\n"
     ]
    },
    {
     "name": "stderr",
     "output_type": "stream",
     "text": [
      "Training: 100%|██████████| 11/11 [00:01<00:00,  8.65it/s, loss=0.413]\n"
     ]
    },
    {
     "name": "stdout",
     "output_type": "stream",
     "text": [
      "Train Loss: 1.3774\n",
      "Val Loss: 1.5523\n",
      "Val NRMSE: 0.0703\n",
      "Val MCAR NRMSE: 0.0563\n",
      "Val MAR NRMSE: 0.0595\n",
      "Val MNAR NRMSE: 0.0950\n",
      "No improvement for 6 epochs\n",
      "\n",
      "Epoch 10/100\n"
     ]
    },
    {
     "name": "stderr",
     "output_type": "stream",
     "text": [
      "Training: 100%|██████████| 11/11 [00:01<00:00,  8.82it/s, loss=4.3]  \n"
     ]
    },
    {
     "name": "stdout",
     "output_type": "stream",
     "text": [
      "Train Loss: 1.7845\n",
      "Val Loss: 1.7326\n",
      "Val NRMSE: 0.0740\n",
      "Val MCAR NRMSE: 0.0545\n",
      "Val MAR NRMSE: 0.0643\n",
      "Val MNAR NRMSE: 0.1033\n",
      "No improvement for 7 epochs\n",
      "\n",
      "Epoch 11/100\n"
     ]
    },
    {
     "name": "stderr",
     "output_type": "stream",
     "text": [
      "Training: 100%|██████████| 11/11 [00:01<00:00,  8.80it/s, loss=1.2] \n"
     ]
    },
    {
     "name": "stdout",
     "output_type": "stream",
     "text": [
      "Train Loss: 1.8880\n",
      "Val Loss: 1.4706\n",
      "Val NRMSE: 0.0692\n",
      "Val MCAR NRMSE: 0.0594\n",
      "Val MAR NRMSE: 0.0605\n",
      "Val MNAR NRMSE: 0.0877\n",
      "No improvement for 8 epochs\n",
      "\n",
      "Epoch 12/100\n"
     ]
    },
    {
     "name": "stderr",
     "output_type": "stream",
     "text": [
      "Training: 100%|██████████| 11/11 [00:01<00:00,  8.88it/s, loss=0.691]\n"
     ]
    },
    {
     "name": "stdout",
     "output_type": "stream",
     "text": [
      "Train Loss: 1.4533\n",
      "Val Loss: 1.9646\n",
      "Val NRMSE: 0.0786\n",
      "Val MCAR NRMSE: 0.0568\n",
      "Val MAR NRMSE: 0.0679\n",
      "Val MNAR NRMSE: 0.1111\n",
      "No improvement for 9 epochs\n",
      "\n",
      "Epoch 13/100\n"
     ]
    },
    {
     "name": "stderr",
     "output_type": "stream",
     "text": [
      "Training: 100%|██████████| 11/11 [00:01<00:00,  8.77it/s, loss=0.844]\n"
     ]
    },
    {
     "name": "stdout",
     "output_type": "stream",
     "text": [
      "Train Loss: 1.1649\n",
      "Val Loss: 1.6180\n",
      "Val NRMSE: 0.0724\n",
      "Val MCAR NRMSE: 0.0566\n",
      "Val MAR NRMSE: 0.0629\n",
      "Val MNAR NRMSE: 0.0975\n",
      "No improvement for 10 epochs\n",
      "\n",
      "Epoch 14/100\n"
     ]
    },
    {
     "name": "stderr",
     "output_type": "stream",
     "text": [
      "Training: 100%|██████████| 11/11 [00:01<00:00,  8.44it/s, loss=3.41]\n"
     ]
    },
    {
     "name": "stdout",
     "output_type": "stream",
     "text": [
      "Train Loss: 1.9480\n",
      "Val Loss: 1.5702\n",
      "Val NRMSE: 0.0718\n",
      "Val MCAR NRMSE: 0.0664\n",
      "Val MAR NRMSE: 0.0648\n",
      "Val MNAR NRMSE: 0.0841\n",
      "No improvement for 11 epochs\n",
      "\n",
      "Epoch 15/100\n"
     ]
    },
    {
     "name": "stderr",
     "output_type": "stream",
     "text": [
      "Training: 100%|██████████| 11/11 [00:01<00:00,  8.50it/s, loss=0.938]\n"
     ]
    },
    {
     "name": "stdout",
     "output_type": "stream",
     "text": [
      "Train Loss: 1.7475\n",
      "Val Loss: 1.5483\n",
      "Val NRMSE: 0.0696\n",
      "Val MCAR NRMSE: 0.0528\n",
      "Val MAR NRMSE: 0.0594\n",
      "Val MNAR NRMSE: 0.0966\n",
      "No improvement for 12 epochs\n",
      "\n",
      "Epoch 16/100\n"
     ]
    },
    {
     "name": "stderr",
     "output_type": "stream",
     "text": [
      "Training: 100%|██████████| 11/11 [00:01<00:00,  8.60it/s, loss=0.759]\n"
     ]
    },
    {
     "name": "stdout",
     "output_type": "stream",
     "text": [
      "Train Loss: 1.1595\n",
      "Val Loss: 1.6296\n",
      "Val NRMSE: 0.0718\n",
      "Val MCAR NRMSE: 0.0533\n",
      "Val MAR NRMSE: 0.0600\n",
      "Val MNAR NRMSE: 0.1020\n",
      "No improvement for 13 epochs\n",
      "\n",
      "Epoch 17/100\n"
     ]
    },
    {
     "name": "stderr",
     "output_type": "stream",
     "text": [
      "Training: 100%|██████████| 11/11 [00:01<00:00,  8.53it/s, loss=0.607]\n"
     ]
    },
    {
     "name": "stdout",
     "output_type": "stream",
     "text": [
      "Train Loss: 1.8122\n",
      "Val Loss: 1.7672\n",
      "Val NRMSE: 0.0742\n",
      "Val MCAR NRMSE: 0.0529\n",
      "Val MAR NRMSE: 0.0647\n",
      "Val MNAR NRMSE: 0.1051\n",
      "No improvement for 14 epochs\n",
      "\n",
      "Epoch 18/100\n"
     ]
    },
    {
     "name": "stderr",
     "output_type": "stream",
     "text": [
      "Training: 100%|██████████| 11/11 [00:01<00:00,  8.27it/s, loss=1.77]\n"
     ]
    },
    {
     "name": "stdout",
     "output_type": "stream",
     "text": [
      "Train Loss: 1.7638\n",
      "Val Loss: 1.4867\n",
      "Val NRMSE: 0.0685\n",
      "Val MCAR NRMSE: 0.0527\n",
      "Val MAR NRMSE: 0.0618\n",
      "Val MNAR NRMSE: 0.0910\n",
      "No improvement for 15 epochs\n",
      "\n",
      "Epoch 19/100\n"
     ]
    },
    {
     "name": "stderr",
     "output_type": "stream",
     "text": [
      "Training: 100%|██████████| 11/11 [00:01<00:00,  8.63it/s, loss=1.08]\n"
     ]
    },
    {
     "name": "stdout",
     "output_type": "stream",
     "text": [
      "Train Loss: 2.0127\n",
      "Val Loss: 1.5194\n",
      "Val NRMSE: 0.0697\n",
      "Val MCAR NRMSE: 0.0615\n",
      "Val MAR NRMSE: 0.0622\n",
      "Val MNAR NRMSE: 0.0853\n",
      "No improvement for 16 epochs\n",
      "\n",
      "Epoch 20/100\n"
     ]
    },
    {
     "name": "stderr",
     "output_type": "stream",
     "text": [
      "Training: 100%|██████████| 11/11 [00:01<00:00,  8.46it/s, loss=1.06]\n"
     ]
    },
    {
     "name": "stdout",
     "output_type": "stream",
     "text": [
      "Train Loss: 1.9651\n",
      "Val Loss: 1.4850\n",
      "Val NRMSE: 0.0697\n",
      "Val MCAR NRMSE: 0.0658\n",
      "Val MAR NRMSE: 0.0610\n",
      "Val MNAR NRMSE: 0.0825\n",
      "No improvement for 17 epochs\n",
      "\n",
      "Epoch 21/100\n"
     ]
    },
    {
     "name": "stderr",
     "output_type": "stream",
     "text": [
      "Training: 100%|██████████| 11/11 [00:01<00:00,  8.56it/s, loss=1.36] \n"
     ]
    },
    {
     "name": "stdout",
     "output_type": "stream",
     "text": [
      "Train Loss: 1.3713\n",
      "Val Loss: 2.0798\n",
      "Val NRMSE: 0.0810\n",
      "Val MCAR NRMSE: 0.0575\n",
      "Val MAR NRMSE: 0.0706\n",
      "Val MNAR NRMSE: 0.1150\n",
      "No improvement for 18 epochs\n",
      "\n",
      "Epoch 22/100\n"
     ]
    },
    {
     "name": "stderr",
     "output_type": "stream",
     "text": [
      "Training: 100%|██████████| 11/11 [00:01<00:00,  8.61it/s, loss=2.34] \n"
     ]
    },
    {
     "name": "stdout",
     "output_type": "stream",
     "text": [
      "Train Loss: 1.5490\n",
      "Val Loss: 1.7725\n",
      "Val NRMSE: 0.0747\n",
      "Val MCAR NRMSE: 0.0545\n",
      "Val MAR NRMSE: 0.0668\n",
      "Val MNAR NRMSE: 0.1029\n",
      "No improvement for 19 epochs\n",
      "\n",
      "Epoch 23/100\n"
     ]
    },
    {
     "name": "stderr",
     "output_type": "stream",
     "text": [
      "Training: 100%|██████████| 11/11 [00:01<00:00,  8.65it/s, loss=3.74]\n"
     ]
    },
    {
     "name": "stdout",
     "output_type": "stream",
     "text": [
      "Train Loss: 1.7515\n",
      "Val Loss: 1.5688\n",
      "Val NRMSE: 0.0713\n",
      "Val MCAR NRMSE: 0.0556\n",
      "Val MAR NRMSE: 0.0657\n",
      "Val MNAR NRMSE: 0.0927\n",
      "No improvement for 20 epochs\n",
      "\n",
      "Epoch 24/100\n"
     ]
    },
    {
     "name": "stderr",
     "output_type": "stream",
     "text": [
      "Training: 100%|██████████| 11/11 [00:01<00:00,  8.62it/s, loss=1.14]\n"
     ]
    },
    {
     "name": "stdout",
     "output_type": "stream",
     "text": [
      "Train Loss: 1.6063\n",
      "Val Loss: 1.4940\n",
      "Val NRMSE: 0.0700\n",
      "Val MCAR NRMSE: 0.0643\n",
      "Val MAR NRMSE: 0.0594\n",
      "Val MNAR NRMSE: 0.0864\n",
      "No improvement for 21 epochs\n",
      "\n",
      "Epoch 25/100\n"
     ]
    },
    {
     "name": "stderr",
     "output_type": "stream",
     "text": [
      "Training: 100%|██████████| 11/11 [00:01<00:00,  8.57it/s, loss=0.722]\n"
     ]
    },
    {
     "name": "stdout",
     "output_type": "stream",
     "text": [
      "Train Loss: 1.5394\n",
      "Val Loss: 1.6163\n",
      "Val NRMSE: 0.0734\n",
      "Val MCAR NRMSE: 0.0700\n",
      "Val MAR NRMSE: 0.0688\n",
      "Val MNAR NRMSE: 0.0815\n",
      "No improvement for 22 epochs\n",
      "\n",
      "Epoch 26/100\n"
     ]
    },
    {
     "name": "stderr",
     "output_type": "stream",
     "text": [
      "Training: 100%|██████████| 11/11 [00:01<00:00,  8.39it/s, loss=0.55]\n"
     ]
    },
    {
     "name": "stdout",
     "output_type": "stream",
     "text": [
      "Train Loss: 1.8415\n",
      "Val Loss: 1.5395\n",
      "Val NRMSE: 0.0708\n",
      "Val MCAR NRMSE: 0.0574\n",
      "Val MAR NRMSE: 0.0632\n",
      "Val MNAR NRMSE: 0.0919\n",
      "No improvement for 23 epochs\n",
      "\n",
      "Epoch 27/100\n"
     ]
    },
    {
     "name": "stderr",
     "output_type": "stream",
     "text": [
      "Training: 100%|██████████| 11/11 [00:01<00:00,  8.40it/s, loss=1.09]\n"
     ]
    },
    {
     "name": "stdout",
     "output_type": "stream",
     "text": [
      "Train Loss: 2.0095\n",
      "Val Loss: 1.5963\n",
      "Val NRMSE: 0.0714\n",
      "Val MCAR NRMSE: 0.0532\n",
      "Val MAR NRMSE: 0.0626\n",
      "Val MNAR NRMSE: 0.0984\n",
      "No improvement for 24 epochs\n",
      "\n",
      "Epoch 28/100\n"
     ]
    },
    {
     "name": "stderr",
     "output_type": "stream",
     "text": [
      "Training: 100%|██████████| 11/11 [00:01<00:00,  8.57it/s, loss=0.84] \n"
     ]
    },
    {
     "name": "stdout",
     "output_type": "stream",
     "text": [
      "Train Loss: 1.9312\n",
      "Val Loss: 1.4391\n",
      "Val NRMSE: 0.0687\n",
      "Val MCAR NRMSE: 0.0645\n",
      "Val MAR NRMSE: 0.0582\n",
      "Val MNAR NRMSE: 0.0834\n",
      "New best validation loss: 1.4391\n",
      "\n",
      "Epoch 29/100\n"
     ]
    },
    {
     "name": "stderr",
     "output_type": "stream",
     "text": [
      "Training: 100%|██████████| 11/11 [00:01<00:00,  8.47it/s, loss=0.971]\n"
     ]
    },
    {
     "name": "stdout",
     "output_type": "stream",
     "text": [
      "Train Loss: 1.6205\n",
      "Val Loss: 1.4751\n",
      "Val NRMSE: 0.0698\n",
      "Val MCAR NRMSE: 0.0572\n",
      "Val MAR NRMSE: 0.0604\n",
      "Val MNAR NRMSE: 0.0918\n",
      "No improvement for 1 epochs\n",
      "\n",
      "Epoch 30/100\n"
     ]
    },
    {
     "name": "stderr",
     "output_type": "stream",
     "text": [
      "Training: 100%|██████████| 11/11 [00:01<00:00,  8.60it/s, loss=0.701]\n"
     ]
    },
    {
     "name": "stdout",
     "output_type": "stream",
     "text": [
      "Train Loss: 1.4322\n",
      "Val Loss: 1.6901\n",
      "Val NRMSE: 0.0733\n",
      "Val MCAR NRMSE: 0.0545\n",
      "Val MAR NRMSE: 0.0649\n",
      "Val MNAR NRMSE: 0.1006\n",
      "No improvement for 2 epochs\n",
      "\n",
      "Epoch 31/100\n"
     ]
    },
    {
     "name": "stderr",
     "output_type": "stream",
     "text": [
      "Training: 100%|██████████| 11/11 [00:01<00:00,  8.66it/s, loss=3.31]\n"
     ]
    },
    {
     "name": "stdout",
     "output_type": "stream",
     "text": [
      "Train Loss: 1.5584\n",
      "Val Loss: 1.5642\n",
      "Val NRMSE: 0.0708\n",
      "Val MCAR NRMSE: 0.0562\n",
      "Val MAR NRMSE: 0.0612\n",
      "Val MNAR NRMSE: 0.0951\n",
      "No improvement for 3 epochs\n",
      "\n",
      "Epoch 32/100\n"
     ]
    },
    {
     "name": "stderr",
     "output_type": "stream",
     "text": [
      "Training: 100%|██████████| 11/11 [00:01<00:00,  9.06it/s, loss=0.869]\n"
     ]
    },
    {
     "name": "stdout",
     "output_type": "stream",
     "text": [
      "Train Loss: 1.1744\n",
      "Val Loss: 1.9096\n",
      "Val NRMSE: 0.0781\n",
      "Val MCAR NRMSE: 0.0572\n",
      "Val MAR NRMSE: 0.0684\n",
      "Val MNAR NRMSE: 0.1088\n",
      "No improvement for 4 epochs\n",
      "\n",
      "Epoch 33/100\n"
     ]
    },
    {
     "name": "stderr",
     "output_type": "stream",
     "text": [
      "Training: 100%|██████████| 11/11 [00:01<00:00,  8.37it/s, loss=1.25] \n"
     ]
    },
    {
     "name": "stdout",
     "output_type": "stream",
     "text": [
      "Train Loss: 1.5494\n",
      "Val Loss: 1.4844\n",
      "Val NRMSE: 0.0691\n",
      "Val MCAR NRMSE: 0.0570\n",
      "Val MAR NRMSE: 0.0576\n",
      "Val MNAR NRMSE: 0.0929\n",
      "No improvement for 5 epochs\n",
      "\n",
      "Epoch 34/100\n"
     ]
    },
    {
     "name": "stderr",
     "output_type": "stream",
     "text": [
      "Training: 100%|██████████| 11/11 [00:01<00:00,  8.49it/s, loss=1.56]\n"
     ]
    },
    {
     "name": "stdout",
     "output_type": "stream",
     "text": [
      "Train Loss: 1.2897\n",
      "Val Loss: 1.7795\n",
      "Val NRMSE: 0.0746\n",
      "Val MCAR NRMSE: 0.0536\n",
      "Val MAR NRMSE: 0.0659\n",
      "Val MNAR NRMSE: 0.1042\n",
      "No improvement for 6 epochs\n",
      "\n",
      "Epoch 35/100\n"
     ]
    },
    {
     "name": "stderr",
     "output_type": "stream",
     "text": [
      "Training: 100%|██████████| 11/11 [00:01<00:00,  8.44it/s, loss=0.95]\n"
     ]
    },
    {
     "name": "stdout",
     "output_type": "stream",
     "text": [
      "Train Loss: 1.9874\n",
      "Val Loss: 1.5156\n",
      "Val NRMSE: 0.0697\n",
      "Val MCAR NRMSE: 0.0559\n",
      "Val MAR NRMSE: 0.0588\n",
      "Val MNAR NRMSE: 0.0944\n",
      "No improvement for 7 epochs\n",
      "\n",
      "Epoch 36/100\n"
     ]
    },
    {
     "name": "stderr",
     "output_type": "stream",
     "text": [
      "Training: 100%|██████████| 11/11 [00:01<00:00,  8.40it/s, loss=1.3] \n"
     ]
    },
    {
     "name": "stdout",
     "output_type": "stream",
     "text": [
      "Train Loss: 1.7920\n",
      "Val Loss: 1.4335\n",
      "Val NRMSE: 0.0679\n",
      "Val MCAR NRMSE: 0.0596\n",
      "Val MAR NRMSE: 0.0563\n",
      "Val MNAR NRMSE: 0.0877\n",
      "New best validation loss: 1.4335\n",
      "\n",
      "Epoch 37/100\n"
     ]
    },
    {
     "name": "stderr",
     "output_type": "stream",
     "text": [
      "Training: 100%|██████████| 11/11 [00:01<00:00,  8.27it/s, loss=0.67]\n"
     ]
    },
    {
     "name": "stdout",
     "output_type": "stream",
     "text": [
      "Train Loss: 1.8171\n",
      "Val Loss: 1.5685\n",
      "Val NRMSE: 0.0723\n",
      "Val MCAR NRMSE: 0.0658\n",
      "Val MAR NRMSE: 0.0685\n",
      "Val MNAR NRMSE: 0.0827\n",
      "No improvement for 1 epochs\n",
      "\n",
      "Epoch 38/100\n"
     ]
    },
    {
     "name": "stderr",
     "output_type": "stream",
     "text": [
      "Training: 100%|██████████| 11/11 [00:01<00:00,  8.57it/s, loss=1.49]\n"
     ]
    },
    {
     "name": "stdout",
     "output_type": "stream",
     "text": [
      "Train Loss: 1.4911\n",
      "Val Loss: 1.6206\n",
      "Val NRMSE: 0.0714\n",
      "Val MCAR NRMSE: 0.0534\n",
      "Val MAR NRMSE: 0.0630\n",
      "Val MNAR NRMSE: 0.0977\n",
      "No improvement for 2 epochs\n",
      "\n",
      "Epoch 39/100\n"
     ]
    },
    {
     "name": "stderr",
     "output_type": "stream",
     "text": [
      "Training: 100%|██████████| 11/11 [00:01<00:00,  8.28it/s, loss=1.05]\n"
     ]
    },
    {
     "name": "stdout",
     "output_type": "stream",
     "text": [
      "Train Loss: 1.5443\n",
      "Val Loss: 1.4310\n",
      "Val NRMSE: 0.0689\n",
      "Val MCAR NRMSE: 0.0620\n",
      "Val MAR NRMSE: 0.0598\n",
      "Val MNAR NRMSE: 0.0848\n",
      "New best validation loss: 1.4310\n",
      "\n",
      "Epoch 40/100\n"
     ]
    },
    {
     "name": "stderr",
     "output_type": "stream",
     "text": [
      "Training: 100%|██████████| 11/11 [00:01<00:00,  8.36it/s, loss=0.477]\n"
     ]
    },
    {
     "name": "stdout",
     "output_type": "stream",
     "text": [
      "Train Loss: 1.3271\n",
      "Val Loss: 1.7288\n",
      "Val NRMSE: 0.0739\n",
      "Val MCAR NRMSE: 0.0527\n",
      "Val MAR NRMSE: 0.0642\n",
      "Val MNAR NRMSE: 0.1047\n",
      "No improvement for 1 epochs\n",
      "\n",
      "Epoch 41/100\n"
     ]
    },
    {
     "name": "stderr",
     "output_type": "stream",
     "text": [
      "Training: 100%|██████████| 11/11 [00:01<00:00,  8.31it/s, loss=0.549]\n"
     ]
    },
    {
     "name": "stdout",
     "output_type": "stream",
     "text": [
      "Train Loss: 1.6017\n",
      "Val Loss: 1.5218\n",
      "Val NRMSE: 0.0705\n",
      "Val MCAR NRMSE: 0.0635\n",
      "Val MAR NRMSE: 0.0597\n",
      "Val MNAR NRMSE: 0.0884\n",
      "No improvement for 2 epochs\n",
      "\n",
      "Epoch 42/100\n"
     ]
    },
    {
     "name": "stderr",
     "output_type": "stream",
     "text": [
      "Training: 100%|██████████| 11/11 [00:01<00:00,  7.76it/s, loss=0.505]\n"
     ]
    },
    {
     "name": "stdout",
     "output_type": "stream",
     "text": [
      "Train Loss: 1.7466\n",
      "Val Loss: 1.5046\n",
      "Val NRMSE: 0.0702\n",
      "Val MCAR NRMSE: 0.0626\n",
      "Val MAR NRMSE: 0.0587\n",
      "Val MNAR NRMSE: 0.0894\n",
      "No improvement for 3 epochs\n",
      "\n",
      "Epoch 43/100\n"
     ]
    },
    {
     "name": "stderr",
     "output_type": "stream",
     "text": [
      "Training: 100%|██████████| 11/11 [00:01<00:00,  7.94it/s, loss=0.486]\n"
     ]
    },
    {
     "name": "stdout",
     "output_type": "stream",
     "text": [
      "Train Loss: 2.0859\n",
      "Val Loss: 1.6525\n",
      "Val NRMSE: 0.0726\n",
      "Val MCAR NRMSE: 0.0553\n",
      "Val MAR NRMSE: 0.0627\n",
      "Val MNAR NRMSE: 0.0999\n",
      "No improvement for 4 epochs\n",
      "\n",
      "Epoch 44/100\n"
     ]
    },
    {
     "name": "stderr",
     "output_type": "stream",
     "text": [
      "Training: 100%|██████████| 11/11 [00:01<00:00,  8.28it/s, loss=0.841]\n"
     ]
    },
    {
     "name": "stdout",
     "output_type": "stream",
     "text": [
      "Train Loss: 1.8435\n",
      "Val Loss: 1.6739\n",
      "Val NRMSE: 0.0730\n",
      "Val MCAR NRMSE: 0.0546\n",
      "Val MAR NRMSE: 0.0635\n",
      "Val MNAR NRMSE: 0.1008\n",
      "No improvement for 5 epochs\n",
      "\n",
      "Epoch 45/100\n"
     ]
    },
    {
     "name": "stderr",
     "output_type": "stream",
     "text": [
      "Training: 100%|██████████| 11/11 [00:01<00:00,  7.82it/s, loss=1.27]\n"
     ]
    },
    {
     "name": "stdout",
     "output_type": "stream",
     "text": [
      "Train Loss: 1.7769\n",
      "Val Loss: 1.4820\n",
      "Val NRMSE: 0.0700\n",
      "Val MCAR NRMSE: 0.0579\n",
      "Val MAR NRMSE: 0.0641\n",
      "Val MNAR NRMSE: 0.0880\n",
      "No improvement for 6 epochs\n",
      "\n",
      "Epoch 46/100\n"
     ]
    },
    {
     "name": "stderr",
     "output_type": "stream",
     "text": [
      "Training: 100%|██████████| 11/11 [00:01<00:00,  8.15it/s, loss=0.149]\n"
     ]
    },
    {
     "name": "stdout",
     "output_type": "stream",
     "text": [
      "Train Loss: 1.3236\n",
      "Val Loss: 1.6838\n",
      "Val NRMSE: 0.0724\n",
      "Val MCAR NRMSE: 0.0538\n",
      "Val MAR NRMSE: 0.0625\n",
      "Val MNAR NRMSE: 0.1010\n",
      "No improvement for 7 epochs\n",
      "\n",
      "Epoch 47/100\n"
     ]
    },
    {
     "name": "stderr",
     "output_type": "stream",
     "text": [
      "Training: 100%|██████████| 11/11 [00:01<00:00,  8.11it/s, loss=0.833]\n"
     ]
    },
    {
     "name": "stdout",
     "output_type": "stream",
     "text": [
      "Train Loss: 1.7379\n",
      "Val Loss: 1.5157\n",
      "Val NRMSE: 0.0692\n",
      "Val MCAR NRMSE: 0.0564\n",
      "Val MAR NRMSE: 0.0594\n",
      "Val MNAR NRMSE: 0.0919\n",
      "No improvement for 8 epochs\n",
      "\n",
      "Epoch 48/100\n"
     ]
    },
    {
     "name": "stderr",
     "output_type": "stream",
     "text": [
      "Training: 100%|██████████| 11/11 [00:01<00:00,  7.88it/s, loss=1.06]\n"
     ]
    },
    {
     "name": "stdout",
     "output_type": "stream",
     "text": [
      "Train Loss: 2.0200\n",
      "Val Loss: 1.5376\n",
      "Val NRMSE: 0.0709\n",
      "Val MCAR NRMSE: 0.0603\n",
      "Val MAR NRMSE: 0.0631\n",
      "Val MNAR NRMSE: 0.0895\n",
      "No improvement for 9 epochs\n",
      "\n",
      "Epoch 49/100\n"
     ]
    },
    {
     "name": "stderr",
     "output_type": "stream",
     "text": [
      "Training: 100%|██████████| 11/11 [00:01<00:00,  8.58it/s, loss=1.14] \n"
     ]
    },
    {
     "name": "stdout",
     "output_type": "stream",
     "text": [
      "Train Loss: 1.3653\n",
      "Val Loss: 1.5250\n",
      "Val NRMSE: 0.0694\n",
      "Val MCAR NRMSE: 0.0531\n",
      "Val MAR NRMSE: 0.0586\n",
      "Val MNAR NRMSE: 0.0965\n",
      "No improvement for 10 epochs\n",
      "\n",
      "Epoch 50/100\n"
     ]
    },
    {
     "name": "stderr",
     "output_type": "stream",
     "text": [
      "Training: 100%|██████████| 11/11 [00:01<00:00,  8.39it/s, loss=0.774]\n"
     ]
    },
    {
     "name": "stdout",
     "output_type": "stream",
     "text": [
      "Train Loss: 1.6584\n",
      "Val Loss: 1.6484\n",
      "Val NRMSE: 0.0730\n",
      "Val MCAR NRMSE: 0.0548\n",
      "Val MAR NRMSE: 0.0639\n",
      "Val MNAR NRMSE: 0.1004\n",
      "No improvement for 11 epochs\n",
      "\n",
      "Epoch 51/100\n"
     ]
    },
    {
     "name": "stderr",
     "output_type": "stream",
     "text": [
      "Training: 100%|██████████| 11/11 [00:01<00:00,  8.09it/s, loss=0.712]\n"
     ]
    },
    {
     "name": "stdout",
     "output_type": "stream",
     "text": [
      "Train Loss: 1.3923\n",
      "Val Loss: 1.4342\n",
      "Val NRMSE: 0.0677\n",
      "Val MCAR NRMSE: 0.0521\n",
      "Val MAR NRMSE: 0.0598\n",
      "Val MNAR NRMSE: 0.0913\n",
      "No improvement for 12 epochs\n",
      "\n",
      "Epoch 52/100\n"
     ]
    },
    {
     "name": "stderr",
     "output_type": "stream",
     "text": [
      "Training: 100%|██████████| 11/11 [00:01<00:00,  8.30it/s, loss=2.04]\n"
     ]
    },
    {
     "name": "stdout",
     "output_type": "stream",
     "text": [
      "Train Loss: 1.9151\n",
      "Val Loss: 1.4721\n",
      "Val NRMSE: 0.0694\n",
      "Val MCAR NRMSE: 0.0605\n",
      "Val MAR NRMSE: 0.0614\n",
      "Val MNAR NRMSE: 0.0862\n",
      "No improvement for 13 epochs\n",
      "\n",
      "Epoch 53/100\n"
     ]
    },
    {
     "name": "stderr",
     "output_type": "stream",
     "text": [
      "Training: 100%|██████████| 11/11 [00:01<00:00,  8.44it/s, loss=0.781]\n"
     ]
    },
    {
     "name": "stdout",
     "output_type": "stream",
     "text": [
      "Train Loss: 1.4978\n",
      "Val Loss: 1.5239\n",
      "Val NRMSE: 0.0697\n",
      "Val MCAR NRMSE: 0.0540\n",
      "Val MAR NRMSE: 0.0608\n",
      "Val MNAR NRMSE: 0.0944\n",
      "No improvement for 14 epochs\n",
      "\n",
      "Epoch 54/100\n"
     ]
    },
    {
     "name": "stderr",
     "output_type": "stream",
     "text": [
      "Training: 100%|██████████| 11/11 [00:01<00:00,  8.53it/s, loss=1.24]\n"
     ]
    },
    {
     "name": "stdout",
     "output_type": "stream",
     "text": [
      "Train Loss: 1.4472\n",
      "Val Loss: 1.4425\n",
      "Val NRMSE: 0.0682\n",
      "Val MCAR NRMSE: 0.0554\n",
      "Val MAR NRMSE: 0.0565\n",
      "Val MNAR NRMSE: 0.0926\n",
      "No improvement for 15 epochs\n",
      "\n",
      "Epoch 55/100\n"
     ]
    },
    {
     "name": "stderr",
     "output_type": "stream",
     "text": [
      "Training: 100%|██████████| 11/11 [00:01<00:00,  8.78it/s, loss=0.415]\n"
     ]
    },
    {
     "name": "stdout",
     "output_type": "stream",
     "text": [
      "Train Loss: 1.1883\n",
      "Val Loss: 1.6256\n",
      "Val NRMSE: 0.0722\n",
      "Val MCAR NRMSE: 0.0547\n",
      "Val MAR NRMSE: 0.0627\n",
      "Val MNAR NRMSE: 0.0993\n",
      "No improvement for 16 epochs\n",
      "\n",
      "Epoch 56/100\n"
     ]
    },
    {
     "name": "stderr",
     "output_type": "stream",
     "text": [
      "Training: 100%|██████████| 11/11 [00:01<00:00,  8.46it/s, loss=0.62]\n"
     ]
    },
    {
     "name": "stdout",
     "output_type": "stream",
     "text": [
      "Train Loss: 1.3837\n",
      "Val Loss: 1.4737\n",
      "Val NRMSE: 0.0692\n",
      "Val MCAR NRMSE: 0.0561\n",
      "Val MAR NRMSE: 0.0614\n",
      "Val MNAR NRMSE: 0.0901\n",
      "No improvement for 17 epochs\n",
      "\n",
      "Epoch 57/100\n"
     ]
    },
    {
     "name": "stderr",
     "output_type": "stream",
     "text": [
      "Training: 100%|██████████| 11/11 [00:01<00:00,  8.26it/s, loss=2.59]\n"
     ]
    },
    {
     "name": "stdout",
     "output_type": "stream",
     "text": [
      "Train Loss: 1.8593\n",
      "Val Loss: 1.4337\n",
      "Val NRMSE: 0.0683\n",
      "Val MCAR NRMSE: 0.0600\n",
      "Val MAR NRMSE: 0.0559\n",
      "Val MNAR NRMSE: 0.0889\n",
      "No improvement for 18 epochs\n",
      "\n",
      "Epoch 58/100\n"
     ]
    },
    {
     "name": "stderr",
     "output_type": "stream",
     "text": [
      "Training: 100%|██████████| 11/11 [00:01<00:00,  8.42it/s, loss=1.04] \n"
     ]
    },
    {
     "name": "stdout",
     "output_type": "stream",
     "text": [
      "Train Loss: 1.5339\n",
      "Val Loss: 1.5429\n",
      "Val NRMSE: 0.0704\n",
      "Val MCAR NRMSE: 0.0567\n",
      "Val MAR NRMSE: 0.0620\n",
      "Val MNAR NRMSE: 0.0926\n",
      "No improvement for 19 epochs\n",
      "\n",
      "Epoch 59/100\n"
     ]
    },
    {
     "name": "stderr",
     "output_type": "stream",
     "text": [
      "Training: 100%|██████████| 11/11 [00:01<00:00,  8.44it/s, loss=0.449]\n"
     ]
    },
    {
     "name": "stdout",
     "output_type": "stream",
     "text": [
      "Train Loss: 1.6823\n",
      "Val Loss: 1.5501\n",
      "Val NRMSE: 0.0705\n",
      "Val MCAR NRMSE: 0.0571\n",
      "Val MAR NRMSE: 0.0590\n",
      "Val MNAR NRMSE: 0.0954\n",
      "No improvement for 20 epochs\n",
      "\n",
      "Epoch 60/100\n"
     ]
    },
    {
     "name": "stderr",
     "output_type": "stream",
     "text": [
      "Training: 100%|██████████| 11/11 [00:01<00:00,  8.08it/s, loss=0.387]\n"
     ]
    },
    {
     "name": "stdout",
     "output_type": "stream",
     "text": [
      "Train Loss: 1.7955\n",
      "Val Loss: 1.4600\n",
      "Val NRMSE: 0.0680\n",
      "Val MCAR NRMSE: 0.0546\n",
      "Val MAR NRMSE: 0.0597\n",
      "Val MNAR NRMSE: 0.0896\n",
      "No improvement for 21 epochs\n",
      "\n",
      "Epoch 61/100\n"
     ]
    },
    {
     "name": "stderr",
     "output_type": "stream",
     "text": [
      "Training: 100%|██████████| 11/11 [00:01<00:00,  8.20it/s, loss=0.513]\n"
     ]
    },
    {
     "name": "stdout",
     "output_type": "stream",
     "text": [
      "Train Loss: 1.5079\n",
      "Val Loss: 1.5423\n",
      "Val NRMSE: 0.0707\n",
      "Val MCAR NRMSE: 0.0572\n",
      "Val MAR NRMSE: 0.0612\n",
      "Val MNAR NRMSE: 0.0937\n",
      "No improvement for 22 epochs\n",
      "\n",
      "Epoch 62/100\n"
     ]
    },
    {
     "name": "stderr",
     "output_type": "stream",
     "text": [
      "Training: 100%|██████████| 11/11 [00:01<00:00,  8.92it/s, loss=0.635]\n"
     ]
    },
    {
     "name": "stdout",
     "output_type": "stream",
     "text": [
      "Train Loss: 1.3145\n",
      "Val Loss: 1.4351\n",
      "Val NRMSE: 0.0678\n",
      "Val MCAR NRMSE: 0.0522\n",
      "Val MAR NRMSE: 0.0572\n",
      "Val MNAR NRMSE: 0.0940\n",
      "No improvement for 23 epochs\n",
      "\n",
      "Epoch 63/100\n"
     ]
    },
    {
     "name": "stderr",
     "output_type": "stream",
     "text": [
      "Training: 100%|██████████| 11/11 [00:01<00:00,  8.76it/s, loss=0.405]\n"
     ]
    },
    {
     "name": "stdout",
     "output_type": "stream",
     "text": [
      "Train Loss: 1.6117\n",
      "Val Loss: 1.5403\n",
      "Val NRMSE: 0.0703\n",
      "Val MCAR NRMSE: 0.0590\n",
      "Val MAR NRMSE: 0.0605\n",
      "Val MNAR NRMSE: 0.0916\n",
      "No improvement for 24 epochs\n",
      "\n",
      "Epoch 64/100\n"
     ]
    },
    {
     "name": "stderr",
     "output_type": "stream",
     "text": [
      "Training: 100%|██████████| 11/11 [00:01<00:00,  9.23it/s, loss=1.09]\n"
     ]
    },
    {
     "name": "stdout",
     "output_type": "stream",
     "text": [
      "Train Loss: 1.6407\n",
      "Val Loss: 1.5756\n",
      "Val NRMSE: 0.0711\n",
      "Val MCAR NRMSE: 0.0549\n",
      "Val MAR NRMSE: 0.0649\n",
      "Val MNAR NRMSE: 0.0936\n",
      "No improvement for 25 epochs\n",
      "Early stopping after 64 epochs\n",
      "Fold 2 metrics:\n",
      "  NRMSE: 0.0704\n",
      "  MCAR NRMSE: 0.0539\n",
      "  MAR NRMSE: 0.0649\n",
      "  MNAR NRMSE: 0.0924\n",
      "\n",
      "Training fold 3/5\n",
      "Starting model training...\n",
      "Creating single transformer model...\n",
      "\n",
      "Epoch 1/100\n"
     ]
    },
    {
     "name": "stderr",
     "output_type": "stream",
     "text": [
      "Training: 100%|██████████| 11/11 [00:01<00:00,  8.04it/s, loss=0.941]\n"
     ]
    },
    {
     "name": "stdout",
     "output_type": "stream",
     "text": [
      "Train Loss: 1.4988\n",
      "Val Loss: 1.6578\n",
      "Val NRMSE: 0.0462\n",
      "Val MCAR NRMSE: 0.0395\n",
      "Val MAR NRMSE: 0.0396\n",
      "Val MNAR NRMSE: 0.0594\n",
      "New best validation loss: 1.6578\n",
      "\n",
      "Epoch 2/100\n"
     ]
    },
    {
     "name": "stderr",
     "output_type": "stream",
     "text": [
      "Training: 100%|██████████| 11/11 [00:01<00:00,  7.97it/s, loss=0.644]\n"
     ]
    },
    {
     "name": "stdout",
     "output_type": "stream",
     "text": [
      "Train Loss: 1.1897\n",
      "Val Loss: 1.6967\n",
      "Val NRMSE: 0.0467\n",
      "Val MCAR NRMSE: 0.0406\n",
      "Val MAR NRMSE: 0.0405\n",
      "Val MNAR NRMSE: 0.0589\n",
      "No improvement for 1 epochs\n",
      "\n",
      "Epoch 3/100\n"
     ]
    },
    {
     "name": "stderr",
     "output_type": "stream",
     "text": [
      "Training: 100%|██████████| 11/11 [00:01<00:00,  8.50it/s, loss=1.02]\n"
     ]
    },
    {
     "name": "stdout",
     "output_type": "stream",
     "text": [
      "Train Loss: 1.4865\n",
      "Val Loss: 1.6223\n",
      "Val NRMSE: 0.0455\n",
      "Val MCAR NRMSE: 0.0399\n",
      "Val MAR NRMSE: 0.0361\n",
      "Val MNAR NRMSE: 0.0605\n",
      "New best validation loss: 1.6223\n",
      "\n",
      "Epoch 4/100\n"
     ]
    },
    {
     "name": "stderr",
     "output_type": "stream",
     "text": [
      "Training: 100%|██████████| 11/11 [00:01<00:00,  8.39it/s, loss=0.285]\n"
     ]
    },
    {
     "name": "stdout",
     "output_type": "stream",
     "text": [
      "Train Loss: 1.8083\n",
      "Val Loss: 1.8091\n",
      "Val NRMSE: 0.0480\n",
      "Val MCAR NRMSE: 0.0402\n",
      "Val MAR NRMSE: 0.0439\n",
      "Val MNAR NRMSE: 0.0600\n",
      "No improvement for 1 epochs\n",
      "\n",
      "Epoch 5/100\n"
     ]
    },
    {
     "name": "stderr",
     "output_type": "stream",
     "text": [
      "Training: 100%|██████████| 11/11 [00:01<00:00,  8.97it/s, loss=3.6]  \n"
     ]
    },
    {
     "name": "stdout",
     "output_type": "stream",
     "text": [
      "Train Loss: 1.5511\n",
      "Val Loss: 1.8446\n",
      "Val NRMSE: 0.0487\n",
      "Val MCAR NRMSE: 0.0444\n",
      "Val MAR NRMSE: 0.0427\n",
      "Val MNAR NRMSE: 0.0592\n",
      "No improvement for 2 epochs\n",
      "\n",
      "Epoch 6/100\n"
     ]
    },
    {
     "name": "stderr",
     "output_type": "stream",
     "text": [
      "Training: 100%|██████████| 11/11 [00:01<00:00,  8.33it/s, loss=0.789]\n"
     ]
    },
    {
     "name": "stdout",
     "output_type": "stream",
     "text": [
      "Train Loss: 1.4225\n",
      "Val Loss: 1.7144\n",
      "Val NRMSE: 0.0464\n",
      "Val MCAR NRMSE: 0.0379\n",
      "Val MAR NRMSE: 0.0390\n",
      "Val MNAR NRMSE: 0.0623\n",
      "No improvement for 3 epochs\n",
      "\n",
      "Epoch 7/100\n"
     ]
    },
    {
     "name": "stderr",
     "output_type": "stream",
     "text": [
      "Training: 100%|██████████| 11/11 [00:01<00:00,  8.03it/s, loss=1.04]\n"
     ]
    },
    {
     "name": "stdout",
     "output_type": "stream",
     "text": [
      "Train Loss: 2.5262\n",
      "Val Loss: 1.6545\n",
      "Val NRMSE: 0.0459\n",
      "Val MCAR NRMSE: 0.0376\n",
      "Val MAR NRMSE: 0.0397\n",
      "Val MNAR NRMSE: 0.0605\n",
      "No improvement for 4 epochs\n",
      "\n",
      "Epoch 8/100\n"
     ]
    },
    {
     "name": "stderr",
     "output_type": "stream",
     "text": [
      "Training: 100%|██████████| 11/11 [00:01<00:00,  8.47it/s, loss=0.438]\n"
     ]
    },
    {
     "name": "stdout",
     "output_type": "stream",
     "text": [
      "Train Loss: 1.1051\n",
      "Val Loss: 1.7445\n",
      "Val NRMSE: 0.0467\n",
      "Val MCAR NRMSE: 0.0357\n",
      "Val MAR NRMSE: 0.0418\n",
      "Val MNAR NRMSE: 0.0624\n",
      "No improvement for 5 epochs\n",
      "\n",
      "Epoch 9/100\n"
     ]
    },
    {
     "name": "stderr",
     "output_type": "stream",
     "text": [
      "Training: 100%|██████████| 11/11 [00:01<00:00,  8.10it/s, loss=0.904]\n"
     ]
    },
    {
     "name": "stdout",
     "output_type": "stream",
     "text": [
      "Train Loss: 1.3592\n",
      "Val Loss: 1.8120\n",
      "Val NRMSE: 0.0484\n",
      "Val MCAR NRMSE: 0.0400\n",
      "Val MAR NRMSE: 0.0466\n",
      "Val MNAR NRMSE: 0.0584\n",
      "No improvement for 6 epochs\n",
      "\n",
      "Epoch 10/100\n"
     ]
    },
    {
     "name": "stderr",
     "output_type": "stream",
     "text": [
      "Training: 100%|██████████| 11/11 [00:01<00:00,  8.48it/s, loss=0.455]\n"
     ]
    },
    {
     "name": "stdout",
     "output_type": "stream",
     "text": [
      "Train Loss: 1.5287\n",
      "Val Loss: 1.8186\n",
      "Val NRMSE: 0.0487\n",
      "Val MCAR NRMSE: 0.0403\n",
      "Val MAR NRMSE: 0.0432\n",
      "Val MNAR NRMSE: 0.0626\n",
      "No improvement for 7 epochs\n",
      "\n",
      "Epoch 11/100\n"
     ]
    },
    {
     "name": "stderr",
     "output_type": "stream",
     "text": [
      "Training: 100%|██████████| 11/11 [00:01<00:00,  8.40it/s, loss=1.4] \n"
     ]
    },
    {
     "name": "stdout",
     "output_type": "stream",
     "text": [
      "Train Loss: 2.2647\n",
      "Val Loss: 1.7421\n",
      "Val NRMSE: 0.0481\n",
      "Val MCAR NRMSE: 0.0443\n",
      "Val MAR NRMSE: 0.0425\n",
      "Val MNAR NRMSE: 0.0574\n",
      "No improvement for 8 epochs\n",
      "\n",
      "Epoch 12/100\n"
     ]
    },
    {
     "name": "stderr",
     "output_type": "stream",
     "text": [
      "Training: 100%|██████████| 11/11 [00:01<00:00,  8.85it/s, loss=0.596]\n"
     ]
    },
    {
     "name": "stdout",
     "output_type": "stream",
     "text": [
      "Train Loss: 2.0895\n",
      "Val Loss: 1.8089\n",
      "Val NRMSE: 0.0481\n",
      "Val MCAR NRMSE: 0.0404\n",
      "Val MAR NRMSE: 0.0413\n",
      "Val MNAR NRMSE: 0.0625\n",
      "No improvement for 9 epochs\n",
      "\n",
      "Epoch 13/100\n"
     ]
    },
    {
     "name": "stderr",
     "output_type": "stream",
     "text": [
      "Training: 100%|██████████| 11/11 [00:01<00:00,  8.47it/s, loss=2.04]\n"
     ]
    },
    {
     "name": "stdout",
     "output_type": "stream",
     "text": [
      "Train Loss: 1.5031\n",
      "Val Loss: 1.9996\n",
      "Val NRMSE: 0.0502\n",
      "Val MCAR NRMSE: 0.0439\n",
      "Val MAR NRMSE: 0.0447\n",
      "Val MNAR NRMSE: 0.0619\n",
      "No improvement for 10 epochs\n",
      "\n",
      "Epoch 14/100\n"
     ]
    },
    {
     "name": "stderr",
     "output_type": "stream",
     "text": [
      "Training: 100%|██████████| 11/11 [00:01<00:00,  8.81it/s, loss=1.05]\n"
     ]
    },
    {
     "name": "stdout",
     "output_type": "stream",
     "text": [
      "Train Loss: 1.4122\n",
      "Val Loss: 1.8197\n",
      "Val NRMSE: 0.0482\n",
      "Val MCAR NRMSE: 0.0400\n",
      "Val MAR NRMSE: 0.0461\n",
      "Val MNAR NRMSE: 0.0586\n",
      "No improvement for 11 epochs\n",
      "\n",
      "Epoch 15/100\n"
     ]
    },
    {
     "name": "stderr",
     "output_type": "stream",
     "text": [
      "Training: 100%|██████████| 11/11 [00:01<00:00,  8.38it/s, loss=0.694]\n"
     ]
    },
    {
     "name": "stdout",
     "output_type": "stream",
     "text": [
      "Train Loss: 1.5127\n",
      "Val Loss: 2.0740\n",
      "Val NRMSE: 0.0518\n",
      "Val MCAR NRMSE: 0.0452\n",
      "Val MAR NRMSE: 0.0480\n",
      "Val MNAR NRMSE: 0.0621\n",
      "No improvement for 12 epochs\n",
      "\n",
      "Epoch 16/100\n"
     ]
    },
    {
     "name": "stderr",
     "output_type": "stream",
     "text": [
      "Training: 100%|██████████| 11/11 [00:01<00:00,  8.86it/s, loss=1.29]\n"
     ]
    },
    {
     "name": "stdout",
     "output_type": "stream",
     "text": [
      "Train Loss: 1.1388\n",
      "Val Loss: 1.8780\n",
      "Val NRMSE: 0.0487\n",
      "Val MCAR NRMSE: 0.0385\n",
      "Val MAR NRMSE: 0.0459\n",
      "Val MNAR NRMSE: 0.0618\n",
      "No improvement for 13 epochs\n",
      "\n",
      "Epoch 17/100\n"
     ]
    },
    {
     "name": "stderr",
     "output_type": "stream",
     "text": [
      "Training: 100%|██████████| 11/11 [00:01<00:00,  8.49it/s, loss=2.02] \n"
     ]
    },
    {
     "name": "stdout",
     "output_type": "stream",
     "text": [
      "Train Loss: 1.2653\n",
      "Val Loss: 1.6892\n",
      "Val NRMSE: 0.0467\n",
      "Val MCAR NRMSE: 0.0420\n",
      "Val MAR NRMSE: 0.0395\n",
      "Val MNAR NRMSE: 0.0584\n",
      "No improvement for 14 epochs\n",
      "\n",
      "Epoch 18/100\n"
     ]
    },
    {
     "name": "stderr",
     "output_type": "stream",
     "text": [
      "Training: 100%|██████████| 11/11 [00:01<00:00,  8.64it/s, loss=1.18]\n"
     ]
    },
    {
     "name": "stdout",
     "output_type": "stream",
     "text": [
      "Train Loss: 1.4014\n",
      "Val Loss: 1.7628\n",
      "Val NRMSE: 0.0480\n",
      "Val MCAR NRMSE: 0.0422\n",
      "Val MAR NRMSE: 0.0416\n",
      "Val MNAR NRMSE: 0.0600\n",
      "No improvement for 15 epochs\n",
      "\n",
      "Epoch 19/100\n"
     ]
    },
    {
     "name": "stderr",
     "output_type": "stream",
     "text": [
      "Training: 100%|██████████| 11/11 [00:01<00:00,  8.67it/s, loss=0.498]\n"
     ]
    },
    {
     "name": "stdout",
     "output_type": "stream",
     "text": [
      "Train Loss: 1.4991\n",
      "Val Loss: 2.2423\n",
      "Val NRMSE: 0.0535\n",
      "Val MCAR NRMSE: 0.0412\n",
      "Val MAR NRMSE: 0.0509\n",
      "Val MNAR NRMSE: 0.0684\n",
      "No improvement for 16 epochs\n",
      "\n",
      "Epoch 20/100\n"
     ]
    },
    {
     "name": "stderr",
     "output_type": "stream",
     "text": [
      "Training: 100%|██████████| 11/11 [00:01<00:00,  8.82it/s, loss=0.905]\n"
     ]
    },
    {
     "name": "stdout",
     "output_type": "stream",
     "text": [
      "Train Loss: 1.4317\n",
      "Val Loss: 1.8866\n",
      "Val NRMSE: 0.0495\n",
      "Val MCAR NRMSE: 0.0485\n",
      "Val MAR NRMSE: 0.0422\n",
      "Val MNAR NRMSE: 0.0578\n",
      "No improvement for 17 epochs\n",
      "\n",
      "Epoch 21/100\n"
     ]
    },
    {
     "name": "stderr",
     "output_type": "stream",
     "text": [
      "Training: 100%|██████████| 11/11 [00:01<00:00,  8.88it/s, loss=1.04]\n"
     ]
    },
    {
     "name": "stdout",
     "output_type": "stream",
     "text": [
      "Train Loss: 2.3716\n",
      "Val Loss: 1.9027\n",
      "Val NRMSE: 0.0491\n",
      "Val MCAR NRMSE: 0.0423\n",
      "Val MAR NRMSE: 0.0440\n",
      "Val MNAR NRMSE: 0.0609\n",
      "No improvement for 18 epochs\n",
      "\n",
      "Epoch 22/100\n"
     ]
    },
    {
     "name": "stderr",
     "output_type": "stream",
     "text": [
      "Training: 100%|██████████| 11/11 [00:01<00:00,  8.97it/s, loss=0.477]\n"
     ]
    },
    {
     "name": "stdout",
     "output_type": "stream",
     "text": [
      "Train Loss: 1.2868\n",
      "Val Loss: 2.1015\n",
      "Val NRMSE: 0.0525\n",
      "Val MCAR NRMSE: 0.0404\n",
      "Val MAR NRMSE: 0.0495\n",
      "Val MNAR NRMSE: 0.0675\n",
      "No improvement for 19 epochs\n",
      "\n",
      "Epoch 23/100\n"
     ]
    },
    {
     "name": "stderr",
     "output_type": "stream",
     "text": [
      "Training: 100%|██████████| 11/11 [00:01<00:00,  8.96it/s, loss=2.15]\n"
     ]
    },
    {
     "name": "stdout",
     "output_type": "stream",
     "text": [
      "Train Loss: 1.5345\n",
      "Val Loss: 1.7691\n",
      "Val NRMSE: 0.0478\n",
      "Val MCAR NRMSE: 0.0432\n",
      "Val MAR NRMSE: 0.0400\n",
      "Val MNAR NRMSE: 0.0602\n",
      "No improvement for 20 epochs\n",
      "\n",
      "Epoch 24/100\n"
     ]
    },
    {
     "name": "stderr",
     "output_type": "stream",
     "text": [
      "Training: 100%|██████████| 11/11 [00:01<00:00,  8.50it/s, loss=11.3]\n"
     ]
    },
    {
     "name": "stdout",
     "output_type": "stream",
     "text": [
      "Train Loss: 2.7377\n",
      "Val Loss: 1.7188\n",
      "Val NRMSE: 0.0463\n",
      "Val MCAR NRMSE: 0.0381\n",
      "Val MAR NRMSE: 0.0421\n",
      "Val MNAR NRMSE: 0.0588\n",
      "No improvement for 21 epochs\n",
      "\n",
      "Epoch 25/100\n"
     ]
    },
    {
     "name": "stderr",
     "output_type": "stream",
     "text": [
      "Training: 100%|██████████| 11/11 [00:01<00:00,  8.46it/s, loss=0.837]\n"
     ]
    },
    {
     "name": "stdout",
     "output_type": "stream",
     "text": [
      "Train Loss: 1.2643\n",
      "Val Loss: 1.6897\n",
      "Val NRMSE: 0.0464\n",
      "Val MCAR NRMSE: 0.0409\n",
      "Val MAR NRMSE: 0.0370\n",
      "Val MNAR NRMSE: 0.0611\n",
      "No improvement for 22 epochs\n",
      "\n",
      "Epoch 26/100\n"
     ]
    },
    {
     "name": "stderr",
     "output_type": "stream",
     "text": [
      "Training: 100%|██████████| 11/11 [00:01<00:00,  8.80it/s, loss=1.81] \n"
     ]
    },
    {
     "name": "stdout",
     "output_type": "stream",
     "text": [
      "Train Loss: 1.5063\n",
      "Val Loss: 1.7978\n",
      "Val NRMSE: 0.0477\n",
      "Val MCAR NRMSE: 0.0404\n",
      "Val MAR NRMSE: 0.0444\n",
      "Val MNAR NRMSE: 0.0584\n",
      "No improvement for 23 epochs\n",
      "\n",
      "Epoch 27/100\n"
     ]
    },
    {
     "name": "stderr",
     "output_type": "stream",
     "text": [
      "Training: 100%|██████████| 11/11 [00:01<00:00,  8.46it/s, loss=1.13]\n"
     ]
    },
    {
     "name": "stdout",
     "output_type": "stream",
     "text": [
      "Train Loss: 1.9672\n",
      "Val Loss: 1.8485\n",
      "Val NRMSE: 0.0501\n",
      "Val MCAR NRMSE: 0.0481\n",
      "Val MAR NRMSE: 0.0454\n",
      "Val MNAR NRMSE: 0.0566\n",
      "No improvement for 24 epochs\n",
      "\n",
      "Epoch 28/100\n"
     ]
    },
    {
     "name": "stderr",
     "output_type": "stream",
     "text": [
      "Training: 100%|██████████| 11/11 [00:01<00:00,  9.04it/s, loss=0.537]\n"
     ]
    },
    {
     "name": "stdout",
     "output_type": "stream",
     "text": [
      "Train Loss: 1.2979\n",
      "Val Loss: 1.8519\n",
      "Val NRMSE: 0.0489\n",
      "Val MCAR NRMSE: 0.0404\n",
      "Val MAR NRMSE: 0.0458\n",
      "Val MNAR NRMSE: 0.0604\n",
      "No improvement for 25 epochs\n",
      "Early stopping after 28 epochs\n",
      "Fold 3 metrics:\n",
      "  NRMSE: 0.0466\n",
      "  MCAR NRMSE: 0.0365\n",
      "  MAR NRMSE: 0.0427\n",
      "  MNAR NRMSE: 0.0605\n",
      "\n",
      "Training fold 4/5\n",
      "Starting model training...\n",
      "Creating single transformer model...\n",
      "\n",
      "Epoch 1/100\n"
     ]
    },
    {
     "name": "stderr",
     "output_type": "stream",
     "text": [
      "Training: 100%|██████████| 11/11 [00:01<00:00,  9.10it/s, loss=1.24]\n"
     ]
    },
    {
     "name": "stdout",
     "output_type": "stream",
     "text": [
      "Train Loss: 1.6212\n",
      "Val Loss: 1.8716\n",
      "Val NRMSE: 0.0417\n",
      "Val MCAR NRMSE: 0.0366\n",
      "Val MAR NRMSE: 0.0379\n",
      "Val MNAR NRMSE: 0.0505\n",
      "New best validation loss: 1.8716\n",
      "\n",
      "Epoch 2/100\n"
     ]
    },
    {
     "name": "stderr",
     "output_type": "stream",
     "text": [
      "Training: 100%|██████████| 11/11 [00:01<00:00,  8.64it/s, loss=0.316]\n"
     ]
    },
    {
     "name": "stdout",
     "output_type": "stream",
     "text": [
      "Train Loss: 1.9272\n",
      "Val Loss: 2.0396\n",
      "Val NRMSE: 0.0445\n",
      "Val MCAR NRMSE: 0.0424\n",
      "Val MAR NRMSE: 0.0410\n",
      "Val MNAR NRMSE: 0.0501\n",
      "No improvement for 1 epochs\n",
      "\n",
      "Epoch 3/100\n"
     ]
    },
    {
     "name": "stderr",
     "output_type": "stream",
     "text": [
      "Training: 100%|██████████| 11/11 [00:01<00:00,  8.65it/s, loss=0.969]\n"
     ]
    },
    {
     "name": "stdout",
     "output_type": "stream",
     "text": [
      "Train Loss: 1.4979\n",
      "Val Loss: 1.9437\n",
      "Val NRMSE: 0.0422\n",
      "Val MCAR NRMSE: 0.0342\n",
      "Val MAR NRMSE: 0.0389\n",
      "Val MNAR NRMSE: 0.0534\n",
      "No improvement for 2 epochs\n",
      "\n",
      "Epoch 4/100\n"
     ]
    },
    {
     "name": "stderr",
     "output_type": "stream",
     "text": [
      "Training: 100%|██████████| 11/11 [00:01<00:00,  8.59it/s, loss=1.75]\n"
     ]
    },
    {
     "name": "stdout",
     "output_type": "stream",
     "text": [
      "Train Loss: 1.6788\n",
      "Val Loss: 2.3181\n",
      "Val NRMSE: 0.0454\n",
      "Val MCAR NRMSE: 0.0378\n",
      "Val MAR NRMSE: 0.0434\n",
      "Val MNAR NRMSE: 0.0549\n",
      "No improvement for 3 epochs\n",
      "\n",
      "Epoch 5/100\n"
     ]
    },
    {
     "name": "stderr",
     "output_type": "stream",
     "text": [
      "Training: 100%|██████████| 11/11 [00:01<00:00,  8.48it/s, loss=1.09]\n"
     ]
    },
    {
     "name": "stdout",
     "output_type": "stream",
     "text": [
      "Train Loss: 1.6919\n",
      "Val Loss: 2.0159\n",
      "Val NRMSE: 0.0430\n",
      "Val MCAR NRMSE: 0.0381\n",
      "Val MAR NRMSE: 0.0404\n",
      "Val MNAR NRMSE: 0.0507\n",
      "No improvement for 4 epochs\n",
      "\n",
      "Epoch 6/100\n"
     ]
    },
    {
     "name": "stderr",
     "output_type": "stream",
     "text": [
      "Training: 100%|██████████| 11/11 [00:01<00:00,  8.74it/s, loss=2.98]\n"
     ]
    },
    {
     "name": "stdout",
     "output_type": "stream",
     "text": [
      "Train Loss: 1.5837\n",
      "Val Loss: 1.6683\n",
      "Val NRMSE: 0.0393\n",
      "Val MCAR NRMSE: 0.0325\n",
      "Val MAR NRMSE: 0.0335\n",
      "Val MNAR NRMSE: 0.0520\n",
      "New best validation loss: 1.6683\n",
      "\n",
      "Epoch 7/100\n"
     ]
    },
    {
     "name": "stderr",
     "output_type": "stream",
     "text": [
      "Training: 100%|██████████| 11/11 [00:01<00:00,  8.84it/s, loss=0.776]\n"
     ]
    },
    {
     "name": "stdout",
     "output_type": "stream",
     "text": [
      "Train Loss: 1.5539\n",
      "Val Loss: 2.1175\n",
      "Val NRMSE: 0.0435\n",
      "Val MCAR NRMSE: 0.0405\n",
      "Val MAR NRMSE: 0.0399\n",
      "Val MNAR NRMSE: 0.0501\n",
      "No improvement for 1 epochs\n",
      "\n",
      "Epoch 8/100\n"
     ]
    },
    {
     "name": "stderr",
     "output_type": "stream",
     "text": [
      "Training: 100%|██████████| 11/11 [00:01<00:00,  8.73it/s, loss=1]   \n"
     ]
    },
    {
     "name": "stdout",
     "output_type": "stream",
     "text": [
      "Train Loss: 2.1381\n",
      "Val Loss: 2.0458\n",
      "Val NRMSE: 0.0434\n",
      "Val MCAR NRMSE: 0.0437\n",
      "Val MAR NRMSE: 0.0367\n",
      "Val MNAR NRMSE: 0.0496\n",
      "No improvement for 2 epochs\n",
      "\n",
      "Epoch 9/100\n"
     ]
    },
    {
     "name": "stderr",
     "output_type": "stream",
     "text": [
      "Training: 100%|██████████| 11/11 [00:01<00:00,  8.68it/s, loss=0.758]\n"
     ]
    },
    {
     "name": "stdout",
     "output_type": "stream",
     "text": [
      "Train Loss: 1.5565\n",
      "Val Loss: 1.8311\n",
      "Val NRMSE: 0.0409\n",
      "Val MCAR NRMSE: 0.0352\n",
      "Val MAR NRMSE: 0.0374\n",
      "Val MNAR NRMSE: 0.0502\n",
      "No improvement for 3 epochs\n",
      "\n",
      "Epoch 10/100\n"
     ]
    },
    {
     "name": "stderr",
     "output_type": "stream",
     "text": [
      "Training: 100%|██████████| 11/11 [00:01<00:00,  8.04it/s, loss=2.39]\n"
     ]
    },
    {
     "name": "stdout",
     "output_type": "stream",
     "text": [
      "Train Loss: 1.5861\n",
      "Val Loss: 1.9109\n",
      "Val NRMSE: 0.0418\n",
      "Val MCAR NRMSE: 0.0383\n",
      "Val MAR NRMSE: 0.0336\n",
      "Val MNAR NRMSE: 0.0534\n",
      "No improvement for 4 epochs\n",
      "\n",
      "Epoch 11/100\n"
     ]
    },
    {
     "name": "stderr",
     "output_type": "stream",
     "text": [
      "Training: 100%|██████████| 11/11 [00:01<00:00,  8.12it/s, loss=1.84] \n"
     ]
    },
    {
     "name": "stdout",
     "output_type": "stream",
     "text": [
      "Train Loss: 1.5653\n",
      "Val Loss: 2.1675\n",
      "Val NRMSE: 0.0442\n",
      "Val MCAR NRMSE: 0.0383\n",
      "Val MAR NRMSE: 0.0400\n",
      "Val MNAR NRMSE: 0.0544\n",
      "No improvement for 5 epochs\n",
      "\n",
      "Epoch 12/100\n"
     ]
    },
    {
     "name": "stderr",
     "output_type": "stream",
     "text": [
      "Training: 100%|██████████| 11/11 [00:01<00:00,  8.54it/s, loss=0.535]\n"
     ]
    },
    {
     "name": "stdout",
     "output_type": "stream",
     "text": [
      "Train Loss: 1.3704\n",
      "Val Loss: 2.0470\n",
      "Val NRMSE: 0.0436\n",
      "Val MCAR NRMSE: 0.0329\n",
      "Val MAR NRMSE: 0.0440\n",
      "Val MNAR NRMSE: 0.0539\n",
      "No improvement for 6 epochs\n",
      "\n",
      "Epoch 13/100\n"
     ]
    },
    {
     "name": "stderr",
     "output_type": "stream",
     "text": [
      "Training: 100%|██████████| 11/11 [00:01<00:00,  8.85it/s, loss=1.03] \n"
     ]
    },
    {
     "name": "stdout",
     "output_type": "stream",
     "text": [
      "Train Loss: 1.4032\n",
      "Val Loss: 1.8665\n",
      "Val NRMSE: 0.0413\n",
      "Val MCAR NRMSE: 0.0353\n",
      "Val MAR NRMSE: 0.0377\n",
      "Val MNAR NRMSE: 0.0508\n",
      "No improvement for 7 epochs\n",
      "\n",
      "Epoch 14/100\n"
     ]
    },
    {
     "name": "stderr",
     "output_type": "stream",
     "text": [
      "Training: 100%|██████████| 11/11 [00:01<00:00,  8.42it/s, loss=1.14]\n"
     ]
    },
    {
     "name": "stdout",
     "output_type": "stream",
     "text": [
      "Train Loss: 1.5895\n",
      "Val Loss: 2.2060\n",
      "Val NRMSE: 0.0449\n",
      "Val MCAR NRMSE: 0.0384\n",
      "Val MAR NRMSE: 0.0393\n",
      "Val MNAR NRMSE: 0.0571\n",
      "No improvement for 8 epochs\n",
      "\n",
      "Epoch 15/100\n"
     ]
    },
    {
     "name": "stderr",
     "output_type": "stream",
     "text": [
      "Training: 100%|██████████| 11/11 [00:01<00:00,  8.67it/s, loss=3.2] \n"
     ]
    },
    {
     "name": "stdout",
     "output_type": "stream",
     "text": [
      "Train Loss: 1.7212\n",
      "Val Loss: 1.7233\n",
      "Val NRMSE: 0.0402\n",
      "Val MCAR NRMSE: 0.0341\n",
      "Val MAR NRMSE: 0.0349\n",
      "Val MNAR NRMSE: 0.0516\n",
      "No improvement for 9 epochs\n",
      "\n",
      "Epoch 16/100\n"
     ]
    },
    {
     "name": "stderr",
     "output_type": "stream",
     "text": [
      "Training: 100%|██████████| 11/11 [00:01<00:00,  8.31it/s, loss=0.657]\n"
     ]
    },
    {
     "name": "stdout",
     "output_type": "stream",
     "text": [
      "Train Loss: 1.4427\n",
      "Val Loss: 2.0516\n",
      "Val NRMSE: 0.0437\n",
      "Val MCAR NRMSE: 0.0348\n",
      "Val MAR NRMSE: 0.0443\n",
      "Val MNAR NRMSE: 0.0521\n",
      "No improvement for 10 epochs\n",
      "\n",
      "Epoch 17/100\n"
     ]
    },
    {
     "name": "stderr",
     "output_type": "stream",
     "text": [
      "Training: 100%|██████████| 11/11 [00:01<00:00,  8.68it/s, loss=0.758]\n"
     ]
    },
    {
     "name": "stdout",
     "output_type": "stream",
     "text": [
      "Train Loss: 1.6668\n",
      "Val Loss: 1.7578\n",
      "Val NRMSE: 0.0402\n",
      "Val MCAR NRMSE: 0.0323\n",
      "Val MAR NRMSE: 0.0349\n",
      "Val MNAR NRMSE: 0.0534\n",
      "No improvement for 11 epochs\n",
      "\n",
      "Epoch 18/100\n"
     ]
    },
    {
     "name": "stderr",
     "output_type": "stream",
     "text": [
      "Training: 100%|██████████| 11/11 [00:01<00:00,  8.90it/s, loss=0.897]\n"
     ]
    },
    {
     "name": "stdout",
     "output_type": "stream",
     "text": [
      "Train Loss: 1.4909\n",
      "Val Loss: 2.0398\n",
      "Val NRMSE: 0.0430\n",
      "Val MCAR NRMSE: 0.0312\n",
      "Val MAR NRMSE: 0.0409\n",
      "Val MNAR NRMSE: 0.0568\n",
      "No improvement for 12 epochs\n",
      "\n",
      "Epoch 19/100\n"
     ]
    },
    {
     "name": "stderr",
     "output_type": "stream",
     "text": [
      "Training: 100%|██████████| 11/11 [00:01<00:00,  8.75it/s, loss=0.769]\n"
     ]
    },
    {
     "name": "stdout",
     "output_type": "stream",
     "text": [
      "Train Loss: 1.5656\n",
      "Val Loss: 1.9888\n",
      "Val NRMSE: 0.0423\n",
      "Val MCAR NRMSE: 0.0382\n",
      "Val MAR NRMSE: 0.0371\n",
      "Val MNAR NRMSE: 0.0515\n",
      "No improvement for 13 epochs\n",
      "\n",
      "Epoch 20/100\n"
     ]
    },
    {
     "name": "stderr",
     "output_type": "stream",
     "text": [
      "Training: 100%|██████████| 11/11 [00:01<00:00,  9.13it/s, loss=0.468]\n"
     ]
    },
    {
     "name": "stdout",
     "output_type": "stream",
     "text": [
      "Train Loss: 1.4488\n",
      "Val Loss: 2.4574\n",
      "Val NRMSE: 0.0482\n",
      "Val MCAR NRMSE: 0.0412\n",
      "Val MAR NRMSE: 0.0443\n",
      "Val MNAR NRMSE: 0.0590\n",
      "No improvement for 14 epochs\n",
      "\n",
      "Epoch 21/100\n"
     ]
    },
    {
     "name": "stderr",
     "output_type": "stream",
     "text": [
      "Training: 100%|██████████| 11/11 [00:01<00:00,  8.91it/s, loss=1.16]\n"
     ]
    },
    {
     "name": "stdout",
     "output_type": "stream",
     "text": [
      "Train Loss: 1.3697\n",
      "Val Loss: 1.9097\n",
      "Val NRMSE: 0.0433\n",
      "Val MCAR NRMSE: 0.0430\n",
      "Val MAR NRMSE: 0.0370\n",
      "Val MNAR NRMSE: 0.0499\n",
      "No improvement for 15 epochs\n",
      "\n",
      "Epoch 22/100\n"
     ]
    },
    {
     "name": "stderr",
     "output_type": "stream",
     "text": [
      "Training: 100%|██████████| 11/11 [00:01<00:00,  8.63it/s, loss=1.1] \n"
     ]
    },
    {
     "name": "stdout",
     "output_type": "stream",
     "text": [
      "Train Loss: 1.2518\n",
      "Val Loss: 1.9444\n",
      "Val NRMSE: 0.0422\n",
      "Val MCAR NRMSE: 0.0359\n",
      "Val MAR NRMSE: 0.0382\n",
      "Val MNAR NRMSE: 0.0524\n",
      "No improvement for 16 epochs\n",
      "\n",
      "Epoch 23/100\n"
     ]
    },
    {
     "name": "stderr",
     "output_type": "stream",
     "text": [
      "Training: 100%|██████████| 11/11 [00:01<00:00,  8.84it/s, loss=0.773]\n"
     ]
    },
    {
     "name": "stdout",
     "output_type": "stream",
     "text": [
      "Train Loss: 1.3821\n",
      "Val Loss: 2.4617\n",
      "Val NRMSE: 0.0505\n",
      "Val MCAR NRMSE: 0.0527\n",
      "Val MAR NRMSE: 0.0462\n",
      "Val MNAR NRMSE: 0.0526\n",
      "No improvement for 17 epochs\n",
      "\n",
      "Epoch 24/100\n"
     ]
    },
    {
     "name": "stderr",
     "output_type": "stream",
     "text": [
      "Training: 100%|██████████| 11/11 [00:01<00:00,  9.21it/s, loss=2.67]\n"
     ]
    },
    {
     "name": "stdout",
     "output_type": "stream",
     "text": [
      "Train Loss: 1.8480\n",
      "Val Loss: 1.8516\n",
      "Val NRMSE: 0.0402\n",
      "Val MCAR NRMSE: 0.0357\n",
      "Val MAR NRMSE: 0.0303\n",
      "Val MNAR NRMSE: 0.0545\n",
      "No improvement for 18 epochs\n",
      "\n",
      "Epoch 25/100\n"
     ]
    },
    {
     "name": "stderr",
     "output_type": "stream",
     "text": [
      "Training: 100%|██████████| 11/11 [00:01<00:00,  8.85it/s, loss=0.654]\n"
     ]
    },
    {
     "name": "stdout",
     "output_type": "stream",
     "text": [
      "Train Loss: 1.2254\n",
      "Val Loss: 2.1355\n",
      "Val NRMSE: 0.0443\n",
      "Val MCAR NRMSE: 0.0369\n",
      "Val MAR NRMSE: 0.0432\n",
      "Val MNAR NRMSE: 0.0529\n",
      "No improvement for 19 epochs\n",
      "\n",
      "Epoch 26/100\n"
     ]
    },
    {
     "name": "stderr",
     "output_type": "stream",
     "text": [
      "Training: 100%|██████████| 11/11 [00:01<00:00,  8.86it/s, loss=0.27]\n"
     ]
    },
    {
     "name": "stdout",
     "output_type": "stream",
     "text": [
      "Train Loss: 1.4271\n",
      "Val Loss: 1.9641\n",
      "Val NRMSE: 0.0426\n",
      "Val MCAR NRMSE: 0.0382\n",
      "Val MAR NRMSE: 0.0360\n",
      "Val MNAR NRMSE: 0.0535\n",
      "No improvement for 20 epochs\n",
      "\n",
      "Epoch 27/100\n"
     ]
    },
    {
     "name": "stderr",
     "output_type": "stream",
     "text": [
      "Training: 100%|██████████| 11/11 [00:01<00:00,  8.83it/s, loss=1.3] \n"
     ]
    },
    {
     "name": "stdout",
     "output_type": "stream",
     "text": [
      "Train Loss: 1.3471\n",
      "Val Loss: 1.8198\n",
      "Val NRMSE: 0.0413\n",
      "Val MCAR NRMSE: 0.0350\n",
      "Val MAR NRMSE: 0.0385\n",
      "Val MNAR NRMSE: 0.0505\n",
      "No improvement for 21 epochs\n",
      "\n",
      "Epoch 28/100\n"
     ]
    },
    {
     "name": "stderr",
     "output_type": "stream",
     "text": [
      "Training: 100%|██████████| 11/11 [00:01<00:00,  8.58it/s, loss=0.513]\n"
     ]
    },
    {
     "name": "stdout",
     "output_type": "stream",
     "text": [
      "Train Loss: 1.7095\n",
      "Val Loss: 1.9841\n",
      "Val NRMSE: 0.0427\n",
      "Val MCAR NRMSE: 0.0399\n",
      "Val MAR NRMSE: 0.0380\n",
      "Val MNAR NRMSE: 0.0501\n",
      "No improvement for 22 epochs\n",
      "\n",
      "Epoch 29/100\n"
     ]
    },
    {
     "name": "stderr",
     "output_type": "stream",
     "text": [
      "Training: 100%|██████████| 11/11 [00:01<00:00,  8.56it/s, loss=1.48]\n"
     ]
    },
    {
     "name": "stdout",
     "output_type": "stream",
     "text": [
      "Train Loss: 1.5481\n",
      "Val Loss: 1.9356\n",
      "Val NRMSE: 0.0419\n",
      "Val MCAR NRMSE: 0.0354\n",
      "Val MAR NRMSE: 0.0386\n",
      "Val MNAR NRMSE: 0.0516\n",
      "No improvement for 23 epochs\n",
      "\n",
      "Epoch 30/100\n"
     ]
    },
    {
     "name": "stderr",
     "output_type": "stream",
     "text": [
      "Training: 100%|██████████| 11/11 [00:01<00:00,  8.32it/s, loss=1.08]\n"
     ]
    },
    {
     "name": "stdout",
     "output_type": "stream",
     "text": [
      "Train Loss: 1.7206\n",
      "Val Loss: 2.0666\n",
      "Val NRMSE: 0.0439\n",
      "Val MCAR NRMSE: 0.0439\n",
      "Val MAR NRMSE: 0.0383\n",
      "Val MNAR NRMSE: 0.0493\n",
      "No improvement for 24 epochs\n",
      "\n",
      "Epoch 31/100\n"
     ]
    },
    {
     "name": "stderr",
     "output_type": "stream",
     "text": [
      "Training: 100%|██████████| 11/11 [00:01<00:00,  8.44it/s, loss=0.293]\n"
     ]
    },
    {
     "name": "stdout",
     "output_type": "stream",
     "text": [
      "Train Loss: 1.1996\n",
      "Val Loss: 1.8617\n",
      "Val NRMSE: 0.0418\n",
      "Val MCAR NRMSE: 0.0349\n",
      "Val MAR NRMSE: 0.0363\n",
      "Val MNAR NRMSE: 0.0541\n",
      "No improvement for 25 epochs\n",
      "Early stopping after 31 epochs\n",
      "Fold 4 metrics:\n",
      "  NRMSE: 0.0422\n",
      "  MCAR NRMSE: 0.0329\n",
      "  MAR NRMSE: 0.0405\n",
      "  MNAR NRMSE: 0.0532\n",
      "\n",
      "Training fold 5/5\n",
      "Starting model training...\n",
      "Creating single transformer model...\n",
      "\n",
      "Epoch 1/100\n"
     ]
    },
    {
     "name": "stderr",
     "output_type": "stream",
     "text": [
      "Training: 100%|██████████| 11/11 [00:01<00:00,  8.97it/s, loss=1.44]\n"
     ]
    },
    {
     "name": "stdout",
     "output_type": "stream",
     "text": [
      "Train Loss: 2.7228\n",
      "Val Loss: 1.5633\n",
      "Val NRMSE: 0.0623\n",
      "Val MCAR NRMSE: 0.0627\n",
      "Val MAR NRMSE: 0.0611\n",
      "Val MNAR NRMSE: 0.0630\n",
      "New best validation loss: 1.5633\n",
      "\n",
      "Epoch 2/100\n"
     ]
    },
    {
     "name": "stderr",
     "output_type": "stream",
     "text": [
      "Training: 100%|██████████| 11/11 [00:01<00:00,  8.80it/s, loss=1.09]\n"
     ]
    },
    {
     "name": "stdout",
     "output_type": "stream",
     "text": [
      "Train Loss: 1.8214\n",
      "Val Loss: 1.5974\n",
      "Val NRMSE: 0.0628\n",
      "Val MCAR NRMSE: 0.0638\n",
      "Val MAR NRMSE: 0.0614\n",
      "Val MNAR NRMSE: 0.0631\n",
      "No improvement for 1 epochs\n",
      "\n",
      "Epoch 3/100\n"
     ]
    },
    {
     "name": "stderr",
     "output_type": "stream",
     "text": [
      "Training: 100%|██████████| 11/11 [00:01<00:00,  9.45it/s, loss=0.964]\n"
     ]
    },
    {
     "name": "stdout",
     "output_type": "stream",
     "text": [
      "Train Loss: 1.4233\n",
      "Val Loss: 1.2770\n",
      "Val NRMSE: 0.0553\n",
      "Val MCAR NRMSE: 0.0449\n",
      "Val MAR NRMSE: 0.0549\n",
      "Val MNAR NRMSE: 0.0662\n",
      "New best validation loss: 1.2770\n",
      "\n",
      "Epoch 4/100\n"
     ]
    },
    {
     "name": "stderr",
     "output_type": "stream",
     "text": [
      "Training: 100%|██████████| 11/11 [00:01<00:00,  9.10it/s, loss=1.14]\n"
     ]
    },
    {
     "name": "stdout",
     "output_type": "stream",
     "text": [
      "Train Loss: 1.5518\n",
      "Val Loss: 1.3176\n",
      "Val NRMSE: 0.0557\n",
      "Val MCAR NRMSE: 0.0491\n",
      "Val MAR NRMSE: 0.0538\n",
      "Val MNAR NRMSE: 0.0641\n",
      "No improvement for 1 epochs\n",
      "\n",
      "Epoch 5/100\n"
     ]
    },
    {
     "name": "stderr",
     "output_type": "stream",
     "text": [
      "Training: 100%|██████████| 11/11 [00:01<00:00,  8.87it/s, loss=1.35]\n"
     ]
    },
    {
     "name": "stdout",
     "output_type": "stream",
     "text": [
      "Train Loss: 1.8148\n",
      "Val Loss: 1.4259\n",
      "Val NRMSE: 0.0591\n",
      "Val MCAR NRMSE: 0.0610\n",
      "Val MAR NRMSE: 0.0561\n",
      "Val MNAR NRMSE: 0.0601\n",
      "No improvement for 2 epochs\n",
      "\n",
      "Epoch 6/100\n"
     ]
    },
    {
     "name": "stderr",
     "output_type": "stream",
     "text": [
      "Training: 100%|██████████| 11/11 [00:01<00:00,  8.66it/s, loss=1.68]\n"
     ]
    },
    {
     "name": "stdout",
     "output_type": "stream",
     "text": [
      "Train Loss: 1.9344\n",
      "Val Loss: 1.3752\n",
      "Val NRMSE: 0.0577\n",
      "Val MCAR NRMSE: 0.0568\n",
      "Val MAR NRMSE: 0.0565\n",
      "Val MNAR NRMSE: 0.0599\n",
      "No improvement for 3 epochs\n",
      "\n",
      "Epoch 7/100\n"
     ]
    },
    {
     "name": "stderr",
     "output_type": "stream",
     "text": [
      "Training: 100%|██████████| 11/11 [00:01<00:00,  8.77it/s, loss=1.93]\n"
     ]
    },
    {
     "name": "stdout",
     "output_type": "stream",
     "text": [
      "Train Loss: 1.7644\n",
      "Val Loss: 1.2952\n",
      "Val NRMSE: 0.0558\n",
      "Val MCAR NRMSE: 0.0508\n",
      "Val MAR NRMSE: 0.0544\n",
      "Val MNAR NRMSE: 0.0621\n",
      "No improvement for 4 epochs\n",
      "\n",
      "Epoch 8/100\n"
     ]
    },
    {
     "name": "stderr",
     "output_type": "stream",
     "text": [
      "Training: 100%|██████████| 11/11 [00:01<00:00,  8.57it/s, loss=0.787]\n"
     ]
    },
    {
     "name": "stdout",
     "output_type": "stream",
     "text": [
      "Train Loss: 2.0789\n",
      "Val Loss: 1.5871\n",
      "Val NRMSE: 0.0629\n",
      "Val MCAR NRMSE: 0.0672\n",
      "Val MAR NRMSE: 0.0601\n",
      "Val MNAR NRMSE: 0.0614\n",
      "No improvement for 5 epochs\n",
      "\n",
      "Epoch 9/100\n"
     ]
    },
    {
     "name": "stderr",
     "output_type": "stream",
     "text": [
      "Training: 100%|██████████| 11/11 [00:01<00:00,  8.78it/s, loss=4.33]\n"
     ]
    },
    {
     "name": "stdout",
     "output_type": "stream",
     "text": [
      "Train Loss: 1.8636\n",
      "Val Loss: 1.4502\n",
      "Val NRMSE: 0.0592\n",
      "Val MCAR NRMSE: 0.0472\n",
      "Val MAR NRMSE: 0.0585\n",
      "Val MNAR NRMSE: 0.0719\n",
      "No improvement for 6 epochs\n",
      "\n",
      "Epoch 10/100\n"
     ]
    },
    {
     "name": "stderr",
     "output_type": "stream",
     "text": [
      "Training: 100%|██████████| 11/11 [00:01<00:00,  8.88it/s, loss=0.473]\n"
     ]
    },
    {
     "name": "stdout",
     "output_type": "stream",
     "text": [
      "Train Loss: 1.8142\n",
      "Val Loss: 1.3471\n",
      "Val NRMSE: 0.0569\n",
      "Val MCAR NRMSE: 0.0527\n",
      "Val MAR NRMSE: 0.0572\n",
      "Val MNAR NRMSE: 0.0607\n",
      "No improvement for 7 epochs\n",
      "\n",
      "Epoch 11/100\n"
     ]
    },
    {
     "name": "stderr",
     "output_type": "stream",
     "text": [
      "Training: 100%|██████████| 11/11 [00:01<00:00,  8.84it/s, loss=0.65] \n"
     ]
    },
    {
     "name": "stdout",
     "output_type": "stream",
     "text": [
      "Train Loss: 2.0557\n",
      "Val Loss: 1.2344\n",
      "Val NRMSE: 0.0543\n",
      "Val MCAR NRMSE: 0.0489\n",
      "Val MAR NRMSE: 0.0518\n",
      "Val MNAR NRMSE: 0.0621\n",
      "New best validation loss: 1.2344\n",
      "\n",
      "Epoch 12/100\n"
     ]
    },
    {
     "name": "stderr",
     "output_type": "stream",
     "text": [
      "Training: 100%|██████████| 11/11 [00:01<00:00,  8.87it/s, loss=1.2] \n"
     ]
    },
    {
     "name": "stdout",
     "output_type": "stream",
     "text": [
      "Train Loss: 1.9495\n",
      "Val Loss: 1.2981\n",
      "Val NRMSE: 0.0554\n",
      "Val MCAR NRMSE: 0.0495\n",
      "Val MAR NRMSE: 0.0532\n",
      "Val MNAR NRMSE: 0.0636\n",
      "No improvement for 1 epochs\n",
      "\n",
      "Epoch 13/100\n"
     ]
    },
    {
     "name": "stderr",
     "output_type": "stream",
     "text": [
      "Training: 100%|██████████| 11/11 [00:01<00:00,  8.79it/s, loss=1.12]\n"
     ]
    },
    {
     "name": "stdout",
     "output_type": "stream",
     "text": [
      "Train Loss: 1.9410\n",
      "Val Loss: 1.3779\n",
      "Val NRMSE: 0.0576\n",
      "Val MCAR NRMSE: 0.0585\n",
      "Val MAR NRMSE: 0.0542\n",
      "Val MNAR NRMSE: 0.0601\n",
      "No improvement for 2 epochs\n",
      "\n",
      "Epoch 14/100\n"
     ]
    },
    {
     "name": "stderr",
     "output_type": "stream",
     "text": [
      "Training: 100%|██████████| 11/11 [00:01<00:00,  9.14it/s, loss=1.33]\n"
     ]
    },
    {
     "name": "stdout",
     "output_type": "stream",
     "text": [
      "Train Loss: 1.5844\n",
      "Val Loss: 1.3267\n",
      "Val NRMSE: 0.0563\n",
      "Val MCAR NRMSE: 0.0495\n",
      "Val MAR NRMSE: 0.0553\n",
      "Val MNAR NRMSE: 0.0641\n",
      "No improvement for 3 epochs\n",
      "\n",
      "Epoch 15/100\n"
     ]
    },
    {
     "name": "stderr",
     "output_type": "stream",
     "text": [
      "Training: 100%|██████████| 11/11 [00:01<00:00,  8.53it/s, loss=0.74]\n"
     ]
    },
    {
     "name": "stdout",
     "output_type": "stream",
     "text": [
      "Train Loss: 1.6655\n",
      "Val Loss: 1.5759\n",
      "Val NRMSE: 0.0607\n",
      "Val MCAR NRMSE: 0.0483\n",
      "Val MAR NRMSE: 0.0604\n",
      "Val MNAR NRMSE: 0.0735\n",
      "No improvement for 4 epochs\n",
      "\n",
      "Epoch 16/100\n"
     ]
    },
    {
     "name": "stderr",
     "output_type": "stream",
     "text": [
      "Training: 100%|██████████| 11/11 [00:01<00:00,  8.39it/s, loss=2.03]\n"
     ]
    },
    {
     "name": "stdout",
     "output_type": "stream",
     "text": [
      "Train Loss: 2.4417\n",
      "Val Loss: 1.4787\n",
      "Val NRMSE: 0.0606\n",
      "Val MCAR NRMSE: 0.0636\n",
      "Val MAR NRMSE: 0.0575\n",
      "Val MNAR NRMSE: 0.0608\n",
      "No improvement for 5 epochs\n",
      "\n",
      "Epoch 17/100\n"
     ]
    },
    {
     "name": "stderr",
     "output_type": "stream",
     "text": [
      "Training: 100%|██████████| 11/11 [00:01<00:00,  8.68it/s, loss=1.3] \n"
     ]
    },
    {
     "name": "stdout",
     "output_type": "stream",
     "text": [
      "Train Loss: 2.2685\n",
      "Val Loss: 1.3138\n",
      "Val NRMSE: 0.0568\n",
      "Val MCAR NRMSE: 0.0510\n",
      "Val MAR NRMSE: 0.0556\n",
      "Val MNAR NRMSE: 0.0639\n",
      "No improvement for 6 epochs\n",
      "\n",
      "Epoch 18/100\n"
     ]
    },
    {
     "name": "stderr",
     "output_type": "stream",
     "text": [
      "Training: 100%|██████████| 11/11 [00:01<00:00,  8.82it/s, loss=1.61]\n"
     ]
    },
    {
     "name": "stdout",
     "output_type": "stream",
     "text": [
      "Train Loss: 1.5850\n",
      "Val Loss: 1.6991\n",
      "Val NRMSE: 0.0636\n",
      "Val MCAR NRMSE: 0.0493\n",
      "Val MAR NRMSE: 0.0614\n",
      "Val MNAR NRMSE: 0.0802\n",
      "No improvement for 7 epochs\n",
      "\n",
      "Epoch 19/100\n"
     ]
    },
    {
     "name": "stderr",
     "output_type": "stream",
     "text": [
      "Training: 100%|██████████| 11/11 [00:01<00:00,  9.10it/s, loss=1.14]\n"
     ]
    },
    {
     "name": "stdout",
     "output_type": "stream",
     "text": [
      "Train Loss: 1.5082\n",
      "Val Loss: 1.4277\n",
      "Val NRMSE: 0.0582\n",
      "Val MCAR NRMSE: 0.0476\n",
      "Val MAR NRMSE: 0.0566\n",
      "Val MNAR NRMSE: 0.0704\n",
      "No improvement for 8 epochs\n",
      "\n",
      "Epoch 20/100\n"
     ]
    },
    {
     "name": "stderr",
     "output_type": "stream",
     "text": [
      "Training: 100%|██████████| 11/11 [00:01<00:00,  8.64it/s, loss=1.16]\n"
     ]
    },
    {
     "name": "stdout",
     "output_type": "stream",
     "text": [
      "Train Loss: 1.6706\n",
      "Val Loss: 1.3336\n",
      "Val NRMSE: 0.0566\n",
      "Val MCAR NRMSE: 0.0571\n",
      "Val MAR NRMSE: 0.0527\n",
      "Val MNAR NRMSE: 0.0599\n",
      "No improvement for 9 epochs\n",
      "\n",
      "Epoch 21/100\n"
     ]
    },
    {
     "name": "stderr",
     "output_type": "stream",
     "text": [
      "Training: 100%|██████████| 11/11 [00:01<00:00,  8.31it/s, loss=0.726]\n"
     ]
    },
    {
     "name": "stdout",
     "output_type": "stream",
     "text": [
      "Train Loss: 1.8848\n",
      "Val Loss: 1.2945\n",
      "Val NRMSE: 0.0553\n",
      "Val MCAR NRMSE: 0.0470\n",
      "Val MAR NRMSE: 0.0522\n",
      "Val MNAR NRMSE: 0.0669\n",
      "No improvement for 10 epochs\n",
      "\n",
      "Epoch 22/100\n"
     ]
    },
    {
     "name": "stderr",
     "output_type": "stream",
     "text": [
      "Training: 100%|██████████| 11/11 [00:01<00:00,  8.55it/s, loss=1.88]\n"
     ]
    },
    {
     "name": "stdout",
     "output_type": "stream",
     "text": [
      "Train Loss: 1.4850\n",
      "Val Loss: 1.2328\n",
      "Val NRMSE: 0.0541\n",
      "Val MCAR NRMSE: 0.0476\n",
      "Val MAR NRMSE: 0.0514\n",
      "Val MNAR NRMSE: 0.0634\n",
      "New best validation loss: 1.2328\n",
      "\n",
      "Epoch 23/100\n"
     ]
    },
    {
     "name": "stderr",
     "output_type": "stream",
     "text": [
      "Training: 100%|██████████| 11/11 [00:01<00:00,  8.72it/s, loss=0.595]\n"
     ]
    },
    {
     "name": "stdout",
     "output_type": "stream",
     "text": [
      "Train Loss: 1.4698\n",
      "Val Loss: 1.4484\n",
      "Val NRMSE: 0.0581\n",
      "Val MCAR NRMSE: 0.0499\n",
      "Val MAR NRMSE: 0.0554\n",
      "Val MNAR NRMSE: 0.0690\n",
      "No improvement for 1 epochs\n",
      "\n",
      "Epoch 24/100\n"
     ]
    },
    {
     "name": "stderr",
     "output_type": "stream",
     "text": [
      "Training: 100%|██████████| 11/11 [00:01<00:00,  8.55it/s, loss=2.67]\n"
     ]
    },
    {
     "name": "stdout",
     "output_type": "stream",
     "text": [
      "Train Loss: 1.6675\n",
      "Val Loss: 1.9649\n",
      "Val NRMSE: 0.0696\n",
      "Val MCAR NRMSE: 0.0745\n",
      "Val MAR NRMSE: 0.0692\n",
      "Val MNAR NRMSE: 0.0650\n",
      "No improvement for 2 epochs\n",
      "\n",
      "Epoch 25/100\n"
     ]
    },
    {
     "name": "stderr",
     "output_type": "stream",
     "text": [
      "Training: 100%|██████████| 11/11 [00:01<00:00,  8.84it/s, loss=1.47]\n"
     ]
    },
    {
     "name": "stdout",
     "output_type": "stream",
     "text": [
      "Train Loss: 2.2387\n",
      "Val Loss: 1.4505\n",
      "Val NRMSE: 0.0586\n",
      "Val MCAR NRMSE: 0.0473\n",
      "Val MAR NRMSE: 0.0577\n",
      "Val MNAR NRMSE: 0.0707\n",
      "No improvement for 3 epochs\n",
      "\n",
      "Epoch 26/100\n"
     ]
    },
    {
     "name": "stderr",
     "output_type": "stream",
     "text": [
      "Training: 100%|██████████| 11/11 [00:01<00:00,  8.88it/s, loss=0.777]\n"
     ]
    },
    {
     "name": "stdout",
     "output_type": "stream",
     "text": [
      "Train Loss: 1.3347\n",
      "Val Loss: 1.2712\n",
      "Val NRMSE: 0.0554\n",
      "Val MCAR NRMSE: 0.0505\n",
      "Val MAR NRMSE: 0.0539\n",
      "Val MNAR NRMSE: 0.0618\n",
      "No improvement for 4 epochs\n",
      "\n",
      "Epoch 27/100\n"
     ]
    },
    {
     "name": "stderr",
     "output_type": "stream",
     "text": [
      "Training: 100%|██████████| 11/11 [00:01<00:00,  8.95it/s, loss=1.38]\n"
     ]
    },
    {
     "name": "stdout",
     "output_type": "stream",
     "text": [
      "Train Loss: 1.9204\n",
      "Val Loss: 1.2730\n",
      "Val NRMSE: 0.0544\n",
      "Val MCAR NRMSE: 0.0458\n",
      "Val MAR NRMSE: 0.0512\n",
      "Val MNAR NRMSE: 0.0663\n",
      "No improvement for 5 epochs\n",
      "\n",
      "Epoch 28/100\n"
     ]
    },
    {
     "name": "stderr",
     "output_type": "stream",
     "text": [
      "Training: 100%|██████████| 11/11 [00:01<00:00,  8.81it/s, loss=1.69] \n"
     ]
    },
    {
     "name": "stdout",
     "output_type": "stream",
     "text": [
      "Train Loss: 1.4531\n",
      "Val Loss: 1.2327\n",
      "Val NRMSE: 0.0544\n",
      "Val MCAR NRMSE: 0.0469\n",
      "Val MAR NRMSE: 0.0524\n",
      "Val MNAR NRMSE: 0.0640\n",
      "New best validation loss: 1.2327\n",
      "\n",
      "Epoch 29/100\n"
     ]
    },
    {
     "name": "stderr",
     "output_type": "stream",
     "text": [
      "Training: 100%|██████████| 11/11 [00:01<00:00,  8.51it/s, loss=0.803]\n"
     ]
    },
    {
     "name": "stdout",
     "output_type": "stream",
     "text": [
      "Train Loss: 1.6621\n",
      "Val Loss: 1.2546\n",
      "Val NRMSE: 0.0546\n",
      "Val MCAR NRMSE: 0.0495\n",
      "Val MAR NRMSE: 0.0535\n",
      "Val MNAR NRMSE: 0.0608\n",
      "No improvement for 1 epochs\n",
      "\n",
      "Epoch 30/100\n"
     ]
    },
    {
     "name": "stderr",
     "output_type": "stream",
     "text": [
      "Training: 100%|██████████| 11/11 [00:01<00:00,  8.52it/s, loss=0.549]\n"
     ]
    },
    {
     "name": "stdout",
     "output_type": "stream",
     "text": [
      "Train Loss: 1.7606\n",
      "Val Loss: 1.2850\n",
      "Val NRMSE: 0.0545\n",
      "Val MCAR NRMSE: 0.0490\n",
      "Val MAR NRMSE: 0.0498\n",
      "Val MNAR NRMSE: 0.0648\n",
      "No improvement for 2 epochs\n",
      "\n",
      "Epoch 31/100\n"
     ]
    },
    {
     "name": "stderr",
     "output_type": "stream",
     "text": [
      "Training: 100%|██████████| 11/11 [00:01<00:00,  8.37it/s, loss=0.817]\n"
     ]
    },
    {
     "name": "stdout",
     "output_type": "stream",
     "text": [
      "Train Loss: 1.7492\n",
      "Val Loss: 1.3526\n",
      "Val NRMSE: 0.0569\n",
      "Val MCAR NRMSE: 0.0466\n",
      "Val MAR NRMSE: 0.0581\n",
      "Val MNAR NRMSE: 0.0659\n",
      "No improvement for 3 epochs\n",
      "\n",
      "Epoch 32/100\n"
     ]
    },
    {
     "name": "stderr",
     "output_type": "stream",
     "text": [
      "Training: 100%|██████████| 11/11 [00:01<00:00,  8.09it/s, loss=0.767]\n"
     ]
    },
    {
     "name": "stdout",
     "output_type": "stream",
     "text": [
      "Train Loss: 2.4474\n",
      "Val Loss: 1.1987\n",
      "Val NRMSE: 0.0532\n",
      "Val MCAR NRMSE: 0.0498\n",
      "Val MAR NRMSE: 0.0488\n",
      "Val MNAR NRMSE: 0.0610\n",
      "New best validation loss: 1.1987\n",
      "\n",
      "Epoch 33/100\n"
     ]
    },
    {
     "name": "stderr",
     "output_type": "stream",
     "text": [
      "Training: 100%|██████████| 11/11 [00:01<00:00,  8.81it/s, loss=1.73]\n"
     ]
    },
    {
     "name": "stdout",
     "output_type": "stream",
     "text": [
      "Train Loss: 1.5790\n",
      "Val Loss: 1.3055\n",
      "Val NRMSE: 0.0554\n",
      "Val MCAR NRMSE: 0.0487\n",
      "Val MAR NRMSE: 0.0529\n",
      "Val MNAR NRMSE: 0.0647\n",
      "No improvement for 1 epochs\n",
      "\n",
      "Epoch 34/100\n"
     ]
    },
    {
     "name": "stderr",
     "output_type": "stream",
     "text": [
      "Training: 100%|██████████| 11/11 [00:01<00:00,  7.99it/s, loss=1.61]\n"
     ]
    },
    {
     "name": "stdout",
     "output_type": "stream",
     "text": [
      "Train Loss: 1.8929\n",
      "Val Loss: 1.2323\n",
      "Val NRMSE: 0.0544\n",
      "Val MCAR NRMSE: 0.0504\n",
      "Val MAR NRMSE: 0.0522\n",
      "Val MNAR NRMSE: 0.0608\n",
      "No improvement for 2 epochs\n",
      "\n",
      "Epoch 35/100\n"
     ]
    },
    {
     "name": "stderr",
     "output_type": "stream",
     "text": [
      "Training: 100%|██████████| 11/11 [00:01<00:00,  8.95it/s, loss=11.4]\n"
     ]
    },
    {
     "name": "stdout",
     "output_type": "stream",
     "text": [
      "Train Loss: 2.5192\n",
      "Val Loss: 1.2855\n",
      "Val NRMSE: 0.0545\n",
      "Val MCAR NRMSE: 0.0494\n",
      "Val MAR NRMSE: 0.0506\n",
      "Val MNAR NRMSE: 0.0637\n",
      "No improvement for 3 epochs\n",
      "\n",
      "Epoch 36/100\n"
     ]
    },
    {
     "name": "stderr",
     "output_type": "stream",
     "text": [
      "Training: 100%|██████████| 11/11 [00:01<00:00,  9.29it/s, loss=0.935]\n"
     ]
    },
    {
     "name": "stdout",
     "output_type": "stream",
     "text": [
      "Train Loss: 1.5605\n",
      "Val Loss: 1.2737\n",
      "Val NRMSE: 0.0547\n",
      "Val MCAR NRMSE: 0.0489\n",
      "Val MAR NRMSE: 0.0517\n",
      "Val MNAR NRMSE: 0.0636\n",
      "No improvement for 4 epochs\n",
      "\n",
      "Epoch 37/100\n"
     ]
    },
    {
     "name": "stderr",
     "output_type": "stream",
     "text": [
      "Training: 100%|██████████| 11/11 [00:01<00:00,  8.80it/s, loss=0.418]\n"
     ]
    },
    {
     "name": "stdout",
     "output_type": "stream",
     "text": [
      "Train Loss: 1.4915\n",
      "Val Loss: 1.2761\n",
      "Val NRMSE: 0.0550\n",
      "Val MCAR NRMSE: 0.0444\n",
      "Val MAR NRMSE: 0.0541\n",
      "Val MNAR NRMSE: 0.0664\n",
      "No improvement for 5 epochs\n",
      "\n",
      "Epoch 38/100\n"
     ]
    },
    {
     "name": "stderr",
     "output_type": "stream",
     "text": [
      "Training: 100%|██████████| 11/11 [00:01<00:00,  8.43it/s, loss=0.961]\n"
     ]
    },
    {
     "name": "stdout",
     "output_type": "stream",
     "text": [
      "Train Loss: 1.7132\n",
      "Val Loss: 1.2583\n",
      "Val NRMSE: 0.0548\n",
      "Val MCAR NRMSE: 0.0511\n",
      "Val MAR NRMSE: 0.0504\n",
      "Val MNAR NRMSE: 0.0628\n",
      "No improvement for 6 epochs\n",
      "\n",
      "Epoch 39/100\n"
     ]
    },
    {
     "name": "stderr",
     "output_type": "stream",
     "text": [
      "Training: 100%|██████████| 11/11 [00:01<00:00,  8.22it/s, loss=1.15]\n"
     ]
    },
    {
     "name": "stdout",
     "output_type": "stream",
     "text": [
      "Train Loss: 1.0828\n",
      "Val Loss: 1.1833\n",
      "Val NRMSE: 0.0532\n",
      "Val MCAR NRMSE: 0.0458\n",
      "Val MAR NRMSE: 0.0493\n",
      "Val MNAR NRMSE: 0.0645\n",
      "New best validation loss: 1.1833\n",
      "\n",
      "Epoch 40/100\n"
     ]
    },
    {
     "name": "stderr",
     "output_type": "stream",
     "text": [
      "Training: 100%|██████████| 11/11 [00:01<00:00,  8.17it/s, loss=1.88]\n"
     ]
    },
    {
     "name": "stdout",
     "output_type": "stream",
     "text": [
      "Train Loss: 1.7374\n",
      "Val Loss: 1.2430\n",
      "Val NRMSE: 0.0539\n",
      "Val MCAR NRMSE: 0.0495\n",
      "Val MAR NRMSE: 0.0499\n",
      "Val MNAR NRMSE: 0.0624\n",
      "No improvement for 1 epochs\n",
      "\n",
      "Epoch 41/100\n"
     ]
    },
    {
     "name": "stderr",
     "output_type": "stream",
     "text": [
      "Training: 100%|██████████| 11/11 [00:01<00:00,  8.58it/s, loss=2.31]\n"
     ]
    },
    {
     "name": "stdout",
     "output_type": "stream",
     "text": [
      "Train Loss: 1.5864\n",
      "Val Loss: 1.3564\n",
      "Val NRMSE: 0.0564\n",
      "Val MCAR NRMSE: 0.0452\n",
      "Val MAR NRMSE: 0.0578\n",
      "Val MNAR NRMSE: 0.0661\n",
      "No improvement for 2 epochs\n",
      "\n",
      "Epoch 42/100\n"
     ]
    },
    {
     "name": "stderr",
     "output_type": "stream",
     "text": [
      "Training: 100%|██████████| 11/11 [00:01<00:00,  8.36it/s, loss=0.994]\n"
     ]
    },
    {
     "name": "stdout",
     "output_type": "stream",
     "text": [
      "Train Loss: 2.4416\n",
      "Val Loss: 1.2911\n",
      "Val NRMSE: 0.0554\n",
      "Val MCAR NRMSE: 0.0489\n",
      "Val MAR NRMSE: 0.0530\n",
      "Val MNAR NRMSE: 0.0643\n",
      "No improvement for 3 epochs\n",
      "\n",
      "Epoch 43/100\n"
     ]
    },
    {
     "name": "stderr",
     "output_type": "stream",
     "text": [
      "Training: 100%|██████████| 11/11 [00:01<00:00,  8.48it/s, loss=4.9] \n"
     ]
    },
    {
     "name": "stdout",
     "output_type": "stream",
     "text": [
      "Train Loss: 1.7588\n",
      "Val Loss: 1.2099\n",
      "Val NRMSE: 0.0538\n",
      "Val MCAR NRMSE: 0.0485\n",
      "Val MAR NRMSE: 0.0493\n",
      "Val MNAR NRMSE: 0.0635\n",
      "No improvement for 4 epochs\n",
      "\n",
      "Epoch 44/100\n"
     ]
    },
    {
     "name": "stderr",
     "output_type": "stream",
     "text": [
      "Training: 100%|██████████| 11/11 [00:01<00:00,  8.53it/s, loss=1.91]\n"
     ]
    },
    {
     "name": "stdout",
     "output_type": "stream",
     "text": [
      "Train Loss: 1.8538\n",
      "Val Loss: 1.2013\n",
      "Val NRMSE: 0.0540\n",
      "Val MCAR NRMSE: 0.0444\n",
      "Val MAR NRMSE: 0.0518\n",
      "Val MNAR NRMSE: 0.0659\n",
      "No improvement for 5 epochs\n",
      "\n",
      "Epoch 45/100\n"
     ]
    },
    {
     "name": "stderr",
     "output_type": "stream",
     "text": [
      "Training: 100%|██████████| 11/11 [00:01<00:00,  7.98it/s, loss=0.674]\n"
     ]
    },
    {
     "name": "stdout",
     "output_type": "stream",
     "text": [
      "Train Loss: 1.7686\n",
      "Val Loss: 1.2616\n",
      "Val NRMSE: 0.0545\n",
      "Val MCAR NRMSE: 0.0497\n",
      "Val MAR NRMSE: 0.0528\n",
      "Val MNAR NRMSE: 0.0609\n",
      "No improvement for 6 epochs\n",
      "\n",
      "Epoch 46/100\n"
     ]
    },
    {
     "name": "stderr",
     "output_type": "stream",
     "text": [
      "Training: 100%|██████████| 11/11 [00:01<00:00,  8.55it/s, loss=0.997]\n"
     ]
    },
    {
     "name": "stdout",
     "output_type": "stream",
     "text": [
      "Train Loss: 1.8020\n",
      "Val Loss: 1.2552\n",
      "Val NRMSE: 0.0548\n",
      "Val MCAR NRMSE: 0.0509\n",
      "Val MAR NRMSE: 0.0519\n",
      "Val MNAR NRMSE: 0.0617\n",
      "No improvement for 7 epochs\n",
      "\n",
      "Epoch 47/100\n"
     ]
    },
    {
     "name": "stderr",
     "output_type": "stream",
     "text": [
      "Training: 100%|██████████| 11/11 [00:01<00:00,  8.44it/s, loss=1.2] \n"
     ]
    },
    {
     "name": "stdout",
     "output_type": "stream",
     "text": [
      "Train Loss: 1.6574\n",
      "Val Loss: 1.4013\n",
      "Val NRMSE: 0.0574\n",
      "Val MCAR NRMSE: 0.0459\n",
      "Val MAR NRMSE: 0.0603\n",
      "Val MNAR NRMSE: 0.0661\n",
      "No improvement for 8 epochs\n",
      "\n",
      "Epoch 48/100\n"
     ]
    },
    {
     "name": "stderr",
     "output_type": "stream",
     "text": [
      "Training: 100%|██████████| 11/11 [00:01<00:00,  8.46it/s, loss=0.486]\n"
     ]
    },
    {
     "name": "stdout",
     "output_type": "stream",
     "text": [
      "Train Loss: 1.3388\n",
      "Val Loss: 1.2765\n",
      "Val NRMSE: 0.0551\n",
      "Val MCAR NRMSE: 0.0476\n",
      "Val MAR NRMSE: 0.0526\n",
      "Val MNAR NRMSE: 0.0651\n",
      "No improvement for 9 epochs\n",
      "\n",
      "Epoch 49/100\n"
     ]
    },
    {
     "name": "stderr",
     "output_type": "stream",
     "text": [
      "Training: 100%|██████████| 11/11 [00:01<00:00,  8.81it/s, loss=0.49]\n"
     ]
    },
    {
     "name": "stdout",
     "output_type": "stream",
     "text": [
      "Train Loss: 1.3461\n",
      "Val Loss: 1.3112\n",
      "Val NRMSE: 0.0559\n",
      "Val MCAR NRMSE: 0.0467\n",
      "Val MAR NRMSE: 0.0549\n",
      "Val MNAR NRMSE: 0.0662\n",
      "No improvement for 10 epochs\n",
      "\n",
      "Epoch 50/100\n"
     ]
    },
    {
     "name": "stderr",
     "output_type": "stream",
     "text": [
      "Training: 100%|██████████| 11/11 [00:01<00:00,  8.58it/s, loss=1.72]\n"
     ]
    },
    {
     "name": "stdout",
     "output_type": "stream",
     "text": [
      "Train Loss: 1.8038\n",
      "Val Loss: 1.2799\n",
      "Val NRMSE: 0.0555\n",
      "Val MCAR NRMSE: 0.0507\n",
      "Val MAR NRMSE: 0.0530\n",
      "Val MNAR NRMSE: 0.0627\n",
      "No improvement for 11 epochs\n",
      "\n",
      "Epoch 51/100\n"
     ]
    },
    {
     "name": "stderr",
     "output_type": "stream",
     "text": [
      "Training: 100%|██████████| 11/11 [00:01<00:00,  8.64it/s, loss=1.13]\n"
     ]
    },
    {
     "name": "stdout",
     "output_type": "stream",
     "text": [
      "Train Loss: 1.6639\n",
      "Val Loss: 1.2404\n",
      "Val NRMSE: 0.0544\n",
      "Val MCAR NRMSE: 0.0469\n",
      "Val MAR NRMSE: 0.0522\n",
      "Val MNAR NRMSE: 0.0641\n",
      "No improvement for 12 epochs\n",
      "\n",
      "Epoch 52/100\n"
     ]
    },
    {
     "name": "stderr",
     "output_type": "stream",
     "text": [
      "Training: 100%|██████████| 11/11 [00:01<00:00,  8.86it/s, loss=0.945]\n"
     ]
    },
    {
     "name": "stdout",
     "output_type": "stream",
     "text": [
      "Train Loss: 1.5400\n",
      "Val Loss: 1.3171\n",
      "Val NRMSE: 0.0553\n",
      "Val MCAR NRMSE: 0.0452\n",
      "Val MAR NRMSE: 0.0556\n",
      "Val MNAR NRMSE: 0.0651\n",
      "No improvement for 13 epochs\n",
      "\n",
      "Epoch 53/100\n"
     ]
    },
    {
     "name": "stderr",
     "output_type": "stream",
     "text": [
      "Training: 100%|██████████| 11/11 [00:01<00:00,  8.30it/s, loss=1.03]\n"
     ]
    },
    {
     "name": "stdout",
     "output_type": "stream",
     "text": [
      "Train Loss: 1.4735\n",
      "Val Loss: 1.2523\n",
      "Val NRMSE: 0.0552\n",
      "Val MCAR NRMSE: 0.0496\n",
      "Val MAR NRMSE: 0.0530\n",
      "Val MNAR NRMSE: 0.0631\n",
      "No improvement for 14 epochs\n",
      "\n",
      "Epoch 54/100\n"
     ]
    },
    {
     "name": "stderr",
     "output_type": "stream",
     "text": [
      "Training: 100%|██████████| 11/11 [00:01<00:00,  8.71it/s, loss=0.898]\n"
     ]
    },
    {
     "name": "stdout",
     "output_type": "stream",
     "text": [
      "Train Loss: 1.6941\n",
      "Val Loss: 1.3147\n",
      "Val NRMSE: 0.0568\n",
      "Val MCAR NRMSE: 0.0567\n",
      "Val MAR NRMSE: 0.0536\n",
      "Val MNAR NRMSE: 0.0600\n",
      "No improvement for 15 epochs\n",
      "\n",
      "Epoch 55/100\n"
     ]
    },
    {
     "name": "stderr",
     "output_type": "stream",
     "text": [
      "Training: 100%|██████████| 11/11 [00:01<00:00,  8.84it/s, loss=0.802]\n"
     ]
    },
    {
     "name": "stdout",
     "output_type": "stream",
     "text": [
      "Train Loss: 1.6533\n",
      "Val Loss: 1.3410\n",
      "Val NRMSE: 0.0563\n",
      "Val MCAR NRMSE: 0.0513\n",
      "Val MAR NRMSE: 0.0554\n",
      "Val MNAR NRMSE: 0.0621\n",
      "No improvement for 16 epochs\n",
      "\n",
      "Epoch 56/100\n"
     ]
    },
    {
     "name": "stderr",
     "output_type": "stream",
     "text": [
      "Training: 100%|██████████| 11/11 [00:01<00:00,  8.59it/s, loss=1.75]\n"
     ]
    },
    {
     "name": "stdout",
     "output_type": "stream",
     "text": [
      "Train Loss: 1.6137\n",
      "Val Loss: 1.3109\n",
      "Val NRMSE: 0.0558\n",
      "Val MCAR NRMSE: 0.0464\n",
      "Val MAR NRMSE: 0.0555\n",
      "Val MNAR NRMSE: 0.0656\n",
      "No improvement for 17 epochs\n",
      "\n",
      "Epoch 57/100\n"
     ]
    },
    {
     "name": "stderr",
     "output_type": "stream",
     "text": [
      "Training: 100%|██████████| 11/11 [00:01<00:00,  9.03it/s, loss=0.824]\n"
     ]
    },
    {
     "name": "stdout",
     "output_type": "stream",
     "text": [
      "Train Loss: 1.2935\n",
      "Val Loss: 1.1848\n",
      "Val NRMSE: 0.0530\n",
      "Val MCAR NRMSE: 0.0477\n",
      "Val MAR NRMSE: 0.0466\n",
      "Val MNAR NRMSE: 0.0647\n",
      "No improvement for 18 epochs\n",
      "\n",
      "Epoch 58/100\n"
     ]
    },
    {
     "name": "stderr",
     "output_type": "stream",
     "text": [
      "Training: 100%|██████████| 11/11 [00:01<00:00,  8.94it/s, loss=8.61]\n"
     ]
    },
    {
     "name": "stdout",
     "output_type": "stream",
     "text": [
      "Train Loss: 2.9364\n",
      "Val Loss: 1.2895\n",
      "Val NRMSE: 0.0550\n",
      "Val MCAR NRMSE: 0.0515\n",
      "Val MAR NRMSE: 0.0522\n",
      "Val MNAR NRMSE: 0.0614\n",
      "No improvement for 19 epochs\n",
      "\n",
      "Epoch 59/100\n"
     ]
    },
    {
     "name": "stderr",
     "output_type": "stream",
     "text": [
      "Training: 100%|██████████| 11/11 [00:01<00:00,  8.61it/s, loss=0.552]\n"
     ]
    },
    {
     "name": "stdout",
     "output_type": "stream",
     "text": [
      "Train Loss: 1.5292\n",
      "Val Loss: 1.2877\n",
      "Val NRMSE: 0.0552\n",
      "Val MCAR NRMSE: 0.0502\n",
      "Val MAR NRMSE: 0.0529\n",
      "Val MNAR NRMSE: 0.0624\n",
      "No improvement for 20 epochs\n",
      "\n",
      "Epoch 60/100\n"
     ]
    },
    {
     "name": "stderr",
     "output_type": "stream",
     "text": [
      "Training: 100%|██████████| 11/11 [00:01<00:00,  8.31it/s, loss=4.07]\n"
     ]
    },
    {
     "name": "stdout",
     "output_type": "stream",
     "text": [
      "Train Loss: 2.2587\n",
      "Val Loss: 1.3121\n",
      "Val NRMSE: 0.0556\n",
      "Val MCAR NRMSE: 0.0482\n",
      "Val MAR NRMSE: 0.0549\n",
      "Val MNAR NRMSE: 0.0637\n",
      "No improvement for 21 epochs\n",
      "\n",
      "Epoch 61/100\n"
     ]
    },
    {
     "name": "stderr",
     "output_type": "stream",
     "text": [
      "Training: 100%|██████████| 11/11 [00:01<00:00,  8.88it/s, loss=0.405]\n"
     ]
    },
    {
     "name": "stdout",
     "output_type": "stream",
     "text": [
      "Train Loss: 1.3187\n",
      "Val Loss: 1.2368\n",
      "Val NRMSE: 0.0546\n",
      "Val MCAR NRMSE: 0.0474\n",
      "Val MAR NRMSE: 0.0534\n",
      "Val MNAR NRMSE: 0.0630\n",
      "No improvement for 22 epochs\n",
      "\n",
      "Epoch 62/100\n"
     ]
    },
    {
     "name": "stderr",
     "output_type": "stream",
     "text": [
      "Training: 100%|██████████| 11/11 [00:01<00:00,  8.82it/s, loss=1]   \n"
     ]
    },
    {
     "name": "stdout",
     "output_type": "stream",
     "text": [
      "Train Loss: 1.7685\n",
      "Val Loss: 1.2926\n",
      "Val NRMSE: 0.0551\n",
      "Val MCAR NRMSE: 0.0457\n",
      "Val MAR NRMSE: 0.0556\n",
      "Val MNAR NRMSE: 0.0640\n",
      "No improvement for 23 epochs\n",
      "\n",
      "Epoch 63/100\n"
     ]
    },
    {
     "name": "stderr",
     "output_type": "stream",
     "text": [
      "Training: 100%|██████████| 11/11 [00:01<00:00,  8.89it/s, loss=1.43]\n"
     ]
    },
    {
     "name": "stdout",
     "output_type": "stream",
     "text": [
      "Train Loss: 1.7251\n",
      "Val Loss: 1.2423\n",
      "Val NRMSE: 0.0549\n",
      "Val MCAR NRMSE: 0.0479\n",
      "Val MAR NRMSE: 0.0538\n",
      "Val MNAR NRMSE: 0.0628\n",
      "No improvement for 24 epochs\n",
      "\n",
      "Epoch 64/100\n"
     ]
    },
    {
     "name": "stderr",
     "output_type": "stream",
     "text": [
      "Training: 100%|██████████| 11/11 [00:01<00:00,  8.45it/s, loss=0.751]\n"
     ]
    },
    {
     "name": "stdout",
     "output_type": "stream",
     "text": [
      "Train Loss: 1.7566\n",
      "Val Loss: 1.2751\n",
      "Val NRMSE: 0.0551\n",
      "Val MCAR NRMSE: 0.0482\n",
      "Val MAR NRMSE: 0.0547\n",
      "Val MNAR NRMSE: 0.0622\n",
      "No improvement for 25 epochs\n",
      "Early stopping after 64 epochs\n",
      "Fold 5 metrics:\n",
      "  NRMSE: 0.0543\n",
      "  MCAR NRMSE: 0.0481\n",
      "  MAR NRMSE: 0.0525\n",
      "  MNAR NRMSE: 0.0622\n",
      "\n",
      "Average metrics across folds:\n",
      "  NRMSE: 0.0517 ± 0.0102\n",
      "  MCAR NRMSE: 0.0426 ± 0.0076\n",
      "  MAR NRMSE: 0.0481 ± 0.0096\n",
      "  MNAR NRMSE: 0.0644 ± 0.0145\n",
      "\n",
      "---- K-Fold with Ensemble Model ----\n",
      "\n",
      "Training fold 1/3\n",
      "Starting model training...\n",
      "Creating ensemble model with 3 base models...\n",
      "\n",
      "Epoch 1/100\n"
     ]
    },
    {
     "name": "stderr",
     "output_type": "stream",
     "text": [
      "Training: 100%|██████████| 9/9 [00:02<00:00,  3.12it/s, loss=1.2]  \n"
     ]
    },
    {
     "name": "stdout",
     "output_type": "stream",
     "text": [
      "Train Loss: 1.6223\n",
      "Val Loss: 1.1809\n",
      "Val NRMSE: 0.0593\n",
      "Val MCAR NRMSE: 0.0545\n",
      "Val MAR NRMSE: 0.0518\n",
      "Val MNAR NRMSE: 0.0717\n",
      "New best validation loss: 1.1809\n",
      "\n",
      "Epoch 2/100\n"
     ]
    },
    {
     "name": "stderr",
     "output_type": "stream",
     "text": [
      "Training: 100%|██████████| 9/9 [00:02<00:00,  3.21it/s, loss=5.22] \n"
     ]
    },
    {
     "name": "stdout",
     "output_type": "stream",
     "text": [
      "Train Loss: 1.9768\n",
      "Val Loss: 1.4302\n",
      "Val NRMSE: 0.0651\n",
      "Val MCAR NRMSE: 0.0506\n",
      "Val MAR NRMSE: 0.0600\n",
      "Val MNAR NRMSE: 0.0847\n",
      "No improvement for 1 epochs\n",
      "\n",
      "Epoch 3/100\n"
     ]
    },
    {
     "name": "stderr",
     "output_type": "stream",
     "text": [
      "Training: 100%|██████████| 9/9 [00:02<00:00,  3.20it/s, loss=0.778]\n"
     ]
    },
    {
     "name": "stdout",
     "output_type": "stream",
     "text": [
      "Train Loss: 1.9044\n",
      "Val Loss: 1.2272\n",
      "Val NRMSE: 0.0610\n",
      "Val MCAR NRMSE: 0.0547\n",
      "Val MAR NRMSE: 0.0547\n",
      "Val MNAR NRMSE: 0.0734\n",
      "No improvement for 2 epochs\n",
      "\n",
      "Epoch 4/100\n"
     ]
    },
    {
     "name": "stderr",
     "output_type": "stream",
     "text": [
      "Training: 100%|██████████| 9/9 [00:03<00:00,  2.98it/s, loss=1.01]\n"
     ]
    },
    {
     "name": "stdout",
     "output_type": "stream",
     "text": [
      "Train Loss: 1.7233\n",
      "Val Loss: 1.3000\n",
      "Val NRMSE: 0.0631\n",
      "Val MCAR NRMSE: 0.0599\n",
      "Val MAR NRMSE: 0.0615\n",
      "Val MNAR NRMSE: 0.0678\n",
      "No improvement for 3 epochs\n",
      "\n",
      "Epoch 5/100\n"
     ]
    },
    {
     "name": "stderr",
     "output_type": "stream",
     "text": [
      "Training: 100%|██████████| 9/9 [00:02<00:00,  3.07it/s, loss=2.16] \n"
     ]
    },
    {
     "name": "stdout",
     "output_type": "stream",
     "text": [
      "Train Loss: 1.6326\n",
      "Val Loss: 1.2216\n",
      "Val NRMSE: 0.0608\n",
      "Val MCAR NRMSE: 0.0582\n",
      "Val MAR NRMSE: 0.0555\n",
      "Val MNAR NRMSE: 0.0687\n",
      "No improvement for 4 epochs\n",
      "\n",
      "Epoch 6/100\n"
     ]
    },
    {
     "name": "stderr",
     "output_type": "stream",
     "text": [
      "Training: 100%|██████████| 9/9 [00:03<00:00,  2.88it/s, loss=13.7] \n"
     ]
    },
    {
     "name": "stdout",
     "output_type": "stream",
     "text": [
      "Train Loss: 2.6485\n",
      "Val Loss: 1.3009\n",
      "Val NRMSE: 0.0634\n",
      "Val MCAR NRMSE: 0.0529\n",
      "Val MAR NRMSE: 0.0563\n",
      "Val MNAR NRMSE: 0.0811\n",
      "No improvement for 5 epochs\n",
      "\n",
      "Epoch 7/100\n"
     ]
    },
    {
     "name": "stderr",
     "output_type": "stream",
     "text": [
      "Training: 100%|██████████| 9/9 [00:03<00:00,  2.93it/s, loss=1.94] \n"
     ]
    },
    {
     "name": "stdout",
     "output_type": "stream",
     "text": [
      "Train Loss: 1.5685\n",
      "Val Loss: 1.1845\n",
      "Val NRMSE: 0.0605\n",
      "Val MCAR NRMSE: 0.0553\n",
      "Val MAR NRMSE: 0.0560\n",
      "Val MNAR NRMSE: 0.0703\n",
      "No improvement for 6 epochs\n",
      "\n",
      "Epoch 8/100\n"
     ]
    },
    {
     "name": "stderr",
     "output_type": "stream",
     "text": [
      "Training: 100%|██████████| 9/9 [00:03<00:00,  2.96it/s, loss=0.978]\n"
     ]
    },
    {
     "name": "stdout",
     "output_type": "stream",
     "text": [
      "Train Loss: 1.9344\n",
      "Val Loss: 1.2277\n",
      "Val NRMSE: 0.0608\n",
      "Val MCAR NRMSE: 0.0514\n",
      "Val MAR NRMSE: 0.0559\n",
      "Val MNAR NRMSE: 0.0752\n",
      "No improvement for 7 epochs\n",
      "\n",
      "Epoch 9/100\n"
     ]
    },
    {
     "name": "stderr",
     "output_type": "stream",
     "text": [
      "Training: 100%|██████████| 9/9 [00:02<00:00,  3.02it/s, loss=5.87] \n"
     ]
    },
    {
     "name": "stdout",
     "output_type": "stream",
     "text": [
      "Train Loss: 1.7992\n",
      "Val Loss: 1.1966\n",
      "Val NRMSE: 0.0604\n",
      "Val MCAR NRMSE: 0.0561\n",
      "Val MAR NRMSE: 0.0571\n",
      "Val MNAR NRMSE: 0.0681\n",
      "No improvement for 8 epochs\n",
      "\n",
      "Epoch 10/100\n"
     ]
    },
    {
     "name": "stderr",
     "output_type": "stream",
     "text": [
      "Training: 100%|██████████| 9/9 [00:02<00:00,  3.02it/s, loss=1.19] \n"
     ]
    },
    {
     "name": "stdout",
     "output_type": "stream",
     "text": [
      "Train Loss: 2.7666\n",
      "Val Loss: 1.2103\n",
      "Val NRMSE: 0.0605\n",
      "Val MCAR NRMSE: 0.0504\n",
      "Val MAR NRMSE: 0.0563\n",
      "Val MNAR NRMSE: 0.0748\n",
      "No improvement for 9 epochs\n",
      "\n",
      "Epoch 11/100\n"
     ]
    },
    {
     "name": "stderr",
     "output_type": "stream",
     "text": [
      "Training: 100%|██████████| 9/9 [00:02<00:00,  3.02it/s, loss=1]    \n"
     ]
    },
    {
     "name": "stdout",
     "output_type": "stream",
     "text": [
      "Train Loss: 1.1758\n",
      "Val Loss: 1.2074\n",
      "Val NRMSE: 0.0611\n",
      "Val MCAR NRMSE: 0.0536\n",
      "Val MAR NRMSE: 0.0556\n",
      "Val MNAR NRMSE: 0.0742\n",
      "No improvement for 10 epochs\n",
      "\n",
      "Epoch 12/100\n"
     ]
    },
    {
     "name": "stderr",
     "output_type": "stream",
     "text": [
      "Training: 100%|██████████| 9/9 [00:03<00:00,  2.98it/s, loss=1.96] \n"
     ]
    },
    {
     "name": "stdout",
     "output_type": "stream",
     "text": [
      "Train Loss: 1.7588\n",
      "Val Loss: 1.6888\n",
      "Val NRMSE: 0.0727\n",
      "Val MCAR NRMSE: 0.0790\n",
      "Val MAR NRMSE: 0.0700\n",
      "Val MNAR NRMSE: 0.0691\n",
      "No improvement for 11 epochs\n",
      "\n",
      "Epoch 13/100\n"
     ]
    },
    {
     "name": "stderr",
     "output_type": "stream",
     "text": [
      "Training: 100%|██████████| 9/9 [00:02<00:00,  3.03it/s, loss=4.31] \n"
     ]
    },
    {
     "name": "stdout",
     "output_type": "stream",
     "text": [
      "Train Loss: 1.9047\n",
      "Val Loss: 1.2209\n",
      "Val NRMSE: 0.0608\n",
      "Val MCAR NRMSE: 0.0507\n",
      "Val MAR NRMSE: 0.0555\n",
      "Val MNAR NRMSE: 0.0760\n",
      "No improvement for 12 epochs\n",
      "\n",
      "Epoch 14/100\n"
     ]
    },
    {
     "name": "stderr",
     "output_type": "stream",
     "text": [
      "Training: 100%|██████████| 9/9 [00:03<00:00,  3.00it/s, loss=1.32] \n"
     ]
    },
    {
     "name": "stdout",
     "output_type": "stream",
     "text": [
      "Train Loss: 1.8289\n",
      "Val Loss: 1.1573\n",
      "Val NRMSE: 0.0598\n",
      "Val MCAR NRMSE: 0.0529\n",
      "Val MAR NRMSE: 0.0556\n",
      "Val MNAR NRMSE: 0.0709\n",
      "New best validation loss: 1.1573\n",
      "\n",
      "Epoch 15/100\n"
     ]
    },
    {
     "name": "stderr",
     "output_type": "stream",
     "text": [
      "Training: 100%|██████████| 9/9 [00:03<00:00,  3.00it/s, loss=1.51] \n"
     ]
    },
    {
     "name": "stdout",
     "output_type": "stream",
     "text": [
      "Train Loss: 2.1014\n",
      "Val Loss: 1.1475\n",
      "Val NRMSE: 0.0588\n",
      "Val MCAR NRMSE: 0.0495\n",
      "Val MAR NRMSE: 0.0522\n",
      "Val MNAR NRMSE: 0.0747\n",
      "New best validation loss: 1.1475\n",
      "\n",
      "Epoch 16/100\n"
     ]
    },
    {
     "name": "stderr",
     "output_type": "stream",
     "text": [
      "Training: 100%|██████████| 9/9 [00:02<00:00,  3.03it/s, loss=1.05] \n"
     ]
    },
    {
     "name": "stdout",
     "output_type": "stream",
     "text": [
      "Train Loss: 1.4434\n",
      "Val Loss: 1.2409\n",
      "Val NRMSE: 0.0608\n",
      "Val MCAR NRMSE: 0.0577\n",
      "Val MAR NRMSE: 0.0558\n",
      "Val MNAR NRMSE: 0.0689\n",
      "No improvement for 1 epochs\n",
      "\n",
      "Epoch 17/100\n"
     ]
    },
    {
     "name": "stderr",
     "output_type": "stream",
     "text": [
      "Training: 100%|██████████| 9/9 [00:02<00:00,  3.04it/s, loss=0.752]\n"
     ]
    },
    {
     "name": "stdout",
     "output_type": "stream",
     "text": [
      "Train Loss: 1.5674\n",
      "Val Loss: 1.2347\n",
      "Val NRMSE: 0.0618\n",
      "Val MCAR NRMSE: 0.0610\n",
      "Val MAR NRMSE: 0.0578\n",
      "Val MNAR NRMSE: 0.0665\n",
      "No improvement for 2 epochs\n",
      "\n",
      "Epoch 18/100\n"
     ]
    },
    {
     "name": "stderr",
     "output_type": "stream",
     "text": [
      "Training: 100%|██████████| 9/9 [00:02<00:00,  3.00it/s, loss=1.09] \n"
     ]
    },
    {
     "name": "stdout",
     "output_type": "stream",
     "text": [
      "Train Loss: 1.9216\n",
      "Val Loss: 1.3050\n",
      "Val NRMSE: 0.0625\n",
      "Val MCAR NRMSE: 0.0530\n",
      "Val MAR NRMSE: 0.0566\n",
      "Val MNAR NRMSE: 0.0781\n",
      "No improvement for 3 epochs\n",
      "\n",
      "Epoch 19/100\n"
     ]
    },
    {
     "name": "stderr",
     "output_type": "stream",
     "text": [
      "Training: 100%|██████████| 9/9 [00:02<00:00,  3.01it/s, loss=1.12] \n"
     ]
    },
    {
     "name": "stdout",
     "output_type": "stream",
     "text": [
      "Train Loss: 2.1535\n",
      "Val Loss: 1.2776\n",
      "Val NRMSE: 0.0626\n",
      "Val MCAR NRMSE: 0.0624\n",
      "Val MAR NRMSE: 0.0579\n",
      "Val MNAR NRMSE: 0.0675\n",
      "No improvement for 4 epochs\n",
      "\n",
      "Epoch 20/100\n"
     ]
    },
    {
     "name": "stderr",
     "output_type": "stream",
     "text": [
      "Training: 100%|██████████| 9/9 [00:02<00:00,  3.02it/s, loss=0.88] \n"
     ]
    },
    {
     "name": "stdout",
     "output_type": "stream",
     "text": [
      "Train Loss: 1.3191\n",
      "Val Loss: 1.2259\n",
      "Val NRMSE: 0.0616\n",
      "Val MCAR NRMSE: 0.0578\n",
      "Val MAR NRMSE: 0.0573\n",
      "Val MNAR NRMSE: 0.0697\n",
      "No improvement for 5 epochs\n",
      "\n",
      "Epoch 21/100\n"
     ]
    },
    {
     "name": "stderr",
     "output_type": "stream",
     "text": [
      "Training: 100%|██████████| 9/9 [00:03<00:00,  2.94it/s, loss=1.05]\n"
     ]
    },
    {
     "name": "stdout",
     "output_type": "stream",
     "text": [
      "Train Loss: 2.0974\n",
      "Val Loss: 1.2417\n",
      "Val NRMSE: 0.0615\n",
      "Val MCAR NRMSE: 0.0618\n",
      "Val MAR NRMSE: 0.0563\n",
      "Val MNAR NRMSE: 0.0664\n",
      "No improvement for 6 epochs\n",
      "\n",
      "Epoch 22/100\n"
     ]
    },
    {
     "name": "stderr",
     "output_type": "stream",
     "text": [
      "Training: 100%|██████████| 9/9 [00:02<00:00,  3.05it/s, loss=0.835]\n"
     ]
    },
    {
     "name": "stdout",
     "output_type": "stream",
     "text": [
      "Train Loss: 1.3523\n",
      "Val Loss: 1.6905\n",
      "Val NRMSE: 0.0723\n",
      "Val MCAR NRMSE: 0.0540\n",
      "Val MAR NRMSE: 0.0697\n",
      "Val MNAR NRMSE: 0.0931\n",
      "No improvement for 7 epochs\n",
      "\n",
      "Epoch 23/100\n"
     ]
    },
    {
     "name": "stderr",
     "output_type": "stream",
     "text": [
      "Training: 100%|██████████| 9/9 [00:03<00:00,  2.99it/s, loss=1.62] \n"
     ]
    },
    {
     "name": "stdout",
     "output_type": "stream",
     "text": [
      "Train Loss: 1.7851\n",
      "Val Loss: 1.3110\n",
      "Val NRMSE: 0.0633\n",
      "Val MCAR NRMSE: 0.0633\n",
      "Val MAR NRMSE: 0.0598\n",
      "Val MNAR NRMSE: 0.0669\n",
      "No improvement for 8 epochs\n",
      "\n",
      "Epoch 24/100\n"
     ]
    },
    {
     "name": "stderr",
     "output_type": "stream",
     "text": [
      "Training: 100%|██████████| 9/9 [00:02<00:00,  3.03it/s, loss=0.883]\n"
     ]
    },
    {
     "name": "stdout",
     "output_type": "stream",
     "text": [
      "Train Loss: 1.3828\n",
      "Val Loss: 1.2597\n",
      "Val NRMSE: 0.0618\n",
      "Val MCAR NRMSE: 0.0621\n",
      "Val MAR NRMSE: 0.0552\n",
      "Val MNAR NRMSE: 0.0680\n",
      "No improvement for 9 epochs\n",
      "\n",
      "Epoch 25/100\n"
     ]
    },
    {
     "name": "stderr",
     "output_type": "stream",
     "text": [
      "Training: 100%|██████████| 9/9 [00:03<00:00,  2.96it/s, loss=0.673]\n"
     ]
    },
    {
     "name": "stdout",
     "output_type": "stream",
     "text": [
      "Train Loss: 2.0067\n",
      "Val Loss: 1.1546\n",
      "Val NRMSE: 0.0594\n",
      "Val MCAR NRMSE: 0.0536\n",
      "Val MAR NRMSE: 0.0550\n",
      "Val MNAR NRMSE: 0.0695\n",
      "No improvement for 10 epochs\n",
      "\n",
      "Epoch 26/100\n"
     ]
    },
    {
     "name": "stderr",
     "output_type": "stream",
     "text": [
      "Training: 100%|██████████| 9/9 [00:02<00:00,  3.03it/s, loss=1.78] \n"
     ]
    },
    {
     "name": "stdout",
     "output_type": "stream",
     "text": [
      "Train Loss: 1.3944\n",
      "Val Loss: 1.2361\n",
      "Val NRMSE: 0.0612\n",
      "Val MCAR NRMSE: 0.0536\n",
      "Val MAR NRMSE: 0.0563\n",
      "Val MNAR NRMSE: 0.0737\n",
      "No improvement for 11 epochs\n",
      "\n",
      "Epoch 27/100\n"
     ]
    },
    {
     "name": "stderr",
     "output_type": "stream",
     "text": [
      "Training: 100%|██████████| 9/9 [00:02<00:00,  3.02it/s, loss=1.04] \n"
     ]
    },
    {
     "name": "stdout",
     "output_type": "stream",
     "text": [
      "Train Loss: 1.1847\n",
      "Val Loss: 1.3331\n",
      "Val NRMSE: 0.0633\n",
      "Val MCAR NRMSE: 0.0510\n",
      "Val MAR NRMSE: 0.0589\n",
      "Val MNAR NRMSE: 0.0801\n",
      "No improvement for 12 epochs\n",
      "\n",
      "Epoch 28/100\n"
     ]
    },
    {
     "name": "stderr",
     "output_type": "stream",
     "text": [
      "Training: 100%|██████████| 9/9 [00:02<00:00,  3.02it/s, loss=0.783]\n"
     ]
    },
    {
     "name": "stdout",
     "output_type": "stream",
     "text": [
      "Train Loss: 1.6308\n",
      "Val Loss: 1.1485\n",
      "Val NRMSE: 0.0584\n",
      "Val MCAR NRMSE: 0.0535\n",
      "Val MAR NRMSE: 0.0507\n",
      "Val MNAR NRMSE: 0.0710\n",
      "No improvement for 13 epochs\n",
      "\n",
      "Epoch 29/100\n"
     ]
    },
    {
     "name": "stderr",
     "output_type": "stream",
     "text": [
      "Training: 100%|██████████| 9/9 [00:02<00:00,  3.05it/s, loss=0.954]\n"
     ]
    },
    {
     "name": "stdout",
     "output_type": "stream",
     "text": [
      "Train Loss: 1.5429\n",
      "Val Loss: 1.2537\n",
      "Val NRMSE: 0.0622\n",
      "Val MCAR NRMSE: 0.0491\n",
      "Val MAR NRMSE: 0.0596\n",
      "Val MNAR NRMSE: 0.0779\n",
      "No improvement for 14 epochs\n",
      "\n",
      "Epoch 30/100\n"
     ]
    },
    {
     "name": "stderr",
     "output_type": "stream",
     "text": [
      "Training: 100%|██████████| 9/9 [00:03<00:00,  2.99it/s, loss=1.54] \n"
     ]
    },
    {
     "name": "stdout",
     "output_type": "stream",
     "text": [
      "Train Loss: 1.4695\n",
      "Val Loss: 1.1649\n",
      "Val NRMSE: 0.0593\n",
      "Val MCAR NRMSE: 0.0541\n",
      "Val MAR NRMSE: 0.0528\n",
      "Val MNAR NRMSE: 0.0711\n",
      "No improvement for 15 epochs\n",
      "\n",
      "Epoch 31/100\n"
     ]
    },
    {
     "name": "stderr",
     "output_type": "stream",
     "text": [
      "Training: 100%|██████████| 9/9 [00:02<00:00,  3.01it/s, loss=6.65] \n"
     ]
    },
    {
     "name": "stdout",
     "output_type": "stream",
     "text": [
      "Train Loss: 2.1273\n",
      "Val Loss: 1.3514\n",
      "Val NRMSE: 0.0645\n",
      "Val MCAR NRMSE: 0.0536\n",
      "Val MAR NRMSE: 0.0573\n",
      "Val MNAR NRMSE: 0.0826\n",
      "No improvement for 16 epochs\n",
      "\n",
      "Epoch 32/100\n"
     ]
    },
    {
     "name": "stderr",
     "output_type": "stream",
     "text": [
      "Training: 100%|██████████| 9/9 [00:03<00:00,  2.99it/s, loss=6.04] \n"
     ]
    },
    {
     "name": "stdout",
     "output_type": "stream",
     "text": [
      "Train Loss: 2.2911\n",
      "Val Loss: 1.1607\n",
      "Val NRMSE: 0.0594\n",
      "Val MCAR NRMSE: 0.0539\n",
      "Val MAR NRMSE: 0.0539\n",
      "Val MNAR NRMSE: 0.0704\n",
      "No improvement for 17 epochs\n",
      "\n",
      "Epoch 33/100\n"
     ]
    },
    {
     "name": "stderr",
     "output_type": "stream",
     "text": [
      "Training: 100%|██████████| 9/9 [00:03<00:00,  2.97it/s, loss=0.867]\n"
     ]
    },
    {
     "name": "stdout",
     "output_type": "stream",
     "text": [
      "Train Loss: 1.7571\n",
      "Val Loss: 1.1526\n",
      "Val NRMSE: 0.0598\n",
      "Val MCAR NRMSE: 0.0532\n",
      "Val MAR NRMSE: 0.0553\n",
      "Val MNAR NRMSE: 0.0708\n",
      "No improvement for 18 epochs\n",
      "\n",
      "Epoch 34/100\n"
     ]
    },
    {
     "name": "stderr",
     "output_type": "stream",
     "text": [
      "Training: 100%|██████████| 9/9 [00:03<00:00,  2.99it/s, loss=1.18] \n"
     ]
    },
    {
     "name": "stdout",
     "output_type": "stream",
     "text": [
      "Train Loss: 2.2487\n",
      "Val Loss: 1.2146\n",
      "Val NRMSE: 0.0604\n",
      "Val MCAR NRMSE: 0.0566\n",
      "Val MAR NRMSE: 0.0551\n",
      "Val MNAR NRMSE: 0.0694\n",
      "No improvement for 19 epochs\n",
      "\n",
      "Epoch 35/100\n"
     ]
    },
    {
     "name": "stderr",
     "output_type": "stream",
     "text": [
      "Training: 100%|██████████| 9/9 [00:03<00:00,  2.99it/s, loss=1.57]\n"
     ]
    },
    {
     "name": "stdout",
     "output_type": "stream",
     "text": [
      "Train Loss: 2.1321\n",
      "Val Loss: 1.2161\n",
      "Val NRMSE: 0.0607\n",
      "Val MCAR NRMSE: 0.0578\n",
      "Val MAR NRMSE: 0.0552\n",
      "Val MNAR NRMSE: 0.0691\n",
      "No improvement for 20 epochs\n",
      "\n",
      "Epoch 36/100\n"
     ]
    },
    {
     "name": "stderr",
     "output_type": "stream",
     "text": [
      "Training: 100%|██████████| 9/9 [00:03<00:00,  2.97it/s, loss=1.02] \n"
     ]
    },
    {
     "name": "stdout",
     "output_type": "stream",
     "text": [
      "Train Loss: 1.4793\n",
      "Val Loss: 1.2487\n",
      "Val NRMSE: 0.0618\n",
      "Val MCAR NRMSE: 0.0602\n",
      "Val MAR NRMSE: 0.0570\n",
      "Val MNAR NRMSE: 0.0682\n",
      "No improvement for 21 epochs\n",
      "\n",
      "Epoch 37/100\n"
     ]
    },
    {
     "name": "stderr",
     "output_type": "stream",
     "text": [
      "Training: 100%|██████████| 9/9 [00:03<00:00,  3.00it/s, loss=1.23] \n"
     ]
    },
    {
     "name": "stdout",
     "output_type": "stream",
     "text": [
      "Train Loss: 1.3285\n",
      "Val Loss: 1.2879\n",
      "Val NRMSE: 0.0622\n",
      "Val MCAR NRMSE: 0.0498\n",
      "Val MAR NRMSE: 0.0594\n",
      "Val MNAR NRMSE: 0.0773\n",
      "No improvement for 22 epochs\n",
      "\n",
      "Epoch 38/100\n"
     ]
    },
    {
     "name": "stderr",
     "output_type": "stream",
     "text": [
      "Training: 100%|██████████| 9/9 [00:03<00:00,  2.95it/s, loss=1.33] \n"
     ]
    },
    {
     "name": "stdout",
     "output_type": "stream",
     "text": [
      "Train Loss: 1.8940\n",
      "Val Loss: 1.2453\n",
      "Val NRMSE: 0.0622\n",
      "Val MCAR NRMSE: 0.0632\n",
      "Val MAR NRMSE: 0.0565\n",
      "Val MNAR NRMSE: 0.0669\n",
      "No improvement for 23 epochs\n",
      "\n",
      "Epoch 39/100\n"
     ]
    },
    {
     "name": "stderr",
     "output_type": "stream",
     "text": [
      "Training: 100%|██████████| 9/9 [00:02<00:00,  3.02it/s, loss=1.22] \n"
     ]
    },
    {
     "name": "stdout",
     "output_type": "stream",
     "text": [
      "Train Loss: 1.4668\n",
      "Val Loss: 1.2548\n",
      "Val NRMSE: 0.0619\n",
      "Val MCAR NRMSE: 0.0566\n",
      "Val MAR NRMSE: 0.0551\n",
      "Val MNAR NRMSE: 0.0741\n",
      "No improvement for 24 epochs\n",
      "\n",
      "Epoch 40/100\n"
     ]
    },
    {
     "name": "stderr",
     "output_type": "stream",
     "text": [
      "Training: 100%|██████████| 9/9 [00:02<00:00,  3.04it/s, loss=1.11] \n"
     ]
    },
    {
     "name": "stdout",
     "output_type": "stream",
     "text": [
      "Train Loss: 1.3848\n",
      "Val Loss: 1.3104\n",
      "Val NRMSE: 0.0630\n",
      "Val MCAR NRMSE: 0.0507\n",
      "Val MAR NRMSE: 0.0581\n",
      "Val MNAR NRMSE: 0.0802\n",
      "No improvement for 25 epochs\n",
      "Early stopping after 40 epochs\n",
      "Fold 1 metrics:\n",
      "  NRMSE: 0.0610\n",
      "  MCAR NRMSE: 0.0487\n",
      "  MAR NRMSE: 0.0548\n",
      "  MNAR NRMSE: 0.0794\n",
      "\n",
      "Training fold 2/3\n",
      "Starting model training...\n",
      "Creating ensemble model with 3 base models...\n",
      "\n",
      "Epoch 1/100\n"
     ]
    },
    {
     "name": "stderr",
     "output_type": "stream",
     "text": [
      "Training: 100%|██████████| 9/9 [00:03<00:00,  2.98it/s, loss=1.28]\n"
     ]
    },
    {
     "name": "stdout",
     "output_type": "stream",
     "text": [
      "Train Loss: 1.8144\n",
      "Val Loss: 2.1013\n",
      "Val NRMSE: 0.0696\n",
      "Val MCAR NRMSE: 0.0675\n",
      "Val MAR NRMSE: 0.0636\n",
      "Val MNAR NRMSE: 0.0776\n",
      "New best validation loss: 2.1013\n",
      "\n",
      "Epoch 2/100\n"
     ]
    },
    {
     "name": "stderr",
     "output_type": "stream",
     "text": [
      "Training: 100%|██████████| 9/9 [00:03<00:00,  2.98it/s, loss=1.44] \n"
     ]
    },
    {
     "name": "stdout",
     "output_type": "stream",
     "text": [
      "Train Loss: 1.6929\n",
      "Val Loss: 1.7940\n",
      "Val NRMSE: 0.0643\n",
      "Val MCAR NRMSE: 0.0576\n",
      "Val MAR NRMSE: 0.0543\n",
      "Val MNAR NRMSE: 0.0811\n",
      "New best validation loss: 1.7940\n",
      "\n",
      "Epoch 3/100\n"
     ]
    },
    {
     "name": "stderr",
     "output_type": "stream",
     "text": [
      "Training: 100%|██████████| 9/9 [00:03<00:00,  2.98it/s, loss=1.4]  \n"
     ]
    },
    {
     "name": "stdout",
     "output_type": "stream",
     "text": [
      "Train Loss: 1.8195\n",
      "Val Loss: 1.7920\n",
      "Val NRMSE: 0.0640\n",
      "Val MCAR NRMSE: 0.0527\n",
      "Val MAR NRMSE: 0.0560\n",
      "Val MNAR NRMSE: 0.0834\n",
      "New best validation loss: 1.7920\n",
      "\n",
      "Epoch 4/100\n"
     ]
    },
    {
     "name": "stderr",
     "output_type": "stream",
     "text": [
      "Training: 100%|██████████| 9/9 [00:02<00:00,  3.00it/s, loss=1.02] \n"
     ]
    },
    {
     "name": "stdout",
     "output_type": "stream",
     "text": [
      "Train Loss: 2.0799\n",
      "Val Loss: 1.8845\n",
      "Val NRMSE: 0.0668\n",
      "Val MCAR NRMSE: 0.0565\n",
      "Val MAR NRMSE: 0.0602\n",
      "Val MNAR NRMSE: 0.0837\n",
      "No improvement for 1 epochs\n",
      "\n",
      "Epoch 5/100\n"
     ]
    },
    {
     "name": "stderr",
     "output_type": "stream",
     "text": [
      "Training: 100%|██████████| 9/9 [00:03<00:00,  2.91it/s, loss=6.23] \n"
     ]
    },
    {
     "name": "stdout",
     "output_type": "stream",
     "text": [
      "Train Loss: 1.8038\n",
      "Val Loss: 1.8327\n",
      "Val NRMSE: 0.0644\n",
      "Val MCAR NRMSE: 0.0521\n",
      "Val MAR NRMSE: 0.0562\n",
      "Val MNAR NRMSE: 0.0847\n",
      "No improvement for 2 epochs\n",
      "\n",
      "Epoch 6/100\n"
     ]
    },
    {
     "name": "stderr",
     "output_type": "stream",
     "text": [
      "Training: 100%|██████████| 9/9 [00:02<00:00,  3.04it/s, loss=1.56]\n"
     ]
    },
    {
     "name": "stdout",
     "output_type": "stream",
     "text": [
      "Train Loss: 1.6437\n",
      "Val Loss: 1.7996\n",
      "Val NRMSE: 0.0640\n",
      "Val MCAR NRMSE: 0.0511\n",
      "Val MAR NRMSE: 0.0551\n",
      "Val MNAR NRMSE: 0.0858\n",
      "No improvement for 3 epochs\n",
      "\n",
      "Epoch 7/100\n"
     ]
    },
    {
     "name": "stderr",
     "output_type": "stream",
     "text": [
      "Training: 100%|██████████| 9/9 [00:02<00:00,  3.02it/s, loss=0.872]\n"
     ]
    },
    {
     "name": "stdout",
     "output_type": "stream",
     "text": [
      "Train Loss: 1.4755\n",
      "Val Loss: 1.8818\n",
      "Val NRMSE: 0.0661\n",
      "Val MCAR NRMSE: 0.0481\n",
      "Val MAR NRMSE: 0.0610\n",
      "Val MNAR NRMSE: 0.0892\n",
      "No improvement for 4 epochs\n",
      "\n",
      "Epoch 8/100\n"
     ]
    },
    {
     "name": "stderr",
     "output_type": "stream",
     "text": [
      "Training: 100%|██████████| 9/9 [00:03<00:00,  2.98it/s, loss=1.28] \n"
     ]
    },
    {
     "name": "stdout",
     "output_type": "stream",
     "text": [
      "Train Loss: 1.3019\n",
      "Val Loss: 1.8475\n",
      "Val NRMSE: 0.0668\n",
      "Val MCAR NRMSE: 0.0638\n",
      "Val MAR NRMSE: 0.0593\n",
      "Val MNAR NRMSE: 0.0775\n",
      "No improvement for 5 epochs\n",
      "\n",
      "Epoch 9/100\n"
     ]
    },
    {
     "name": "stderr",
     "output_type": "stream",
     "text": [
      "Training: 100%|██████████| 9/9 [00:03<00:00,  3.00it/s, loss=4.34] \n"
     ]
    },
    {
     "name": "stdout",
     "output_type": "stream",
     "text": [
      "Train Loss: 1.9343\n",
      "Val Loss: 1.8922\n",
      "Val NRMSE: 0.0671\n",
      "Val MCAR NRMSE: 0.0541\n",
      "Val MAR NRMSE: 0.0612\n",
      "Val MNAR NRMSE: 0.0861\n",
      "No improvement for 6 epochs\n",
      "\n",
      "Epoch 10/100\n"
     ]
    },
    {
     "name": "stderr",
     "output_type": "stream",
     "text": [
      "Training: 100%|██████████| 9/9 [00:02<00:00,  3.05it/s, loss=0.737]\n"
     ]
    },
    {
     "name": "stdout",
     "output_type": "stream",
     "text": [
      "Train Loss: 1.5365\n",
      "Val Loss: 1.9369\n",
      "Val NRMSE: 0.0671\n",
      "Val MCAR NRMSE: 0.0492\n",
      "Val MAR NRMSE: 0.0624\n",
      "Val MNAR NRMSE: 0.0899\n",
      "No improvement for 7 epochs\n",
      "\n",
      "Epoch 11/100\n"
     ]
    },
    {
     "name": "stderr",
     "output_type": "stream",
     "text": [
      "Training: 100%|██████████| 9/9 [00:02<00:00,  3.01it/s, loss=1.82] \n"
     ]
    },
    {
     "name": "stdout",
     "output_type": "stream",
     "text": [
      "Train Loss: 1.6955\n",
      "Val Loss: 2.1053\n",
      "Val NRMSE: 0.0701\n",
      "Val MCAR NRMSE: 0.0666\n",
      "Val MAR NRMSE: 0.0682\n",
      "Val MNAR NRMSE: 0.0756\n",
      "No improvement for 8 epochs\n",
      "\n",
      "Epoch 12/100\n"
     ]
    },
    {
     "name": "stderr",
     "output_type": "stream",
     "text": [
      "Training: 100%|██████████| 9/9 [00:03<00:00,  2.97it/s, loss=1.32]\n"
     ]
    },
    {
     "name": "stdout",
     "output_type": "stream",
     "text": [
      "Train Loss: 1.2999\n",
      "Val Loss: 2.0404\n",
      "Val NRMSE: 0.0676\n",
      "Val MCAR NRMSE: 0.0467\n",
      "Val MAR NRMSE: 0.0621\n",
      "Val MNAR NRMSE: 0.0941\n",
      "No improvement for 9 epochs\n",
      "\n",
      "Epoch 13/100\n"
     ]
    },
    {
     "name": "stderr",
     "output_type": "stream",
     "text": [
      "Training: 100%|██████████| 9/9 [00:02<00:00,  3.06it/s, loss=1.01] \n"
     ]
    },
    {
     "name": "stdout",
     "output_type": "stream",
     "text": [
      "Train Loss: 1.1132\n",
      "Val Loss: 2.2269\n",
      "Val NRMSE: 0.0708\n",
      "Val MCAR NRMSE: 0.0492\n",
      "Val MAR NRMSE: 0.0613\n",
      "Val MNAR NRMSE: 0.1019\n",
      "No improvement for 10 epochs\n",
      "\n",
      "Epoch 14/100\n"
     ]
    },
    {
     "name": "stderr",
     "output_type": "stream",
     "text": [
      "Training: 100%|██████████| 9/9 [00:02<00:00,  3.06it/s, loss=1.13] \n"
     ]
    },
    {
     "name": "stdout",
     "output_type": "stream",
     "text": [
      "Train Loss: 1.4427\n",
      "Val Loss: 1.9169\n",
      "Val NRMSE: 0.0672\n",
      "Val MCAR NRMSE: 0.0519\n",
      "Val MAR NRMSE: 0.0644\n",
      "Val MNAR NRMSE: 0.0854\n",
      "No improvement for 11 epochs\n",
      "\n",
      "Epoch 15/100\n"
     ]
    },
    {
     "name": "stderr",
     "output_type": "stream",
     "text": [
      "Training: 100%|██████████| 9/9 [00:02<00:00,  3.01it/s, loss=0.909]\n"
     ]
    },
    {
     "name": "stdout",
     "output_type": "stream",
     "text": [
      "Train Loss: 1.4442\n",
      "Val Loss: 1.8872\n",
      "Val NRMSE: 0.0658\n",
      "Val MCAR NRMSE: 0.0523\n",
      "Val MAR NRMSE: 0.0596\n",
      "Val MNAR NRMSE: 0.0855\n",
      "No improvement for 12 epochs\n",
      "\n",
      "Epoch 16/100\n"
     ]
    },
    {
     "name": "stderr",
     "output_type": "stream",
     "text": [
      "Training: 100%|██████████| 9/9 [00:03<00:00,  2.96it/s, loss=0.982]\n"
     ]
    },
    {
     "name": "stdout",
     "output_type": "stream",
     "text": [
      "Train Loss: 1.5101\n",
      "Val Loss: 1.8876\n",
      "Val NRMSE: 0.0644\n",
      "Val MCAR NRMSE: 0.0517\n",
      "Val MAR NRMSE: 0.0569\n",
      "Val MNAR NRMSE: 0.0844\n",
      "No improvement for 13 epochs\n",
      "\n",
      "Epoch 17/100\n"
     ]
    },
    {
     "name": "stderr",
     "output_type": "stream",
     "text": [
      "Training: 100%|██████████| 9/9 [00:02<00:00,  3.03it/s, loss=2.93] \n"
     ]
    },
    {
     "name": "stdout",
     "output_type": "stream",
     "text": [
      "Train Loss: 1.3990\n",
      "Val Loss: 1.9058\n",
      "Val NRMSE: 0.0671\n",
      "Val MCAR NRMSE: 0.0550\n",
      "Val MAR NRMSE: 0.0651\n",
      "Val MNAR NRMSE: 0.0812\n",
      "No improvement for 14 epochs\n",
      "\n",
      "Epoch 18/100\n"
     ]
    },
    {
     "name": "stderr",
     "output_type": "stream",
     "text": [
      "Training: 100%|██████████| 9/9 [00:02<00:00,  3.00it/s, loss=1.51] \n"
     ]
    },
    {
     "name": "stdout",
     "output_type": "stream",
     "text": [
      "Train Loss: 1.4093\n",
      "Val Loss: 1.7710\n",
      "Val NRMSE: 0.0636\n",
      "Val MCAR NRMSE: 0.0504\n",
      "Val MAR NRMSE: 0.0537\n",
      "Val MNAR NRMSE: 0.0866\n",
      "New best validation loss: 1.7710\n",
      "\n",
      "Epoch 19/100\n"
     ]
    },
    {
     "name": "stderr",
     "output_type": "stream",
     "text": [
      "Training: 100%|██████████| 9/9 [00:02<00:00,  3.01it/s, loss=2.55]\n"
     ]
    },
    {
     "name": "stdout",
     "output_type": "stream",
     "text": [
      "Train Loss: 1.7665\n",
      "Val Loss: 1.8077\n",
      "Val NRMSE: 0.0647\n",
      "Val MCAR NRMSE: 0.0517\n",
      "Val MAR NRMSE: 0.0610\n",
      "Val MNAR NRMSE: 0.0813\n",
      "No improvement for 1 epochs\n",
      "\n",
      "Epoch 20/100\n"
     ]
    },
    {
     "name": "stderr",
     "output_type": "stream",
     "text": [
      "Training: 100%|██████████| 9/9 [00:02<00:00,  3.09it/s, loss=5.94] \n"
     ]
    },
    {
     "name": "stdout",
     "output_type": "stream",
     "text": [
      "Train Loss: 2.7591\n",
      "Val Loss: 1.7931\n",
      "Val NRMSE: 0.0645\n",
      "Val MCAR NRMSE: 0.0497\n",
      "Val MAR NRMSE: 0.0591\n",
      "Val MNAR NRMSE: 0.0848\n",
      "No improvement for 2 epochs\n",
      "\n",
      "Epoch 21/100\n"
     ]
    },
    {
     "name": "stderr",
     "output_type": "stream",
     "text": [
      "Training: 100%|██████████| 9/9 [00:02<00:00,  3.02it/s, loss=8.05] \n"
     ]
    },
    {
     "name": "stdout",
     "output_type": "stream",
     "text": [
      "Train Loss: 2.1357\n",
      "Val Loss: 2.0444\n",
      "Val NRMSE: 0.0691\n",
      "Val MCAR NRMSE: 0.0503\n",
      "Val MAR NRMSE: 0.0638\n",
      "Val MNAR NRMSE: 0.0934\n",
      "No improvement for 3 epochs\n",
      "\n",
      "Epoch 22/100\n"
     ]
    },
    {
     "name": "stderr",
     "output_type": "stream",
     "text": [
      "Training: 100%|██████████| 9/9 [00:02<00:00,  3.04it/s, loss=0.81] \n"
     ]
    },
    {
     "name": "stdout",
     "output_type": "stream",
     "text": [
      "Train Loss: 1.0935\n",
      "Val Loss: 1.9607\n",
      "Val NRMSE: 0.0668\n",
      "Val MCAR NRMSE: 0.0484\n",
      "Val MAR NRMSE: 0.0666\n",
      "Val MNAR NRMSE: 0.0856\n",
      "No improvement for 4 epochs\n",
      "\n",
      "Epoch 23/100\n"
     ]
    },
    {
     "name": "stderr",
     "output_type": "stream",
     "text": [
      "Training: 100%|██████████| 9/9 [00:02<00:00,  3.02it/s, loss=1.84] \n"
     ]
    },
    {
     "name": "stdout",
     "output_type": "stream",
     "text": [
      "Train Loss: 1.3074\n",
      "Val Loss: 1.9469\n",
      "Val NRMSE: 0.0670\n",
      "Val MCAR NRMSE: 0.0472\n",
      "Val MAR NRMSE: 0.0605\n",
      "Val MNAR NRMSE: 0.0933\n",
      "No improvement for 5 epochs\n",
      "\n",
      "Epoch 24/100\n"
     ]
    },
    {
     "name": "stderr",
     "output_type": "stream",
     "text": [
      "Training: 100%|██████████| 9/9 [00:02<00:00,  3.01it/s, loss=1.15] \n"
     ]
    },
    {
     "name": "stdout",
     "output_type": "stream",
     "text": [
      "Train Loss: 1.4193\n",
      "Val Loss: 1.8063\n",
      "Val NRMSE: 0.0638\n",
      "Val MCAR NRMSE: 0.0485\n",
      "Val MAR NRMSE: 0.0614\n",
      "Val MNAR NRMSE: 0.0815\n",
      "No improvement for 6 epochs\n",
      "\n",
      "Epoch 25/100\n"
     ]
    },
    {
     "name": "stderr",
     "output_type": "stream",
     "text": [
      "Training: 100%|██████████| 9/9 [00:02<00:00,  3.00it/s, loss=1.56] \n"
     ]
    },
    {
     "name": "stdout",
     "output_type": "stream",
     "text": [
      "Train Loss: 1.9489\n",
      "Val Loss: 2.3501\n",
      "Val NRMSE: 0.0753\n",
      "Val MCAR NRMSE: 0.0765\n",
      "Val MAR NRMSE: 0.0717\n",
      "Val MNAR NRMSE: 0.0776\n",
      "No improvement for 7 epochs\n",
      "\n",
      "Epoch 26/100\n"
     ]
    },
    {
     "name": "stderr",
     "output_type": "stream",
     "text": [
      "Training: 100%|██████████| 9/9 [00:02<00:00,  3.06it/s, loss=0.908]\n"
     ]
    },
    {
     "name": "stdout",
     "output_type": "stream",
     "text": [
      "Train Loss: 1.7358\n",
      "Val Loss: 2.0695\n",
      "Val NRMSE: 0.0678\n",
      "Val MCAR NRMSE: 0.0477\n",
      "Val MAR NRMSE: 0.0635\n",
      "Val MNAR NRMSE: 0.0922\n",
      "No improvement for 8 epochs\n",
      "\n",
      "Epoch 27/100\n"
     ]
    },
    {
     "name": "stderr",
     "output_type": "stream",
     "text": [
      "Training: 100%|██████████| 9/9 [00:03<00:00,  2.97it/s, loss=0.94] \n"
     ]
    },
    {
     "name": "stdout",
     "output_type": "stream",
     "text": [
      "Train Loss: 1.3865\n",
      "Val Loss: 1.8572\n",
      "Val NRMSE: 0.0666\n",
      "Val MCAR NRMSE: 0.0625\n",
      "Val MAR NRMSE: 0.0581\n",
      "Val MNAR NRMSE: 0.0792\n",
      "No improvement for 9 epochs\n",
      "\n",
      "Epoch 28/100\n"
     ]
    },
    {
     "name": "stderr",
     "output_type": "stream",
     "text": [
      "Training: 100%|██████████| 9/9 [00:02<00:00,  3.04it/s, loss=0.896]\n"
     ]
    },
    {
     "name": "stdout",
     "output_type": "stream",
     "text": [
      "Train Loss: 1.3555\n",
      "Val Loss: 2.2423\n",
      "Val NRMSE: 0.0707\n",
      "Val MCAR NRMSE: 0.0474\n",
      "Val MAR NRMSE: 0.0674\n",
      "Val MNAR NRMSE: 0.0974\n",
      "No improvement for 10 epochs\n",
      "\n",
      "Epoch 29/100\n"
     ]
    },
    {
     "name": "stderr",
     "output_type": "stream",
     "text": [
      "Training: 100%|██████████| 9/9 [00:03<00:00,  2.99it/s, loss=4.19] \n"
     ]
    },
    {
     "name": "stdout",
     "output_type": "stream",
     "text": [
      "Train Loss: 1.7764\n",
      "Val Loss: 1.9271\n",
      "Val NRMSE: 0.0677\n",
      "Val MCAR NRMSE: 0.0561\n",
      "Val MAR NRMSE: 0.0643\n",
      "Val MNAR NRMSE: 0.0828\n",
      "No improvement for 11 epochs\n",
      "\n",
      "Epoch 30/100\n"
     ]
    },
    {
     "name": "stderr",
     "output_type": "stream",
     "text": [
      "Training: 100%|██████████| 9/9 [00:02<00:00,  3.01it/s, loss=0.943]\n"
     ]
    },
    {
     "name": "stdout",
     "output_type": "stream",
     "text": [
      "Train Loss: 1.4558\n",
      "Val Loss: 2.0002\n",
      "Val NRMSE: 0.0678\n",
      "Val MCAR NRMSE: 0.0481\n",
      "Val MAR NRMSE: 0.0650\n",
      "Val MNAR NRMSE: 0.0904\n",
      "No improvement for 12 epochs\n",
      "\n",
      "Epoch 31/100\n"
     ]
    },
    {
     "name": "stderr",
     "output_type": "stream",
     "text": [
      "Training: 100%|██████████| 9/9 [00:02<00:00,  3.05it/s, loss=1.05] \n"
     ]
    },
    {
     "name": "stdout",
     "output_type": "stream",
     "text": [
      "Train Loss: 1.4992\n",
      "Val Loss: 1.8774\n",
      "Val NRMSE: 0.0659\n",
      "Val MCAR NRMSE: 0.0594\n",
      "Val MAR NRMSE: 0.0602\n",
      "Val MNAR NRMSE: 0.0782\n",
      "No improvement for 13 epochs\n",
      "\n",
      "Epoch 32/100\n"
     ]
    },
    {
     "name": "stderr",
     "output_type": "stream",
     "text": [
      "Training: 100%|██████████| 9/9 [00:03<00:00,  2.95it/s, loss=1.78] \n"
     ]
    },
    {
     "name": "stdout",
     "output_type": "stream",
     "text": [
      "Train Loss: 1.7469\n",
      "Val Loss: 2.0479\n",
      "Val NRMSE: 0.0681\n",
      "Val MCAR NRMSE: 0.0620\n",
      "Val MAR NRMSE: 0.0633\n",
      "Val MNAR NRMSE: 0.0791\n",
      "No improvement for 14 epochs\n",
      "\n",
      "Epoch 33/100\n"
     ]
    },
    {
     "name": "stderr",
     "output_type": "stream",
     "text": [
      "Training: 100%|██████████| 9/9 [00:02<00:00,  3.07it/s, loss=1.21] \n"
     ]
    },
    {
     "name": "stdout",
     "output_type": "stream",
     "text": [
      "Train Loss: 1.3847\n",
      "Val Loss: 1.9665\n",
      "Val NRMSE: 0.0667\n",
      "Val MCAR NRMSE: 0.0476\n",
      "Val MAR NRMSE: 0.0635\n",
      "Val MNAR NRMSE: 0.0891\n",
      "No improvement for 15 epochs\n",
      "\n",
      "Epoch 34/100\n"
     ]
    },
    {
     "name": "stderr",
     "output_type": "stream",
     "text": [
      "Training: 100%|██████████| 9/9 [00:03<00:00,  2.95it/s, loss=1.29] \n"
     ]
    },
    {
     "name": "stdout",
     "output_type": "stream",
     "text": [
      "Train Loss: 1.5768\n",
      "Val Loss: 2.0636\n",
      "Val NRMSE: 0.0701\n",
      "Val MCAR NRMSE: 0.0655\n",
      "Val MAR NRMSE: 0.0659\n",
      "Val MNAR NRMSE: 0.0788\n",
      "No improvement for 16 epochs\n",
      "\n",
      "Epoch 35/100\n"
     ]
    },
    {
     "name": "stderr",
     "output_type": "stream",
     "text": [
      "Training: 100%|██████████| 9/9 [00:03<00:00,  2.99it/s, loss=1.08] \n"
     ]
    },
    {
     "name": "stdout",
     "output_type": "stream",
     "text": [
      "Train Loss: 1.2880\n",
      "Val Loss: 1.8685\n",
      "Val NRMSE: 0.0657\n",
      "Val MCAR NRMSE: 0.0505\n",
      "Val MAR NRMSE: 0.0616\n",
      "Val MNAR NRMSE: 0.0850\n",
      "No improvement for 17 epochs\n",
      "\n",
      "Epoch 36/100\n"
     ]
    },
    {
     "name": "stderr",
     "output_type": "stream",
     "text": [
      "Training: 100%|██████████| 9/9 [00:02<00:00,  3.03it/s, loss=0.773]\n"
     ]
    },
    {
     "name": "stdout",
     "output_type": "stream",
     "text": [
      "Train Loss: 1.0183\n",
      "Val Loss: 2.0729\n",
      "Val NRMSE: 0.0683\n",
      "Val MCAR NRMSE: 0.0494\n",
      "Val MAR NRMSE: 0.0603\n",
      "Val MNAR NRMSE: 0.0952\n",
      "No improvement for 18 epochs\n",
      "\n",
      "Epoch 37/100\n"
     ]
    },
    {
     "name": "stderr",
     "output_type": "stream",
     "text": [
      "Training: 100%|██████████| 9/9 [00:03<00:00,  2.95it/s, loss=18.8] \n"
     ]
    },
    {
     "name": "stdout",
     "output_type": "stream",
     "text": [
      "Train Loss: 3.4143\n",
      "Val Loss: 1.7835\n",
      "Val NRMSE: 0.0638\n",
      "Val MCAR NRMSE: 0.0470\n",
      "Val MAR NRMSE: 0.0597\n",
      "Val MNAR NRMSE: 0.0846\n",
      "No improvement for 19 epochs\n",
      "\n",
      "Epoch 38/100\n"
     ]
    },
    {
     "name": "stderr",
     "output_type": "stream",
     "text": [
      "Training: 100%|██████████| 9/9 [00:03<00:00,  2.90it/s, loss=1.4]  \n"
     ]
    },
    {
     "name": "stdout",
     "output_type": "stream",
     "text": [
      "Train Loss: 1.4122\n",
      "Val Loss: 1.9226\n",
      "Val NRMSE: 0.0655\n",
      "Val MCAR NRMSE: 0.0526\n",
      "Val MAR NRMSE: 0.0598\n",
      "Val MNAR NRMSE: 0.0842\n",
      "No improvement for 20 epochs\n",
      "\n",
      "Epoch 39/100\n"
     ]
    },
    {
     "name": "stderr",
     "output_type": "stream",
     "text": [
      "Training: 100%|██████████| 9/9 [00:02<00:00,  3.01it/s, loss=0.594]\n"
     ]
    },
    {
     "name": "stdout",
     "output_type": "stream",
     "text": [
      "Train Loss: 1.1162\n",
      "Val Loss: 1.8909\n",
      "Val NRMSE: 0.0668\n",
      "Val MCAR NRMSE: 0.0470\n",
      "Val MAR NRMSE: 0.0638\n",
      "Val MNAR NRMSE: 0.0897\n",
      "No improvement for 21 epochs\n",
      "\n",
      "Epoch 40/100\n"
     ]
    },
    {
     "name": "stderr",
     "output_type": "stream",
     "text": [
      "Training: 100%|██████████| 9/9 [00:03<00:00,  2.91it/s, loss=0.837]\n"
     ]
    },
    {
     "name": "stdout",
     "output_type": "stream",
     "text": [
      "Train Loss: 1.4766\n",
      "Val Loss: 1.7997\n",
      "Val NRMSE: 0.0636\n",
      "Val MCAR NRMSE: 0.0541\n",
      "Val MAR NRMSE: 0.0547\n",
      "Val MNAR NRMSE: 0.0820\n",
      "No improvement for 22 epochs\n",
      "\n",
      "Epoch 41/100\n"
     ]
    },
    {
     "name": "stderr",
     "output_type": "stream",
     "text": [
      "Training: 100%|██████████| 9/9 [00:03<00:00,  2.90it/s, loss=5.61] \n"
     ]
    },
    {
     "name": "stdout",
     "output_type": "stream",
     "text": [
      "Train Loss: 2.2213\n",
      "Val Loss: 1.9016\n",
      "Val NRMSE: 0.0656\n",
      "Val MCAR NRMSE: 0.0548\n",
      "Val MAR NRMSE: 0.0583\n",
      "Val MNAR NRMSE: 0.0839\n",
      "No improvement for 23 epochs\n",
      "\n",
      "Epoch 42/100\n"
     ]
    },
    {
     "name": "stderr",
     "output_type": "stream",
     "text": [
      "Training: 100%|██████████| 9/9 [00:02<00:00,  3.11it/s, loss=2.06] \n"
     ]
    },
    {
     "name": "stdout",
     "output_type": "stream",
     "text": [
      "Train Loss: 1.3569\n",
      "Val Loss: 1.8441\n",
      "Val NRMSE: 0.0636\n",
      "Val MCAR NRMSE: 0.0462\n",
      "Val MAR NRMSE: 0.0562\n",
      "Val MNAR NRMSE: 0.0883\n",
      "No improvement for 24 epochs\n",
      "\n",
      "Epoch 43/100\n"
     ]
    },
    {
     "name": "stderr",
     "output_type": "stream",
     "text": [
      "Training: 100%|██████████| 9/9 [00:03<00:00,  2.99it/s, loss=0.906]\n"
     ]
    },
    {
     "name": "stdout",
     "output_type": "stream",
     "text": [
      "Train Loss: 1.2213\n",
      "Val Loss: 1.7127\n",
      "Val NRMSE: 0.0639\n",
      "Val MCAR NRMSE: 0.0524\n",
      "Val MAR NRMSE: 0.0567\n",
      "Val MNAR NRMSE: 0.0827\n",
      "New best validation loss: 1.7127\n",
      "\n",
      "Epoch 44/100\n"
     ]
    },
    {
     "name": "stderr",
     "output_type": "stream",
     "text": [
      "Training: 100%|██████████| 9/9 [00:02<00:00,  3.09it/s, loss=4.86] \n"
     ]
    },
    {
     "name": "stdout",
     "output_type": "stream",
     "text": [
      "Train Loss: 1.4888\n",
      "Val Loss: 1.9853\n",
      "Val NRMSE: 0.0676\n",
      "Val MCAR NRMSE: 0.0462\n",
      "Val MAR NRMSE: 0.0667\n",
      "Val MNAR NRMSE: 0.0899\n",
      "No improvement for 1 epochs\n",
      "\n",
      "Epoch 45/100\n"
     ]
    },
    {
     "name": "stderr",
     "output_type": "stream",
     "text": [
      "Training: 100%|██████████| 9/9 [00:02<00:00,  3.12it/s, loss=1.02] \n"
     ]
    },
    {
     "name": "stdout",
     "output_type": "stream",
     "text": [
      "Train Loss: 1.5273\n",
      "Val Loss: 1.8659\n",
      "Val NRMSE: 0.0665\n",
      "Val MCAR NRMSE: 0.0546\n",
      "Val MAR NRMSE: 0.0637\n",
      "Val MNAR NRMSE: 0.0811\n",
      "No improvement for 2 epochs\n",
      "\n",
      "Epoch 46/100\n"
     ]
    },
    {
     "name": "stderr",
     "output_type": "stream",
     "text": [
      "Training: 100%|██████████| 9/9 [00:03<00:00,  2.99it/s, loss=2.98] \n"
     ]
    },
    {
     "name": "stdout",
     "output_type": "stream",
     "text": [
      "Train Loss: 1.5081\n",
      "Val Loss: 1.8327\n",
      "Val NRMSE: 0.0653\n",
      "Val MCAR NRMSE: 0.0494\n",
      "Val MAR NRMSE: 0.0592\n",
      "Val MNAR NRMSE: 0.0874\n",
      "No improvement for 3 epochs\n",
      "\n",
      "Epoch 47/100\n"
     ]
    },
    {
     "name": "stderr",
     "output_type": "stream",
     "text": [
      "Training: 100%|██████████| 9/9 [00:03<00:00,  2.84it/s, loss=1.14] \n"
     ]
    },
    {
     "name": "stdout",
     "output_type": "stream",
     "text": [
      "Train Loss: 1.6043\n",
      "Val Loss: 1.8523\n",
      "Val NRMSE: 0.0656\n",
      "Val MCAR NRMSE: 0.0511\n",
      "Val MAR NRMSE: 0.0622\n",
      "Val MNAR NRMSE: 0.0835\n",
      "No improvement for 4 epochs\n",
      "\n",
      "Epoch 48/100\n"
     ]
    },
    {
     "name": "stderr",
     "output_type": "stream",
     "text": [
      "Training: 100%|██████████| 9/9 [00:03<00:00,  2.89it/s, loss=0.907]\n"
     ]
    },
    {
     "name": "stdout",
     "output_type": "stream",
     "text": [
      "Train Loss: 1.3021\n",
      "Val Loss: 1.9961\n",
      "Val NRMSE: 0.0688\n",
      "Val MCAR NRMSE: 0.0478\n",
      "Val MAR NRMSE: 0.0715\n",
      "Val MNAR NRMSE: 0.0872\n",
      "No improvement for 5 epochs\n",
      "\n",
      "Epoch 49/100\n"
     ]
    },
    {
     "name": "stderr",
     "output_type": "stream",
     "text": [
      "Training: 100%|██████████| 9/9 [00:03<00:00,  2.91it/s, loss=1.05] \n"
     ]
    },
    {
     "name": "stdout",
     "output_type": "stream",
     "text": [
      "Train Loss: 1.1581\n",
      "Val Loss: 1.8581\n",
      "Val NRMSE: 0.0651\n",
      "Val MCAR NRMSE: 0.0520\n",
      "Val MAR NRMSE: 0.0564\n",
      "Val MNAR NRMSE: 0.0870\n",
      "No improvement for 6 epochs\n",
      "\n",
      "Epoch 50/100\n"
     ]
    },
    {
     "name": "stderr",
     "output_type": "stream",
     "text": [
      "Training: 100%|██████████| 9/9 [00:03<00:00,  2.90it/s, loss=1.11]\n"
     ]
    },
    {
     "name": "stdout",
     "output_type": "stream",
     "text": [
      "Train Loss: 1.5045\n",
      "Val Loss: 1.8038\n",
      "Val NRMSE: 0.0653\n",
      "Val MCAR NRMSE: 0.0581\n",
      "Val MAR NRMSE: 0.0574\n",
      "Val MNAR NRMSE: 0.0803\n",
      "No improvement for 7 epochs\n",
      "\n",
      "Epoch 51/100\n"
     ]
    },
    {
     "name": "stderr",
     "output_type": "stream",
     "text": [
      "Training: 100%|██████████| 9/9 [00:03<00:00,  2.98it/s, loss=0.709]\n"
     ]
    },
    {
     "name": "stdout",
     "output_type": "stream",
     "text": [
      "Train Loss: 1.3228\n",
      "Val Loss: 1.8358\n",
      "Val NRMSE: 0.0645\n",
      "Val MCAR NRMSE: 0.0528\n",
      "Val MAR NRMSE: 0.0616\n",
      "Val MNAR NRMSE: 0.0790\n",
      "No improvement for 8 epochs\n",
      "\n",
      "Epoch 52/100\n"
     ]
    },
    {
     "name": "stderr",
     "output_type": "stream",
     "text": [
      "Training: 100%|██████████| 9/9 [00:03<00:00,  2.92it/s, loss=1.77] \n"
     ]
    },
    {
     "name": "stdout",
     "output_type": "stream",
     "text": [
      "Train Loss: 1.3191\n",
      "Val Loss: 1.7949\n",
      "Val NRMSE: 0.0625\n",
      "Val MCAR NRMSE: 0.0486\n",
      "Val MAR NRMSE: 0.0523\n",
      "Val MNAR NRMSE: 0.0865\n",
      "No improvement for 9 epochs\n",
      "\n",
      "Epoch 53/100\n"
     ]
    },
    {
     "name": "stderr",
     "output_type": "stream",
     "text": [
      "Training: 100%|██████████| 9/9 [00:02<00:00,  3.06it/s, loss=0.78] \n"
     ]
    },
    {
     "name": "stdout",
     "output_type": "stream",
     "text": [
      "Train Loss: 1.1844\n",
      "Val Loss: 1.8763\n",
      "Val NRMSE: 0.0653\n",
      "Val MCAR NRMSE: 0.0519\n",
      "Val MAR NRMSE: 0.0562\n",
      "Val MNAR NRMSE: 0.0878\n",
      "No improvement for 10 epochs\n",
      "\n",
      "Epoch 54/100\n"
     ]
    },
    {
     "name": "stderr",
     "output_type": "stream",
     "text": [
      "Training: 100%|██████████| 9/9 [00:03<00:00,  2.98it/s, loss=1.16] \n"
     ]
    },
    {
     "name": "stdout",
     "output_type": "stream",
     "text": [
      "Train Loss: 1.3208\n",
      "Val Loss: 1.8950\n",
      "Val NRMSE: 0.0648\n",
      "Val MCAR NRMSE: 0.0519\n",
      "Val MAR NRMSE: 0.0595\n",
      "Val MNAR NRMSE: 0.0830\n",
      "No improvement for 11 epochs\n",
      "\n",
      "Epoch 55/100\n"
     ]
    },
    {
     "name": "stderr",
     "output_type": "stream",
     "text": [
      "Training: 100%|██████████| 9/9 [00:03<00:00,  2.73it/s, loss=1.1]  \n"
     ]
    },
    {
     "name": "stdout",
     "output_type": "stream",
     "text": [
      "Train Loss: 1.7426\n",
      "Val Loss: 2.1180\n",
      "Val NRMSE: 0.0710\n",
      "Val MCAR NRMSE: 0.0601\n",
      "Val MAR NRMSE: 0.0737\n",
      "Val MNAR NRMSE: 0.0791\n",
      "No improvement for 12 epochs\n",
      "\n",
      "Epoch 56/100\n"
     ]
    },
    {
     "name": "stderr",
     "output_type": "stream",
     "text": [
      "Training: 100%|██████████| 9/9 [00:03<00:00,  2.91it/s, loss=1.06] \n"
     ]
    },
    {
     "name": "stdout",
     "output_type": "stream",
     "text": [
      "Train Loss: 1.4676\n",
      "Val Loss: 1.8429\n",
      "Val NRMSE: 0.0637\n",
      "Val MCAR NRMSE: 0.0489\n",
      "Val MAR NRMSE: 0.0579\n",
      "Val MNAR NRMSE: 0.0844\n",
      "No improvement for 13 epochs\n",
      "\n",
      "Epoch 57/100\n"
     ]
    },
    {
     "name": "stderr",
     "output_type": "stream",
     "text": [
      "Training: 100%|██████████| 9/9 [00:03<00:00,  2.94it/s, loss=1.03] \n"
     ]
    },
    {
     "name": "stdout",
     "output_type": "stream",
     "text": [
      "Train Loss: 1.4841\n",
      "Val Loss: 1.8148\n",
      "Val NRMSE: 0.0643\n",
      "Val MCAR NRMSE: 0.0497\n",
      "Val MAR NRMSE: 0.0600\n",
      "Val MNAR NRMSE: 0.0831\n",
      "No improvement for 14 epochs\n",
      "\n",
      "Epoch 58/100\n"
     ]
    },
    {
     "name": "stderr",
     "output_type": "stream",
     "text": [
      "Training: 100%|██████████| 9/9 [00:03<00:00,  2.98it/s, loss=0.791]\n"
     ]
    },
    {
     "name": "stdout",
     "output_type": "stream",
     "text": [
      "Train Loss: 1.1802\n",
      "Val Loss: 1.7582\n",
      "Val NRMSE: 0.0640\n",
      "Val MCAR NRMSE: 0.0470\n",
      "Val MAR NRMSE: 0.0580\n",
      "Val MNAR NRMSE: 0.0869\n",
      "No improvement for 15 epochs\n",
      "\n",
      "Epoch 59/100\n"
     ]
    },
    {
     "name": "stderr",
     "output_type": "stream",
     "text": [
      "Training: 100%|██████████| 9/9 [00:02<00:00,  3.00it/s, loss=1.4]  \n"
     ]
    },
    {
     "name": "stdout",
     "output_type": "stream",
     "text": [
      "Train Loss: 1.3505\n",
      "Val Loss: 1.8407\n",
      "Val NRMSE: 0.0658\n",
      "Val MCAR NRMSE: 0.0525\n",
      "Val MAR NRMSE: 0.0588\n",
      "Val MNAR NRMSE: 0.0860\n",
      "No improvement for 16 epochs\n",
      "\n",
      "Epoch 60/100\n"
     ]
    },
    {
     "name": "stderr",
     "output_type": "stream",
     "text": [
      "Training: 100%|██████████| 9/9 [00:03<00:00,  2.89it/s, loss=0.685]\n"
     ]
    },
    {
     "name": "stdout",
     "output_type": "stream",
     "text": [
      "Train Loss: 1.0749\n",
      "Val Loss: 1.8982\n",
      "Val NRMSE: 0.0655\n",
      "Val MCAR NRMSE: 0.0506\n",
      "Val MAR NRMSE: 0.0615\n",
      "Val MNAR NRMSE: 0.0844\n",
      "No improvement for 17 epochs\n",
      "\n",
      "Epoch 61/100\n"
     ]
    },
    {
     "name": "stderr",
     "output_type": "stream",
     "text": [
      "Training: 100%|██████████| 9/9 [00:03<00:00,  2.93it/s, loss=1.24]\n"
     ]
    },
    {
     "name": "stdout",
     "output_type": "stream",
     "text": [
      "Train Loss: 1.3771\n",
      "Val Loss: 1.8835\n",
      "Val NRMSE: 0.0640\n",
      "Val MCAR NRMSE: 0.0447\n",
      "Val MAR NRMSE: 0.0630\n",
      "Val MNAR NRMSE: 0.0843\n",
      "No improvement for 18 epochs\n",
      "\n",
      "Epoch 62/100\n"
     ]
    },
    {
     "name": "stderr",
     "output_type": "stream",
     "text": [
      "Training: 100%|██████████| 9/9 [00:03<00:00,  2.91it/s, loss=1.24] \n"
     ]
    },
    {
     "name": "stdout",
     "output_type": "stream",
     "text": [
      "Train Loss: 1.1698\n",
      "Val Loss: 1.9370\n",
      "Val NRMSE: 0.0663\n",
      "Val MCAR NRMSE: 0.0515\n",
      "Val MAR NRMSE: 0.0591\n",
      "Val MNAR NRMSE: 0.0882\n",
      "No improvement for 19 epochs\n",
      "\n",
      "Epoch 63/100\n"
     ]
    },
    {
     "name": "stderr",
     "output_type": "stream",
     "text": [
      "Training: 100%|██████████| 9/9 [00:03<00:00,  2.95it/s, loss=0.962]\n"
     ]
    },
    {
     "name": "stdout",
     "output_type": "stream",
     "text": [
      "Train Loss: 1.0355\n",
      "Val Loss: 1.8346\n",
      "Val NRMSE: 0.0646\n",
      "Val MCAR NRMSE: 0.0486\n",
      "Val MAR NRMSE: 0.0576\n",
      "Val MNAR NRMSE: 0.0877\n",
      "No improvement for 20 epochs\n",
      "\n",
      "Epoch 64/100\n"
     ]
    },
    {
     "name": "stderr",
     "output_type": "stream",
     "text": [
      "Training: 100%|██████████| 9/9 [00:03<00:00,  2.90it/s, loss=1.49] \n"
     ]
    },
    {
     "name": "stdout",
     "output_type": "stream",
     "text": [
      "Train Loss: 1.4993\n",
      "Val Loss: 1.8178\n",
      "Val NRMSE: 0.0644\n",
      "Val MCAR NRMSE: 0.0508\n",
      "Val MAR NRMSE: 0.0600\n",
      "Val MNAR NRMSE: 0.0822\n",
      "No improvement for 21 epochs\n",
      "\n",
      "Epoch 65/100\n"
     ]
    },
    {
     "name": "stderr",
     "output_type": "stream",
     "text": [
      "Training: 100%|██████████| 9/9 [00:03<00:00,  3.00it/s, loss=1.45] \n"
     ]
    },
    {
     "name": "stdout",
     "output_type": "stream",
     "text": [
      "Train Loss: 1.1913\n",
      "Val Loss: 1.8877\n",
      "Val NRMSE: 0.0667\n",
      "Val MCAR NRMSE: 0.0507\n",
      "Val MAR NRMSE: 0.0629\n",
      "Val MNAR NRMSE: 0.0865\n",
      "No improvement for 22 epochs\n",
      "\n",
      "Epoch 66/100\n"
     ]
    },
    {
     "name": "stderr",
     "output_type": "stream",
     "text": [
      "Training: 100%|██████████| 9/9 [00:03<00:00,  2.82it/s, loss=1.11] \n"
     ]
    },
    {
     "name": "stdout",
     "output_type": "stream",
     "text": [
      "Train Loss: 2.0841\n",
      "Val Loss: 1.8090\n",
      "Val NRMSE: 0.0651\n",
      "Val MCAR NRMSE: 0.0549\n",
      "Val MAR NRMSE: 0.0569\n",
      "Val MNAR NRMSE: 0.0834\n",
      "No improvement for 23 epochs\n",
      "\n",
      "Epoch 67/100\n"
     ]
    },
    {
     "name": "stderr",
     "output_type": "stream",
     "text": [
      "Training: 100%|██████████| 9/9 [00:03<00:00,  2.64it/s, loss=2.34] \n"
     ]
    },
    {
     "name": "stdout",
     "output_type": "stream",
     "text": [
      "Train Loss: 1.7927\n",
      "Val Loss: 1.8495\n",
      "Val NRMSE: 0.0655\n",
      "Val MCAR NRMSE: 0.0542\n",
      "Val MAR NRMSE: 0.0608\n",
      "Val MNAR NRMSE: 0.0815\n",
      "No improvement for 24 epochs\n",
      "\n",
      "Epoch 68/100\n"
     ]
    },
    {
     "name": "stderr",
     "output_type": "stream",
     "text": [
      "Training: 100%|██████████| 9/9 [00:03<00:00,  2.77it/s, loss=6.65] \n"
     ]
    },
    {
     "name": "stdout",
     "output_type": "stream",
     "text": [
      "Train Loss: 1.9547\n",
      "Val Loss: 1.6795\n",
      "Val NRMSE: 0.0623\n",
      "Val MCAR NRMSE: 0.0524\n",
      "Val MAR NRMSE: 0.0527\n",
      "Val MNAR NRMSE: 0.0818\n",
      "New best validation loss: 1.6795\n",
      "\n",
      "Epoch 69/100\n"
     ]
    },
    {
     "name": "stderr",
     "output_type": "stream",
     "text": [
      "Training: 100%|██████████| 9/9 [00:03<00:00,  2.85it/s, loss=1.5] \n"
     ]
    },
    {
     "name": "stdout",
     "output_type": "stream",
     "text": [
      "Train Loss: 1.6460\n",
      "Val Loss: 1.8253\n",
      "Val NRMSE: 0.0660\n",
      "Val MCAR NRMSE: 0.0584\n",
      "Val MAR NRMSE: 0.0597\n",
      "Val MNAR NRMSE: 0.0798\n",
      "No improvement for 1 epochs\n",
      "\n",
      "Epoch 70/100\n"
     ]
    },
    {
     "name": "stderr",
     "output_type": "stream",
     "text": [
      "Training: 100%|██████████| 9/9 [00:03<00:00,  2.90it/s, loss=1.07] \n"
     ]
    },
    {
     "name": "stdout",
     "output_type": "stream",
     "text": [
      "Train Loss: 1.6801\n",
      "Val Loss: 2.1203\n",
      "Val NRMSE: 0.0705\n",
      "Val MCAR NRMSE: 0.0650\n",
      "Val MAR NRMSE: 0.0624\n",
      "Val MNAR NRMSE: 0.0841\n",
      "No improvement for 2 epochs\n",
      "\n",
      "Epoch 71/100\n"
     ]
    },
    {
     "name": "stderr",
     "output_type": "stream",
     "text": [
      "Training: 100%|██████████| 9/9 [00:02<00:00,  3.03it/s, loss=0.924]\n"
     ]
    },
    {
     "name": "stdout",
     "output_type": "stream",
     "text": [
      "Train Loss: 1.1766\n",
      "Val Loss: 1.8810\n",
      "Val NRMSE: 0.0673\n",
      "Val MCAR NRMSE: 0.0529\n",
      "Val MAR NRMSE: 0.0627\n",
      "Val MNAR NRMSE: 0.0862\n",
      "No improvement for 3 epochs\n",
      "\n",
      "Epoch 72/100\n"
     ]
    },
    {
     "name": "stderr",
     "output_type": "stream",
     "text": [
      "Training: 100%|██████████| 9/9 [00:02<00:00,  3.02it/s, loss=0.907]\n"
     ]
    },
    {
     "name": "stdout",
     "output_type": "stream",
     "text": [
      "Train Loss: 1.1773\n",
      "Val Loss: 1.7927\n",
      "Val NRMSE: 0.0648\n",
      "Val MCAR NRMSE: 0.0512\n",
      "Val MAR NRMSE: 0.0575\n",
      "Val MNAR NRMSE: 0.0857\n",
      "No improvement for 4 epochs\n",
      "\n",
      "Epoch 73/100\n"
     ]
    },
    {
     "name": "stderr",
     "output_type": "stream",
     "text": [
      "Training: 100%|██████████| 9/9 [00:02<00:00,  3.02it/s, loss=1.95] \n"
     ]
    },
    {
     "name": "stdout",
     "output_type": "stream",
     "text": [
      "Train Loss: 1.2861\n",
      "Val Loss: 1.8748\n",
      "Val NRMSE: 0.0655\n",
      "Val MCAR NRMSE: 0.0499\n",
      "Val MAR NRMSE: 0.0589\n",
      "Val MNAR NRMSE: 0.0878\n",
      "No improvement for 5 epochs\n",
      "\n",
      "Epoch 74/100\n"
     ]
    },
    {
     "name": "stderr",
     "output_type": "stream",
     "text": [
      "Training: 100%|██████████| 9/9 [00:03<00:00,  2.99it/s, loss=0.672]\n"
     ]
    },
    {
     "name": "stdout",
     "output_type": "stream",
     "text": [
      "Train Loss: 1.5722\n",
      "Val Loss: 1.7891\n",
      "Val NRMSE: 0.0630\n",
      "Val MCAR NRMSE: 0.0497\n",
      "Val MAR NRMSE: 0.0538\n",
      "Val MNAR NRMSE: 0.0855\n",
      "No improvement for 6 epochs\n",
      "\n",
      "Epoch 75/100\n"
     ]
    },
    {
     "name": "stderr",
     "output_type": "stream",
     "text": [
      "Training: 100%|██████████| 9/9 [00:02<00:00,  3.04it/s, loss=0.824]\n"
     ]
    },
    {
     "name": "stdout",
     "output_type": "stream",
     "text": [
      "Train Loss: 1.1929\n",
      "Val Loss: 1.8281\n",
      "Val NRMSE: 0.0645\n",
      "Val MCAR NRMSE: 0.0513\n",
      "Val MAR NRMSE: 0.0573\n",
      "Val MNAR NRMSE: 0.0850\n",
      "No improvement for 7 epochs\n",
      "\n",
      "Epoch 76/100\n"
     ]
    },
    {
     "name": "stderr",
     "output_type": "stream",
     "text": [
      "Training: 100%|██████████| 9/9 [00:03<00:00,  2.95it/s, loss=1.2]  \n"
     ]
    },
    {
     "name": "stdout",
     "output_type": "stream",
     "text": [
      "Train Loss: 1.8870\n",
      "Val Loss: 1.6828\n",
      "Val NRMSE: 0.0624\n",
      "Val MCAR NRMSE: 0.0480\n",
      "Val MAR NRMSE: 0.0564\n",
      "Val MNAR NRMSE: 0.0827\n",
      "No improvement for 8 epochs\n",
      "\n",
      "Epoch 77/100\n"
     ]
    },
    {
     "name": "stderr",
     "output_type": "stream",
     "text": [
      "Training: 100%|██████████| 9/9 [00:03<00:00,  2.94it/s, loss=1.3]  \n"
     ]
    },
    {
     "name": "stdout",
     "output_type": "stream",
     "text": [
      "Train Loss: 1.2195\n",
      "Val Loss: 1.8764\n",
      "Val NRMSE: 0.0651\n",
      "Val MCAR NRMSE: 0.0472\n",
      "Val MAR NRMSE: 0.0629\n",
      "Val MNAR NRMSE: 0.0851\n",
      "No improvement for 9 epochs\n",
      "\n",
      "Epoch 78/100\n"
     ]
    },
    {
     "name": "stderr",
     "output_type": "stream",
     "text": [
      "Training: 100%|██████████| 9/9 [00:03<00:00,  2.94it/s, loss=6.23] \n"
     ]
    },
    {
     "name": "stdout",
     "output_type": "stream",
     "text": [
      "Train Loss: 1.6369\n",
      "Val Loss: 1.9186\n",
      "Val NRMSE: 0.0661\n",
      "Val MCAR NRMSE: 0.0496\n",
      "Val MAR NRMSE: 0.0623\n",
      "Val MNAR NRMSE: 0.0865\n",
      "No improvement for 10 epochs\n",
      "\n",
      "Epoch 79/100\n"
     ]
    },
    {
     "name": "stderr",
     "output_type": "stream",
     "text": [
      "Training: 100%|██████████| 9/9 [00:03<00:00,  2.94it/s, loss=0.688]\n"
     ]
    },
    {
     "name": "stdout",
     "output_type": "stream",
     "text": [
      "Train Loss: 1.0721\n",
      "Val Loss: 1.9276\n",
      "Val NRMSE: 0.0653\n",
      "Val MCAR NRMSE: 0.0472\n",
      "Val MAR NRMSE: 0.0615\n",
      "Val MNAR NRMSE: 0.0871\n",
      "No improvement for 11 epochs\n",
      "\n",
      "Epoch 80/100\n"
     ]
    },
    {
     "name": "stderr",
     "output_type": "stream",
     "text": [
      "Training: 100%|██████████| 9/9 [00:03<00:00,  2.95it/s, loss=0.805]\n"
     ]
    },
    {
     "name": "stdout",
     "output_type": "stream",
     "text": [
      "Train Loss: 1.6454\n",
      "Val Loss: 1.8014\n",
      "Val NRMSE: 0.0650\n",
      "Val MCAR NRMSE: 0.0536\n",
      "Val MAR NRMSE: 0.0577\n",
      "Val MNAR NRMSE: 0.0839\n",
      "No improvement for 12 epochs\n",
      "\n",
      "Epoch 81/100\n"
     ]
    },
    {
     "name": "stderr",
     "output_type": "stream",
     "text": [
      "Training: 100%|██████████| 9/9 [00:03<00:00,  2.95it/s, loss=0.819]\n"
     ]
    },
    {
     "name": "stdout",
     "output_type": "stream",
     "text": [
      "Train Loss: 1.3360\n",
      "Val Loss: 1.7072\n",
      "Val NRMSE: 0.0629\n",
      "Val MCAR NRMSE: 0.0493\n",
      "Val MAR NRMSE: 0.0557\n",
      "Val MNAR NRMSE: 0.0838\n",
      "No improvement for 13 epochs\n",
      "\n",
      "Epoch 82/100\n"
     ]
    },
    {
     "name": "stderr",
     "output_type": "stream",
     "text": [
      "Training: 100%|██████████| 9/9 [00:03<00:00,  2.83it/s, loss=1.18] \n"
     ]
    },
    {
     "name": "stdout",
     "output_type": "stream",
     "text": [
      "Train Loss: 1.5702\n",
      "Val Loss: 1.9642\n",
      "Val NRMSE: 0.0684\n",
      "Val MCAR NRMSE: 0.0529\n",
      "Val MAR NRMSE: 0.0681\n",
      "Val MNAR NRMSE: 0.0843\n",
      "No improvement for 14 epochs\n",
      "\n",
      "Epoch 83/100\n"
     ]
    },
    {
     "name": "stderr",
     "output_type": "stream",
     "text": [
      "Training: 100%|██████████| 9/9 [00:03<00:00,  2.96it/s, loss=1.87] \n"
     ]
    },
    {
     "name": "stdout",
     "output_type": "stream",
     "text": [
      "Train Loss: 1.2764\n",
      "Val Loss: 1.8976\n",
      "Val NRMSE: 0.0648\n",
      "Val MCAR NRMSE: 0.0478\n",
      "Val MAR NRMSE: 0.0609\n",
      "Val MNAR NRMSE: 0.0858\n",
      "No improvement for 15 epochs\n",
      "\n",
      "Epoch 84/100\n"
     ]
    },
    {
     "name": "stderr",
     "output_type": "stream",
     "text": [
      "Training: 100%|██████████| 9/9 [00:03<00:00,  2.94it/s, loss=1.17] \n"
     ]
    },
    {
     "name": "stdout",
     "output_type": "stream",
     "text": [
      "Train Loss: 1.1075\n",
      "Val Loss: 1.9942\n",
      "Val NRMSE: 0.0680\n",
      "Val MCAR NRMSE: 0.0496\n",
      "Val MAR NRMSE: 0.0672\n",
      "Val MNAR NRMSE: 0.0873\n",
      "No improvement for 16 epochs\n",
      "\n",
      "Epoch 85/100\n"
     ]
    },
    {
     "name": "stderr",
     "output_type": "stream",
     "text": [
      "Training: 100%|██████████| 9/9 [00:03<00:00,  2.97it/s, loss=2.05] \n"
     ]
    },
    {
     "name": "stdout",
     "output_type": "stream",
     "text": [
      "Train Loss: 2.2744\n",
      "Val Loss: 1.7853\n",
      "Val NRMSE: 0.0647\n",
      "Val MCAR NRMSE: 0.0496\n",
      "Val MAR NRMSE: 0.0616\n",
      "Val MNAR NRMSE: 0.0829\n",
      "No improvement for 17 epochs\n",
      "\n",
      "Epoch 86/100\n"
     ]
    },
    {
     "name": "stderr",
     "output_type": "stream",
     "text": [
      "Training: 100%|██████████| 9/9 [00:03<00:00,  2.92it/s, loss=0.854]\n"
     ]
    },
    {
     "name": "stdout",
     "output_type": "stream",
     "text": [
      "Train Loss: 0.9049\n",
      "Val Loss: 1.8063\n",
      "Val NRMSE: 0.0646\n",
      "Val MCAR NRMSE: 0.0511\n",
      "Val MAR NRMSE: 0.0597\n",
      "Val MNAR NRMSE: 0.0829\n",
      "No improvement for 18 epochs\n",
      "\n",
      "Epoch 87/100\n"
     ]
    },
    {
     "name": "stderr",
     "output_type": "stream",
     "text": [
      "Training: 100%|██████████| 9/9 [00:03<00:00,  2.97it/s, loss=1.27] \n"
     ]
    },
    {
     "name": "stdout",
     "output_type": "stream",
     "text": [
      "Train Loss: 1.0125\n",
      "Val Loss: 1.7253\n",
      "Val NRMSE: 0.0633\n",
      "Val MCAR NRMSE: 0.0510\n",
      "Val MAR NRMSE: 0.0561\n",
      "Val MNAR NRMSE: 0.0827\n",
      "No improvement for 19 epochs\n",
      "\n",
      "Epoch 88/100\n"
     ]
    },
    {
     "name": "stderr",
     "output_type": "stream",
     "text": [
      "Training: 100%|██████████| 9/9 [00:03<00:00,  2.98it/s, loss=0.991]\n"
     ]
    },
    {
     "name": "stdout",
     "output_type": "stream",
     "text": [
      "Train Loss: 1.0649\n",
      "Val Loss: 1.8363\n",
      "Val NRMSE: 0.0657\n",
      "Val MCAR NRMSE: 0.0533\n",
      "Val MAR NRMSE: 0.0594\n",
      "Val MNAR NRMSE: 0.0844\n",
      "No improvement for 20 epochs\n",
      "\n",
      "Epoch 89/100\n"
     ]
    },
    {
     "name": "stderr",
     "output_type": "stream",
     "text": [
      "Training: 100%|██████████| 9/9 [00:03<00:00,  2.98it/s, loss=1.31] \n"
     ]
    },
    {
     "name": "stdout",
     "output_type": "stream",
     "text": [
      "Train Loss: 1.9529\n",
      "Val Loss: 1.8196\n",
      "Val NRMSE: 0.0642\n",
      "Val MCAR NRMSE: 0.0463\n",
      "Val MAR NRMSE: 0.0588\n",
      "Val MNAR NRMSE: 0.0875\n",
      "No improvement for 21 epochs\n",
      "\n",
      "Epoch 90/100\n"
     ]
    },
    {
     "name": "stderr",
     "output_type": "stream",
     "text": [
      "Training: 100%|██████████| 9/9 [00:03<00:00,  2.96it/s, loss=3.14] \n"
     ]
    },
    {
     "name": "stdout",
     "output_type": "stream",
     "text": [
      "Train Loss: 1.4599\n",
      "Val Loss: 1.7751\n",
      "Val NRMSE: 0.0637\n",
      "Val MCAR NRMSE: 0.0466\n",
      "Val MAR NRMSE: 0.0621\n",
      "Val MNAR NRMSE: 0.0825\n",
      "No improvement for 22 epochs\n",
      "\n",
      "Epoch 91/100\n"
     ]
    },
    {
     "name": "stderr",
     "output_type": "stream",
     "text": [
      "Training: 100%|██████████| 9/9 [00:03<00:00,  2.83it/s, loss=0.999]\n"
     ]
    },
    {
     "name": "stdout",
     "output_type": "stream",
     "text": [
      "Train Loss: 1.5376\n",
      "Val Loss: 1.8166\n",
      "Val NRMSE: 0.0626\n",
      "Val MCAR NRMSE: 0.0471\n",
      "Val MAR NRMSE: 0.0556\n",
      "Val MNAR NRMSE: 0.0850\n",
      "No improvement for 23 epochs\n",
      "\n",
      "Epoch 92/100\n"
     ]
    },
    {
     "name": "stderr",
     "output_type": "stream",
     "text": [
      "Training: 100%|██████████| 9/9 [00:02<00:00,  3.02it/s, loss=0.768]\n"
     ]
    },
    {
     "name": "stdout",
     "output_type": "stream",
     "text": [
      "Train Loss: 1.3789\n",
      "Val Loss: 1.8897\n",
      "Val NRMSE: 0.0670\n",
      "Val MCAR NRMSE: 0.0531\n",
      "Val MAR NRMSE: 0.0628\n",
      "Val MNAR NRMSE: 0.0851\n",
      "No improvement for 24 epochs\n",
      "\n",
      "Epoch 93/100\n"
     ]
    },
    {
     "name": "stderr",
     "output_type": "stream",
     "text": [
      "Training: 100%|██████████| 9/9 [00:02<00:00,  3.03it/s, loss=0.671]\n"
     ]
    },
    {
     "name": "stdout",
     "output_type": "stream",
     "text": [
      "Train Loss: 1.2704\n",
      "Val Loss: 1.8672\n",
      "Val NRMSE: 0.0669\n",
      "Val MCAR NRMSE: 0.0522\n",
      "Val MAR NRMSE: 0.0664\n",
      "Val MNAR NRMSE: 0.0821\n",
      "No improvement for 25 epochs\n",
      "Early stopping after 93 epochs\n",
      "Fold 2 metrics:\n",
      "  NRMSE: 0.0666\n",
      "  MCAR NRMSE: 0.0544\n",
      "  MAR NRMSE: 0.0599\n",
      "  MNAR NRMSE: 0.0854\n",
      "\n",
      "Training fold 3/3\n",
      "Starting model training...\n",
      "Creating ensemble model with 3 base models...\n",
      "\n",
      "Epoch 1/100\n"
     ]
    },
    {
     "name": "stderr",
     "output_type": "stream",
     "text": [
      "Training: 100%|██████████| 9/9 [00:02<00:00,  3.06it/s, loss=0.816]\n"
     ]
    },
    {
     "name": "stdout",
     "output_type": "stream",
     "text": [
      "Train Loss: 2.0078\n",
      "Val Loss: 1.7278\n",
      "Val NRMSE: 0.0481\n",
      "Val MCAR NRMSE: 0.0413\n",
      "Val MAR NRMSE: 0.0403\n",
      "Val MNAR NRMSE: 0.0628\n",
      "New best validation loss: 1.7278\n",
      "\n",
      "Epoch 2/100\n"
     ]
    },
    {
     "name": "stderr",
     "output_type": "stream",
     "text": [
      "Training: 100%|██████████| 9/9 [00:02<00:00,  3.13it/s, loss=1.11]\n"
     ]
    },
    {
     "name": "stdout",
     "output_type": "stream",
     "text": [
      "Train Loss: 1.5868\n",
      "Val Loss: 1.6985\n",
      "Val NRMSE: 0.0474\n",
      "Val MCAR NRMSE: 0.0396\n",
      "Val MAR NRMSE: 0.0401\n",
      "Val MNAR NRMSE: 0.0627\n",
      "New best validation loss: 1.6985\n",
      "\n",
      "Epoch 3/100\n"
     ]
    },
    {
     "name": "stderr",
     "output_type": "stream",
     "text": [
      "Training: 100%|██████████| 9/9 [00:02<00:00,  3.24it/s, loss=2.77]\n"
     ]
    },
    {
     "name": "stdout",
     "output_type": "stream",
     "text": [
      "Train Loss: 2.1672\n",
      "Val Loss: 2.1165\n",
      "Val NRMSE: 0.0511\n",
      "Val MCAR NRMSE: 0.0425\n",
      "Val MAR NRMSE: 0.0469\n",
      "Val MNAR NRMSE: 0.0638\n",
      "No improvement for 1 epochs\n",
      "\n",
      "Epoch 4/100\n"
     ]
    },
    {
     "name": "stderr",
     "output_type": "stream",
     "text": [
      "Training: 100%|██████████| 9/9 [00:02<00:00,  3.22it/s, loss=0.956]\n"
     ]
    },
    {
     "name": "stdout",
     "output_type": "stream",
     "text": [
      "Train Loss: 1.7570\n",
      "Val Loss: 1.6787\n",
      "Val NRMSE: 0.0469\n",
      "Val MCAR NRMSE: 0.0400\n",
      "Val MAR NRMSE: 0.0380\n",
      "Val MNAR NRMSE: 0.0627\n",
      "New best validation loss: 1.6787\n",
      "\n",
      "Epoch 5/100\n"
     ]
    },
    {
     "name": "stderr",
     "output_type": "stream",
     "text": [
      "Training: 100%|██████████| 9/9 [00:02<00:00,  3.19it/s, loss=1.19] \n"
     ]
    },
    {
     "name": "stdout",
     "output_type": "stream",
     "text": [
      "Train Loss: 2.1016\n",
      "Val Loss: 2.2634\n",
      "Val NRMSE: 0.0540\n",
      "Val MCAR NRMSE: 0.0509\n",
      "Val MAR NRMSE: 0.0512\n",
      "Val MNAR NRMSE: 0.0598\n",
      "No improvement for 1 epochs\n",
      "\n",
      "Epoch 6/100\n"
     ]
    },
    {
     "name": "stderr",
     "output_type": "stream",
     "text": [
      "Training: 100%|██████████| 9/9 [00:02<00:00,  3.01it/s, loss=1]   \n"
     ]
    },
    {
     "name": "stdout",
     "output_type": "stream",
     "text": [
      "Train Loss: 1.8254\n",
      "Val Loss: 2.2466\n",
      "Val NRMSE: 0.0523\n",
      "Val MCAR NRMSE: 0.0480\n",
      "Val MAR NRMSE: 0.0482\n",
      "Val MNAR NRMSE: 0.0606\n",
      "No improvement for 2 epochs\n",
      "\n",
      "Epoch 7/100\n"
     ]
    },
    {
     "name": "stderr",
     "output_type": "stream",
     "text": [
      "Training: 100%|██████████| 9/9 [00:03<00:00,  2.96it/s, loss=1.28] \n"
     ]
    },
    {
     "name": "stdout",
     "output_type": "stream",
     "text": [
      "Train Loss: 1.3485\n",
      "Val Loss: 2.0455\n",
      "Val NRMSE: 0.0507\n",
      "Val MCAR NRMSE: 0.0395\n",
      "Val MAR NRMSE: 0.0460\n",
      "Val MNAR NRMSE: 0.0668\n",
      "No improvement for 3 epochs\n",
      "\n",
      "Epoch 8/100\n"
     ]
    },
    {
     "name": "stderr",
     "output_type": "stream",
     "text": [
      "Training: 100%|██████████| 9/9 [00:03<00:00,  2.84it/s, loss=1.04] \n"
     ]
    },
    {
     "name": "stdout",
     "output_type": "stream",
     "text": [
      "Train Loss: 1.5906\n",
      "Val Loss: 2.2276\n",
      "Val NRMSE: 0.0543\n",
      "Val MCAR NRMSE: 0.0522\n",
      "Val MAR NRMSE: 0.0510\n",
      "Val MNAR NRMSE: 0.0596\n",
      "No improvement for 4 epochs\n",
      "\n",
      "Epoch 9/100\n"
     ]
    },
    {
     "name": "stderr",
     "output_type": "stream",
     "text": [
      "Training: 100%|██████████| 9/9 [00:03<00:00,  2.99it/s, loss=4.5]  \n"
     ]
    },
    {
     "name": "stdout",
     "output_type": "stream",
     "text": [
      "Train Loss: 2.0219\n",
      "Val Loss: 1.8789\n",
      "Val NRMSE: 0.0488\n",
      "Val MCAR NRMSE: 0.0432\n",
      "Val MAR NRMSE: 0.0400\n",
      "Val MNAR NRMSE: 0.0631\n",
      "No improvement for 5 epochs\n",
      "\n",
      "Epoch 10/100\n"
     ]
    },
    {
     "name": "stderr",
     "output_type": "stream",
     "text": [
      "Training: 100%|██████████| 9/9 [00:02<00:00,  3.08it/s, loss=0.901]\n"
     ]
    },
    {
     "name": "stdout",
     "output_type": "stream",
     "text": [
      "Train Loss: 1.4885\n",
      "Val Loss: 1.9105\n",
      "Val NRMSE: 0.0497\n",
      "Val MCAR NRMSE: 0.0433\n",
      "Val MAR NRMSE: 0.0455\n",
      "Val MNAR NRMSE: 0.0602\n",
      "No improvement for 6 epochs\n",
      "\n",
      "Epoch 11/100\n"
     ]
    },
    {
     "name": "stderr",
     "output_type": "stream",
     "text": [
      "Training: 100%|██████████| 9/9 [00:02<00:00,  3.07it/s, loss=2.81] \n"
     ]
    },
    {
     "name": "stdout",
     "output_type": "stream",
     "text": [
      "Train Loss: 1.3389\n",
      "Val Loss: 2.1437\n",
      "Val NRMSE: 0.0536\n",
      "Val MCAR NRMSE: 0.0400\n",
      "Val MAR NRMSE: 0.0475\n",
      "Val MNAR NRMSE: 0.0732\n",
      "No improvement for 7 epochs\n",
      "\n",
      "Epoch 12/100\n"
     ]
    },
    {
     "name": "stderr",
     "output_type": "stream",
     "text": [
      "Training: 100%|██████████| 9/9 [00:03<00:00,  2.95it/s, loss=0.7]  \n"
     ]
    },
    {
     "name": "stdout",
     "output_type": "stream",
     "text": [
      "Train Loss: 1.7186\n",
      "Val Loss: 1.8236\n",
      "Val NRMSE: 0.0487\n",
      "Val MCAR NRMSE: 0.0410\n",
      "Val MAR NRMSE: 0.0415\n",
      "Val MNAR NRMSE: 0.0635\n",
      "No improvement for 8 epochs\n",
      "\n",
      "Epoch 13/100\n"
     ]
    },
    {
     "name": "stderr",
     "output_type": "stream",
     "text": [
      "Training: 100%|██████████| 9/9 [00:02<00:00,  3.07it/s, loss=0.847]\n"
     ]
    },
    {
     "name": "stdout",
     "output_type": "stream",
     "text": [
      "Train Loss: 1.4722\n",
      "Val Loss: 1.8800\n",
      "Val NRMSE: 0.0499\n",
      "Val MCAR NRMSE: 0.0381\n",
      "Val MAR NRMSE: 0.0445\n",
      "Val MNAR NRMSE: 0.0670\n",
      "No improvement for 9 epochs\n",
      "\n",
      "Epoch 14/100\n"
     ]
    },
    {
     "name": "stderr",
     "output_type": "stream",
     "text": [
      "Training: 100%|██████████| 9/9 [00:03<00:00,  2.99it/s, loss=0.747]\n"
     ]
    },
    {
     "name": "stdout",
     "output_type": "stream",
     "text": [
      "Train Loss: 1.3366\n",
      "Val Loss: 1.9849\n",
      "Val NRMSE: 0.0501\n",
      "Val MCAR NRMSE: 0.0392\n",
      "Val MAR NRMSE: 0.0469\n",
      "Val MNAR NRMSE: 0.0641\n",
      "No improvement for 10 epochs\n",
      "\n",
      "Epoch 15/100\n"
     ]
    },
    {
     "name": "stderr",
     "output_type": "stream",
     "text": [
      "Training: 100%|██████████| 9/9 [00:03<00:00,  2.95it/s, loss=1.32] \n"
     ]
    },
    {
     "name": "stdout",
     "output_type": "stream",
     "text": [
      "Train Loss: 1.6387\n",
      "Val Loss: 2.3339\n",
      "Val NRMSE: 0.0572\n",
      "Val MCAR NRMSE: 0.0556\n",
      "Val MAR NRMSE: 0.0549\n",
      "Val MNAR NRMSE: 0.0610\n",
      "No improvement for 11 epochs\n",
      "\n",
      "Epoch 16/100\n"
     ]
    },
    {
     "name": "stderr",
     "output_type": "stream",
     "text": [
      "Training: 100%|██████████| 9/9 [00:03<00:00,  2.95it/s, loss=0.899]\n"
     ]
    },
    {
     "name": "stdout",
     "output_type": "stream",
     "text": [
      "Train Loss: 1.5136\n",
      "Val Loss: 2.1072\n",
      "Val NRMSE: 0.0535\n",
      "Val MCAR NRMSE: 0.0404\n",
      "Val MAR NRMSE: 0.0467\n",
      "Val MNAR NRMSE: 0.0734\n",
      "No improvement for 12 epochs\n",
      "\n",
      "Epoch 17/100\n"
     ]
    },
    {
     "name": "stderr",
     "output_type": "stream",
     "text": [
      "Training: 100%|██████████| 9/9 [00:03<00:00,  2.96it/s, loss=4.62]\n"
     ]
    },
    {
     "name": "stdout",
     "output_type": "stream",
     "text": [
      "Train Loss: 1.8424\n",
      "Val Loss: 1.7252\n",
      "Val NRMSE: 0.0480\n",
      "Val MCAR NRMSE: 0.0434\n",
      "Val MAR NRMSE: 0.0397\n",
      "Val MNAR NRMSE: 0.0609\n",
      "No improvement for 13 epochs\n",
      "\n",
      "Epoch 18/100\n"
     ]
    },
    {
     "name": "stderr",
     "output_type": "stream",
     "text": [
      "Training: 100%|██████████| 9/9 [00:03<00:00,  2.84it/s, loss=4.95] \n"
     ]
    },
    {
     "name": "stdout",
     "output_type": "stream",
     "text": [
      "Train Loss: 1.8099\n",
      "Val Loss: 2.1961\n",
      "Val NRMSE: 0.0551\n",
      "Val MCAR NRMSE: 0.0536\n",
      "Val MAR NRMSE: 0.0517\n",
      "Val MNAR NRMSE: 0.0600\n",
      "No improvement for 14 epochs\n",
      "\n",
      "Epoch 19/100\n"
     ]
    },
    {
     "name": "stderr",
     "output_type": "stream",
     "text": [
      "Training: 100%|██████████| 9/9 [00:03<00:00,  2.93it/s, loss=2.04] \n"
     ]
    },
    {
     "name": "stdout",
     "output_type": "stream",
     "text": [
      "Train Loss: 1.9983\n",
      "Val Loss: 2.0737\n",
      "Val NRMSE: 0.0515\n",
      "Val MCAR NRMSE: 0.0385\n",
      "Val MAR NRMSE: 0.0506\n",
      "Val MNAR NRMSE: 0.0655\n",
      "No improvement for 15 epochs\n",
      "\n",
      "Epoch 20/100\n"
     ]
    },
    {
     "name": "stderr",
     "output_type": "stream",
     "text": [
      "Training: 100%|██████████| 9/9 [00:02<00:00,  3.01it/s, loss=0.736]\n"
     ]
    },
    {
     "name": "stdout",
     "output_type": "stream",
     "text": [
      "Train Loss: 1.6365\n",
      "Val Loss: 1.7274\n",
      "Val NRMSE: 0.0478\n",
      "Val MCAR NRMSE: 0.0409\n",
      "Val MAR NRMSE: 0.0406\n",
      "Val MNAR NRMSE: 0.0620\n",
      "No improvement for 16 epochs\n",
      "\n",
      "Epoch 21/100\n"
     ]
    },
    {
     "name": "stderr",
     "output_type": "stream",
     "text": [
      "Training: 100%|██████████| 9/9 [00:03<00:00,  2.96it/s, loss=1.58]\n"
     ]
    },
    {
     "name": "stdout",
     "output_type": "stream",
     "text": [
      "Train Loss: 2.1233\n",
      "Val Loss: 2.6151\n",
      "Val NRMSE: 0.0593\n",
      "Val MCAR NRMSE: 0.0611\n",
      "Val MAR NRMSE: 0.0558\n",
      "Val MNAR NRMSE: 0.0612\n",
      "No improvement for 17 epochs\n",
      "\n",
      "Epoch 22/100\n"
     ]
    },
    {
     "name": "stderr",
     "output_type": "stream",
     "text": [
      "Training: 100%|██████████| 9/9 [00:02<00:00,  3.05it/s, loss=0.685]\n"
     ]
    },
    {
     "name": "stdout",
     "output_type": "stream",
     "text": [
      "Train Loss: 1.6497\n",
      "Val Loss: 1.8083\n",
      "Val NRMSE: 0.0486\n",
      "Val MCAR NRMSE: 0.0382\n",
      "Val MAR NRMSE: 0.0416\n",
      "Val MNAR NRMSE: 0.0661\n",
      "No improvement for 18 epochs\n",
      "\n",
      "Epoch 23/100\n"
     ]
    },
    {
     "name": "stderr",
     "output_type": "stream",
     "text": [
      "Training: 100%|██████████| 9/9 [00:03<00:00,  2.97it/s, loss=3.02] \n"
     ]
    },
    {
     "name": "stdout",
     "output_type": "stream",
     "text": [
      "Train Loss: 2.0416\n",
      "Val Loss: 1.8782\n",
      "Val NRMSE: 0.0499\n",
      "Val MCAR NRMSE: 0.0469\n",
      "Val MAR NRMSE: 0.0427\n",
      "Val MNAR NRMSE: 0.0601\n",
      "No improvement for 19 epochs\n",
      "\n",
      "Epoch 24/100\n"
     ]
    },
    {
     "name": "stderr",
     "output_type": "stream",
     "text": [
      "Training: 100%|██████████| 9/9 [00:02<00:00,  3.02it/s, loss=1.51] \n"
     ]
    },
    {
     "name": "stdout",
     "output_type": "stream",
     "text": [
      "Train Loss: 1.9459\n",
      "Val Loss: 2.0848\n",
      "Val NRMSE: 0.0516\n",
      "Val MCAR NRMSE: 0.0481\n",
      "Val MAR NRMSE: 0.0469\n",
      "Val MNAR NRMSE: 0.0599\n",
      "No improvement for 20 epochs\n",
      "\n",
      "Epoch 25/100\n"
     ]
    },
    {
     "name": "stderr",
     "output_type": "stream",
     "text": [
      "Training: 100%|██████████| 9/9 [00:02<00:00,  3.09it/s, loss=5.01] \n"
     ]
    },
    {
     "name": "stdout",
     "output_type": "stream",
     "text": [
      "Train Loss: 1.7766\n",
      "Val Loss: 1.9843\n",
      "Val NRMSE: 0.0496\n",
      "Val MCAR NRMSE: 0.0379\n",
      "Val MAR NRMSE: 0.0456\n",
      "Val MNAR NRMSE: 0.0652\n",
      "No improvement for 21 epochs\n",
      "\n",
      "Epoch 26/100\n"
     ]
    },
    {
     "name": "stderr",
     "output_type": "stream",
     "text": [
      "Training: 100%|██████████| 9/9 [00:02<00:00,  3.02it/s, loss=1.14] \n"
     ]
    },
    {
     "name": "stdout",
     "output_type": "stream",
     "text": [
      "Train Loss: 1.4451\n",
      "Val Loss: 1.7607\n",
      "Val NRMSE: 0.0485\n",
      "Val MCAR NRMSE: 0.0422\n",
      "Val MAR NRMSE: 0.0423\n",
      "Val MNAR NRMSE: 0.0611\n",
      "No improvement for 22 epochs\n",
      "\n",
      "Epoch 27/100\n"
     ]
    },
    {
     "name": "stderr",
     "output_type": "stream",
     "text": [
      "Training: 100%|██████████| 9/9 [00:02<00:00,  3.03it/s, loss=1]    \n"
     ]
    },
    {
     "name": "stdout",
     "output_type": "stream",
     "text": [
      "Train Loss: 1.6571\n",
      "Val Loss: 1.9835\n",
      "Val NRMSE: 0.0501\n",
      "Val MCAR NRMSE: 0.0384\n",
      "Val MAR NRMSE: 0.0486\n",
      "Val MNAR NRMSE: 0.0634\n",
      "No improvement for 23 epochs\n",
      "\n",
      "Epoch 28/100\n"
     ]
    },
    {
     "name": "stderr",
     "output_type": "stream",
     "text": [
      "Training: 100%|██████████| 9/9 [00:03<00:00,  2.80it/s, loss=1.05] \n"
     ]
    },
    {
     "name": "stdout",
     "output_type": "stream",
     "text": [
      "Train Loss: 2.2706\n",
      "Val Loss: 2.2860\n",
      "Val NRMSE: 0.0541\n",
      "Val MCAR NRMSE: 0.0526\n",
      "Val MAR NRMSE: 0.0505\n",
      "Val MNAR NRMSE: 0.0591\n",
      "No improvement for 24 epochs\n",
      "\n",
      "Epoch 29/100\n"
     ]
    },
    {
     "name": "stderr",
     "output_type": "stream",
     "text": [
      "Training: 100%|██████████| 9/9 [00:02<00:00,  3.00it/s, loss=4.39]\n"
     ]
    },
    {
     "name": "stdout",
     "output_type": "stream",
     "text": [
      "Train Loss: 2.3905\n",
      "Val Loss: 1.8400\n",
      "Val NRMSE: 0.0502\n",
      "Val MCAR NRMSE: 0.0459\n",
      "Val MAR NRMSE: 0.0447\n",
      "Val MNAR NRMSE: 0.0600\n",
      "No improvement for 25 epochs\n",
      "Early stopping after 29 epochs\n",
      "Fold 3 metrics:\n",
      "  NRMSE: 0.0528\n",
      "  MCAR NRMSE: 0.0508\n",
      "  MAR NRMSE: 0.0474\n",
      "  MNAR NRMSE: 0.0604\n",
      "\n",
      "Average metrics across folds:\n",
      "  NRMSE: 0.0601 ± 0.0056\n",
      "  MCAR NRMSE: 0.0513 ± 0.0023\n",
      "  MAR NRMSE: 0.0540 ± 0.0051\n",
      "  MNAR NRMSE: 0.0751 ± 0.0107\n",
      "\n",
      "Using single model for final training.\n",
      "\n",
      "=== Training Final Model ===\n",
      "Starting model training...\n",
      "Creating single transformer model...\n",
      "\n",
      "Epoch 1/20\n"
     ]
    },
    {
     "name": "stderr",
     "output_type": "stream",
     "text": [
      "Training: 100%|██████████| 11/11 [00:01<00:00,  8.08it/s, loss=0.977]\n"
     ]
    },
    {
     "name": "stdout",
     "output_type": "stream",
     "text": [
      "Train Loss: 1.4481\n",
      "Val Loss: 2.2627\n",
      "Val NRMSE: 0.0490\n",
      "Val MCAR NRMSE: 0.0399\n",
      "Val MAR NRMSE: 0.0443\n",
      "Val MNAR NRMSE: 0.0629\n",
      "New best validation loss: 2.2627\n",
      "\n",
      "Epoch 2/20\n"
     ]
    },
    {
     "name": "stderr",
     "output_type": "stream",
     "text": [
      "Training: 100%|██████████| 11/11 [00:01<00:00,  8.02it/s, loss=0.805]\n"
     ]
    },
    {
     "name": "stdout",
     "output_type": "stream",
     "text": [
      "Train Loss: 1.7946\n",
      "Val Loss: 1.9443\n",
      "Val NRMSE: 0.0456\n",
      "Val MCAR NRMSE: 0.0416\n",
      "Val MAR NRMSE: 0.0349\n",
      "Val MNAR NRMSE: 0.0604\n",
      "New best validation loss: 1.9443\n",
      "\n",
      "Epoch 3/20\n"
     ]
    },
    {
     "name": "stderr",
     "output_type": "stream",
     "text": [
      "Training: 100%|██████████| 11/11 [00:01<00:00,  7.95it/s, loss=1.67]\n"
     ]
    },
    {
     "name": "stdout",
     "output_type": "stream",
     "text": [
      "Train Loss: 1.7115\n",
      "Val Loss: 1.7551\n",
      "Val NRMSE: 0.0445\n",
      "Val MCAR NRMSE: 0.0397\n",
      "Val MAR NRMSE: 0.0380\n",
      "Val MNAR NRMSE: 0.0559\n",
      "New best validation loss: 1.7551\n",
      "\n",
      "Epoch 4/20\n"
     ]
    },
    {
     "name": "stderr",
     "output_type": "stream",
     "text": [
      "Training: 100%|██████████| 11/11 [00:01<00:00,  7.81it/s, loss=2.48] \n"
     ]
    },
    {
     "name": "stdout",
     "output_type": "stream",
     "text": [
      "Train Loss: 1.7906\n",
      "Val Loss: 1.7892\n",
      "Val NRMSE: 0.0449\n",
      "Val MCAR NRMSE: 0.0417\n",
      "Val MAR NRMSE: 0.0362\n",
      "Val MNAR NRMSE: 0.0569\n",
      "No improvement for 1 epochs\n",
      "\n",
      "Epoch 5/20\n"
     ]
    },
    {
     "name": "stderr",
     "output_type": "stream",
     "text": [
      "Training: 100%|██████████| 11/11 [00:01<00:00,  7.77it/s, loss=2.07]\n"
     ]
    },
    {
     "name": "stdout",
     "output_type": "stream",
     "text": [
      "Train Loss: 1.7225\n",
      "Val Loss: 2.2163\n",
      "Val NRMSE: 0.0495\n",
      "Val MCAR NRMSE: 0.0495\n",
      "Val MAR NRMSE: 0.0431\n",
      "Val MNAR NRMSE: 0.0558\n",
      "No improvement for 2 epochs\n",
      "\n",
      "Epoch 6/20\n"
     ]
    },
    {
     "name": "stderr",
     "output_type": "stream",
     "text": [
      "Training: 100%|██████████| 11/11 [00:01<00:00,  7.87it/s, loss=1.06]\n"
     ]
    },
    {
     "name": "stdout",
     "output_type": "stream",
     "text": [
      "Train Loss: 1.7050\n",
      "Val Loss: 1.7015\n",
      "Val NRMSE: 0.0437\n",
      "Val MCAR NRMSE: 0.0395\n",
      "Val MAR NRMSE: 0.0348\n",
      "Val MNAR NRMSE: 0.0567\n",
      "New best validation loss: 1.7015\n",
      "\n",
      "Epoch 7/20\n"
     ]
    },
    {
     "name": "stderr",
     "output_type": "stream",
     "text": [
      "Training: 100%|██████████| 11/11 [00:01<00:00,  8.00it/s, loss=1.29]\n"
     ]
    },
    {
     "name": "stdout",
     "output_type": "stream",
     "text": [
      "Train Loss: 1.7027\n",
      "Val Loss: 1.7217\n",
      "Val NRMSE: 0.0438\n",
      "Val MCAR NRMSE: 0.0349\n",
      "Val MAR NRMSE: 0.0378\n",
      "Val MNAR NRMSE: 0.0586\n",
      "No improvement for 1 epochs\n",
      "\n",
      "Epoch 8/20\n"
     ]
    },
    {
     "name": "stderr",
     "output_type": "stream",
     "text": [
      "Training: 100%|██████████| 11/11 [00:01<00:00,  7.77it/s, loss=2.03]\n"
     ]
    },
    {
     "name": "stdout",
     "output_type": "stream",
     "text": [
      "Train Loss: 1.7638\n",
      "Val Loss: 2.0054\n",
      "Val NRMSE: 0.0465\n",
      "Val MCAR NRMSE: 0.0421\n",
      "Val MAR NRMSE: 0.0421\n",
      "Val MNAR NRMSE: 0.0553\n",
      "No improvement for 2 epochs\n",
      "\n",
      "Epoch 9/20\n"
     ]
    },
    {
     "name": "stderr",
     "output_type": "stream",
     "text": [
      "Training: 100%|██████████| 11/11 [00:01<00:00,  8.07it/s, loss=2.96]\n"
     ]
    },
    {
     "name": "stdout",
     "output_type": "stream",
     "text": [
      "Train Loss: 1.6639\n",
      "Val Loss: 1.8984\n",
      "Val NRMSE: 0.0453\n",
      "Val MCAR NRMSE: 0.0420\n",
      "Val MAR NRMSE: 0.0352\n",
      "Val MNAR NRMSE: 0.0586\n",
      "No improvement for 3 epochs\n",
      "\n",
      "Epoch 10/20\n"
     ]
    },
    {
     "name": "stderr",
     "output_type": "stream",
     "text": [
      "Training: 100%|██████████| 11/11 [00:01<00:00,  7.83it/s, loss=1.39]\n"
     ]
    },
    {
     "name": "stdout",
     "output_type": "stream",
     "text": [
      "Train Loss: 1.8411\n",
      "Val Loss: 2.1381\n",
      "Val NRMSE: 0.0478\n",
      "Val MCAR NRMSE: 0.0449\n",
      "Val MAR NRMSE: 0.0416\n",
      "Val MNAR NRMSE: 0.0569\n",
      "No improvement for 4 epochs\n",
      "\n",
      "Epoch 11/20\n"
     ]
    },
    {
     "name": "stderr",
     "output_type": "stream",
     "text": [
      "Training: 100%|██████████| 11/11 [00:01<00:00,  7.74it/s, loss=2.12]\n"
     ]
    },
    {
     "name": "stdout",
     "output_type": "stream",
     "text": [
      "Train Loss: 1.9038\n",
      "Val Loss: 2.0263\n",
      "Val NRMSE: 0.0458\n",
      "Val MCAR NRMSE: 0.0363\n",
      "Val MAR NRMSE: 0.0407\n",
      "Val MNAR NRMSE: 0.0605\n",
      "No improvement for 5 epochs\n",
      "\n",
      "Epoch 12/20\n"
     ]
    },
    {
     "name": "stderr",
     "output_type": "stream",
     "text": [
      "Training: 100%|██████████| 11/11 [00:01<00:00,  7.86it/s, loss=0.834]\n"
     ]
    },
    {
     "name": "stdout",
     "output_type": "stream",
     "text": [
      "Train Loss: 1.5514\n",
      "Val Loss: 2.1115\n",
      "Val NRMSE: 0.0471\n",
      "Val MCAR NRMSE: 0.0417\n",
      "Val MAR NRMSE: 0.0407\n",
      "Val MNAR NRMSE: 0.0590\n",
      "No improvement for 6 epochs\n",
      "\n",
      "Epoch 13/20\n"
     ]
    },
    {
     "name": "stderr",
     "output_type": "stream",
     "text": [
      "Training: 100%|██████████| 11/11 [00:01<00:00,  7.90it/s, loss=1.65] \n"
     ]
    },
    {
     "name": "stdout",
     "output_type": "stream",
     "text": [
      "Train Loss: 1.4249\n",
      "Val Loss: 1.9316\n",
      "Val NRMSE: 0.0457\n",
      "Val MCAR NRMSE: 0.0366\n",
      "Val MAR NRMSE: 0.0418\n",
      "Val MNAR NRMSE: 0.0586\n",
      "No improvement for 7 epochs\n",
      "\n",
      "Epoch 14/20\n"
     ]
    },
    {
     "name": "stderr",
     "output_type": "stream",
     "text": [
      "Training: 100%|██████████| 11/11 [00:01<00:00,  8.02it/s, loss=1.09]\n"
     ]
    },
    {
     "name": "stdout",
     "output_type": "stream",
     "text": [
      "Train Loss: 1.8734\n",
      "Val Loss: 1.7910\n",
      "Val NRMSE: 0.0448\n",
      "Val MCAR NRMSE: 0.0400\n",
      "Val MAR NRMSE: 0.0372\n",
      "Val MNAR NRMSE: 0.0571\n",
      "No improvement for 8 epochs\n",
      "\n",
      "Epoch 15/20\n"
     ]
    },
    {
     "name": "stderr",
     "output_type": "stream",
     "text": [
      "Training: 100%|██████████| 11/11 [00:01<00:00,  8.02it/s, loss=1.14]\n"
     ]
    },
    {
     "name": "stdout",
     "output_type": "stream",
     "text": [
      "Train Loss: 1.1606\n",
      "Val Loss: 1.6997\n",
      "Val NRMSE: 0.0433\n",
      "Val MCAR NRMSE: 0.0332\n",
      "Val MAR NRMSE: 0.0369\n",
      "Val MNAR NRMSE: 0.0597\n",
      "New best validation loss: 1.6997\n",
      "\n",
      "Epoch 16/20\n"
     ]
    },
    {
     "name": "stderr",
     "output_type": "stream",
     "text": [
      "Training: 100%|██████████| 11/11 [00:01<00:00,  7.92it/s, loss=0.865]\n"
     ]
    },
    {
     "name": "stdout",
     "output_type": "stream",
     "text": [
      "Train Loss: 1.5445\n",
      "Val Loss: 2.1256\n",
      "Val NRMSE: 0.0475\n",
      "Val MCAR NRMSE: 0.0418\n",
      "Val MAR NRMSE: 0.0427\n",
      "Val MNAR NRMSE: 0.0579\n",
      "No improvement for 1 epochs\n",
      "\n",
      "Epoch 17/20\n"
     ]
    },
    {
     "name": "stderr",
     "output_type": "stream",
     "text": [
      "Training: 100%|██████████| 11/11 [00:01<00:00,  7.81it/s, loss=1.27]\n"
     ]
    },
    {
     "name": "stdout",
     "output_type": "stream",
     "text": [
      "Train Loss: 1.4877\n",
      "Val Loss: 2.1209\n",
      "Val NRMSE: 0.0474\n",
      "Val MCAR NRMSE: 0.0406\n",
      "Val MAR NRMSE: 0.0439\n",
      "Val MNAR NRMSE: 0.0578\n",
      "No improvement for 2 epochs\n",
      "\n",
      "Epoch 18/20\n"
     ]
    },
    {
     "name": "stderr",
     "output_type": "stream",
     "text": [
      "Training: 100%|██████████| 11/11 [00:01<00:00,  8.10it/s, loss=0.755]\n"
     ]
    },
    {
     "name": "stdout",
     "output_type": "stream",
     "text": [
      "Train Loss: 1.2662\n",
      "Val Loss: 2.0143\n",
      "Val NRMSE: 0.0468\n",
      "Val MCAR NRMSE: 0.0396\n",
      "Val MAR NRMSE: 0.0431\n",
      "Val MNAR NRMSE: 0.0578\n",
      "No improvement for 3 epochs\n",
      "\n",
      "Epoch 19/20\n"
     ]
    },
    {
     "name": "stderr",
     "output_type": "stream",
     "text": [
      "Training: 100%|██████████| 11/11 [00:01<00:00,  8.40it/s, loss=0.796]\n"
     ]
    },
    {
     "name": "stdout",
     "output_type": "stream",
     "text": [
      "Train Loss: 1.0687\n",
      "Val Loss: 1.8996\n",
      "Val NRMSE: 0.0453\n",
      "Val MCAR NRMSE: 0.0343\n",
      "Val MAR NRMSE: 0.0438\n",
      "Val MNAR NRMSE: 0.0577\n",
      "No improvement for 4 epochs\n",
      "\n",
      "Epoch 20/20\n"
     ]
    },
    {
     "name": "stderr",
     "output_type": "stream",
     "text": [
      "Training: 100%|██████████| 11/11 [00:01<00:00,  7.97it/s, loss=2.84] \n"
     ]
    },
    {
     "name": "stdout",
     "output_type": "stream",
     "text": [
      "Train Loss: 2.0432\n",
      "Val Loss: 2.1546\n",
      "Val NRMSE: 0.0478\n",
      "Val MCAR NRMSE: 0.0436\n",
      "Val MAR NRMSE: 0.0420\n",
      "Val MNAR NRMSE: 0.0576\n",
      "No improvement for 5 epochs\n"
     ]
    },
    {
     "data": {
      "image/png": "[encoded data removed]",
      "text/plain": [
       "<Figure size 2000x1200 with 3 Axes>"
      ]
     },
     "metadata": {},
     "output_type": "display_data"
    },
    {
     "name": "stdout",
     "output_type": "stream",
     "text": [
      "\n",
      "=== Evaluating on Test Set ===\n",
      "Test metrics:\n",
      "  Overall NRMSE: 0.0559\n",
      "  MCAR NRMSE: 0.0509\n",
      "  MAR NRMSE: 0.0490\n",
      "  MNAR NRMSE: 0.0677\n",
      "\n",
      "=== Saving Models ===\n",
      "Training complete! All models and results saved in: models\\2025-04-15_22-07-12_model-ensemble+5Fold\n"
     ]
    }
   ],
   "source": [
    "# Main execution code\n",
    "if __name__ == \"__main__\":\n",
    "    # Configuration\n",
    "    config = {\n",
    "        # Data parameters\n",
    "        \"data_path\": \"./data/physionet_39_features_only_no_leakage.csv\",\n",
    "        \"test_size\": 0.2,\n",
    "        \"val_size\": 0.1,\n",
    "        \n",
    "        # Model parameters\n",
    "        \"d_model\": 384,              \n",
    "        \"num_heads\": 12,             \n",
    "        \"num_layers\": 6,            \n",
    "        \"dim_feedforward\": 1536,    \n",
    "        \"dropout\": 0.15,             \n",
    "        \"activation\": \"gelu\",\n",
    "        \n",
    "        # Training parameters\n",
    "        \"batch_size\": 128,          \n",
    "        \"learning_rate\": 0.0001,     \n",
    "        \"weight_decay\": 0.005,       \n",
    "        \"num_epochs\": 20,           \n",
    "        \"patience\": 25,              \n",
    "        \"missing_fraction\": 0.3,\n",
    "        \n",
    "        \"warmup_steps_pct\": 0.2,     # Shorter warmup phase\n",
    "        \"min_lr_factor\": 5000.0,     # Slower final decay\n",
    "        \n",
    "        # Save parameters\n",
    "        \"save_dir\": \"models\"\n",
    "    }\n",
    "    \n",
    "    # Create directories with timestamp\n",
    "    current_time = datetime.now().strftime(\"%Y-%m-%d_%H-%M-%S\")\n",
    "    save_dir = os.path.join(config[\"save_dir\"], f\"{current_time}_model-ensemble+5Fold\")\n",
    "    os.makedirs(save_dir, exist_ok=True)\n",
    "    \n",
    "    # Create experiment log file\n",
    "    experiment_log = os.path.join(save_dir, \"experiment_log.txt\")\n",
    "    with open(experiment_log, \"w\") as f:\n",
    "        f.write(f\"Experiment started at: {current_time}\\n\")\n",
    "        f.write(\"Configuration:\\n\")\n",
    "        for key, value in config.items():\n",
    "            f.write(f\"  {key}: {value}\\n\")\n",
    "    \n",
    "    # Load and prepare data\n",
    "    train_data, val_data, test_data, scaler, column_indices = load_and_prepare_data(\n",
    "        config[\"data_path\"],\n",
    "        config[\"test_size\"],\n",
    "        config[\"val_size\"]\n",
    "    )\n",
    "    \n",
    "    # Add flag to control whether to run k-fold validation\n",
    "    RUN_KFOLD = True\n",
    "    \n",
    "    if RUN_KFOLD:\n",
    "        print(\"\\n=== Running K-Fold Cross-Validation ===\")\n",
    "        # Combine train and validation data for k-fold\n",
    "        combined_data = torch.cat([train_data, val_data], dim=0)\n",
    "        \n",
    "        # Set a smaller number of epochs for k-fold to save time\n",
    "        kfold_config = config.copy()\n",
    "        kfold_config[\"num_epochs\"] = 100  # Reduced epochs for k-fold\n",
    "        \n",
    "        # Run k-fold validation with single model\n",
    "        print(\"\\n---- K-Fold with Single Model ----\")\n",
    "        cv_metrics_single, _ = cross_validate_model(\n",
    "            combined_data, \n",
    "            column_indices, \n",
    "            kfold_config, \n",
    "            n_folds=5,\n",
    "            model_type=\"single\"\n",
    "        )\n",
    "        \n",
    "        # Run k-fold validation with ensemble model\n",
    "        print(\"\\n---- K-Fold with Ensemble Model ----\")\n",
    "        cv_metrics_ensemble, _ = cross_validate_model(\n",
    "            combined_data, \n",
    "            column_indices, \n",
    "            kfold_config, \n",
    "            n_folds=3,  # Fewer folds for ensemble to save time\n",
    "            model_type=\"ensemble\"\n",
    "        )\n",
    "        \n",
    "        # Save cross-validation results\n",
    "        cv_results_path = os.path.join(save_dir, \"cv_results.txt\")\n",
    "        with open(cv_results_path, \"w\") as f:\n",
    "            f.write(\"Single Model Cross-Validation Results:\\n\")\n",
    "            f.write(f\"  NRMSE: {cv_metrics_single['nrmse']:.4f} ± {cv_metrics_single['nrmse_std']:.4f}\\n\")\n",
    "            f.write(f\"  MCAR NRMSE: {cv_metrics_single['mcar_nrmse']:.4f} ± {cv_metrics_single['mcar_nrmse_std']:.4f}\\n\")\n",
    "            f.write(f\"  MAR NRMSE: {cv_metrics_single['mar_nrmse']:.4f} ± {cv_metrics_single['mar_nrmse_std']:.4f}\\n\")\n",
    "            f.write(f\"  MNAR NRMSE: {cv_metrics_single['mnar_nrmse']:.4f} ± {cv_metrics_single['mnar_nrmse_std']:.4f}\\n\\n\")\n",
    "            \n",
    "            f.write(\"Ensemble Model Cross-Validation Results:\\n\")\n",
    "            f.write(f\"  NRMSE: {cv_metrics_ensemble['nrmse']:.4f} ± {cv_metrics_ensemble['nrmse_std']:.4f}\\n\")\n",
    "            f.write(f\"  MCAR NRMSE: {cv_metrics_ensemble['mcar_nrmse']:.4f} ± {cv_metrics_ensemble['mcar_nrmse_std']:.4f}\\n\")\n",
    "            f.write(f\"  MAR NRMSE: {cv_metrics_ensemble['mar_nrmse']:.4f} ± {cv_metrics_ensemble['mar_nrmse_std']:.4f}\\n\")\n",
    "            f.write(f\"  MNAR NRMSE: {cv_metrics_ensemble['mnar_nrmse']:.4f} ± {cv_metrics_ensemble['mnar_nrmse_std']:.4f}\\n\")\n",
    "    \n",
    "    # Choose model type based on cross-validation results (if performed)\n",
    "    if RUN_KFOLD and cv_metrics_ensemble['nrmse'] < cv_metrics_single['nrmse']:\n",
    "        print(\"\\nEnsemble model performed better in cross-validation. Using ensemble for final model.\")\n",
    "        final_model_type = \"ensemble\"\n",
    "    else:\n",
    "        print(\"\\nUsing single model for final training.\")\n",
    "        final_model_type = \"single\"\n",
    "    \n",
    "    # Train final model on the entire training set\n",
    "    print(\"\\n=== Training Final Model ===\")\n",
    "    model, history = train_model(train_data, val_data, column_indices, config, model_type=final_model_type)\n",
    "    \n",
    "    # Plot training history\n",
    "    plot_training_history(history, os.path.join(save_dir, \"training_history.png\"))\n",
    "    \n",
    "\n",
    "    # Evaluate on test set\n",
    "    print(\"\\n=== Evaluating on Test Set ===\")\n",
    "    test_dataloader = DataLoader(TensorDataset(test_data), batch_size=config[\"batch_size\"])\n",
    "    test_metrics = validate(model, test_dataloader, config[\"missing_fraction\"], [\"MCAR\", \"MAR\", \"MNAR\"])\n",
    "    \n",
    "    print(f\"Test metrics:\")\n",
    "    print(f\"  Overall NRMSE: {test_metrics['nrmse']:.4f}\")\n",
    "    print(f\"  MCAR NRMSE: {test_metrics['mechanisms']['MCAR']['nrmse']:.4f}\")\n",
    "    print(f\"  MAR NRMSE: {test_metrics['mechanisms']['MAR']['nrmse']:.4f}\")\n",
    "    print(f\"  MNAR NRMSE: {test_metrics['mechanisms']['MNAR']['nrmse']:.4f}\")\n",
    "    \n",
    "    \n",
    "    \n",
    "    # Save test results\n",
    "    test_results_path = os.path.join(save_dir, \"test_results.txt\")\n",
    "    with open(test_results_path, \"w\") as f:\n",
    "        f.write(\"Test Results:\\n\")\n",
    "        f.write(f\"  Overall NRMSE: {test_metrics['nrmse']:.4f}\\n\")\n",
    "        f.write(f\"  MCAR NRMSE: {test_metrics['mechanisms']['MCAR']['nrmse']:.4f}\\n\")\n",
    "        f.write(f\"  MAR NRMSE: {test_metrics['mechanisms']['MAR']['nrmse']:.4f}\\n\")\n",
    "        f.write(f\"  MNAR NRMSE: {test_metrics['mechanisms']['MNAR']['nrmse']:.4f}\\n\")\n",
    "    \n",
    "    # Save models\n",
    "    print(f\"\\n=== Saving Models ===\")\n",
    "    \n",
    "    # Save final model\n",
    "    model_save_path = os.path.join(save_dir, \"final_model.pth\")\n",
    "    torch.save({\n",
    "        \"model_state_dict\": model.state_dict(),\n",
    "        \"config\": config,\n",
    "        \"model_type\": final_model_type\n",
    "    }, model_save_path)\n",
    "    \n",
    "    # Save scaler\n",
    "    scaler_path = os.path.join(save_dir, \"scaler.pkl\")\n",
    "    with open(scaler_path, \"wb\") as f:\n",
    "        pickle.dump(scaler, f)\n",
    "    \n",
    "    # Update experiment log\n",
    "    with open(experiment_log, \"a\") as f:\n",
    "        f.write(\"\\nFinal Test Results:\\n\")\n",
    "        f.write(f\"  Overall NRMSE: {test_metrics['nrmse']:.4f}\\n\")\n",
    "        f.write(f\"  MCAR NRMSE: {test_metrics['mechanisms']['MCAR']['nrmse']:.4f}\\n\")\n",
    "        f.write(f\"  MAR NRMSE: {test_metrics['mechanisms']['MAR']['nrmse']:.4f}\\n\")\n",
    "        f.write(f\"  MNAR NRMSE: {test_metrics['mechanisms']['MNAR']['nrmse']:.4f}\\n\")\n",
    "        \n",
    "        f.write(f\"\\nExperiment completed at: {datetime.now().strftime('%Y-%m-%d_%H-%M-%S')}\")\n",
    "\n",
    "    print(f\"Training complete! All models and results saved in: {save_dir}\")\n",
    "\n"
   ]
  },
  {
   "cell_type": "markdown",
   "metadata": {},
   "source": [
    "## Model testing"
   ]
  },
  {
   "cell_type": "code",
   "execution_count": 26,
   "metadata": {},
   "outputs": [],
   "source": [
    "def evaluate_imputation_performance(model, test_data, column_indices, missing_percentages=[0.1, 0.2, 0.3, 0.4, 0.5], \n",
    "                                    mechanisms=[\"MCAR\", \"MAR\", \"MNAR\"]):\n",
    "    \"\"\"\n",
    "    Evaluate the model's imputation performance across different missing percentages and mechanisms.\n",
    "    \n",
    "    Args:\n",
    "        model (nn.Module): Trained model\n",
    "        test_data (torch.Tensor): Test data tensor\n",
    "        column_indices (torch.Tensor): Column indices\n",
    "        missing_percentages (list): List of missing data percentages to evaluate\n",
    "        mechanisms (list): List of missing data mechanisms to evaluate\n",
    "        \n",
    "    Returns:\n",
    "        pd.DataFrame: DataFrame with NRMSE results for each mechanism and percentage\n",
    "    \"\"\"\n",
    "    model.eval()\n",
    "    results = {}\n",
    "    \n",
    "    with torch.no_grad():\n",
    "        for mechanism in mechanisms:\n",
    "            mechanism_results = []\n",
    "            \n",
    "            for missing_pct in missing_percentages:\n",
    "                batch_size = 128\n",
    "                total_nrmse = 0\n",
    "                num_batches = 0\n",
    "                \n",
    "                # Create DataLoader for test data\n",
    "                test_dataloader = DataLoader(TensorDataset(test_data), batch_size=batch_size)\n",
    "                \n",
    "                for batch in tqdm(test_dataloader, desc=f\"Evaluating {mechanism} at {missing_pct*100}%\"):\n",
    "                    x = batch[0].to(device)\n",
    "                    \n",
    "                    # Create a mask for missing values\n",
    "                    mask = create_missing_mask(x, missing_pct, mechanism)\n",
    "                    \n",
    "                    # Create input with missing values set to 0\n",
    "                    x_masked = x.clone()\n",
    "                    x_masked[mask == 1] = 0\n",
    "                    \n",
    "                    # Forward pass\n",
    "                    predictions = model(x_masked, column_indices, mask)\n",
    "                    \n",
    "                    # Compute NRMSE\n",
    "                    nrmse = compute_nrmse(predictions, x, mask)\n",
    "                    total_nrmse += nrmse\n",
    "                    num_batches += 1\n",
    "                \n",
    "                avg_nrmse = total_nrmse / num_batches\n",
    "                mechanism_results.append(avg_nrmse)\n",
    "                print(f\"{mechanism} at {missing_pct*100}% missing: NRMSE = {avg_nrmse:.4f}\")\n",
    "            \n",
    "            results[mechanism] = mechanism_results\n",
    "    \n",
    "    # Create a DataFrame for visualization\n",
    "    results_df = pd.DataFrame(results, index=[f\"{int(pct*100)}%\" for pct in missing_percentages])\n",
    "    results_df.index.name = \"Missing Percentage\"\n",
    "    \n",
    "    return results_df"
   ]
  },
  {
   "cell_type": "code",
   "execution_count": 27,
   "metadata": {},
   "outputs": [],
   "source": [
    "def visualize_imputation_performance(results_df, save_path=None):\n",
    "    \"\"\"\n",
    "    Create visualizations for imputation performance.\n",
    "    \n",
    "    Args:\n",
    "        results_df (pd.DataFrame): DataFrame with NRMSE results\n",
    "        save_path (str, optional): Path to save the figures\n",
    "    \"\"\"\n",
    "    # 1. Create a heatmap visualization\n",
    "    plt.figure(figsize=(10, 6))\n",
    "    \n",
    "    # Create a heatmap with custom colormap (lower values = better = greener)\n",
    "    sns.heatmap(results_df, annot=True, cmap=\"RdYlGn_r\", fmt=\".4f\", \n",
    "                linewidths=.5, cbar_kws={'label': 'NRMSE (lower is better)'})\n",
    "    \n",
    "    plt.title(\"Imputation Performance (NRMSE) by Missing Mechanism and Percentage\")\n",
    "    plt.tight_layout()\n",
    "    \n",
    "    if save_path:\n",
    "        heatmap_path = save_path.replace(\".png\", \"_heatmap.png\")\n",
    "        plt.savefig(heatmap_path)\n",
    "        print(f\"Heatmap saved to {heatmap_path}\")\n",
    "    \n",
    "    plt.show()\n",
    "    \n",
    "    # 2. Create a line plot\n",
    "    plt.figure(figsize=(12, 6))\n",
    "    \n",
    "    # Convert index to numeric for plotting\n",
    "    results_df_plot = results_df.copy()\n",
    "    results_df_plot.index = [int(idx.replace(\"%\", \"\")) for idx in results_df_plot.index]\n",
    "    \n",
    "    # Plot lines for each mechanism\n",
    "    for column in results_df_plot.columns:\n",
    "        plt.plot(results_df_plot.index, results_df_plot[column], marker='o', linewidth=2, label=column)\n",
    "    \n",
    "    plt.xlabel(\"Missing Percentage (%)\")\n",
    "    plt.ylabel(\"NRMSE (lower is better)\")\n",
    "    plt.title(\"Imputation Performance Across Missing Percentages\")\n",
    "    plt.grid(True, linestyle='--', alpha=0.7)\n",
    "    plt.legend()\n",
    "    plt.xticks(results_df_plot.index)\n",
    "    \n",
    "    if save_path:\n",
    "        line_path = save_path.replace(\".png\", \"_lineplot.png\")\n",
    "        plt.savefig(line_path)\n",
    "        print(f\"Line plot saved to {line_path}\")\n",
    "    \n",
    "    plt.show()\n",
    "    \n",
    "    # 3. Create a bar chart comparison\n",
    "    plt.figure(figsize=(12, 6))\n",
    "    \n",
    "    # Plot grouped bars\n",
    "    bar_width = 0.25\n",
    "    r = np.arange(len(results_df_plot.index))\n",
    "    \n",
    "    # Plot bars for each mechanism\n",
    "    for i, column in enumerate(results_df_plot.columns):\n",
    "        plt.bar(r + i*bar_width, results_df_plot[column], width=bar_width, label=column)\n",
    "    \n",
    "    # Add labels and legend\n",
    "    plt.xlabel(\"Missing Percentage (%)\")\n",
    "    plt.ylabel(\"NRMSE (lower is better)\")\n",
    "    plt.title(\"Imputation Performance by Missing Mechanism and Percentage\")\n",
    "    plt.xticks(r + bar_width, results_df_plot.index)\n",
    "    plt.legend()\n",
    "    \n",
    "    if save_path:\n",
    "        bar_path = save_path.replace(\".png\", \"_barchart.png\")\n",
    "        plt.savefig(bar_path)\n",
    "        print(f\"Bar chart saved to {bar_path}\")\n",
    "    \n",
    "    plt.show()\n",
    "    \n",
    "    # 4. Create a table visualization\n",
    "    fig, ax = plt.subplots(figsize=(10, 3))\n",
    "    ax.axis('off')\n",
    "    ax.axis('tight')\n",
    "    \n",
    "    # Create a table with colored cells based on values\n",
    "    # First, normalize the data for coloring\n",
    "    norm_data = results_df.copy()\n",
    "    for col in norm_data.columns:\n",
    "        max_val = norm_data[col].max()\n",
    "        min_val = norm_data[col].min()\n",
    "        if max_val > min_val:\n",
    "            norm_data[col] = (norm_data[col] - min_val) / (max_val - min_val)\n",
    "        else:\n",
    "            norm_data[col] = 0\n",
    "    \n",
    "    # Create a table with cell colors\n",
    "    cell_colors = plt.cm.RdYlGn_r(norm_data.values)\n",
    "    table = ax.table(cellText=results_df.values.round(4), \n",
    "                    rowLabels=results_df.index,\n",
    "                    colLabels=results_df.columns,\n",
    "                    cellColours=cell_colors,\n",
    "                    loc='center')\n",
    "    \n",
    "    table.auto_set_font_size(False)\n",
    "    table.set_fontsize(12)\n",
    "    table.scale(1.2, 1.5)\n",
    "    \n",
    "    plt.title(\"NRMSE Values by Missing Mechanism and Percentage\", y=0.8)\n",
    "    \n",
    "    if save_path:\n",
    "        table_path = save_path.replace(\".png\", \"_table.png\")\n",
    "        plt.savefig(table_path, bbox_inches='tight')\n",
    "        print(f\"Table visualization saved to {table_path}\")\n",
    "    \n",
    "    plt.show()\n",
    "    \n",
    "    return results_df"
   ]
  },
  {
   "cell_type": "code",
   "execution_count": 28,
   "metadata": {},
   "outputs": [
    {
     "name": "stdout",
     "output_type": "stream",
     "text": [
      "\n",
      "=== Evaluating Imputation Performance Across Missing Percentages ===\n"
     ]
    },
    {
     "name": "stderr",
     "output_type": "stream",
     "text": [
      "Evaluating MCAR at 10.0%: 100%|██████████| 4/4 [00:00<00:00, 29.62it/s]\n"
     ]
    },
    {
     "name": "stdout",
     "output_type": "stream",
     "text": [
      "MCAR at 10.0% missing: NRMSE = 0.0553\n"
     ]
    },
    {
     "name": "stderr",
     "output_type": "stream",
     "text": [
      "Evaluating MCAR at 20.0%: 100%|██████████| 4/4 [00:00<00:00, 30.35it/s]\n"
     ]
    },
    {
     "name": "stdout",
     "output_type": "stream",
     "text": [
      "MCAR at 20.0% missing: NRMSE = 0.0514\n"
     ]
    },
    {
     "name": "stderr",
     "output_type": "stream",
     "text": [
      "Evaluating MCAR at 30.0%: 100%|██████████| 4/4 [00:00<00:00, 30.20it/s]\n"
     ]
    },
    {
     "name": "stdout",
     "output_type": "stream",
     "text": [
      "MCAR at 30.0% missing: NRMSE = 0.0497\n"
     ]
    },
    {
     "name": "stderr",
     "output_type": "stream",
     "text": [
      "Evaluating MCAR at 40.0%: 100%|██████████| 4/4 [00:00<00:00, 30.88it/s]\n"
     ]
    },
    {
     "name": "stdout",
     "output_type": "stream",
     "text": [
      "MCAR at 40.0% missing: NRMSE = 0.0489\n"
     ]
    },
    {
     "name": "stderr",
     "output_type": "stream",
     "text": [
      "Evaluating MCAR at 50.0%: 100%|██████████| 4/4 [00:00<00:00, 29.51it/s]\n"
     ]
    },
    {
     "name": "stdout",
     "output_type": "stream",
     "text": [
      "MCAR at 50.0% missing: NRMSE = 0.0523\n"
     ]
    },
    {
     "name": "stderr",
     "output_type": "stream",
     "text": [
      "Evaluating MAR at 10.0%: 100%|██████████| 4/4 [00:00<00:00, 19.86it/s]\n"
     ]
    },
    {
     "name": "stdout",
     "output_type": "stream",
     "text": [
      "MAR at 10.0% missing: NRMSE = 0.0418\n"
     ]
    },
    {
     "name": "stderr",
     "output_type": "stream",
     "text": [
      "Evaluating MAR at 20.0%: 100%|██████████| 4/4 [00:00<00:00, 19.88it/s]\n"
     ]
    },
    {
     "name": "stdout",
     "output_type": "stream",
     "text": [
      "MAR at 20.0% missing: NRMSE = 0.0567\n"
     ]
    },
    {
     "name": "stderr",
     "output_type": "stream",
     "text": [
      "Evaluating MAR at 30.0%: 100%|██████████| 4/4 [00:00<00:00, 19.22it/s]\n"
     ]
    },
    {
     "name": "stdout",
     "output_type": "stream",
     "text": [
      "MAR at 30.0% missing: NRMSE = 0.0624\n"
     ]
    },
    {
     "name": "stderr",
     "output_type": "stream",
     "text": [
      "Evaluating MAR at 40.0%: 100%|██████████| 4/4 [00:00<00:00, 18.70it/s]\n"
     ]
    },
    {
     "name": "stdout",
     "output_type": "stream",
     "text": [
      "MAR at 40.0% missing: NRMSE = 0.0559\n"
     ]
    },
    {
     "name": "stderr",
     "output_type": "stream",
     "text": [
      "Evaluating MAR at 50.0%: 100%|██████████| 4/4 [00:00<00:00, 19.85it/s]\n"
     ]
    },
    {
     "name": "stdout",
     "output_type": "stream",
     "text": [
      "MAR at 50.0% missing: NRMSE = 0.0511\n"
     ]
    },
    {
     "name": "stderr",
     "output_type": "stream",
     "text": [
      "Evaluating MNAR at 10.0%: 100%|██████████| 4/4 [00:00<00:00, 19.27it/s]\n"
     ]
    },
    {
     "name": "stdout",
     "output_type": "stream",
     "text": [
      "MNAR at 10.0% missing: NRMSE = 0.0731\n"
     ]
    },
    {
     "name": "stderr",
     "output_type": "stream",
     "text": [
      "Evaluating MNAR at 20.0%: 100%|██████████| 4/4 [00:00<00:00, 19.13it/s]\n"
     ]
    },
    {
     "name": "stdout",
     "output_type": "stream",
     "text": [
      "MNAR at 20.0% missing: NRMSE = 0.0748\n"
     ]
    },
    {
     "name": "stderr",
     "output_type": "stream",
     "text": [
      "Evaluating MNAR at 30.0%: 100%|██████████| 4/4 [00:00<00:00, 20.16it/s]\n"
     ]
    },
    {
     "name": "stdout",
     "output_type": "stream",
     "text": [
      "MNAR at 30.0% missing: NRMSE = 0.0680\n"
     ]
    },
    {
     "name": "stderr",
     "output_type": "stream",
     "text": [
      "Evaluating MNAR at 40.0%: 100%|██████████| 4/4 [00:00<00:00, 20.19it/s]\n"
     ]
    },
    {
     "name": "stdout",
     "output_type": "stream",
     "text": [
      "MNAR at 40.0% missing: NRMSE = 0.0630\n"
     ]
    },
    {
     "name": "stderr",
     "output_type": "stream",
     "text": [
      "Evaluating MNAR at 50.0%: 100%|██████████| 4/4 [00:00<00:00, 19.88it/s]\n"
     ]
    },
    {
     "name": "stdout",
     "output_type": "stream",
     "text": [
      "MNAR at 50.0% missing: NRMSE = 0.0583\n",
      "Raw imputation results saved to models\\2025-04-15_22-07-12_model-ensemble+5Fold\\imputation_performance\\imputation_results.csv\n",
      "Heatmap saved to models\\2025-04-15_22-07-12_model-ensemble+5Fold\\imputation_performance\\imputation_performance_heatmap.png\n"
     ]
    },
    {
     "data": {
      "image/png": "[encoded data removed]",
      "text/plain": [
       "<Figure size 1000x600 with 2 Axes>"
      ]
     },
     "metadata": {},
     "output_type": "display_data"
    },
    {
     "name": "stdout",
     "output_type": "stream",
     "text": [
      "Line plot saved to models\\2025-04-15_22-07-12_model-ensemble+5Fold\\imputation_performance\\imputation_performance_lineplot.png\n"
     ]
    },
    {
     "data": {
      "image/png": "[encoded data removed]",
      "text/plain": [
       "<Figure size 1200x600 with 1 Axes>"
      ]
     },
     "metadata": {},
     "output_type": "display_data"
    },
    {
     "name": "stdout",
     "output_type": "stream",
     "text": [
      "Bar chart saved to models\\2025-04-15_22-07-12_model-ensemble+5Fold\\imputation_performance\\imputation_performance_barchart.png\n"
     ]
    },
    {
     "data": {
      "image/png": "[encoded data removed]",
      "text/plain": [
       "<Figure size 1200x600 with 1 Axes>"
      ]
     },
     "metadata": {},
     "output_type": "display_data"
    },
    {
     "name": "stdout",
     "output_type": "stream",
     "text": [
      "Table visualization saved to models\\2025-04-15_22-07-12_model-ensemble+5Fold\\imputation_performance\\imputation_performance_table.png\n"
     ]
    },
    {
     "data": {
      "image/png": "[encoded data removed]",
      "text/plain": [
       "<Figure size 1000x300 with 1 Axes>"
      ]
     },
     "metadata": {},
     "output_type": "display_data"
    },
    {
     "name": "stdout",
     "output_type": "stream",
     "text": [
      "\n",
      "Imputation performance evaluation complete!\n"
     ]
    }
   ],
   "source": [
    "if __name__ == \"__main__\":\n",
    "    # Create a section for imputation performance evaluation\n",
    "    print(\"\\n=== Evaluating Imputation Performance Across Missing Percentages ===\")\n",
    "    \n",
    "    # Define the missing percentages to evaluate\n",
    "    missing_percentages = [0.1, 0.2, 0.3, 0.4, 0.5]\n",
    "    mechanisms = [\"MCAR\", \"MAR\", \"MNAR\"]\n",
    "    \n",
    "    # Create a directory for imputation performance visualizations\n",
    "    imputation_dir = os.path.join(save_dir, \"imputation_performance\")\n",
    "    os.makedirs(imputation_dir, exist_ok=True)\n",
    "    \n",
    "    # Evaluate imputation performance\n",
    "    results_df = evaluate_imputation_performance(\n",
    "        model,                    # Use the final trained model\n",
    "        test_data,                # Test data\n",
    "        column_indices,           # Column indices\n",
    "        missing_percentages,      # Missing percentages\n",
    "        mechanisms                # Missing mechanisms\n",
    "    )\n",
    "    \n",
    "    # Save the raw results to CSV\n",
    "    results_csv_path = os.path.join(imputation_dir, \"imputation_results.csv\")\n",
    "    results_df.to_csv(results_csv_path)\n",
    "    print(f\"Raw imputation results saved to {results_csv_path}\")\n",
    "    \n",
    "    # Create and save visualizations\n",
    "    visualize_imputation_performance(\n",
    "        results_df,\n",
    "        save_path=os.path.join(imputation_dir, \"imputation_performance.png\")\n",
    "    )\n",
    "        \n",
    "    print(\"\\nImputation performance evaluation complete!\")"
   ]
  },
  {
   "cell_type": "markdown",
   "metadata": {},
   "source": [
    "## Impute the original dataset"
   ]
  },
  {
   "cell_type": "code",
   "execution_count": 29,
   "metadata": {},
   "outputs": [],
   "source": [
    "def impute_original_dataset(trained_model, scaler, save_path=\"imputed_original.csv\"):\n",
    "    \"\"\"\n",
    "    Load the original CSV dataset, impute missing values using the pre-trained transformer model,\n",
    "    and save the imputed dataset.\n",
    "    \n",
    "    Args:\n",
    "        trained_model: The pre-trained imputation model\n",
    "        scaler: The fitted scaler used during model training\n",
    "        save_path: Path to save the imputed dataset\n",
    "    \"\"\"\n",
    "    print(\"\\n=== Imputing Original Dataset ===\")\n",
    "    \n",
    "    # Set model to evaluation mode\n",
    "    trained_model.eval()\n",
    "    \n",
    "    # File path\n",
    "    original_file_path = \"./data/physionet_39_features_only_no_leakage.csv\"\n",
    "    \n",
    "    # Load the original dataset\n",
    "    print(f\"Loading original dataset from {original_file_path}...\")\n",
    "    df_original = pd.read_csv(original_file_path, index_col=None)\n",
    "    print(f\"Original dataset shape: {df_original.shape}\")\n",
    "    \n",
    "    # Check for missing values\n",
    "    missing_count = df_original.isna().sum().sum()\n",
    "    missing_percentage = (missing_count / (df_original.shape[0] * df_original.shape[1])) * 100\n",
    "    print(f\"Dataset contains {missing_count} missing values ({missing_percentage:.2f}% of all values)\")\n",
    "    \n",
    "    # Create a copy of the original dataset for imputation\n",
    "    df_imputed = df_original.copy()\n",
    "    \n",
    "    # Extract numerical columns for imputation\n",
    "    numerical_cols = df_original.select_dtypes(include=['number']).columns\n",
    "    print(f\"Found {len(numerical_cols)} numerical columns\")\n",
    "    \n",
    "    # Create mask for missing values (True where values are missing)\n",
    "    missing_mask = df_original[numerical_cols].isna()\n",
    "    \n",
    "    # Fill missing values with 0 for initial processing\n",
    "    df_filled = df_original[numerical_cols].fillna(0)\n",
    "    \n",
    "    # Scale the data using the provided scaler\n",
    "    data_scaled = scaler.transform(df_filled)\n",
    "    \n",
    "    # Convert to PyTorch tensor\n",
    "    data_tensor = torch.tensor(data_scaled, dtype=torch.float32).to(device)\n",
    "    \n",
    "    # Create column indices tensor\n",
    "    column_indices = torch.arange(data_tensor.shape[1]).to(device)\n",
    "    \n",
    "    # Create mask tensor (1 where values are missing, 0 otherwise)\n",
    "    mask_tensor = torch.tensor(missing_mask.values, dtype=torch.int).to(device)\n",
    "    \n",
    "    print(\"Performing imputation with trained model...\")\n",
    "    \n",
    "    with torch.no_grad():\n",
    "        # Get predictions from the model\n",
    "        imputed_tensor = trained_model(data_tensor, column_indices, mask_tensor)\n",
    "        \n",
    "        # Convert to numpy for processing\n",
    "        imputed_np = imputed_tensor.cpu().numpy()\n",
    "        \n",
    "        # Inverse transform to original scale\n",
    "        imputed_np = scaler.inverse_transform(imputed_np)\n",
    "        \n",
    "        # Create a DataFrame from the imputed values\n",
    "        imputed_df = pd.DataFrame(imputed_np, columns=numerical_cols, index=df_original.index)\n",
    "        \n",
    "        # Replace missing values in the original dataframe with imputed values\n",
    "        for col in numerical_cols:\n",
    "            if col in df_imputed.columns:\n",
    "                missing_idx = df_imputed[col].isna()\n",
    "                df_imputed.loc[missing_idx, col] = imputed_df.loc[missing_idx, col]\n",
    "    \n",
    "    # Save the imputed dataset\n",
    "    print(f\"Saving imputed dataset to {save_path}...\")\n",
    "    df_imputed.to_csv(save_path)\n",
    "    \n",
    "    # Verification\n",
    "    missing_after = df_imputed[numerical_cols].isna().sum().sum()\n",
    "    print(f\"Missing values in numerical columns after imputation: {missing_after}\")\n",
    "    \n",
    "    total_missing_after = df_imputed.isna().sum().sum()\n",
    "    if total_missing_after > 0:\n",
    "        print(f\"Total missing values after imputation: {total_missing_after}\")\n",
    "        print(\"Note: Non-numerical columns may still contain missing values\")\n",
    "    else:\n",
    "        print(\"All missing values have been successfully imputed\")\n",
    "    \n",
    "    print(\"Imputation complete!\")\n",
    "    \n",
    "    return df_imputed"
   ]
  },
  {
   "cell_type": "code",
   "execution_count": null,
   "metadata": {},
   "outputs": [
    {
     "name": "stdout",
     "output_type": "stream",
     "text": [
      "\n",
      "=== Running Imputation on Original Dataset ===\n",
      "\n",
      "=== Imputing Original Dataset ===\n",
      "Loading original dataset from ./data/physionet_39_features_only_no_leakage.csv...\n",
      "Original dataset shape: (2008, 39)\n",
      "Dataset contains 3063 missing values (3.91% of all values)\n",
      "Found 39 numerical columns\n",
      "Performing imputation with trained model...\n"
     ]
    },
    {
     "name": "stderr",
     "output_type": "stream",
     "text": [
      "c:\\Users\\wh1sper\\AppData\\Local\\Programs\\Python\\Python313\\Lib\\site-packages\\sklearn\\utils\\validation.py:2732: UserWarning: X has feature names, but StandardScaler was fitted without feature names\n",
      "  warnings.warn(\n"
     ]
    },
    {
     "name": "stdout",
     "output_type": "stream",
     "text": [
      "Saving imputed dataset to imputed_original.csv...\n",
      "Missing values in numerical columns after imputation: 0\n",
      "All missing values have been successfully imputed\n",
      "Imputation complete!\n",
      "\n",
      "Sample of imputed data:\n",
      "   verbal.response  eye.opening  movement  GCS  lactate.dehydrogenase  \\\n",
      "0                5            4         6   15             294.000000   \n",
      "1                5            4         6   15             203.000000   \n",
      "2                5            4         6   15             137.000000   \n",
      "3                5            4         6   15             348.338623   \n",
      "4                5            4         6   15             295.000000   \n",
      "\n",
      "   glutamic.oxaloacetic.transaminase  globulin  total.bilirubin  \\\n",
      "0                           81.00000      23.8             18.3   \n",
      "1                           21.00000      25.4             18.3   \n",
      "2                            9.00000      27.7             11.9   \n",
      "3                          152.15744      27.0             51.6   \n",
      "4                           30.00000      29.6             11.8   \n",
      "\n",
      "   direct.bilirubin  indirect.bilirubin  ...  platelet.hematocrit  \\\n",
      "0               6.9                11.4  ...                0.142   \n",
      "1               5.2                13.1  ...                0.139   \n",
      "2               4.4                 7.5  ...                0.203   \n",
      "3              25.4                26.2  ...                0.032   \n",
      "4               4.9                 6.9  ...                0.131   \n",
      "\n",
      "   eosinophil.ratio  eosinophil.count  basophil.ratio  basophil.count  \\\n",
      "0             0.002              0.02           0.006            0.05   \n",
      "1             0.009              0.05           0.002            0.01   \n",
      "2             0.002              0.02           0.002            0.03   \n",
      "3             0.028              0.06           0.000            0.00   \n",
      "4             0.008              0.05           0.002            0.01   \n",
      "\n",
      "   creatinine.enzymatic.method  cystatin  sodium  chloride  \\\n",
      "0                        108.3      1.32   134.6     101.9   \n",
      "1                         62.0      1.25   144.0     105.6   \n",
      "2                        185.1      2.43   142.2     107.0   \n",
      "3                        104.8      2.32   136.3     101.6   \n",
      "4                         83.9      1.35   136.6     104.3   \n",
      "\n",
      "   systolic.blood.pressure  \n",
      "0                      102  \n",
      "1                      150  \n",
      "2                      102  \n",
      "3                      110  \n",
      "4                      134  \n",
      "\n",
      "[5 rows x 39 columns]\n"
     ]
    },
    {
     "ename": "",
     "evalue": "",
     "output_type": "error",
     "traceback": [
      "\u001b[1;31mThe Kernel crashed while executing code in the current cell or a previous cell. \n",
      "\u001b[1;31mPlease review the code in the cell(s) to identify a possible cause of the failure. \n",
      "\u001b[1;31mClick <a href='https://aka.ms/vscodeJupyterKernelCrash'>here</a> for more info. \n",
      "\u001b[1;31mView Jupyter <a href='command:jupyter.viewOutput'>log</a> for further details."
     ]
    }
   ],
   "source": [
    "# Execute the imputation process\n",
    "if __name__ == \"__main__\":\n",
    "    print(\"\\n=== Running Imputation on Original Dataset ===\")\n",
    "    \n",
    "    # Use the already trained model\n",
    "    # Assuming 'model' and 'scaler' are the trained model and scaler from earlier in the notebook\n",
    "    imputed_data = impute_original_dataset(model, scaler, \"imputed_original.csv\")\n",
    "    \n",
    "    # Display sample of the imputed data\n",
    "    print(\"\\nSample of imputed data:\")\n",
    "    print(imputed_data.head())"
   ]
  },
  {
   "cell_type": "code",
   "execution_count": null,
   "metadata": {},
   "outputs": [],
   "source": []
  }
 ],
 "metadata": {
  "kernelspec": {
   "display_name": "Python 3",
   "language": "python",
   "name": "python3"
  },
  "language_info": {
   "codemirror_mode": {
    "name": "ipython",
    "version": 3
   },
   "file_extension": ".py",
   "mimetype": "text/x-python",
   "name": "python",
   "nbconvert_exporter": "python",
   "pygments_lexer": "ipython3",
   "version": "3.13.2"
  }
 },
 "nbformat": 4,
 "nbformat_minor": 2
}
