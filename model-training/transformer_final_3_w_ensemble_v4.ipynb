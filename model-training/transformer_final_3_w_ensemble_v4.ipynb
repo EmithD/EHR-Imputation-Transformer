{
 "cells": [
  {
   "cell_type": "code",
   "execution_count": 1,
   "metadata": {},
   "outputs": [],
   "source": [
    "import numpy as np\n",
    "import pandas as pd\n",
    "import torch\n",
    "import torch.nn as nn\n",
    "import torch.optim as optim\n",
    "from torch.utils.data import DataLoader, TensorDataset\n",
    "from sklearn.model_selection import train_test_split, KFold\n",
    "from sklearn.preprocessing import StandardScaler\n",
    "import matplotlib.pyplot as plt\n",
    "from tqdm import tqdm\n",
    "import random\n",
    "from datetime import datetime\n",
    "import pickle\n",
    "import os\n",
    "import json\n",
    "import seaborn as sns\n",
    "import math\n",
    "import torch.nn.functional as F\n"
   ]
  },
  {
   "cell_type": "code",
   "execution_count": 2,
   "metadata": {},
   "outputs": [],
   "source": [
    "SEED = 42\n",
    "random.seed(SEED)\n",
    "np.random.seed(SEED)\n",
    "torch.manual_seed(SEED)\n",
    "if torch.cuda.is_available():\n",
    "    torch.cuda.manual_seed_all(SEED)"
   ]
  },
  {
   "cell_type": "code",
   "execution_count": 3,
   "metadata": {},
   "outputs": [
    {
     "name": "stdout",
     "output_type": "stream",
     "text": [
      "Using device: cuda\n"
     ]
    }
   ],
   "source": [
    "device = torch.device('cuda' if torch.cuda.is_available() else 'cpu')\n",
    "print(f\"Using device: {device}\")"
   ]
  },
  {
   "cell_type": "code",
   "execution_count": 4,
   "metadata": {},
   "outputs": [],
   "source": [
    "class FeatureCorrelationModule(nn.Module):\n",
    "    \"\"\"\n",
    "    A module that explicitly models feature correlations to better handle MNAR scenarios.\n",
    "    \"\"\"\n",
    "    def __init__(self, num_features, d_model, dropout=0.1):\n",
    "        super().__init__()\n",
    "        self.correlation_proj = nn.Linear(d_model, d_model)\n",
    "        self.feature_gate = nn.Sequential(\n",
    "            nn.Linear(d_model, d_model),\n",
    "            nn.Sigmoid()\n",
    "        )\n",
    "        self.correlation_norm = nn.LayerNorm(d_model)\n",
    "        self.dropout = nn.Dropout(dropout)\n",
    "        \n",
    "    def forward(self, x, mask=None):\n",
    "        \"\"\"\n",
    "        Args:\n",
    "            x: Input features [batch_size, num_features, d_model]\n",
    "            mask: Missing value mask [batch_size, num_features]\n",
    "            \n",
    "        Returns:\n",
    "            Correlation-enhanced features\n",
    "        \"\"\"\n",
    "        batch_size, num_features, d_model = x.size()\n",
    "        \n",
    "        # Project features for correlation computation\n",
    "        x_proj = self.correlation_proj(x)\n",
    "        \n",
    "        # Compute pairwise feature correlations (scaled dot-product)\n",
    "        corr_matrix = torch.bmm(x_proj, x_proj.transpose(1, 2)) / math.sqrt(d_model)\n",
    "        \n",
    "        # If we have a mask, adjust correlation for missing values\n",
    "        if mask is not None:\n",
    "            # Create attention mask (1 for observed values, 0 for missing)\n",
    "            obs_mask = 1 - mask.float()\n",
    "            mask_matrix = torch.bmm(obs_mask.unsqueeze(2), obs_mask.unsqueeze(1))\n",
    "            \n",
    "            # Apply mask to correlation matrix (masked positions get -1e9)\n",
    "            masked_corr = corr_matrix.masked_fill(mask_matrix == 0, -1e9)\n",
    "            \n",
    "            # Softmax to get normalized correlation weights\n",
    "            corr_weights = F.softmax(masked_corr, dim=-1)\n",
    "        else:\n",
    "            corr_weights = F.softmax(corr_matrix, dim=-1)\n",
    "        \n",
    "        # Apply correlation weights to propagate information across features\n",
    "        corr_features = torch.bmm(corr_weights, x)\n",
    "        \n",
    "        # Compute feature-specific gates to control information flow\n",
    "        gates = self.feature_gate(x)\n",
    "        \n",
    "        # Gate the correlation features and apply residual connection\n",
    "        gated_corr = gates * corr_features\n",
    "        enhanced_features = x + self.dropout(gated_corr)\n",
    "        \n",
    "        # Apply layer normalization\n",
    "        enhanced_features = self.correlation_norm(enhanced_features)\n",
    "        \n",
    "        return enhanced_features\n"
   ]
  },
  {
   "cell_type": "code",
   "execution_count": 5,
   "metadata": {},
   "outputs": [],
   "source": [
    "class FeatureValueDependentEncoder(nn.Module):\n",
    "    \"\"\"\n",
    "    A module that explicitly models the relationship between feature values and missingness,\n",
    "    which is crucial for MNAR scenarios.\n",
    "    \"\"\"\n",
    "    def __init__(self, d_model, dropout=0.1):\n",
    "        super().__init__()\n",
    "        self.value_encoder = nn.Sequential(\n",
    "            nn.Linear(d_model, d_model),\n",
    "            nn.GELU(),\n",
    "            nn.Linear(d_model, d_model),\n",
    "            nn.LayerNorm(d_model)\n",
    "        )\n",
    "        self.missingness_encoder = nn.Sequential(\n",
    "            nn.Linear(1, d_model // 2),\n",
    "            nn.GELU(),\n",
    "            nn.Linear(d_model // 2, d_model),\n",
    "            nn.LayerNorm(d_model)\n",
    "        )\n",
    "        self.fusion_layer = nn.Sequential(\n",
    "            nn.Linear(d_model * 2, d_model),\n",
    "            nn.GELU(),\n",
    "            nn.Dropout(dropout),\n",
    "            nn.Linear(d_model, d_model),\n",
    "            nn.LayerNorm(d_model)\n",
    "        )\n",
    "        \n",
    "    def forward(self, x, mask=None):\n",
    "        \"\"\"\n",
    "        Args:\n",
    "            x: Input features [batch_size, num_features, d_model]\n",
    "            mask: Missing value mask [batch_size, num_features]\n",
    "            \n",
    "        Returns:\n",
    "            Features with enhanced MNAR understanding\n",
    "        \"\"\"\n",
    "        # Encode feature values\n",
    "        value_encoding = self.value_encoder(x)\n",
    "        \n",
    "        # If we have a mask, encode missingness patterns\n",
    "        if mask is not None:\n",
    "            # Encode missingness (expanded to match d_model dimension)\n",
    "            mask_encoding = self.missingness_encoder(mask.float().unsqueeze(-1))\n",
    "            \n",
    "            # Combine value and missingness encodings\n",
    "            combined = torch.cat([value_encoding, mask_encoding], dim=-1)\n",
    "            enhanced = self.fusion_layer(combined)\n",
    "        else:\n",
    "            # Without mask, just use value encoding\n",
    "            enhanced = value_encoding\n",
    "            \n",
    "        return enhanced\n"
   ]
  },
  {
   "cell_type": "code",
   "execution_count": 6,
   "metadata": {},
   "outputs": [],
   "source": [
    "class RelativePositionEncoding(nn.Module):\n",
    "    \"\"\"\n",
    "    Learnable relative position encoding for features in the transformer model.\n",
    "    This allows the model to understand relationships between features based on their positions.\n",
    "    \"\"\"\n",
    "    def __init__(self, max_seq_len, d_model):\n",
    "        super().__init__()\n",
    "        self.rel_pos_embedding = nn.Parameter(torch.randn(2 * max_seq_len - 1, d_model))\n",
    "        self.max_seq_len = max_seq_len\n",
    "        \n",
    "    def forward(self, x):\n",
    "        \"\"\"\n",
    "        Apply relative positional encodings to the input.\n",
    "        \n",
    "        Args:\n",
    "            x: Input tensor [batch_size, seq_len, d_model]\n",
    "            \n",
    "        Returns:\n",
    "            Tensor with relative positional information.\n",
    "        \"\"\"\n",
    "        seq_len = x.size(1)\n",
    "        pos_indices = torch.arange(seq_len, device=x.device)\n",
    "        rel_pos_indices = pos_indices.unsqueeze(1) - pos_indices.unsqueeze(0) + self.max_seq_len - 1\n",
    "        rel_pos_encoded = self.rel_pos_embedding[rel_pos_indices]\n",
    "        \n",
    "        return rel_pos_encoded"
   ]
  },
  {
   "cell_type": "code",
   "execution_count": 7,
   "metadata": {},
   "outputs": [],
   "source": [
    "class MultiHeadAttentionWithRelPos(nn.Module):\n",
    "    \"\"\"\n",
    "    Multi-head attention with relative positional encoding.\n",
    "    \"\"\"\n",
    "    def __init__(self, d_model, num_heads, dropout=0.1, max_seq_len=1000):\n",
    "        super().__init__()\n",
    "        assert d_model % num_heads == 0, \"d_model must be divisible by num_heads\"\n",
    "        \n",
    "        self.d_model = d_model\n",
    "        self.num_heads = num_heads\n",
    "        self.head_dim = d_model // num_heads\n",
    "        \n",
    "        # Linear projections for Q, K, V\n",
    "        self.q_proj = nn.Linear(d_model, d_model)\n",
    "        self.k_proj = nn.Linear(d_model, d_model)\n",
    "        self.v_proj = nn.Linear(d_model, d_model)\n",
    "        self.out_proj = nn.Linear(d_model, d_model)\n",
    "        \n",
    "        self.rel_pos_encoding = RelativePositionEncoding(max_seq_len, d_model)\n",
    "        \n",
    "        self.rel_pos_proj = nn.Linear(d_model, d_model)\n",
    "\n",
    "        self.scale = self.head_dim ** -0.5\n",
    "        \n",
    "        self.dropout = nn.Dropout(dropout)\n",
    "        \n",
    "    def forward(self, query, key, value, key_padding_mask=None, need_weights=False):\n",
    "        \"\"\"\n",
    "        Forward pass with relative positional encoding.\n",
    "        \n",
    "        Args:\n",
    "            query, key, value: Input tensors [batch_size, seq_len, d_model]\n",
    "            key_padding_mask: Mask for padded values [batch_size, seq_len]\n",
    "            need_weights: Whether to return attention weights\n",
    "            \n",
    "        Returns:\n",
    "            Output tensor and optionally attention weights\n",
    "        \"\"\"\n",
    "        batch_size = query.size(0)\n",
    "        seq_len = query.size(1)\n",
    "        \n",
    "        #Linear projections and reshape for multi-head attention\n",
    "        q = self.q_proj(query).view(batch_size, seq_len, self.num_heads, self.head_dim).transpose(1, 2)\n",
    "        k = self.k_proj(key).view(batch_size, seq_len, self.num_heads, self.head_dim).transpose(1, 2)\n",
    "        v = self.v_proj(value).view(batch_size, seq_len, self.num_heads, self.head_dim).transpose(1, 2)\n",
    "        \n",
    "        #content-based attention scores\n",
    "        attn_scores = torch.matmul(q, k.transpose(-2, -1)) * self.scale  # [batch, heads, seq_len, seq_len]\n",
    "        \n",
    "        rel_bias = torch.zeros((seq_len, seq_len), device=query.device)\n",
    "        positions = torch.arange(seq_len, device=query.device)\n",
    "        relative_positions = positions.unsqueeze(1) - positions.unsqueeze(0)\n",
    "\n",
    "        rel_bias = -torch.abs(relative_positions) * 0.1\n",
    "\n",
    "        attn_scores = attn_scores + rel_bias.unsqueeze(0).unsqueeze(0)\n",
    "\n",
    "        if key_padding_mask is not None:\n",
    "            attn_mask = key_padding_mask.unsqueeze(1).unsqueeze(2)\n",
    "            attn_scores = attn_scores.masked_fill(attn_mask, float('-inf'))\n",
    "\n",
    "        attn_weights = torch.softmax(attn_scores, dim=-1)\n",
    "        attn_weights = self.dropout(attn_weights)\n",
    "\n",
    "        output = torch.matmul(attn_weights, v)\n",
    "        output = output.transpose(1, 2).contiguous().view(batch_size, seq_len, self.d_model)\n",
    "\n",
    "        output = self.out_proj(output)\n",
    "        \n",
    "        if need_weights:\n",
    "            return output, attn_weights\n",
    "        else:\n",
    "            return output\n"
   ]
  },
  {
   "cell_type": "code",
   "execution_count": 8,
   "metadata": {},
   "outputs": [],
   "source": [
    "class RelativePositionTransformerLayer(nn.Module):\n",
    "    \"\"\"\n",
    "    Transformer encoder layer with relative positional encoding.\n",
    "    \"\"\"\n",
    "    def __init__(self, d_model, nhead, dim_feedforward=2048, dropout=0.1, \n",
    "                 activation=\"gelu\", max_seq_len=1000, norm_first=True):\n",
    "        super().__init__()\n",
    "\n",
    "        self.self_attn = MultiHeadAttentionWithRelPos(\n",
    "            d_model, nhead, dropout=dropout, max_seq_len=max_seq_len\n",
    "        )\n",
    "\n",
    "        #FFN\n",
    "        self.linear1 = nn.Linear(d_model, dim_feedforward)\n",
    "        self.linear2 = nn.Linear(dim_feedforward, d_model)\n",
    "\n",
    "        self.norm1 = nn.LayerNorm(d_model)\n",
    "        self.norm2 = nn.LayerNorm(d_model)\n",
    "        self.dropout = nn.Dropout(dropout)\n",
    "        self.dropout1 = nn.Dropout(dropout)\n",
    "        self.dropout2 = nn.Dropout(dropout)\n",
    "        \n",
    "        #Activation\n",
    "        self.activation = getattr(nn.functional, activation)\n",
    "        self.norm_first = norm_first\n",
    "        \n",
    "    def forward(self, src, src_key_padding_mask=None):\n",
    "        \"\"\"\n",
    "        Forward pass of the transformer layer.\n",
    "        \n",
    "        Args:\n",
    "            src: Input tensor [batch_size, seq_len, d_model]\n",
    "            src_key_padding_mask: Mask for padded values [batch_size, seq_len]\n",
    "            \n",
    "        Returns:\n",
    "            Processed tensor\n",
    "        \"\"\"\n",
    "        # Pre-norm architecture\n",
    "        if self.norm_first:\n",
    "            src2 = self.norm1(src)\n",
    "            src2 = self.self_attn(src2, src2, src2, key_padding_mask=src_key_padding_mask)\n",
    "            src = src + self.dropout1(src2)\n",
    "            \n",
    "            src2 = self.norm2(src)\n",
    "            src2 = self.linear2(self.dropout(self.activation(self.linear1(src2))))\n",
    "            src = src + self.dropout2(src2)\n",
    "        else:\n",
    "            # Multi-head attention block with post-normalization\n",
    "            src2 = self.self_attn(src, src, src, key_padding_mask=src_key_padding_mask)\n",
    "            src = self.norm1(src + self.dropout1(src2))\n",
    "            \n",
    "            # Feedforward block with post-normalization\n",
    "            src2 = self.linear2(self.dropout(self.activation(self.linear1(src))))\n",
    "            src = self.norm2(src + self.dropout2(src2))\n",
    "            \n",
    "        return src"
   ]
  },
  {
   "cell_type": "code",
   "execution_count": 9,
   "metadata": {},
   "outputs": [],
   "source": [
    "class RelativePositionTransformerEncoder(nn.Module):\n",
    "    \"\"\"\n",
    "    Transformer encoder with relative positional encoding.\n",
    "    \"\"\"\n",
    "    def __init__(self, encoder_layer, num_layers):\n",
    "        super().__init__()\n",
    "        self.layers = nn.ModuleList([encoder_layer for _ in range(num_layers)])\n",
    "        self.num_layers = num_layers\n",
    "        \n",
    "    def forward(self, src, mask=None):\n",
    "        \"\"\"\n",
    "        Forward pass of the transformer encoder.\n",
    "        \n",
    "        Args:\n",
    "            src: Input tensor [batch_size, seq_len, d_model]\n",
    "            mask: Mask for padded values [batch_size, seq_len]\n",
    "            \n",
    "        Returns:\n",
    "            Encoded tensor\n",
    "        \"\"\"\n",
    "        output = src\n",
    "        for layer in self.layers:\n",
    "            output = layer(output, src_key_padding_mask=mask)\n",
    "        return output"
   ]
  },
  {
   "cell_type": "code",
   "execution_count": 10,
   "metadata": {},
   "outputs": [],
   "source": [
    "class TabularTransformerWithRelPos(nn.Module):\n",
    "    \"\"\"\n",
    "    Enhanced transformer model for tabular data imputation with improved\n",
    "    MNAR handling through correlation modeling.\n",
    "    \"\"\"\n",
    "    def __init__(self, \n",
    "                 num_features, \n",
    "                 d_model=128, \n",
    "                 nhead=8, \n",
    "                 num_layers=3, \n",
    "                 dim_feedforward=512, \n",
    "                 dropout=0.1, \n",
    "                 activation='gelu',\n",
    "                 max_seq_len=1000):\n",
    "        super().__init__()\n",
    "        \n",
    "        self.d_model = d_model\n",
    "        self.num_features = num_features\n",
    "        \n",
    "        # Feature value embedding\n",
    "        self.value_embedding = nn.Sequential(\n",
    "            nn.Linear(1, d_model),\n",
    "            nn.LayerNorm(d_model),\n",
    "            nn.Dropout(dropout * 0.5),\n",
    "            nn.GELU(),\n",
    "            nn.Linear(d_model, d_model),\n",
    "            nn.LayerNorm(d_model)\n",
    "        )\n",
    "        \n",
    "        # Column embedding (learnable)\n",
    "        self.column_embedding = nn.Embedding(num_features, d_model)\n",
    "        \n",
    "        # Missing value embedding\n",
    "        self.missing_embedding = nn.Parameter(torch.randn(1, d_model))\n",
    "        \n",
    "        # Feature correlation module to model dependencies between features\n",
    "        self.feature_correlation = FeatureCorrelationModule(num_features, d_model, dropout)\n",
    "        \n",
    "        # Feature-value dependent encoder for MNAR awareness\n",
    "        self.feature_value_encoder = FeatureValueDependentEncoder(d_model, dropout)\n",
    "        \n",
    "        # Layer normalization before transformer\n",
    "        self.norm = nn.LayerNorm(d_model)\n",
    "        \n",
    "        # Create transformer encoder layers\n",
    "        encoder_layer = RelativePositionTransformerLayer(\n",
    "            d_model=d_model,\n",
    "            nhead=nhead,\n",
    "            dim_feedforward=dim_feedforward,\n",
    "            dropout=dropout,\n",
    "            activation=activation,\n",
    "            max_seq_len=max_seq_len,\n",
    "            norm_first=True\n",
    "        )\n",
    "        \n",
    "        # Create transformer encoder\n",
    "        self.transformer_encoder = RelativePositionTransformerEncoder(encoder_layer, num_layers)\n",
    "\n",
    "        # Output projection\n",
    "        self.output_projection = nn.Sequential(\n",
    "            nn.Linear(d_model, d_model),\n",
    "            nn.LayerNorm(d_model),\n",
    "            nn.GELU(),\n",
    "            nn.Dropout(dropout),\n",
    "            nn.Linear(d_model, d_model // 2),\n",
    "            nn.GELU(),\n",
    "            nn.Linear(d_model // 2, 1)\n",
    "        )\n",
    "        \n",
    "        # Initialize weights\n",
    "        self._init_weights()\n",
    "        \n",
    "    def _init_weights(self):\n",
    "        \"\"\"Initialize weights using Kaiming initialization for better convergence\"\"\"\n",
    "        for m in self.modules():\n",
    "            if isinstance(m, nn.Linear):\n",
    "                nn.init.kaiming_normal_(m.weight, mode='fan_in', nonlinearity='relu')\n",
    "                if m.bias is not None:\n",
    "                    nn.init.zeros_(m.bias)\n",
    "            elif isinstance(m, nn.Embedding):\n",
    "                nn.init.normal_(m.weight, mean=0.0, std=0.02)\n",
    "                \n",
    "    def _generate_attention_mask(self, mask):\n",
    "        \"\"\"Generate attention mask for transformer\"\"\"\n",
    "        if mask is None:\n",
    "            return None\n",
    "        attn_mask = mask.bool()\n",
    "        return attn_mask\n",
    "                \n",
    "    def forward(self, x, column_indices, mask=None):\n",
    "        \"\"\"\n",
    "        Forward pass with enhanced correlation modeling for MNAR patterns.\n",
    "        \n",
    "        Args:\n",
    "            x: Input tensor [batch_size, num_features]\n",
    "            column_indices: Tensor of column indices [num_features]\n",
    "            mask: Optional mask for missing values [batch_size, num_features]\n",
    "            \n",
    "        Returns:\n",
    "            Tensor of predicted values [batch_size, num_features]\n",
    "        \"\"\"\n",
    "        batch_size = x.size(0)\n",
    "        \n",
    "        # Reshape to [batch_size, num_features, 1] for embedding\n",
    "        x = x.unsqueeze(-1)\n",
    "        \n",
    "        # Embed feature values\n",
    "        x_embedded = self.value_embedding(x)\n",
    "        \n",
    "        # Add column embeddings\n",
    "        col_embed = self.column_embedding(column_indices).unsqueeze(0).expand(batch_size, -1, -1)\n",
    "        x_embedded = x_embedded + col_embed\n",
    "        \n",
    "        # Apply special handling for missing values\n",
    "        if mask is not None:\n",
    "            # Expand mask for broadcasting\n",
    "            mask_expanded = mask.unsqueeze(-1).expand_as(x_embedded)\n",
    "            # Replace embeddings for missing values with learned missing embedding\n",
    "            missing_embed = self.missing_embedding.expand_as(x_embedded)\n",
    "            x_embedded = torch.where(mask_expanded == 1, missing_embed, x_embedded)\n",
    "        \n",
    "        # Enhanced feature correlation modeling - key for MNAR patterns\n",
    "        x_correlated = self.feature_correlation(x_embedded, mask)\n",
    "        \n",
    "        # Feature-value dependent encoding - explicitly models relationship \n",
    "        # between values and missingness\n",
    "        x_value_aware = self.feature_value_encoder(x_correlated, mask)\n",
    "        \n",
    "        # Apply layer normalization\n",
    "        x_embedded = self.norm(x_value_aware)\n",
    "        \n",
    "        # Apply transformer encoder\n",
    "        attn_mask = self._generate_attention_mask(mask) if mask is not None else None\n",
    "        x_encoded = self.transformer_encoder(x_embedded, attn_mask)\n",
    "        \n",
    "        # Project to output\n",
    "        output = self.output_projection(x_encoded).squeeze(-1)\n",
    "        \n",
    "        return output"
   ]
  },
  {
   "cell_type": "code",
   "execution_count": 11,
   "metadata": {},
   "outputs": [],
   "source": [
    "class EnsembleModel(nn.Module):\n",
    "    \"\"\"\n",
    "    Ensemble of transformer models for improved prediction.\n",
    "    \"\"\"\n",
    "    def __init__(self, num_features, config, num_models=3):\n",
    "        super().__init__()\n",
    "        self.num_models = num_models\n",
    "        \n",
    "        # Create multiple base models\n",
    "        self.models = nn.ModuleList([\n",
    "            TabularTransformerWithRelPos(\n",
    "                num_features=num_features,\n",
    "                d_model=config[\"d_model\"],\n",
    "                nhead=config[\"num_heads\"],\n",
    "                num_layers=config[\"num_layers\"],\n",
    "                dim_feedforward=config[\"dim_feedforward\"],\n",
    "                dropout=config[\"dropout\"],\n",
    "                activation=config[\"activation\"],\n",
    "                max_seq_len=max(2 * num_features, 100)\n",
    "            ) for _ in range(num_models)\n",
    "        ])\n",
    "        \n",
    "    def forward(self, x, column_indices, mask=None):\n",
    "        # Get predictions from all models\n",
    "        all_preds = []\n",
    "        for model in self.models:\n",
    "            preds = model(x, column_indices, mask)\n",
    "            all_preds.append(preds.unsqueeze(0))\n",
    "        \n",
    "        # Stack and average predictions\n",
    "        all_preds = torch.cat(all_preds, dim=0)\n",
    "        avg_preds = torch.mean(all_preds, dim=0)\n",
    "        \n",
    "        return avg_preds"
   ]
  },
  {
   "cell_type": "code",
   "execution_count": 12,
   "metadata": {},
   "outputs": [],
   "source": [
    "def create_missing_mask(data, missing_fraction=0.2, mechanism=\"MCAR\"):\n",
    "    \"\"\"\n",
    "    Create a mask for missing values using different mechanisms.\n",
    "    \n",
    "    Args:\n",
    "        data (torch.Tensor): Input data tensor\n",
    "        missing_fraction (float): Fraction of values to mask\n",
    "        mechanism (str): One of \"MCAR\", \"MAR\", or \"MNAR\"\n",
    "        \n",
    "    Returns:\n",
    "        torch.Tensor: Binary mask (1 = missing, 0 = present)\n",
    "    \"\"\"\n",
    "    try:\n",
    "        # MCAR implementation - completely random\n",
    "        if mechanism == \"MCAR\":\n",
    "            mask = torch.rand(data.shape, device=data.device) < missing_fraction\n",
    "            return mask.int()\n",
    "        \n",
    "        # Simulated MAR (missing at random) implementation\n",
    "        # In MAR, missingness depends on observed values but not on missing values\n",
    "        elif mechanism == \"MAR\":\n",
    "            # Create a base random mask\n",
    "            mask = torch.zeros(data.shape, device=data.device, dtype=torch.int)\n",
    "            \n",
    "            # Number of features\n",
    "            num_features = data.shape[1]\n",
    "            \n",
    "            # For each column, make missingness depend on values in other columns\n",
    "            for col_idx in range(num_features):\n",
    "                # Choose a different column as predictor (wrapping around if needed)\n",
    "                predictor_col = (col_idx + 1) % num_features\n",
    "                \n",
    "                # Get predictor values\n",
    "                predictor_values = data[:, predictor_col]\n",
    "                \n",
    "                # Normalize predictor values to [0, 1] range\n",
    "                if predictor_values.max() > predictor_values.min():\n",
    "                    normalized_values = (predictor_values - predictor_values.min()) / (predictor_values.max() - predictor_values.min())\n",
    "                else:\n",
    "                    normalized_values = torch.zeros_like(predictor_values)\n",
    "                \n",
    "                # Higher predictor values = higher chance of missingness\n",
    "                # Add randomness to avoid making it purely deterministic\n",
    "                prob = normalized_values * 0.5 + torch.rand(data.shape[0], device=data.device) * 0.5\n",
    "                mask[:, col_idx] = (prob > (1 - missing_fraction)).int()\n",
    "            \n",
    "            return mask\n",
    "        \n",
    "        # Simulated MNAR (missing not at random) implementation\n",
    "        # In MNAR, missingness depends on the missing values themselves\n",
    "        elif mechanism == \"MNAR\":\n",
    "            # Create a base random mask\n",
    "            mask = torch.zeros(data.shape, device=data.device, dtype=torch.int)\n",
    "            \n",
    "            # For each column, make missingness depend on its own values\n",
    "            for col_idx in range(data.shape[1]):\n",
    "                # Get column values\n",
    "                col_values = data[:, col_idx]\n",
    "                \n",
    "                # Normalize values to [0, 1] range\n",
    "                if col_values.max() > col_values.min():\n",
    "                    normalized_values = (col_values - col_values.min()) / (col_values.max() - col_values.min())\n",
    "                else:\n",
    "                    normalized_values = torch.zeros_like(col_values)\n",
    "                \n",
    "                # For MNAR, higher values have higher probability of being missing\n",
    "                # Add randomness to avoid making it purely deterministic\n",
    "                prob = normalized_values * 0.7 + torch.rand(data.shape[0], device=data.device) * 0.3\n",
    "                mask[:, col_idx] = (prob > (1 - missing_fraction)).int()\n",
    "            \n",
    "            return mask\n",
    "        \n",
    "        # Default to MCAR if unknown mechanism\n",
    "        else:\n",
    "            print(f\"Unknown missing data mechanism: {mechanism}. Defaulting to MCAR.\")\n",
    "            return create_missing_mask(data, missing_fraction, \"MCAR\")\n",
    "            \n",
    "    except Exception as e:\n",
    "        print(f\"Error creating {mechanism} mask: {e}\")\n",
    "        # Fall back to MCAR if there's an error\n",
    "        return create_missing_mask(data, missing_fraction, \"MCAR\")"
   ]
  },
  {
   "cell_type": "code",
   "execution_count": 13,
   "metadata": {},
   "outputs": [],
   "source": [
    "def load_and_prepare_data(data_path, test_size=0.2, val_size=0.1, random_state=SEED):\n",
    "    \"\"\"\n",
    "    Load and prepare data for model training.\n",
    "    \n",
    "    Args:\n",
    "        data_path (str): Path to the CSV file\n",
    "        test_size (float): Proportion of data to use for testing\n",
    "        val_size (float): Proportion of training data to use for validation\n",
    "        random_state (int): Random seed for reproducibility\n",
    "        \n",
    "    Returns:\n",
    "        tuple: Preprocessed train, validation, test tensors, scaler, and column indices\n",
    "    \"\"\"\n",
    "    print(f\"Loading data from {data_path}\")\n",
    "    df = pd.read_csv(data_path, index_col=None)\n",
    "    \n",
    "    # Check for missing values\n",
    "    missing_count = df.isna().sum().sum()\n",
    "    if missing_count > 0:\n",
    "        print(f\"Warning: Dataset contains {missing_count} missing values. These will be handled in preprocessing.\")\n",
    "        # Simple imputation for missing values\n",
    "        df = df.fillna(df.mean())\n",
    "    \n",
    "    # Convert to numpy for preprocessing\n",
    "    data = df.to_numpy()\n",
    "    \n",
    "    # Split data into train and test\n",
    "    train_val_data, test_data = train_test_split(\n",
    "        data, \n",
    "        test_size=test_size, \n",
    "        random_state=random_state\n",
    "    )\n",
    "    \n",
    "    # Split train_val into train and validation\n",
    "    val_ratio = val_size / (1 - test_size)\n",
    "    train_data, val_data = train_test_split(\n",
    "        train_val_data,\n",
    "        test_size=val_ratio,\n",
    "        random_state=random_state\n",
    "    )\n",
    "    \n",
    "    # Normalize data\n",
    "    scaler = StandardScaler()\n",
    "    train_data_scaled = scaler.fit_transform(train_data)\n",
    "    val_data_scaled = scaler.transform(val_data)\n",
    "    test_data_scaled = scaler.transform(test_data)\n",
    "    \n",
    "    # Convert to PyTorch tensors\n",
    "    train_tensor = torch.tensor(train_data_scaled, dtype=torch.float32).to(device)\n",
    "    val_tensor = torch.tensor(val_data_scaled, dtype=torch.float32).to(device)\n",
    "    test_tensor = torch.tensor(test_data_scaled, dtype=torch.float32).to(device)\n",
    "    \n",
    "    # Create column indices\n",
    "    column_indices = torch.arange(train_tensor.shape[1]).to(device)\n",
    "    \n",
    "    print(f\"Dataset shape: {df.shape}\")\n",
    "    print(f\"Number of training samples: {train_tensor.shape[0]}\")\n",
    "    print(f\"Number of validation samples: {val_tensor.shape[0]}\")\n",
    "    print(f\"Number of test samples: {test_tensor.shape[0]}\")\n",
    "    print(f\"Number of features: {train_tensor.shape[1]}\")\n",
    "    \n",
    "    return train_tensor, val_tensor, test_tensor, scaler, column_indices"
   ]
  },
  {
   "cell_type": "code",
   "execution_count": 14,
   "metadata": {},
   "outputs": [],
   "source": [
    "def compute_mnar_weighted_loss(predictions, ground_truth, mask, mechanism=None):\n",
    "    \"\"\"\n",
    "    Compute loss with sophisticated weighting for MNAR scenarios based on\n",
    "    feature correlations and value magnitudes.\n",
    "    \n",
    "    Args:\n",
    "        predictions (torch.Tensor): Predicted values\n",
    "        ground_truth (torch.Tensor): True values\n",
    "        mask (torch.Tensor): Binary mask (1 = missing, 0 = present)\n",
    "        mechanism (str): Missing data mechanism (MCAR, MAR, MNAR)\n",
    "        \n",
    "    Returns:\n",
    "        torch.Tensor: Weighted loss\n",
    "    \"\"\"\n",
    "    batch_size, num_features = ground_truth.shape\n",
    "    mse_loss = nn.MSELoss(reduction='none')\n",
    "    element_loss = mse_loss(predictions, ground_truth)\n",
    "    \n",
    "    # Base mechanism-specific weighting\n",
    "    if mechanism == \"MNAR\":\n",
    "        base_weight = 2.0\n",
    "    elif mechanism == \"MAR\":\n",
    "        base_weight = 1.2\n",
    "    else:  # MCAR\n",
    "        base_weight = 1.0\n",
    "    \n",
    "    if mechanism == \"MNAR\":\n",
    "        # For MNAR, compute correlation-based weights\n",
    "        # First, get observed feature values\n",
    "        observed_mask = 1 - mask\n",
    "        \n",
    "        # Calculate feature statistics where observed\n",
    "        # For each feature, compute mean of observed values\n",
    "        feature_means = torch.zeros_like(ground_truth)\n",
    "        for i in range(num_features):\n",
    "            feat_observed = ground_truth[:, i] * observed_mask[:, i]\n",
    "            feat_count = observed_mask[:, i].sum() + 1e-8\n",
    "            feat_mean = feat_observed.sum() / feat_count\n",
    "            feature_means[:, i] = feat_mean\n",
    "        \n",
    "        # Calculate absolute deviation from feature mean\n",
    "        abs_deviation = torch.abs(ground_truth - feature_means)\n",
    "        \n",
    "        # Normalize deviations to [0, 1] range for each feature\n",
    "        max_devs = abs_deviation.max(dim=0, keepdim=True)[0]\n",
    "        min_devs = abs_deviation.min(dim=0, keepdim=True)[0]\n",
    "        range_devs = max_devs - min_devs + 1e-8\n",
    "        norm_deviation = (abs_deviation - min_devs) / range_devs\n",
    "        \n",
    "        # Higher deviations get higher weights (values far from mean are harder to predict in MNAR)\n",
    "        # This captures the dependency between the value itself and its missingness\n",
    "        value_weights = 1.0 + norm_deviation * 1.5\n",
    "        \n",
    "        # Final weights combine base weight with value-dependent weights\n",
    "        weights = base_weight * mask * value_weights\n",
    "    else:\n",
    "        # For MAR and MCAR, use simpler weighting\n",
    "        weights = base_weight * mask\n",
    "    \n",
    "    # Compute weighted average loss\n",
    "    weighted_loss = (element_loss * weights).sum() / (weights.sum() + 1e-8)\n",
    "    \n",
    "    return weighted_loss"
   ]
  },
  {
   "cell_type": "code",
   "execution_count": 15,
   "metadata": {},
   "outputs": [],
   "source": [
    "def compute_loss(predictions, ground_truth, mask, mechanism=None):\n",
    "    \"\"\"\n",
    "    Compute loss using the enhanced MNAR-weighted loss function.\n",
    "    \"\"\"\n",
    "    return compute_mnar_weighted_loss(predictions, ground_truth, mask, mechanism)"
   ]
  },
  {
   "cell_type": "code",
   "execution_count": 16,
   "metadata": {},
   "outputs": [],
   "source": [
    "def compute_rmse(predictions, ground_truth, mask):\n",
    "    \"\"\"\n",
    "    Compute Root Mean Squared Error on masked positions.\n",
    "    \n",
    "    Args:\n",
    "        predictions (torch.Tensor): Predicted values\n",
    "        ground_truth (torch.Tensor): True values\n",
    "        mask (torch.Tensor): Binary mask (1 = missing, 0 = present)\n",
    "        \n",
    "    Returns:\n",
    "        float: RMSE value\n",
    "    \"\"\"\n",
    "    masked_preds = predictions[mask == 1]\n",
    "    masked_truth = ground_truth[mask == 1]\n",
    "    \n",
    "    if len(masked_preds) == 0:\n",
    "        return 0.0\n",
    "    \n",
    "    mse = torch.mean((masked_preds - masked_truth) ** 2)\n",
    "    rmse = torch.sqrt(mse)\n",
    "    return rmse.item()"
   ]
  },
  {
   "cell_type": "code",
   "execution_count": 17,
   "metadata": {},
   "outputs": [],
   "source": [
    "def compute_nrmse(predictions, ground_truth, mask):\n",
    "    \"\"\"\n",
    "    Compute Normalized Root Mean Squared Error on masked positions.\n",
    "    \n",
    "    Args:\n",
    "        predictions (torch.Tensor): Predicted values\n",
    "        ground_truth (torch.Tensor): True values\n",
    "        mask (torch.Tensor): Binary mask (1 = missing, 0 = present)\n",
    "        \n",
    "    Returns:\n",
    "        float: NRMSE value\n",
    "    \"\"\"\n",
    "    masked_preds = predictions[mask == 1]\n",
    "    masked_truth = ground_truth[mask == 1]\n",
    "    \n",
    "    if len(masked_preds) == 0:\n",
    "        return 0.0\n",
    "    \n",
    "    mse = torch.mean((masked_preds - masked_truth) ** 2)\n",
    "    rmse = torch.sqrt(mse)\n",
    "    \n",
    "    data_range = ground_truth.max() - ground_truth.min()\n",
    "    nrmse = rmse / data_range\n",
    "    return nrmse.item()"
   ]
  },
  {
   "cell_type": "code",
   "execution_count": 18,
   "metadata": {},
   "outputs": [],
   "source": [
    "def train_epoch(model, dataloader, optimizer, missing_fraction, mechanisms=None, scheduler=None):\n",
    "    \"\"\"\n",
    "    Train for one epoch with mixup data augmentation and gradient clipping.\n",
    "    \n",
    "    Args:\n",
    "        model (nn.Module): Model to train\n",
    "        dataloader (DataLoader): Training data loader\n",
    "        optimizer (Optimizer): Optimizer\n",
    "        missing_fraction (float): Fraction of values to mask\n",
    "        mechanisms (list): List of missing data mechanisms to use\n",
    "        scheduler (LRScheduler, optional): Learning rate scheduler\n",
    "        \n",
    "    Returns:\n",
    "        dict: Dictionary with training metrics\n",
    "    \"\"\"\n",
    "    model.train()\n",
    "    total_loss = 0\n",
    "    \n",
    "    # Mixup probability\n",
    "    mixup_prob = 0.3\n",
    "    \n",
    "    if mechanisms is None:\n",
    "        mechanisms = [\"MCAR\"]\n",
    "    \n",
    "    progress_bar = tqdm(dataloader, desc=\"Training\")\n",
    "    for batch in progress_bar:\n",
    "        x = batch[0].to(device)\n",
    "        \n",
    "\n",
    "        mechanism = random.choice(mechanisms)\n",
    "        \n",
    "        # Create a mask for missing values\n",
    "        mask = create_missing_mask(x, missing_fraction, mechanism)\n",
    "        \n",
    "        # Create input with missing values set to 0\n",
    "        x_masked = x.clone()\n",
    "        x_masked[mask == 1] = 0\n",
    "        \n",
    "        # Apply mixup with probability\n",
    "        if random.random() < mixup_prob:\n",
    "            # Create shuffled indices\n",
    "            indices = torch.randperm(x.size(0), device=device)\n",
    "            \n",
    "            # Mix up samples with lambda drawn from beta distribution\n",
    "            lam = np.random.beta(0.2, 0.2)\n",
    "            \n",
    "            # Mix the data\n",
    "            mixed_x = lam * x_masked + (1 - lam) * x_masked[indices]\n",
    "            mixed_mask = mask | mask[indices]  # Union of masks\n",
    "            \n",
    "            # Forward pass with mixed data\n",
    "            optimizer.zero_grad()\n",
    "            column_indices = torch.arange(x.shape[1], device=device)\n",
    "            predictions = model(mixed_x, column_indices, mixed_mask)\n",
    "            \n",
    "            # Compute mixed loss\n",
    "            loss = lam * compute_loss(predictions, x, mask, mechanism) + \\\n",
    "                   (1 - lam) * compute_loss(predictions, x[indices], mask[indices], mechanism)\n",
    "        else:\n",
    "            # Standard forward pass\n",
    "            optimizer.zero_grad()\n",
    "            column_indices = torch.arange(x.shape[1], device=device)\n",
    "            predictions = model(x_masked, column_indices, mask)\n",
    "            \n",
    "            # Compute loss\n",
    "            loss = compute_loss(predictions, x, mask, mechanism)\n",
    "            \n",
    "        # Backward pass\n",
    "        loss.backward()\n",
    "        \n",
    "        # Add gradient clipping\n",
    "        torch.nn.utils.clip_grad_norm_(model.parameters(), 1.0)\n",
    "        \n",
    "        optimizer.step()\n",
    "        \n",
    "        if scheduler is not None:\n",
    "            scheduler.step()\n",
    "        \n",
    "        # Update progress bar\n",
    "        total_loss += loss.item()\n",
    "        progress_bar.set_postfix({\"loss\": loss.item()})\n",
    "    \n",
    "    avg_loss = total_loss / len(dataloader)\n",
    "    return {\"loss\": avg_loss}\n"
   ]
  },
  {
   "cell_type": "code",
   "execution_count": 19,
   "metadata": {},
   "outputs": [],
   "source": [
    "def validate(model, dataloader, missing_fraction, mechanisms=None):\n",
    "    \"\"\"\n",
    "    Validate the model on all mechanisms.\n",
    "    \n",
    "    Args:\n",
    "        model (nn.Module): Model to validate\n",
    "        dataloader (DataLoader): Validation data loader\n",
    "        missing_fraction (float): Fraction of values to mask\n",
    "        mechanisms (list): List of missing data mechanisms to use\n",
    "        \n",
    "    Returns:\n",
    "        dict: Dictionary with validation metrics\n",
    "    \"\"\"\n",
    "    model.eval()\n",
    "    total_loss = 0\n",
    "    total_rmse = 0\n",
    "    total_nrmse = 0\n",
    "    \n",
    "    if mechanisms is None:\n",
    "        mechanisms = [\"MCAR\"]\n",
    "    \n",
    "    mechanism_metrics = {m: {\"loss\": 0, \"rmse\": 0, \"nrmse\": 0, \"count\": 0} for m in mechanisms}\n",
    "    \n",
    "    with torch.no_grad():\n",
    "        for batch in dataloader:\n",
    "            x = batch[0].to(device)\n",
    "            \n",
    "            for mechanism in mechanisms:\n",
    "                # Create a mask for missing values\n",
    "                mask = create_missing_mask(x, missing_fraction, mechanism)\n",
    "                \n",
    "                # Create input with missing values set to 0\n",
    "                x_masked = x.clone()\n",
    "                x_masked[mask == 1] = 0\n",
    "                \n",
    "                # Forward pass\n",
    "                column_indices = torch.arange(x.shape[1], device=device)\n",
    "                predictions = model(x_masked, column_indices, mask)\n",
    "                \n",
    "                # Compute metrics\n",
    "                loss = compute_loss(predictions, x, mask)\n",
    "                rmse = compute_rmse(predictions, x, mask)\n",
    "                nrmse = compute_nrmse(predictions, x, mask)\n",
    "                \n",
    "                # Update mechanism-specific metrics\n",
    "                mechanism_metrics[mechanism][\"loss\"] += loss.item()\n",
    "                mechanism_metrics[mechanism][\"rmse\"] += rmse\n",
    "                mechanism_metrics[mechanism][\"nrmse\"] += nrmse\n",
    "                mechanism_metrics[mechanism][\"count\"] += 1\n",
    "                \n",
    "                # Update overall metrics\n",
    "                total_loss += loss.item()\n",
    "                total_rmse += rmse\n",
    "                total_nrmse += nrmse\n",
    "    \n",
    "    # Calculate averages\n",
    "    num_evaluations = len(dataloader) * len(mechanisms)\n",
    "    avg_loss = total_loss / num_evaluations\n",
    "    avg_rmse = total_rmse / num_evaluations\n",
    "    avg_nrmse = total_nrmse / num_evaluations\n",
    "    \n",
    "    # Calculate mechanism-specific averages\n",
    "    for m in mechanisms:\n",
    "        if mechanism_metrics[m][\"count\"] > 0:\n",
    "            mechanism_metrics[m][\"loss\"] /= mechanism_metrics[m][\"count\"]\n",
    "            mechanism_metrics[m][\"rmse\"] /= mechanism_metrics[m][\"count\"]\n",
    "            mechanism_metrics[m][\"nrmse\"] /= mechanism_metrics[m][\"count\"]\n",
    "    \n",
    "    return {\n",
    "        \"loss\": avg_loss,\n",
    "        \"rmse\": avg_rmse,\n",
    "        \"nrmse\": avg_nrmse,\n",
    "        \"mechanisms\": mechanism_metrics\n",
    "    }"
   ]
  },
  {
   "cell_type": "code",
   "execution_count": 20,
   "metadata": {},
   "outputs": [],
   "source": [
    "def plot_training_history(history, save_path=None):\n",
    "    \"\"\"\n",
    "    Plot training history.\n",
    "    \n",
    "    Args:\n",
    "        history (dict): Training history\n",
    "        save_path (str, optional): Path to save the plot\n",
    "    \"\"\"\n",
    "    plt.figure(figsize=(20, 12))\n",
    "    \n",
    "    # Plot loss\n",
    "    plt.subplot(2, 2, 1)\n",
    "    plt.plot(history[\"train_loss\"], label=\"Train Loss\")\n",
    "    plt.plot(history[\"val_loss\"], label=\"Val Loss\")\n",
    "    plt.title(\"Loss\")\n",
    "    plt.xlabel(\"Epoch\")\n",
    "    plt.ylabel(\"Loss\")\n",
    "    plt.legend()\n",
    "    \n",
    "    # Plot NRMSE\n",
    "    plt.subplot(2, 2, 2)\n",
    "    plt.plot(history[\"val_nrmse\"], label=\"Overall NRMSE\")\n",
    "    plt.plot(history[\"val_mcar_nrmse\"], label=\"MCAR NRMSE\")\n",
    "    plt.plot(history[\"val_mar_nrmse\"], label=\"MAR NRMSE\")\n",
    "    plt.plot(history[\"val_mnar_nrmse\"], label=\"MNAR NRMSE\")\n",
    "    plt.title(\"NRMSE by Mechanism\")\n",
    "    plt.xlabel(\"Epoch\")\n",
    "    plt.ylabel(\"NRMSE\")\n",
    "    plt.legend()\n",
    "    \n",
    "    # Plot learning rate\n",
    "    plt.subplot(2, 2, 3)\n",
    "    plt.plot(history[\"lr\"])\n",
    "    plt.title(\"Learning Rate\")\n",
    "    plt.xlabel(\"Epoch\")\n",
    "    plt.ylabel(\"Learning Rate\")\n",
    "    \n",
    "    if save_path:\n",
    "        plt.savefig(save_path)\n",
    "    \n",
    "    plt.tight_layout()\n",
    "    plt.show()"
   ]
  },
  {
   "cell_type": "code",
   "execution_count": 21,
   "metadata": {},
   "outputs": [],
   "source": [
    "def save_model(model, scaler, config, save_dir=\"models\"):\n",
    "    \"\"\"\n",
    "    Save model and related objects.\n",
    "    \n",
    "    Args:\n",
    "        model (nn.Module): Trained model\n",
    "        scaler (StandardScaler): Data scaler\n",
    "        config (dict): Model configuration\n",
    "        save_dir (str): Directory to save model\n",
    "    \"\"\"\n",
    "    # Create directory if it doesn't exist\n",
    "    os.makedirs(save_dir, exist_ok=True)\n",
    "    \n",
    "    # Save model\n",
    "    model_path = os.path.join(save_dir, \"tabular_transformer_relpos.pth\")\n",
    "    torch.save({\n",
    "        \"model_state_dict\": model.state_dict(),\n",
    "        \"config\": config\n",
    "    }, model_path)\n",
    "    \n",
    "    # Save scaler\n",
    "    scaler_path = os.path.join(save_dir, \"scaler.pkl\")\n",
    "    with open(scaler_path, \"wb\") as f:\n",
    "        pickle.dump(scaler, f)\n",
    "    \n",
    "    print(f\"Model saved to {model_path}\")\n",
    "    print(f\"Scaler saved to {scaler_path}\")"
   ]
  },
  {
   "cell_type": "code",
   "execution_count": 22,
   "metadata": {},
   "outputs": [],
   "source": [
    "def train_model(train_data, val_data, column_indices, config, model_type=\"single\"):\n",
    "    \"\"\"\n",
    "    Train the model (single model or ensemble).\n",
    "    \n",
    "    Args:\n",
    "        train_data (torch.Tensor): Training data\n",
    "        val_data (torch.Tensor): Validation data\n",
    "        column_indices (torch.Tensor): Column indices\n",
    "        config (dict): Configuration dictionary\n",
    "        model_type (str): Type of model to train (\"single\" or \"ensemble\")\n",
    "        \n",
    "    Returns:\n",
    "        tuple: Trained model and training history\n",
    "    \"\"\"\n",
    "    print(\"Starting model training...\")\n",
    "    \n",
    "    # Create dataloaders\n",
    "    train_dataset = TensorDataset(train_data)\n",
    "    val_dataset = TensorDataset(val_data)\n",
    "    \n",
    "    train_dataloader = DataLoader(\n",
    "        train_dataset, \n",
    "        batch_size=config[\"batch_size\"], \n",
    "        shuffle=True\n",
    "    )\n",
    "    \n",
    "    val_dataloader = DataLoader(\n",
    "        val_dataset, \n",
    "        batch_size=config[\"batch_size\"]\n",
    "    )\n",
    "    \n",
    "    # Create model based on type\n",
    "    num_features = train_data.shape[1]\n",
    "    \n",
    "    if model_type == \"ensemble\":\n",
    "        print(\"Creating ensemble model with 3 base models...\")\n",
    "        model = EnsembleModel(\n",
    "            num_features=num_features,\n",
    "            config=config,\n",
    "            num_models=3\n",
    "        ).to(device)\n",
    "    else:\n",
    "        print(\"Creating single transformer model...\")\n",
    "        model = TabularTransformerWithRelPos(\n",
    "            num_features=num_features,\n",
    "            d_model=config[\"d_model\"],\n",
    "            nhead=config[\"num_heads\"],\n",
    "            num_layers=config[\"num_layers\"],\n",
    "            dim_feedforward=config[\"dim_feedforward\"],\n",
    "            dropout=config[\"dropout\"],\n",
    "            activation=config[\"activation\"],\n",
    "            max_seq_len=max(2 * num_features, 100)  # Set max_seq_len based on feature count\n",
    "        ).to(device)\n",
    "    \n",
    "    # Set up optimizer and scheduler\n",
    "    optimizer = optim.AdamW(\n",
    "        model.parameters(),\n",
    "        lr=config[\"learning_rate\"],\n",
    "        weight_decay=config[\"weight_decay\"]\n",
    "    )\n",
    "    \n",
    "    # Learning rate scheduler - use OneCycleLR for better convergence\n",
    "    total_steps = len(train_dataloader) * config[\"num_epochs\"]\n",
    "    scheduler = optim.lr_scheduler.OneCycleLR(\n",
    "        optimizer,\n",
    "        max_lr=config[\"learning_rate\"],\n",
    "        total_steps=total_steps,\n",
    "        pct_start=0.3,  # Warm-up phase percentage\n",
    "        anneal_strategy='cos',\n",
    "        div_factor=25.0,  # Initial lr = max_lr/div_factor\n",
    "        final_div_factor=10000.0  # Final lr = initial_lr/final_div_factor\n",
    "    )\n",
    "    \n",
    "    # Training history\n",
    "    history = {\n",
    "        \"train_loss\": [],\n",
    "        \"val_loss\": [],\n",
    "        \"val_rmse\": [],\n",
    "        \"val_nrmse\": [],\n",
    "        \"val_mcar_nrmse\": [],\n",
    "        \"val_mar_nrmse\": [],\n",
    "        \"val_mnar_nrmse\": [],\n",
    "        \"lr\": []\n",
    "    }\n",
    "    \n",
    "    # Early stopping\n",
    "    best_val_loss = float('inf')\n",
    "    best_model_weights = None\n",
    "    patience_counter = 0\n",
    "    \n",
    "    mechanisms = [\"MCAR\", \"MAR\", \"MNAR\"]\n",
    "    \n",
    "    # Training loop\n",
    "    for epoch in range(config[\"num_epochs\"]):\n",
    "        print(f\"\\nEpoch {epoch + 1}/{config['num_epochs']}\")\n",
    "        \n",
    "        # Train\n",
    "        train_metrics = train_epoch(\n",
    "            model,\n",
    "            train_dataloader,\n",
    "            optimizer,\n",
    "            config[\"missing_fraction\"],\n",
    "            mechanisms,\n",
    "            scheduler,\n",
    "        )\n",
    "        \n",
    "        # Validate\n",
    "        val_metrics = validate(\n",
    "            model,\n",
    "            val_dataloader,\n",
    "            config[\"missing_fraction\"],\n",
    "            mechanisms\n",
    "        )\n",
    "        \n",
    "        # Update history\n",
    "        history[\"train_loss\"].append(train_metrics[\"loss\"])\n",
    "        history[\"val_loss\"].append(val_metrics[\"loss\"])\n",
    "        history[\"val_rmse\"].append(val_metrics[\"rmse\"])\n",
    "        history[\"val_nrmse\"].append(val_metrics[\"nrmse\"])\n",
    "        history[\"val_mcar_nrmse\"].append(val_metrics[\"mechanisms\"][\"MCAR\"][\"nrmse\"])\n",
    "        history[\"val_mar_nrmse\"].append(val_metrics[\"mechanisms\"][\"MAR\"][\"nrmse\"])\n",
    "        history[\"val_mnar_nrmse\"].append(val_metrics[\"mechanisms\"][\"MNAR\"][\"nrmse\"])\n",
    "        history[\"lr\"].append(optimizer.param_groups[0][\"lr\"])\n",
    "        \n",
    "        # Print metrics\n",
    "        print(f\"Train Loss: {train_metrics['loss']:.4f}\")\n",
    "        print(f\"Val Loss: {val_metrics['loss']:.4f}\")\n",
    "        print(f\"Val NRMSE: {val_metrics['nrmse']:.4f}\")\n",
    "        print(f\"Val MCAR NRMSE: {val_metrics['mechanisms']['MCAR']['nrmse']:.4f}\")\n",
    "        print(f\"Val MAR NRMSE: {val_metrics['mechanisms']['MAR']['nrmse']:.4f}\")\n",
    "        print(f\"Val MNAR NRMSE: {val_metrics['mechanisms']['MNAR']['nrmse']:.4f}\")\n",
    "        \n",
    "        # Check for improvement\n",
    "        if val_metrics[\"loss\"] < best_val_loss:\n",
    "            best_val_loss = val_metrics[\"loss\"]\n",
    "            best_model_weights = model.state_dict().copy()\n",
    "            patience_counter = 0\n",
    "            print(f\"New best validation loss: {best_val_loss:.4f}\")\n",
    "        else:\n",
    "            patience_counter += 1\n",
    "            print(f\"No improvement for {patience_counter} epochs\")\n",
    "        \n",
    "        # Early stopping\n",
    "        if patience_counter >= config[\"patience\"]:\n",
    "            print(f\"Early stopping after {epoch + 1} epochs\")\n",
    "            break\n",
    "    \n",
    "    # Load best model\n",
    "    if best_model_weights is not None:\n",
    "        model.load_state_dict(best_model_weights)\n",
    "    \n",
    "    return model, history"
   ]
  },
  {
   "cell_type": "code",
   "execution_count": 23,
   "metadata": {},
   "outputs": [],
   "source": [
    "def cross_validate_model(data, column_indices, config, n_folds=5, model_type=\"single\"):\n",
    "    \"\"\"\n",
    "    Perform k-fold cross-validation.\n",
    "    \n",
    "    Args:\n",
    "        data (torch.Tensor): Data to split\n",
    "        column_indices (torch.Tensor): Feature column indices\n",
    "        config (dict): Configuration dictionary\n",
    "        n_folds (int): Number of folds\n",
    "        model_type (str): Type of model to train (\"single\" or \"ensemble\")\n",
    "        \n",
    "    Returns:\n",
    "        dict: Dictionary with average metrics across folds\n",
    "    \"\"\"\n",
    "    kf = KFold(n_splits=n_folds, shuffle=True, random_state=SEED)\n",
    "    \n",
    "    all_metrics = []\n",
    "    all_models = []\n",
    "    \n",
    "    for fold, (train_idx, val_idx) in enumerate(kf.split(data)):\n",
    "        print(f\"\\nTraining fold {fold+1}/{n_folds}\")\n",
    "        \n",
    "        # Split data\n",
    "        train_data = data[train_idx]\n",
    "        val_data = data[val_idx]\n",
    "        \n",
    "        # Train model (can be single or ensemble based on model_type)\n",
    "        model, history = train_model(train_data, val_data, column_indices, config, model_type=model_type)\n",
    "        \n",
    "        # Store model\n",
    "        all_models.append(model)\n",
    "        \n",
    "        # Validate\n",
    "        val_dataloader = DataLoader(TensorDataset(val_data), batch_size=config[\"batch_size\"])\n",
    "        metrics = validate(model, val_dataloader, config[\"missing_fraction\"], [\"MCAR\", \"MAR\", \"MNAR\"])\n",
    "        \n",
    "        all_metrics.append(metrics)\n",
    "        \n",
    "        print(f\"Fold {fold+1} metrics:\")\n",
    "        print(f\"  NRMSE: {metrics['nrmse']:.4f}\")\n",
    "        print(f\"  MCAR NRMSE: {metrics['mechanisms']['MCAR']['nrmse']:.4f}\")\n",
    "        print(f\"  MAR NRMSE: {metrics['mechanisms']['MAR']['nrmse']:.4f}\")\n",
    "        print(f\"  MNAR NRMSE: {metrics['mechanisms']['MNAR']['nrmse']:.4f}\")\n",
    "    \n",
    "    # Average metrics across folds\n",
    "    avg_metrics = {\n",
    "        \"nrmse\": np.mean([m[\"nrmse\"] for m in all_metrics]),\n",
    "        \"mcar_nrmse\": np.mean([m[\"mechanisms\"][\"MCAR\"][\"nrmse\"] for m in all_metrics]),\n",
    "        \"mar_nrmse\": np.mean([m[\"mechanisms\"][\"MAR\"][\"nrmse\"] for m in all_metrics]),\n",
    "        \"mnar_nrmse\": np.mean([m[\"mechanisms\"][\"MNAR\"][\"nrmse\"] for m in all_metrics])\n",
    "    }\n",
    "    \n",
    "    # Standard deviation of metrics\n",
    "    std_metrics = {\n",
    "        \"nrmse_std\": np.std([m[\"nrmse\"] for m in all_metrics]),\n",
    "        \"mcar_nrmse_std\": np.std([m[\"mechanisms\"][\"MCAR\"][\"nrmse\"] for m in all_metrics]),\n",
    "        \"mar_nrmse_std\": np.std([m[\"mechanisms\"][\"MAR\"][\"nrmse\"] for m in all_metrics]),\n",
    "        \"mnar_nrmse_std\": np.std([m[\"mechanisms\"][\"MNAR\"][\"nrmse\"] for m in all_metrics])\n",
    "    }\n",
    "    \n",
    "    # Add standard deviations to results\n",
    "    avg_metrics.update(std_metrics)\n",
    "    \n",
    "    print(\"\\nAverage metrics across folds:\")\n",
    "    print(f\"  NRMSE: {avg_metrics['nrmse']:.4f} ± {avg_metrics['nrmse_std']:.4f}\")\n",
    "    print(f\"  MCAR NRMSE: {avg_metrics['mcar_nrmse']:.4f} ± {avg_metrics['mcar_nrmse_std']:.4f}\")\n",
    "    print(f\"  MAR NRMSE: {avg_metrics['mar_nrmse']:.4f} ± {avg_metrics['mar_nrmse_std']:.4f}\")\n",
    "    print(f\"  MNAR NRMSE: {avg_metrics['mnar_nrmse']:.4f} ± {avg_metrics['mnar_nrmse_std']:.4f}\")\n",
    "    \n",
    "    return avg_metrics, all_models"
   ]
  },
  {
   "cell_type": "code",
   "execution_count": 24,
   "metadata": {},
   "outputs": [],
   "source": [
    "def train_mnar_specialized_model(train_data, val_data, column_indices, config):\n",
    "    \"\"\"\n",
    "    Train a model specialized for MNAR data.\n",
    "    \n",
    "    Args:\n",
    "        train_data (torch.Tensor): Training data\n",
    "        val_data (torch.Tensor): Validation data\n",
    "        column_indices (torch.Tensor): Column indices\n",
    "        config (dict): Configuration dictionary\n",
    "        \n",
    "    Returns:\n",
    "        tuple: Trained model and training history\n",
    "    \"\"\"\n",
    "    print(\"Starting specialized MNAR model training...\")\n",
    "    \n",
    "    # Create dataloaders\n",
    "    train_dataset = TensorDataset(train_data)\n",
    "    val_dataset = TensorDataset(val_data)\n",
    "    \n",
    "    train_dataloader = DataLoader(\n",
    "        train_dataset, \n",
    "        batch_size=config[\"batch_size\"], \n",
    "        shuffle=True\n",
    "    )\n",
    "    \n",
    "    val_dataloader = DataLoader(\n",
    "        val_dataset, \n",
    "        batch_size=config[\"batch_size\"]\n",
    "    )\n",
    "    \n",
    "    # Create model\n",
    "    num_features = train_data.shape[1]\n",
    "    model = TabularTransformerWithRelPos(\n",
    "        num_features=num_features,\n",
    "        d_model=config[\"d_model\"],\n",
    "        nhead=config[\"num_heads\"],\n",
    "        num_layers=config[\"num_layers\"],\n",
    "        dim_feedforward=config[\"dim_feedforward\"],\n",
    "        dropout=config[\"dropout\"],\n",
    "        activation=config[\"activation\"],\n",
    "        max_seq_len=max(2 * num_features, 100)\n",
    "    ).to(device)\n",
    "    \n",
    "    # Set up optimizer and scheduler\n",
    "    optimizer = optim.AdamW(\n",
    "        model.parameters(),\n",
    "        lr=config[\"learning_rate\"],\n",
    "        weight_decay=config[\"weight_decay\"]\n",
    "    )\n",
    "    \n",
    "    # Learning rate scheduler\n",
    "    total_steps = len(train_dataloader) * config[\"num_epochs\"]\n",
    "    scheduler = optim.lr_scheduler.OneCycleLR(\n",
    "        optimizer,\n",
    "        max_lr=config[\"learning_rate\"],\n",
    "        total_steps=total_steps,\n",
    "        pct_start=0.3,\n",
    "        anneal_strategy='cos',\n",
    "        div_factor=25.0,\n",
    "        final_div_factor=10000.0\n",
    "    )\n",
    "    \n",
    "    # Training history\n",
    "    history = {\n",
    "        \"train_loss\": [],\n",
    "        \"val_loss\": [],\n",
    "        \"val_mnar_nrmse\": [],\n",
    "        \"lr\": []\n",
    "    }\n",
    "    \n",
    "    # Early stopping\n",
    "    best_val_loss = float('inf')\n",
    "    best_model_weights = None\n",
    "    patience_counter = 0\n",
    "    \n",
    "    # Only train with MNAR mechanism\n",
    "    mechanisms = [\"MNAR\"]\n",
    "    \n",
    "    # Training loop\n",
    "    for epoch in range(config[\"num_epochs\"]):\n",
    "        print(f\"\\nEpoch {epoch + 1}/{config['num_epochs']}\")\n",
    "        \n",
    "        # Train\n",
    "        train_metrics = train_epoch(\n",
    "            model,\n",
    "            train_dataloader,\n",
    "            optimizer,\n",
    "            config[\"missing_fraction\"],\n",
    "            mechanisms,\n",
    "            scheduler,\n",
    "        )\n",
    "        \n",
    "        # Validate\n",
    "        val_metrics = validate(\n",
    "            model,\n",
    "            val_dataloader,\n",
    "            config[\"missing_fraction\"],\n",
    "            mechanisms\n",
    "        )\n",
    "        \n",
    "        # Update history\n",
    "        history[\"train_loss\"].append(train_metrics[\"loss\"])\n",
    "        history[\"val_loss\"].append(val_metrics[\"loss\"])\n",
    "        history[\"val_mnar_nrmse\"].append(val_metrics[\"mechanisms\"][\"MNAR\"][\"nrmse\"])\n",
    "        history[\"lr\"].append(optimizer.param_groups[0][\"lr\"])\n",
    "        \n",
    "        # Print metrics\n",
    "        print(f\"Train Loss: {train_metrics['loss']:.4f}\")\n",
    "        print(f\"Val Loss: {val_metrics['loss']:.4f}\")\n",
    "        print(f\"Val MNAR NRMSE: {val_metrics['mechanisms']['MNAR']['nrmse']:.4f}\")\n",
    "        \n",
    "        # Check for improvement\n",
    "        if val_metrics[\"loss\"] < best_val_loss:\n",
    "            best_val_loss = val_metrics[\"loss\"]\n",
    "            best_model_weights = model.state_dict().copy()\n",
    "            patience_counter = 0\n",
    "            print(f\"New best validation loss: {best_val_loss:.4f}\")\n",
    "        else:\n",
    "            patience_counter += 1\n",
    "            print(f\"No improvement for {patience_counter} epochs\")\n",
    "        \n",
    "        # Early stopping\n",
    "        if patience_counter >= config[\"patience\"]:\n",
    "            print(f\"Early stopping after {epoch + 1} epochs\")\n",
    "            break\n",
    "    \n",
    "    # Load best model\n",
    "    if best_model_weights is not None:\n",
    "        model.load_state_dict(best_model_weights)\n",
    "    \n",
    "    return model, history"
   ]
  },
  {
   "cell_type": "code",
   "execution_count": 25,
   "metadata": {},
   "outputs": [
    {
     "name": "stdout",
     "output_type": "stream",
     "text": [
      "Loading data from ./data/physionet_39_features_only_no_leakage.csv\n",
      "Warning: Dataset contains 3063 missing values. These will be handled in preprocessing.\n"
     ]
    },
    {
     "name": "stdout",
     "output_type": "stream",
     "text": [
      "Dataset shape: (2008, 39)\n",
      "Number of training samples: 1405\n",
      "Number of validation samples: 201\n",
      "Number of test samples: 402\n",
      "Number of features: 39\n",
      "\n",
      "=== Running K-Fold Cross-Validation ===\n",
      "\n",
      "---- K-Fold with Single Model ----\n",
      "\n",
      "Training fold 1/5\n",
      "Starting model training...\n",
      "Creating single transformer model...\n",
      "\n",
      "Epoch 1/100\n"
     ]
    },
    {
     "name": "stderr",
     "output_type": "stream",
     "text": [
      "Training: 100%|██████████| 11/11 [00:01<00:00,  7.11it/s, loss=1.01]\n"
     ]
    },
    {
     "name": "stdout",
     "output_type": "stream",
     "text": [
      "Train Loss: 2.5888\n",
      "Val Loss: 1.4332\n",
      "Val NRMSE: 0.0443\n",
      "Val MCAR NRMSE: 0.0374\n",
      "Val MAR NRMSE: 0.0393\n",
      "Val MNAR NRMSE: 0.0563\n",
      "New best validation loss: 1.4332\n",
      "\n",
      "Epoch 2/100\n"
     ]
    },
    {
     "name": "stderr",
     "output_type": "stream",
     "text": [
      "Training: 100%|██████████| 11/11 [00:01<00:00,  8.95it/s, loss=1.03]\n"
     ]
    },
    {
     "name": "stdout",
     "output_type": "stream",
     "text": [
      "Train Loss: 1.6639\n",
      "Val Loss: 1.4223\n",
      "Val NRMSE: 0.0443\n",
      "Val MCAR NRMSE: 0.0398\n",
      "Val MAR NRMSE: 0.0384\n",
      "Val MNAR NRMSE: 0.0548\n",
      "New best validation loss: 1.4223\n",
      "\n",
      "Epoch 3/100\n"
     ]
    },
    {
     "name": "stderr",
     "output_type": "stream",
     "text": [
      "Training: 100%|██████████| 11/11 [00:01<00:00,  8.67it/s, loss=1.24]\n"
     ]
    },
    {
     "name": "stdout",
     "output_type": "stream",
     "text": [
      "Train Loss: 1.6086\n",
      "Val Loss: 1.3465\n",
      "Val NRMSE: 0.0432\n",
      "Val MCAR NRMSE: 0.0414\n",
      "Val MAR NRMSE: 0.0352\n",
      "Val MNAR NRMSE: 0.0529\n",
      "New best validation loss: 1.3465\n",
      "\n",
      "Epoch 4/100\n"
     ]
    },
    {
     "name": "stderr",
     "output_type": "stream",
     "text": [
      "Training: 100%|██████████| 11/11 [00:01<00:00,  9.00it/s, loss=1.25] \n"
     ]
    },
    {
     "name": "stdout",
     "output_type": "stream",
     "text": [
      "Train Loss: 1.7550\n",
      "Val Loss: 1.4159\n",
      "Val NRMSE: 0.0446\n",
      "Val MCAR NRMSE: 0.0397\n",
      "Val MAR NRMSE: 0.0425\n",
      "Val MNAR NRMSE: 0.0515\n",
      "No improvement for 1 epochs\n",
      "\n",
      "Epoch 5/100\n"
     ]
    },
    {
     "name": "stderr",
     "output_type": "stream",
     "text": [
      "Training: 100%|██████████| 11/11 [00:01<00:00,  8.42it/s, loss=1.14]\n"
     ]
    },
    {
     "name": "stdout",
     "output_type": "stream",
     "text": [
      "Train Loss: 1.9475\n",
      "Val Loss: 1.3646\n",
      "Val NRMSE: 0.0434\n",
      "Val MCAR NRMSE: 0.0386\n",
      "Val MAR NRMSE: 0.0369\n",
      "Val MNAR NRMSE: 0.0547\n",
      "No improvement for 2 epochs\n",
      "\n",
      "Epoch 6/100\n"
     ]
    },
    {
     "name": "stderr",
     "output_type": "stream",
     "text": [
      "Training: 100%|██████████| 11/11 [00:01<00:00,  8.91it/s, loss=0.472]\n"
     ]
    },
    {
     "name": "stdout",
     "output_type": "stream",
     "text": [
      "Train Loss: 1.6331\n",
      "Val Loss: 1.2675\n",
      "Val NRMSE: 0.0414\n",
      "Val MCAR NRMSE: 0.0349\n",
      "Val MAR NRMSE: 0.0343\n",
      "Val MNAR NRMSE: 0.0551\n",
      "New best validation loss: 1.2675\n",
      "\n",
      "Epoch 7/100\n"
     ]
    },
    {
     "name": "stderr",
     "output_type": "stream",
     "text": [
      "Training: 100%|██████████| 11/11 [00:01<00:00,  8.81it/s, loss=0.805]\n"
     ]
    },
    {
     "name": "stdout",
     "output_type": "stream",
     "text": [
      "Train Loss: 1.5150\n",
      "Val Loss: 1.3642\n",
      "Val NRMSE: 0.0434\n",
      "Val MCAR NRMSE: 0.0412\n",
      "Val MAR NRMSE: 0.0369\n",
      "Val MNAR NRMSE: 0.0521\n",
      "No improvement for 1 epochs\n",
      "\n",
      "Epoch 8/100\n"
     ]
    },
    {
     "name": "stderr",
     "output_type": "stream",
     "text": [
      "Training: 100%|██████████| 11/11 [00:01<00:00,  8.64it/s, loss=0.618]\n"
     ]
    },
    {
     "name": "stdout",
     "output_type": "stream",
     "text": [
      "Train Loss: 1.8617\n",
      "Val Loss: 1.4293\n",
      "Val NRMSE: 0.0441\n",
      "Val MCAR NRMSE: 0.0392\n",
      "Val MAR NRMSE: 0.0357\n",
      "Val MNAR NRMSE: 0.0574\n",
      "No improvement for 2 epochs\n",
      "\n",
      "Epoch 9/100\n"
     ]
    },
    {
     "name": "stderr",
     "output_type": "stream",
     "text": [
      "Training: 100%|██████████| 11/11 [00:01<00:00,  8.89it/s, loss=0.728]\n"
     ]
    },
    {
     "name": "stdout",
     "output_type": "stream",
     "text": [
      "Train Loss: 1.7580\n",
      "Val Loss: 1.4134\n",
      "Val NRMSE: 0.0441\n",
      "Val MCAR NRMSE: 0.0412\n",
      "Val MAR NRMSE: 0.0370\n",
      "Val MNAR NRMSE: 0.0541\n",
      "No improvement for 3 epochs\n",
      "\n",
      "Epoch 10/100\n"
     ]
    },
    {
     "name": "stderr",
     "output_type": "stream",
     "text": [
      "Training: 100%|██████████| 11/11 [00:01<00:00,  9.27it/s, loss=1.28] \n"
     ]
    },
    {
     "name": "stdout",
     "output_type": "stream",
     "text": [
      "Train Loss: 1.3199\n",
      "Val Loss: 1.3135\n",
      "Val NRMSE: 0.0422\n",
      "Val MCAR NRMSE: 0.0344\n",
      "Val MAR NRMSE: 0.0370\n",
      "Val MNAR NRMSE: 0.0552\n",
      "No improvement for 4 epochs\n",
      "\n",
      "Epoch 11/100\n"
     ]
    },
    {
     "name": "stderr",
     "output_type": "stream",
     "text": [
      "Training: 100%|██████████| 11/11 [00:01<00:00,  9.18it/s, loss=0.522]\n"
     ]
    },
    {
     "name": "stdout",
     "output_type": "stream",
     "text": [
      "Train Loss: 1.6386\n",
      "Val Loss: 1.5416\n",
      "Val NRMSE: 0.0459\n",
      "Val MCAR NRMSE: 0.0385\n",
      "Val MAR NRMSE: 0.0399\n",
      "Val MNAR NRMSE: 0.0593\n",
      "No improvement for 5 epochs\n",
      "\n",
      "Epoch 12/100\n"
     ]
    },
    {
     "name": "stderr",
     "output_type": "stream",
     "text": [
      "Training: 100%|██████████| 11/11 [00:01<00:00,  8.81it/s, loss=1.32] \n"
     ]
    },
    {
     "name": "stdout",
     "output_type": "stream",
     "text": [
      "Train Loss: 1.4425\n",
      "Val Loss: 1.4742\n",
      "Val NRMSE: 0.0454\n",
      "Val MCAR NRMSE: 0.0437\n",
      "Val MAR NRMSE: 0.0405\n",
      "Val MNAR NRMSE: 0.0520\n",
      "No improvement for 6 epochs\n",
      "\n",
      "Epoch 13/100\n"
     ]
    },
    {
     "name": "stderr",
     "output_type": "stream",
     "text": [
      "Training: 100%|██████████| 11/11 [00:01<00:00,  8.79it/s, loss=1.05]\n"
     ]
    },
    {
     "name": "stdout",
     "output_type": "stream",
     "text": [
      "Train Loss: 1.6797\n",
      "Val Loss: 1.3428\n",
      "Val NRMSE: 0.0431\n",
      "Val MCAR NRMSE: 0.0393\n",
      "Val MAR NRMSE: 0.0371\n",
      "Val MNAR NRMSE: 0.0530\n",
      "No improvement for 7 epochs\n",
      "\n",
      "Epoch 14/100\n"
     ]
    },
    {
     "name": "stderr",
     "output_type": "stream",
     "text": [
      "Training: 100%|██████████| 11/11 [00:01<00:00,  8.98it/s, loss=0.876]\n"
     ]
    },
    {
     "name": "stdout",
     "output_type": "stream",
     "text": [
      "Train Loss: 1.6484\n",
      "Val Loss: 1.3785\n",
      "Val NRMSE: 0.0436\n",
      "Val MCAR NRMSE: 0.0390\n",
      "Val MAR NRMSE: 0.0379\n",
      "Val MNAR NRMSE: 0.0538\n",
      "No improvement for 8 epochs\n",
      "\n",
      "Epoch 15/100\n"
     ]
    },
    {
     "name": "stderr",
     "output_type": "stream",
     "text": [
      "Training: 100%|██████████| 11/11 [00:01<00:00,  8.89it/s, loss=0.841]\n"
     ]
    },
    {
     "name": "stdout",
     "output_type": "stream",
     "text": [
      "Train Loss: 1.7831\n",
      "Val Loss: 1.3852\n",
      "Val NRMSE: 0.0436\n",
      "Val MCAR NRMSE: 0.0383\n",
      "Val MAR NRMSE: 0.0388\n",
      "Val MNAR NRMSE: 0.0538\n",
      "No improvement for 9 epochs\n",
      "\n",
      "Epoch 16/100\n"
     ]
    },
    {
     "name": "stderr",
     "output_type": "stream",
     "text": [
      "Training: 100%|██████████| 11/11 [00:01<00:00,  8.93it/s, loss=0.572]\n"
     ]
    },
    {
     "name": "stdout",
     "output_type": "stream",
     "text": [
      "Train Loss: 1.6264\n",
      "Val Loss: 1.4198\n",
      "Val NRMSE: 0.0443\n",
      "Val MCAR NRMSE: 0.0371\n",
      "Val MAR NRMSE: 0.0404\n",
      "Val MNAR NRMSE: 0.0554\n",
      "No improvement for 10 epochs\n",
      "\n",
      "Epoch 17/100\n"
     ]
    },
    {
     "name": "stderr",
     "output_type": "stream",
     "text": [
      "Training: 100%|██████████| 11/11 [00:01<00:00,  9.06it/s, loss=1.73]\n"
     ]
    },
    {
     "name": "stdout",
     "output_type": "stream",
     "text": [
      "Train Loss: 1.4886\n",
      "Val Loss: 1.4779\n",
      "Val NRMSE: 0.0451\n",
      "Val MCAR NRMSE: 0.0383\n",
      "Val MAR NRMSE: 0.0395\n",
      "Val MNAR NRMSE: 0.0575\n",
      "No improvement for 11 epochs\n",
      "\n",
      "Epoch 18/100\n"
     ]
    },
    {
     "name": "stderr",
     "output_type": "stream",
     "text": [
      "Training: 100%|██████████| 11/11 [00:01<00:00,  8.71it/s, loss=1.6] \n"
     ]
    },
    {
     "name": "stdout",
     "output_type": "stream",
     "text": [
      "Train Loss: 1.7009\n",
      "Val Loss: 1.5109\n",
      "Val NRMSE: 0.0463\n",
      "Val MCAR NRMSE: 0.0468\n",
      "Val MAR NRMSE: 0.0407\n",
      "Val MNAR NRMSE: 0.0513\n",
      "No improvement for 12 epochs\n",
      "\n",
      "Epoch 19/100\n"
     ]
    },
    {
     "name": "stderr",
     "output_type": "stream",
     "text": [
      "Training: 100%|██████████| 11/11 [00:01<00:00,  9.23it/s, loss=0.528]\n"
     ]
    },
    {
     "name": "stdout",
     "output_type": "stream",
     "text": [
      "Train Loss: 1.3636\n",
      "Val Loss: 1.3059\n",
      "Val NRMSE: 0.0425\n",
      "Val MCAR NRMSE: 0.0385\n",
      "Val MAR NRMSE: 0.0364\n",
      "Val MNAR NRMSE: 0.0525\n",
      "No improvement for 13 epochs\n",
      "\n",
      "Epoch 20/100\n"
     ]
    },
    {
     "name": "stderr",
     "output_type": "stream",
     "text": [
      "Training: 100%|██████████| 11/11 [00:01<00:00,  9.18it/s, loss=1.79]\n"
     ]
    },
    {
     "name": "stdout",
     "output_type": "stream",
     "text": [
      "Train Loss: 2.7427\n",
      "Val Loss: 1.5296\n",
      "Val NRMSE: 0.0465\n",
      "Val MCAR NRMSE: 0.0458\n",
      "Val MAR NRMSE: 0.0430\n",
      "Val MNAR NRMSE: 0.0508\n",
      "No improvement for 14 epochs\n",
      "\n",
      "Epoch 21/100\n"
     ]
    },
    {
     "name": "stderr",
     "output_type": "stream",
     "text": [
      "Training: 100%|██████████| 11/11 [00:01<00:00,  9.20it/s, loss=1.45]\n"
     ]
    },
    {
     "name": "stdout",
     "output_type": "stream",
     "text": [
      "Train Loss: 2.1614\n",
      "Val Loss: 1.4410\n",
      "Val NRMSE: 0.0450\n",
      "Val MCAR NRMSE: 0.0465\n",
      "Val MAR NRMSE: 0.0381\n",
      "Val MNAR NRMSE: 0.0504\n",
      "No improvement for 15 epochs\n",
      "\n",
      "Epoch 22/100\n"
     ]
    },
    {
     "name": "stderr",
     "output_type": "stream",
     "text": [
      "Training: 100%|██████████| 11/11 [00:01<00:00,  9.05it/s, loss=1.27]\n"
     ]
    },
    {
     "name": "stdout",
     "output_type": "stream",
     "text": [
      "Train Loss: 1.7793\n",
      "Val Loss: 1.4226\n",
      "Val NRMSE: 0.0449\n",
      "Val MCAR NRMSE: 0.0433\n",
      "Val MAR NRMSE: 0.0412\n",
      "Val MNAR NRMSE: 0.0502\n",
      "No improvement for 16 epochs\n",
      "\n",
      "Epoch 23/100\n"
     ]
    },
    {
     "name": "stderr",
     "output_type": "stream",
     "text": [
      "Training: 100%|██████████| 11/11 [00:01<00:00,  9.39it/s, loss=1.05]\n"
     ]
    },
    {
     "name": "stdout",
     "output_type": "stream",
     "text": [
      "Train Loss: 1.6395\n",
      "Val Loss: 1.3913\n",
      "Val NRMSE: 0.0442\n",
      "Val MCAR NRMSE: 0.0409\n",
      "Val MAR NRMSE: 0.0399\n",
      "Val MNAR NRMSE: 0.0519\n",
      "No improvement for 17 epochs\n",
      "\n",
      "Epoch 24/100\n"
     ]
    },
    {
     "name": "stderr",
     "output_type": "stream",
     "text": [
      "Training: 100%|██████████| 11/11 [00:01<00:00,  9.17it/s, loss=0.478]\n"
     ]
    },
    {
     "name": "stdout",
     "output_type": "stream",
     "text": [
      "Train Loss: 1.1338\n",
      "Val Loss: 1.4923\n",
      "Val NRMSE: 0.0457\n",
      "Val MCAR NRMSE: 0.0460\n",
      "Val MAR NRMSE: 0.0406\n",
      "Val MNAR NRMSE: 0.0504\n",
      "No improvement for 18 epochs\n",
      "\n",
      "Epoch 25/100\n"
     ]
    },
    {
     "name": "stderr",
     "output_type": "stream",
     "text": [
      "Training: 100%|██████████| 11/11 [00:01<00:00,  9.65it/s, loss=1.04] \n"
     ]
    },
    {
     "name": "stdout",
     "output_type": "stream",
     "text": [
      "Train Loss: 1.5384\n",
      "Val Loss: 1.3641\n",
      "Val NRMSE: 0.0434\n",
      "Val MCAR NRMSE: 0.0365\n",
      "Val MAR NRMSE: 0.0394\n",
      "Val MNAR NRMSE: 0.0543\n",
      "No improvement for 19 epochs\n",
      "\n",
      "Epoch 26/100\n"
     ]
    },
    {
     "name": "stderr",
     "output_type": "stream",
     "text": [
      "Training: 100%|██████████| 11/11 [00:01<00:00,  9.17it/s, loss=3.74]\n"
     ]
    },
    {
     "name": "stdout",
     "output_type": "stream",
     "text": [
      "Train Loss: 1.5474\n",
      "Val Loss: 1.4247\n",
      "Val NRMSE: 0.0447\n",
      "Val MCAR NRMSE: 0.0429\n",
      "Val MAR NRMSE: 0.0377\n",
      "Val MNAR NRMSE: 0.0534\n",
      "No improvement for 20 epochs\n",
      "\n",
      "Epoch 27/100\n"
     ]
    },
    {
     "name": "stderr",
     "output_type": "stream",
     "text": [
      "Training: 100%|██████████| 11/11 [00:01<00:00,  8.70it/s, loss=2.49] \n"
     ]
    },
    {
     "name": "stdout",
     "output_type": "stream",
     "text": [
      "Train Loss: 2.1493\n",
      "Val Loss: 1.3189\n",
      "Val NRMSE: 0.0425\n",
      "Val MCAR NRMSE: 0.0387\n",
      "Val MAR NRMSE: 0.0357\n",
      "Val MNAR NRMSE: 0.0531\n",
      "No improvement for 21 epochs\n",
      "\n",
      "Epoch 28/100\n"
     ]
    },
    {
     "name": "stderr",
     "output_type": "stream",
     "text": [
      "Training: 100%|██████████| 11/11 [00:01<00:00,  9.01it/s, loss=0.46] \n"
     ]
    },
    {
     "name": "stdout",
     "output_type": "stream",
     "text": [
      "Train Loss: 1.5298\n",
      "Val Loss: 1.3755\n",
      "Val NRMSE: 0.0439\n",
      "Val MCAR NRMSE: 0.0389\n",
      "Val MAR NRMSE: 0.0398\n",
      "Val MNAR NRMSE: 0.0531\n",
      "No improvement for 22 epochs\n",
      "\n",
      "Epoch 29/100\n"
     ]
    },
    {
     "name": "stderr",
     "output_type": "stream",
     "text": [
      "Training: 100%|██████████| 11/11 [00:01<00:00,  9.62it/s, loss=0.925]\n"
     ]
    },
    {
     "name": "stdout",
     "output_type": "stream",
     "text": [
      "Train Loss: 1.5532\n",
      "Val Loss: 1.2600\n",
      "Val NRMSE: 0.0414\n",
      "Val MCAR NRMSE: 0.0350\n",
      "Val MAR NRMSE: 0.0353\n",
      "Val MNAR NRMSE: 0.0538\n",
      "New best validation loss: 1.2600\n",
      "\n",
      "Epoch 30/100\n"
     ]
    },
    {
     "name": "stderr",
     "output_type": "stream",
     "text": [
      "Training: 100%|██████████| 11/11 [00:01<00:00,  9.01it/s, loss=1.37]\n"
     ]
    },
    {
     "name": "stdout",
     "output_type": "stream",
     "text": [
      "Train Loss: 1.7686\n",
      "Val Loss: 1.4067\n",
      "Val NRMSE: 0.0445\n",
      "Val MCAR NRMSE: 0.0439\n",
      "Val MAR NRMSE: 0.0389\n",
      "Val MNAR NRMSE: 0.0506\n",
      "No improvement for 1 epochs\n",
      "\n",
      "Epoch 31/100\n"
     ]
    },
    {
     "name": "stderr",
     "output_type": "stream",
     "text": [
      "Training: 100%|██████████| 11/11 [00:01<00:00,  8.90it/s, loss=0.648]\n"
     ]
    },
    {
     "name": "stdout",
     "output_type": "stream",
     "text": [
      "Train Loss: 1.9229\n",
      "Val Loss: 1.4261\n",
      "Val NRMSE: 0.0448\n",
      "Val MCAR NRMSE: 0.0402\n",
      "Val MAR NRMSE: 0.0418\n",
      "Val MNAR NRMSE: 0.0524\n",
      "No improvement for 2 epochs\n",
      "\n",
      "Epoch 32/100\n"
     ]
    },
    {
     "name": "stderr",
     "output_type": "stream",
     "text": [
      "Training: 100%|██████████| 11/11 [00:01<00:00,  9.16it/s, loss=1.06]\n"
     ]
    },
    {
     "name": "stdout",
     "output_type": "stream",
     "text": [
      "Train Loss: 1.3962\n",
      "Val Loss: 1.4105\n",
      "Val NRMSE: 0.0439\n",
      "Val MCAR NRMSE: 0.0415\n",
      "Val MAR NRMSE: 0.0353\n",
      "Val MNAR NRMSE: 0.0550\n",
      "No improvement for 3 epochs\n",
      "\n",
      "Epoch 33/100\n"
     ]
    },
    {
     "name": "stderr",
     "output_type": "stream",
     "text": [
      "Training: 100%|██████████| 11/11 [00:01<00:00,  9.22it/s, loss=0.576]\n"
     ]
    },
    {
     "name": "stdout",
     "output_type": "stream",
     "text": [
      "Train Loss: 1.2799\n",
      "Val Loss: 1.4439\n",
      "Val NRMSE: 0.0446\n",
      "Val MCAR NRMSE: 0.0384\n",
      "Val MAR NRMSE: 0.0400\n",
      "Val MNAR NRMSE: 0.0553\n",
      "No improvement for 4 epochs\n",
      "\n",
      "Epoch 34/100\n"
     ]
    },
    {
     "name": "stderr",
     "output_type": "stream",
     "text": [
      "Training: 100%|██████████| 11/11 [00:01<00:00,  9.12it/s, loss=33.2]\n"
     ]
    },
    {
     "name": "stdout",
     "output_type": "stream",
     "text": [
      "Train Loss: 4.6886\n",
      "Val Loss: 1.3480\n",
      "Val NRMSE: 0.0435\n",
      "Val MCAR NRMSE: 0.0397\n",
      "Val MAR NRMSE: 0.0387\n",
      "Val MNAR NRMSE: 0.0520\n",
      "No improvement for 5 epochs\n",
      "\n",
      "Epoch 35/100\n"
     ]
    },
    {
     "name": "stderr",
     "output_type": "stream",
     "text": [
      "Training: 100%|██████████| 11/11 [00:01<00:00,  9.29it/s, loss=1.28] \n"
     ]
    },
    {
     "name": "stdout",
     "output_type": "stream",
     "text": [
      "Train Loss: 1.4616\n",
      "Val Loss: 1.3427\n",
      "Val NRMSE: 0.0427\n",
      "Val MCAR NRMSE: 0.0386\n",
      "Val MAR NRMSE: 0.0349\n",
      "Val MNAR NRMSE: 0.0546\n",
      "No improvement for 6 epochs\n",
      "\n",
      "Epoch 36/100\n"
     ]
    },
    {
     "name": "stderr",
     "output_type": "stream",
     "text": [
      "Training: 100%|██████████| 11/11 [00:01<00:00,  9.30it/s, loss=1.1]  \n"
     ]
    },
    {
     "name": "stdout",
     "output_type": "stream",
     "text": [
      "Train Loss: 1.2404\n",
      "Val Loss: 1.4008\n",
      "Val NRMSE: 0.0438\n",
      "Val MCAR NRMSE: 0.0392\n",
      "Val MAR NRMSE: 0.0380\n",
      "Val MNAR NRMSE: 0.0544\n",
      "No improvement for 7 epochs\n",
      "\n",
      "Epoch 37/100\n"
     ]
    },
    {
     "name": "stderr",
     "output_type": "stream",
     "text": [
      "Training: 100%|██████████| 11/11 [00:01<00:00,  9.27it/s, loss=0.72]\n"
     ]
    },
    {
     "name": "stdout",
     "output_type": "stream",
     "text": [
      "Train Loss: 1.8566\n",
      "Val Loss: 1.3849\n",
      "Val NRMSE: 0.0439\n",
      "Val MCAR NRMSE: 0.0397\n",
      "Val MAR NRMSE: 0.0389\n",
      "Val MNAR NRMSE: 0.0530\n",
      "No improvement for 8 epochs\n",
      "\n",
      "Epoch 38/100\n"
     ]
    },
    {
     "name": "stderr",
     "output_type": "stream",
     "text": [
      "Training: 100%|██████████| 11/11 [00:01<00:00,  9.00it/s, loss=0.903]\n"
     ]
    },
    {
     "name": "stdout",
     "output_type": "stream",
     "text": [
      "Train Loss: 1.4368\n",
      "Val Loss: 1.3741\n",
      "Val NRMSE: 0.0437\n",
      "Val MCAR NRMSE: 0.0413\n",
      "Val MAR NRMSE: 0.0378\n",
      "Val MNAR NRMSE: 0.0520\n",
      "No improvement for 9 epochs\n",
      "\n",
      "Epoch 39/100\n"
     ]
    },
    {
     "name": "stderr",
     "output_type": "stream",
     "text": [
      "Training: 100%|██████████| 11/11 [00:01<00:00,  8.60it/s, loss=0.296]\n"
     ]
    },
    {
     "name": "stdout",
     "output_type": "stream",
     "text": [
      "Train Loss: 1.6728\n",
      "Val Loss: 1.3402\n",
      "Val NRMSE: 0.0430\n",
      "Val MCAR NRMSE: 0.0397\n",
      "Val MAR NRMSE: 0.0360\n",
      "Val MNAR NRMSE: 0.0532\n",
      "No improvement for 10 epochs\n",
      "\n",
      "Epoch 40/100\n"
     ]
    },
    {
     "name": "stderr",
     "output_type": "stream",
     "text": [
      "Training: 100%|██████████| 11/11 [00:01<00:00,  8.63it/s, loss=0.48]\n"
     ]
    },
    {
     "name": "stdout",
     "output_type": "stream",
     "text": [
      "Train Loss: 1.7489\n",
      "Val Loss: 1.3174\n",
      "Val NRMSE: 0.0428\n",
      "Val MCAR NRMSE: 0.0431\n",
      "Val MAR NRMSE: 0.0339\n",
      "Val MNAR NRMSE: 0.0515\n",
      "No improvement for 11 epochs\n",
      "\n",
      "Epoch 41/100\n"
     ]
    },
    {
     "name": "stderr",
     "output_type": "stream",
     "text": [
      "Training: 100%|██████████| 11/11 [00:01<00:00,  8.56it/s, loss=0.447]\n"
     ]
    },
    {
     "name": "stdout",
     "output_type": "stream",
     "text": [
      "Train Loss: 1.2482\n",
      "Val Loss: 1.4013\n",
      "Val NRMSE: 0.0440\n",
      "Val MCAR NRMSE: 0.0392\n",
      "Val MAR NRMSE: 0.0379\n",
      "Val MNAR NRMSE: 0.0550\n",
      "No improvement for 12 epochs\n",
      "\n",
      "Epoch 42/100\n"
     ]
    },
    {
     "name": "stderr",
     "output_type": "stream",
     "text": [
      "Training: 100%|██████████| 11/11 [00:01<00:00,  8.66it/s, loss=0.732]\n"
     ]
    },
    {
     "name": "stdout",
     "output_type": "stream",
     "text": [
      "Train Loss: 1.4172\n",
      "Val Loss: 1.5679\n",
      "Val NRMSE: 0.0471\n",
      "Val MCAR NRMSE: 0.0450\n",
      "Val MAR NRMSE: 0.0448\n",
      "Val MNAR NRMSE: 0.0515\n",
      "No improvement for 13 epochs\n",
      "\n",
      "Epoch 43/100\n"
     ]
    },
    {
     "name": "stderr",
     "output_type": "stream",
     "text": [
      "Training: 100%|██████████| 11/11 [00:01<00:00,  9.02it/s, loss=2.02]\n"
     ]
    },
    {
     "name": "stdout",
     "output_type": "stream",
     "text": [
      "Train Loss: 1.4273\n",
      "Val Loss: 1.3630\n",
      "Val NRMSE: 0.0436\n",
      "Val MCAR NRMSE: 0.0423\n",
      "Val MAR NRMSE: 0.0362\n",
      "Val MNAR NRMSE: 0.0524\n",
      "No improvement for 14 epochs\n",
      "\n",
      "Epoch 44/100\n"
     ]
    },
    {
     "name": "stderr",
     "output_type": "stream",
     "text": [
      "Training: 100%|██████████| 11/11 [00:01<00:00,  8.63it/s, loss=0.324]\n"
     ]
    },
    {
     "name": "stdout",
     "output_type": "stream",
     "text": [
      "Train Loss: 1.6083\n",
      "Val Loss: 1.3246\n",
      "Val NRMSE: 0.0430\n",
      "Val MCAR NRMSE: 0.0404\n",
      "Val MAR NRMSE: 0.0367\n",
      "Val MNAR NRMSE: 0.0517\n",
      "No improvement for 15 epochs\n",
      "\n",
      "Epoch 45/100\n"
     ]
    },
    {
     "name": "stderr",
     "output_type": "stream",
     "text": [
      "Training: 100%|██████████| 11/11 [00:01<00:00,  8.52it/s, loss=0.719]\n"
     ]
    },
    {
     "name": "stdout",
     "output_type": "stream",
     "text": [
      "Train Loss: 2.0951\n",
      "Val Loss: 1.4138\n",
      "Val NRMSE: 0.0448\n",
      "Val MCAR NRMSE: 0.0436\n",
      "Val MAR NRMSE: 0.0394\n",
      "Val MNAR NRMSE: 0.0515\n",
      "No improvement for 16 epochs\n",
      "\n",
      "Epoch 46/100\n"
     ]
    },
    {
     "name": "stderr",
     "output_type": "stream",
     "text": [
      "Training: 100%|██████████| 11/11 [00:01<00:00,  8.53it/s, loss=3.27]\n"
     ]
    },
    {
     "name": "stdout",
     "output_type": "stream",
     "text": [
      "Train Loss: 1.8391\n",
      "Val Loss: 1.4427\n",
      "Val NRMSE: 0.0447\n",
      "Val MCAR NRMSE: 0.0419\n",
      "Val MAR NRMSE: 0.0381\n",
      "Val MNAR NRMSE: 0.0542\n",
      "No improvement for 17 epochs\n",
      "\n",
      "Epoch 47/100\n"
     ]
    },
    {
     "name": "stderr",
     "output_type": "stream",
     "text": [
      "Training: 100%|██████████| 11/11 [00:01<00:00,  8.87it/s, loss=0.716]\n"
     ]
    },
    {
     "name": "stdout",
     "output_type": "stream",
     "text": [
      "Train Loss: 1.3798\n",
      "Val Loss: 1.4381\n",
      "Val NRMSE: 0.0448\n",
      "Val MCAR NRMSE: 0.0445\n",
      "Val MAR NRMSE: 0.0361\n",
      "Val MNAR NRMSE: 0.0536\n",
      "No improvement for 18 epochs\n",
      "\n",
      "Epoch 48/100\n"
     ]
    },
    {
     "name": "stderr",
     "output_type": "stream",
     "text": [
      "Training: 100%|██████████| 11/11 [00:01<00:00,  8.82it/s, loss=0.595]\n"
     ]
    },
    {
     "name": "stdout",
     "output_type": "stream",
     "text": [
      "Train Loss: 1.2930\n",
      "Val Loss: 1.4673\n",
      "Val NRMSE: 0.0450\n",
      "Val MCAR NRMSE: 0.0416\n",
      "Val MAR NRMSE: 0.0392\n",
      "Val MNAR NRMSE: 0.0542\n",
      "No improvement for 19 epochs\n",
      "\n",
      "Epoch 49/100\n"
     ]
    },
    {
     "name": "stderr",
     "output_type": "stream",
     "text": [
      "Training: 100%|██████████| 11/11 [00:01<00:00,  8.32it/s, loss=0.742]\n"
     ]
    },
    {
     "name": "stdout",
     "output_type": "stream",
     "text": [
      "Train Loss: 1.3273\n",
      "Val Loss: 1.3433\n",
      "Val NRMSE: 0.0430\n",
      "Val MCAR NRMSE: 0.0377\n",
      "Val MAR NRMSE: 0.0373\n",
      "Val MNAR NRMSE: 0.0540\n",
      "No improvement for 20 epochs\n",
      "\n",
      "Epoch 50/100\n"
     ]
    },
    {
     "name": "stderr",
     "output_type": "stream",
     "text": [
      "Training: 100%|██████████| 11/11 [00:01<00:00,  8.85it/s, loss=0.526]\n"
     ]
    },
    {
     "name": "stdout",
     "output_type": "stream",
     "text": [
      "Train Loss: 1.5249\n",
      "Val Loss: 1.4167\n",
      "Val NRMSE: 0.0444\n",
      "Val MCAR NRMSE: 0.0403\n",
      "Val MAR NRMSE: 0.0391\n",
      "Val MNAR NRMSE: 0.0537\n",
      "No improvement for 21 epochs\n",
      "\n",
      "Epoch 51/100\n"
     ]
    },
    {
     "name": "stderr",
     "output_type": "stream",
     "text": [
      "Training: 100%|██████████| 11/11 [00:01<00:00,  8.84it/s, loss=0.854]\n"
     ]
    },
    {
     "name": "stdout",
     "output_type": "stream",
     "text": [
      "Train Loss: 1.2072\n",
      "Val Loss: 1.4383\n",
      "Val NRMSE: 0.0445\n",
      "Val MCAR NRMSE: 0.0409\n",
      "Val MAR NRMSE: 0.0377\n",
      "Val MNAR NRMSE: 0.0550\n",
      "No improvement for 22 epochs\n",
      "\n",
      "Epoch 52/100\n"
     ]
    },
    {
     "name": "stderr",
     "output_type": "stream",
     "text": [
      "Training: 100%|██████████| 11/11 [00:01<00:00,  8.79it/s, loss=1.01]\n"
     ]
    },
    {
     "name": "stdout",
     "output_type": "stream",
     "text": [
      "Train Loss: 1.2790\n",
      "Val Loss: 1.3594\n",
      "Val NRMSE: 0.0434\n",
      "Val MCAR NRMSE: 0.0383\n",
      "Val MAR NRMSE: 0.0393\n",
      "Val MNAR NRMSE: 0.0526\n",
      "No improvement for 23 epochs\n",
      "\n",
      "Epoch 53/100\n"
     ]
    },
    {
     "name": "stderr",
     "output_type": "stream",
     "text": [
      "Training: 100%|██████████| 11/11 [00:01<00:00,  8.48it/s, loss=17.6] \n"
     ]
    },
    {
     "name": "stdout",
     "output_type": "stream",
     "text": [
      "Train Loss: 3.0605\n",
      "Val Loss: 1.3363\n",
      "Val NRMSE: 0.0433\n",
      "Val MCAR NRMSE: 0.0422\n",
      "Val MAR NRMSE: 0.0368\n",
      "Val MNAR NRMSE: 0.0508\n",
      "No improvement for 24 epochs\n",
      "\n",
      "Epoch 54/100\n"
     ]
    },
    {
     "name": "stderr",
     "output_type": "stream",
     "text": [
      "Training: 100%|██████████| 11/11 [00:01<00:00,  8.81it/s, loss=3.38]\n"
     ]
    },
    {
     "name": "stdout",
     "output_type": "stream",
     "text": [
      "Train Loss: 1.8874\n",
      "Val Loss: 1.4742\n",
      "Val NRMSE: 0.0451\n",
      "Val MCAR NRMSE: 0.0378\n",
      "Val MAR NRMSE: 0.0419\n",
      "Val MNAR NRMSE: 0.0557\n",
      "No improvement for 25 epochs\n",
      "Early stopping after 54 epochs\n",
      "Fold 1 metrics:\n",
      "  NRMSE: 0.0451\n",
      "  MCAR NRMSE: 0.0431\n",
      "  MAR NRMSE: 0.0367\n",
      "  MNAR NRMSE: 0.0556\n",
      "\n",
      "Training fold 2/5\n",
      "Starting model training...\n",
      "Creating single transformer model...\n",
      "\n",
      "Epoch 1/100\n"
     ]
    },
    {
     "name": "stderr",
     "output_type": "stream",
     "text": [
      "Training: 100%|██████████| 11/11 [00:01<00:00,  8.62it/s, loss=0.665]\n"
     ]
    },
    {
     "name": "stdout",
     "output_type": "stream",
     "text": [
      "Train Loss: 1.7545\n",
      "Val Loss: 1.6488\n",
      "Val NRMSE: 0.0742\n",
      "Val MCAR NRMSE: 0.0716\n",
      "Val MAR NRMSE: 0.0690\n",
      "Val MNAR NRMSE: 0.0818\n",
      "New best validation loss: 1.6488\n",
      "\n",
      "Epoch 2/100\n"
     ]
    },
    {
     "name": "stderr",
     "output_type": "stream",
     "text": [
      "Training: 100%|██████████| 11/11 [00:01<00:00,  8.89it/s, loss=1.11]\n"
     ]
    },
    {
     "name": "stdout",
     "output_type": "stream",
     "text": [
      "Train Loss: 1.9317\n",
      "Val Loss: 1.4648\n",
      "Val NRMSE: 0.0685\n",
      "Val MCAR NRMSE: 0.0582\n",
      "Val MAR NRMSE: 0.0575\n",
      "Val MNAR NRMSE: 0.0898\n",
      "New best validation loss: 1.4648\n",
      "\n",
      "Epoch 3/100\n"
     ]
    },
    {
     "name": "stderr",
     "output_type": "stream",
     "text": [
      "Training: 100%|██████████| 11/11 [00:01<00:00,  9.06it/s, loss=0.977]\n"
     ]
    },
    {
     "name": "stdout",
     "output_type": "stream",
     "text": [
      "Train Loss: 1.5947\n",
      "Val Loss: 1.5317\n",
      "Val NRMSE: 0.0700\n",
      "Val MCAR NRMSE: 0.0554\n",
      "Val MAR NRMSE: 0.0614\n",
      "Val MNAR NRMSE: 0.0931\n",
      "No improvement for 1 epochs\n",
      "\n",
      "Epoch 4/100\n"
     ]
    },
    {
     "name": "stderr",
     "output_type": "stream",
     "text": [
      "Training: 100%|██████████| 11/11 [00:01<00:00,  8.73it/s, loss=0.95]\n"
     ]
    },
    {
     "name": "stdout",
     "output_type": "stream",
     "text": [
      "Train Loss: 1.4679\n",
      "Val Loss: 1.4547\n",
      "Val NRMSE: 0.0691\n",
      "Val MCAR NRMSE: 0.0636\n",
      "Val MAR NRMSE: 0.0578\n",
      "Val MNAR NRMSE: 0.0858\n",
      "New best validation loss: 1.4547\n",
      "\n",
      "Epoch 5/100\n"
     ]
    },
    {
     "name": "stderr",
     "output_type": "stream",
     "text": [
      "Training: 100%|██████████| 11/11 [00:01<00:00,  8.59it/s, loss=1.65] \n"
     ]
    },
    {
     "name": "stdout",
     "output_type": "stream",
     "text": [
      "Train Loss: 1.8691\n",
      "Val Loss: 1.4889\n",
      "Val NRMSE: 0.0698\n",
      "Val MCAR NRMSE: 0.0620\n",
      "Val MAR NRMSE: 0.0618\n",
      "Val MNAR NRMSE: 0.0854\n",
      "No improvement for 1 epochs\n",
      "\n",
      "Epoch 6/100\n"
     ]
    },
    {
     "name": "stderr",
     "output_type": "stream",
     "text": [
      "Training: 100%|██████████| 11/11 [00:01<00:00,  8.76it/s, loss=1.89]\n"
     ]
    },
    {
     "name": "stdout",
     "output_type": "stream",
     "text": [
      "Train Loss: 1.7594\n",
      "Val Loss: 1.6050\n",
      "Val NRMSE: 0.0725\n",
      "Val MCAR NRMSE: 0.0587\n",
      "Val MAR NRMSE: 0.0647\n",
      "Val MNAR NRMSE: 0.0940\n",
      "No improvement for 2 epochs\n",
      "\n",
      "Epoch 7/100\n"
     ]
    },
    {
     "name": "stderr",
     "output_type": "stream",
     "text": [
      "Training: 100%|██████████| 11/11 [00:01<00:00,  8.43it/s, loss=1.46]\n"
     ]
    },
    {
     "name": "stdout",
     "output_type": "stream",
     "text": [
      "Train Loss: 1.9741\n",
      "Val Loss: 1.6554\n",
      "Val NRMSE: 0.0736\n",
      "Val MCAR NRMSE: 0.0735\n",
      "Val MAR NRMSE: 0.0675\n",
      "Val MNAR NRMSE: 0.0799\n",
      "No improvement for 3 epochs\n",
      "\n",
      "Epoch 8/100\n"
     ]
    },
    {
     "name": "stderr",
     "output_type": "stream",
     "text": [
      "Training: 100%|██████████| 11/11 [00:01<00:00,  8.34it/s, loss=0.947]\n"
     ]
    },
    {
     "name": "stdout",
     "output_type": "stream",
     "text": [
      "Train Loss: 1.8666\n",
      "Val Loss: 1.5317\n",
      "Val NRMSE: 0.0702\n",
      "Val MCAR NRMSE: 0.0573\n",
      "Val MAR NRMSE: 0.0593\n",
      "Val MNAR NRMSE: 0.0941\n",
      "No improvement for 4 epochs\n",
      "\n",
      "Epoch 9/100\n"
     ]
    },
    {
     "name": "stderr",
     "output_type": "stream",
     "text": [
      "Training: 100%|██████████| 11/11 [00:01<00:00,  8.82it/s, loss=1.52]\n"
     ]
    },
    {
     "name": "stdout",
     "output_type": "stream",
     "text": [
      "Train Loss: 2.4408\n",
      "Val Loss: 1.4852\n",
      "Val NRMSE: 0.0691\n",
      "Val MCAR NRMSE: 0.0627\n",
      "Val MAR NRMSE: 0.0600\n",
      "Val MNAR NRMSE: 0.0847\n",
      "No improvement for 5 epochs\n",
      "\n",
      "Epoch 10/100\n"
     ]
    },
    {
     "name": "stderr",
     "output_type": "stream",
     "text": [
      "Training: 100%|██████████| 11/11 [00:01<00:00,  8.89it/s, loss=0.767]\n"
     ]
    },
    {
     "name": "stdout",
     "output_type": "stream",
     "text": [
      "Train Loss: 1.4559\n",
      "Val Loss: 1.6693\n",
      "Val NRMSE: 0.0725\n",
      "Val MCAR NRMSE: 0.0550\n",
      "Val MAR NRMSE: 0.0605\n",
      "Val MNAR NRMSE: 0.1021\n",
      "No improvement for 6 epochs\n",
      "\n",
      "Epoch 11/100\n"
     ]
    },
    {
     "name": "stderr",
     "output_type": "stream",
     "text": [
      "Training: 100%|██████████| 11/11 [00:01<00:00,  8.99it/s, loss=0.572]\n"
     ]
    },
    {
     "name": "stdout",
     "output_type": "stream",
     "text": [
      "Train Loss: 1.4848\n",
      "Val Loss: 1.4607\n",
      "Val NRMSE: 0.0692\n",
      "Val MCAR NRMSE: 0.0564\n",
      "Val MAR NRMSE: 0.0622\n",
      "Val MNAR NRMSE: 0.0888\n",
      "No improvement for 7 epochs\n",
      "\n",
      "Epoch 12/100\n"
     ]
    },
    {
     "name": "stderr",
     "output_type": "stream",
     "text": [
      "Training: 100%|██████████| 11/11 [00:01<00:00,  9.32it/s, loss=0.576]\n"
     ]
    },
    {
     "name": "stdout",
     "output_type": "stream",
     "text": [
      "Train Loss: 1.7760\n",
      "Val Loss: 1.5201\n",
      "Val NRMSE: 0.0696\n",
      "Val MCAR NRMSE: 0.0573\n",
      "Val MAR NRMSE: 0.0557\n",
      "Val MNAR NRMSE: 0.0956\n",
      "No improvement for 8 epochs\n",
      "\n",
      "Epoch 13/100\n"
     ]
    },
    {
     "name": "stderr",
     "output_type": "stream",
     "text": [
      "Training: 100%|██████████| 11/11 [00:01<00:00,  8.71it/s, loss=1.05]\n"
     ]
    },
    {
     "name": "stdout",
     "output_type": "stream",
     "text": [
      "Train Loss: 2.4969\n",
      "Val Loss: 2.0725\n",
      "Val NRMSE: 0.0823\n",
      "Val MCAR NRMSE: 0.0871\n",
      "Val MAR NRMSE: 0.0808\n",
      "Val MNAR NRMSE: 0.0789\n",
      "No improvement for 9 epochs\n",
      "\n",
      "Epoch 14/100\n"
     ]
    },
    {
     "name": "stderr",
     "output_type": "stream",
     "text": [
      "Training: 100%|██████████| 11/11 [00:01<00:00,  9.07it/s, loss=0.379]\n"
     ]
    },
    {
     "name": "stdout",
     "output_type": "stream",
     "text": [
      "Train Loss: 1.3629\n",
      "Val Loss: 1.5629\n",
      "Val NRMSE: 0.0713\n",
      "Val MCAR NRMSE: 0.0567\n",
      "Val MAR NRMSE: 0.0627\n",
      "Val MNAR NRMSE: 0.0947\n",
      "No improvement for 10 epochs\n",
      "\n",
      "Epoch 15/100\n"
     ]
    },
    {
     "name": "stderr",
     "output_type": "stream",
     "text": [
      "Training: 100%|██████████| 11/11 [00:01<00:00,  9.14it/s, loss=1.33]\n"
     ]
    },
    {
     "name": "stdout",
     "output_type": "stream",
     "text": [
      "Train Loss: 2.1143\n",
      "Val Loss: 1.4676\n",
      "Val NRMSE: 0.0680\n",
      "Val MCAR NRMSE: 0.0516\n",
      "Val MAR NRMSE: 0.0561\n",
      "Val MNAR NRMSE: 0.0964\n",
      "No improvement for 11 epochs\n",
      "\n",
      "Epoch 16/100\n"
     ]
    },
    {
     "name": "stderr",
     "output_type": "stream",
     "text": [
      "Training: 100%|██████████| 11/11 [00:01<00:00,  8.48it/s, loss=9.04]\n"
     ]
    },
    {
     "name": "stdout",
     "output_type": "stream",
     "text": [
      "Train Loss: 2.6266\n",
      "Val Loss: 1.4583\n",
      "Val NRMSE: 0.0694\n",
      "Val MCAR NRMSE: 0.0662\n",
      "Val MAR NRMSE: 0.0620\n",
      "Val MNAR NRMSE: 0.0802\n",
      "No improvement for 12 epochs\n",
      "\n",
      "Epoch 17/100\n"
     ]
    },
    {
     "name": "stderr",
     "output_type": "stream",
     "text": [
      "Training: 100%|██████████| 11/11 [00:01<00:00,  8.78it/s, loss=0.713]\n"
     ]
    },
    {
     "name": "stdout",
     "output_type": "stream",
     "text": [
      "Train Loss: 1.9214\n",
      "Val Loss: 1.5719\n",
      "Val NRMSE: 0.0716\n",
      "Val MCAR NRMSE: 0.0611\n",
      "Val MAR NRMSE: 0.0648\n",
      "Val MNAR NRMSE: 0.0889\n",
      "No improvement for 13 epochs\n",
      "\n",
      "Epoch 18/100\n"
     ]
    },
    {
     "name": "stderr",
     "output_type": "stream",
     "text": [
      "Training: 100%|██████████| 11/11 [00:01<00:00,  9.00it/s, loss=0.745]\n"
     ]
    },
    {
     "name": "stdout",
     "output_type": "stream",
     "text": [
      "Train Loss: 1.3856\n",
      "Val Loss: 1.8978\n",
      "Val NRMSE: 0.0780\n",
      "Val MCAR NRMSE: 0.0554\n",
      "Val MAR NRMSE: 0.0714\n",
      "Val MNAR NRMSE: 0.1071\n",
      "No improvement for 14 epochs\n",
      "\n",
      "Epoch 19/100\n"
     ]
    },
    {
     "name": "stderr",
     "output_type": "stream",
     "text": [
      "Training: 100%|██████████| 11/11 [00:01<00:00,  9.00it/s, loss=0.574]\n"
     ]
    },
    {
     "name": "stdout",
     "output_type": "stream",
     "text": [
      "Train Loss: 1.7324\n",
      "Val Loss: 1.5464\n",
      "Val NRMSE: 0.0717\n",
      "Val MCAR NRMSE: 0.0624\n",
      "Val MAR NRMSE: 0.0659\n",
      "Val MNAR NRMSE: 0.0867\n",
      "No improvement for 15 epochs\n",
      "\n",
      "Epoch 20/100\n"
     ]
    },
    {
     "name": "stderr",
     "output_type": "stream",
     "text": [
      "Training: 100%|██████████| 11/11 [00:01<00:00,  9.29it/s, loss=0.774]\n"
     ]
    },
    {
     "name": "stdout",
     "output_type": "stream",
     "text": [
      "Train Loss: 1.2825\n",
      "Val Loss: 1.5368\n",
      "Val NRMSE: 0.0695\n",
      "Val MCAR NRMSE: 0.0538\n",
      "Val MAR NRMSE: 0.0576\n",
      "Val MNAR NRMSE: 0.0972\n",
      "No improvement for 16 epochs\n",
      "\n",
      "Epoch 21/100\n"
     ]
    },
    {
     "name": "stderr",
     "output_type": "stream",
     "text": [
      "Training: 100%|██████████| 11/11 [00:01<00:00,  8.76it/s, loss=5.8]  \n"
     ]
    },
    {
     "name": "stdout",
     "output_type": "stream",
     "text": [
      "Train Loss: 1.8532\n",
      "Val Loss: 1.5432\n",
      "Val NRMSE: 0.0700\n",
      "Val MCAR NRMSE: 0.0529\n",
      "Val MAR NRMSE: 0.0626\n",
      "Val MNAR NRMSE: 0.0946\n",
      "No improvement for 17 epochs\n",
      "\n",
      "Epoch 22/100\n"
     ]
    },
    {
     "name": "stderr",
     "output_type": "stream",
     "text": [
      "Training: 100%|██████████| 11/11 [00:01<00:00,  8.86it/s, loss=0.736]\n"
     ]
    },
    {
     "name": "stdout",
     "output_type": "stream",
     "text": [
      "Train Loss: 1.4456\n",
      "Val Loss: 1.6822\n",
      "Val NRMSE: 0.0734\n",
      "Val MCAR NRMSE: 0.0567\n",
      "Val MAR NRMSE: 0.0630\n",
      "Val MNAR NRMSE: 0.1004\n",
      "No improvement for 18 epochs\n",
      "\n",
      "Epoch 23/100\n"
     ]
    },
    {
     "name": "stderr",
     "output_type": "stream",
     "text": [
      "Training: 100%|██████████| 11/11 [00:01<00:00,  8.81it/s, loss=0.983]\n"
     ]
    },
    {
     "name": "stdout",
     "output_type": "stream",
     "text": [
      "Train Loss: 1.5320\n",
      "Val Loss: 1.6108\n",
      "Val NRMSE: 0.0714\n",
      "Val MCAR NRMSE: 0.0569\n",
      "Val MAR NRMSE: 0.0587\n",
      "Val MNAR NRMSE: 0.0985\n",
      "No improvement for 19 epochs\n",
      "\n",
      "Epoch 24/100\n"
     ]
    },
    {
     "name": "stderr",
     "output_type": "stream",
     "text": [
      "Training: 100%|██████████| 11/11 [00:01<00:00,  9.21it/s, loss=1.32]\n"
     ]
    },
    {
     "name": "stdout",
     "output_type": "stream",
     "text": [
      "Train Loss: 1.5294\n",
      "Val Loss: 1.5150\n",
      "Val NRMSE: 0.0707\n",
      "Val MCAR NRMSE: 0.0667\n",
      "Val MAR NRMSE: 0.0625\n",
      "Val MNAR NRMSE: 0.0829\n",
      "No improvement for 20 epochs\n",
      "\n",
      "Epoch 25/100\n"
     ]
    },
    {
     "name": "stderr",
     "output_type": "stream",
     "text": [
      "Training: 100%|██████████| 11/11 [00:01<00:00,  8.74it/s, loss=0.66]\n"
     ]
    },
    {
     "name": "stdout",
     "output_type": "stream",
     "text": [
      "Train Loss: 1.9837\n",
      "Val Loss: 1.5959\n",
      "Val NRMSE: 0.0724\n",
      "Val MCAR NRMSE: 0.0665\n",
      "Val MAR NRMSE: 0.0664\n",
      "Val MNAR NRMSE: 0.0844\n",
      "No improvement for 21 epochs\n",
      "\n",
      "Epoch 26/100\n"
     ]
    },
    {
     "name": "stderr",
     "output_type": "stream",
     "text": [
      "Training: 100%|██████████| 11/11 [00:01<00:00,  8.95it/s, loss=0.251]\n"
     ]
    },
    {
     "name": "stdout",
     "output_type": "stream",
     "text": [
      "Train Loss: 1.3454\n",
      "Val Loss: 1.7684\n",
      "Val NRMSE: 0.0747\n",
      "Val MCAR NRMSE: 0.0534\n",
      "Val MAR NRMSE: 0.0660\n",
      "Val MNAR NRMSE: 0.1046\n",
      "No improvement for 22 epochs\n",
      "\n",
      "Epoch 27/100\n"
     ]
    },
    {
     "name": "stderr",
     "output_type": "stream",
     "text": [
      "Training: 100%|██████████| 11/11 [00:01<00:00,  8.61it/s, loss=1.89]\n"
     ]
    },
    {
     "name": "stdout",
     "output_type": "stream",
     "text": [
      "Train Loss: 1.3101\n",
      "Val Loss: 1.5027\n",
      "Val NRMSE: 0.0696\n",
      "Val MCAR NRMSE: 0.0557\n",
      "Val MAR NRMSE: 0.0587\n",
      "Val MNAR NRMSE: 0.0945\n",
      "No improvement for 23 epochs\n",
      "\n",
      "Epoch 28/100\n"
     ]
    },
    {
     "name": "stderr",
     "output_type": "stream",
     "text": [
      "Training: 100%|██████████| 11/11 [00:01<00:00,  7.88it/s, loss=1.15]\n"
     ]
    },
    {
     "name": "stdout",
     "output_type": "stream",
     "text": [
      "Train Loss: 1.8941\n",
      "Val Loss: 1.5023\n",
      "Val NRMSE: 0.0702\n",
      "Val MCAR NRMSE: 0.0570\n",
      "Val MAR NRMSE: 0.0634\n",
      "Val MNAR NRMSE: 0.0902\n",
      "No improvement for 24 epochs\n",
      "\n",
      "Epoch 29/100\n"
     ]
    },
    {
     "name": "stderr",
     "output_type": "stream",
     "text": [
      "Training: 100%|██████████| 11/11 [00:01<00:00,  9.17it/s, loss=1.15]\n"
     ]
    },
    {
     "name": "stdout",
     "output_type": "stream",
     "text": [
      "Train Loss: 2.1766\n",
      "Val Loss: 1.5385\n",
      "Val NRMSE: 0.0704\n",
      "Val MCAR NRMSE: 0.0569\n",
      "Val MAR NRMSE: 0.0613\n",
      "Val MNAR NRMSE: 0.0929\n",
      "No improvement for 25 epochs\n",
      "Early stopping after 29 epochs\n",
      "Fold 2 metrics:\n",
      "  NRMSE: 0.0684\n",
      "  MCAR NRMSE: 0.0551\n",
      "  MAR NRMSE: 0.0577\n",
      "  MNAR NRMSE: 0.0923\n",
      "\n",
      "Training fold 3/5\n",
      "Starting model training...\n",
      "Creating single transformer model...\n",
      "\n",
      "Epoch 1/100\n"
     ]
    },
    {
     "name": "stderr",
     "output_type": "stream",
     "text": [
      "Training: 100%|██████████| 11/11 [00:01<00:00,  9.23it/s, loss=1.79]\n"
     ]
    },
    {
     "name": "stdout",
     "output_type": "stream",
     "text": [
      "Train Loss: 1.6249\n",
      "Val Loss: 1.8677\n",
      "Val NRMSE: 0.0487\n",
      "Val MCAR NRMSE: 0.0434\n",
      "Val MAR NRMSE: 0.0426\n",
      "Val MNAR NRMSE: 0.0602\n",
      "New best validation loss: 1.8677\n",
      "\n",
      "Epoch 2/100\n"
     ]
    },
    {
     "name": "stderr",
     "output_type": "stream",
     "text": [
      "Training: 100%|██████████| 11/11 [00:01<00:00,  9.05it/s, loss=2]   \n"
     ]
    },
    {
     "name": "stdout",
     "output_type": "stream",
     "text": [
      "Train Loss: 2.0159\n",
      "Val Loss: 1.7782\n",
      "Val NRMSE: 0.0491\n",
      "Val MCAR NRMSE: 0.0488\n",
      "Val MAR NRMSE: 0.0418\n",
      "Val MNAR NRMSE: 0.0566\n",
      "New best validation loss: 1.7782\n",
      "\n",
      "Epoch 3/100\n"
     ]
    },
    {
     "name": "stderr",
     "output_type": "stream",
     "text": [
      "Training: 100%|██████████| 11/11 [00:01<00:00,  9.06it/s, loss=0.556]\n"
     ]
    },
    {
     "name": "stdout",
     "output_type": "stream",
     "text": [
      "Train Loss: 1.6992\n",
      "Val Loss: 1.9538\n",
      "Val NRMSE: 0.0507\n",
      "Val MCAR NRMSE: 0.0468\n",
      "Val MAR NRMSE: 0.0478\n",
      "Val MNAR NRMSE: 0.0576\n",
      "No improvement for 1 epochs\n",
      "\n",
      "Epoch 4/100\n"
     ]
    },
    {
     "name": "stderr",
     "output_type": "stream",
     "text": [
      "Training: 100%|██████████| 11/11 [00:01<00:00,  9.54it/s, loss=0.376]\n"
     ]
    },
    {
     "name": "stdout",
     "output_type": "stream",
     "text": [
      "Train Loss: 1.9379\n",
      "Val Loss: 1.8583\n",
      "Val NRMSE: 0.0486\n",
      "Val MCAR NRMSE: 0.0393\n",
      "Val MAR NRMSE: 0.0439\n",
      "Val MNAR NRMSE: 0.0626\n",
      "No improvement for 2 epochs\n",
      "\n",
      "Epoch 5/100\n"
     ]
    },
    {
     "name": "stderr",
     "output_type": "stream",
     "text": [
      "Training: 100%|██████████| 11/11 [00:01<00:00,  9.30it/s, loss=4.49] \n"
     ]
    },
    {
     "name": "stdout",
     "output_type": "stream",
     "text": [
      "Train Loss: 2.1331\n",
      "Val Loss: 1.7142\n",
      "Val NRMSE: 0.0470\n",
      "Val MCAR NRMSE: 0.0406\n",
      "Val MAR NRMSE: 0.0424\n",
      "Val MNAR NRMSE: 0.0581\n",
      "New best validation loss: 1.7142\n",
      "\n",
      "Epoch 6/100\n"
     ]
    },
    {
     "name": "stderr",
     "output_type": "stream",
     "text": [
      "Training: 100%|██████████| 11/11 [00:01<00:00,  9.29it/s, loss=2.35]\n"
     ]
    },
    {
     "name": "stdout",
     "output_type": "stream",
     "text": [
      "Train Loss: 1.7879\n",
      "Val Loss: 2.0946\n",
      "Val NRMSE: 0.0531\n",
      "Val MCAR NRMSE: 0.0518\n",
      "Val MAR NRMSE: 0.0502\n",
      "Val MNAR NRMSE: 0.0573\n",
      "No improvement for 1 epochs\n",
      "\n",
      "Epoch 7/100\n"
     ]
    },
    {
     "name": "stderr",
     "output_type": "stream",
     "text": [
      "Training: 100%|██████████| 11/11 [00:01<00:00,  9.55it/s, loss=4.16]\n"
     ]
    },
    {
     "name": "stdout",
     "output_type": "stream",
     "text": [
      "Train Loss: 1.5314\n",
      "Val Loss: 1.9466\n",
      "Val NRMSE: 0.0499\n",
      "Val MCAR NRMSE: 0.0410\n",
      "Val MAR NRMSE: 0.0439\n",
      "Val MNAR NRMSE: 0.0649\n",
      "No improvement for 2 epochs\n",
      "\n",
      "Epoch 8/100\n"
     ]
    },
    {
     "name": "stderr",
     "output_type": "stream",
     "text": [
      "Training: 100%|██████████| 11/11 [00:01<00:00,  9.35it/s, loss=0.568]\n"
     ]
    },
    {
     "name": "stdout",
     "output_type": "stream",
     "text": [
      "Train Loss: 1.3412\n",
      "Val Loss: 1.9479\n",
      "Val NRMSE: 0.0502\n",
      "Val MCAR NRMSE: 0.0485\n",
      "Val MAR NRMSE: 0.0451\n",
      "Val MNAR NRMSE: 0.0571\n",
      "No improvement for 3 epochs\n",
      "\n",
      "Epoch 9/100\n"
     ]
    },
    {
     "name": "stderr",
     "output_type": "stream",
     "text": [
      "Training: 100%|██████████| 11/11 [00:01<00:00,  9.30it/s, loss=0.633]\n"
     ]
    },
    {
     "name": "stdout",
     "output_type": "stream",
     "text": [
      "Train Loss: 1.8165\n",
      "Val Loss: 1.8273\n",
      "Val NRMSE: 0.0487\n",
      "Val MCAR NRMSE: 0.0431\n",
      "Val MAR NRMSE: 0.0449\n",
      "Val MNAR NRMSE: 0.0580\n",
      "No improvement for 4 epochs\n",
      "\n",
      "Epoch 10/100\n"
     ]
    },
    {
     "name": "stderr",
     "output_type": "stream",
     "text": [
      "Training: 100%|██████████| 11/11 [00:01<00:00,  9.07it/s, loss=2.68]\n"
     ]
    },
    {
     "name": "stdout",
     "output_type": "stream",
     "text": [
      "Train Loss: 1.5941\n",
      "Val Loss: 1.7103\n",
      "Val NRMSE: 0.0469\n",
      "Val MCAR NRMSE: 0.0376\n",
      "Val MAR NRMSE: 0.0417\n",
      "Val MNAR NRMSE: 0.0614\n",
      "New best validation loss: 1.7103\n",
      "\n",
      "Epoch 11/100\n"
     ]
    },
    {
     "name": "stderr",
     "output_type": "stream",
     "text": [
      "Training: 100%|██████████| 11/11 [00:01<00:00,  9.12it/s, loss=0.727]\n"
     ]
    },
    {
     "name": "stdout",
     "output_type": "stream",
     "text": [
      "Train Loss: 2.0566\n",
      "Val Loss: 1.9568\n",
      "Val NRMSE: 0.0507\n",
      "Val MCAR NRMSE: 0.0469\n",
      "Val MAR NRMSE: 0.0486\n",
      "Val MNAR NRMSE: 0.0565\n",
      "No improvement for 1 epochs\n",
      "\n",
      "Epoch 12/100\n"
     ]
    },
    {
     "name": "stderr",
     "output_type": "stream",
     "text": [
      "Training: 100%|██████████| 11/11 [00:01<00:00,  9.10it/s, loss=0.77]\n"
     ]
    },
    {
     "name": "stdout",
     "output_type": "stream",
     "text": [
      "Train Loss: 1.8545\n",
      "Val Loss: 1.8081\n",
      "Val NRMSE: 0.0484\n",
      "Val MCAR NRMSE: 0.0450\n",
      "Val MAR NRMSE: 0.0421\n",
      "Val MNAR NRMSE: 0.0582\n",
      "No improvement for 2 epochs\n",
      "\n",
      "Epoch 13/100\n"
     ]
    },
    {
     "name": "stderr",
     "output_type": "stream",
     "text": [
      "Training: 100%|██████████| 11/11 [00:01<00:00,  9.17it/s, loss=1.33]\n"
     ]
    },
    {
     "name": "stdout",
     "output_type": "stream",
     "text": [
      "Train Loss: 1.7277\n",
      "Val Loss: 1.8015\n",
      "Val NRMSE: 0.0488\n",
      "Val MCAR NRMSE: 0.0450\n",
      "Val MAR NRMSE: 0.0428\n",
      "Val MNAR NRMSE: 0.0585\n",
      "No improvement for 3 epochs\n",
      "\n",
      "Epoch 14/100\n"
     ]
    },
    {
     "name": "stderr",
     "output_type": "stream",
     "text": [
      "Training: 100%|██████████| 11/11 [00:01<00:00,  9.14it/s, loss=1.23]\n"
     ]
    },
    {
     "name": "stdout",
     "output_type": "stream",
     "text": [
      "Train Loss: 1.4666\n",
      "Val Loss: 1.6929\n",
      "Val NRMSE: 0.0464\n",
      "Val MCAR NRMSE: 0.0389\n",
      "Val MAR NRMSE: 0.0417\n",
      "Val MNAR NRMSE: 0.0587\n",
      "New best validation loss: 1.6929\n",
      "\n",
      "Epoch 15/100\n"
     ]
    },
    {
     "name": "stderr",
     "output_type": "stream",
     "text": [
      "Training: 100%|██████████| 11/11 [00:01<00:00,  9.38it/s, loss=2.53] \n"
     ]
    },
    {
     "name": "stdout",
     "output_type": "stream",
     "text": [
      "Train Loss: 1.7245\n",
      "Val Loss: 1.6182\n",
      "Val NRMSE: 0.0457\n",
      "Val MCAR NRMSE: 0.0432\n",
      "Val MAR NRMSE: 0.0364\n",
      "Val MNAR NRMSE: 0.0576\n",
      "New best validation loss: 1.6182\n",
      "\n",
      "Epoch 16/100\n"
     ]
    },
    {
     "name": "stderr",
     "output_type": "stream",
     "text": [
      "Training: 100%|██████████| 11/11 [00:01<00:00,  9.59it/s, loss=2.93] \n"
     ]
    },
    {
     "name": "stdout",
     "output_type": "stream",
     "text": [
      "Train Loss: 1.4043\n",
      "Val Loss: 1.9282\n",
      "Val NRMSE: 0.0495\n",
      "Val MCAR NRMSE: 0.0385\n",
      "Val MAR NRMSE: 0.0463\n",
      "Val MNAR NRMSE: 0.0637\n",
      "No improvement for 1 epochs\n",
      "\n",
      "Epoch 17/100\n"
     ]
    },
    {
     "name": "stderr",
     "output_type": "stream",
     "text": [
      "Training: 100%|██████████| 11/11 [00:01<00:00,  9.81it/s, loss=0.999]\n"
     ]
    },
    {
     "name": "stdout",
     "output_type": "stream",
     "text": [
      "Train Loss: 1.4846\n",
      "Val Loss: 1.7443\n",
      "Val NRMSE: 0.0476\n",
      "Val MCAR NRMSE: 0.0390\n",
      "Val MAR NRMSE: 0.0416\n",
      "Val MNAR NRMSE: 0.0622\n",
      "No improvement for 2 epochs\n",
      "\n",
      "Epoch 18/100\n"
     ]
    },
    {
     "name": "stderr",
     "output_type": "stream",
     "text": [
      "Training: 100%|██████████| 11/11 [00:01<00:00,  9.46it/s, loss=0.739]\n"
     ]
    },
    {
     "name": "stdout",
     "output_type": "stream",
     "text": [
      "Train Loss: 1.3884\n",
      "Val Loss: 1.8822\n",
      "Val NRMSE: 0.0489\n",
      "Val MCAR NRMSE: 0.0413\n",
      "Val MAR NRMSE: 0.0439\n",
      "Val MNAR NRMSE: 0.0616\n",
      "No improvement for 3 epochs\n",
      "\n",
      "Epoch 19/100\n"
     ]
    },
    {
     "name": "stderr",
     "output_type": "stream",
     "text": [
      "Training: 100%|██████████| 11/11 [00:01<00:00,  9.62it/s, loss=0.589]\n"
     ]
    },
    {
     "name": "stdout",
     "output_type": "stream",
     "text": [
      "Train Loss: 1.2469\n",
      "Val Loss: 1.8118\n",
      "Val NRMSE: 0.0486\n",
      "Val MCAR NRMSE: 0.0446\n",
      "Val MAR NRMSE: 0.0442\n",
      "Val MNAR NRMSE: 0.0570\n",
      "No improvement for 4 epochs\n",
      "\n",
      "Epoch 20/100\n"
     ]
    },
    {
     "name": "stderr",
     "output_type": "stream",
     "text": [
      "Training: 100%|██████████| 11/11 [00:01<00:00,  9.51it/s, loss=2.98]\n"
     ]
    },
    {
     "name": "stdout",
     "output_type": "stream",
     "text": [
      "Train Loss: 1.9079\n",
      "Val Loss: 1.6525\n",
      "Val NRMSE: 0.0468\n",
      "Val MCAR NRMSE: 0.0425\n",
      "Val MAR NRMSE: 0.0411\n",
      "Val MNAR NRMSE: 0.0568\n",
      "No improvement for 5 epochs\n",
      "\n",
      "Epoch 21/100\n"
     ]
    },
    {
     "name": "stderr",
     "output_type": "stream",
     "text": [
      "Training: 100%|██████████| 11/11 [00:01<00:00,  9.44it/s, loss=0.781]\n"
     ]
    },
    {
     "name": "stdout",
     "output_type": "stream",
     "text": [
      "Train Loss: 1.9953\n",
      "Val Loss: 1.7180\n",
      "Val NRMSE: 0.0475\n",
      "Val MCAR NRMSE: 0.0444\n",
      "Val MAR NRMSE: 0.0397\n",
      "Val MNAR NRMSE: 0.0584\n",
      "No improvement for 6 epochs\n",
      "\n",
      "Epoch 22/100\n"
     ]
    },
    {
     "name": "stderr",
     "output_type": "stream",
     "text": [
      "Training: 100%|██████████| 11/11 [00:01<00:00,  9.24it/s, loss=1.23]\n"
     ]
    },
    {
     "name": "stdout",
     "output_type": "stream",
     "text": [
      "Train Loss: 1.9806\n",
      "Val Loss: 1.8506\n",
      "Val NRMSE: 0.0499\n",
      "Val MCAR NRMSE: 0.0458\n",
      "Val MAR NRMSE: 0.0468\n",
      "Val MNAR NRMSE: 0.0570\n",
      "No improvement for 7 epochs\n",
      "\n",
      "Epoch 23/100\n"
     ]
    },
    {
     "name": "stderr",
     "output_type": "stream",
     "text": [
      "Training: 100%|██████████| 11/11 [00:01<00:00,  9.58it/s, loss=1.22]\n"
     ]
    },
    {
     "name": "stdout",
     "output_type": "stream",
     "text": [
      "Train Loss: 1.3307\n",
      "Val Loss: 1.8554\n",
      "Val NRMSE: 0.0484\n",
      "Val MCAR NRMSE: 0.0380\n",
      "Val MAR NRMSE: 0.0449\n",
      "Val MNAR NRMSE: 0.0624\n",
      "No improvement for 8 epochs\n",
      "\n",
      "Epoch 24/100\n"
     ]
    },
    {
     "name": "stderr",
     "output_type": "stream",
     "text": [
      "Training: 100%|██████████| 11/11 [00:01<00:00,  9.32it/s, loss=0.757]\n"
     ]
    },
    {
     "name": "stdout",
     "output_type": "stream",
     "text": [
      "Train Loss: 1.6514\n",
      "Val Loss: 1.6947\n",
      "Val NRMSE: 0.0469\n",
      "Val MCAR NRMSE: 0.0403\n",
      "Val MAR NRMSE: 0.0416\n",
      "Val MNAR NRMSE: 0.0588\n",
      "No improvement for 9 epochs\n",
      "\n",
      "Epoch 25/100\n"
     ]
    },
    {
     "name": "stderr",
     "output_type": "stream",
     "text": [
      "Training: 100%|██████████| 11/11 [00:01<00:00,  9.70it/s, loss=0.698]\n"
     ]
    },
    {
     "name": "stdout",
     "output_type": "stream",
     "text": [
      "Train Loss: 1.3259\n",
      "Val Loss: 2.0199\n",
      "Val NRMSE: 0.0513\n",
      "Val MCAR NRMSE: 0.0420\n",
      "Val MAR NRMSE: 0.0455\n",
      "Val MNAR NRMSE: 0.0664\n",
      "No improvement for 10 epochs\n",
      "\n",
      "Epoch 26/100\n"
     ]
    },
    {
     "name": "stderr",
     "output_type": "stream",
     "text": [
      "Training: 100%|██████████| 11/11 [00:01<00:00,  9.67it/s, loss=5.37]\n"
     ]
    },
    {
     "name": "stdout",
     "output_type": "stream",
     "text": [
      "Train Loss: 1.9179\n",
      "Val Loss: 2.1289\n",
      "Val NRMSE: 0.0535\n",
      "Val MCAR NRMSE: 0.0556\n",
      "Val MAR NRMSE: 0.0479\n",
      "Val MNAR NRMSE: 0.0570\n",
      "No improvement for 11 epochs\n",
      "\n",
      "Epoch 27/100\n"
     ]
    },
    {
     "name": "stderr",
     "output_type": "stream",
     "text": [
      "Training: 100%|██████████| 11/11 [00:01<00:00,  8.78it/s, loss=0.98]\n"
     ]
    },
    {
     "name": "stdout",
     "output_type": "stream",
     "text": [
      "Train Loss: 1.7934\n",
      "Val Loss: 1.6869\n",
      "Val NRMSE: 0.0456\n",
      "Val MCAR NRMSE: 0.0367\n",
      "Val MAR NRMSE: 0.0396\n",
      "Val MNAR NRMSE: 0.0606\n",
      "No improvement for 12 epochs\n",
      "\n",
      "Epoch 28/100\n"
     ]
    },
    {
     "name": "stderr",
     "output_type": "stream",
     "text": [
      "Training: 100%|██████████| 11/11 [00:01<00:00,  9.26it/s, loss=0.691]\n"
     ]
    },
    {
     "name": "stdout",
     "output_type": "stream",
     "text": [
      "Train Loss: 1.5352\n",
      "Val Loss: 1.8314\n",
      "Val NRMSE: 0.0489\n",
      "Val MCAR NRMSE: 0.0418\n",
      "Val MAR NRMSE: 0.0432\n",
      "Val MNAR NRMSE: 0.0618\n",
      "No improvement for 13 epochs\n",
      "\n",
      "Epoch 29/100\n"
     ]
    },
    {
     "name": "stderr",
     "output_type": "stream",
     "text": [
      "Training: 100%|██████████| 11/11 [00:01<00:00,  9.66it/s, loss=0.733]\n"
     ]
    },
    {
     "name": "stdout",
     "output_type": "stream",
     "text": [
      "Train Loss: 1.6076\n",
      "Val Loss: 1.7612\n",
      "Val NRMSE: 0.0472\n",
      "Val MCAR NRMSE: 0.0373\n",
      "Val MAR NRMSE: 0.0430\n",
      "Val MNAR NRMSE: 0.0615\n",
      "No improvement for 14 epochs\n",
      "\n",
      "Epoch 30/100\n"
     ]
    },
    {
     "name": "stderr",
     "output_type": "stream",
     "text": [
      "Training: 100%|██████████| 11/11 [00:01<00:00,  9.12it/s, loss=13.2]\n"
     ]
    },
    {
     "name": "stdout",
     "output_type": "stream",
     "text": [
      "Train Loss: 2.8766\n",
      "Val Loss: 1.8921\n",
      "Val NRMSE: 0.0500\n",
      "Val MCAR NRMSE: 0.0509\n",
      "Val MAR NRMSE: 0.0427\n",
      "Val MNAR NRMSE: 0.0565\n",
      "No improvement for 15 epochs\n",
      "\n",
      "Epoch 31/100\n"
     ]
    },
    {
     "name": "stderr",
     "output_type": "stream",
     "text": [
      "Training: 100%|██████████| 11/11 [00:01<00:00,  9.59it/s, loss=1.54]\n"
     ]
    },
    {
     "name": "stdout",
     "output_type": "stream",
     "text": [
      "Train Loss: 1.6109\n",
      "Val Loss: 2.0708\n",
      "Val NRMSE: 0.0516\n",
      "Val MCAR NRMSE: 0.0400\n",
      "Val MAR NRMSE: 0.0488\n",
      "Val MNAR NRMSE: 0.0658\n",
      "No improvement for 16 epochs\n",
      "\n",
      "Epoch 32/100\n"
     ]
    },
    {
     "name": "stderr",
     "output_type": "stream",
     "text": [
      "Training: 100%|██████████| 11/11 [00:01<00:00,  9.36it/s, loss=0.924]\n"
     ]
    },
    {
     "name": "stdout",
     "output_type": "stream",
     "text": [
      "Train Loss: 1.8103\n",
      "Val Loss: 1.7191\n",
      "Val NRMSE: 0.0473\n",
      "Val MCAR NRMSE: 0.0443\n",
      "Val MAR NRMSE: 0.0401\n",
      "Val MNAR NRMSE: 0.0574\n",
      "No improvement for 17 epochs\n",
      "\n",
      "Epoch 33/100\n"
     ]
    },
    {
     "name": "stderr",
     "output_type": "stream",
     "text": [
      "Training: 100%|██████████| 11/11 [00:01<00:00,  9.06it/s, loss=1.54]\n"
     ]
    },
    {
     "name": "stdout",
     "output_type": "stream",
     "text": [
      "Train Loss: 1.6861\n",
      "Val Loss: 1.8324\n",
      "Val NRMSE: 0.0488\n",
      "Val MCAR NRMSE: 0.0410\n",
      "Val MAR NRMSE: 0.0483\n",
      "Val MNAR NRMSE: 0.0571\n",
      "No improvement for 18 epochs\n",
      "\n",
      "Epoch 34/100\n"
     ]
    },
    {
     "name": "stderr",
     "output_type": "stream",
     "text": [
      "Training: 100%|██████████| 11/11 [00:01<00:00,  9.69it/s, loss=0.468]\n"
     ]
    },
    {
     "name": "stdout",
     "output_type": "stream",
     "text": [
      "Train Loss: 1.1696\n",
      "Val Loss: 1.8582\n",
      "Val NRMSE: 0.0482\n",
      "Val MCAR NRMSE: 0.0358\n",
      "Val MAR NRMSE: 0.0436\n",
      "Val MNAR NRMSE: 0.0653\n",
      "No improvement for 19 epochs\n",
      "\n",
      "Epoch 35/100\n"
     ]
    },
    {
     "name": "stderr",
     "output_type": "stream",
     "text": [
      "Training: 100%|██████████| 11/11 [00:01<00:00,  9.55it/s, loss=1.67]\n"
     ]
    },
    {
     "name": "stdout",
     "output_type": "stream",
     "text": [
      "Train Loss: 1.6181\n",
      "Val Loss: 1.9311\n",
      "Val NRMSE: 0.0508\n",
      "Val MCAR NRMSE: 0.0486\n",
      "Val MAR NRMSE: 0.0474\n",
      "Val MNAR NRMSE: 0.0564\n",
      "No improvement for 20 epochs\n",
      "\n",
      "Epoch 36/100\n"
     ]
    },
    {
     "name": "stderr",
     "output_type": "stream",
     "text": [
      "Training: 100%|██████████| 11/11 [00:01<00:00,  9.35it/s, loss=0.929]\n"
     ]
    },
    {
     "name": "stdout",
     "output_type": "stream",
     "text": [
      "Train Loss: 1.5620\n",
      "Val Loss: 1.8113\n",
      "Val NRMSE: 0.0484\n",
      "Val MCAR NRMSE: 0.0388\n",
      "Val MAR NRMSE: 0.0435\n",
      "Val MNAR NRMSE: 0.0628\n",
      "No improvement for 21 epochs\n",
      "\n",
      "Epoch 37/100\n"
     ]
    },
    {
     "name": "stderr",
     "output_type": "stream",
     "text": [
      "Training: 100%|██████████| 11/11 [00:01<00:00,  9.11it/s, loss=2.09]\n"
     ]
    },
    {
     "name": "stdout",
     "output_type": "stream",
     "text": [
      "Train Loss: 1.9184\n",
      "Val Loss: 1.8576\n",
      "Val NRMSE: 0.0494\n",
      "Val MCAR NRMSE: 0.0449\n",
      "Val MAR NRMSE: 0.0463\n",
      "Val MNAR NRMSE: 0.0572\n",
      "No improvement for 22 epochs\n",
      "\n",
      "Epoch 38/100\n"
     ]
    },
    {
     "name": "stderr",
     "output_type": "stream",
     "text": [
      "Training: 100%|██████████| 11/11 [00:01<00:00,  9.05it/s, loss=1.03] \n"
     ]
    },
    {
     "name": "stdout",
     "output_type": "stream",
     "text": [
      "Train Loss: 1.3577\n",
      "Val Loss: 1.7838\n",
      "Val NRMSE: 0.0472\n",
      "Val MCAR NRMSE: 0.0373\n",
      "Val MAR NRMSE: 0.0442\n",
      "Val MNAR NRMSE: 0.0601\n",
      "No improvement for 23 epochs\n",
      "\n",
      "Epoch 39/100\n"
     ]
    },
    {
     "name": "stderr",
     "output_type": "stream",
     "text": [
      "Training: 100%|██████████| 11/11 [00:01<00:00,  9.19it/s, loss=1.48]\n"
     ]
    },
    {
     "name": "stdout",
     "output_type": "stream",
     "text": [
      "Train Loss: 1.4636\n",
      "Val Loss: 1.7728\n",
      "Val NRMSE: 0.0478\n",
      "Val MCAR NRMSE: 0.0420\n",
      "Val MAR NRMSE: 0.0436\n",
      "Val MNAR NRMSE: 0.0577\n",
      "No improvement for 24 epochs\n",
      "\n",
      "Epoch 40/100\n"
     ]
    },
    {
     "name": "stderr",
     "output_type": "stream",
     "text": [
      "Training: 100%|██████████| 11/11 [00:01<00:00,  9.53it/s, loss=0.838]\n"
     ]
    },
    {
     "name": "stdout",
     "output_type": "stream",
     "text": [
      "Train Loss: 1.2702\n",
      "Val Loss: 1.8469\n",
      "Val NRMSE: 0.0486\n",
      "Val MCAR NRMSE: 0.0415\n",
      "Val MAR NRMSE: 0.0418\n",
      "Val MNAR NRMSE: 0.0626\n",
      "No improvement for 25 epochs\n",
      "Early stopping after 40 epochs\n",
      "Fold 3 metrics:\n",
      "  NRMSE: 0.0482\n",
      "  MCAR NRMSE: 0.0422\n",
      "  MAR NRMSE: 0.0397\n",
      "  MNAR NRMSE: 0.0628\n",
      "\n",
      "Training fold 4/5\n",
      "Starting model training...\n",
      "Creating single transformer model...\n",
      "\n",
      "Epoch 1/100\n"
     ]
    },
    {
     "name": "stderr",
     "output_type": "stream",
     "text": [
      "Training: 100%|██████████| 11/11 [00:01<00:00,  9.09it/s, loss=2.46]\n"
     ]
    },
    {
     "name": "stdout",
     "output_type": "stream",
     "text": [
      "Train Loss: 1.9550\n",
      "Val Loss: 2.3954\n",
      "Val NRMSE: 0.0469\n",
      "Val MCAR NRMSE: 0.0335\n",
      "Val MAR NRMSE: 0.0476\n",
      "Val MNAR NRMSE: 0.0596\n",
      "New best validation loss: 2.3954\n",
      "\n",
      "Epoch 2/100\n"
     ]
    },
    {
     "name": "stderr",
     "output_type": "stream",
     "text": [
      "Training: 100%|██████████| 11/11 [00:01<00:00,  9.17it/s, loss=1.74]\n"
     ]
    },
    {
     "name": "stdout",
     "output_type": "stream",
     "text": [
      "Train Loss: 2.2563\n",
      "Val Loss: 2.0279\n",
      "Val NRMSE: 0.0437\n",
      "Val MCAR NRMSE: 0.0407\n",
      "Val MAR NRMSE: 0.0406\n",
      "Val MNAR NRMSE: 0.0497\n",
      "New best validation loss: 2.0279\n",
      "\n",
      "Epoch 3/100\n"
     ]
    },
    {
     "name": "stderr",
     "output_type": "stream",
     "text": [
      "Training: 100%|██████████| 11/11 [00:01<00:00,  9.44it/s, loss=0.882]\n"
     ]
    },
    {
     "name": "stdout",
     "output_type": "stream",
     "text": [
      "Train Loss: 1.6868\n",
      "Val Loss: 1.8700\n",
      "Val NRMSE: 0.0418\n",
      "Val MCAR NRMSE: 0.0380\n",
      "Val MAR NRMSE: 0.0375\n",
      "Val MNAR NRMSE: 0.0500\n",
      "New best validation loss: 1.8700\n",
      "\n",
      "Epoch 4/100\n"
     ]
    },
    {
     "name": "stderr",
     "output_type": "stream",
     "text": [
      "Training: 100%|██████████| 11/11 [00:01<00:00,  9.32it/s, loss=1.11]\n"
     ]
    },
    {
     "name": "stdout",
     "output_type": "stream",
     "text": [
      "Train Loss: 1.8038\n",
      "Val Loss: 2.1144\n",
      "Val NRMSE: 0.0442\n",
      "Val MCAR NRMSE: 0.0353\n",
      "Val MAR NRMSE: 0.0421\n",
      "Val MNAR NRMSE: 0.0551\n",
      "No improvement for 1 epochs\n",
      "\n",
      "Epoch 5/100\n"
     ]
    },
    {
     "name": "stderr",
     "output_type": "stream",
     "text": [
      "Training: 100%|██████████| 11/11 [00:01<00:00,  9.20it/s, loss=2.32] \n"
     ]
    },
    {
     "name": "stdout",
     "output_type": "stream",
     "text": [
      "Train Loss: 1.9125\n",
      "Val Loss: 1.7853\n",
      "Val NRMSE: 0.0406\n",
      "Val MCAR NRMSE: 0.0318\n",
      "Val MAR NRMSE: 0.0370\n",
      "Val MNAR NRMSE: 0.0530\n",
      "New best validation loss: 1.7853\n",
      "\n",
      "Epoch 6/100\n"
     ]
    },
    {
     "name": "stderr",
     "output_type": "stream",
     "text": [
      "Training: 100%|██████████| 11/11 [00:01<00:00,  9.02it/s, loss=0.535]\n"
     ]
    },
    {
     "name": "stdout",
     "output_type": "stream",
     "text": [
      "Train Loss: 1.3034\n",
      "Val Loss: 2.0587\n",
      "Val NRMSE: 0.0430\n",
      "Val MCAR NRMSE: 0.0356\n",
      "Val MAR NRMSE: 0.0410\n",
      "Val MNAR NRMSE: 0.0523\n",
      "No improvement for 1 epochs\n",
      "\n",
      "Epoch 7/100\n"
     ]
    },
    {
     "name": "stderr",
     "output_type": "stream",
     "text": [
      "Training: 100%|██████████| 11/11 [00:01<00:00,  9.36it/s, loss=1.14] \n"
     ]
    },
    {
     "name": "stdout",
     "output_type": "stream",
     "text": [
      "Train Loss: 1.4133\n",
      "Val Loss: 2.0089\n",
      "Val NRMSE: 0.0433\n",
      "Val MCAR NRMSE: 0.0347\n",
      "Val MAR NRMSE: 0.0410\n",
      "Val MNAR NRMSE: 0.0540\n",
      "No improvement for 2 epochs\n",
      "\n",
      "Epoch 8/100\n"
     ]
    },
    {
     "name": "stderr",
     "output_type": "stream",
     "text": [
      "Training: 100%|██████████| 11/11 [00:01<00:00,  9.06it/s, loss=1.97]\n"
     ]
    },
    {
     "name": "stdout",
     "output_type": "stream",
     "text": [
      "Train Loss: 2.0163\n",
      "Val Loss: 1.7721\n",
      "Val NRMSE: 0.0407\n",
      "Val MCAR NRMSE: 0.0384\n",
      "Val MAR NRMSE: 0.0337\n",
      "Val MNAR NRMSE: 0.0501\n",
      "New best validation loss: 1.7721\n",
      "\n",
      "Epoch 9/100\n"
     ]
    },
    {
     "name": "stderr",
     "output_type": "stream",
     "text": [
      "Training: 100%|██████████| 11/11 [00:01<00:00,  9.66it/s, loss=0.642]\n"
     ]
    },
    {
     "name": "stdout",
     "output_type": "stream",
     "text": [
      "Train Loss: 1.6227\n",
      "Val Loss: 1.7165\n",
      "Val NRMSE: 0.0394\n",
      "Val MCAR NRMSE: 0.0321\n",
      "Val MAR NRMSE: 0.0341\n",
      "Val MNAR NRMSE: 0.0522\n",
      "New best validation loss: 1.7165\n",
      "\n",
      "Epoch 10/100\n"
     ]
    },
    {
     "name": "stderr",
     "output_type": "stream",
     "text": [
      "Training: 100%|██████████| 11/11 [00:01<00:00,  9.25it/s, loss=0.706]\n"
     ]
    },
    {
     "name": "stdout",
     "output_type": "stream",
     "text": [
      "Train Loss: 1.1352\n",
      "Val Loss: 1.7513\n",
      "Val NRMSE: 0.0404\n",
      "Val MCAR NRMSE: 0.0335\n",
      "Val MAR NRMSE: 0.0354\n",
      "Val MNAR NRMSE: 0.0522\n",
      "No improvement for 1 epochs\n",
      "\n",
      "Epoch 11/100\n"
     ]
    },
    {
     "name": "stderr",
     "output_type": "stream",
     "text": [
      "Training: 100%|██████████| 11/11 [00:01<00:00,  9.26it/s, loss=0.457]\n"
     ]
    },
    {
     "name": "stdout",
     "output_type": "stream",
     "text": [
      "Train Loss: 1.1692\n",
      "Val Loss: 2.0647\n",
      "Val NRMSE: 0.0433\n",
      "Val MCAR NRMSE: 0.0403\n",
      "Val MAR NRMSE: 0.0356\n",
      "Val MNAR NRMSE: 0.0539\n",
      "No improvement for 2 epochs\n",
      "\n",
      "Epoch 12/100\n"
     ]
    },
    {
     "name": "stderr",
     "output_type": "stream",
     "text": [
      "Training: 100%|██████████| 11/11 [00:01<00:00,  9.47it/s, loss=0.58]\n"
     ]
    },
    {
     "name": "stdout",
     "output_type": "stream",
     "text": [
      "Train Loss: 1.4287\n",
      "Val Loss: 2.2832\n",
      "Val NRMSE: 0.0459\n",
      "Val MCAR NRMSE: 0.0368\n",
      "Val MAR NRMSE: 0.0450\n",
      "Val MNAR NRMSE: 0.0560\n",
      "No improvement for 3 epochs\n",
      "\n",
      "Epoch 13/100\n"
     ]
    },
    {
     "name": "stderr",
     "output_type": "stream",
     "text": [
      "Training: 100%|██████████| 11/11 [00:01<00:00,  9.28it/s, loss=1.33]\n"
     ]
    },
    {
     "name": "stdout",
     "output_type": "stream",
     "text": [
      "Train Loss: 1.8602\n",
      "Val Loss: 2.0459\n",
      "Val NRMSE: 0.0448\n",
      "Val MCAR NRMSE: 0.0409\n",
      "Val MAR NRMSE: 0.0440\n",
      "Val MNAR NRMSE: 0.0495\n",
      "No improvement for 4 epochs\n",
      "\n",
      "Epoch 14/100\n"
     ]
    },
    {
     "name": "stderr",
     "output_type": "stream",
     "text": [
      "Training: 100%|██████████| 11/11 [00:01<00:00,  9.46it/s, loss=1.44] \n"
     ]
    },
    {
     "name": "stdout",
     "output_type": "stream",
     "text": [
      "Train Loss: 1.6844\n",
      "Val Loss: 1.7558\n",
      "Val NRMSE: 0.0400\n",
      "Val MCAR NRMSE: 0.0351\n",
      "Val MAR NRMSE: 0.0309\n",
      "Val MNAR NRMSE: 0.0540\n",
      "No improvement for 5 epochs\n",
      "\n",
      "Epoch 15/100\n"
     ]
    },
    {
     "name": "stderr",
     "output_type": "stream",
     "text": [
      "Training: 100%|██████████| 11/11 [00:01<00:00,  9.25it/s, loss=0.654]\n"
     ]
    },
    {
     "name": "stdout",
     "output_type": "stream",
     "text": [
      "Train Loss: 1.3195\n",
      "Val Loss: 2.2548\n",
      "Val NRMSE: 0.0448\n",
      "Val MCAR NRMSE: 0.0388\n",
      "Val MAR NRMSE: 0.0410\n",
      "Val MNAR NRMSE: 0.0544\n",
      "No improvement for 6 epochs\n",
      "\n",
      "Epoch 16/100\n"
     ]
    },
    {
     "name": "stderr",
     "output_type": "stream",
     "text": [
      "Training: 100%|██████████| 11/11 [00:01<00:00,  9.15it/s, loss=0.578]\n"
     ]
    },
    {
     "name": "stdout",
     "output_type": "stream",
     "text": [
      "Train Loss: 1.5782\n",
      "Val Loss: 2.0040\n",
      "Val NRMSE: 0.0429\n",
      "Val MCAR NRMSE: 0.0313\n",
      "Val MAR NRMSE: 0.0414\n",
      "Val MNAR NRMSE: 0.0561\n",
      "No improvement for 7 epochs\n",
      "\n",
      "Epoch 17/100\n"
     ]
    },
    {
     "name": "stderr",
     "output_type": "stream",
     "text": [
      "Training: 100%|██████████| 11/11 [00:01<00:00,  9.49it/s, loss=0.657]\n"
     ]
    },
    {
     "name": "stdout",
     "output_type": "stream",
     "text": [
      "Train Loss: 1.2883\n",
      "Val Loss: 1.9852\n",
      "Val NRMSE: 0.0426\n",
      "Val MCAR NRMSE: 0.0318\n",
      "Val MAR NRMSE: 0.0417\n",
      "Val MNAR NRMSE: 0.0543\n",
      "No improvement for 8 epochs\n",
      "\n",
      "Epoch 18/100\n"
     ]
    },
    {
     "name": "stderr",
     "output_type": "stream",
     "text": [
      "Training: 100%|██████████| 11/11 [00:01<00:00,  9.26it/s, loss=0.706]\n"
     ]
    },
    {
     "name": "stdout",
     "output_type": "stream",
     "text": [
      "Train Loss: 1.4742\n",
      "Val Loss: 2.3196\n",
      "Val NRMSE: 0.0457\n",
      "Val MCAR NRMSE: 0.0395\n",
      "Val MAR NRMSE: 0.0449\n",
      "Val MNAR NRMSE: 0.0528\n",
      "No improvement for 9 epochs\n",
      "\n",
      "Epoch 19/100\n"
     ]
    },
    {
     "name": "stderr",
     "output_type": "stream",
     "text": [
      "Training: 100%|██████████| 11/11 [00:01<00:00,  9.70it/s, loss=0.56]\n"
     ]
    },
    {
     "name": "stdout",
     "output_type": "stream",
     "text": [
      "Train Loss: 1.2057\n",
      "Val Loss: 2.1542\n",
      "Val NRMSE: 0.0445\n",
      "Val MCAR NRMSE: 0.0311\n",
      "Val MAR NRMSE: 0.0443\n",
      "Val MNAR NRMSE: 0.0582\n",
      "No improvement for 10 epochs\n",
      "\n",
      "Epoch 20/100\n"
     ]
    },
    {
     "name": "stderr",
     "output_type": "stream",
     "text": [
      "Training: 100%|██████████| 11/11 [00:01<00:00,  9.22it/s, loss=1.22]\n"
     ]
    },
    {
     "name": "stdout",
     "output_type": "stream",
     "text": [
      "Train Loss: 1.9689\n",
      "Val Loss: 1.9715\n",
      "Val NRMSE: 0.0421\n",
      "Val MCAR NRMSE: 0.0297\n",
      "Val MAR NRMSE: 0.0431\n",
      "Val MNAR NRMSE: 0.0535\n",
      "No improvement for 11 epochs\n",
      "\n",
      "Epoch 21/100\n"
     ]
    },
    {
     "name": "stderr",
     "output_type": "stream",
     "text": [
      "Training: 100%|██████████| 11/11 [00:01<00:00,  9.50it/s, loss=0.972]\n"
     ]
    },
    {
     "name": "stdout",
     "output_type": "stream",
     "text": [
      "Train Loss: 1.6977\n",
      "Val Loss: 1.9505\n",
      "Val NRMSE: 0.0418\n",
      "Val MCAR NRMSE: 0.0324\n",
      "Val MAR NRMSE: 0.0393\n",
      "Val MNAR NRMSE: 0.0537\n",
      "No improvement for 12 epochs\n",
      "\n",
      "Epoch 22/100\n"
     ]
    },
    {
     "name": "stderr",
     "output_type": "stream",
     "text": [
      "Training: 100%|██████████| 11/11 [00:01<00:00,  9.18it/s, loss=0.606]\n"
     ]
    },
    {
     "name": "stdout",
     "output_type": "stream",
     "text": [
      "Train Loss: 1.3240\n",
      "Val Loss: 1.8847\n",
      "Val NRMSE: 0.0414\n",
      "Val MCAR NRMSE: 0.0338\n",
      "Val MAR NRMSE: 0.0359\n",
      "Val MNAR NRMSE: 0.0545\n",
      "No improvement for 13 epochs\n",
      "\n",
      "Epoch 23/100\n"
     ]
    },
    {
     "name": "stderr",
     "output_type": "stream",
     "text": [
      "Training: 100%|██████████| 11/11 [00:01<00:00,  9.51it/s, loss=1.39]\n"
     ]
    },
    {
     "name": "stdout",
     "output_type": "stream",
     "text": [
      "Train Loss: 1.7175\n",
      "Val Loss: 2.0970\n",
      "Val NRMSE: 0.0459\n",
      "Val MCAR NRMSE: 0.0440\n",
      "Val MAR NRMSE: 0.0428\n",
      "Val MNAR NRMSE: 0.0508\n",
      "No improvement for 14 epochs\n",
      "\n",
      "Epoch 24/100\n"
     ]
    },
    {
     "name": "stderr",
     "output_type": "stream",
     "text": [
      "Training: 100%|██████████| 11/11 [00:01<00:00,  9.20it/s, loss=1.46]\n"
     ]
    },
    {
     "name": "stdout",
     "output_type": "stream",
     "text": [
      "Train Loss: 1.7528\n",
      "Val Loss: 2.3177\n",
      "Val NRMSE: 0.0460\n",
      "Val MCAR NRMSE: 0.0396\n",
      "Val MAR NRMSE: 0.0438\n",
      "Val MNAR NRMSE: 0.0546\n",
      "No improvement for 15 epochs\n",
      "\n",
      "Epoch 25/100\n"
     ]
    },
    {
     "name": "stderr",
     "output_type": "stream",
     "text": [
      "Training: 100%|██████████| 11/11 [00:01<00:00,  9.72it/s, loss=1.5] \n"
     ]
    },
    {
     "name": "stdout",
     "output_type": "stream",
     "text": [
      "Train Loss: 1.2038\n",
      "Val Loss: 2.0479\n",
      "Val NRMSE: 0.0435\n",
      "Val MCAR NRMSE: 0.0384\n",
      "Val MAR NRMSE: 0.0353\n",
      "Val MNAR NRMSE: 0.0569\n",
      "No improvement for 16 epochs\n",
      "\n",
      "Epoch 26/100\n"
     ]
    },
    {
     "name": "stderr",
     "output_type": "stream",
     "text": [
      "Training: 100%|██████████| 11/11 [00:01<00:00,  9.43it/s, loss=1.1] \n"
     ]
    },
    {
     "name": "stdout",
     "output_type": "stream",
     "text": [
      "Train Loss: 1.1969\n",
      "Val Loss: 1.8642\n",
      "Val NRMSE: 0.0422\n",
      "Val MCAR NRMSE: 0.0369\n",
      "Val MAR NRMSE: 0.0394\n",
      "Val MNAR NRMSE: 0.0502\n",
      "No improvement for 17 epochs\n",
      "\n",
      "Epoch 27/100\n"
     ]
    },
    {
     "name": "stderr",
     "output_type": "stream",
     "text": [
      "Training: 100%|██████████| 11/11 [00:01<00:00,  9.21it/s, loss=1.16]\n"
     ]
    },
    {
     "name": "stdout",
     "output_type": "stream",
     "text": [
      "Train Loss: 1.7332\n",
      "Val Loss: 1.6840\n",
      "Val NRMSE: 0.0391\n",
      "Val MCAR NRMSE: 0.0330\n",
      "Val MAR NRMSE: 0.0316\n",
      "Val MNAR NRMSE: 0.0527\n",
      "New best validation loss: 1.6840\n",
      "\n",
      "Epoch 28/100\n"
     ]
    },
    {
     "name": "stderr",
     "output_type": "stream",
     "text": [
      "Training: 100%|██████████| 11/11 [00:01<00:00,  9.69it/s, loss=0.533]\n"
     ]
    },
    {
     "name": "stdout",
     "output_type": "stream",
     "text": [
      "Train Loss: 1.5311\n",
      "Val Loss: 1.9676\n",
      "Val NRMSE: 0.0419\n",
      "Val MCAR NRMSE: 0.0336\n",
      "Val MAR NRMSE: 0.0359\n",
      "Val MNAR NRMSE: 0.0562\n",
      "No improvement for 1 epochs\n",
      "\n",
      "Epoch 29/100\n"
     ]
    },
    {
     "name": "stderr",
     "output_type": "stream",
     "text": [
      "Training: 100%|██████████| 11/11 [00:01<00:00,  9.52it/s, loss=0.56] \n"
     ]
    },
    {
     "name": "stdout",
     "output_type": "stream",
     "text": [
      "Train Loss: 1.3278\n",
      "Val Loss: 2.0291\n",
      "Val NRMSE: 0.0431\n",
      "Val MCAR NRMSE: 0.0351\n",
      "Val MAR NRMSE: 0.0425\n",
      "Val MNAR NRMSE: 0.0517\n",
      "No improvement for 2 epochs\n",
      "\n",
      "Epoch 30/100\n"
     ]
    },
    {
     "name": "stderr",
     "output_type": "stream",
     "text": [
      "Training: 100%|██████████| 11/11 [00:01<00:00,  9.51it/s, loss=0.594]\n"
     ]
    },
    {
     "name": "stdout",
     "output_type": "stream",
     "text": [
      "Train Loss: 1.4592\n",
      "Val Loss: 1.8827\n",
      "Val NRMSE: 0.0411\n",
      "Val MCAR NRMSE: 0.0310\n",
      "Val MAR NRMSE: 0.0376\n",
      "Val MNAR NRMSE: 0.0548\n",
      "No improvement for 3 epochs\n",
      "\n",
      "Epoch 31/100\n"
     ]
    },
    {
     "name": "stderr",
     "output_type": "stream",
     "text": [
      "Training: 100%|██████████| 11/11 [00:01<00:00,  9.49it/s, loss=0.496]\n"
     ]
    },
    {
     "name": "stdout",
     "output_type": "stream",
     "text": [
      "Train Loss: 1.4104\n",
      "Val Loss: 1.8233\n",
      "Val NRMSE: 0.0408\n",
      "Val MCAR NRMSE: 0.0320\n",
      "Val MAR NRMSE: 0.0374\n",
      "Val MNAR NRMSE: 0.0529\n",
      "No improvement for 4 epochs\n",
      "\n",
      "Epoch 32/100\n"
     ]
    },
    {
     "name": "stderr",
     "output_type": "stream",
     "text": [
      "Training: 100%|██████████| 11/11 [00:01<00:00,  9.70it/s, loss=6.55]\n"
     ]
    },
    {
     "name": "stdout",
     "output_type": "stream",
     "text": [
      "Train Loss: 1.8179\n",
      "Val Loss: 1.9399\n",
      "Val NRMSE: 0.0426\n",
      "Val MCAR NRMSE: 0.0340\n",
      "Val MAR NRMSE: 0.0411\n",
      "Val MNAR NRMSE: 0.0528\n",
      "No improvement for 5 epochs\n",
      "\n",
      "Epoch 33/100\n"
     ]
    },
    {
     "name": "stderr",
     "output_type": "stream",
     "text": [
      "Training: 100%|██████████| 11/11 [00:01<00:00,  9.23it/s, loss=0.859]\n"
     ]
    },
    {
     "name": "stdout",
     "output_type": "stream",
     "text": [
      "Train Loss: 1.8439\n",
      "Val Loss: 2.1451\n",
      "Val NRMSE: 0.0438\n",
      "Val MCAR NRMSE: 0.0382\n",
      "Val MAR NRMSE: 0.0387\n",
      "Val MNAR NRMSE: 0.0544\n",
      "No improvement for 6 epochs\n",
      "\n",
      "Epoch 34/100\n"
     ]
    },
    {
     "name": "stderr",
     "output_type": "stream",
     "text": [
      "Training: 100%|██████████| 11/11 [00:01<00:00,  9.11it/s, loss=0.536]\n"
     ]
    },
    {
     "name": "stdout",
     "output_type": "stream",
     "text": [
      "Train Loss: 1.5059\n",
      "Val Loss: 1.8059\n",
      "Val NRMSE: 0.0406\n",
      "Val MCAR NRMSE: 0.0327\n",
      "Val MAR NRMSE: 0.0370\n",
      "Val MNAR NRMSE: 0.0519\n",
      "No improvement for 7 epochs\n",
      "\n",
      "Epoch 35/100\n"
     ]
    },
    {
     "name": "stderr",
     "output_type": "stream",
     "text": [
      "Training: 100%|██████████| 11/11 [00:01<00:00,  9.40it/s, loss=0.404]\n"
     ]
    },
    {
     "name": "stdout",
     "output_type": "stream",
     "text": [
      "Train Loss: 1.4266\n",
      "Val Loss: 1.7930\n",
      "Val NRMSE: 0.0399\n",
      "Val MCAR NRMSE: 0.0392\n",
      "Val MAR NRMSE: 0.0283\n",
      "Val MNAR NRMSE: 0.0520\n",
      "No improvement for 8 epochs\n",
      "\n",
      "Epoch 36/100\n"
     ]
    },
    {
     "name": "stderr",
     "output_type": "stream",
     "text": [
      "Training: 100%|██████████| 11/11 [00:01<00:00,  9.06it/s, loss=2.62]\n"
     ]
    },
    {
     "name": "stdout",
     "output_type": "stream",
     "text": [
      "Train Loss: 2.1856\n",
      "Val Loss: 2.1101\n",
      "Val NRMSE: 0.0456\n",
      "Val MCAR NRMSE: 0.0453\n",
      "Val MAR NRMSE: 0.0422\n",
      "Val MNAR NRMSE: 0.0494\n",
      "No improvement for 9 epochs\n",
      "\n",
      "Epoch 37/100\n"
     ]
    },
    {
     "name": "stderr",
     "output_type": "stream",
     "text": [
      "Training: 100%|██████████| 11/11 [00:01<00:00,  9.41it/s, loss=0.5]  \n"
     ]
    },
    {
     "name": "stdout",
     "output_type": "stream",
     "text": [
      "Train Loss: 1.2850\n",
      "Val Loss: 2.0943\n",
      "Val NRMSE: 0.0437\n",
      "Val MCAR NRMSE: 0.0350\n",
      "Val MAR NRMSE: 0.0394\n",
      "Val MNAR NRMSE: 0.0567\n",
      "No improvement for 10 epochs\n",
      "\n",
      "Epoch 38/100\n"
     ]
    },
    {
     "name": "stderr",
     "output_type": "stream",
     "text": [
      "Training: 100%|██████████| 11/11 [00:01<00:00,  9.55it/s, loss=0.991]\n"
     ]
    },
    {
     "name": "stdout",
     "output_type": "stream",
     "text": [
      "Train Loss: 1.2958\n",
      "Val Loss: 2.0928\n",
      "Val NRMSE: 0.0431\n",
      "Val MCAR NRMSE: 0.0376\n",
      "Val MAR NRMSE: 0.0400\n",
      "Val MNAR NRMSE: 0.0517\n",
      "No improvement for 11 epochs\n",
      "\n",
      "Epoch 39/100\n"
     ]
    },
    {
     "name": "stderr",
     "output_type": "stream",
     "text": [
      "Training: 100%|██████████| 11/11 [00:01<00:00,  9.02it/s, loss=0.845]\n"
     ]
    },
    {
     "name": "stdout",
     "output_type": "stream",
     "text": [
      "Train Loss: 1.9408\n",
      "Val Loss: 1.9713\n",
      "Val NRMSE: 0.0427\n",
      "Val MCAR NRMSE: 0.0356\n",
      "Val MAR NRMSE: 0.0416\n",
      "Val MNAR NRMSE: 0.0509\n",
      "No improvement for 12 epochs\n",
      "\n",
      "Epoch 40/100\n"
     ]
    },
    {
     "name": "stderr",
     "output_type": "stream",
     "text": [
      "Training: 100%|██████████| 11/11 [00:01<00:00,  8.91it/s, loss=0.678]\n"
     ]
    },
    {
     "name": "stdout",
     "output_type": "stream",
     "text": [
      "Train Loss: 1.3077\n",
      "Val Loss: 1.9618\n",
      "Val NRMSE: 0.0424\n",
      "Val MCAR NRMSE: 0.0321\n",
      "Val MAR NRMSE: 0.0438\n",
      "Val MNAR NRMSE: 0.0515\n",
      "No improvement for 13 epochs\n",
      "\n",
      "Epoch 41/100\n"
     ]
    },
    {
     "name": "stderr",
     "output_type": "stream",
     "text": [
      "Training: 100%|██████████| 11/11 [00:01<00:00,  9.52it/s, loss=1.27] \n"
     ]
    },
    {
     "name": "stdout",
     "output_type": "stream",
     "text": [
      "Train Loss: 1.4611\n",
      "Val Loss: 2.0727\n",
      "Val NRMSE: 0.0437\n",
      "Val MCAR NRMSE: 0.0340\n",
      "Val MAR NRMSE: 0.0416\n",
      "Val MNAR NRMSE: 0.0555\n",
      "No improvement for 14 epochs\n",
      "\n",
      "Epoch 42/100\n"
     ]
    },
    {
     "name": "stderr",
     "output_type": "stream",
     "text": [
      "Training: 100%|██████████| 11/11 [00:01<00:00,  9.12it/s, loss=0.438]\n"
     ]
    },
    {
     "name": "stdout",
     "output_type": "stream",
     "text": [
      "Train Loss: 1.7161\n",
      "Val Loss: 2.0664\n",
      "Val NRMSE: 0.0430\n",
      "Val MCAR NRMSE: 0.0384\n",
      "Val MAR NRMSE: 0.0381\n",
      "Val MNAR NRMSE: 0.0524\n",
      "No improvement for 15 epochs\n",
      "\n",
      "Epoch 43/100\n"
     ]
    },
    {
     "name": "stderr",
     "output_type": "stream",
     "text": [
      "Training: 100%|██████████| 11/11 [00:01<00:00,  9.36it/s, loss=0.76]\n"
     ]
    },
    {
     "name": "stdout",
     "output_type": "stream",
     "text": [
      "Train Loss: 2.7722\n",
      "Val Loss: 2.0335\n",
      "Val NRMSE: 0.0433\n",
      "Val MCAR NRMSE: 0.0367\n",
      "Val MAR NRMSE: 0.0412\n",
      "Val MNAR NRMSE: 0.0520\n",
      "No improvement for 16 epochs\n",
      "\n",
      "Epoch 44/100\n"
     ]
    },
    {
     "name": "stderr",
     "output_type": "stream",
     "text": [
      "Training: 100%|██████████| 11/11 [00:01<00:00,  9.37it/s, loss=2.9] \n"
     ]
    },
    {
     "name": "stdout",
     "output_type": "stream",
     "text": [
      "Train Loss: 1.6505\n",
      "Val Loss: 2.2257\n",
      "Val NRMSE: 0.0451\n",
      "Val MCAR NRMSE: 0.0426\n",
      "Val MAR NRMSE: 0.0426\n",
      "Val MNAR NRMSE: 0.0501\n",
      "No improvement for 17 epochs\n",
      "\n",
      "Epoch 45/100\n"
     ]
    },
    {
     "name": "stderr",
     "output_type": "stream",
     "text": [
      "Training: 100%|██████████| 11/11 [00:01<00:00,  9.30it/s, loss=1.29] \n"
     ]
    },
    {
     "name": "stdout",
     "output_type": "stream",
     "text": [
      "Train Loss: 1.6142\n",
      "Val Loss: 1.8731\n",
      "Val NRMSE: 0.0419\n",
      "Val MCAR NRMSE: 0.0363\n",
      "Val MAR NRMSE: 0.0392\n",
      "Val MNAR NRMSE: 0.0502\n",
      "No improvement for 18 epochs\n",
      "\n",
      "Epoch 46/100\n"
     ]
    },
    {
     "name": "stderr",
     "output_type": "stream",
     "text": [
      "Training: 100%|██████████| 11/11 [00:01<00:00,  9.30it/s, loss=0.989]\n"
     ]
    },
    {
     "name": "stdout",
     "output_type": "stream",
     "text": [
      "Train Loss: 1.8551\n",
      "Val Loss: 2.0966\n",
      "Val NRMSE: 0.0443\n",
      "Val MCAR NRMSE: 0.0406\n",
      "Val MAR NRMSE: 0.0417\n",
      "Val MNAR NRMSE: 0.0506\n",
      "No improvement for 19 epochs\n",
      "\n",
      "Epoch 47/100\n"
     ]
    },
    {
     "name": "stderr",
     "output_type": "stream",
     "text": [
      "Training: 100%|██████████| 11/11 [00:01<00:00,  9.13it/s, loss=1.62]\n"
     ]
    },
    {
     "name": "stdout",
     "output_type": "stream",
     "text": [
      "Train Loss: 1.5090\n",
      "Val Loss: 1.9162\n",
      "Val NRMSE: 0.0413\n",
      "Val MCAR NRMSE: 0.0355\n",
      "Val MAR NRMSE: 0.0351\n",
      "Val MNAR NRMSE: 0.0534\n",
      "No improvement for 20 epochs\n",
      "\n",
      "Epoch 48/100\n"
     ]
    },
    {
     "name": "stderr",
     "output_type": "stream",
     "text": [
      "Training: 100%|██████████| 11/11 [00:01<00:00,  9.18it/s, loss=1.96]\n"
     ]
    },
    {
     "name": "stdout",
     "output_type": "stream",
     "text": [
      "Train Loss: 1.4105\n",
      "Val Loss: 2.0655\n",
      "Val NRMSE: 0.0426\n",
      "Val MCAR NRMSE: 0.0369\n",
      "Val MAR NRMSE: 0.0368\n",
      "Val MNAR NRMSE: 0.0540\n",
      "No improvement for 21 epochs\n",
      "\n",
      "Epoch 49/100\n"
     ]
    },
    {
     "name": "stderr",
     "output_type": "stream",
     "text": [
      "Training: 100%|██████████| 11/11 [00:01<00:00,  9.56it/s, loss=1.43]\n"
     ]
    },
    {
     "name": "stdout",
     "output_type": "stream",
     "text": [
      "Train Loss: 1.2129\n",
      "Val Loss: 1.9766\n",
      "Val NRMSE: 0.0428\n",
      "Val MCAR NRMSE: 0.0368\n",
      "Val MAR NRMSE: 0.0379\n",
      "Val MNAR NRMSE: 0.0536\n",
      "No improvement for 22 epochs\n",
      "\n",
      "Epoch 50/100\n"
     ]
    },
    {
     "name": "stderr",
     "output_type": "stream",
     "text": [
      "Training: 100%|██████████| 11/11 [00:01<00:00,  9.82it/s, loss=0.749]\n"
     ]
    },
    {
     "name": "stdout",
     "output_type": "stream",
     "text": [
      "Train Loss: 1.3489\n",
      "Val Loss: 1.9398\n",
      "Val NRMSE: 0.0421\n",
      "Val MCAR NRMSE: 0.0350\n",
      "Val MAR NRMSE: 0.0360\n",
      "Val MNAR NRMSE: 0.0554\n",
      "No improvement for 23 epochs\n",
      "\n",
      "Epoch 51/100\n"
     ]
    },
    {
     "name": "stderr",
     "output_type": "stream",
     "text": [
      "Training: 100%|██████████| 11/11 [00:01<00:00,  9.45it/s, loss=2.72]\n"
     ]
    },
    {
     "name": "stdout",
     "output_type": "stream",
     "text": [
      "Train Loss: 1.5115\n",
      "Val Loss: 2.0551\n",
      "Val NRMSE: 0.0432\n",
      "Val MCAR NRMSE: 0.0363\n",
      "Val MAR NRMSE: 0.0410\n",
      "Val MNAR NRMSE: 0.0523\n",
      "No improvement for 24 epochs\n",
      "\n",
      "Epoch 52/100\n"
     ]
    },
    {
     "name": "stderr",
     "output_type": "stream",
     "text": [
      "Training: 100%|██████████| 11/11 [00:01<00:00,  9.31it/s, loss=0.734]\n"
     ]
    },
    {
     "name": "stdout",
     "output_type": "stream",
     "text": [
      "Train Loss: 1.5004\n",
      "Val Loss: 2.0163\n",
      "Val NRMSE: 0.0424\n",
      "Val MCAR NRMSE: 0.0401\n",
      "Val MAR NRMSE: 0.0357\n",
      "Val MNAR NRMSE: 0.0513\n",
      "No improvement for 25 epochs\n",
      "Early stopping after 52 epochs\n",
      "Fold 4 metrics:\n",
      "  NRMSE: 0.0434\n",
      "  MCAR NRMSE: 0.0354\n",
      "  MAR NRMSE: 0.0436\n",
      "  MNAR NRMSE: 0.0513\n",
      "\n",
      "Training fold 5/5\n",
      "Starting model training...\n",
      "Creating single transformer model...\n",
      "\n",
      "Epoch 1/100\n"
     ]
    },
    {
     "name": "stderr",
     "output_type": "stream",
     "text": [
      "Training: 100%|██████████| 11/11 [00:01<00:00,  9.21it/s, loss=0.596]\n"
     ]
    },
    {
     "name": "stdout",
     "output_type": "stream",
     "text": [
      "Train Loss: 2.1793\n",
      "Val Loss: 1.3349\n",
      "Val NRMSE: 0.0563\n",
      "Val MCAR NRMSE: 0.0475\n",
      "Val MAR NRMSE: 0.0543\n",
      "Val MNAR NRMSE: 0.0672\n",
      "New best validation loss: 1.3349\n",
      "\n",
      "Epoch 2/100\n"
     ]
    },
    {
     "name": "stderr",
     "output_type": "stream",
     "text": [
      "Training: 100%|██████████| 11/11 [00:01<00:00,  9.20it/s, loss=1.62]\n"
     ]
    },
    {
     "name": "stdout",
     "output_type": "stream",
     "text": [
      "Train Loss: 2.0507\n",
      "Val Loss: 1.2611\n",
      "Val NRMSE: 0.0552\n",
      "Val MCAR NRMSE: 0.0517\n",
      "Val MAR NRMSE: 0.0515\n",
      "Val MNAR NRMSE: 0.0624\n",
      "New best validation loss: 1.2611\n",
      "\n",
      "Epoch 3/100\n"
     ]
    },
    {
     "name": "stderr",
     "output_type": "stream",
     "text": [
      "Training: 100%|██████████| 11/11 [00:01<00:00,  9.35it/s, loss=1.13]\n"
     ]
    },
    {
     "name": "stdout",
     "output_type": "stream",
     "text": [
      "Train Loss: 1.8158\n",
      "Val Loss: 1.4913\n",
      "Val NRMSE: 0.0598\n",
      "Val MCAR NRMSE: 0.0607\n",
      "Val MAR NRMSE: 0.0589\n",
      "Val MNAR NRMSE: 0.0598\n",
      "No improvement for 1 epochs\n",
      "\n",
      "Epoch 4/100\n"
     ]
    },
    {
     "name": "stderr",
     "output_type": "stream",
     "text": [
      "Training: 100%|██████████| 11/11 [00:01<00:00,  9.20it/s, loss=1.16]\n"
     ]
    },
    {
     "name": "stdout",
     "output_type": "stream",
     "text": [
      "Train Loss: 1.9299\n",
      "Val Loss: 1.3436\n",
      "Val NRMSE: 0.0565\n",
      "Val MCAR NRMSE: 0.0555\n",
      "Val MAR NRMSE: 0.0543\n",
      "Val MNAR NRMSE: 0.0599\n",
      "No improvement for 2 epochs\n",
      "\n",
      "Epoch 5/100\n"
     ]
    },
    {
     "name": "stderr",
     "output_type": "stream",
     "text": [
      "Training: 100%|██████████| 11/11 [00:01<00:00,  9.69it/s, loss=0.603]\n"
     ]
    },
    {
     "name": "stdout",
     "output_type": "stream",
     "text": [
      "Train Loss: 1.6820\n",
      "Val Loss: 1.3370\n",
      "Val NRMSE: 0.0557\n",
      "Val MCAR NRMSE: 0.0473\n",
      "Val MAR NRMSE: 0.0546\n",
      "Val MNAR NRMSE: 0.0651\n",
      "No improvement for 3 epochs\n",
      "\n",
      "Epoch 6/100\n"
     ]
    },
    {
     "name": "stderr",
     "output_type": "stream",
     "text": [
      "Training: 100%|██████████| 11/11 [00:01<00:00,  9.24it/s, loss=0.92]\n"
     ]
    },
    {
     "name": "stdout",
     "output_type": "stream",
     "text": [
      "Train Loss: 1.7684\n",
      "Val Loss: 1.2140\n",
      "Val NRMSE: 0.0537\n",
      "Val MCAR NRMSE: 0.0459\n",
      "Val MAR NRMSE: 0.0498\n",
      "Val MNAR NRMSE: 0.0655\n",
      "New best validation loss: 1.2140\n",
      "\n",
      "Epoch 7/100\n"
     ]
    },
    {
     "name": "stderr",
     "output_type": "stream",
     "text": [
      "Training: 100%|██████████| 11/11 [00:01<00:00,  9.26it/s, loss=4.81] \n"
     ]
    },
    {
     "name": "stdout",
     "output_type": "stream",
     "text": [
      "Train Loss: 1.7839\n",
      "Val Loss: 1.3550\n",
      "Val NRMSE: 0.0569\n",
      "Val MCAR NRMSE: 0.0527\n",
      "Val MAR NRMSE: 0.0568\n",
      "Val MNAR NRMSE: 0.0611\n",
      "No improvement for 1 epochs\n",
      "\n",
      "Epoch 8/100\n"
     ]
    },
    {
     "name": "stderr",
     "output_type": "stream",
     "text": [
      "Training: 100%|██████████| 11/11 [00:01<00:00,  9.42it/s, loss=1.01]\n"
     ]
    },
    {
     "name": "stdout",
     "output_type": "stream",
     "text": [
      "Train Loss: 1.6816\n",
      "Val Loss: 1.2486\n",
      "Val NRMSE: 0.0544\n",
      "Val MCAR NRMSE: 0.0471\n",
      "Val MAR NRMSE: 0.0486\n",
      "Val MNAR NRMSE: 0.0674\n",
      "No improvement for 2 epochs\n",
      "\n",
      "Epoch 9/100\n"
     ]
    },
    {
     "name": "stderr",
     "output_type": "stream",
     "text": [
      "Training: 100%|██████████| 11/11 [00:01<00:00,  9.44it/s, loss=1.04]\n"
     ]
    },
    {
     "name": "stdout",
     "output_type": "stream",
     "text": [
      "Train Loss: 1.3702\n",
      "Val Loss: 1.3117\n",
      "Val NRMSE: 0.0558\n",
      "Val MCAR NRMSE: 0.0521\n",
      "Val MAR NRMSE: 0.0545\n",
      "Val MNAR NRMSE: 0.0608\n",
      "No improvement for 3 epochs\n",
      "\n",
      "Epoch 10/100\n"
     ]
    },
    {
     "name": "stderr",
     "output_type": "stream",
     "text": [
      "Training: 100%|██████████| 11/11 [00:01<00:00,  9.45it/s, loss=1.21] \n"
     ]
    },
    {
     "name": "stdout",
     "output_type": "stream",
     "text": [
      "Train Loss: 1.6433\n",
      "Val Loss: 1.3535\n",
      "Val NRMSE: 0.0563\n",
      "Val MCAR NRMSE: 0.0493\n",
      "Val MAR NRMSE: 0.0539\n",
      "Val MNAR NRMSE: 0.0657\n",
      "No improvement for 4 epochs\n",
      "\n",
      "Epoch 11/100\n"
     ]
    },
    {
     "name": "stderr",
     "output_type": "stream",
     "text": [
      "Training: 100%|██████████| 11/11 [00:01<00:00,  9.00it/s, loss=1.54]\n"
     ]
    },
    {
     "name": "stdout",
     "output_type": "stream",
     "text": [
      "Train Loss: 1.9303\n",
      "Val Loss: 1.2938\n",
      "Val NRMSE: 0.0554\n",
      "Val MCAR NRMSE: 0.0496\n",
      "Val MAR NRMSE: 0.0513\n",
      "Val MNAR NRMSE: 0.0652\n",
      "No improvement for 5 epochs\n",
      "\n",
      "Epoch 12/100\n"
     ]
    },
    {
     "name": "stderr",
     "output_type": "stream",
     "text": [
      "Training: 100%|██████████| 11/11 [00:01<00:00,  9.36it/s, loss=0.586]\n"
     ]
    },
    {
     "name": "stdout",
     "output_type": "stream",
     "text": [
      "Train Loss: 1.2007\n",
      "Val Loss: 1.3229\n",
      "Val NRMSE: 0.0564\n",
      "Val MCAR NRMSE: 0.0457\n",
      "Val MAR NRMSE: 0.0530\n",
      "Val MNAR NRMSE: 0.0704\n",
      "No improvement for 6 epochs\n",
      "\n",
      "Epoch 13/100\n"
     ]
    },
    {
     "name": "stderr",
     "output_type": "stream",
     "text": [
      "Training: 100%|██████████| 11/11 [00:01<00:00,  9.32it/s, loss=0.357]\n"
     ]
    },
    {
     "name": "stdout",
     "output_type": "stream",
     "text": [
      "Train Loss: 1.7634\n",
      "Val Loss: 1.3807\n",
      "Val NRMSE: 0.0585\n",
      "Val MCAR NRMSE: 0.0590\n",
      "Val MAR NRMSE: 0.0567\n",
      "Val MNAR NRMSE: 0.0598\n",
      "No improvement for 7 epochs\n",
      "\n",
      "Epoch 14/100\n"
     ]
    },
    {
     "name": "stderr",
     "output_type": "stream",
     "text": [
      "Training: 100%|██████████| 11/11 [00:01<00:00,  9.18it/s, loss=1.58]\n"
     ]
    },
    {
     "name": "stdout",
     "output_type": "stream",
     "text": [
      "Train Loss: 1.7554\n",
      "Val Loss: 1.1706\n",
      "Val NRMSE: 0.0532\n",
      "Val MCAR NRMSE: 0.0480\n",
      "Val MAR NRMSE: 0.0478\n",
      "Val MNAR NRMSE: 0.0640\n",
      "New best validation loss: 1.1706\n",
      "\n",
      "Epoch 15/100\n"
     ]
    },
    {
     "name": "stderr",
     "output_type": "stream",
     "text": [
      "Training: 100%|██████████| 11/11 [00:01<00:00,  9.23it/s, loss=5.19]\n"
     ]
    },
    {
     "name": "stdout",
     "output_type": "stream",
     "text": [
      "Train Loss: 2.0769\n",
      "Val Loss: 1.2191\n",
      "Val NRMSE: 0.0542\n",
      "Val MCAR NRMSE: 0.0516\n",
      "Val MAR NRMSE: 0.0501\n",
      "Val MNAR NRMSE: 0.0608\n",
      "No improvement for 1 epochs\n",
      "\n",
      "Epoch 16/100\n"
     ]
    },
    {
     "name": "stderr",
     "output_type": "stream",
     "text": [
      "Training: 100%|██████████| 11/11 [00:01<00:00,  9.50it/s, loss=0.523]\n"
     ]
    },
    {
     "name": "stdout",
     "output_type": "stream",
     "text": [
      "Train Loss: 1.1653\n",
      "Val Loss: 1.2201\n",
      "Val NRMSE: 0.0533\n",
      "Val MCAR NRMSE: 0.0475\n",
      "Val MAR NRMSE: 0.0482\n",
      "Val MNAR NRMSE: 0.0642\n",
      "No improvement for 2 epochs\n",
      "\n",
      "Epoch 17/100\n"
     ]
    },
    {
     "name": "stderr",
     "output_type": "stream",
     "text": [
      "Training: 100%|██████████| 11/11 [00:01<00:00,  9.33it/s, loss=0.565]\n"
     ]
    },
    {
     "name": "stdout",
     "output_type": "stream",
     "text": [
      "Train Loss: 1.5736\n",
      "Val Loss: 1.2644\n",
      "Val NRMSE: 0.0555\n",
      "Val MCAR NRMSE: 0.0553\n",
      "Val MAR NRMSE: 0.0510\n",
      "Val MNAR NRMSE: 0.0601\n",
      "No improvement for 3 epochs\n",
      "\n",
      "Epoch 18/100\n"
     ]
    },
    {
     "name": "stderr",
     "output_type": "stream",
     "text": [
      "Training: 100%|██████████| 11/11 [00:01<00:00,  9.26it/s, loss=1.65]\n"
     ]
    },
    {
     "name": "stdout",
     "output_type": "stream",
     "text": [
      "Train Loss: 1.6854\n",
      "Val Loss: 1.2273\n",
      "Val NRMSE: 0.0533\n",
      "Val MCAR NRMSE: 0.0458\n",
      "Val MAR NRMSE: 0.0501\n",
      "Val MNAR NRMSE: 0.0641\n",
      "No improvement for 4 epochs\n",
      "\n",
      "Epoch 19/100\n"
     ]
    },
    {
     "name": "stderr",
     "output_type": "stream",
     "text": [
      "Training: 100%|██████████| 11/11 [00:01<00:00,  9.85it/s, loss=0.568]\n"
     ]
    },
    {
     "name": "stdout",
     "output_type": "stream",
     "text": [
      "Train Loss: 1.5076\n",
      "Val Loss: 1.3643\n",
      "Val NRMSE: 0.0573\n",
      "Val MCAR NRMSE: 0.0474\n",
      "Val MAR NRMSE: 0.0539\n",
      "Val MNAR NRMSE: 0.0705\n",
      "No improvement for 5 epochs\n",
      "\n",
      "Epoch 20/100\n"
     ]
    },
    {
     "name": "stderr",
     "output_type": "stream",
     "text": [
      "Training: 100%|██████████| 11/11 [00:01<00:00,  9.45it/s, loss=0.887]\n"
     ]
    },
    {
     "name": "stdout",
     "output_type": "stream",
     "text": [
      "Train Loss: 1.5411\n",
      "Val Loss: 1.2189\n",
      "Val NRMSE: 0.0542\n",
      "Val MCAR NRMSE: 0.0494\n",
      "Val MAR NRMSE: 0.0501\n",
      "Val MNAR NRMSE: 0.0630\n",
      "No improvement for 6 epochs\n",
      "\n",
      "Epoch 21/100\n"
     ]
    },
    {
     "name": "stderr",
     "output_type": "stream",
     "text": [
      "Training: 100%|██████████| 11/11 [00:01<00:00,  9.29it/s, loss=1.17] \n"
     ]
    },
    {
     "name": "stdout",
     "output_type": "stream",
     "text": [
      "Train Loss: 1.8399\n",
      "Val Loss: 1.3113\n",
      "Val NRMSE: 0.0567\n",
      "Val MCAR NRMSE: 0.0537\n",
      "Val MAR NRMSE: 0.0554\n",
      "Val MNAR NRMSE: 0.0609\n",
      "No improvement for 7 epochs\n",
      "\n",
      "Epoch 22/100\n"
     ]
    },
    {
     "name": "stderr",
     "output_type": "stream",
     "text": [
      "Training: 100%|██████████| 11/11 [00:01<00:00,  8.88it/s, loss=1.48]\n"
     ]
    },
    {
     "name": "stdout",
     "output_type": "stream",
     "text": [
      "Train Loss: 2.0639\n",
      "Val Loss: 1.5744\n",
      "Val NRMSE: 0.0619\n",
      "Val MCAR NRMSE: 0.0615\n",
      "Val MAR NRMSE: 0.0631\n",
      "Val MNAR NRMSE: 0.0610\n",
      "No improvement for 8 epochs\n",
      "\n",
      "Epoch 23/100\n"
     ]
    },
    {
     "name": "stderr",
     "output_type": "stream",
     "text": [
      "Training: 100%|██████████| 11/11 [00:01<00:00,  9.10it/s, loss=0.957]\n"
     ]
    },
    {
     "name": "stdout",
     "output_type": "stream",
     "text": [
      "Train Loss: 1.7407\n",
      "Val Loss: 1.2416\n",
      "Val NRMSE: 0.0552\n",
      "Val MCAR NRMSE: 0.0517\n",
      "Val MAR NRMSE: 0.0526\n",
      "Val MNAR NRMSE: 0.0612\n",
      "No improvement for 9 epochs\n",
      "\n",
      "Epoch 24/100\n"
     ]
    },
    {
     "name": "stderr",
     "output_type": "stream",
     "text": [
      "Training: 100%|██████████| 11/11 [00:01<00:00,  8.91it/s, loss=2.71]\n"
     ]
    },
    {
     "name": "stdout",
     "output_type": "stream",
     "text": [
      "Train Loss: 2.6680\n",
      "Val Loss: 1.2401\n",
      "Val NRMSE: 0.0549\n",
      "Val MCAR NRMSE: 0.0505\n",
      "Val MAR NRMSE: 0.0517\n",
      "Val MNAR NRMSE: 0.0624\n",
      "No improvement for 10 epochs\n",
      "\n",
      "Epoch 25/100\n"
     ]
    },
    {
     "name": "stderr",
     "output_type": "stream",
     "text": [
      "Training: 100%|██████████| 11/11 [00:01<00:00,  9.04it/s, loss=1.08] \n"
     ]
    },
    {
     "name": "stdout",
     "output_type": "stream",
     "text": [
      "Train Loss: 2.1111\n",
      "Val Loss: 1.2750\n",
      "Val NRMSE: 0.0546\n",
      "Val MCAR NRMSE: 0.0485\n",
      "Val MAR NRMSE: 0.0512\n",
      "Val MNAR NRMSE: 0.0642\n",
      "No improvement for 11 epochs\n",
      "\n",
      "Epoch 26/100\n"
     ]
    },
    {
     "name": "stderr",
     "output_type": "stream",
     "text": [
      "Training: 100%|██████████| 11/11 [00:01<00:00,  9.37it/s, loss=0.688]\n"
     ]
    },
    {
     "name": "stdout",
     "output_type": "stream",
     "text": [
      "Train Loss: 1.4095\n",
      "Val Loss: 1.2894\n",
      "Val NRMSE: 0.0549\n",
      "Val MCAR NRMSE: 0.0482\n",
      "Val MAR NRMSE: 0.0531\n",
      "Val MNAR NRMSE: 0.0634\n",
      "No improvement for 12 epochs\n",
      "\n",
      "Epoch 27/100\n"
     ]
    },
    {
     "name": "stderr",
     "output_type": "stream",
     "text": [
      "Training: 100%|██████████| 11/11 [00:01<00:00,  9.24it/s, loss=2.28] \n"
     ]
    },
    {
     "name": "stdout",
     "output_type": "stream",
     "text": [
      "Train Loss: 1.9217\n",
      "Val Loss: 1.1705\n",
      "Val NRMSE: 0.0529\n",
      "Val MCAR NRMSE: 0.0496\n",
      "Val MAR NRMSE: 0.0474\n",
      "Val MNAR NRMSE: 0.0616\n",
      "New best validation loss: 1.1705\n",
      "\n",
      "Epoch 28/100\n"
     ]
    },
    {
     "name": "stderr",
     "output_type": "stream",
     "text": [
      "Training: 100%|██████████| 11/11 [00:01<00:00,  9.21it/s, loss=2.48]\n"
     ]
    },
    {
     "name": "stdout",
     "output_type": "stream",
     "text": [
      "Train Loss: 2.6199\n",
      "Val Loss: 1.1936\n",
      "Val NRMSE: 0.0538\n",
      "Val MCAR NRMSE: 0.0500\n",
      "Val MAR NRMSE: 0.0492\n",
      "Val MNAR NRMSE: 0.0622\n",
      "No improvement for 1 epochs\n",
      "\n",
      "Epoch 29/100\n"
     ]
    },
    {
     "name": "stderr",
     "output_type": "stream",
     "text": [
      "Training: 100%|██████████| 11/11 [00:01<00:00,  9.34it/s, loss=1.5] \n"
     ]
    },
    {
     "name": "stdout",
     "output_type": "stream",
     "text": [
      "Train Loss: 1.6740\n",
      "Val Loss: 1.3095\n",
      "Val NRMSE: 0.0563\n",
      "Val MCAR NRMSE: 0.0545\n",
      "Val MAR NRMSE: 0.0542\n",
      "Val MNAR NRMSE: 0.0601\n",
      "No improvement for 2 epochs\n",
      "\n",
      "Epoch 30/100\n"
     ]
    },
    {
     "name": "stderr",
     "output_type": "stream",
     "text": [
      "Training: 100%|██████████| 11/11 [00:01<00:00,  9.51it/s, loss=0.971]\n"
     ]
    },
    {
     "name": "stdout",
     "output_type": "stream",
     "text": [
      "Train Loss: 1.6799\n",
      "Val Loss: 1.2950\n",
      "Val NRMSE: 0.0552\n",
      "Val MCAR NRMSE: 0.0462\n",
      "Val MAR NRMSE: 0.0549\n",
      "Val MNAR NRMSE: 0.0645\n",
      "No improvement for 3 epochs\n",
      "\n",
      "Epoch 31/100\n"
     ]
    },
    {
     "name": "stderr",
     "output_type": "stream",
     "text": [
      "Training: 100%|██████████| 11/11 [00:01<00:00,  9.40it/s, loss=0.812]\n"
     ]
    },
    {
     "name": "stdout",
     "output_type": "stream",
     "text": [
      "Train Loss: 1.9511\n",
      "Val Loss: 1.3339\n",
      "Val NRMSE: 0.0564\n",
      "Val MCAR NRMSE: 0.0458\n",
      "Val MAR NRMSE: 0.0597\n",
      "Val MNAR NRMSE: 0.0636\n",
      "No improvement for 4 epochs\n",
      "\n",
      "Epoch 32/100\n"
     ]
    },
    {
     "name": "stderr",
     "output_type": "stream",
     "text": [
      "Training: 100%|██████████| 11/11 [00:01<00:00,  9.12it/s, loss=0.881]\n"
     ]
    },
    {
     "name": "stdout",
     "output_type": "stream",
     "text": [
      "Train Loss: 1.8667\n",
      "Val Loss: 1.3535\n",
      "Val NRMSE: 0.0568\n",
      "Val MCAR NRMSE: 0.0525\n",
      "Val MAR NRMSE: 0.0574\n",
      "Val MNAR NRMSE: 0.0606\n",
      "No improvement for 5 epochs\n",
      "\n",
      "Epoch 33/100\n"
     ]
    },
    {
     "name": "stderr",
     "output_type": "stream",
     "text": [
      "Training: 100%|██████████| 11/11 [00:01<00:00,  9.41it/s, loss=0.769]\n"
     ]
    },
    {
     "name": "stdout",
     "output_type": "stream",
     "text": [
      "Train Loss: 1.8721\n",
      "Val Loss: 1.3336\n",
      "Val NRMSE: 0.0561\n",
      "Val MCAR NRMSE: 0.0531\n",
      "Val MAR NRMSE: 0.0533\n",
      "Val MNAR NRMSE: 0.0618\n",
      "No improvement for 6 epochs\n",
      "\n",
      "Epoch 34/100\n"
     ]
    },
    {
     "name": "stderr",
     "output_type": "stream",
     "text": [
      "Training: 100%|██████████| 11/11 [00:01<00:00,  9.37it/s, loss=3.44]\n"
     ]
    },
    {
     "name": "stdout",
     "output_type": "stream",
     "text": [
      "Train Loss: 1.5477\n",
      "Val Loss: 1.2849\n",
      "Val NRMSE: 0.0551\n",
      "Val MCAR NRMSE: 0.0475\n",
      "Val MAR NRMSE: 0.0507\n",
      "Val MNAR NRMSE: 0.0672\n",
      "No improvement for 7 epochs\n",
      "\n",
      "Epoch 35/100\n"
     ]
    },
    {
     "name": "stderr",
     "output_type": "stream",
     "text": [
      "Training: 100%|██████████| 11/11 [00:01<00:00,  9.45it/s, loss=1.79]\n"
     ]
    },
    {
     "name": "stdout",
     "output_type": "stream",
     "text": [
      "Train Loss: 1.4283\n",
      "Val Loss: 1.3652\n",
      "Val NRMSE: 0.0568\n",
      "Val MCAR NRMSE: 0.0507\n",
      "Val MAR NRMSE: 0.0549\n",
      "Val MNAR NRMSE: 0.0650\n",
      "No improvement for 8 epochs\n",
      "\n",
      "Epoch 36/100\n"
     ]
    },
    {
     "name": "stderr",
     "output_type": "stream",
     "text": [
      "Training: 100%|██████████| 11/11 [00:01<00:00,  9.46it/s, loss=0.462]\n"
     ]
    },
    {
     "name": "stdout",
     "output_type": "stream",
     "text": [
      "Train Loss: 1.7948\n",
      "Val Loss: 1.1467\n",
      "Val NRMSE: 0.0516\n",
      "Val MCAR NRMSE: 0.0458\n",
      "Val MAR NRMSE: 0.0438\n",
      "Val MNAR NRMSE: 0.0652\n",
      "New best validation loss: 1.1467\n",
      "\n",
      "Epoch 37/100\n"
     ]
    },
    {
     "name": "stderr",
     "output_type": "stream",
     "text": [
      "Training: 100%|██████████| 11/11 [00:01<00:00,  9.31it/s, loss=0.323]\n"
     ]
    },
    {
     "name": "stdout",
     "output_type": "stream",
     "text": [
      "Train Loss: 1.6213\n",
      "Val Loss: 1.3568\n",
      "Val NRMSE: 0.0570\n",
      "Val MCAR NRMSE: 0.0494\n",
      "Val MAR NRMSE: 0.0568\n",
      "Val MNAR NRMSE: 0.0648\n",
      "No improvement for 1 epochs\n",
      "\n",
      "Epoch 38/100\n"
     ]
    },
    {
     "name": "stderr",
     "output_type": "stream",
     "text": [
      "Training: 100%|██████████| 11/11 [00:01<00:00,  9.29it/s, loss=1.04]\n"
     ]
    },
    {
     "name": "stdout",
     "output_type": "stream",
     "text": [
      "Train Loss: 1.5829\n",
      "Val Loss: 1.3542\n",
      "Val NRMSE: 0.0568\n",
      "Val MCAR NRMSE: 0.0518\n",
      "Val MAR NRMSE: 0.0563\n",
      "Val MNAR NRMSE: 0.0622\n",
      "No improvement for 2 epochs\n",
      "\n",
      "Epoch 39/100\n"
     ]
    },
    {
     "name": "stderr",
     "output_type": "stream",
     "text": [
      "Training: 100%|██████████| 11/11 [00:01<00:00,  9.33it/s, loss=3.81] \n"
     ]
    },
    {
     "name": "stdout",
     "output_type": "stream",
     "text": [
      "Train Loss: 1.8543\n",
      "Val Loss: 1.2236\n",
      "Val NRMSE: 0.0534\n",
      "Val MCAR NRMSE: 0.0465\n",
      "Val MAR NRMSE: 0.0501\n",
      "Val MNAR NRMSE: 0.0635\n",
      "No improvement for 3 epochs\n",
      "\n",
      "Epoch 40/100\n"
     ]
    },
    {
     "name": "stderr",
     "output_type": "stream",
     "text": [
      "Training: 100%|██████████| 11/11 [00:01<00:00,  9.37it/s, loss=3.48]\n"
     ]
    },
    {
     "name": "stdout",
     "output_type": "stream",
     "text": [
      "Train Loss: 1.8541\n",
      "Val Loss: 1.2962\n",
      "Val NRMSE: 0.0557\n",
      "Val MCAR NRMSE: 0.0475\n",
      "Val MAR NRMSE: 0.0546\n",
      "Val MNAR NRMSE: 0.0650\n",
      "No improvement for 4 epochs\n",
      "\n",
      "Epoch 41/100\n"
     ]
    },
    {
     "name": "stderr",
     "output_type": "stream",
     "text": [
      "Training: 100%|██████████| 11/11 [00:01<00:00,  9.57it/s, loss=0.392]\n"
     ]
    },
    {
     "name": "stdout",
     "output_type": "stream",
     "text": [
      "Train Loss: 2.8150\n",
      "Val Loss: 1.2408\n",
      "Val NRMSE: 0.0546\n",
      "Val MCAR NRMSE: 0.0464\n",
      "Val MAR NRMSE: 0.0515\n",
      "Val MNAR NRMSE: 0.0659\n",
      "No improvement for 5 epochs\n",
      "\n",
      "Epoch 42/100\n"
     ]
    },
    {
     "name": "stderr",
     "output_type": "stream",
     "text": [
      "Training: 100%|██████████| 11/11 [00:01<00:00,  9.13it/s, loss=0.556]\n"
     ]
    },
    {
     "name": "stdout",
     "output_type": "stream",
     "text": [
      "Train Loss: 1.1942\n",
      "Val Loss: 1.3350\n",
      "Val NRMSE: 0.0561\n",
      "Val MCAR NRMSE: 0.0472\n",
      "Val MAR NRMSE: 0.0574\n",
      "Val MNAR NRMSE: 0.0638\n",
      "No improvement for 6 epochs\n",
      "\n",
      "Epoch 43/100\n"
     ]
    },
    {
     "name": "stderr",
     "output_type": "stream",
     "text": [
      "Training: 100%|██████████| 11/11 [00:01<00:00,  9.15it/s, loss=1.43]\n"
     ]
    },
    {
     "name": "stdout",
     "output_type": "stream",
     "text": [
      "Train Loss: 1.9548\n",
      "Val Loss: 1.2832\n",
      "Val NRMSE: 0.0555\n",
      "Val MCAR NRMSE: 0.0498\n",
      "Val MAR NRMSE: 0.0547\n",
      "Val MNAR NRMSE: 0.0620\n",
      "No improvement for 7 epochs\n",
      "\n",
      "Epoch 44/100\n"
     ]
    },
    {
     "name": "stderr",
     "output_type": "stream",
     "text": [
      "Training: 100%|██████████| 11/11 [00:01<00:00,  8.71it/s, loss=1.02]\n"
     ]
    },
    {
     "name": "stdout",
     "output_type": "stream",
     "text": [
      "Train Loss: 1.3470\n",
      "Val Loss: 1.2750\n",
      "Val NRMSE: 0.0543\n",
      "Val MCAR NRMSE: 0.0436\n",
      "Val MAR NRMSE: 0.0547\n",
      "Val MNAR NRMSE: 0.0646\n",
      "No improvement for 8 epochs\n",
      "\n",
      "Epoch 45/100\n"
     ]
    },
    {
     "name": "stderr",
     "output_type": "stream",
     "text": [
      "Training: 100%|██████████| 11/11 [00:01<00:00,  8.99it/s, loss=1.13] \n"
     ]
    },
    {
     "name": "stdout",
     "output_type": "stream",
     "text": [
      "Train Loss: 1.6834\n",
      "Val Loss: 1.2357\n",
      "Val NRMSE: 0.0540\n",
      "Val MCAR NRMSE: 0.0484\n",
      "Val MAR NRMSE: 0.0509\n",
      "Val MNAR NRMSE: 0.0628\n",
      "No improvement for 9 epochs\n",
      "\n",
      "Epoch 46/100\n"
     ]
    },
    {
     "name": "stderr",
     "output_type": "stream",
     "text": [
      "Training: 100%|██████████| 11/11 [00:01<00:00,  9.32it/s, loss=1.09]\n"
     ]
    },
    {
     "name": "stdout",
     "output_type": "stream",
     "text": [
      "Train Loss: 1.7501\n",
      "Val Loss: 1.3663\n",
      "Val NRMSE: 0.0572\n",
      "Val MCAR NRMSE: 0.0497\n",
      "Val MAR NRMSE: 0.0586\n",
      "Val MNAR NRMSE: 0.0633\n",
      "No improvement for 10 epochs\n",
      "\n",
      "Epoch 47/100\n"
     ]
    },
    {
     "name": "stderr",
     "output_type": "stream",
     "text": [
      "Training: 100%|██████████| 11/11 [00:01<00:00,  9.48it/s, loss=1.18] \n"
     ]
    },
    {
     "name": "stdout",
     "output_type": "stream",
     "text": [
      "Train Loss: 1.6618\n",
      "Val Loss: 1.2258\n",
      "Val NRMSE: 0.0544\n",
      "Val MCAR NRMSE: 0.0477\n",
      "Val MAR NRMSE: 0.0519\n",
      "Val MNAR NRMSE: 0.0636\n",
      "No improvement for 11 epochs\n",
      "\n",
      "Epoch 48/100\n"
     ]
    },
    {
     "name": "stderr",
     "output_type": "stream",
     "text": [
      "Training: 100%|██████████| 11/11 [00:01<00:00,  9.20it/s, loss=2.38]\n"
     ]
    },
    {
     "name": "stdout",
     "output_type": "stream",
     "text": [
      "Train Loss: 1.8533\n",
      "Val Loss: 1.2620\n",
      "Val NRMSE: 0.0551\n",
      "Val MCAR NRMSE: 0.0497\n",
      "Val MAR NRMSE: 0.0534\n",
      "Val MNAR NRMSE: 0.0621\n",
      "No improvement for 12 epochs\n",
      "\n",
      "Epoch 49/100\n"
     ]
    },
    {
     "name": "stderr",
     "output_type": "stream",
     "text": [
      "Training: 100%|██████████| 11/11 [00:01<00:00,  9.27it/s, loss=1.3] \n"
     ]
    },
    {
     "name": "stdout",
     "output_type": "stream",
     "text": [
      "Train Loss: 2.2443\n",
      "Val Loss: 1.2912\n",
      "Val NRMSE: 0.0549\n",
      "Val MCAR NRMSE: 0.0489\n",
      "Val MAR NRMSE: 0.0525\n",
      "Val MNAR NRMSE: 0.0632\n",
      "No improvement for 13 epochs\n",
      "\n",
      "Epoch 50/100\n"
     ]
    },
    {
     "name": "stderr",
     "output_type": "stream",
     "text": [
      "Training: 100%|██████████| 11/11 [00:01<00:00,  9.02it/s, loss=0.821]\n"
     ]
    },
    {
     "name": "stdout",
     "output_type": "stream",
     "text": [
      "Train Loss: 1.4319\n",
      "Val Loss: 1.2793\n",
      "Val NRMSE: 0.0554\n",
      "Val MCAR NRMSE: 0.0476\n",
      "Val MAR NRMSE: 0.0548\n",
      "Val MNAR NRMSE: 0.0637\n",
      "No improvement for 14 epochs\n",
      "\n",
      "Epoch 51/100\n"
     ]
    },
    {
     "name": "stderr",
     "output_type": "stream",
     "text": [
      "Training: 100%|██████████| 11/11 [00:01<00:00,  9.05it/s, loss=1.48]\n"
     ]
    },
    {
     "name": "stdout",
     "output_type": "stream",
     "text": [
      "Train Loss: 1.6482\n",
      "Val Loss: 1.2032\n",
      "Val NRMSE: 0.0539\n",
      "Val MCAR NRMSE: 0.0470\n",
      "Val MAR NRMSE: 0.0511\n",
      "Val MNAR NRMSE: 0.0636\n",
      "No improvement for 15 epochs\n",
      "\n",
      "Epoch 52/100\n"
     ]
    },
    {
     "name": "stderr",
     "output_type": "stream",
     "text": [
      "Training: 100%|██████████| 11/11 [00:01<00:00,  9.37it/s, loss=0.436]\n"
     ]
    },
    {
     "name": "stdout",
     "output_type": "stream",
     "text": [
      "Train Loss: 1.2308\n",
      "Val Loss: 1.3538\n",
      "Val NRMSE: 0.0571\n",
      "Val MCAR NRMSE: 0.0484\n",
      "Val MAR NRMSE: 0.0577\n",
      "Val MNAR NRMSE: 0.0653\n",
      "No improvement for 16 epochs\n",
      "\n",
      "Epoch 53/100\n"
     ]
    },
    {
     "name": "stderr",
     "output_type": "stream",
     "text": [
      "Training: 100%|██████████| 11/11 [00:01<00:00,  9.29it/s, loss=0.984]\n"
     ]
    },
    {
     "name": "stdout",
     "output_type": "stream",
     "text": [
      "Train Loss: 1.6823\n",
      "Val Loss: 1.2801\n",
      "Val NRMSE: 0.0548\n",
      "Val MCAR NRMSE: 0.0471\n",
      "Val MAR NRMSE: 0.0506\n",
      "Val MNAR NRMSE: 0.0666\n",
      "No improvement for 17 epochs\n",
      "\n",
      "Epoch 54/100\n"
     ]
    },
    {
     "name": "stderr",
     "output_type": "stream",
     "text": [
      "Training: 100%|██████████| 11/11 [00:01<00:00,  8.93it/s, loss=0.559]\n"
     ]
    },
    {
     "name": "stdout",
     "output_type": "stream",
     "text": [
      "Train Loss: 1.3609\n",
      "Val Loss: 1.3148\n",
      "Val NRMSE: 0.0562\n",
      "Val MCAR NRMSE: 0.0526\n",
      "Val MAR NRMSE: 0.0542\n",
      "Val MNAR NRMSE: 0.0619\n",
      "No improvement for 18 epochs\n",
      "\n",
      "Epoch 55/100\n"
     ]
    },
    {
     "name": "stderr",
     "output_type": "stream",
     "text": [
      "Training: 100%|██████████| 11/11 [00:01<00:00,  8.88it/s, loss=0.74]\n"
     ]
    },
    {
     "name": "stdout",
     "output_type": "stream",
     "text": [
      "Train Loss: 1.2519\n",
      "Val Loss: 1.3533\n",
      "Val NRMSE: 0.0571\n",
      "Val MCAR NRMSE: 0.0494\n",
      "Val MAR NRMSE: 0.0574\n",
      "Val MNAR NRMSE: 0.0645\n",
      "No improvement for 19 epochs\n",
      "\n",
      "Epoch 56/100\n"
     ]
    },
    {
     "name": "stderr",
     "output_type": "stream",
     "text": [
      "Training: 100%|██████████| 11/11 [00:01<00:00,  8.79it/s, loss=2.25] \n"
     ]
    },
    {
     "name": "stdout",
     "output_type": "stream",
     "text": [
      "Train Loss: 2.0807\n",
      "Val Loss: 1.2155\n",
      "Val NRMSE: 0.0540\n",
      "Val MCAR NRMSE: 0.0468\n",
      "Val MAR NRMSE: 0.0520\n",
      "Val MNAR NRMSE: 0.0631\n",
      "No improvement for 20 epochs\n",
      "\n",
      "Epoch 57/100\n"
     ]
    },
    {
     "name": "stderr",
     "output_type": "stream",
     "text": [
      "Training: 100%|██████████| 11/11 [00:01<00:00,  9.15it/s, loss=0.755]\n"
     ]
    },
    {
     "name": "stdout",
     "output_type": "stream",
     "text": [
      "Train Loss: 1.2712\n",
      "Val Loss: 1.2479\n",
      "Val NRMSE: 0.0545\n",
      "Val MCAR NRMSE: 0.0462\n",
      "Val MAR NRMSE: 0.0534\n",
      "Val MNAR NRMSE: 0.0639\n",
      "No improvement for 21 epochs\n",
      "\n",
      "Epoch 58/100\n"
     ]
    },
    {
     "name": "stderr",
     "output_type": "stream",
     "text": [
      "Training: 100%|██████████| 11/11 [00:01<00:00,  8.87it/s, loss=4.35] \n"
     ]
    },
    {
     "name": "stdout",
     "output_type": "stream",
     "text": [
      "Train Loss: 2.0604\n",
      "Val Loss: 1.2158\n",
      "Val NRMSE: 0.0539\n",
      "Val MCAR NRMSE: 0.0497\n",
      "Val MAR NRMSE: 0.0486\n",
      "Val MNAR NRMSE: 0.0633\n",
      "No improvement for 22 epochs\n",
      "\n",
      "Epoch 59/100\n"
     ]
    },
    {
     "name": "stderr",
     "output_type": "stream",
     "text": [
      "Training: 100%|██████████| 11/11 [00:01<00:00,  9.02it/s, loss=0.981]\n"
     ]
    },
    {
     "name": "stdout",
     "output_type": "stream",
     "text": [
      "Train Loss: 1.4992\n",
      "Val Loss: 1.3068\n",
      "Val NRMSE: 0.0546\n",
      "Val MCAR NRMSE: 0.0487\n",
      "Val MAR NRMSE: 0.0524\n",
      "Val MNAR NRMSE: 0.0627\n",
      "No improvement for 23 epochs\n",
      "\n",
      "Epoch 60/100\n"
     ]
    },
    {
     "name": "stderr",
     "output_type": "stream",
     "text": [
      "Training: 100%|██████████| 11/11 [00:01<00:00,  9.03it/s, loss=0.247]\n"
     ]
    },
    {
     "name": "stdout",
     "output_type": "stream",
     "text": [
      "Train Loss: 1.4605\n",
      "Val Loss: 1.3627\n",
      "Val NRMSE: 0.0563\n",
      "Val MCAR NRMSE: 0.0477\n",
      "Val MAR NRMSE: 0.0563\n",
      "Val MNAR NRMSE: 0.0650\n",
      "No improvement for 24 epochs\n",
      "\n",
      "Epoch 61/100\n"
     ]
    },
    {
     "name": "stderr",
     "output_type": "stream",
     "text": [
      "Training: 100%|██████████| 11/11 [00:01<00:00,  9.00it/s, loss=2.96]\n"
     ]
    },
    {
     "name": "stdout",
     "output_type": "stream",
     "text": [
      "Train Loss: 1.7740\n",
      "Val Loss: 1.2078\n",
      "Val NRMSE: 0.0537\n",
      "Val MCAR NRMSE: 0.0497\n",
      "Val MAR NRMSE: 0.0481\n",
      "Val MNAR NRMSE: 0.0632\n",
      "No improvement for 25 epochs\n",
      "Early stopping after 61 epochs\n",
      "Fold 5 metrics:\n",
      "  NRMSE: 0.0564\n",
      "  MCAR NRMSE: 0.0457\n",
      "  MAR NRMSE: 0.0597\n",
      "  MNAR NRMSE: 0.0637\n",
      "\n",
      "Average metrics across folds:\n",
      "  NRMSE: 0.0523 ± 0.0092\n",
      "  MCAR NRMSE: 0.0443 ± 0.0064\n",
      "  MAR NRMSE: 0.0475 ± 0.0094\n",
      "  MNAR NRMSE: 0.0651 ± 0.0144\n",
      "\n",
      "---- K-Fold with Ensemble Model ----\n",
      "\n",
      "Training fold 1/3\n",
      "Starting model training...\n",
      "Creating ensemble model with 3 base models...\n",
      "\n",
      "Epoch 1/100\n"
     ]
    },
    {
     "name": "stderr",
     "output_type": "stream",
     "text": [
      "Training: 100%|██████████| 9/9 [00:02<00:00,  3.29it/s, loss=1.35] \n"
     ]
    },
    {
     "name": "stdout",
     "output_type": "stream",
     "text": [
      "Train Loss: 1.8860\n",
      "Val Loss: 1.2859\n",
      "Val NRMSE: 0.0630\n",
      "Val MCAR NRMSE: 0.0632\n",
      "Val MAR NRMSE: 0.0593\n",
      "Val MNAR NRMSE: 0.0665\n",
      "New best validation loss: 1.2859\n",
      "\n",
      "Epoch 2/100\n"
     ]
    },
    {
     "name": "stderr",
     "output_type": "stream",
     "text": [
      "Training: 100%|██████████| 9/9 [00:02<00:00,  3.32it/s, loss=4.89]\n"
     ]
    },
    {
     "name": "stdout",
     "output_type": "stream",
     "text": [
      "Train Loss: 1.9553\n",
      "Val Loss: 1.3253\n",
      "Val NRMSE: 0.0637\n",
      "Val MCAR NRMSE: 0.0557\n",
      "Val MAR NRMSE: 0.0605\n",
      "Val MNAR NRMSE: 0.0748\n",
      "No improvement for 1 epochs\n",
      "\n",
      "Epoch 3/100\n"
     ]
    },
    {
     "name": "stderr",
     "output_type": "stream",
     "text": [
      "Training: 100%|██████████| 9/9 [00:02<00:00,  3.33it/s, loss=1.38] \n"
     ]
    },
    {
     "name": "stdout",
     "output_type": "stream",
     "text": [
      "Train Loss: 1.8926\n",
      "Val Loss: 1.2453\n",
      "Val NRMSE: 0.0610\n",
      "Val MCAR NRMSE: 0.0513\n",
      "Val MAR NRMSE: 0.0561\n",
      "Val MNAR NRMSE: 0.0757\n",
      "New best validation loss: 1.2453\n",
      "\n",
      "Epoch 4/100\n"
     ]
    },
    {
     "name": "stderr",
     "output_type": "stream",
     "text": [
      "Training: 100%|██████████| 9/9 [00:02<00:00,  3.22it/s, loss=0.733]\n"
     ]
    },
    {
     "name": "stdout",
     "output_type": "stream",
     "text": [
      "Train Loss: 1.5207\n",
      "Val Loss: 1.2203\n",
      "Val NRMSE: 0.0611\n",
      "Val MCAR NRMSE: 0.0595\n",
      "Val MAR NRMSE: 0.0547\n",
      "Val MNAR NRMSE: 0.0690\n",
      "New best validation loss: 1.2203\n",
      "\n",
      "Epoch 5/100\n"
     ]
    },
    {
     "name": "stderr",
     "output_type": "stream",
     "text": [
      "Training: 100%|██████████| 9/9 [00:02<00:00,  3.35it/s, loss=0.654]\n"
     ]
    },
    {
     "name": "stdout",
     "output_type": "stream",
     "text": [
      "Train Loss: 1.5558\n",
      "Val Loss: 1.2343\n",
      "Val NRMSE: 0.0608\n",
      "Val MCAR NRMSE: 0.0508\n",
      "Val MAR NRMSE: 0.0558\n",
      "Val MNAR NRMSE: 0.0757\n",
      "No improvement for 1 epochs\n",
      "\n",
      "Epoch 6/100\n"
     ]
    },
    {
     "name": "stderr",
     "output_type": "stream",
     "text": [
      "Training: 100%|██████████| 9/9 [00:02<00:00,  3.34it/s, loss=0.842]\n"
     ]
    },
    {
     "name": "stdout",
     "output_type": "stream",
     "text": [
      "Train Loss: 1.8626\n",
      "Val Loss: 1.2351\n",
      "Val NRMSE: 0.0604\n",
      "Val MCAR NRMSE: 0.0530\n",
      "Val MAR NRMSE: 0.0517\n",
      "Val MNAR NRMSE: 0.0765\n",
      "No improvement for 2 epochs\n",
      "\n",
      "Epoch 7/100\n"
     ]
    },
    {
     "name": "stderr",
     "output_type": "stream",
     "text": [
      "Training: 100%|██████████| 9/9 [00:02<00:00,  3.34it/s, loss=1.12] \n"
     ]
    },
    {
     "name": "stdout",
     "output_type": "stream",
     "text": [
      "Train Loss: 1.5528\n",
      "Val Loss: 1.1901\n",
      "Val NRMSE: 0.0599\n",
      "Val MCAR NRMSE: 0.0578\n",
      "Val MAR NRMSE: 0.0536\n",
      "Val MNAR NRMSE: 0.0683\n",
      "New best validation loss: 1.1901\n",
      "\n",
      "Epoch 8/100\n"
     ]
    },
    {
     "name": "stderr",
     "output_type": "stream",
     "text": [
      "Training: 100%|██████████| 9/9 [00:02<00:00,  3.37it/s, loss=0.996]\n"
     ]
    },
    {
     "name": "stdout",
     "output_type": "stream",
     "text": [
      "Train Loss: 1.6322\n",
      "Val Loss: 1.2968\n",
      "Val NRMSE: 0.0621\n",
      "Val MCAR NRMSE: 0.0504\n",
      "Val MAR NRMSE: 0.0547\n",
      "Val MNAR NRMSE: 0.0812\n",
      "No improvement for 1 epochs\n",
      "\n",
      "Epoch 9/100\n"
     ]
    },
    {
     "name": "stderr",
     "output_type": "stream",
     "text": [
      "Training: 100%|██████████| 9/9 [00:02<00:00,  3.31it/s, loss=1.9]  \n"
     ]
    },
    {
     "name": "stdout",
     "output_type": "stream",
     "text": [
      "Train Loss: 1.8123\n",
      "Val Loss: 1.3562\n",
      "Val NRMSE: 0.0648\n",
      "Val MCAR NRMSE: 0.0693\n",
      "Val MAR NRMSE: 0.0588\n",
      "Val MNAR NRMSE: 0.0663\n",
      "No improvement for 2 epochs\n",
      "\n",
      "Epoch 10/100\n"
     ]
    },
    {
     "name": "stderr",
     "output_type": "stream",
     "text": [
      "Training: 100%|██████████| 9/9 [00:02<00:00,  3.31it/s, loss=0.909]\n"
     ]
    },
    {
     "name": "stdout",
     "output_type": "stream",
     "text": [
      "Train Loss: 1.6422\n",
      "Val Loss: 1.2356\n",
      "Val NRMSE: 0.0611\n",
      "Val MCAR NRMSE: 0.0573\n",
      "Val MAR NRMSE: 0.0552\n",
      "Val MNAR NRMSE: 0.0708\n",
      "No improvement for 3 epochs\n",
      "\n",
      "Epoch 11/100\n"
     ]
    },
    {
     "name": "stderr",
     "output_type": "stream",
     "text": [
      "Training: 100%|██████████| 9/9 [00:02<00:00,  3.28it/s, loss=3.6] \n"
     ]
    },
    {
     "name": "stdout",
     "output_type": "stream",
     "text": [
      "Train Loss: 3.2809\n",
      "Val Loss: 1.3565\n",
      "Val NRMSE: 0.0639\n",
      "Val MCAR NRMSE: 0.0668\n",
      "Val MAR NRMSE: 0.0587\n",
      "Val MNAR NRMSE: 0.0663\n",
      "No improvement for 4 epochs\n",
      "\n",
      "Epoch 12/100\n"
     ]
    },
    {
     "name": "stderr",
     "output_type": "stream",
     "text": [
      "Training: 100%|██████████| 9/9 [00:02<00:00,  3.32it/s, loss=1.74] \n"
     ]
    },
    {
     "name": "stdout",
     "output_type": "stream",
     "text": [
      "Train Loss: 1.4390\n",
      "Val Loss: 1.2991\n",
      "Val NRMSE: 0.0626\n",
      "Val MCAR NRMSE: 0.0509\n",
      "Val MAR NRMSE: 0.0579\n",
      "Val MNAR NRMSE: 0.0791\n",
      "No improvement for 5 epochs\n",
      "\n",
      "Epoch 13/100\n"
     ]
    },
    {
     "name": "stderr",
     "output_type": "stream",
     "text": [
      "Training: 100%|██████████| 9/9 [00:02<00:00,  3.37it/s, loss=1.42] \n"
     ]
    },
    {
     "name": "stdout",
     "output_type": "stream",
     "text": [
      "Train Loss: 1.4629\n",
      "Val Loss: 1.4143\n",
      "Val NRMSE: 0.0672\n",
      "Val MCAR NRMSE: 0.0708\n",
      "Val MAR NRMSE: 0.0645\n",
      "Val MNAR NRMSE: 0.0662\n",
      "No improvement for 6 epochs\n",
      "\n",
      "Epoch 14/100\n"
     ]
    },
    {
     "name": "stderr",
     "output_type": "stream",
     "text": [
      "Training: 100%|██████████| 9/9 [00:02<00:00,  3.34it/s, loss=2.3] \n"
     ]
    },
    {
     "name": "stdout",
     "output_type": "stream",
     "text": [
      "Train Loss: 3.1131\n",
      "Val Loss: 1.2703\n",
      "Val NRMSE: 0.0626\n",
      "Val MCAR NRMSE: 0.0594\n",
      "Val MAR NRMSE: 0.0609\n",
      "Val MNAR NRMSE: 0.0674\n",
      "No improvement for 7 epochs\n",
      "\n",
      "Epoch 15/100\n"
     ]
    },
    {
     "name": "stderr",
     "output_type": "stream",
     "text": [
      "Training: 100%|██████████| 9/9 [00:02<00:00,  3.36it/s, loss=0.908]\n"
     ]
    },
    {
     "name": "stdout",
     "output_type": "stream",
     "text": [
      "Train Loss: 1.6895\n",
      "Val Loss: 1.2498\n",
      "Val NRMSE: 0.0615\n",
      "Val MCAR NRMSE: 0.0579\n",
      "Val MAR NRMSE: 0.0575\n",
      "Val MNAR NRMSE: 0.0691\n",
      "No improvement for 8 epochs\n",
      "\n",
      "Epoch 16/100\n"
     ]
    },
    {
     "name": "stderr",
     "output_type": "stream",
     "text": [
      "Training: 100%|██████████| 9/9 [00:02<00:00,  3.34it/s, loss=2.11]\n"
     ]
    },
    {
     "name": "stdout",
     "output_type": "stream",
     "text": [
      "Train Loss: 2.3158\n",
      "Val Loss: 1.2250\n",
      "Val NRMSE: 0.0607\n",
      "Val MCAR NRMSE: 0.0520\n",
      "Val MAR NRMSE: 0.0551\n",
      "Val MNAR NRMSE: 0.0748\n",
      "No improvement for 9 epochs\n",
      "\n",
      "Epoch 17/100\n"
     ]
    },
    {
     "name": "stderr",
     "output_type": "stream",
     "text": [
      "Training: 100%|██████████| 9/9 [00:02<00:00,  3.26it/s, loss=1.38] \n"
     ]
    },
    {
     "name": "stdout",
     "output_type": "stream",
     "text": [
      "Train Loss: 1.8116\n",
      "Val Loss: 1.2162\n",
      "Val NRMSE: 0.0615\n",
      "Val MCAR NRMSE: 0.0606\n",
      "Val MAR NRMSE: 0.0564\n",
      "Val MNAR NRMSE: 0.0673\n",
      "No improvement for 10 epochs\n",
      "\n",
      "Epoch 18/100\n"
     ]
    },
    {
     "name": "stderr",
     "output_type": "stream",
     "text": [
      "Training: 100%|██████████| 9/9 [00:02<00:00,  3.33it/s, loss=2.29] \n"
     ]
    },
    {
     "name": "stdout",
     "output_type": "stream",
     "text": [
      "Train Loss: 1.8502\n",
      "Val Loss: 1.3751\n",
      "Val NRMSE: 0.0650\n",
      "Val MCAR NRMSE: 0.0522\n",
      "Val MAR NRMSE: 0.0628\n",
      "Val MNAR NRMSE: 0.0801\n",
      "No improvement for 11 epochs\n",
      "\n",
      "Epoch 19/100\n"
     ]
    },
    {
     "name": "stderr",
     "output_type": "stream",
     "text": [
      "Training: 100%|██████████| 9/9 [00:02<00:00,  3.33it/s, loss=2.94] \n"
     ]
    },
    {
     "name": "stdout",
     "output_type": "stream",
     "text": [
      "Train Loss: 2.6486\n",
      "Val Loss: 1.1731\n",
      "Val NRMSE: 0.0595\n",
      "Val MCAR NRMSE: 0.0565\n",
      "Val MAR NRMSE: 0.0531\n",
      "Val MNAR NRMSE: 0.0688\n",
      "New best validation loss: 1.1731\n",
      "\n",
      "Epoch 20/100\n"
     ]
    },
    {
     "name": "stderr",
     "output_type": "stream",
     "text": [
      "Training: 100%|██████████| 9/9 [00:02<00:00,  3.36it/s, loss=0.857]\n"
     ]
    },
    {
     "name": "stdout",
     "output_type": "stream",
     "text": [
      "Train Loss: 1.7346\n",
      "Val Loss: 1.1830\n",
      "Val NRMSE: 0.0600\n",
      "Val MCAR NRMSE: 0.0526\n",
      "Val MAR NRMSE: 0.0547\n",
      "Val MNAR NRMSE: 0.0726\n",
      "No improvement for 1 epochs\n",
      "\n",
      "Epoch 21/100\n"
     ]
    },
    {
     "name": "stderr",
     "output_type": "stream",
     "text": [
      "Training: 100%|██████████| 9/9 [00:02<00:00,  3.34it/s, loss=1.8] \n"
     ]
    },
    {
     "name": "stdout",
     "output_type": "stream",
     "text": [
      "Train Loss: 1.7658\n",
      "Val Loss: 1.6058\n",
      "Val NRMSE: 0.0704\n",
      "Val MCAR NRMSE: 0.0774\n",
      "Val MAR NRMSE: 0.0663\n",
      "Val MNAR NRMSE: 0.0677\n",
      "No improvement for 2 epochs\n",
      "\n",
      "Epoch 22/100\n"
     ]
    },
    {
     "name": "stderr",
     "output_type": "stream",
     "text": [
      "Training: 100%|██████████| 9/9 [00:02<00:00,  3.36it/s, loss=3.58]\n"
     ]
    },
    {
     "name": "stdout",
     "output_type": "stream",
     "text": [
      "Train Loss: 2.4183\n",
      "Val Loss: 1.6460\n",
      "Val NRMSE: 0.0709\n",
      "Val MCAR NRMSE: 0.0525\n",
      "Val MAR NRMSE: 0.0690\n",
      "Val MNAR NRMSE: 0.0912\n",
      "No improvement for 3 epochs\n",
      "\n",
      "Epoch 23/100\n"
     ]
    },
    {
     "name": "stderr",
     "output_type": "stream",
     "text": [
      "Training: 100%|██████████| 9/9 [00:02<00:00,  3.34it/s, loss=1.76] \n"
     ]
    },
    {
     "name": "stdout",
     "output_type": "stream",
     "text": [
      "Train Loss: 2.1202\n",
      "Val Loss: 1.2771\n",
      "Val NRMSE: 0.0617\n",
      "Val MCAR NRMSE: 0.0626\n",
      "Val MAR NRMSE: 0.0566\n",
      "Val MNAR NRMSE: 0.0660\n",
      "No improvement for 4 epochs\n",
      "\n",
      "Epoch 24/100\n"
     ]
    },
    {
     "name": "stderr",
     "output_type": "stream",
     "text": [
      "Training: 100%|██████████| 9/9 [00:02<00:00,  3.28it/s, loss=0.881]\n"
     ]
    },
    {
     "name": "stdout",
     "output_type": "stream",
     "text": [
      "Train Loss: 1.9917\n",
      "Val Loss: 1.2443\n",
      "Val NRMSE: 0.0615\n",
      "Val MCAR NRMSE: 0.0513\n",
      "Val MAR NRMSE: 0.0581\n",
      "Val MNAR NRMSE: 0.0753\n",
      "No improvement for 5 epochs\n",
      "\n",
      "Epoch 25/100\n"
     ]
    },
    {
     "name": "stderr",
     "output_type": "stream",
     "text": [
      "Training: 100%|██████████| 9/9 [00:02<00:00,  3.38it/s, loss=1.04] \n"
     ]
    },
    {
     "name": "stdout",
     "output_type": "stream",
     "text": [
      "Train Loss: 1.4629\n",
      "Val Loss: 1.2728\n",
      "Val NRMSE: 0.0624\n",
      "Val MCAR NRMSE: 0.0528\n",
      "Val MAR NRMSE: 0.0568\n",
      "Val MNAR NRMSE: 0.0777\n",
      "No improvement for 6 epochs\n",
      "\n",
      "Epoch 26/100\n"
     ]
    },
    {
     "name": "stderr",
     "output_type": "stream",
     "text": [
      "Training: 100%|██████████| 9/9 [00:02<00:00,  3.30it/s, loss=1.05] \n"
     ]
    },
    {
     "name": "stdout",
     "output_type": "stream",
     "text": [
      "Train Loss: 1.7914\n",
      "Val Loss: 1.5495\n",
      "Val NRMSE: 0.0693\n",
      "Val MCAR NRMSE: 0.0762\n",
      "Val MAR NRMSE: 0.0645\n",
      "Val MNAR NRMSE: 0.0673\n",
      "No improvement for 7 epochs\n",
      "\n",
      "Epoch 27/100\n"
     ]
    },
    {
     "name": "stderr",
     "output_type": "stream",
     "text": [
      "Training: 100%|██████████| 9/9 [00:02<00:00,  3.34it/s, loss=1.16] \n"
     ]
    },
    {
     "name": "stdout",
     "output_type": "stream",
     "text": [
      "Train Loss: 1.5781\n",
      "Val Loss: 1.1671\n",
      "Val NRMSE: 0.0596\n",
      "Val MCAR NRMSE: 0.0520\n",
      "Val MAR NRMSE: 0.0543\n",
      "Val MNAR NRMSE: 0.0725\n",
      "New best validation loss: 1.1671\n",
      "\n",
      "Epoch 28/100\n"
     ]
    },
    {
     "name": "stderr",
     "output_type": "stream",
     "text": [
      "Training: 100%|██████████| 9/9 [00:02<00:00,  3.30it/s, loss=1.82] \n"
     ]
    },
    {
     "name": "stdout",
     "output_type": "stream",
     "text": [
      "Train Loss: 1.6674\n",
      "Val Loss: 1.1751\n",
      "Val NRMSE: 0.0598\n",
      "Val MCAR NRMSE: 0.0530\n",
      "Val MAR NRMSE: 0.0566\n",
      "Val MNAR NRMSE: 0.0698\n",
      "No improvement for 1 epochs\n",
      "\n",
      "Epoch 29/100\n"
     ]
    },
    {
     "name": "stderr",
     "output_type": "stream",
     "text": [
      "Training: 100%|██████████| 9/9 [00:02<00:00,  3.36it/s, loss=2.37] \n"
     ]
    },
    {
     "name": "stdout",
     "output_type": "stream",
     "text": [
      "Train Loss: 1.4247\n",
      "Val Loss: 1.1942\n",
      "Val NRMSE: 0.0605\n",
      "Val MCAR NRMSE: 0.0547\n",
      "Val MAR NRMSE: 0.0556\n",
      "Val MNAR NRMSE: 0.0711\n",
      "No improvement for 2 epochs\n",
      "\n",
      "Epoch 30/100\n"
     ]
    },
    {
     "name": "stderr",
     "output_type": "stream",
     "text": [
      "Training: 100%|██████████| 9/9 [00:02<00:00,  3.32it/s, loss=1.17]\n"
     ]
    },
    {
     "name": "stdout",
     "output_type": "stream",
     "text": [
      "Train Loss: 2.0012\n",
      "Val Loss: 1.2596\n",
      "Val NRMSE: 0.0620\n",
      "Val MCAR NRMSE: 0.0623\n",
      "Val MAR NRMSE: 0.0559\n",
      "Val MNAR NRMSE: 0.0677\n",
      "No improvement for 3 epochs\n",
      "\n",
      "Epoch 31/100\n"
     ]
    },
    {
     "name": "stderr",
     "output_type": "stream",
     "text": [
      "Training: 100%|██████████| 9/9 [00:02<00:00,  3.38it/s, loss=0.937]\n"
     ]
    },
    {
     "name": "stdout",
     "output_type": "stream",
     "text": [
      "Train Loss: 1.5512\n",
      "Val Loss: 1.1943\n",
      "Val NRMSE: 0.0603\n",
      "Val MCAR NRMSE: 0.0559\n",
      "Val MAR NRMSE: 0.0554\n",
      "Val MNAR NRMSE: 0.0696\n",
      "No improvement for 4 epochs\n",
      "\n",
      "Epoch 32/100\n"
     ]
    },
    {
     "name": "stderr",
     "output_type": "stream",
     "text": [
      "Training: 100%|██████████| 9/9 [00:02<00:00,  3.36it/s, loss=0.854]\n"
     ]
    },
    {
     "name": "stdout",
     "output_type": "stream",
     "text": [
      "Train Loss: 1.5528\n",
      "Val Loss: 1.1784\n",
      "Val NRMSE: 0.0601\n",
      "Val MCAR NRMSE: 0.0508\n",
      "Val MAR NRMSE: 0.0548\n",
      "Val MNAR NRMSE: 0.0748\n",
      "No improvement for 5 epochs\n",
      "\n",
      "Epoch 33/100\n"
     ]
    },
    {
     "name": "stderr",
     "output_type": "stream",
     "text": [
      "Training: 100%|██████████| 9/9 [00:02<00:00,  3.36it/s, loss=2.36] \n"
     ]
    },
    {
     "name": "stdout",
     "output_type": "stream",
     "text": [
      "Train Loss: 2.0174\n",
      "Val Loss: 1.1564\n",
      "Val NRMSE: 0.0597\n",
      "Val MCAR NRMSE: 0.0551\n",
      "Val MAR NRMSE: 0.0542\n",
      "Val MNAR NRMSE: 0.0698\n",
      "New best validation loss: 1.1564\n",
      "\n",
      "Epoch 34/100\n"
     ]
    },
    {
     "name": "stderr",
     "output_type": "stream",
     "text": [
      "Training: 100%|██████████| 9/9 [00:02<00:00,  3.38it/s, loss=0.791]\n"
     ]
    },
    {
     "name": "stdout",
     "output_type": "stream",
     "text": [
      "Train Loss: 1.3357\n",
      "Val Loss: 1.2215\n",
      "Val NRMSE: 0.0607\n",
      "Val MCAR NRMSE: 0.0533\n",
      "Val MAR NRMSE: 0.0565\n",
      "Val MNAR NRMSE: 0.0722\n",
      "No improvement for 1 epochs\n",
      "\n",
      "Epoch 35/100\n"
     ]
    },
    {
     "name": "stderr",
     "output_type": "stream",
     "text": [
      "Training: 100%|██████████| 9/9 [00:02<00:00,  3.30it/s, loss=17.5] \n"
     ]
    },
    {
     "name": "stdout",
     "output_type": "stream",
     "text": [
      "Train Loss: 3.3367\n",
      "Val Loss: 1.2420\n",
      "Val NRMSE: 0.0616\n",
      "Val MCAR NRMSE: 0.0617\n",
      "Val MAR NRMSE: 0.0564\n",
      "Val MNAR NRMSE: 0.0667\n",
      "No improvement for 2 epochs\n",
      "\n",
      "Epoch 36/100\n"
     ]
    },
    {
     "name": "stderr",
     "output_type": "stream",
     "text": [
      "Training: 100%|██████████| 9/9 [00:02<00:00,  3.35it/s, loss=0.684]\n"
     ]
    },
    {
     "name": "stdout",
     "output_type": "stream",
     "text": [
      "Train Loss: 1.2669\n",
      "Val Loss: 1.2447\n",
      "Val NRMSE: 0.0609\n",
      "Val MCAR NRMSE: 0.0541\n",
      "Val MAR NRMSE: 0.0543\n",
      "Val MNAR NRMSE: 0.0742\n",
      "No improvement for 3 epochs\n",
      "\n",
      "Epoch 37/100\n"
     ]
    },
    {
     "name": "stderr",
     "output_type": "stream",
     "text": [
      "Training: 100%|██████████| 9/9 [00:02<00:00,  3.35it/s, loss=0.639]\n"
     ]
    },
    {
     "name": "stdout",
     "output_type": "stream",
     "text": [
      "Train Loss: 2.0077\n",
      "Val Loss: 1.1650\n",
      "Val NRMSE: 0.0593\n",
      "Val MCAR NRMSE: 0.0544\n",
      "Val MAR NRMSE: 0.0531\n",
      "Val MNAR NRMSE: 0.0704\n",
      "No improvement for 4 epochs\n",
      "\n",
      "Epoch 38/100\n"
     ]
    },
    {
     "name": "stderr",
     "output_type": "stream",
     "text": [
      "Training: 100%|██████████| 9/9 [00:02<00:00,  3.25it/s, loss=0.745]\n"
     ]
    },
    {
     "name": "stdout",
     "output_type": "stream",
     "text": [
      "Train Loss: 1.4570\n",
      "Val Loss: 1.1935\n",
      "Val NRMSE: 0.0600\n",
      "Val MCAR NRMSE: 0.0578\n",
      "Val MAR NRMSE: 0.0537\n",
      "Val MNAR NRMSE: 0.0683\n",
      "No improvement for 5 epochs\n",
      "\n",
      "Epoch 39/100\n"
     ]
    },
    {
     "name": "stderr",
     "output_type": "stream",
     "text": [
      "Training: 100%|██████████| 9/9 [00:02<00:00,  3.37it/s, loss=0.665]\n"
     ]
    },
    {
     "name": "stdout",
     "output_type": "stream",
     "text": [
      "Train Loss: 1.5258\n",
      "Val Loss: 1.2912\n",
      "Val NRMSE: 0.0620\n",
      "Val MCAR NRMSE: 0.0497\n",
      "Val MAR NRMSE: 0.0574\n",
      "Val MNAR NRMSE: 0.0788\n",
      "No improvement for 6 epochs\n",
      "\n",
      "Epoch 40/100\n"
     ]
    },
    {
     "name": "stderr",
     "output_type": "stream",
     "text": [
      "Training: 100%|██████████| 9/9 [00:02<00:00,  3.33it/s, loss=3.49] \n"
     ]
    },
    {
     "name": "stdout",
     "output_type": "stream",
     "text": [
      "Train Loss: 1.7321\n",
      "Val Loss: 1.2137\n",
      "Val NRMSE: 0.0602\n",
      "Val MCAR NRMSE: 0.0506\n",
      "Val MAR NRMSE: 0.0556\n",
      "Val MNAR NRMSE: 0.0744\n",
      "No improvement for 7 epochs\n",
      "\n",
      "Epoch 41/100\n"
     ]
    },
    {
     "name": "stderr",
     "output_type": "stream",
     "text": [
      "Training: 100%|██████████| 9/9 [00:02<00:00,  3.33it/s, loss=1.07] \n"
     ]
    },
    {
     "name": "stdout",
     "output_type": "stream",
     "text": [
      "Train Loss: 1.6836\n",
      "Val Loss: 1.2125\n",
      "Val NRMSE: 0.0610\n",
      "Val MCAR NRMSE: 0.0587\n",
      "Val MAR NRMSE: 0.0547\n",
      "Val MNAR NRMSE: 0.0698\n",
      "No improvement for 8 epochs\n",
      "\n",
      "Epoch 42/100\n"
     ]
    },
    {
     "name": "stderr",
     "output_type": "stream",
     "text": [
      "Training: 100%|██████████| 9/9 [00:02<00:00,  3.37it/s, loss=5.48] \n"
     ]
    },
    {
     "name": "stdout",
     "output_type": "stream",
     "text": [
      "Train Loss: 1.7857\n",
      "Val Loss: 1.3012\n",
      "Val NRMSE: 0.0628\n",
      "Val MCAR NRMSE: 0.0517\n",
      "Val MAR NRMSE: 0.0571\n",
      "Val MNAR NRMSE: 0.0798\n",
      "No improvement for 9 epochs\n",
      "\n",
      "Epoch 43/100\n"
     ]
    },
    {
     "name": "stderr",
     "output_type": "stream",
     "text": [
      "Training: 100%|██████████| 9/9 [00:02<00:00,  3.27it/s, loss=1.05] \n"
     ]
    },
    {
     "name": "stdout",
     "output_type": "stream",
     "text": [
      "Train Loss: 1.7135\n",
      "Val Loss: 1.2494\n",
      "Val NRMSE: 0.0622\n",
      "Val MCAR NRMSE: 0.0540\n",
      "Val MAR NRMSE: 0.0598\n",
      "Val MNAR NRMSE: 0.0727\n",
      "No improvement for 10 epochs\n",
      "\n",
      "Epoch 44/100\n"
     ]
    },
    {
     "name": "stderr",
     "output_type": "stream",
     "text": [
      "Training: 100%|██████████| 9/9 [00:02<00:00,  3.12it/s, loss=9.92] \n"
     ]
    },
    {
     "name": "stdout",
     "output_type": "stream",
     "text": [
      "Train Loss: 2.9140\n",
      "Val Loss: 1.1689\n",
      "Val NRMSE: 0.0594\n",
      "Val MCAR NRMSE: 0.0548\n",
      "Val MAR NRMSE: 0.0536\n",
      "Val MNAR NRMSE: 0.0699\n",
      "No improvement for 11 epochs\n",
      "\n",
      "Epoch 45/100\n"
     ]
    },
    {
     "name": "stderr",
     "output_type": "stream",
     "text": [
      "Training: 100%|██████████| 9/9 [00:02<00:00,  3.18it/s, loss=1.08] \n"
     ]
    },
    {
     "name": "stdout",
     "output_type": "stream",
     "text": [
      "Train Loss: 1.5266\n",
      "Val Loss: 1.2522\n",
      "Val NRMSE: 0.0618\n",
      "Val MCAR NRMSE: 0.0593\n",
      "Val MAR NRMSE: 0.0580\n",
      "Val MNAR NRMSE: 0.0681\n",
      "No improvement for 12 epochs\n",
      "\n",
      "Epoch 46/100\n"
     ]
    },
    {
     "name": "stderr",
     "output_type": "stream",
     "text": [
      "Training: 100%|██████████| 9/9 [00:02<00:00,  3.25it/s, loss=0.644]\n"
     ]
    },
    {
     "name": "stdout",
     "output_type": "stream",
     "text": [
      "Train Loss: 1.3416\n",
      "Val Loss: 1.1863\n",
      "Val NRMSE: 0.0600\n",
      "Val MCAR NRMSE: 0.0518\n",
      "Val MAR NRMSE: 0.0545\n",
      "Val MNAR NRMSE: 0.0737\n",
      "No improvement for 13 epochs\n",
      "\n",
      "Epoch 47/100\n"
     ]
    },
    {
     "name": "stderr",
     "output_type": "stream",
     "text": [
      "Training: 100%|██████████| 9/9 [00:02<00:00,  3.26it/s, loss=0.963]\n"
     ]
    },
    {
     "name": "stdout",
     "output_type": "stream",
     "text": [
      "Train Loss: 1.8407\n",
      "Val Loss: 1.2560\n",
      "Val NRMSE: 0.0620\n",
      "Val MCAR NRMSE: 0.0541\n",
      "Val MAR NRMSE: 0.0581\n",
      "Val MNAR NRMSE: 0.0739\n",
      "No improvement for 14 epochs\n",
      "\n",
      "Epoch 48/100\n"
     ]
    },
    {
     "name": "stderr",
     "output_type": "stream",
     "text": [
      "Training: 100%|██████████| 9/9 [00:02<00:00,  3.19it/s, loss=1.35] \n"
     ]
    },
    {
     "name": "stdout",
     "output_type": "stream",
     "text": [
      "Train Loss: 1.6771\n",
      "Val Loss: 1.2105\n",
      "Val NRMSE: 0.0608\n",
      "Val MCAR NRMSE: 0.0564\n",
      "Val MAR NRMSE: 0.0557\n",
      "Val MNAR NRMSE: 0.0704\n",
      "No improvement for 15 epochs\n",
      "\n",
      "Epoch 49/100\n"
     ]
    },
    {
     "name": "stderr",
     "output_type": "stream",
     "text": [
      "Training: 100%|██████████| 9/9 [00:02<00:00,  3.28it/s, loss=1.31] \n"
     ]
    },
    {
     "name": "stdout",
     "output_type": "stream",
     "text": [
      "Train Loss: 1.3588\n",
      "Val Loss: 1.2342\n",
      "Val NRMSE: 0.0610\n",
      "Val MCAR NRMSE: 0.0518\n",
      "Val MAR NRMSE: 0.0582\n",
      "Val MNAR NRMSE: 0.0732\n",
      "No improvement for 16 epochs\n",
      "\n",
      "Epoch 50/100\n"
     ]
    },
    {
     "name": "stderr",
     "output_type": "stream",
     "text": [
      "Training: 100%|██████████| 9/9 [00:02<00:00,  3.22it/s, loss=1.64] \n"
     ]
    },
    {
     "name": "stdout",
     "output_type": "stream",
     "text": [
      "Train Loss: 1.3677\n",
      "Val Loss: 1.1850\n",
      "Val NRMSE: 0.0597\n",
      "Val MCAR NRMSE: 0.0551\n",
      "Val MAR NRMSE: 0.0517\n",
      "Val MNAR NRMSE: 0.0723\n",
      "No improvement for 17 epochs\n",
      "\n",
      "Epoch 51/100\n"
     ]
    },
    {
     "name": "stderr",
     "output_type": "stream",
     "text": [
      "Training: 100%|██████████| 9/9 [00:02<00:00,  3.27it/s, loss=0.723]\n"
     ]
    },
    {
     "name": "stdout",
     "output_type": "stream",
     "text": [
      "Train Loss: 1.2900\n",
      "Val Loss: 1.1610\n",
      "Val NRMSE: 0.0594\n",
      "Val MCAR NRMSE: 0.0512\n",
      "Val MAR NRMSE: 0.0540\n",
      "Val MNAR NRMSE: 0.0731\n",
      "No improvement for 18 epochs\n",
      "\n",
      "Epoch 52/100\n"
     ]
    },
    {
     "name": "stderr",
     "output_type": "stream",
     "text": [
      "Training: 100%|██████████| 9/9 [00:02<00:00,  3.27it/s, loss=0.767]\n"
     ]
    },
    {
     "name": "stdout",
     "output_type": "stream",
     "text": [
      "Train Loss: 1.2236\n",
      "Val Loss: 1.2365\n",
      "Val NRMSE: 0.0608\n",
      "Val MCAR NRMSE: 0.0520\n",
      "Val MAR NRMSE: 0.0550\n",
      "Val MNAR NRMSE: 0.0753\n",
      "No improvement for 19 epochs\n",
      "\n",
      "Epoch 53/100\n"
     ]
    },
    {
     "name": "stderr",
     "output_type": "stream",
     "text": [
      "Training: 100%|██████████| 9/9 [00:02<00:00,  3.24it/s, loss=1.57] \n"
     ]
    },
    {
     "name": "stdout",
     "output_type": "stream",
     "text": [
      "Train Loss: 1.6560\n",
      "Val Loss: 1.1730\n",
      "Val NRMSE: 0.0592\n",
      "Val MCAR NRMSE: 0.0566\n",
      "Val MAR NRMSE: 0.0524\n",
      "Val MNAR NRMSE: 0.0686\n",
      "No improvement for 20 epochs\n",
      "\n",
      "Epoch 54/100\n"
     ]
    },
    {
     "name": "stderr",
     "output_type": "stream",
     "text": [
      "Training: 100%|██████████| 9/9 [00:02<00:00,  3.27it/s, loss=1.16] \n"
     ]
    },
    {
     "name": "stdout",
     "output_type": "stream",
     "text": [
      "Train Loss: 1.5951\n",
      "Val Loss: 1.1934\n",
      "Val NRMSE: 0.0602\n",
      "Val MCAR NRMSE: 0.0548\n",
      "Val MAR NRMSE: 0.0556\n",
      "Val MNAR NRMSE: 0.0704\n",
      "No improvement for 21 epochs\n",
      "\n",
      "Epoch 55/100\n"
     ]
    },
    {
     "name": "stderr",
     "output_type": "stream",
     "text": [
      "Training: 100%|██████████| 9/9 [00:02<00:00,  3.23it/s, loss=0.924]\n"
     ]
    },
    {
     "name": "stdout",
     "output_type": "stream",
     "text": [
      "Train Loss: 1.9644\n",
      "Val Loss: 1.1871\n",
      "Val NRMSE: 0.0602\n",
      "Val MCAR NRMSE: 0.0560\n",
      "Val MAR NRMSE: 0.0534\n",
      "Val MNAR NRMSE: 0.0712\n",
      "No improvement for 22 epochs\n",
      "\n",
      "Epoch 56/100\n"
     ]
    },
    {
     "name": "stderr",
     "output_type": "stream",
     "text": [
      "Training: 100%|██████████| 9/9 [00:02<00:00,  3.22it/s, loss=5.18] \n"
     ]
    },
    {
     "name": "stdout",
     "output_type": "stream",
     "text": [
      "Train Loss: 2.0632\n",
      "Val Loss: 1.2156\n",
      "Val NRMSE: 0.0612\n",
      "Val MCAR NRMSE: 0.0560\n",
      "Val MAR NRMSE: 0.0568\n",
      "Val MNAR NRMSE: 0.0708\n",
      "No improvement for 23 epochs\n",
      "\n",
      "Epoch 57/100\n"
     ]
    },
    {
     "name": "stderr",
     "output_type": "stream",
     "text": [
      "Training: 100%|██████████| 9/9 [00:02<00:00,  3.22it/s, loss=0.907]\n"
     ]
    },
    {
     "name": "stdout",
     "output_type": "stream",
     "text": [
      "Train Loss: 1.6769\n",
      "Val Loss: 1.1764\n",
      "Val NRMSE: 0.0594\n",
      "Val MCAR NRMSE: 0.0514\n",
      "Val MAR NRMSE: 0.0552\n",
      "Val MNAR NRMSE: 0.0716\n",
      "No improvement for 24 epochs\n",
      "\n",
      "Epoch 58/100\n"
     ]
    },
    {
     "name": "stderr",
     "output_type": "stream",
     "text": [
      "Training: 100%|██████████| 9/9 [00:02<00:00,  3.23it/s, loss=1.22] \n"
     ]
    },
    {
     "name": "stdout",
     "output_type": "stream",
     "text": [
      "Train Loss: 1.5962\n",
      "Val Loss: 1.1987\n",
      "Val NRMSE: 0.0607\n",
      "Val MCAR NRMSE: 0.0565\n",
      "Val MAR NRMSE: 0.0560\n",
      "Val MNAR NRMSE: 0.0696\n",
      "No improvement for 25 epochs\n",
      "Early stopping after 58 epochs\n",
      "Fold 1 metrics:\n",
      "  NRMSE: 0.0595\n",
      "  MCAR NRMSE: 0.0566\n",
      "  MAR NRMSE: 0.0530\n",
      "  MNAR NRMSE: 0.0687\n",
      "\n",
      "Training fold 2/3\n",
      "Starting model training...\n",
      "Creating ensemble model with 3 base models...\n",
      "\n",
      "Epoch 1/100\n"
     ]
    },
    {
     "name": "stderr",
     "output_type": "stream",
     "text": [
      "Training: 100%|██████████| 9/9 [00:02<00:00,  3.16it/s, loss=0.788]\n"
     ]
    },
    {
     "name": "stdout",
     "output_type": "stream",
     "text": [
      "Train Loss: 1.5662\n",
      "Val Loss: 1.8741\n",
      "Val NRMSE: 0.0675\n",
      "Val MCAR NRMSE: 0.0593\n",
      "Val MAR NRMSE: 0.0636\n",
      "Val MNAR NRMSE: 0.0797\n",
      "New best validation loss: 1.8741\n",
      "\n",
      "Epoch 2/100\n"
     ]
    },
    {
     "name": "stderr",
     "output_type": "stream",
     "text": [
      "Training: 100%|██████████| 9/9 [00:02<00:00,  3.26it/s, loss=1.73]\n"
     ]
    },
    {
     "name": "stdout",
     "output_type": "stream",
     "text": [
      "Train Loss: 1.4218\n",
      "Val Loss: 1.7048\n",
      "Val NRMSE: 0.0629\n",
      "Val MCAR NRMSE: 0.0550\n",
      "Val MAR NRMSE: 0.0544\n",
      "Val MNAR NRMSE: 0.0793\n",
      "New best validation loss: 1.7048\n",
      "\n",
      "Epoch 3/100\n"
     ]
    },
    {
     "name": "stderr",
     "output_type": "stream",
     "text": [
      "Training: 100%|██████████| 9/9 [00:02<00:00,  3.18it/s, loss=6.4]  \n"
     ]
    },
    {
     "name": "stdout",
     "output_type": "stream",
     "text": [
      "Train Loss: 1.8488\n",
      "Val Loss: 1.8525\n",
      "Val NRMSE: 0.0643\n",
      "Val MCAR NRMSE: 0.0473\n",
      "Val MAR NRMSE: 0.0602\n",
      "Val MNAR NRMSE: 0.0855\n",
      "No improvement for 1 epochs\n",
      "\n",
      "Epoch 4/100\n"
     ]
    },
    {
     "name": "stderr",
     "output_type": "stream",
     "text": [
      "Training: 100%|██████████| 9/9 [00:02<00:00,  3.26it/s, loss=3.71] \n"
     ]
    },
    {
     "name": "stdout",
     "output_type": "stream",
     "text": [
      "Train Loss: 1.7012\n",
      "Val Loss: 1.8130\n",
      "Val NRMSE: 0.0639\n",
      "Val MCAR NRMSE: 0.0492\n",
      "Val MAR NRMSE: 0.0583\n",
      "Val MNAR NRMSE: 0.0841\n",
      "No improvement for 2 epochs\n",
      "\n",
      "Epoch 5/100\n"
     ]
    },
    {
     "name": "stderr",
     "output_type": "stream",
     "text": [
      "Training: 100%|██████████| 9/9 [00:02<00:00,  3.24it/s, loss=0.785]\n"
     ]
    },
    {
     "name": "stdout",
     "output_type": "stream",
     "text": [
      "Train Loss: 1.3844\n",
      "Val Loss: 1.9862\n",
      "Val NRMSE: 0.0684\n",
      "Val MCAR NRMSE: 0.0535\n",
      "Val MAR NRMSE: 0.0657\n",
      "Val MNAR NRMSE: 0.0861\n",
      "No improvement for 3 epochs\n",
      "\n",
      "Epoch 6/100\n"
     ]
    },
    {
     "name": "stderr",
     "output_type": "stream",
     "text": [
      "Training: 100%|██████████| 9/9 [00:02<00:00,  3.21it/s, loss=2.12] \n"
     ]
    },
    {
     "name": "stdout",
     "output_type": "stream",
     "text": [
      "Train Loss: 1.5327\n",
      "Val Loss: 1.8288\n",
      "Val NRMSE: 0.0649\n",
      "Val MCAR NRMSE: 0.0571\n",
      "Val MAR NRMSE: 0.0563\n",
      "Val MNAR NRMSE: 0.0813\n",
      "No improvement for 4 epochs\n",
      "\n",
      "Epoch 7/100\n"
     ]
    },
    {
     "name": "stderr",
     "output_type": "stream",
     "text": [
      "Training: 100%|██████████| 9/9 [00:02<00:00,  3.22it/s, loss=0.916]\n"
     ]
    },
    {
     "name": "stdout",
     "output_type": "stream",
     "text": [
      "Train Loss: 1.5797\n",
      "Val Loss: 2.1806\n",
      "Val NRMSE: 0.0717\n",
      "Val MCAR NRMSE: 0.0685\n",
      "Val MAR NRMSE: 0.0687\n",
      "Val MNAR NRMSE: 0.0778\n",
      "No improvement for 5 epochs\n",
      "\n",
      "Epoch 8/100\n"
     ]
    },
    {
     "name": "stderr",
     "output_type": "stream",
     "text": [
      "Training: 100%|██████████| 9/9 [00:02<00:00,  3.24it/s, loss=0.674]\n"
     ]
    },
    {
     "name": "stdout",
     "output_type": "stream",
     "text": [
      "Train Loss: 1.4913\n",
      "Val Loss: 1.9031\n",
      "Val NRMSE: 0.0676\n",
      "Val MCAR NRMSE: 0.0518\n",
      "Val MAR NRMSE: 0.0666\n",
      "Val MNAR NRMSE: 0.0844\n",
      "No improvement for 6 epochs\n",
      "\n",
      "Epoch 9/100\n"
     ]
    },
    {
     "name": "stderr",
     "output_type": "stream",
     "text": [
      "Training: 100%|██████████| 9/9 [00:02<00:00,  3.23it/s, loss=1.06] \n"
     ]
    },
    {
     "name": "stdout",
     "output_type": "stream",
     "text": [
      "Train Loss: 1.4733\n",
      "Val Loss: 1.9234\n",
      "Val NRMSE: 0.0664\n",
      "Val MCAR NRMSE: 0.0550\n",
      "Val MAR NRMSE: 0.0646\n",
      "Val MNAR NRMSE: 0.0796\n",
      "No improvement for 7 epochs\n",
      "\n",
      "Epoch 10/100\n"
     ]
    },
    {
     "name": "stderr",
     "output_type": "stream",
     "text": [
      "Training: 100%|██████████| 9/9 [00:02<00:00,  3.12it/s, loss=4.5]  \n"
     ]
    },
    {
     "name": "stdout",
     "output_type": "stream",
     "text": [
      "Train Loss: 2.0493\n",
      "Val Loss: 1.9076\n",
      "Val NRMSE: 0.0667\n",
      "Val MCAR NRMSE: 0.0625\n",
      "Val MAR NRMSE: 0.0594\n",
      "Val MNAR NRMSE: 0.0781\n",
      "No improvement for 8 epochs\n",
      "\n",
      "Epoch 11/100\n"
     ]
    },
    {
     "name": "stderr",
     "output_type": "stream",
     "text": [
      "Training: 100%|██████████| 9/9 [00:02<00:00,  3.19it/s, loss=0.618]\n"
     ]
    },
    {
     "name": "stdout",
     "output_type": "stream",
     "text": [
      "Train Loss: 1.4922\n",
      "Val Loss: 1.8137\n",
      "Val NRMSE: 0.0643\n",
      "Val MCAR NRMSE: 0.0506\n",
      "Val MAR NRMSE: 0.0566\n",
      "Val MNAR NRMSE: 0.0857\n",
      "No improvement for 9 epochs\n",
      "\n",
      "Epoch 12/100\n"
     ]
    },
    {
     "name": "stderr",
     "output_type": "stream",
     "text": [
      "Training: 100%|██████████| 9/9 [00:02<00:00,  3.30it/s, loss=1.29] \n"
     ]
    },
    {
     "name": "stdout",
     "output_type": "stream",
     "text": [
      "Train Loss: 1.2757\n",
      "Val Loss: 1.9354\n",
      "Val NRMSE: 0.0663\n",
      "Val MCAR NRMSE: 0.0549\n",
      "Val MAR NRMSE: 0.0587\n",
      "Val MNAR NRMSE: 0.0853\n",
      "No improvement for 10 epochs\n",
      "\n",
      "Epoch 13/100\n"
     ]
    },
    {
     "name": "stderr",
     "output_type": "stream",
     "text": [
      "Training: 100%|██████████| 9/9 [00:02<00:00,  3.22it/s, loss=0.965]\n"
     ]
    },
    {
     "name": "stdout",
     "output_type": "stream",
     "text": [
      "Train Loss: 1.3231\n",
      "Val Loss: 1.8798\n",
      "Val NRMSE: 0.0657\n",
      "Val MCAR NRMSE: 0.0597\n",
      "Val MAR NRMSE: 0.0547\n",
      "Val MNAR NRMSE: 0.0826\n",
      "No improvement for 11 epochs\n",
      "\n",
      "Epoch 14/100\n"
     ]
    },
    {
     "name": "stderr",
     "output_type": "stream",
     "text": [
      "Training: 100%|██████████| 9/9 [00:02<00:00,  3.22it/s, loss=0.924]\n"
     ]
    },
    {
     "name": "stdout",
     "output_type": "stream",
     "text": [
      "Train Loss: 1.5901\n",
      "Val Loss: 1.8030\n",
      "Val NRMSE: 0.0648\n",
      "Val MCAR NRMSE: 0.0530\n",
      "Val MAR NRMSE: 0.0588\n",
      "Val MNAR NRMSE: 0.0827\n",
      "No improvement for 12 epochs\n",
      "\n",
      "Epoch 15/100\n"
     ]
    },
    {
     "name": "stderr",
     "output_type": "stream",
     "text": [
      "Training: 100%|██████████| 9/9 [00:02<00:00,  3.27it/s, loss=0.76]\n"
     ]
    },
    {
     "name": "stdout",
     "output_type": "stream",
     "text": [
      "Train Loss: 1.8141\n",
      "Val Loss: 2.1820\n",
      "Val NRMSE: 0.0703\n",
      "Val MCAR NRMSE: 0.0485\n",
      "Val MAR NRMSE: 0.0653\n",
      "Val MNAR NRMSE: 0.0972\n",
      "No improvement for 13 epochs\n",
      "\n",
      "Epoch 16/100\n"
     ]
    },
    {
     "name": "stderr",
     "output_type": "stream",
     "text": [
      "Training: 100%|██████████| 9/9 [00:02<00:00,  3.27it/s, loss=1.19] \n"
     ]
    },
    {
     "name": "stdout",
     "output_type": "stream",
     "text": [
      "Train Loss: 1.6507\n",
      "Val Loss: 1.7093\n",
      "Val NRMSE: 0.0633\n",
      "Val MCAR NRMSE: 0.0577\n",
      "Val MAR NRMSE: 0.0515\n",
      "Val MNAR NRMSE: 0.0805\n",
      "No improvement for 14 epochs\n",
      "\n",
      "Epoch 17/100\n"
     ]
    },
    {
     "name": "stderr",
     "output_type": "stream",
     "text": [
      "Training: 100%|██████████| 9/9 [00:02<00:00,  3.20it/s, loss=2.33] \n"
     ]
    },
    {
     "name": "stdout",
     "output_type": "stream",
     "text": [
      "Train Loss: 2.2543\n",
      "Val Loss: 2.1296\n",
      "Val NRMSE: 0.0704\n",
      "Val MCAR NRMSE: 0.0525\n",
      "Val MAR NRMSE: 0.0642\n",
      "Val MNAR NRMSE: 0.0945\n",
      "No improvement for 15 epochs\n",
      "\n",
      "Epoch 18/100\n"
     ]
    },
    {
     "name": "stderr",
     "output_type": "stream",
     "text": [
      "Training: 100%|██████████| 9/9 [00:02<00:00,  3.30it/s, loss=0.869]\n"
     ]
    },
    {
     "name": "stdout",
     "output_type": "stream",
     "text": [
      "Train Loss: 1.1208\n",
      "Val Loss: 1.8705\n",
      "Val NRMSE: 0.0661\n",
      "Val MCAR NRMSE: 0.0531\n",
      "Val MAR NRMSE: 0.0608\n",
      "Val MNAR NRMSE: 0.0845\n",
      "No improvement for 16 epochs\n",
      "\n",
      "Epoch 19/100\n"
     ]
    },
    {
     "name": "stderr",
     "output_type": "stream",
     "text": [
      "Training: 100%|██████████| 9/9 [00:02<00:00,  3.29it/s, loss=0.734]\n"
     ]
    },
    {
     "name": "stdout",
     "output_type": "stream",
     "text": [
      "Train Loss: 1.4538\n",
      "Val Loss: 2.0564\n",
      "Val NRMSE: 0.0690\n",
      "Val MCAR NRMSE: 0.0502\n",
      "Val MAR NRMSE: 0.0632\n",
      "Val MNAR NRMSE: 0.0937\n",
      "No improvement for 17 epochs\n",
      "\n",
      "Epoch 20/100\n"
     ]
    },
    {
     "name": "stderr",
     "output_type": "stream",
     "text": [
      "Training: 100%|██████████| 9/9 [00:02<00:00,  3.28it/s, loss=0.929]\n"
     ]
    },
    {
     "name": "stdout",
     "output_type": "stream",
     "text": [
      "Train Loss: 1.5967\n",
      "Val Loss: 1.8551\n",
      "Val NRMSE: 0.0648\n",
      "Val MCAR NRMSE: 0.0509\n",
      "Val MAR NRMSE: 0.0596\n",
      "Val MNAR NRMSE: 0.0837\n",
      "No improvement for 18 epochs\n",
      "\n",
      "Epoch 21/100\n"
     ]
    },
    {
     "name": "stderr",
     "output_type": "stream",
     "text": [
      "Training: 100%|██████████| 9/9 [00:02<00:00,  3.15it/s, loss=1.32] \n"
     ]
    },
    {
     "name": "stdout",
     "output_type": "stream",
     "text": [
      "Train Loss: 1.5881\n",
      "Val Loss: 2.1787\n",
      "Val NRMSE: 0.0712\n",
      "Val MCAR NRMSE: 0.0668\n",
      "Val MAR NRMSE: 0.0695\n",
      "Val MNAR NRMSE: 0.0771\n",
      "No improvement for 19 epochs\n",
      "\n",
      "Epoch 22/100\n"
     ]
    },
    {
     "name": "stderr",
     "output_type": "stream",
     "text": [
      "Training: 100%|██████████| 9/9 [00:02<00:00,  3.27it/s, loss=0.843]\n"
     ]
    },
    {
     "name": "stdout",
     "output_type": "stream",
     "text": [
      "Train Loss: 1.2935\n",
      "Val Loss: 1.8574\n",
      "Val NRMSE: 0.0656\n",
      "Val MCAR NRMSE: 0.0575\n",
      "Val MAR NRMSE: 0.0607\n",
      "Val MNAR NRMSE: 0.0785\n",
      "No improvement for 20 epochs\n",
      "\n",
      "Epoch 23/100\n"
     ]
    },
    {
     "name": "stderr",
     "output_type": "stream",
     "text": [
      "Training: 100%|██████████| 9/9 [00:02<00:00,  3.23it/s, loss=4.36] \n"
     ]
    },
    {
     "name": "stdout",
     "output_type": "stream",
     "text": [
      "Train Loss: 1.6469\n",
      "Val Loss: 2.4860\n",
      "Val NRMSE: 0.0752\n",
      "Val MCAR NRMSE: 0.0516\n",
      "Val MAR NRMSE: 0.0692\n",
      "Val MNAR NRMSE: 0.1049\n",
      "No improvement for 21 epochs\n",
      "\n",
      "Epoch 24/100\n"
     ]
    },
    {
     "name": "stderr",
     "output_type": "stream",
     "text": [
      "Training: 100%|██████████| 9/9 [00:02<00:00,  3.23it/s, loss=2.41] \n"
     ]
    },
    {
     "name": "stdout",
     "output_type": "stream",
     "text": [
      "Train Loss: 2.0328\n",
      "Val Loss: 1.8886\n",
      "Val NRMSE: 0.0666\n",
      "Val MCAR NRMSE: 0.0579\n",
      "Val MAR NRMSE: 0.0616\n",
      "Val MNAR NRMSE: 0.0804\n",
      "No improvement for 22 epochs\n",
      "\n",
      "Epoch 25/100\n"
     ]
    },
    {
     "name": "stderr",
     "output_type": "stream",
     "text": [
      "Training: 100%|██████████| 9/9 [00:02<00:00,  3.33it/s, loss=1.15] \n"
     ]
    },
    {
     "name": "stdout",
     "output_type": "stream",
     "text": [
      "Train Loss: 1.2640\n",
      "Val Loss: 1.8697\n",
      "Val NRMSE: 0.0652\n",
      "Val MCAR NRMSE: 0.0553\n",
      "Val MAR NRMSE: 0.0575\n",
      "Val MNAR NRMSE: 0.0828\n",
      "No improvement for 23 epochs\n",
      "\n",
      "Epoch 26/100\n"
     ]
    },
    {
     "name": "stderr",
     "output_type": "stream",
     "text": [
      "Training: 100%|██████████| 9/9 [00:02<00:00,  3.29it/s, loss=0.704]\n"
     ]
    },
    {
     "name": "stdout",
     "output_type": "stream",
     "text": [
      "Train Loss: 1.4573\n",
      "Val Loss: 1.9826\n",
      "Val NRMSE: 0.0684\n",
      "Val MCAR NRMSE: 0.0496\n",
      "Val MAR NRMSE: 0.0605\n",
      "Val MNAR NRMSE: 0.0950\n",
      "No improvement for 24 epochs\n",
      "\n",
      "Epoch 27/100\n"
     ]
    },
    {
     "name": "stderr",
     "output_type": "stream",
     "text": [
      "Training: 100%|██████████| 9/9 [00:02<00:00,  3.29it/s, loss=0.896]\n"
     ]
    },
    {
     "name": "stdout",
     "output_type": "stream",
     "text": [
      "Train Loss: 1.3741\n",
      "Val Loss: 1.9349\n",
      "Val NRMSE: 0.0664\n",
      "Val MCAR NRMSE: 0.0519\n",
      "Val MAR NRMSE: 0.0594\n",
      "Val MNAR NRMSE: 0.0878\n",
      "No improvement for 25 epochs\n",
      "Early stopping after 27 epochs\n",
      "Fold 2 metrics:\n",
      "  NRMSE: 0.0664\n",
      "  MCAR NRMSE: 0.0499\n",
      "  MAR NRMSE: 0.0618\n",
      "  MNAR NRMSE: 0.0875\n",
      "\n",
      "Training fold 3/3\n",
      "Starting model training...\n",
      "Creating ensemble model with 3 base models...\n",
      "\n",
      "Epoch 1/100\n"
     ]
    },
    {
     "name": "stderr",
     "output_type": "stream",
     "text": [
      "Training: 100%|██████████| 9/9 [00:02<00:00,  3.22it/s, loss=1.24] \n"
     ]
    },
    {
     "name": "stdout",
     "output_type": "stream",
     "text": [
      "Train Loss: 1.4441\n",
      "Val Loss: 2.1924\n",
      "Val NRMSE: 0.0510\n",
      "Val MCAR NRMSE: 0.0422\n",
      "Val MAR NRMSE: 0.0453\n",
      "Val MNAR NRMSE: 0.0654\n",
      "New best validation loss: 2.1924\n",
      "\n",
      "Epoch 2/100\n"
     ]
    },
    {
     "name": "stderr",
     "output_type": "stream",
     "text": [
      "Training: 100%|██████████| 9/9 [00:02<00:00,  3.32it/s, loss=2.59]\n"
     ]
    },
    {
     "name": "stdout",
     "output_type": "stream",
     "text": [
      "Train Loss: 2.3865\n",
      "Val Loss: 2.4982\n",
      "Val NRMSE: 0.0547\n",
      "Val MCAR NRMSE: 0.0452\n",
      "Val MAR NRMSE: 0.0490\n",
      "Val MNAR NRMSE: 0.0699\n",
      "No improvement for 1 epochs\n",
      "\n",
      "Epoch 3/100\n"
     ]
    },
    {
     "name": "stderr",
     "output_type": "stream",
     "text": [
      "Training: 100%|██████████| 9/9 [00:02<00:00,  3.36it/s, loss=4.97] \n"
     ]
    },
    {
     "name": "stdout",
     "output_type": "stream",
     "text": [
      "Train Loss: 1.7142\n",
      "Val Loss: 2.2808\n",
      "Val NRMSE: 0.0523\n",
      "Val MCAR NRMSE: 0.0458\n",
      "Val MAR NRMSE: 0.0482\n",
      "Val MNAR NRMSE: 0.0630\n",
      "No improvement for 2 epochs\n",
      "\n",
      "Epoch 4/100\n"
     ]
    },
    {
     "name": "stderr",
     "output_type": "stream",
     "text": [
      "Training: 100%|██████████| 9/9 [00:02<00:00,  3.35it/s, loss=1.42] \n"
     ]
    },
    {
     "name": "stdout",
     "output_type": "stream",
     "text": [
      "Train Loss: 2.6824\n",
      "Val Loss: 1.8701\n",
      "Val NRMSE: 0.0510\n",
      "Val MCAR NRMSE: 0.0494\n",
      "Val MAR NRMSE: 0.0440\n",
      "Val MNAR NRMSE: 0.0597\n",
      "New best validation loss: 1.8701\n",
      "\n",
      "Epoch 5/100\n"
     ]
    },
    {
     "name": "stderr",
     "output_type": "stream",
     "text": [
      "Training: 100%|██████████| 9/9 [00:02<00:00,  3.36it/s, loss=0.643]\n"
     ]
    },
    {
     "name": "stdout",
     "output_type": "stream",
     "text": [
      "Train Loss: 1.5868\n",
      "Val Loss: 2.0984\n",
      "Val NRMSE: 0.0511\n",
      "Val MCAR NRMSE: 0.0480\n",
      "Val MAR NRMSE: 0.0418\n",
      "Val MNAR NRMSE: 0.0634\n",
      "No improvement for 1 epochs\n",
      "\n",
      "Epoch 6/100\n"
     ]
    },
    {
     "name": "stderr",
     "output_type": "stream",
     "text": [
      "Training: 100%|██████████| 9/9 [00:02<00:00,  3.35it/s, loss=6.11]\n"
     ]
    },
    {
     "name": "stdout",
     "output_type": "stream",
     "text": [
      "Train Loss: 1.9398\n",
      "Val Loss: 2.0420\n",
      "Val NRMSE: 0.0523\n",
      "Val MCAR NRMSE: 0.0397\n",
      "Val MAR NRMSE: 0.0451\n",
      "Val MNAR NRMSE: 0.0721\n",
      "No improvement for 2 epochs\n",
      "\n",
      "Epoch 7/100\n"
     ]
    },
    {
     "name": "stderr",
     "output_type": "stream",
     "text": [
      "Training: 100%|██████████| 9/9 [00:02<00:00,  3.36it/s, loss=1.14] \n"
     ]
    },
    {
     "name": "stdout",
     "output_type": "stream",
     "text": [
      "Train Loss: 1.6790\n",
      "Val Loss: 1.7359\n",
      "Val NRMSE: 0.0480\n",
      "Val MCAR NRMSE: 0.0407\n",
      "Val MAR NRMSE: 0.0409\n",
      "Val MNAR NRMSE: 0.0623\n",
      "New best validation loss: 1.7359\n",
      "\n",
      "Epoch 8/100\n"
     ]
    },
    {
     "name": "stderr",
     "output_type": "stream",
     "text": [
      "Training: 100%|██████████| 9/9 [00:02<00:00,  3.33it/s, loss=9.35] \n"
     ]
    },
    {
     "name": "stdout",
     "output_type": "stream",
     "text": [
      "Train Loss: 2.2653\n",
      "Val Loss: 1.9747\n",
      "Val NRMSE: 0.0502\n",
      "Val MCAR NRMSE: 0.0432\n",
      "Val MAR NRMSE: 0.0470\n",
      "Val MNAR NRMSE: 0.0604\n",
      "No improvement for 1 epochs\n",
      "\n",
      "Epoch 9/100\n"
     ]
    },
    {
     "name": "stderr",
     "output_type": "stream",
     "text": [
      "Training: 100%|██████████| 9/9 [00:02<00:00,  3.38it/s, loss=3.27] \n"
     ]
    },
    {
     "name": "stdout",
     "output_type": "stream",
     "text": [
      "Train Loss: 1.6395\n",
      "Val Loss: 2.2571\n",
      "Val NRMSE: 0.0549\n",
      "Val MCAR NRMSE: 0.0417\n",
      "Val MAR NRMSE: 0.0479\n",
      "Val MNAR NRMSE: 0.0752\n",
      "No improvement for 2 epochs\n",
      "\n",
      "Epoch 10/100\n"
     ]
    },
    {
     "name": "stderr",
     "output_type": "stream",
     "text": [
      "Training: 100%|██████████| 9/9 [00:02<00:00,  3.30it/s, loss=1.56]\n"
     ]
    },
    {
     "name": "stdout",
     "output_type": "stream",
     "text": [
      "Train Loss: 2.0574\n",
      "Val Loss: 2.4457\n",
      "Val NRMSE: 0.0590\n",
      "Val MCAR NRMSE: 0.0618\n",
      "Val MAR NRMSE: 0.0536\n",
      "Val MNAR NRMSE: 0.0614\n",
      "No improvement for 3 epochs\n",
      "\n",
      "Epoch 11/100\n"
     ]
    },
    {
     "name": "stderr",
     "output_type": "stream",
     "text": [
      "Training: 100%|██████████| 9/9 [00:02<00:00,  3.35it/s, loss=0.8] \n"
     ]
    },
    {
     "name": "stdout",
     "output_type": "stream",
     "text": [
      "Train Loss: 1.8530\n",
      "Val Loss: 2.2968\n",
      "Val NRMSE: 0.0539\n",
      "Val MCAR NRMSE: 0.0437\n",
      "Val MAR NRMSE: 0.0474\n",
      "Val MNAR NRMSE: 0.0707\n",
      "No improvement for 4 epochs\n",
      "\n",
      "Epoch 12/100\n"
     ]
    },
    {
     "name": "stderr",
     "output_type": "stream",
     "text": [
      "Training: 100%|██████████| 9/9 [00:02<00:00,  3.34it/s, loss=1.2] \n"
     ]
    },
    {
     "name": "stdout",
     "output_type": "stream",
     "text": [
      "Train Loss: 2.8240\n",
      "Val Loss: 2.0748\n",
      "Val NRMSE: 0.0510\n",
      "Val MCAR NRMSE: 0.0497\n",
      "Val MAR NRMSE: 0.0430\n",
      "Val MNAR NRMSE: 0.0603\n",
      "No improvement for 5 epochs\n",
      "\n",
      "Epoch 13/100\n"
     ]
    },
    {
     "name": "stderr",
     "output_type": "stream",
     "text": [
      "Training: 100%|██████████| 9/9 [00:02<00:00,  3.30it/s, loss=2.83] \n"
     ]
    },
    {
     "name": "stdout",
     "output_type": "stream",
     "text": [
      "Train Loss: 1.6679\n",
      "Val Loss: 2.1651\n",
      "Val NRMSE: 0.0521\n",
      "Val MCAR NRMSE: 0.0418\n",
      "Val MAR NRMSE: 0.0507\n",
      "Val MNAR NRMSE: 0.0637\n",
      "No improvement for 6 epochs\n",
      "\n",
      "Epoch 14/100\n"
     ]
    },
    {
     "name": "stderr",
     "output_type": "stream",
     "text": [
      "Training: 100%|██████████| 9/9 [00:02<00:00,  3.34it/s, loss=1.07] \n"
     ]
    },
    {
     "name": "stdout",
     "output_type": "stream",
     "text": [
      "Train Loss: 1.3307\n",
      "Val Loss: 2.0794\n",
      "Val NRMSE: 0.0508\n",
      "Val MCAR NRMSE: 0.0422\n",
      "Val MAR NRMSE: 0.0467\n",
      "Val MNAR NRMSE: 0.0634\n",
      "No improvement for 7 epochs\n",
      "\n",
      "Epoch 15/100\n"
     ]
    },
    {
     "name": "stderr",
     "output_type": "stream",
     "text": [
      "Training: 100%|██████████| 9/9 [00:02<00:00,  3.33it/s, loss=0.872]\n"
     ]
    },
    {
     "name": "stdout",
     "output_type": "stream",
     "text": [
      "Train Loss: 2.7721\n",
      "Val Loss: 1.7094\n",
      "Val NRMSE: 0.0475\n",
      "Val MCAR NRMSE: 0.0403\n",
      "Val MAR NRMSE: 0.0410\n",
      "Val MNAR NRMSE: 0.0613\n",
      "New best validation loss: 1.7094\n",
      "\n",
      "Epoch 16/100\n"
     ]
    },
    {
     "name": "stderr",
     "output_type": "stream",
     "text": [
      "Training: 100%|██████████| 9/9 [00:02<00:00,  3.30it/s, loss=1.52] \n"
     ]
    },
    {
     "name": "stdout",
     "output_type": "stream",
     "text": [
      "Train Loss: 1.7611\n",
      "Val Loss: 2.1645\n",
      "Val NRMSE: 0.0543\n",
      "Val MCAR NRMSE: 0.0519\n",
      "Val MAR NRMSE: 0.0513\n",
      "Val MNAR NRMSE: 0.0597\n",
      "No improvement for 1 epochs\n",
      "\n",
      "Epoch 17/100\n"
     ]
    },
    {
     "name": "stderr",
     "output_type": "stream",
     "text": [
      "Training: 100%|██████████| 9/9 [00:02<00:00,  3.37it/s, loss=8.8]  \n"
     ]
    },
    {
     "name": "stdout",
     "output_type": "stream",
     "text": [
      "Train Loss: 2.1332\n",
      "Val Loss: 2.4073\n",
      "Val NRMSE: 0.0558\n",
      "Val MCAR NRMSE: 0.0411\n",
      "Val MAR NRMSE: 0.0529\n",
      "Val MNAR NRMSE: 0.0734\n",
      "No improvement for 2 epochs\n",
      "\n",
      "Epoch 18/100\n"
     ]
    },
    {
     "name": "stderr",
     "output_type": "stream",
     "text": [
      "Training: 100%|██████████| 9/9 [00:02<00:00,  3.37it/s, loss=4.77] \n"
     ]
    },
    {
     "name": "stdout",
     "output_type": "stream",
     "text": [
      "Train Loss: 1.4620\n",
      "Val Loss: 2.1351\n",
      "Val NRMSE: 0.0519\n",
      "Val MCAR NRMSE: 0.0440\n",
      "Val MAR NRMSE: 0.0456\n",
      "Val MNAR NRMSE: 0.0660\n",
      "No improvement for 3 epochs\n",
      "\n",
      "Epoch 19/100\n"
     ]
    },
    {
     "name": "stderr",
     "output_type": "stream",
     "text": [
      "Training: 100%|██████████| 9/9 [00:02<00:00,  3.32it/s, loss=1.16] \n"
     ]
    },
    {
     "name": "stdout",
     "output_type": "stream",
     "text": [
      "Train Loss: 1.9578\n",
      "Val Loss: 2.6517\n",
      "Val NRMSE: 0.0617\n",
      "Val MCAR NRMSE: 0.0634\n",
      "Val MAR NRMSE: 0.0581\n",
      "Val MNAR NRMSE: 0.0634\n",
      "No improvement for 4 epochs\n",
      "\n",
      "Epoch 20/100\n"
     ]
    },
    {
     "name": "stderr",
     "output_type": "stream",
     "text": [
      "Training: 100%|██████████| 9/9 [00:02<00:00,  3.34it/s, loss=0.817]\n"
     ]
    },
    {
     "name": "stdout",
     "output_type": "stream",
     "text": [
      "Train Loss: 1.6488\n",
      "Val Loss: 2.0907\n",
      "Val NRMSE: 0.0515\n",
      "Val MCAR NRMSE: 0.0409\n",
      "Val MAR NRMSE: 0.0476\n",
      "Val MNAR NRMSE: 0.0661\n",
      "No improvement for 5 epochs\n",
      "\n",
      "Epoch 21/100\n"
     ]
    },
    {
     "name": "stderr",
     "output_type": "stream",
     "text": [
      "Training: 100%|██████████| 9/9 [00:02<00:00,  3.32it/s, loss=1.49] \n"
     ]
    },
    {
     "name": "stdout",
     "output_type": "stream",
     "text": [
      "Train Loss: 1.6063\n",
      "Val Loss: 1.7188\n",
      "Val NRMSE: 0.0481\n",
      "Val MCAR NRMSE: 0.0394\n",
      "Val MAR NRMSE: 0.0418\n",
      "Val MNAR NRMSE: 0.0630\n",
      "No improvement for 6 epochs\n",
      "\n",
      "Epoch 22/100\n"
     ]
    },
    {
     "name": "stderr",
     "output_type": "stream",
     "text": [
      "Training: 100%|██████████| 9/9 [00:02<00:00,  3.33it/s, loss=0.866]\n"
     ]
    },
    {
     "name": "stdout",
     "output_type": "stream",
     "text": [
      "Train Loss: 1.2367\n",
      "Val Loss: 1.8491\n",
      "Val NRMSE: 0.0494\n",
      "Val MCAR NRMSE: 0.0400\n",
      "Val MAR NRMSE: 0.0427\n",
      "Val MNAR NRMSE: 0.0654\n",
      "No improvement for 7 epochs\n",
      "\n",
      "Epoch 23/100\n"
     ]
    },
    {
     "name": "stderr",
     "output_type": "stream",
     "text": [
      "Training: 100%|██████████| 9/9 [00:02<00:00,  3.33it/s, loss=1.11]\n"
     ]
    },
    {
     "name": "stdout",
     "output_type": "stream",
     "text": [
      "Train Loss: 1.6532\n",
      "Val Loss: 1.7309\n",
      "Val NRMSE: 0.0478\n",
      "Val MCAR NRMSE: 0.0430\n",
      "Val MAR NRMSE: 0.0394\n",
      "Val MNAR NRMSE: 0.0609\n",
      "No improvement for 8 epochs\n",
      "\n",
      "Epoch 24/100\n"
     ]
    },
    {
     "name": "stderr",
     "output_type": "stream",
     "text": [
      "Training: 100%|██████████| 9/9 [00:02<00:00,  3.33it/s, loss=1.71]\n"
     ]
    },
    {
     "name": "stdout",
     "output_type": "stream",
     "text": [
      "Train Loss: 1.5377\n",
      "Val Loss: 2.2464\n",
      "Val NRMSE: 0.0517\n",
      "Val MCAR NRMSE: 0.0463\n",
      "Val MAR NRMSE: 0.0470\n",
      "Val MNAR NRMSE: 0.0618\n",
      "No improvement for 9 epochs\n",
      "\n",
      "Epoch 25/100\n"
     ]
    },
    {
     "name": "stderr",
     "output_type": "stream",
     "text": [
      "Training: 100%|██████████| 9/9 [00:02<00:00,  3.31it/s, loss=4.43] \n"
     ]
    },
    {
     "name": "stdout",
     "output_type": "stream",
     "text": [
      "Train Loss: 1.8074\n",
      "Val Loss: 1.8836\n",
      "Val NRMSE: 0.0515\n",
      "Val MCAR NRMSE: 0.0498\n",
      "Val MAR NRMSE: 0.0453\n",
      "Val MNAR NRMSE: 0.0592\n",
      "No improvement for 10 epochs\n",
      "\n",
      "Epoch 26/100\n"
     ]
    },
    {
     "name": "stderr",
     "output_type": "stream",
     "text": [
      "Training: 100%|██████████| 9/9 [00:02<00:00,  3.35it/s, loss=1.39]\n"
     ]
    },
    {
     "name": "stdout",
     "output_type": "stream",
     "text": [
      "Train Loss: 1.4509\n",
      "Val Loss: 1.8047\n",
      "Val NRMSE: 0.0494\n",
      "Val MCAR NRMSE: 0.0411\n",
      "Val MAR NRMSE: 0.0443\n",
      "Val MNAR NRMSE: 0.0628\n",
      "No improvement for 11 epochs\n",
      "\n",
      "Epoch 27/100\n"
     ]
    },
    {
     "name": "stderr",
     "output_type": "stream",
     "text": [
      "Training: 100%|██████████| 9/9 [00:02<00:00,  3.38it/s, loss=1.74] \n"
     ]
    },
    {
     "name": "stdout",
     "output_type": "stream",
     "text": [
      "Train Loss: 1.1416\n",
      "Val Loss: 2.0224\n",
      "Val NRMSE: 0.0507\n",
      "Val MCAR NRMSE: 0.0392\n",
      "Val MAR NRMSE: 0.0491\n",
      "Val MNAR NRMSE: 0.0638\n",
      "No improvement for 12 epochs\n",
      "\n",
      "Epoch 28/100\n"
     ]
    },
    {
     "name": "stderr",
     "output_type": "stream",
     "text": [
      "Training: 100%|██████████| 9/9 [00:02<00:00,  3.31it/s, loss=1.42] \n"
     ]
    },
    {
     "name": "stdout",
     "output_type": "stream",
     "text": [
      "Train Loss: 1.4578\n",
      "Val Loss: 1.7476\n",
      "Val NRMSE: 0.0498\n",
      "Val MCAR NRMSE: 0.0470\n",
      "Val MAR NRMSE: 0.0431\n",
      "Val MNAR NRMSE: 0.0594\n",
      "No improvement for 13 epochs\n",
      "\n",
      "Epoch 29/100\n"
     ]
    },
    {
     "name": "stderr",
     "output_type": "stream",
     "text": [
      "Training: 100%|██████████| 9/9 [00:02<00:00,  3.34it/s, loss=0.9] \n"
     ]
    },
    {
     "name": "stdout",
     "output_type": "stream",
     "text": [
      "Train Loss: 1.9075\n",
      "Val Loss: 1.9799\n",
      "Val NRMSE: 0.0505\n",
      "Val MCAR NRMSE: 0.0440\n",
      "Val MAR NRMSE: 0.0469\n",
      "Val MNAR NRMSE: 0.0607\n",
      "No improvement for 14 epochs\n",
      "\n",
      "Epoch 30/100\n"
     ]
    },
    {
     "name": "stderr",
     "output_type": "stream",
     "text": [
      "Training: 100%|██████████| 9/9 [00:02<00:00,  3.35it/s, loss=1.49] \n"
     ]
    },
    {
     "name": "stdout",
     "output_type": "stream",
     "text": [
      "Train Loss: 1.3597\n",
      "Val Loss: 1.9642\n",
      "Val NRMSE: 0.0499\n",
      "Val MCAR NRMSE: 0.0390\n",
      "Val MAR NRMSE: 0.0485\n",
      "Val MNAR NRMSE: 0.0621\n",
      "No improvement for 15 epochs\n",
      "\n",
      "Epoch 31/100\n"
     ]
    },
    {
     "name": "stderr",
     "output_type": "stream",
     "text": [
      "Training: 100%|██████████| 9/9 [00:02<00:00,  3.38it/s, loss=1.31] \n"
     ]
    },
    {
     "name": "stdout",
     "output_type": "stream",
     "text": [
      "Train Loss: 1.6106\n",
      "Val Loss: 2.0215\n",
      "Val NRMSE: 0.0499\n",
      "Val MCAR NRMSE: 0.0387\n",
      "Val MAR NRMSE: 0.0465\n",
      "Val MNAR NRMSE: 0.0645\n",
      "No improvement for 16 epochs\n",
      "\n",
      "Epoch 32/100\n"
     ]
    },
    {
     "name": "stderr",
     "output_type": "stream",
     "text": [
      "Training: 100%|██████████| 9/9 [00:02<00:00,  3.34it/s, loss=0.988]\n"
     ]
    },
    {
     "name": "stdout",
     "output_type": "stream",
     "text": [
      "Train Loss: 1.4386\n",
      "Val Loss: 2.3464\n",
      "Val NRMSE: 0.0520\n",
      "Val MCAR NRMSE: 0.0456\n",
      "Val MAR NRMSE: 0.0460\n",
      "Val MNAR NRMSE: 0.0646\n",
      "No improvement for 17 epochs\n",
      "\n",
      "Epoch 33/100\n"
     ]
    },
    {
     "name": "stderr",
     "output_type": "stream",
     "text": [
      "Training: 100%|██████████| 9/9 [00:02<00:00,  3.24it/s, loss=1.44]\n"
     ]
    },
    {
     "name": "stdout",
     "output_type": "stream",
     "text": [
      "Train Loss: 2.0984\n",
      "Val Loss: 2.1476\n",
      "Val NRMSE: 0.0537\n",
      "Val MCAR NRMSE: 0.0507\n",
      "Val MAR NRMSE: 0.0508\n",
      "Val MNAR NRMSE: 0.0596\n",
      "No improvement for 18 epochs\n",
      "\n",
      "Epoch 34/100\n"
     ]
    },
    {
     "name": "stderr",
     "output_type": "stream",
     "text": [
      "Training: 100%|██████████| 9/9 [00:02<00:00,  3.35it/s, loss=0.751]\n"
     ]
    },
    {
     "name": "stdout",
     "output_type": "stream",
     "text": [
      "Train Loss: 2.2740\n",
      "Val Loss: 2.2328\n",
      "Val NRMSE: 0.0525\n",
      "Val MCAR NRMSE: 0.0455\n",
      "Val MAR NRMSE: 0.0455\n",
      "Val MNAR NRMSE: 0.0666\n",
      "No improvement for 19 epochs\n",
      "\n",
      "Epoch 35/100\n"
     ]
    },
    {
     "name": "stderr",
     "output_type": "stream",
     "text": [
      "Training: 100%|██████████| 9/9 [00:02<00:00,  3.26it/s, loss=1.51] \n"
     ]
    },
    {
     "name": "stdout",
     "output_type": "stream",
     "text": [
      "Train Loss: 1.7785\n",
      "Val Loss: 2.2989\n",
      "Val NRMSE: 0.0535\n",
      "Val MCAR NRMSE: 0.0533\n",
      "Val MAR NRMSE: 0.0480\n",
      "Val MNAR NRMSE: 0.0594\n",
      "No improvement for 20 epochs\n",
      "\n",
      "Epoch 36/100\n"
     ]
    },
    {
     "name": "stderr",
     "output_type": "stream",
     "text": [
      "Training: 100%|██████████| 9/9 [00:02<00:00,  3.32it/s, loss=2.37] \n"
     ]
    },
    {
     "name": "stdout",
     "output_type": "stream",
     "text": [
      "Train Loss: 1.5270\n",
      "Val Loss: 2.3698\n",
      "Val NRMSE: 0.0539\n",
      "Val MCAR NRMSE: 0.0460\n",
      "Val MAR NRMSE: 0.0492\n",
      "Val MNAR NRMSE: 0.0667\n",
      "No improvement for 21 epochs\n",
      "\n",
      "Epoch 37/100\n"
     ]
    },
    {
     "name": "stderr",
     "output_type": "stream",
     "text": [
      "Training: 100%|██████████| 9/9 [00:02<00:00,  3.33it/s, loss=2.16] \n"
     ]
    },
    {
     "name": "stdout",
     "output_type": "stream",
     "text": [
      "Train Loss: 1.7981\n",
      "Val Loss: 2.1135\n",
      "Val NRMSE: 0.0514\n",
      "Val MCAR NRMSE: 0.0457\n",
      "Val MAR NRMSE: 0.0476\n",
      "Val MNAR NRMSE: 0.0607\n",
      "No improvement for 22 epochs\n",
      "\n",
      "Epoch 38/100\n"
     ]
    },
    {
     "name": "stderr",
     "output_type": "stream",
     "text": [
      "Training: 100%|██████████| 9/9 [00:02<00:00,  3.33it/s, loss=0.479]\n"
     ]
    },
    {
     "name": "stdout",
     "output_type": "stream",
     "text": [
      "Train Loss: 1.5318\n",
      "Val Loss: 1.9456\n",
      "Val NRMSE: 0.0488\n",
      "Val MCAR NRMSE: 0.0394\n",
      "Val MAR NRMSE: 0.0441\n",
      "Val MNAR NRMSE: 0.0629\n",
      "No improvement for 23 epochs\n",
      "\n",
      "Epoch 39/100\n"
     ]
    },
    {
     "name": "stderr",
     "output_type": "stream",
     "text": [
      "Training: 100%|██████████| 9/9 [00:02<00:00,  3.37it/s, loss=1.57] \n"
     ]
    },
    {
     "name": "stdout",
     "output_type": "stream",
     "text": [
      "Train Loss: 1.5837\n",
      "Val Loss: 1.9782\n",
      "Val NRMSE: 0.0498\n",
      "Val MCAR NRMSE: 0.0384\n",
      "Val MAR NRMSE: 0.0470\n",
      "Val MNAR NRMSE: 0.0640\n",
      "No improvement for 24 epochs\n",
      "\n",
      "Epoch 40/100\n"
     ]
    },
    {
     "name": "stderr",
     "output_type": "stream",
     "text": [
      "Training: 100%|██████████| 9/9 [00:02<00:00,  3.34it/s, loss=2.82] \n"
     ]
    },
    {
     "name": "stdout",
     "output_type": "stream",
     "text": [
      "Train Loss: 1.4828\n",
      "Val Loss: 1.8717\n",
      "Val NRMSE: 0.0482\n",
      "Val MCAR NRMSE: 0.0390\n",
      "Val MAR NRMSE: 0.0427\n",
      "Val MNAR NRMSE: 0.0629\n",
      "No improvement for 25 epochs\n",
      "Early stopping after 40 epochs\n",
      "Fold 3 metrics:\n",
      "  NRMSE: 0.0528\n",
      "  MCAR NRMSE: 0.0466\n",
      "  MAR NRMSE: 0.0488\n",
      "  MNAR NRMSE: 0.0629\n",
      "\n",
      "Average metrics across folds:\n",
      "  NRMSE: 0.0595 ± 0.0056\n",
      "  MCAR NRMSE: 0.0511 ± 0.0042\n",
      "  MAR NRMSE: 0.0546 ± 0.0054\n",
      "  MNAR NRMSE: 0.0730 ± 0.0105\n",
      "\n",
      "Using single model for final training.\n",
      "\n",
      "=== Training Final Model ===\n",
      "Starting model training...\n",
      "Creating single transformer model...\n",
      "\n",
      "Epoch 1/20\n"
     ]
    },
    {
     "name": "stderr",
     "output_type": "stream",
     "text": [
      "Training: 100%|██████████| 11/11 [00:01<00:00,  8.90it/s, loss=0.882]\n"
     ]
    },
    {
     "name": "stdout",
     "output_type": "stream",
     "text": [
      "Train Loss: 1.6128\n",
      "Val Loss: 2.1154\n",
      "Val NRMSE: 0.0470\n",
      "Val MCAR NRMSE: 0.0402\n",
      "Val MAR NRMSE: 0.0426\n",
      "Val MNAR NRMSE: 0.0581\n",
      "New best validation loss: 2.1154\n",
      "\n",
      "Epoch 2/20\n"
     ]
    },
    {
     "name": "stderr",
     "output_type": "stream",
     "text": [
      "Training: 100%|██████████| 11/11 [00:01<00:00,  8.54it/s, loss=1.2] \n"
     ]
    },
    {
     "name": "stdout",
     "output_type": "stream",
     "text": [
      "Train Loss: 1.8091\n",
      "Val Loss: 1.9921\n",
      "Val NRMSE: 0.0466\n",
      "Val MCAR NRMSE: 0.0396\n",
      "Val MAR NRMSE: 0.0435\n",
      "Val MNAR NRMSE: 0.0566\n",
      "New best validation loss: 1.9921\n",
      "\n",
      "Epoch 3/20\n"
     ]
    },
    {
     "name": "stderr",
     "output_type": "stream",
     "text": [
      "Training: 100%|██████████| 11/11 [00:01<00:00,  8.63it/s, loss=1.27]\n"
     ]
    },
    {
     "name": "stdout",
     "output_type": "stream",
     "text": [
      "Train Loss: 1.5931\n",
      "Val Loss: 2.4867\n",
      "Val NRMSE: 0.0530\n",
      "Val MCAR NRMSE: 0.0520\n",
      "Val MAR NRMSE: 0.0498\n",
      "Val MNAR NRMSE: 0.0574\n",
      "No improvement for 1 epochs\n",
      "\n",
      "Epoch 4/20\n"
     ]
    },
    {
     "name": "stderr",
     "output_type": "stream",
     "text": [
      "Training: 100%|██████████| 11/11 [00:01<00:00,  8.27it/s, loss=1.35]\n"
     ]
    },
    {
     "name": "stdout",
     "output_type": "stream",
     "text": [
      "Train Loss: 2.0148\n",
      "Val Loss: 1.9473\n",
      "Val NRMSE: 0.0462\n",
      "Val MCAR NRMSE: 0.0395\n",
      "Val MAR NRMSE: 0.0420\n",
      "Val MNAR NRMSE: 0.0571\n",
      "New best validation loss: 1.9473\n",
      "\n",
      "Epoch 5/20\n"
     ]
    },
    {
     "name": "stderr",
     "output_type": "stream",
     "text": [
      "Training: 100%|██████████| 11/11 [00:01<00:00,  8.35it/s, loss=3.38]\n"
     ]
    },
    {
     "name": "stdout",
     "output_type": "stream",
     "text": [
      "Train Loss: 1.8274\n",
      "Val Loss: 1.7248\n",
      "Val NRMSE: 0.0438\n",
      "Val MCAR NRMSE: 0.0422\n",
      "Val MAR NRMSE: 0.0337\n",
      "Val MNAR NRMSE: 0.0555\n",
      "New best validation loss: 1.7248\n",
      "\n",
      "Epoch 6/20\n"
     ]
    },
    {
     "name": "stderr",
     "output_type": "stream",
     "text": [
      "Training: 100%|██████████| 11/11 [00:01<00:00,  8.30it/s, loss=1.63]\n"
     ]
    },
    {
     "name": "stdout",
     "output_type": "stream",
     "text": [
      "Train Loss: 1.8679\n",
      "Val Loss: 2.1727\n",
      "Val NRMSE: 0.0499\n",
      "Val MCAR NRMSE: 0.0520\n",
      "Val MAR NRMSE: 0.0418\n",
      "Val MNAR NRMSE: 0.0560\n",
      "No improvement for 1 epochs\n",
      "\n",
      "Epoch 7/20\n"
     ]
    },
    {
     "name": "stderr",
     "output_type": "stream",
     "text": [
      "Training: 100%|██████████| 11/11 [00:01<00:00,  8.60it/s, loss=1.87] \n"
     ]
    },
    {
     "name": "stdout",
     "output_type": "stream",
     "text": [
      "Train Loss: 1.4046\n",
      "Val Loss: 1.6767\n",
      "Val NRMSE: 0.0430\n",
      "Val MCAR NRMSE: 0.0347\n",
      "Val MAR NRMSE: 0.0361\n",
      "Val MNAR NRMSE: 0.0582\n",
      "New best validation loss: 1.6767\n",
      "\n",
      "Epoch 8/20\n"
     ]
    },
    {
     "name": "stderr",
     "output_type": "stream",
     "text": [
      "Training: 100%|██████████| 11/11 [00:01<00:00,  8.81it/s, loss=2.77]\n"
     ]
    },
    {
     "name": "stdout",
     "output_type": "stream",
     "text": [
      "Train Loss: 1.3263\n",
      "Val Loss: 1.6283\n",
      "Val NRMSE: 0.0419\n",
      "Val MCAR NRMSE: 0.0346\n",
      "Val MAR NRMSE: 0.0339\n",
      "Val MNAR NRMSE: 0.0571\n",
      "New best validation loss: 1.6283\n",
      "\n",
      "Epoch 9/20\n"
     ]
    },
    {
     "name": "stderr",
     "output_type": "stream",
     "text": [
      "Training: 100%|██████████| 11/11 [00:01<00:00,  8.95it/s, loss=1.63]\n"
     ]
    },
    {
     "name": "stdout",
     "output_type": "stream",
     "text": [
      "Train Loss: 1.4230\n",
      "Val Loss: 2.2313\n",
      "Val NRMSE: 0.0494\n",
      "Val MCAR NRMSE: 0.0468\n",
      "Val MAR NRMSE: 0.0455\n",
      "Val MNAR NRMSE: 0.0559\n",
      "No improvement for 1 epochs\n",
      "\n",
      "Epoch 10/20\n"
     ]
    },
    {
     "name": "stderr",
     "output_type": "stream",
     "text": [
      "Training: 100%|██████████| 11/11 [00:01<00:00,  8.61it/s, loss=1.18]\n"
     ]
    },
    {
     "name": "stdout",
     "output_type": "stream",
     "text": [
      "Train Loss: 1.7495\n",
      "Val Loss: 1.7393\n",
      "Val NRMSE: 0.0440\n",
      "Val MCAR NRMSE: 0.0376\n",
      "Val MAR NRMSE: 0.0364\n",
      "Val MNAR NRMSE: 0.0579\n",
      "No improvement for 2 epochs\n",
      "\n",
      "Epoch 11/20\n"
     ]
    },
    {
     "name": "stderr",
     "output_type": "stream",
     "text": [
      "Training: 100%|██████████| 11/11 [00:01<00:00,  8.89it/s, loss=1.32]\n"
     ]
    },
    {
     "name": "stdout",
     "output_type": "stream",
     "text": [
      "Train Loss: 1.2901\n",
      "Val Loss: 2.2701\n",
      "Val NRMSE: 0.0493\n",
      "Val MCAR NRMSE: 0.0436\n",
      "Val MAR NRMSE: 0.0436\n",
      "Val MNAR NRMSE: 0.0607\n",
      "No improvement for 3 epochs\n",
      "\n",
      "Epoch 12/20\n"
     ]
    },
    {
     "name": "stderr",
     "output_type": "stream",
     "text": [
      "Training: 100%|██████████| 11/11 [00:01<00:00,  8.28it/s, loss=1.72]\n"
     ]
    },
    {
     "name": "stdout",
     "output_type": "stream",
     "text": [
      "Train Loss: 1.8551\n",
      "Val Loss: 2.1471\n",
      "Val NRMSE: 0.0481\n",
      "Val MCAR NRMSE: 0.0453\n",
      "Val MAR NRMSE: 0.0431\n",
      "Val MNAR NRMSE: 0.0559\n",
      "No improvement for 4 epochs\n",
      "\n",
      "Epoch 13/20\n"
     ]
    },
    {
     "name": "stderr",
     "output_type": "stream",
     "text": [
      "Training: 100%|██████████| 11/11 [00:01<00:00,  8.79it/s, loss=1.27]\n"
     ]
    },
    {
     "name": "stdout",
     "output_type": "stream",
     "text": [
      "Train Loss: 1.6147\n",
      "Val Loss: 1.8752\n",
      "Val NRMSE: 0.0448\n",
      "Val MCAR NRMSE: 0.0359\n",
      "Val MAR NRMSE: 0.0405\n",
      "Val MNAR NRMSE: 0.0580\n",
      "No improvement for 5 epochs\n",
      "\n",
      "Epoch 14/20\n"
     ]
    },
    {
     "name": "stderr",
     "output_type": "stream",
     "text": [
      "Training: 100%|██████████| 11/11 [00:01<00:00,  8.52it/s, loss=0.895]\n"
     ]
    },
    {
     "name": "stdout",
     "output_type": "stream",
     "text": [
      "Train Loss: 1.7671\n",
      "Val Loss: 1.6405\n",
      "Val NRMSE: 0.0425\n",
      "Val MCAR NRMSE: 0.0364\n",
      "Val MAR NRMSE: 0.0339\n",
      "Val MNAR NRMSE: 0.0572\n",
      "No improvement for 6 epochs\n",
      "\n",
      "Epoch 15/20\n"
     ]
    },
    {
     "name": "stderr",
     "output_type": "stream",
     "text": [
      "Training: 100%|██████████| 11/11 [00:01<00:00,  8.39it/s, loss=2.41]\n"
     ]
    },
    {
     "name": "stdout",
     "output_type": "stream",
     "text": [
      "Train Loss: 1.5730\n",
      "Val Loss: 1.8778\n",
      "Val NRMSE: 0.0443\n",
      "Val MCAR NRMSE: 0.0412\n",
      "Val MAR NRMSE: 0.0339\n",
      "Val MNAR NRMSE: 0.0576\n",
      "No improvement for 7 epochs\n",
      "\n",
      "Epoch 16/20\n"
     ]
    },
    {
     "name": "stderr",
     "output_type": "stream",
     "text": [
      "Training: 100%|██████████| 11/11 [00:01<00:00,  8.72it/s, loss=4.03]\n"
     ]
    },
    {
     "name": "stdout",
     "output_type": "stream",
     "text": [
      "Train Loss: 1.5615\n",
      "Val Loss: 1.7335\n",
      "Val NRMSE: 0.0440\n",
      "Val MCAR NRMSE: 0.0376\n",
      "Val MAR NRMSE: 0.0357\n",
      "Val MNAR NRMSE: 0.0587\n",
      "No improvement for 8 epochs\n",
      "\n",
      "Epoch 17/20\n"
     ]
    },
    {
     "name": "stderr",
     "output_type": "stream",
     "text": [
      "Training: 100%|██████████| 11/11 [00:01<00:00,  8.39it/s, loss=1.01] \n"
     ]
    },
    {
     "name": "stdout",
     "output_type": "stream",
     "text": [
      "Train Loss: 1.4003\n",
      "Val Loss: 1.9266\n",
      "Val NRMSE: 0.0456\n",
      "Val MCAR NRMSE: 0.0375\n",
      "Val MAR NRMSE: 0.0412\n",
      "Val MNAR NRMSE: 0.0580\n",
      "No improvement for 9 epochs\n",
      "\n",
      "Epoch 18/20\n"
     ]
    },
    {
     "name": "stderr",
     "output_type": "stream",
     "text": [
      "Training: 100%|██████████| 11/11 [00:01<00:00,  8.42it/s, loss=1.29] \n"
     ]
    },
    {
     "name": "stdout",
     "output_type": "stream",
     "text": [
      "Train Loss: 1.2275\n",
      "Val Loss: 1.7087\n",
      "Val NRMSE: 0.0431\n",
      "Val MCAR NRMSE: 0.0367\n",
      "Val MAR NRMSE: 0.0336\n",
      "Val MNAR NRMSE: 0.0588\n",
      "No improvement for 10 epochs\n",
      "\n",
      "Epoch 19/20\n"
     ]
    },
    {
     "name": "stderr",
     "output_type": "stream",
     "text": [
      "Training: 100%|██████████| 11/11 [00:01<00:00,  8.46it/s, loss=2.6] \n"
     ]
    },
    {
     "name": "stdout",
     "output_type": "stream",
     "text": [
      "Train Loss: 1.8955\n",
      "Val Loss: 1.9568\n",
      "Val NRMSE: 0.0458\n",
      "Val MCAR NRMSE: 0.0333\n",
      "Val MAR NRMSE: 0.0451\n",
      "Val MNAR NRMSE: 0.0590\n",
      "No improvement for 11 epochs\n",
      "\n",
      "Epoch 20/20\n"
     ]
    },
    {
     "name": "stderr",
     "output_type": "stream",
     "text": [
      "Training: 100%|██████████| 11/11 [00:01<00:00,  8.69it/s, loss=1.08]\n"
     ]
    },
    {
     "name": "stdout",
     "output_type": "stream",
     "text": [
      "Train Loss: 1.2133\n",
      "Val Loss: 1.6687\n",
      "Val NRMSE: 0.0424\n",
      "Val MCAR NRMSE: 0.0369\n",
      "Val MAR NRMSE: 0.0323\n",
      "Val MNAR NRMSE: 0.0579\n",
      "No improvement for 12 epochs\n"
     ]
    },
    {
     "data": {
      "image/png": "[encoded data removed]",
      "text/plain": [
       "<Figure size 2000x1200 with 3 Axes>"
      ]
     },
     "metadata": {},
     "output_type": "display_data"
    },
    {
     "name": "stdout",
     "output_type": "stream",
     "text": [
      "\n",
      "=== Evaluating on Test Set ===\n",
      "Test metrics:\n",
      "  Overall NRMSE: 0.0581\n",
      "  MCAR NRMSE: 0.0496\n",
      "  MAR NRMSE: 0.0572\n",
      "  MNAR NRMSE: 0.0675\n",
      "\n",
      "=== Saving Models ===\n",
      "Training complete! All models and results saved in: models\\2025-04-15_21-33-10_model-ensemble+5Fold\n"
     ]
    }
   ],
   "source": [
    "# Main execution code\n",
    "if __name__ == \"__main__\":\n",
    "    # Configuration\n",
    "    config = {\n",
    "        # Data parameters\n",
    "        \"data_path\": \"./data/physionet_39_features_only_no_leakage.csv\",\n",
    "        \"test_size\": 0.2,\n",
    "        \"val_size\": 0.1,\n",
    "        \n",
    "        # Model parameters\n",
    "        \"d_model\": 384,              \n",
    "        \"num_heads\": 12,             \n",
    "        \"num_layers\": 6,            \n",
    "        \"dim_feedforward\": 1536,    \n",
    "        \"dropout\": 0.15,             \n",
    "        \"activation\": \"gelu\",\n",
    "        \n",
    "        # Training parameters\n",
    "        \"batch_size\": 128,          \n",
    "        \"learning_rate\": 0.0001,     \n",
    "        \"weight_decay\": 0.005,       \n",
    "        \"num_epochs\": 20,           \n",
    "        \"patience\": 25,              \n",
    "        \"missing_fraction\": 0.3,\n",
    "        \n",
    "        \"warmup_steps_pct\": 0.2,     # Shorter warmup phase\n",
    "        \"min_lr_factor\": 5000.0,     # Slower final decay\n",
    "        \n",
    "        # Save parameters\n",
    "        \"save_dir\": \"models\"\n",
    "    }\n",
    "    \n",
    "    # Create directories with timestamp\n",
    "    current_time = datetime.now().strftime(\"%Y-%m-%d_%H-%M-%S\")\n",
    "    save_dir = os.path.join(config[\"save_dir\"], f\"{current_time}_model-ensemble+5Fold\")\n",
    "    os.makedirs(save_dir, exist_ok=True)\n",
    "    \n",
    "    # Create experiment log file\n",
    "    experiment_log = os.path.join(save_dir, \"experiment_log.txt\")\n",
    "    with open(experiment_log, \"w\") as f:\n",
    "        f.write(f\"Experiment started at: {current_time}\\n\")\n",
    "        f.write(\"Configuration:\\n\")\n",
    "        for key, value in config.items():\n",
    "            f.write(f\"  {key}: {value}\\n\")\n",
    "    \n",
    "    # Load and prepare data\n",
    "    train_data, val_data, test_data, scaler, column_indices = load_and_prepare_data(\n",
    "        config[\"data_path\"],\n",
    "        config[\"test_size\"],\n",
    "        config[\"val_size\"]\n",
    "    )\n",
    "    \n",
    "    # Add flag to control whether to run k-fold validation\n",
    "    RUN_KFOLD = True\n",
    "    \n",
    "    if RUN_KFOLD:\n",
    "        print(\"\\n=== Running K-Fold Cross-Validation ===\")\n",
    "        # Combine train and validation data for k-fold\n",
    "        combined_data = torch.cat([train_data, val_data], dim=0)\n",
    "        \n",
    "        # Set a smaller number of epochs for k-fold to save time\n",
    "        kfold_config = config.copy()\n",
    "        kfold_config[\"num_epochs\"] = 100  # Reduced epochs for k-fold\n",
    "        \n",
    "        # Run k-fold validation with single model\n",
    "        print(\"\\n---- K-Fold with Single Model ----\")\n",
    "        cv_metrics_single, _ = cross_validate_model(\n",
    "            combined_data, \n",
    "            column_indices, \n",
    "            kfold_config, \n",
    "            n_folds=5,\n",
    "            model_type=\"single\"\n",
    "        )\n",
    "        \n",
    "        # Run k-fold validation with ensemble model\n",
    "        print(\"\\n---- K-Fold with Ensemble Model ----\")\n",
    "        cv_metrics_ensemble, _ = cross_validate_model(\n",
    "            combined_data, \n",
    "            column_indices, \n",
    "            kfold_config, \n",
    "            n_folds=3,  # Fewer folds for ensemble to save time\n",
    "            model_type=\"ensemble\"\n",
    "        )\n",
    "        \n",
    "        # Save cross-validation results\n",
    "        cv_results_path = os.path.join(save_dir, \"cv_results.txt\")\n",
    "        with open(cv_results_path, \"w\") as f:\n",
    "            f.write(\"Single Model Cross-Validation Results:\\n\")\n",
    "            f.write(f\"  NRMSE: {cv_metrics_single['nrmse']:.4f} ± {cv_metrics_single['nrmse_std']:.4f}\\n\")\n",
    "            f.write(f\"  MCAR NRMSE: {cv_metrics_single['mcar_nrmse']:.4f} ± {cv_metrics_single['mcar_nrmse_std']:.4f}\\n\")\n",
    "            f.write(f\"  MAR NRMSE: {cv_metrics_single['mar_nrmse']:.4f} ± {cv_metrics_single['mar_nrmse_std']:.4f}\\n\")\n",
    "            f.write(f\"  MNAR NRMSE: {cv_metrics_single['mnar_nrmse']:.4f} ± {cv_metrics_single['mnar_nrmse_std']:.4f}\\n\\n\")\n",
    "            \n",
    "            f.write(\"Ensemble Model Cross-Validation Results:\\n\")\n",
    "            f.write(f\"  NRMSE: {cv_metrics_ensemble['nrmse']:.4f} ± {cv_metrics_ensemble['nrmse_std']:.4f}\\n\")\n",
    "            f.write(f\"  MCAR NRMSE: {cv_metrics_ensemble['mcar_nrmse']:.4f} ± {cv_metrics_ensemble['mcar_nrmse_std']:.4f}\\n\")\n",
    "            f.write(f\"  MAR NRMSE: {cv_metrics_ensemble['mar_nrmse']:.4f} ± {cv_metrics_ensemble['mar_nrmse_std']:.4f}\\n\")\n",
    "            f.write(f\"  MNAR NRMSE: {cv_metrics_ensemble['mnar_nrmse']:.4f} ± {cv_metrics_ensemble['mnar_nrmse_std']:.4f}\\n\")\n",
    "    \n",
    "    # Choose model type based on cross-validation results (if performed)\n",
    "    if RUN_KFOLD and cv_metrics_ensemble['nrmse'] < cv_metrics_single['nrmse']:\n",
    "        print(\"\\nEnsemble model performed better in cross-validation. Using ensemble for final model.\")\n",
    "        final_model_type = \"ensemble\"\n",
    "    else:\n",
    "        print(\"\\nUsing single model for final training.\")\n",
    "        final_model_type = \"single\"\n",
    "    \n",
    "    # Train final model on the entire training set\n",
    "    print(\"\\n=== Training Final Model ===\")\n",
    "    model, history = train_model(train_data, val_data, column_indices, config, model_type=final_model_type)\n",
    "    \n",
    "    # Plot training history\n",
    "    plot_training_history(history, os.path.join(save_dir, \"training_history.png\"))\n",
    "    \n",
    "\n",
    "    # Evaluate on test set\n",
    "    print(\"\\n=== Evaluating on Test Set ===\")\n",
    "    test_dataloader = DataLoader(TensorDataset(test_data), batch_size=config[\"batch_size\"])\n",
    "    test_metrics = validate(model, test_dataloader, config[\"missing_fraction\"], [\"MCAR\", \"MAR\", \"MNAR\"])\n",
    "    \n",
    "    print(f\"Test metrics:\")\n",
    "    print(f\"  Overall NRMSE: {test_metrics['nrmse']:.4f}\")\n",
    "    print(f\"  MCAR NRMSE: {test_metrics['mechanisms']['MCAR']['nrmse']:.4f}\")\n",
    "    print(f\"  MAR NRMSE: {test_metrics['mechanisms']['MAR']['nrmse']:.4f}\")\n",
    "    print(f\"  MNAR NRMSE: {test_metrics['mechanisms']['MNAR']['nrmse']:.4f}\")\n",
    "    \n",
    "    \n",
    "    \n",
    "    # Save test results\n",
    "    test_results_path = os.path.join(save_dir, \"test_results.txt\")\n",
    "    with open(test_results_path, \"w\") as f:\n",
    "        f.write(\"Test Results:\\n\")\n",
    "        f.write(f\"  Overall NRMSE: {test_metrics['nrmse']:.4f}\\n\")\n",
    "        f.write(f\"  MCAR NRMSE: {test_metrics['mechanisms']['MCAR']['nrmse']:.4f}\\n\")\n",
    "        f.write(f\"  MAR NRMSE: {test_metrics['mechanisms']['MAR']['nrmse']:.4f}\\n\")\n",
    "        f.write(f\"  MNAR NRMSE: {test_metrics['mechanisms']['MNAR']['nrmse']:.4f}\\n\")\n",
    "    \n",
    "    # Save models\n",
    "    print(f\"\\n=== Saving Models ===\")\n",
    "    \n",
    "    # Save final model\n",
    "    model_save_path = os.path.join(save_dir, \"final_model.pth\")\n",
    "    torch.save({\n",
    "        \"model_state_dict\": model.state_dict(),\n",
    "        \"config\": config,\n",
    "        \"model_type\": final_model_type\n",
    "    }, model_save_path)\n",
    "    \n",
    "    # Save scaler\n",
    "    scaler_path = os.path.join(save_dir, \"scaler.pkl\")\n",
    "    with open(scaler_path, \"wb\") as f:\n",
    "        pickle.dump(scaler, f)\n",
    "    \n",
    "    # Update experiment log\n",
    "    with open(experiment_log, \"a\") as f:\n",
    "        f.write(\"\\nFinal Test Results:\\n\")\n",
    "        f.write(f\"  Overall NRMSE: {test_metrics['nrmse']:.4f}\\n\")\n",
    "        f.write(f\"  MCAR NRMSE: {test_metrics['mechanisms']['MCAR']['nrmse']:.4f}\\n\")\n",
    "        f.write(f\"  MAR NRMSE: {test_metrics['mechanisms']['MAR']['nrmse']:.4f}\\n\")\n",
    "        f.write(f\"  MNAR NRMSE: {test_metrics['mechanisms']['MNAR']['nrmse']:.4f}\\n\")\n",
    "        \n",
    "        f.write(f\"\\nExperiment completed at: {datetime.now().strftime('%Y-%m-%d_%H-%M-%S')}\")\n",
    "\n",
    "    print(f\"Training complete! All models and results saved in: {save_dir}\")\n",
    "\n"
   ]
  },
  {
   "cell_type": "markdown",
   "metadata": {},
   "source": [
    "## Model testing"
   ]
  },
  {
   "cell_type": "code",
   "execution_count": 26,
   "metadata": {},
   "outputs": [],
   "source": [
    "def evaluate_imputation_performance(model, test_data, column_indices, missing_percentages=[0.1, 0.2, 0.3, 0.4, 0.5], \n",
    "                                    mechanisms=[\"MCAR\", \"MAR\", \"MNAR\"]):\n",
    "    \"\"\"\n",
    "    Evaluate the model's imputation performance across different missing percentages and mechanisms.\n",
    "    \n",
    "    Args:\n",
    "        model (nn.Module): Trained model\n",
    "        test_data (torch.Tensor): Test data tensor\n",
    "        column_indices (torch.Tensor): Column indices\n",
    "        missing_percentages (list): List of missing data percentages to evaluate\n",
    "        mechanisms (list): List of missing data mechanisms to evaluate\n",
    "        \n",
    "    Returns:\n",
    "        pd.DataFrame: DataFrame with NRMSE results for each mechanism and percentage\n",
    "    \"\"\"\n",
    "    model.eval()\n",
    "    results = {}\n",
    "    \n",
    "    with torch.no_grad():\n",
    "        for mechanism in mechanisms:\n",
    "            mechanism_results = []\n",
    "            \n",
    "            for missing_pct in missing_percentages:\n",
    "                batch_size = 128\n",
    "                total_nrmse = 0\n",
    "                num_batches = 0\n",
    "                \n",
    "                # Create DataLoader for test data\n",
    "                test_dataloader = DataLoader(TensorDataset(test_data), batch_size=batch_size)\n",
    "                \n",
    "                for batch in tqdm(test_dataloader, desc=f\"Evaluating {mechanism} at {missing_pct*100}%\"):\n",
    "                    x = batch[0].to(device)\n",
    "                    \n",
    "                    # Create a mask for missing values\n",
    "                    mask = create_missing_mask(x, missing_pct, mechanism)\n",
    "                    \n",
    "                    # Create input with missing values set to 0\n",
    "                    x_masked = x.clone()\n",
    "                    x_masked[mask == 1] = 0\n",
    "                    \n",
    "                    # Forward pass\n",
    "                    predictions = model(x_masked, column_indices, mask)\n",
    "                    \n",
    "                    # Compute NRMSE\n",
    "                    nrmse = compute_nrmse(predictions, x, mask)\n",
    "                    total_nrmse += nrmse\n",
    "                    num_batches += 1\n",
    "                \n",
    "                avg_nrmse = total_nrmse / num_batches\n",
    "                mechanism_results.append(avg_nrmse)\n",
    "                print(f\"{mechanism} at {missing_pct*100}% missing: NRMSE = {avg_nrmse:.4f}\")\n",
    "            \n",
    "            results[mechanism] = mechanism_results\n",
    "    \n",
    "    # Create a DataFrame for visualization\n",
    "    results_df = pd.DataFrame(results, index=[f\"{int(pct*100)}%\" for pct in missing_percentages])\n",
    "    results_df.index.name = \"Missing Percentage\"\n",
    "    \n",
    "    return results_df"
   ]
  },
  {
   "cell_type": "code",
   "execution_count": 27,
   "metadata": {},
   "outputs": [],
   "source": [
    "def visualize_imputation_performance(results_df, save_path=None):\n",
    "    \"\"\"\n",
    "    Create visualizations for imputation performance.\n",
    "    \n",
    "    Args:\n",
    "        results_df (pd.DataFrame): DataFrame with NRMSE results\n",
    "        save_path (str, optional): Path to save the figures\n",
    "    \"\"\"\n",
    "    # 1. Create a heatmap visualization\n",
    "    plt.figure(figsize=(10, 6))\n",
    "    \n",
    "    # Create a heatmap with custom colormap (lower values = better = greener)\n",
    "    sns.heatmap(results_df, annot=True, cmap=\"RdYlGn_r\", fmt=\".4f\", \n",
    "                linewidths=.5, cbar_kws={'label': 'NRMSE (lower is better)'})\n",
    "    \n",
    "    plt.title(\"Imputation Performance (NRMSE) by Missing Mechanism and Percentage\")\n",
    "    plt.tight_layout()\n",
    "    \n",
    "    if save_path:\n",
    "        heatmap_path = save_path.replace(\".png\", \"_heatmap.png\")\n",
    "        plt.savefig(heatmap_path)\n",
    "        print(f\"Heatmap saved to {heatmap_path}\")\n",
    "    \n",
    "    plt.show()\n",
    "    \n",
    "    # 2. Create a line plot\n",
    "    plt.figure(figsize=(12, 6))\n",
    "    \n",
    "    # Convert index to numeric for plotting\n",
    "    results_df_plot = results_df.copy()\n",
    "    results_df_plot.index = [int(idx.replace(\"%\", \"\")) for idx in results_df_plot.index]\n",
    "    \n",
    "    # Plot lines for each mechanism\n",
    "    for column in results_df_plot.columns:\n",
    "        plt.plot(results_df_plot.index, results_df_plot[column], marker='o', linewidth=2, label=column)\n",
    "    \n",
    "    plt.xlabel(\"Missing Percentage (%)\")\n",
    "    plt.ylabel(\"NRMSE (lower is better)\")\n",
    "    plt.title(\"Imputation Performance Across Missing Percentages\")\n",
    "    plt.grid(True, linestyle='--', alpha=0.7)\n",
    "    plt.legend()\n",
    "    plt.xticks(results_df_plot.index)\n",
    "    \n",
    "    if save_path:\n",
    "        line_path = save_path.replace(\".png\", \"_lineplot.png\")\n",
    "        plt.savefig(line_path)\n",
    "        print(f\"Line plot saved to {line_path}\")\n",
    "    \n",
    "    plt.show()\n",
    "    \n",
    "    # 3. Create a bar chart comparison\n",
    "    plt.figure(figsize=(12, 6))\n",
    "    \n",
    "    # Plot grouped bars\n",
    "    bar_width = 0.25\n",
    "    r = np.arange(len(results_df_plot.index))\n",
    "    \n",
    "    # Plot bars for each mechanism\n",
    "    for i, column in enumerate(results_df_plot.columns):\n",
    "        plt.bar(r + i*bar_width, results_df_plot[column], width=bar_width, label=column)\n",
    "    \n",
    "    # Add labels and legend\n",
    "    plt.xlabel(\"Missing Percentage (%)\")\n",
    "    plt.ylabel(\"NRMSE (lower is better)\")\n",
    "    plt.title(\"Imputation Performance by Missing Mechanism and Percentage\")\n",
    "    plt.xticks(r + bar_width, results_df_plot.index)\n",
    "    plt.legend()\n",
    "    \n",
    "    if save_path:\n",
    "        bar_path = save_path.replace(\".png\", \"_barchart.png\")\n",
    "        plt.savefig(bar_path)\n",
    "        print(f\"Bar chart saved to {bar_path}\")\n",
    "    \n",
    "    plt.show()\n",
    "    \n",
    "    # 4. Create a table visualization\n",
    "    fig, ax = plt.subplots(figsize=(10, 3))\n",
    "    ax.axis('off')\n",
    "    ax.axis('tight')\n",
    "    \n",
    "    # Create a table with colored cells based on values\n",
    "    # First, normalize the data for coloring\n",
    "    norm_data = results_df.copy()\n",
    "    for col in norm_data.columns:\n",
    "        max_val = norm_data[col].max()\n",
    "        min_val = norm_data[col].min()\n",
    "        if max_val > min_val:\n",
    "            norm_data[col] = (norm_data[col] - min_val) / (max_val - min_val)\n",
    "        else:\n",
    "            norm_data[col] = 0\n",
    "    \n",
    "    # Create a table with cell colors\n",
    "    cell_colors = plt.cm.RdYlGn_r(norm_data.values)\n",
    "    table = ax.table(cellText=results_df.values.round(4), \n",
    "                    rowLabels=results_df.index,\n",
    "                    colLabels=results_df.columns,\n",
    "                    cellColours=cell_colors,\n",
    "                    loc='center')\n",
    "    \n",
    "    table.auto_set_font_size(False)\n",
    "    table.set_fontsize(12)\n",
    "    table.scale(1.2, 1.5)\n",
    "    \n",
    "    plt.title(\"NRMSE Values by Missing Mechanism and Percentage\", y=0.8)\n",
    "    \n",
    "    if save_path:\n",
    "        table_path = save_path.replace(\".png\", \"_table.png\")\n",
    "        plt.savefig(table_path, bbox_inches='tight')\n",
    "        print(f\"Table visualization saved to {table_path}\")\n",
    "    \n",
    "    plt.show()\n",
    "    \n",
    "    return results_df"
   ]
  },
  {
   "cell_type": "code",
   "execution_count": 28,
   "metadata": {},
   "outputs": [
    {
     "name": "stdout",
     "output_type": "stream",
     "text": [
      "\n",
      "=== Evaluating Imputation Performance Across Missing Percentages ===\n"
     ]
    },
    {
     "name": "stderr",
     "output_type": "stream",
     "text": [
      "Evaluating MCAR at 10.0%: 100%|██████████| 4/4 [00:00<00:00, 33.90it/s]\n"
     ]
    },
    {
     "name": "stdout",
     "output_type": "stream",
     "text": [
      "MCAR at 10.0% missing: NRMSE = 0.0511\n"
     ]
    },
    {
     "name": "stderr",
     "output_type": "stream",
     "text": [
      "Evaluating MCAR at 20.0%: 100%|██████████| 4/4 [00:00<00:00, 34.51it/s]\n"
     ]
    },
    {
     "name": "stdout",
     "output_type": "stream",
     "text": [
      "MCAR at 20.0% missing: NRMSE = 0.0493\n"
     ]
    },
    {
     "name": "stderr",
     "output_type": "stream",
     "text": [
      "Evaluating MCAR at 30.0%: 100%|██████████| 4/4 [00:00<00:00, 34.26it/s]\n"
     ]
    },
    {
     "name": "stdout",
     "output_type": "stream",
     "text": [
      "MCAR at 30.0% missing: NRMSE = 0.0510\n"
     ]
    },
    {
     "name": "stderr",
     "output_type": "stream",
     "text": [
      "Evaluating MCAR at 40.0%: 100%|██████████| 4/4 [00:00<00:00, 34.64it/s]\n"
     ]
    },
    {
     "name": "stdout",
     "output_type": "stream",
     "text": [
      "MCAR at 40.0% missing: NRMSE = 0.0530\n"
     ]
    },
    {
     "name": "stderr",
     "output_type": "stream",
     "text": [
      "Evaluating MCAR at 50.0%: 100%|██████████| 4/4 [00:00<00:00, 34.45it/s]\n"
     ]
    },
    {
     "name": "stdout",
     "output_type": "stream",
     "text": [
      "MCAR at 50.0% missing: NRMSE = 0.0497\n"
     ]
    },
    {
     "name": "stderr",
     "output_type": "stream",
     "text": [
      "Evaluating MAR at 10.0%: 100%|██████████| 4/4 [00:00<00:00, 23.20it/s]\n"
     ]
    },
    {
     "name": "stdout",
     "output_type": "stream",
     "text": [
      "MAR at 10.0% missing: NRMSE = 0.0377\n"
     ]
    },
    {
     "name": "stderr",
     "output_type": "stream",
     "text": [
      "Evaluating MAR at 20.0%: 100%|██████████| 4/4 [00:00<00:00, 22.51it/s]\n"
     ]
    },
    {
     "name": "stdout",
     "output_type": "stream",
     "text": [
      "MAR at 20.0% missing: NRMSE = 0.0580\n"
     ]
    },
    {
     "name": "stderr",
     "output_type": "stream",
     "text": [
      "Evaluating MAR at 30.0%: 100%|██████████| 4/4 [00:00<00:00, 22.76it/s]\n"
     ]
    },
    {
     "name": "stdout",
     "output_type": "stream",
     "text": [
      "MAR at 30.0% missing: NRMSE = 0.0522\n"
     ]
    },
    {
     "name": "stderr",
     "output_type": "stream",
     "text": [
      "Evaluating MAR at 40.0%: 100%|██████████| 4/4 [00:00<00:00, 23.24it/s]\n"
     ]
    },
    {
     "name": "stdout",
     "output_type": "stream",
     "text": [
      "MAR at 40.0% missing: NRMSE = 0.0561\n"
     ]
    },
    {
     "name": "stderr",
     "output_type": "stream",
     "text": [
      "Evaluating MAR at 50.0%: 100%|██████████| 4/4 [00:00<00:00, 22.33it/s]\n"
     ]
    },
    {
     "name": "stdout",
     "output_type": "stream",
     "text": [
      "MAR at 50.0% missing: NRMSE = 0.0517\n"
     ]
    },
    {
     "name": "stderr",
     "output_type": "stream",
     "text": [
      "Evaluating MNAR at 10.0%: 100%|██████████| 4/4 [00:00<00:00, 23.41it/s]\n"
     ]
    },
    {
     "name": "stdout",
     "output_type": "stream",
     "text": [
      "MNAR at 10.0% missing: NRMSE = 0.0711\n"
     ]
    },
    {
     "name": "stderr",
     "output_type": "stream",
     "text": [
      "Evaluating MNAR at 20.0%: 100%|██████████| 4/4 [00:00<00:00, 23.26it/s]\n"
     ]
    },
    {
     "name": "stdout",
     "output_type": "stream",
     "text": [
      "MNAR at 20.0% missing: NRMSE = 0.0755\n"
     ]
    },
    {
     "name": "stderr",
     "output_type": "stream",
     "text": [
      "Evaluating MNAR at 30.0%: 100%|██████████| 4/4 [00:00<00:00, 22.73it/s]\n"
     ]
    },
    {
     "name": "stdout",
     "output_type": "stream",
     "text": [
      "MNAR at 30.0% missing: NRMSE = 0.0666\n"
     ]
    },
    {
     "name": "stderr",
     "output_type": "stream",
     "text": [
      "Evaluating MNAR at 40.0%: 100%|██████████| 4/4 [00:00<00:00, 22.09it/s]\n"
     ]
    },
    {
     "name": "stdout",
     "output_type": "stream",
     "text": [
      "MNAR at 40.0% missing: NRMSE = 0.0627\n"
     ]
    },
    {
     "name": "stderr",
     "output_type": "stream",
     "text": [
      "Evaluating MNAR at 50.0%: 100%|██████████| 4/4 [00:00<00:00, 23.36it/s]\n"
     ]
    },
    {
     "name": "stdout",
     "output_type": "stream",
     "text": [
      "MNAR at 50.0% missing: NRMSE = 0.0585\n",
      "Raw imputation results saved to models\\2025-04-15_21-33-10_model-ensemble+5Fold\\imputation_performance\\imputation_results.csv\n",
      "Heatmap saved to models\\2025-04-15_21-33-10_model-ensemble+5Fold\\imputation_performance\\imputation_performance_heatmap.png\n"
     ]
    },
    {
     "data": {
      "image/png": "[encoded data removed]",
      "text/plain": [
       "<Figure size 1000x600 with 2 Axes>"
      ]
     },
     "metadata": {},
     "output_type": "display_data"
    },
    {
     "name": "stdout",
     "output_type": "stream",
     "text": [
      "Line plot saved to models\\2025-04-15_21-33-10_model-ensemble+5Fold\\imputation_performance\\imputation_performance_lineplot.png\n"
     ]
    },
    {
     "data": {
      "image/png": "[encoded data removed]",
      "text/plain": [
       "<Figure size 1200x600 with 1 Axes>"
      ]
     },
     "metadata": {},
     "output_type": "display_data"
    },
    {
     "name": "stdout",
     "output_type": "stream",
     "text": [
      "Bar chart saved to models\\2025-04-15_21-33-10_model-ensemble+5Fold\\imputation_performance\\imputation_performance_barchart.png\n"
     ]
    },
    {
     "data": {
      "image/png": "[encoded data removed]",
      "text/plain": [
       "<Figure size 1200x600 with 1 Axes>"
      ]
     },
     "metadata": {},
     "output_type": "display_data"
    },
    {
     "name": "stdout",
     "output_type": "stream",
     "text": [
      "Table visualization saved to models\\2025-04-15_21-33-10_model-ensemble+5Fold\\imputation_performance\\imputation_performance_table.png\n"
     ]
    },
    {
     "data": {
      "image/png": "[encoded data removed]",
      "text/plain": [
       "<Figure size 1000x300 with 1 Axes>"
      ]
     },
     "metadata": {},
     "output_type": "display_data"
    },
    {
     "name": "stdout",
     "output_type": "stream",
     "text": [
      "\n",
      "Imputation performance evaluation complete!\n"
     ]
    }
   ],
   "source": [
    "if __name__ == \"__main__\":\n",
    "    # Create a section for imputation performance evaluation\n",
    "    print(\"\\n=== Evaluating Imputation Performance Across Missing Percentages ===\")\n",
    "    \n",
    "    # Define the missing percentages to evaluate\n",
    "    missing_percentages = [0.1, 0.2, 0.3, 0.4, 0.5]\n",
    "    mechanisms = [\"MCAR\", \"MAR\", \"MNAR\"]\n",
    "    \n",
    "    # Create a directory for imputation performance visualizations\n",
    "    imputation_dir = os.path.join(save_dir, \"imputation_performance\")\n",
    "    os.makedirs(imputation_dir, exist_ok=True)\n",
    "    \n",
    "    # Evaluate imputation performance\n",
    "    results_df = evaluate_imputation_performance(\n",
    "        model,                    # Use the final trained model\n",
    "        test_data,                # Test data\n",
    "        column_indices,           # Column indices\n",
    "        missing_percentages,      # Missing percentages\n",
    "        mechanisms                # Missing mechanisms\n",
    "    )\n",
    "    \n",
    "    # Save the raw results to CSV\n",
    "    results_csv_path = os.path.join(imputation_dir, \"imputation_results.csv\")\n",
    "    results_df.to_csv(results_csv_path)\n",
    "    print(f\"Raw imputation results saved to {results_csv_path}\")\n",
    "    \n",
    "    # Create and save visualizations\n",
    "    visualize_imputation_performance(\n",
    "        results_df,\n",
    "        save_path=os.path.join(imputation_dir, \"imputation_performance.png\")\n",
    "    )\n",
    "        \n",
    "    print(\"\\nImputation performance evaluation complete!\")"
   ]
  },
  {
   "cell_type": "markdown",
   "metadata": {},
   "source": [
    "## Impute the original dataset"
   ]
  },
  {
   "cell_type": "code",
   "execution_count": 29,
   "metadata": {},
   "outputs": [],
   "source": [
    "def impute_original_dataset(trained_model, scaler, save_path=\"imputed_original.csv\"):\n",
    "    \"\"\"\n",
    "    Load the original CSV dataset, impute missing values using the pre-trained transformer model,\n",
    "    and save the imputed dataset.\n",
    "    \n",
    "    Args:\n",
    "        trained_model: The pre-trained imputation model\n",
    "        scaler: The fitted scaler used during model training\n",
    "        save_path: Path to save the imputed dataset\n",
    "    \"\"\"\n",
    "    print(\"\\n=== Imputing Original Dataset ===\")\n",
    "    \n",
    "    # Set model to evaluation mode\n",
    "    trained_model.eval()\n",
    "    \n",
    "    # File path\n",
    "    original_file_path = \"./data/physionet_39_features_only_no_leakage.csv\"\n",
    "    \n",
    "    # Load the original dataset\n",
    "    print(f\"Loading original dataset from {original_file_path}...\")\n",
    "    df_original = pd.read_csv(original_file_path, index_col=None)\n",
    "    print(f\"Original dataset shape: {df_original.shape}\")\n",
    "    \n",
    "    # Check for missing values\n",
    "    missing_count = df_original.isna().sum().sum()\n",
    "    missing_percentage = (missing_count / (df_original.shape[0] * df_original.shape[1])) * 100\n",
    "    print(f\"Dataset contains {missing_count} missing values ({missing_percentage:.2f}% of all values)\")\n",
    "    \n",
    "    # Create a copy of the original dataset for imputation\n",
    "    df_imputed = df_original.copy()\n",
    "    \n",
    "    # Extract numerical columns for imputation\n",
    "    numerical_cols = df_original.select_dtypes(include=['number']).columns\n",
    "    print(f\"Found {len(numerical_cols)} numerical columns\")\n",
    "    \n",
    "    # Create mask for missing values (True where values are missing)\n",
    "    missing_mask = df_original[numerical_cols].isna()\n",
    "    \n",
    "    # Fill missing values with 0 for initial processing\n",
    "    df_filled = df_original[numerical_cols].fillna(0)\n",
    "    \n",
    "    # Scale the data using the provided scaler\n",
    "    data_scaled = scaler.transform(df_filled)\n",
    "    \n",
    "    # Convert to PyTorch tensor\n",
    "    data_tensor = torch.tensor(data_scaled, dtype=torch.float32).to(device)\n",
    "    \n",
    "    # Create column indices tensor\n",
    "    column_indices = torch.arange(data_tensor.shape[1]).to(device)\n",
    "    \n",
    "    # Create mask tensor (1 where values are missing, 0 otherwise)\n",
    "    mask_tensor = torch.tensor(missing_mask.values, dtype=torch.int).to(device)\n",
    "    \n",
    "    print(\"Performing imputation with trained model...\")\n",
    "    \n",
    "    with torch.no_grad():\n",
    "        # Get predictions from the model\n",
    "        imputed_tensor = trained_model(data_tensor, column_indices, mask_tensor)\n",
    "        \n",
    "        # Convert to numpy for processing\n",
    "        imputed_np = imputed_tensor.cpu().numpy()\n",
    "        \n",
    "        # Inverse transform to original scale\n",
    "        imputed_np = scaler.inverse_transform(imputed_np)\n",
    "        \n",
    "        # Create a DataFrame from the imputed values\n",
    "        imputed_df = pd.DataFrame(imputed_np, columns=numerical_cols, index=df_original.index)\n",
    "        \n",
    "        # Replace missing values in the original dataframe with imputed values\n",
    "        for col in numerical_cols:\n",
    "            if col in df_imputed.columns:\n",
    "                missing_idx = df_imputed[col].isna()\n",
    "                df_imputed.loc[missing_idx, col] = imputed_df.loc[missing_idx, col]\n",
    "    \n",
    "    # Save the imputed dataset\n",
    "    print(f\"Saving imputed dataset to {save_path}...\")\n",
    "    df_imputed.to_csv(save_path)\n",
    "    \n",
    "    # Verification\n",
    "    missing_after = df_imputed[numerical_cols].isna().sum().sum()\n",
    "    print(f\"Missing values in numerical columns after imputation: {missing_after}\")\n",
    "    \n",
    "    total_missing_after = df_imputed.isna().sum().sum()\n",
    "    if total_missing_after > 0:\n",
    "        print(f\"Total missing values after imputation: {total_missing_after}\")\n",
    "        print(\"Note: Non-numerical columns may still contain missing values\")\n",
    "    else:\n",
    "        print(\"All missing values have been successfully imputed\")\n",
    "    \n",
    "    print(\"Imputation complete!\")\n",
    "    \n",
    "    return df_imputed"
   ]
  },
  {
   "cell_type": "code",
   "execution_count": null,
   "metadata": {},
   "outputs": [
    {
     "name": "stdout",
     "output_type": "stream",
     "text": [
      "\n",
      "=== Running Imputation on Original Dataset ===\n",
      "\n",
      "=== Imputing Original Dataset ===\n",
      "Loading original dataset from ./data/physionet_39_features_only_no_leakage.csv...\n",
      "Original dataset shape: (2008, 39)\n",
      "Dataset contains 3063 missing values (3.91% of all values)\n",
      "Found 39 numerical columns\n",
      "Performing imputation with trained model...\n"
     ]
    },
    {
     "name": "stderr",
     "output_type": "stream",
     "text": [
      "c:\\Users\\wh1sper\\AppData\\Local\\Programs\\Python\\Python313\\Lib\\site-packages\\sklearn\\utils\\validation.py:2732: UserWarning: X has feature names, but StandardScaler was fitted without feature names\n",
      "  warnings.warn(\n"
     ]
    },
    {
     "name": "stdout",
     "output_type": "stream",
     "text": [
      "Saving imputed dataset to imputed_original.csv...\n",
      "Missing values in numerical columns after imputation: 0\n",
      "All missing values have been successfully imputed\n",
      "Imputation complete!\n",
      "\n",
      "Sample of imputed data:\n",
      "   verbal.response  eye.opening  movement  GCS  lactate.dehydrogenase  \\\n",
      "0                5            4         6   15             294.000000   \n",
      "1                5            4         6   15             203.000000   \n",
      "2                5            4         6   15             137.000000   \n",
      "3                5            4         6   15             361.316101   \n",
      "4                5            4         6   15             295.000000   \n",
      "\n",
      "   glutamic.oxaloacetic.transaminase  globulin  total.bilirubin  \\\n",
      "0                          81.000000      23.8             18.3   \n",
      "1                          21.000000      25.4             18.3   \n",
      "2                           9.000000      27.7             11.9   \n",
      "3                         166.699936      27.0             51.6   \n",
      "4                          30.000000      29.6             11.8   \n",
      "\n",
      "   direct.bilirubin  indirect.bilirubin  ...  platelet.hematocrit  \\\n",
      "0               6.9                11.4  ...                0.142   \n",
      "1               5.2                13.1  ...                0.139   \n",
      "2               4.4                 7.5  ...                0.203   \n",
      "3              25.4                26.2  ...                0.032   \n",
      "4               4.9                 6.9  ...                0.131   \n",
      "\n",
      "   eosinophil.ratio  eosinophil.count  basophil.ratio  basophil.count  \\\n",
      "0             0.002              0.02           0.006            0.05   \n",
      "1             0.009              0.05           0.002            0.01   \n",
      "2             0.002              0.02           0.002            0.03   \n",
      "3             0.028              0.06           0.000            0.00   \n",
      "4             0.008              0.05           0.002            0.01   \n",
      "\n",
      "   creatinine.enzymatic.method  cystatin  sodium  chloride  \\\n",
      "0                        108.3      1.32   134.6     101.9   \n",
      "1                         62.0      1.25   144.0     105.6   \n",
      "2                        185.1      2.43   142.2     107.0   \n",
      "3                        104.8      2.32   136.3     101.6   \n",
      "4                         83.9      1.35   136.6     104.3   \n",
      "\n",
      "   systolic.blood.pressure  \n",
      "0                      102  \n",
      "1                      150  \n",
      "2                      102  \n",
      "3                      110  \n",
      "4                      134  \n",
      "\n",
      "[5 rows x 39 columns]\n"
     ]
    },
    {
     "ename": "",
     "evalue": "",
     "output_type": "error",
     "traceback": [
      "\u001b[1;31mThe Kernel crashed while executing code in the current cell or a previous cell. \n",
      "\u001b[1;31mPlease review the code in the cell(s) to identify a possible cause of the failure. \n",
      "\u001b[1;31mClick <a href='https://aka.ms/vscodeJupyterKernelCrash'>here</a> for more info. \n",
      "\u001b[1;31mView Jupyter <a href='command:jupyter.viewOutput'>log</a> for further details."
     ]
    }
   ],
   "source": [
    "# Execute the imputation process\n",
    "if __name__ == \"__main__\":\n",
    "    print(\"\\n=== Running Imputation on Original Dataset ===\")\n",
    "    \n",
    "    # Use the already trained model\n",
    "    # Assuming 'model' and 'scaler' are the trained model and scaler from earlier in the notebook\n",
    "    imputed_data = impute_original_dataset(model, scaler, \"imputed_original.csv\")\n",
    "    \n",
    "    # Display sample of the imputed data\n",
    "    print(\"\\nSample of imputed data:\")\n",
    "    print(imputed_data.head())"
   ]
  },
  {
   "cell_type": "code",
   "execution_count": null,
   "metadata": {},
   "outputs": [],
   "source": []
  }
 ],
 "metadata": {
  "kernelspec": {
   "display_name": "Python 3",
   "language": "python",
   "name": "python3"
  },
  "language_info": {
   "codemirror_mode": {
    "name": "ipython",
    "version": 3
   },
   "file_extension": ".py",
   "mimetype": "text/x-python",
   "name": "python",
   "nbconvert_exporter": "python",
   "pygments_lexer": "ipython3",
   "version": "3.13.2"
  }
 },
 "nbformat": 4,
 "nbformat_minor": 2
}
